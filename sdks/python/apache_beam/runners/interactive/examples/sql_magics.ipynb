{
 "cells": [
  {
   "cell_type": "code",
   "execution_count": 1,
   "id": "precise-disaster",
   "metadata": {},
   "outputs": [],
   "source": [
    "%load_ext apache_beam.runners.interactive.sql.beam_sql_magics\n",
    "\n",
    "import logging\n",
    "logging.root.setLevel(logging.ERROR)\n",
    "\n",
    "import names\n",
    "import typing\n",
    "\n",
    "import apache_beam as beam\n",
    "\n",
    "from apache_beam.runners.interactive import interactive_beam as ib\n",
    "from apache_beam.runners.interactive import interactive_runner as ir\n",
    "from apache_beam.runners import pipeline_context\n",
    "from apache_beam.transforms.sql import SqlTransform"
   ]
  },
  {
   "cell_type": "code",
   "execution_count": 2,
   "id": "technical-wisdom",
   "metadata": {},
   "outputs": [
    {
     "data": {
      "application/javascript": [
       "\n",
       "        if (typeof window.interactive_beam_jquery == 'undefined') {\n",
       "          var jqueryScript = document.createElement('script');\n",
       "          jqueryScript.src = 'https://code.jquery.com/jquery-3.4.1.slim.min.js';\n",
       "          jqueryScript.type = 'text/javascript';\n",
       "          jqueryScript.onload = function() {\n",
       "            var datatableScript = document.createElement('script');\n",
       "            datatableScript.src = 'https://cdn.datatables.net/1.10.20/js/jquery.dataTables.min.js';\n",
       "            datatableScript.type = 'text/javascript';\n",
       "            datatableScript.onload = function() {\n",
       "              window.interactive_beam_jquery = jQuery.noConflict(true);\n",
       "              window.interactive_beam_jquery(document).ready(function($){\n",
       "                \n",
       "              });\n",
       "            }\n",
       "            document.head.appendChild(datatableScript);\n",
       "          };\n",
       "          document.head.appendChild(jqueryScript);\n",
       "        } else {\n",
       "          window.interactive_beam_jquery(document).ready(function($){\n",
       "            \n",
       "          });\n",
       "        }"
      ]
     },
     "metadata": {},
     "output_type": "display_data"
    }
   ],
   "source": [
    "p = beam.Pipeline(ir.InteractiveRunner())\n",
    "users = (p | beam.Create(range(10))\n",
    "           | beam.Map(lambda x: beam.Row(number=x)))\n",
    "           #| beam.Map(lambda x: beam.Row(number=x, name=names.get_full_name()))) "
   ]
  },
  {
   "cell_type": "code",
   "execution_count": 3,
   "id": "marine-replacement",
   "metadata": {},
   "outputs": [
    {
     "data": {
      "text/plain": [
       "Row(number=int)"
      ]
     },
     "execution_count": 3,
     "metadata": {},
     "output_type": "execute_result"
    }
   ],
   "source": [
    "users.element_type"
   ]
  },
  {
   "cell_type": "code",
   "execution_count": 4,
   "id": "american-circumstances",
   "metadata": {},
   "outputs": [],
   "source": [
    "_ = users | beam.Map(lambda x: print(type(x)))"
   ]
  },
  {
   "cell_type": "code",
   "execution_count": 5,
   "id": "australian-california",
   "metadata": {},
   "outputs": [
    {
     "name": "stdout",
     "output_type": "stream",
     "text": [
      "<class 'apache_beam.pvalue.Row'>\n",
      "<class 'apache_beam.pvalue.Row'>\n",
      "<class 'apache_beam.pvalue.Row'>\n",
      "<class 'apache_beam.pvalue.Row'>\n",
      "<class 'apache_beam.pvalue.Row'>\n",
      "<class 'apache_beam.pvalue.Row'>\n",
      "<class 'apache_beam.pvalue.Row'>\n",
      "<class 'apache_beam.pvalue.Row'>\n",
      "<class 'apache_beam.pvalue.Row'>\n",
      "<class 'apache_beam.pvalue.Row'>\n"
     ]
    },
    {
     "data": {
      "text/plain": [
       "<apache_beam.runners.interactive.interactive_runner.PipelineResult at 0x12471c970>"
      ]
     },
     "execution_count": 5,
     "metadata": {},
     "output_type": "execute_result"
    }
   ],
   "source": [
    "p.run()"
   ]
  },
  {
   "cell_type": "code",
   "execution_count": 6,
   "id": "royal-process",
   "metadata": {},
   "outputs": [
    {
     "data": {
      "text/html": [
       "\n",
       "            <link rel=\"stylesheet\" href=\"https://stackpath.bootstrapcdn.com/bootstrap/4.4.1/css/bootstrap.min.css\" integrity=\"sha384-Vkoo8x4CGsO3+Hhxv8T/Q5PaXtkKtu6ug5TOeNV6gBiFeWPGFN9MuhOf23Q9Ifjh\" crossorigin=\"anonymous\">\n",
       "            <div class=\"alert alert-info\">The source of the sql is users: PCollection[[2]: Map(&lt;lambda at &lt;ipython-input-2-ef08fae6e9aa&gt;:3&gt;).None]</div>"
      ],
      "text/plain": [
       "<IPython.core.display.HTML object>"
      ]
     },
     "metadata": {},
     "output_type": "display_data"
    },
    {
     "data": {
      "text/html": [
       "\n",
       "            <link rel=\"stylesheet\" href=\"https://stackpath.bootstrapcdn.com/bootstrap/4.4.1/css/bootstrap.min.css\" integrity=\"sha384-Vkoo8x4CGsO3+Hhxv8T/Q5PaXtkKtu6ug5TOeNV6gBiFeWPGFN9MuhOf23Q9Ifjh\" crossorigin=\"anonymous\">\n",
       "            <div id=\"progress_indicator_5c88e126f394f5274ed97af858aa6224\" class=\"spinner-border text-info\" role=\"status\">\n",
       "            </div>"
      ],
      "text/plain": [
       "<IPython.core.display.HTML object>"
      ]
     },
     "metadata": {},
     "output_type": "display_data"
    },
    {
     "data": {
      "text/html": [
       "\n",
       "            <style>\n",
       "            .p-Widget.jp-OutputPrompt.jp-OutputArea-prompt:empty {\n",
       "              padding: 0;\n",
       "              border: 0;\n",
       "            }\n",
       "            .p-Widget.jp-RenderedJavaScript.jp-mod-trusted.jp-OutputArea-output:empty {\n",
       "              padding: 0;\n",
       "              border: 0;\n",
       "            }\n",
       "            </style>\n",
       "            <link rel=\"stylesheet\" href=\"https://cdn.datatables.net/1.10.20/css/jquery.dataTables.min.css\">\n",
       "            <table id=\"table_df_02dc8c826ee1b6d8dd45db7b8257ccb7\" class=\"display\" style=\"display:block\"></table>\n",
       "            <script>\n",
       "              \n",
       "        if (typeof window.interactive_beam_jquery == 'undefined') {\n",
       "          var jqueryScript = document.createElement('script');\n",
       "          jqueryScript.src = 'https://code.jquery.com/jquery-3.4.1.slim.min.js';\n",
       "          jqueryScript.type = 'text/javascript';\n",
       "          jqueryScript.onload = function() {\n",
       "            var datatableScript = document.createElement('script');\n",
       "            datatableScript.src = 'https://cdn.datatables.net/1.10.20/js/jquery.dataTables.min.js';\n",
       "            datatableScript.type = 'text/javascript';\n",
       "            datatableScript.onload = function() {\n",
       "              window.interactive_beam_jquery = jQuery.noConflict(true);\n",
       "              window.interactive_beam_jquery(document).ready(function($){\n",
       "                \n",
       "            var dt;\n",
       "            if ($.fn.dataTable.isDataTable(\"#table_df_02dc8c826ee1b6d8dd45db7b8257ccb7\")) {\n",
       "              dt = $(\"#table_df_02dc8c826ee1b6d8dd45db7b8257ccb7\").dataTable();\n",
       "            } else if ($(\"#table_df_02dc8c826ee1b6d8dd45db7b8257ccb7_wrapper\").length == 0) {\n",
       "              dt = $(\"#table_df_02dc8c826ee1b6d8dd45db7b8257ccb7\").dataTable({\n",
       "                \n",
       "            bAutoWidth: false,\n",
       "            columns: [{'title': ''}, {'title': 'number'}],\n",
       "            destroy: true,\n",
       "            responsive: true,\n",
       "            columnDefs: [\n",
       "              {\n",
       "                targets: \"_all\",\n",
       "                className: \"dt-left\"\n",
       "              },\n",
       "              {\n",
       "                \"targets\": 0,\n",
       "                \"width\": \"10px\",\n",
       "                \"title\": \"\"\n",
       "              }\n",
       "            ]\n",
       "              });\n",
       "            } else {\n",
       "              return;\n",
       "            }\n",
       "            dt.api()\n",
       "              .clear()\n",
       "              .rows.add([{1: '0', 0: 0}, {1: '1', 0: 1}, {1: '2', 0: 2}, {1: '3', 0: 3}, {1: '4', 0: 4}, {1: '5', 0: 5}, {1: '6', 0: 6}, {1: '7', 0: 7}, {1: '8', 0: 8}, {1: '9', 0: 9}])\n",
       "              .draw('full-hold');\n",
       "              });\n",
       "            }\n",
       "            document.head.appendChild(datatableScript);\n",
       "          };\n",
       "          document.head.appendChild(jqueryScript);\n",
       "        } else {\n",
       "          window.interactive_beam_jquery(document).ready(function($){\n",
       "            \n",
       "            var dt;\n",
       "            if ($.fn.dataTable.isDataTable(\"#table_df_02dc8c826ee1b6d8dd45db7b8257ccb7\")) {\n",
       "              dt = $(\"#table_df_02dc8c826ee1b6d8dd45db7b8257ccb7\").dataTable();\n",
       "            } else if ($(\"#table_df_02dc8c826ee1b6d8dd45db7b8257ccb7_wrapper\").length == 0) {\n",
       "              dt = $(\"#table_df_02dc8c826ee1b6d8dd45db7b8257ccb7\").dataTable({\n",
       "                \n",
       "            bAutoWidth: false,\n",
       "            columns: [{'title': ''}, {'title': 'number'}],\n",
       "            destroy: true,\n",
       "            responsive: true,\n",
       "            columnDefs: [\n",
       "              {\n",
       "                targets: \"_all\",\n",
       "                className: \"dt-left\"\n",
       "              },\n",
       "              {\n",
       "                \"targets\": 0,\n",
       "                \"width\": \"10px\",\n",
       "                \"title\": \"\"\n",
       "              }\n",
       "            ]\n",
       "              });\n",
       "            } else {\n",
       "              return;\n",
       "            }\n",
       "            dt.api()\n",
       "              .clear()\n",
       "              .rows.add([{1: '0', 0: 0}, {1: '1', 0: 1}, {1: '2', 0: 2}, {1: '3', 0: 3}, {1: '4', 0: 4}, {1: '5', 0: 5}, {1: '6', 0: 6}, {1: '7', 0: 7}, {1: '8', 0: 8}, {1: '9', 0: 9}])\n",
       "              .draw('full-hold');\n",
       "          });\n",
       "        }\n",
       "            </script>"
      ],
      "text/plain": [
       "<IPython.core.display.HTML object>"
      ]
     },
     "metadata": {},
     "output_type": "display_data"
    },
    {
     "data": {
      "application/javascript": [
       "\n",
       "        if (typeof window.interactive_beam_jquery == 'undefined') {\n",
       "          var jqueryScript = document.createElement('script');\n",
       "          jqueryScript.src = 'https://code.jquery.com/jquery-3.4.1.slim.min.js';\n",
       "          jqueryScript.type = 'text/javascript';\n",
       "          jqueryScript.onload = function() {\n",
       "            var datatableScript = document.createElement('script');\n",
       "            datatableScript.src = 'https://cdn.datatables.net/1.10.20/js/jquery.dataTables.min.js';\n",
       "            datatableScript.type = 'text/javascript';\n",
       "            datatableScript.onload = function() {\n",
       "              window.interactive_beam_jquery = jQuery.noConflict(true);\n",
       "              window.interactive_beam_jquery(document).ready(function($){\n",
       "                \n",
       "            $(\"#progress_indicator_5c88e126f394f5274ed97af858aa6224\").remove();\n",
       "              });\n",
       "            }\n",
       "            document.head.appendChild(datatableScript);\n",
       "          };\n",
       "          document.head.appendChild(jqueryScript);\n",
       "        } else {\n",
       "          window.interactive_beam_jquery(document).ready(function($){\n",
       "            \n",
       "            $(\"#progress_indicator_5c88e126f394f5274ed97af858aa6224\").remove();\n",
       "          });\n",
       "        }"
      ]
     },
     "metadata": {},
     "output_type": "display_data"
    },
    {
     "data": {
      "text/html": [
       "\n",
       "            <link rel=\"stylesheet\" href=\"https://stackpath.bootstrapcdn.com/bootstrap/4.4.1/css/bootstrap.min.css\" integrity=\"sha384-Vkoo8x4CGsO3+Hhxv8T/Q5PaXtkKtu6ug5TOeNV6gBiFeWPGFN9MuhOf23Q9Ifjh\" crossorigin=\"anonymous\">\n",
       "            <div id=\"progress_indicator_52279ccc62825f98734015f0814e52da\" class=\"spinner-border text-info\" role=\"status\">\n",
       "            </div>"
      ],
      "text/plain": [
       "<IPython.core.display.HTML object>"
      ]
     },
     "metadata": {},
     "output_type": "display_data"
    },
    {
     "data": {
      "text/html": [
       "\n",
       "            <link rel=\"stylesheet\" href=\"https://stackpath.bootstrapcdn.com/bootstrap/4.4.1/css/bootstrap.min.css\" integrity=\"sha384-Vkoo8x4CGsO3+Hhxv8T/Q5PaXtkKtu6ug5TOeNV6gBiFeWPGFN9MuhOf23Q9Ifjh\" crossorigin=\"anonymous\">\n",
       "            <div id=\"progress_indicator_d8c066a5046b09c61b32544e2983df73\" class=\"spinner-border text-info\" role=\"status\">\n",
       "            </div>"
      ],
      "text/plain": [
       "<IPython.core.display.HTML object>"
      ]
     },
     "metadata": {},
     "output_type": "display_data"
    },
    {
     "data": {
      "text/html": [
       "<?xml version=\"1.0\" encoding=\"UTF-8\" standalone=\"no\"?>\n",
       "<!DOCTYPE svg PUBLIC \"-//W3C//DTD SVG 1.1//EN\"\n",
       " \"http://www.w3.org/Graphics/SVG/1.1/DTD/svg11.dtd\">\n",
       "<!-- Generated by graphviz version 2.46.0 (20210118.1747)\n",
       " -->\n",
       "<!-- Title: G Pages: 1 -->\n",
       "<svg width=\"376pt\" height=\"260pt\"\n",
       " viewBox=\"0.00 0.00 376.00 260.00\" xmlns=\"http://www.w3.org/2000/svg\" xmlns:xlink=\"http://www.w3.org/1999/xlink\">\n",
       "<g id=\"graph0\" class=\"graph\" transform=\"scale(1 1) rotate(0) translate(4 256)\">\n",
       "<title>G</title>\n",
       "<polygon fill=\"white\" stroke=\"transparent\" points=\"-4,4 -4,-256 372,-256 372,4 -4,4\"/>\n",
       "<!-- QuerySource9bc65c2abe&#45;4902073056&#45;4902073536&#45;4338239520 -->\n",
       "<g id=\"node1\" class=\"node\">\n",
       "<title>QuerySource9bc65c2abe&#45;4902073056&#45;4902073536&#45;4338239520</title>\n",
       "<polygon fill=\"none\" stroke=\"blue\" points=\"368,-252 0,-252 0,-216 368,-216 368,-252\"/>\n",
       "<text text-anchor=\"middle\" x=\"184\" y=\"-230.3\" font-family=\"Times,serif\" font-size=\"14.00\" fill=\"blue\">QuerySource9bc65c2abe&#45;4902073056&#45;4902073536&#45;4338239520</text>\n",
       "</g>\n",
       "<!-- pcoll8959 -->\n",
       "<g id=\"node2\" class=\"node\">\n",
       "<title>pcoll8959</title>\n",
       "<ellipse fill=\"none\" stroke=\"blue\" cx=\"184\" cy=\"-162\" rx=\"18\" ry=\"18\"/>\n",
       "</g>\n",
       "<!-- QuerySource9bc65c2abe&#45;4902073056&#45;4902073536&#45;4338239520&#45;&gt;pcoll8959 -->\n",
       "<g id=\"edge1\" class=\"edge\">\n",
       "<title>QuerySource9bc65c2abe&#45;4902073056&#45;4902073536&#45;4338239520&#45;&gt;pcoll8959</title>\n",
       "<path fill=\"none\" stroke=\"black\" d=\"M184,-215.7C184,-207.98 184,-198.71 184,-190.11\"/>\n",
       "<polygon fill=\"black\" stroke=\"black\" points=\"187.5,-190.1 184,-180.1 180.5,-190.1 187.5,-190.1\"/>\n",
       "</g>\n",
       "<!-- Map(rebuildRow) -->\n",
       "<g id=\"node3\" class=\"node\">\n",
       "<title>Map(rebuildRow)</title>\n",
       "<polygon fill=\"none\" stroke=\"blue\" points=\"241.5,-108 126.5,-108 126.5,-72 241.5,-72 241.5,-108\"/>\n",
       "<text text-anchor=\"middle\" x=\"184\" y=\"-86.3\" font-family=\"Times,serif\" font-size=\"14.00\" fill=\"blue\">Map(rebuildRow)</text>\n",
       "</g>\n",
       "<!-- pcoll8959&#45;&gt;Map(rebuildRow) -->\n",
       "<g id=\"edge2\" class=\"edge\">\n",
       "<title>pcoll8959&#45;&gt;Map(rebuildRow)</title>\n",
       "<path fill=\"none\" stroke=\"black\" d=\"M184,-143.7C184,-135.98 184,-126.71 184,-118.11\"/>\n",
       "<polygon fill=\"black\" stroke=\"black\" points=\"187.5,-118.1 184,-108.1 180.5,-118.1 187.5,-118.1\"/>\n",
       "</g>\n",
       "<!-- pcoll8132 -->\n",
       "<g id=\"node4\" class=\"node\">\n",
       "<title>pcoll8132</title>\n",
       "<ellipse fill=\"none\" stroke=\"blue\" cx=\"184\" cy=\"-18\" rx=\"18\" ry=\"18\"/>\n",
       "</g>\n",
       "<!-- Map(rebuildRow)&#45;&gt;pcoll8132 -->\n",
       "<g id=\"edge3\" class=\"edge\">\n",
       "<title>Map(rebuildRow)&#45;&gt;pcoll8132</title>\n",
       "<path fill=\"none\" stroke=\"black\" d=\"M184,-71.7C184,-63.98 184,-54.71 184,-46.11\"/>\n",
       "<polygon fill=\"black\" stroke=\"black\" points=\"187.5,-46.1 184,-36.1 180.5,-46.1 187.5,-46.1\"/>\n",
       "</g>\n",
       "</g>\n",
       "</svg>\n"
      ],
      "text/plain": [
       "<IPython.core.display.HTML object>"
      ]
     },
     "metadata": {},
     "output_type": "display_data"
    },
    {
     "data": {
      "application/javascript": [
       "\n",
       "        if (typeof window.interactive_beam_jquery == 'undefined') {\n",
       "          var jqueryScript = document.createElement('script');\n",
       "          jqueryScript.src = 'https://code.jquery.com/jquery-3.4.1.slim.min.js';\n",
       "          jqueryScript.type = 'text/javascript';\n",
       "          jqueryScript.onload = function() {\n",
       "            var datatableScript = document.createElement('script');\n",
       "            datatableScript.src = 'https://cdn.datatables.net/1.10.20/js/jquery.dataTables.min.js';\n",
       "            datatableScript.type = 'text/javascript';\n",
       "            datatableScript.onload = function() {\n",
       "              window.interactive_beam_jquery = jQuery.noConflict(true);\n",
       "              window.interactive_beam_jquery(document).ready(function($){\n",
       "                \n",
       "            $(\"#progress_indicator_d8c066a5046b09c61b32544e2983df73\").remove();\n",
       "              });\n",
       "            }\n",
       "            document.head.appendChild(datatableScript);\n",
       "          };\n",
       "          document.head.appendChild(jqueryScript);\n",
       "        } else {\n",
       "          window.interactive_beam_jquery(document).ready(function($){\n",
       "            \n",
       "            $(\"#progress_indicator_d8c066a5046b09c61b32544e2983df73\").remove();\n",
       "          });\n",
       "        }"
      ]
     },
     "metadata": {},
     "output_type": "display_data"
    },
    {
     "data": {
      "text/html": [
       "\n",
       "            <link rel=\"stylesheet\" href=\"https://stackpath.bootstrapcdn.com/bootstrap/4.4.1/css/bootstrap.min.css\" integrity=\"sha384-Vkoo8x4CGsO3+Hhxv8T/Q5PaXtkKtu6ug5TOeNV6gBiFeWPGFN9MuhOf23Q9Ifjh\" crossorigin=\"anonymous\">\n",
       "            <div class=\"alert alert-info\">The output PCollection is sql_output_4676be809ed3: PCollection[SqlTransform(beam:external:java:sql:v1).output]</div>"
      ],
      "text/plain": [
       "<IPython.core.display.HTML object>"
      ]
     },
     "metadata": {},
     "output_type": "display_data"
    },
    {
     "data": {
      "application/javascript": [
       "\n",
       "        if (typeof window.interactive_beam_jquery == 'undefined') {\n",
       "          var jqueryScript = document.createElement('script');\n",
       "          jqueryScript.src = 'https://code.jquery.com/jquery-3.4.1.slim.min.js';\n",
       "          jqueryScript.type = 'text/javascript';\n",
       "          jqueryScript.onload = function() {\n",
       "            var datatableScript = document.createElement('script');\n",
       "            datatableScript.src = 'https://cdn.datatables.net/1.10.20/js/jquery.dataTables.min.js';\n",
       "            datatableScript.type = 'text/javascript';\n",
       "            datatableScript.onload = function() {\n",
       "              window.interactive_beam_jquery = jQuery.noConflict(true);\n",
       "              window.interactive_beam_jquery(document).ready(function($){\n",
       "                \n",
       "            $(\"#progress_indicator_52279ccc62825f98734015f0814e52da\").remove();\n",
       "              });\n",
       "            }\n",
       "            document.head.appendChild(datatableScript);\n",
       "          };\n",
       "          document.head.appendChild(jqueryScript);\n",
       "        } else {\n",
       "          window.interactive_beam_jquery(document).ready(function($){\n",
       "            \n",
       "            $(\"#progress_indicator_52279ccc62825f98734015f0814e52da\").remove();\n",
       "          });\n",
       "        }"
      ]
     },
     "metadata": {},
     "output_type": "display_data"
    },
    {
     "data": {
      "text/plain": [
       "<PCollection[SqlTransform(beam:external:java:sql:v1).output] at 0x1245ee130>"
      ]
     },
     "execution_count": 6,
     "metadata": {},
     "output_type": "execute_result"
    }
   ],
   "source": [
    "%%beam_sql users\n",
    "\n",
    "SELECT number FROM PCOLLECTION\n",
    "WHERE number>5\n",
    "GROUP BY number"
   ]
  },
  {
   "cell_type": "code",
   "execution_count": 7,
   "id": "internal-pacific",
   "metadata": {},
   "outputs": [
    {
     "data": {
      "text/plain": [
       "<PCollection[Map(print).None] at 0x1247f52b0>"
      ]
     },
     "execution_count": 7,
     "metadata": {},
     "output_type": "execute_result"
    }
   ],
   "source": [
    "_6 | beam.Map(print)"
   ]
  },
  {
   "cell_type": "code",
   "execution_count": 8,
   "id": "exotic-offer",
   "metadata": {},
   "outputs": [
    {
     "name": "stdout",
     "output_type": "stream",
     "text": [
      "BeamSchema_ac82ba50_04c9_43fc_baab_ec1cc4e6b799(number=6)\n",
      "BeamSchema_ac82ba50_04c9_43fc_baab_ec1cc4e6b799(number=7)\n",
      "BeamSchema_ac82ba50_04c9_43fc_baab_ec1cc4e6b799(number=8)\n",
      "BeamSchema_ac82ba50_04c9_43fc_baab_ec1cc4e6b799(number=9)\n"
     ]
    },
    {
     "data": {
      "text/plain": [
       "<apache_beam.runners.portability.fn_api_runner.fn_runner.RunnerResult at 0x1248396d0>"
      ]
     },
     "execution_count": 8,
     "metadata": {},
     "output_type": "execute_result"
    }
   ],
   "source": [
    "_6.pipeline.run()"
   ]
  },
  {
   "cell_type": "code",
   "execution_count": null,
   "id": "characteristic-solid",
   "metadata": {},
   "outputs": [],
   "source": [
    "newp | \"new print\" >>beam.Map(print)"
   ]
  },
  {
   "cell_type": "code",
   "execution_count": null,
   "id": "subjective-spell",
   "metadata": {},
   "outputs": [],
   "source": [
    "def rebuildRow(x):\n",
    "    fields = type(x)._fields\n",
    "    kwargs = {}\n",
    "    for field in fields:\n",
    "        kwargs[field] = getattr(x, field)\n",
    "    return beam.Row(**kwargs)"
   ]
  },
  {
   "cell_type": "code",
   "execution_count": null,
   "id": "pediatric-wound",
   "metadata": {},
   "outputs": [],
   "source": [
    "_4.element_type"
   ]
  },
  {
   "cell_type": "code",
   "execution_count": null,
   "id": "mounted-expression",
   "metadata": {},
   "outputs": [],
   "source": [
    "r = beam.typehints.schemas.SCHEMA_REGISTRY"
   ]
  },
  {
   "cell_type": "code",
   "execution_count": null,
   "id": "parliamentary-enough",
   "metadata": {},
   "outputs": [],
   "source": [
    "schema = r.get_schema_by_id('apache_beam.typehints.schemas.BeamSchema_c5b6cab4_7c82_4724_8bcc_ef5d111c6270')"
   ]
  },
  {
   "cell_type": "code",
   "execution_count": null,
   "id": "smooth-wrong",
   "metadata": {},
   "outputs": [],
   "source": [
    "def my_import(name):\n",
    "    components = name.split('.')\n",
    "    mod = __import__(components[0])\n",
    "    for comp in components[1:]:\n",
    "        mod = getattr(mod, comp)\n",
    "    return mod"
   ]
  },
  {
   "cell_type": "code",
   "execution_count": null,
   "id": "running-probe",
   "metadata": {},
   "outputs": [],
   "source": [
    "p = beam.Pipeline()\n",
    "\n",
    "read = p | beam.io.ReadFromText('hello.txt').with_output_types(str)"
   ]
  },
  {
   "cell_type": "code",
   "execution_count": null,
   "id": "scenic-telescope",
   "metadata": {},
   "outputs": [],
   "source": [
    "read.element_type"
   ]
  },
  {
   "cell_type": "code",
   "execution_count": null,
   "id": "plastic-mixer",
   "metadata": {},
   "outputs": [],
   "source": [
    "read2 = read | beam.Map(lambda x: beam.Row(name=x))"
   ]
  },
  {
   "cell_type": "code",
   "execution_count": null,
   "id": "nutritional-crown",
   "metadata": {},
   "outputs": [],
   "source": [
    "read2.element_type"
   ]
  },
  {
   "cell_type": "code",
   "execution_count": null,
   "id": "disciplinary-agent",
   "metadata": {},
   "outputs": [],
   "source": [
    "output = _4 | SqlTransform(\"\"\"\n",
    "    SELECT name from PCOLLECTION\n",
    "    WHERE name='1'\n",
    "    GROUP BY name\n",
    "\"\"\")\n",
    "\n",
    "_ = output | beam.Map(print)"
   ]
  },
  {
   "cell_type": "code",
   "execution_count": null,
   "id": "optimum-blogger",
   "metadata": {},
   "outputs": [],
   "source": [
    "p.run()"
   ]
  },
  {
   "cell_type": "code",
   "execution_count": null,
   "id": "existing-pulse",
   "metadata": {},
   "outputs": [],
   "source": [
    "ib.show(users)"
   ]
  },
  {
   "cell_type": "code",
   "execution_count": null,
   "id": "stable-correspondence",
   "metadata": {},
   "outputs": [],
   "source": [
    "_5 | beam.Map(lambda x: print(type(x)))"
   ]
  },
  {
   "cell_type": "code",
   "execution_count": null,
   "id": "generic-coach",
   "metadata": {},
   "outputs": [],
   "source": [
    "_5 | beam.Map(lambda x: print(dict(x)))"
   ]
  },
  {
   "cell_type": "code",
   "execution_count": null,
   "id": "intermediate-romania",
   "metadata": {},
   "outputs": [],
   "source": [
    "users | beam.Map(print)"
   ]
  },
  {
   "cell_type": "code",
   "execution_count": null,
   "id": "dependent-rider",
   "metadata": {},
   "outputs": [],
   "source": []
  }
 ],
 "metadata": {
  "kernelspec": {
   "display_name": "Python3 (beam_venv)",
   "language": "python",
   "name": "beam_venv_kernel"
  },
  "language_info": {
   "codemirror_mode": {
    "name": "ipython",
    "version": 3
   },
   "file_extension": ".py",
   "mimetype": "text/x-python",
   "name": "python",
   "nbconvert_exporter": "python",
   "pygments_lexer": "ipython3",
   "version": "3.8.7"
  }
 },
 "nbformat": 4,
 "nbformat_minor": 5
}
