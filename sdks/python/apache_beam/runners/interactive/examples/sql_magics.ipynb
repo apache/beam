{
 "cells": [
  {
   "cell_type": "code",
   "execution_count": 1,
   "id": "instant-marshall",
   "metadata": {},
   "outputs": [],
   "source": [
    "%load_ext apache_beam.runners.interactive.sql.beam_sql_magics\n",
    "\n",
    "import logging\n",
    "logging.root.setLevel(logging.ERROR)\n",
    "\n",
    "import names\n",
    "import typing\n",
    "\n",
    "import apache_beam as beam\n",
    "\n",
    "from apache_beam.runners.interactive import interactive_beam as ib\n",
    "from apache_beam.runners.interactive import interactive_runner as ir\n",
    "from apache_beam.runners import pipeline_context\n",
    "from apache_beam.transforms.sql import SqlTransform\n",
    "\n",
    "p = beam.Pipeline()"
   ]
  },
  {
   "cell_type": "code",
   "execution_count": null,
   "id": "cellular-royalty",
   "metadata": {},
   "outputs": [],
   "source": [
    "numbers = (p | beam.Create(range(10))\n",
    "           | beam.Map(lambda x: beam.Row(number=x)))\n",
    "           #| beam.Map(lambda x: beam.Row(number=x, name=names.get_full_name()))) "
   ]
  },
  {
   "cell_type": "code",
   "execution_count": null,
   "id": "amino-premises",
   "metadata": {},
   "outputs": [],
   "source": [
    "numbers2 = (p | beam.Create(range(5,15))\n",
    "              | beam.Map(lambda x: beam.Row(number2=x)))"
   ]
  },
  {
   "cell_type": "code",
   "execution_count": null,
   "id": "serial-nashville",
   "metadata": {},
   "outputs": [],
   "source": [
    "common_numbers = {'numbers': numbers, 'numbers2': numbers2} | beam.transforms.sql.SqlTransform(\"\"\"\n",
    "        SELECT * FROM numbers JOIN numbers2 ON numbers.number = numbers2.number\n",
    "    \"\"\")"
   ]
  },
  {
   "cell_type": "code",
   "execution_count": null,
   "id": "surgical-defensive",
   "metadata": {},
   "outputs": [],
   "source": [
    "common_numbers | beam.Map(print)"
   ]
  },
  {
   "cell_type": "code",
   "execution_count": 3,
   "id": "valid-young",
   "metadata": {},
   "outputs": [
    {
     "name": "stderr",
     "output_type": "stream",
     "text": [
      "UsageError: %%beam_sql is a cell magic, but the cell body is empty.\n"
     ]
    }
   ],
   "source": [
    "%%beam_sql"
   ]
  },
  {
   "cell_type": "code",
   "execution_count": 4,
   "id": "tested-ecuador",
   "metadata": {},
   "outputs": [
    {
     "name": "stdout",
     "output_type": "stream",
     "text": [
      "Requirement already satisfied: google-cloud-bigquery in /Users/ningk/workspace/dev/lib/python3.8/site-packages (1.28.0)\n",
      "Requirement already satisfied: google-cloud-core<2.0dev,>=1.4.1 in /Users/ningk/workspace/dev/lib/python3.8/site-packages (from google-cloud-bigquery) (1.4.1)\n",
      "Requirement already satisfied: six<2.0.0dev,>=1.13.0 in /Users/ningk/workspace/dev/lib/python3.8/site-packages (from google-cloud-bigquery) (1.15.0)\n",
      "Requirement already satisfied: google-api-core<2.0dev,>=1.21.0 in /Users/ningk/workspace/dev/lib/python3.8/site-packages (from google-cloud-bigquery) (1.22.0)\n",
      "Requirement already satisfied: google-resumable-media<2.0dev,>=0.6.0 in /Users/ningk/workspace/dev/lib/python3.8/site-packages (from google-cloud-bigquery) (1.2.0)\n",
      "Requirement already satisfied: requests<3.0.0dev,>=2.18.0 in /Users/ningk/workspace/dev/lib/python3.8/site-packages (from google-api-core<2.0dev,>=1.21.0->google-cloud-bigquery) (2.24.0)\n",
      "Requirement already satisfied: googleapis-common-protos<2.0dev,>=1.6.0 in /Users/ningk/workspace/dev/lib/python3.8/site-packages (from google-api-core<2.0dev,>=1.21.0->google-cloud-bigquery) (1.53.0)\n",
      "Requirement already satisfied: protobuf>=3.12.0 in /Users/ningk/workspace/dev/lib/python3.8/site-packages (from google-api-core<2.0dev,>=1.21.0->google-cloud-bigquery) (3.12.2)\n",
      "Requirement already satisfied: pytz in /Users/ningk/workspace/dev/lib/python3.8/site-packages (from google-api-core<2.0dev,>=1.21.0->google-cloud-bigquery) (2020.1)\n",
      "Requirement already satisfied: google-auth<2.0dev,>=1.19.1 in /Users/ningk/workspace/dev/lib/python3.8/site-packages (from google-api-core<2.0dev,>=1.21.0->google-cloud-bigquery) (1.31.0)\n",
      "Requirement already satisfied: setuptools>=34.0.0 in /Users/ningk/workspace/dev/lib/python3.8/site-packages (from google-api-core<2.0dev,>=1.21.0->google-cloud-bigquery) (56.0.0)\n",
      "Requirement already satisfied: rsa<5,>=3.1.4 in /Users/ningk/workspace/dev/lib/python3.8/site-packages (from google-auth<2.0dev,>=1.19.1->google-api-core<2.0dev,>=1.21.0->google-cloud-bigquery) (4.7.2)\n",
      "Requirement already satisfied: pyasn1-modules>=0.2.1 in /Users/ningk/workspace/dev/lib/python3.8/site-packages (from google-auth<2.0dev,>=1.19.1->google-api-core<2.0dev,>=1.21.0->google-cloud-bigquery) (0.2.8)\n",
      "Requirement already satisfied: cachetools<5.0,>=2.0.0 in /Users/ningk/workspace/dev/lib/python3.8/site-packages (from google-auth<2.0dev,>=1.19.1->google-api-core<2.0dev,>=1.21.0->google-cloud-bigquery) (3.1.1)\n",
      "Requirement already satisfied: google-crc32c<2.0dev,>=1.0 in /Users/ningk/workspace/dev/lib/python3.8/site-packages (from google-resumable-media<2.0dev,>=0.6.0->google-cloud-bigquery) (1.1.2)\n",
      "Requirement already satisfied: cffi>=1.0.0 in /Users/ningk/workspace/dev/lib/python3.8/site-packages (from google-crc32c<2.0dev,>=1.0->google-resumable-media<2.0dev,>=0.6.0->google-cloud-bigquery) (1.14.5)\n",
      "Requirement already satisfied: pycparser in /Users/ningk/workspace/dev/lib/python3.8/site-packages (from cffi>=1.0.0->google-crc32c<2.0dev,>=1.0->google-resumable-media<2.0dev,>=0.6.0->google-cloud-bigquery) (2.20)\n",
      "Requirement already satisfied: pyasn1<0.5.0,>=0.4.6 in /Users/ningk/workspace/dev/lib/python3.8/site-packages (from pyasn1-modules>=0.2.1->google-auth<2.0dev,>=1.19.1->google-api-core<2.0dev,>=1.21.0->google-cloud-bigquery) (0.4.8)\n",
      "Requirement already satisfied: certifi>=2017.4.17 in /Users/ningk/workspace/dev/lib/python3.8/site-packages (from requests<3.0.0dev,>=2.18.0->google-api-core<2.0dev,>=1.21.0->google-cloud-bigquery) (2020.12.5)\n",
      "Requirement already satisfied: chardet<4,>=3.0.2 in /Users/ningk/workspace/dev/lib/python3.8/site-packages (from requests<3.0.0dev,>=2.18.0->google-api-core<2.0dev,>=1.21.0->google-cloud-bigquery) (3.0.4)\n",
      "Requirement already satisfied: urllib3!=1.25.0,!=1.25.1,<1.26,>=1.21.1 in /Users/ningk/workspace/dev/lib/python3.8/site-packages (from requests<3.0.0dev,>=2.18.0->google-api-core<2.0dev,>=1.21.0->google-cloud-bigquery) (1.25.11)\n",
      "Requirement already satisfied: idna<3,>=2.5 in /Users/ningk/workspace/dev/lib/python3.8/site-packages (from requests<3.0.0dev,>=2.18.0->google-api-core<2.0dev,>=1.21.0->google-cloud-bigquery) (2.10)\n",
      "Note: you may need to restart the kernel to use updated packages.\n"
     ]
    }
   ],
   "source": [
    "%pip install google-cloud-bigquery"
   ]
  },
  {
   "cell_type": "code",
   "execution_count": 2,
   "id": "ordered-advertiser",
   "metadata": {},
   "outputs": [],
   "source": [
    "from google.cloud import bigquery\n",
    "\n",
    "client = bigquery.Client(project='ningk-test-project')"
   ]
  },
  {
   "cell_type": "code",
   "execution_count": 6,
   "id": "stylish-thriller",
   "metadata": {},
   "outputs": [],
   "source": [
    "datasets = list(client.list_datasets())"
   ]
  },
  {
   "cell_type": "code",
   "execution_count": 7,
   "id": "photographic-thermal",
   "metadata": {},
   "outputs": [
    {
     "data": {
      "text/plain": [
       "[{'_properties': {'kind': 'bigquery#dataset',\n",
       "   'id': 'ningk-test-project:beam_basics',\n",
       "   'datasetReference': {'datasetId': 'beam_basics',\n",
       "    'projectId': 'ningk-test-project'},\n",
       "   'location': 'US'}},\n",
       " {'_properties': {'kind': 'bigquery#dataset',\n",
       "   'id': 'ningk-test-project:crypto_research_batch',\n",
       "   'datasetReference': {'datasetId': 'crypto_research_batch',\n",
       "    'projectId': 'ningk-test-project'},\n",
       "   'location': 'US'}},\n",
       " {'_properties': {'kind': 'bigquery#dataset',\n",
       "   'id': 'ningk-test-project:tempo',\n",
       "   'datasetReference': {'datasetId': 'tempo',\n",
       "    'projectId': 'ningk-test-project'},\n",
       "   'location': 'US'}},\n",
       " {'_properties': {'kind': 'bigquery#dataset',\n",
       "   'id': 'ningk-test-project:test',\n",
       "   'datasetReference': {'datasetId': 'test',\n",
       "    'projectId': 'ningk-test-project'},\n",
       "   'location': 'US'}}]"
      ]
     },
     "execution_count": 7,
     "metadata": {},
     "output_type": "execute_result"
    }
   ],
   "source": [
    "[vars(dataset) for dataset in datasets]"
   ]
  },
  {
   "cell_type": "code",
   "execution_count": null,
   "id": "adopted-daniel",
   "metadata": {},
   "outputs": [],
   "source": [
    "p.run()"
   ]
  }
 ],
 "metadata": {
  "kernelspec": {
   "display_name": "Python3 (beam_venv)",
   "language": "python",
   "name": "beam_venv_kernel"
  },
  "language_info": {
   "codemirror_mode": {
    "name": "ipython",
    "version": 3
   },
   "file_extension": ".py",
   "mimetype": "text/x-python",
   "name": "python",
   "nbconvert_exporter": "python",
   "pygments_lexer": "ipython3",
   "version": "3.8.7"
  }
 },
 "nbformat": 4,
 "nbformat_minor": 5
}
