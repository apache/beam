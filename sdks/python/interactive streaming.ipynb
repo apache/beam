{
 "cells": [
  {
   "cell_type": "code",
   "execution_count": 1,
   "metadata": {},
   "outputs": [
    {
     "name": "stderr",
     "output_type": "stream",
     "text": [
      "/usr/local/google/home/srohde/Workdir/beam/sdks/python/apache_beam/__init__.py:84: UserWarning: Some syntactic constructs of Python 3 are not yet fully supported by Apache Beam.\n",
      "  'Some syntactic constructs of Python 3 are not yet fully supported by '\n"
     ]
    }
   ],
   "source": [
    "from __future__ import print_function\n",
    "from ipywidgets import interact, interactive, fixed, interact_manual\n",
    "import ipywidgets as widgets\n",
    "\n",
    "%gui asyncio\n",
    "%config IPCompleter.greedy=True\n",
    "import apache_beam as beam\n",
    "from apache_beam.runners.interactive import interactive_runner\n",
    "from apache_beam.runners.direct import direct_runner\n",
    "from apache_beam.testing.test_stream import TestStream\n",
    "from apache_beam.options.pipeline_options import PipelineOptions\n",
    "from apache_beam.options.pipeline_options import SetupOptions\n",
    "from apache_beam.options.pipeline_options import StandardOptions\n",
    "from apache_beam.options.pipeline_options import DebugOptions\n",
    "from apache_beam.portability.api import beam_fn_api_pb2\n",
    "from apache_beam.portability.api import beam_fn_api_pb2_grpc\n",
    "import time\n",
    "import cProfile\n",
    "import grpc"
   ]
  },
  {
   "cell_type": "code",
   "execution_count": 2,
   "metadata": {
    "scrolled": false
   },
   "outputs": [
    {
     "data": {
      "application/vnd.jupyter.widget-view+json": {
       "model_id": "a882e62611dc44d5a23031dc341a78fa",
       "version_major": 2,
       "version_minor": 0
      },
      "text/plain": [
       "Button(description='Play', style=ButtonStyle())"
      ]
     },
     "metadata": {},
     "output_type": "display_data"
    },
    {
     "data": {
      "application/vnd.jupyter.widget-view+json": {
       "model_id": "4f9cee5b08024a839c604d00d8b6ac9d",
       "version_major": 2,
       "version_minor": 0
      },
      "text/plain": [
       "Output()"
      ]
     },
     "metadata": {},
     "output_type": "display_data"
    },
    {
     "data": {
      "application/vnd.jupyter.widget-view+json": {
       "model_id": "4aad2b6813fe4975b8bdab98955a55ba",
       "version_major": 2,
       "version_minor": 0
      },
      "text/plain": [
       "Button(description='Pause', style=ButtonStyle())"
      ]
     },
     "metadata": {},
     "output_type": "display_data"
    },
    {
     "data": {
      "application/vnd.jupyter.widget-view+json": {
       "model_id": "4f9cee5b08024a839c604d00d8b6ac9d",
       "version_major": 2,
       "version_minor": 0
      },
      "text/plain": [
       "Output()"
      ]
     },
     "metadata": {},
     "output_type": "display_data"
    },
    {
     "data": {
      "application/vnd.jupyter.widget-view+json": {
       "model_id": "97568d69854a4c9e9c944eb2d90d2255",
       "version_major": 2,
       "version_minor": 0
      },
      "text/plain": [
       "Button(description='Step', style=ButtonStyle())"
      ]
     },
     "metadata": {},
     "output_type": "display_data"
    },
    {
     "data": {
      "application/vnd.jupyter.widget-view+json": {
       "model_id": "4f9cee5b08024a839c604d00d8b6ac9d",
       "version_major": 2,
       "version_minor": 0
      },
      "text/plain": [
       "Output()"
      ]
     },
     "metadata": {},
     "output_type": "display_data"
    },
    {
     "name": "stdout",
     "output_type": "stream",
     "text": [
      "cubes produced 0\n",
      "square produced 0\n",
      "got request token: 1\n",
      "\n"
     ]
    }
   ],
   "source": [
    "from IPython.display import display\n",
    "play_button = widgets.Button(description=\"Play\")\n",
    "pause_button = widgets.Button(description=\"Pause\")\n",
    "step_button = widgets.Button(description=\"Step\")\n",
    "\n",
    "output = widgets.Output()\n",
    "display(play_button, output)\n",
    "display(pause_button, output)\n",
    "display(step_button, output)\n",
    "\n",
    "def on_play_button(b):\n",
    "    with output:\n",
    "        channel = grpc.insecure_channel('localhost:12345')\n",
    "        stub = beam_fn_api_pb2_grpc.InteractiveStreamStub(channel)\n",
    "        stub.Start(beam_fn_api_pb2.StartRequest())\n",
    "        \n",
    "def on_pause_button(b):\n",
    "    with output:\n",
    "        channel = grpc.insecure_channel('loIs an explicit API that the user will know exactly what to expect when they rerun a pipelinecalhost:12345')\n",
    "        stub = beam_fn_api_pb2_grpc.InteractiveStreamStub(channel)\n",
    "        stub.Pause(beam_fn_api_pb2.PauseRequest())\n",
    "        \n",
    "def on_step_button(b):\n",
    "    with output:\n",
    "        channel = grpc.insecure_channel('localhost:12345')\n",
    "        stub = beam_fn_api_pb2_grpc.InteractiveStreamStub(channel)\n",
    "        stub.Step(beam_fn_api_pb2.StepRequest())\n",
    "\n",
    "play_button.on_click(on_play_button)\n",
    "pause_button.on_click(on_pause_button)\n",
    "step_button.on_click(on_step_button)\n",
    "\n"
   ]
  },
  {
   "cell_type": "code",
   "execution_count": 3,
   "metadata": {
    "scrolled": true
   },
   "outputs": [
    {
     "data": {
      "text/html": [],
      "text/plain": [
       "<IPython.core.display.HTML object>"
      ]
     },
     "metadata": {},
     "output_type": "display_data"
    },
    {
     "data": {
      "text/plain": [
       "Running..."
      ]
     },
     "metadata": {},
     "output_type": "display_data"
    },
    {
     "data": {
      "text/plain": [
       "Using 0 cached PCollections\n",
       "Executing 5 of 5 transforms."
      ]
     },
     "metadata": {},
     "output_type": "display_data"
    },
    {
     "data": {
      "text/plain": [
       "Map(functools.partial(<function printer at 0x7f0bd815e598>, 'cubes')) produced {}"
      ]
     },
     "metadata": {},
     "output_type": "display_data"
    },
    {
     "data": {
      "text/plain": [
       "read produced {}"
      ]
     },
     "metadata": {},
     "output_type": "display_data"
    },
    {
     "data": {
      "text/plain": [
       "Map(functools.partial(<function printer at 0x7f0bd815e598>, 'square')) produced {}"
      ]
     },
     "metadata": {},
     "output_type": "display_data"
    },
    {
     "data": {
      "text/plain": [
       "Square produced {}"
      ]
     },
     "metadata": {},
     "output_type": "display_data"
    },
    {
     "data": {
      "text/plain": [
       "Cube produced {}"
      ]
     },
     "metadata": {},
     "output_type": "display_data"
    },
    {
     "name": "stdout",
     "output_type": "stream",
     "text": [
      "got request \n"
     ]
    }
   ],
   "source": [
    "from functools import partial\n",
    "import threading\n",
    "pipeline_options = PipelineOptions()\n",
    "pipeline_options.view_as(StandardOptions).streaming = True\n",
    "\n",
    "def printer(name, x):\n",
    "    print(name, \"produced\", x)\n",
    "    return x\n",
    "\n",
    "def named_printer(name):\n",
    "    return partial(printer, name)\n",
    "    \n",
    "\n",
    "def run():\n",
    "    runner = interactive_runner.InteractiveRunner(render_option='mute', endpoint='localhost:12345')  # render_option could also be 'mute', 'text'\n",
    "    p = beam.Pipeline(runner=runner, options=pipeline_options)\n",
    "    pc = p | 'read' >> (TestStream(endpoint='localhost:12345'))\n",
    "        \n",
    "    squares = pc | 'Square' >> beam.Map(lambda x: x*x) | beam.Map(named_printer('square'))\n",
    "    cubes = pc | 'Cube' >> beam.Map(lambda x: x**3) | beam.Map(named_printer('cubes'))\n",
    "    result = p.run()\n",
    "    \n",
    "t = threading.Thread(target=run)\n",
    "t.daemon = True\n",
    "t.start()"
   ]
  }
 ],
 "metadata": {
  "kernelspec": {
   "display_name": "Python (env)",
   "language": "python",
   "name": "beam_venv_kernel"
  },
  "language_info": {
   "codemirror_mode": {
    "name": "ipython",
    "version": 3
   },
   "file_extension": ".py",
   "mimetype": "text/x-python",
   "name": "python",
   "nbconvert_exporter": "python",
   "pygments_lexer": "ipython3",
   "version": "3.6.8rc1"
  }
 },
 "nbformat": 4,
 "nbformat_minor": 2
}
