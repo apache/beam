{
 "cells": [
  {
   "cell_type": "code",
   "execution_count": null,
   "metadata": {},
   "outputs": [],
   "source": [
    "pip install snakeviz"
   ]
  },
  {
   "cell_type": "code",
   "execution_count": null,
   "metadata": {},
   "outputs": [],
   "source": [
    "%load_ext snakeviz"
   ]
  },
  {
   "cell_type": "code",
   "execution_count": 1,
   "metadata": {},
   "outputs": [
    {
     "name": "stderr",
     "output_type": "stream",
     "text": [
      "/usr/local/google/home/srohde/Workdir/beam/sdks/python/apache_beam/__init__.py:84: UserWarning: Some syntactic constructs of Python 3 are not yet fully supported by Apache Beam.\n",
      "  'Some syntactic constructs of Python 3 are not yet fully supported by '\n"
     ]
    }
   ],
   "source": [
    "%config IPCompleter.greedy=True\n",
    "import apache_beam as beam\n",
    "from apache_beam.runners.interactive import interactive_runner\n",
    "from apache_beam.runners.direct import direct_runner\n",
    "from apache_beam.testing.test_stream import TestStream\n",
    "from apache_beam.options.pipeline_options import PipelineOptions\n",
    "from apache_beam.options.pipeline_options import SetupOptions\n",
    "from apache_beam.options.pipeline_options import StandardOptions\n",
    "from apache_beam.options.pipeline_options import DebugOptions\n",
    "import time\n",
    "import cProfile"
   ]
  },
  {
   "cell_type": "code",
   "execution_count": 2,
   "metadata": {},
   "outputs": [
    {
     "data": {
      "text/html": [
       "digraph G {\n",
       "node [color=gray, fontcolor=gray];\n",
       "edge [color=gray];\n",
       "read [color=blue, fontcolor=blue];\n",
       "Square [color=blue, fontcolor=blue];\n",
       "leaf768 [style=invis];\n",
       "Cube [color=blue, fontcolor=blue];\n",
       "leaf2278 [style=invis];\n",
       "read -> Square  [color=black, label=\"{19, ...}\", labeltooltip=\"{19, 88, 43, 30, 44, 13, 84, 85, 1, 31}\"];\n",
       "read -> Cube  [color=black, label=\"{19, ...}\", labeltooltip=\"{19, 88, 43, 30, 44, 13, 84, 85, 1, 31}\"];\n",
       "Square -> leaf768  [color=black, label=\"{0, ...}\", labeltooltip=\"{0, 2704, 1, 6084, 9025, 729, 2209, 6561, 289, 169}\"];\n",
       "Cube -> leaf2278  [color=black, label=\"{85184, ...}\", labeltooltip=\"{85184, 300763, 110592, 216000, 681472, 103823, 24389, 636056, 970299, 2197}\"];\n",
       "}\n"
      ],
      "text/plain": [
       "<IPython.core.display.HTML object>"
      ]
     },
     "metadata": {},
     "output_type": "display_data"
    },
    {
     "data": {
      "text/plain": [
       "Running..."
      ]
     },
     "metadata": {},
     "output_type": "display_data"
    },
    {
     "data": {
      "text/plain": [
       "Using 0 cached PCollections\n",
       "Executing 3 of 3 transforms."
      ]
     },
     "metadata": {},
     "output_type": "display_data"
    },
    {
     "data": {
      "text/plain": [
       "Square produced {0, 2704, 1, 6084, 9025, ...}"
      ]
     },
     "metadata": {},
     "output_type": "display_data"
    },
    {
     "data": {
      "text/plain": [
       "read produced {19, 88, 43, 30, 44, ...}"
      ]
     },
     "metadata": {},
     "output_type": "display_data"
    },
    {
     "data": {
      "text/plain": [
       "Cube produced {85184, 300763, 110592, 216000, 681472, ...}"
      ]
     },
     "metadata": {},
     "output_type": "display_data"
    }
   ],
   "source": [
    "pipeline_options = PipelineOptions()\n",
    "\n",
    "def printer(x):\n",
    "    print(x)\n",
    "    time.sleep(1)\n",
    "    return x\n",
    "\n",
    "runner = interactive_runner.InteractiveRunner(render_option='text')  # render_option could also be 'mute', 'text'\n",
    "p = beam.Pipeline(runner=runner, options=pipeline_options)\n",
    "pc = p | 'read' >> (TestStream().add_elements(range(100)))\n",
    "\n",
    "squares = pc | 'Square' >> beam.Map(lambda x: x*x)\n",
    "cubes = pc | 'Cube' >> beam.Map(lambda x: x**3)\n",
    "result = p.run()"
   ]
  },
  {
   "cell_type": "code",
   "execution_count": null,
   "metadata": {
    "scrolled": false
   },
   "outputs": [],
   "source": [
    "runner = interactive_runner.InteractiveRunner(render_option='text')  # render_option could also be 'mute', 'text'\n",
    "p = beam.Pipeline(runner=runner)\n",
    "\n",
    "def string_builder(x):\n",
    "    return (x % 10, x)\n",
    "\n",
    "pcoll_init = (p | 'root' >> beam.Create(range(100000))\n",
    "                | 'oom' >> beam.Map(string_builder)\n",
    "                | beam.GroupByKey())\n",
    "\n",
    "%snakeviz result=p.run()\n",
    "\n",
    "print(result.get(pcoll_init))\n",
    "#p.run()\n"
   ]
  },
  {
   "cell_type": "code",
   "execution_count": null,
   "metadata": {
    "scrolled": true
   },
   "outputs": [],
   "source": [
    "kPubsubSubscription = 'projects/google.com:clouddfe/subscriptions/srohde-taxi'\n",
    "pipeline_options = PipelineOptions()\n",
    "pipeline_options.view_as(StandardOptions).streaming = True\n",
    "#pipeline_options.view_as(DebugOptions).add_experiment('beam_fn_api')\n",
    "\n",
    "def printer(x):\n",
    "    print(x)\n",
    "    time.sleep(1)\n",
    "    return x\n",
    "\n",
    "runner = interactive_runner.InteractiveRunner(render_option='text')  # render_option could also be 'mute', 'text'\n",
    "p = beam.Pipeline(runner=runner, options=pipeline_options)\n",
    "pc = (p | 'read' >> beam.io.ReadFromPubSub(subscription=kPubsubSubscription)\n",
    "        | 'print' >> beam.Map(printer))\n",
    "pc = (p | 'read2' >> beam.io.ReadFromPubSub(subscription=kPubsubSubscription)\n",
    "        | 'print2' >> beam.Map(printer))\n",
    "\n",
    "#pcoll_init = p | beam.Create([])\n",
    "#squares = pcoll_init | 'Square' >> beam.Map(lambda x: x*x)\n",
    "#cubes = pcoll_init | 'Cube' >> beam.Map(lambda x: x**3)\n",
    "cProfile.run('p.run()')\n",
    "\n",
    "print(result.get(pc))"
   ]
  }
 ],
 "metadata": {
  "kernelspec": {
   "display_name": "Python (env)",
   "language": "python",
   "name": "beam_venv_kernel"
  },
  "language_info": {
   "codemirror_mode": {
    "name": "ipython",
    "version": 3
   },
   "file_extension": ".py",
   "mimetype": "text/x-python",
   "name": "python",
   "nbconvert_exporter": "python",
   "pygments_lexer": "ipython3",
   "version": "3.6.8rc1"
  }
 },
 "nbformat": 4,
 "nbformat_minor": 2
}
