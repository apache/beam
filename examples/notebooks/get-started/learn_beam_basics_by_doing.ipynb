{
  "cells": [
    {
      "cell_type": "code",
      "execution_count": 3,
      "metadata": {},
      "outputs": [],
      "source": [
        "#@title ###### Licensed to the Apache Software Foundation (ASF), Version 2.0 (the \"License\")\n",
        "\n",
        "# Licensed to the Apache Software Foundation (ASF) under one\n",
        "# or more contributor license agreements. See the NOTICE file\n",
        "# distributed with this work for additional information\n",
        "# regarding copyright ownership. The ASF licenses this file\n",
        "# to you under the Apache License, Version 2.0 (the\n",
        "# \"License\"); you may not use this file except in compliance\n",
        "# with the License. You may obtain a copy of the License at\n",
        "#\n",
        "#   http://www.apache.org/licenses/LICENSE-2.0\n",
        "#\n",
        "# Unless required by applicable law or agreed to in writing,\n",
        "# software distributed under the License is distributed on an\n",
        "# \"AS IS\" BASIS, WITHOUT WARRANTIES OR CONDITIONS OF ANY\n",
        "# KIND, either express or implied. See the License for the\n",
        "# specific language governing permissions and limitations\n",
        "# under the License."
      ]
    },
    {
      "attachments": {},
      "cell_type": "markdown",
      "metadata": {},
      "source": [
        "#@title ###### Licensed to the Apache Software Foundation (ASF), Version 2.0 (the \"License\")\n",
        "\n",
        "# Licensed to the Apache Software Foundation (ASF) under one\n",
        "# or more contributor license agreements. See the NOTICE file\n",
        "# distributed with this work for additional information\n",
        "# regarding copyright ownership. The ASF licenses this file\n",
        "# to you under the Apache License, Version 2.0 (the\n",
        "# \"License\"); you may not use this file except in compliance\n",
        "# with the License. You may obtain a copy of the License at\n",
        "#\n",
        "#   http://www.apache.org/licenses/LICENSE-2.0\n",
        "#\n",
        "# Unless required by applicable law or agreed to in writing,\n",
        "# software distributed under the License is distributed on an\n",
        "# \"AS IS\" BASIS, WITHOUT WARRANTIES OR CONDITIONS OF ANY\n",
        "# KIND, either express or implied. See the License for the\n",
        "# specific language governing permissions and limitations\n",
        "# under the License."
      ]
    },
    {
      "cell_type": "markdown",
      "metadata": {
        "id": "V913rQcmLS72"
      },
      "source": [
        "# Welcome to Apache Beam!\n",
        "\n",
        "This notebook will be your introductory guide to Beam's main concepts and its uses. This tutorial **does not** assume any prior Apache Beam knowledge.\n",
        "\n",
        "We'll cover what Beam is, what it does, and a few basic transforms!\n",
        "\n",
        "We aim to give you familiarity with:\n",
        "- Creating a `Pipeline`\n",
        "- Creating a `PCollection`\n",
        "- Performing basic `PTransforms`\n",
        "  - Map\n",
        "  - Filter\n",
        "  - FlatMap\n",
        "  - Combine\n",
        "- Applications\n"
      ]
    },
    {
      "cell_type": "markdown",
      "metadata": {
        "id": "Lduh-9oXt3P_"
      },
      "source": [
        "## How To Approach This Tutorial\n",
        "\n",
        "This tutorial was designed for someone who likes to **learn by doing**. As such, there will be opportunities for you to practice writing your own code in these notebooks with the answer hidden in a cell below.\n",
        "\n",
        "Codes that require editing will be with an `...` and each cell title will say `Edit This Code`. However, you are free to play around with the other cells if you would like to add something beyond our tutorial.\n",
        "\n",
        "It may be tempting to just copy and paste solutions, but even if you do look at the Answer cells, try typing out the solutions manually. The muscle memory will be very helpful.\n",
        "\n",
        "> Tip: For those who would like to learn concepts more from the ground up, check out these [notebooks](https://beam.apache.org/get-started/tour-of-beam/)!"
      ]
    },
    {
      "cell_type": "markdown",
      "metadata": {
        "id": "42B-64Lvef3K"
      },
      "source": [
        "## Prerequisites\n",
        "\n",
        "We'll assume you have familiarity with Python or Pandas, but you should be able to follow along even if you’re coming from a different programming language. We'll also assume you understand programming concepts like functions, objects, arrays, and dictionaries.\n",
        "\n"
      ]
    },
    {
      "cell_type": "markdown",
      "metadata": {
        "id": "SeDD0nardXyL"
      },
      "source": [
        "## Running CoLab\n",
        "\n",
        "To navigate through different sections, use the table of contents. From View drop-down list, select Table of contents.\n",
        "\n",
        "To run a code cell, you can click the Run cell button at the top left of the cell, or by select it and press `Shift+Enter`. Try modifying a code cell and re-running it to see what happens."
      ]
    },
    {
      "cell_type": "markdown",
      "metadata": {
        "id": "UdMPnMDDkGc8"
      },
      "source": [
        "To begin, we have to set up our environment. Let's install and import Apache Beam by running the cell below."
      ]
    },
    {
      "cell_type": "code",
      "execution_count": null,
      "metadata": {
        "id": "5cPHukaOgDDM"
      },
      "outputs": [],
      "source": [
        "# Remember: You can press shift+enter to run this cell\n",
        "!pip install --quiet apache-beam\n",
        "import apache_beam as beam"
      ]
    },
    {
      "cell_type": "code",
      "execution_count": null,
      "metadata": {
        "id": "30l8_MD-undP"
      },
      "outputs": [],
      "source": [
        "# Set the logging level to reduce verbose information\n",
        "import logging\n",
        "\n",
        "logging.root.setLevel(logging.ERROR)\n"
      ]
    },
    {
      "cell_type": "markdown",
      "metadata": {
        "id": "gyoo1gLKtZmU"
      },
      "source": [
        "\n",
        "\n",
        "---\n",
        "\n",
        "\n",
        "\n",
        "---\n",
        "\n"
      ]
    },
    {
      "cell_type": "markdown",
      "metadata": {
        "id": "N29KJTfdMCtB"
      },
      "source": [
        "# What is Apache Beam?"
      ]
    },
    {
      "cell_type": "markdown",
      "metadata": {
        "id": "B2evhzEuMu8a"
      },
      "source": [
        "Apache Beam is a library for data processing. It is often used for [Extract-Transform-Load (ETL)](https://en.wikipedia.org/wiki/Extract,_transform,_load) jobs, where we:\n",
        "1. *Extract* from a data source\n",
        "2. *Transform* that data\n",
        "3. *Load* that data into a data sink (like a database)\n",
        "\n",
        "Apache Beam makes these jobs easy with the ability to process everything at the same time and its unified model and open-source SDKs. There are many more parts of Beam, but throughout these tutorials, we will break down each part to show you how they will all fit together.\n",
        "\n",
        "For this tutorial, you will use these Beam SDKs to build your own `Pipeline` to process your data.\n",
        "\n",
        "Below, we will run through creating the heart of the `Pipeline`. There are three main abstractions in Beam:\n",
        "1. `Pipeline`\n",
        "2. `PCollection`\n",
        "3. `PTransform`"
      ]
    },
    {
      "cell_type": "markdown",
      "metadata": {
        "id": "WecDJbfqpWb1"
      },
      "source": [
        "\n",
        "\n",
        "---\n",
        "\n",
        "\n",
        "---\n",
        "\n",
        "\n"
      ]
    },
    {
      "cell_type": "markdown",
      "metadata": {
        "id": "FditMJAIAp9Q"
      },
      "source": [
        "# 1. Design Your Pipeline"
      ]
    },
    {
      "cell_type": "markdown",
      "metadata": {
        "id": "_xYj6e3Hvt1W"
      },
      "source": [
        "## 1.1 What is a Pipeline"
      ]
    },
    {
      "cell_type": "markdown",
      "metadata": {
        "id": "bVJCh9FLBtU9"
      },
      "source": [
        "A `Pipeline` describes the whole cycle of your data processing task, starting from the data sources you'll be processing (`PCollection`) to the processing transforms (`PTransforms`) you will apply to them until your desired output.\n",
        "\n",
        "`Pipeline`'s are responsible for reading, processing, and saving the data. A diagram of this process is shown below. Each `PTransform` is done on or outputs a `PCollection`, and this process is done in your `Pipeline`"
      ]
    },
    {
      "cell_type": "markdown",
      "metadata": {
        "id": "IzvEluXlmzF7"
      },
      "source": [
        "![Intro to Beam.jpg](data:image/jpeg;base64,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)"
      ]
    },
    {
      "cell_type": "markdown",
      "metadata": {
        "id": "cyn8_mB6zN4m"
      },
      "source": [
        "In code, this process will look like this:\n",
        "\n",
        "\n",
        "```\n",
        "# Each `step` represents a specific transform. After `step3`, it will save the results to `outputs`.\n",
        "outputs = pipeline | step1 | step2 | step3\n",
        "```\n",
        "\n",
        ">The pipe operator `|`  applies the `PTransform` on the right side of the pipe to the input `PCollection`.\n"
      ]
    },
    {
      "cell_type": "markdown",
      "metadata": {
        "id": "gUyk2UWypI7g"
      },
      "source": [
        "Pipelines can quickly grow long, so it's sometimes easier to read if we surround them with parentheses and break them into multiple lines.\n",
        "\n",
        "```\n",
        "# This is equivalent to the example above.\n",
        "outputs = (\n",
        "  pipeline\n",
        "  | step1\n",
        "  | step2\n",
        "  | step3\n",
        ")\n",
        "```\n",
        "\n"
      ]
    },
    {
      "cell_type": "markdown",
      "metadata": {
        "id": "7hmlbjPlvZVY"
      },
      "source": [
        "Sometimes, the transform names aren't very descriptive. Beam allows each transform, or step, to have a unique label, or description. This makes it a lot easier to debug, and it's in general a good practice to start.\n",
        "\n",
        "> You can use the right shift operator `>>` to add a label to your transforms, like `'My description' >> MyTransform`.\n",
        "\n",
        "```\n",
        "# Try to give short but descriptive labels.\n",
        "# These serve both as comments and help debug later on.\n",
        "outputs = (\n",
        "  pipeline\n",
        "  | 'First step' >> step1\n",
        "  | 'Second step' >> step2\n",
        "  | 'Third step' >> step3\n",
        ")\n",
        "```"
      ]
    },
    {
      "cell_type": "markdown",
      "metadata": {
        "id": "GXQ__Kwxvr3J"
      },
      "source": [
        "## 1.2 Loading Our Data\n",
        "\n",
        "Now, you can try to write your own pipeline!\n",
        "\n",
        "First, let's load the example data we will be using throughout this tutorial into our file directory. This [dataset](https://archive.ics.uci.edu/ml/datasets/SMS+Spam+Collection) consists of a **collection of SMS messages in English tagged as either \"spam\" or \"ham\" (a legitimate SMS\n",
        ")**.\n",
        "\n",
        "For this tutorial, we will create a pipeline to **clean up the dataset to make it easier to create a classifier in Beam to detect which SMS are spam and which are ham**."
      ]
    },
    {
      "cell_type": "code",
      "execution_count": null,
      "metadata": {
        "id": "BkZ0wxsBPuvO"
      },
      "outputs": [],
      "source": [
        "# Creates a data directory with our dataset SMSSpamCollection\n",
        "!mkdir -p data\n",
        "!gsutil cp gs://apachebeamdt/SMSSpamCollection data/"
      ]
    },
    {
      "cell_type": "markdown",
      "metadata": {
        "id": "TiHFDIMnLTbm"
      },
      "source": [
        "**What does the data look like?**\n",
        "\n",
        "This dataset is a `txt` file with 5,574 rows and 4 columns recording the following attributes:\n",
        "1. `Column 1`: The label (either `ham` or `spam`)\n",
        "2. `Column 2`: The SMS as raw text (type `string`)"
      ]
    },
    {
      "cell_type": "markdown",
      "metadata": {
        "id": "r-0WM38KNaTI"
      },
      "source": [
        "## 1.3 Writing Our Own Pipeline\n",
        "\n",
        "Now that we understand our dataset, let's go into creating our pipeline.\n"
      ]
    },
    {
      "cell_type": "markdown",
      "metadata": {
        "id": "1Ajz7-WQCVfj"
      },
      "source": [
        "To initialize a `Pipeline`, you first assign your pipeline `beam.Pipeline()` to a name. Assign your pipeline to the name, `pipeline`, in the code cell below."
      ]
    },
    {
      "cell_type": "code",
      "execution_count": null,
      "metadata": {
        "id": "cXm0n80E9ZwT"
      },
      "outputs": [],
      "source": [
        "#@title Edit This Code Cell\n",
        "..."
      ]
    },
    {
      "cell_type": "code",
      "execution_count": null,
      "metadata": {
        "id": "q0gzEcos9hjp"
      },
      "outputs": [],
      "source": [
        "#@title Answer\n",
        "pipeline = beam.Pipeline()"
      ]
    },
    {
      "cell_type": "markdown",
      "metadata": {
        "id": "-K6tpdVK9KzC"
      },
      "source": [
        "This pipeline will be where we create our transformed `PCollection`. In Beam, your data lives in a `PCollection`, which stands for `Parallel Collection`.\n",
        "\n",
        "A **PCollection** is like a list of elements, but without any order guarantees. This allows Beam to easily parallelize and distribute the `PCollection`'s elements.\n",
        "\n",
        "Now, let's use one of Beam's `Read` transforms to turn our text file (our dataset) into a `PCollection`."
      ]
    },
    {
      "cell_type": "markdown",
      "metadata": {
        "id": "MS0XWqTiAIlE"
      },
      "source": [
        "## 1.4 Reading from Text File\n",
        "\n",
        "We can use the\n",
        "[`ReadFromText`](https://beam.apache.org/releases/pydoc/current/apache_beam.io.textio.html#apache_beam.io.textio.ReadFromText)\n",
        "transform to read text files into `str` elements.\n",
        "\n",
        "It takes a\n",
        "[_glob pattern_](https://en.wikipedia.org/wiki/Glob_%28programming%29)\n",
        "as an input, and reads all the files that match that pattern. For example, in the pattern `data/*.txt`, the `*` is a wildcard that matches anything. This pattern matches all the files in the `data/` directory with a `.txt` extension. It then **returns one element for each line** in the file.\n"
      ]
    },
    {
      "cell_type": "markdown",
      "metadata": {
        "id": "PXUSzLhhBwdr"
      },
      "source": [
        "Because we only want this pipeline to read the `SMSSpamCollection` file that's in the `data/` directory, we will specify the input pattern to be `'data/SMSSpamCollection'`.\n",
        "\n",
        "We will then use that input pattern with our transform `beam.io.ReadFromText()` and apply it onto our pipeline. The `beam.io.ReadFromText()` transform can take in an input pattern as an input."
      ]
    },
    {
      "cell_type": "code",
      "execution_count": null,
      "metadata": {
        "id": "HYs5697QEArB"
      },
      "outputs": [],
      "source": [
        "#@title Hint\n",
        "# If you get stuck on the syntax, use the Table of Contents to navigate to 1.1.1 What is a Pipeline and reread that section."
      ]
    },
    {
      "cell_type": "code",
      "execution_count": null,
      "metadata": {
        "id": "p5z6C65tEmtM"
      },
      "outputs": [],
      "source": [
        "#@title Edit This Code\n",
        "\n",
        "inputs_pattern = 'data/SMSSpamCollection'\n",
        "\n",
        "outputs = (\n",
        "  pipeline\n",
        "  | beam.io.ReadFromText(inputs_pattern)\n",
        ")"
      ]
    },
    {
      "cell_type": "code",
      "execution_count": null,
      "metadata": {
        "id": "zC9blgIXBv5A"
      },
      "outputs": [],
      "source": [
        "#@title Answer\n",
        "inputs_pattern = 'data/SMSSpamCollection'\n",
        "\n",
        "# Remember: | is the apply function in Beam in Python\n",
        "outputs = (\n",
        "    pipeline\n",
        "      # Remember to add short descriptions to your transforms for good practice and easier understanding\n",
        "      | 'Take in Dataset' >> beam.io.ReadFromText(inputs_pattern)\n",
        ")"
      ]
    },
    {
      "cell_type": "markdown",
      "metadata": {
        "id": "ISm7PF9wE7Ts"
      },
      "source": [
        "## 1.5 Writing to Text File\n",
        "\n",
        "Now, how do we know if we did it correctly? Let's take a look at the text file you just read.\n",
        "\n",
        "You may have noticed that we can't simply `print` the output `PCollection` to see the elements. In Beam, you can __NOT__ access the elements from a `PCollection` directly like a Python list.\n",
        "\n",
        "This is because, depending on the runner,\n",
        "the `PCollection` elements might live in multiple worker machines.\n",
        "\n",
        "However, we can see our output `PCollection` by using a [`WriteToText`](https://beam.apache.org/releases/pydoc/2.27.0/apache_beam.io.textio.html#apache_beam.io.textio.WriteToText) transform to turn our `str` elements into a `txt` file (or another file type of your choosing) and then running a command to show the head of our output file."
      ]
    },
    {
      "cell_type": "markdown",
      "metadata": {
        "id": "iz73k9d1IUGw"
      },
      "source": [
        "> `beam.io.WriteToText` takes a _file path prefix_ as an input, and it writes the all `str` elements into one or more files with filenames starting with that prefix.\n",
        "> You can optionally pass a `file_name_suffix` as well, usually used for the file extension.\n",
        "> Each element goes into its own line in the output files."
      ]
    },
    {
      "cell_type": "markdown",
      "metadata": {
        "id": "D80HrbeKFxCv"
      },
      "source": [
        "Now, you can try it. Save the results to a file path prefix `'output'` and make the file_name_suffix `'.txt'`"
      ]
    },
    {
      "cell_type": "code",
      "execution_count": null,
      "metadata": {
        "id": "v6RvVVINKOt9"
      },
      "outputs": [],
      "source": [
        "#@title Edit This Code\n",
        "inputs_pattern = 'data/SMSSpamCollection'\n",
        "\n",
        "# Remember: | is the apply function in Beam in Python\n",
        "outputs = (\n",
        "    pipeline\n",
        "      | 'Take in Dataset' >> beam.io.ReadFromText(inputs_pattern)\n",
        "      | 'Write results' >> beam.io.WriteToText(..., file_name_suffix = ...)\n",
        "      # To see the results\n",
        "      | 'Print results' >> beam.Map(print)\n",
        ")\n",
        "\n",
        "# To run the pipeline\n",
        "pipeline.run()\n",
        "\n",
        "# The command used to view your output txt file.\n",
        "# If you choose to save the file path prefix to a different location or change the file type,\n",
        "# you have to update this command as well.\n",
        "! head output*.txt"
      ]
    },
    {
      "cell_type": "markdown",
      "metadata": {
        "id": "SjphdAsmOQlh"
      },
      "source": [
        "> *`!` means \"run\" for Apache Beam*"
      ]
    },
    {
      "cell_type": "code",
      "execution_count": null,
      "metadata": {
        "id": "nRYxclPaJArp"
      },
      "outputs": [],
      "source": [
        "#@title Answer\n",
        "inputs_pattern = 'data/SMSSpamCollection'\n",
        "\n",
        "outputs = (\n",
        "    pipeline\n",
        "      | 'Take in Dataset' >> beam.io.ReadFromText(inputs_pattern)\n",
        "      # ADDED\n",
        "      | 'Write results' >> beam.io.WriteToText(\"ansoutput1\", file_name_suffix = \".txt\")\n",
        "      | 'Print results' >> beam.Map(print)\n",
        ")\n",
        "\n",
        "pipeline.run()\n",
        "\n",
        "# The file this data is saved to is called \"ansoutput1\" as seen in the WriteToText transform.\n",
        "# The command below and the transform input should match.\n",
        "! head ansoutput1*.txt"
      ]
    },
    {
      "cell_type": "markdown",
      "metadata": {
        "id": "iie23Id-O33B"
      },
      "source": [
        "# 2. PTransforms\n",
        "\n",
        "Now that we have read in our code, we can now process our data and clean it up. Remember that the purpose of this pipeline is to **clean up our data to derive features** to use in a classifier that detects spam emails from non-spam (ham) SMS.\n",
        "\n",
        "In order to clean up our data, we need to use `PTransforms`.\n",
        "\n",
        "A **`PTransform`** is any data processing operation that performs a processing function on one or more `PCollection`, outputting zero or more `PCollection`.\n",
        "\n",
        "Some PTransforms accept user-defined functions that apply custom logic, which you will learn in the *Advanced Transforms* notebook. The “P” stands for “parallel.”"
      ]
    },
    {
      "cell_type": "markdown",
      "metadata": {
        "id": "vPhZG2GgPCW7"
      },
      "source": [
        "## 2.1 Map\n",
        "\n",
        "One feature to use for the classifier to distinguish spam SMS from ham SMS is to compare the distribution of common words between the two categories. To find the common words for the two categories, we want to perform a frequency count of each word in the data set."
      ]
    },
    {
      "cell_type": "markdown",
      "metadata": {
        "id": "cR1YWyvQj1tm"
      },
      "source": [
        "First, because the data set is read line by line, let's clean up the `PCollection` so that the label and the SMS is separated.\n",
        "\n",
        "To do so, we will use the transform `Map`, which takes a **function** and **maps it** to **each element** of the collection and transforms a single input `a` to a single output `b`.\n",
        "\n",
        "In this case, we will use `beam.Map` which takes in a lambda function and uses regex to split the line into a two item list: [label, SMS]. The lambda function we will use is `lambda line: line.split(\"\\t\")`, which splits each element of the `PCollection` by tab and putting them into a list.\n"
      ]
    },
    {
      "cell_type": "markdown",
      "metadata": {
        "id": "Xey-I5BFvCiH"
      },
      "source": [
        "Add a line of code between the `ReadFromText` and `WriteToText` transform that applies a `beam.Map` transform that takes in the function described above. Remember to add a short description for your transform!"
      ]
    },
    {
      "cell_type": "code",
      "execution_count": null,
      "metadata": {
        "id": "hdrOsitSuj7z"
      },
      "outputs": [],
      "source": [
        "#@title Edit This Code\n",
        "import re\n",
        "\n",
        "inputs_pattern = 'data/SMSSpamCollection'\n",
        "\n",
        "outputs = (\n",
        "    pipeline\n",
        "      | 'Take in Dataset' >> beam.io.ReadFromText(inputs_pattern)\n",
        "      ...\n",
        "      | 'Write results' >> beam.io.WriteToText(\"output2\", file_name_suffix = \".txt\")\n",
        "      | 'Print results' >> beam.Map(print)\n",
        ")\n",
        "\n",
        "pipeline.run()\n",
        "\n",
        "! head output2*.txt"
      ]
    },
    {
      "cell_type": "code",
      "execution_count": null,
      "metadata": {
        "id": "2k4e3j24wTzM"
      },
      "outputs": [],
      "source": [
        "#@title Answer\n",
        "import re\n",
        "\n",
        "inputs_pattern = 'data/SMSSpamCollection'\n",
        "\n",
        "outputs = (\n",
        "    pipeline\n",
        "      | 'Take in Dataset' >> beam.io.ReadFromText(inputs_pattern)\n",
        "      # ADDED\n",
        "      | 'Separate to list' >> beam.Map(lambda line: line.split(\"\\t\"))\n",
        "      | 'Write results' >> beam.io.WriteToText(\"ansoutput2\", file_name_suffix = \".txt\")\n",
        "      | 'Print results' >> beam.Map(print)\n",
        ")\n",
        "\n",
        "pipeline.run()\n",
        "\n",
        "! head ansoutput2*.txt"
      ]
    },
    {
      "cell_type": "markdown",
      "metadata": {
        "id": "ju8TXxBYwvzX"
      },
      "source": [
        "## 2.2 Filter\n",
        "\n",
        "Now that we have a list separating the label and the SMS, let's first focus on only counting words with the **spam** label. In order to process certain elements while igorning others, we want to filter out specific elements in a collection using the transform `Filter`.\n",
        "\n",
        "`beam.Filter` takes in a function that checks a single element a, and returns True to keep the element, or False to discard it.\n",
        "\n",
        "In this case, we want `Filter` to return true if the list contains the label **spam**.\n",
        "\n",
        "We will use a lambda function again for this example, but this time, you will write the lambda function yourself. Add a line of code after your `beam.Map` transform to only return a `PCollection` that only contains lists with the label **spam**."
      ]
    },
    {
      "cell_type": "code",
      "execution_count": null,
      "metadata": {
        "id": "a72v9SQ0zb5u"
      },
      "outputs": [],
      "source": [
        "#@title Edit This Code\n",
        "import re\n",
        "\n",
        "inputs_pattern = 'data/SMSSpamCollection'\n",
        "\n",
        "outputs = (\n",
        "    pipeline\n",
        "      | 'Take in Dataset' >> beam.io.ReadFromText(inputs_pattern)\n",
        "      | 'Separate to list' >> beam.Map(lambda line: line.split(\"\\t\"))\n",
        "      ...\n",
        "      | 'Write results' >> beam.io.WriteToText(\"ansoutput3\", file_name_suffix = \".txt\")\n",
        "      | 'Print results' >> beam.Map(print)\n",
        ")\n",
        "\n",
        "pipeline.run()\n",
        "\n",
        "! head ansoutput3*.txt"
      ]
    },
    {
      "cell_type": "code",
      "execution_count": null,
      "metadata": {
        "cellView": "form",
        "id": "BmvUeOztzCv0"
      },
      "outputs": [],
      "source": [
        "#@title Answer\n",
        "import re\n",
        "\n",
        "inputs_pattern = 'data/SMSSpamCollection'\n",
        "\n",
        "outputs = (\n",
        "    pipeline\n",
        "      | 'Take in Dataset' >> beam.io.ReadFromText(inputs_pattern)\n",
        "      | 'Separate to list' >> beam.Map(lambda line: line.split(\"\\t\"))\n",
        "      # ADDED\n",
        "      | 'Keep only spam' >> beam.Filter(lambda line: line[0] == \"spam\")\n",
        "      | 'Write results' >> beam.io.WriteToText(\"ansoutput3\", file_name_suffix = \".txt\")\n",
        "      | 'Print results' >> beam.Map(print)\n",
        ")\n",
        "\n",
        "pipeline.run()\n",
        "\n",
        "! head ansoutput3*.txt"
      ]
    },
    {
      "cell_type": "markdown",
      "metadata": {
        "id": "v4EcJw45zy6Y"
      },
      "source": [
        "## 2.3 FlatMap\n",
        "\n",
        "Now, that we know we only have SMS labelled spam, we now need to change the element such that instead of each element being a list containing the label and the SMS, each element is a word in the SMS.\n",
        "\n",
        "We can't use `Map`, since `Map` allows us to transform each individual element, but we can't change the number of elements with it.\n",
        "\n",
        "Instead, we want to map a function to each element of a collection. That function returns a list of output elements, so we would get a list of lists of elements. Then we want to flatten the list of lists into a single list.\n",
        "\n",
        "To do this, we will use `FlatMap`, which takes a **function** that transforms a single input a into an **iterable of outputs** b. But we get a **single collection** containing the outputs of all the elements. In this case, all these elements will be the words found in the SMS."
      ]
    },
    {
      "cell_type": "markdown",
      "metadata": {
        "id": "3V3w2cz11S_8"
      },
      "source": [
        "Add a `FlatMap` transform that takes in the function `lambda line: re.findall(r\"[a-zA-Z']+\", line[1])` to your code below. The lambda function finds words by finding all elements in the SMS that match the specifications of the regex."
      ]
    },
    {
      "cell_type": "code",
      "execution_count": null,
      "metadata": {
        "id": "USHHIPO91xDn"
      },
      "outputs": [],
      "source": [
        "#@title Edit This Code\n",
        "import re\n",
        "\n",
        "inputs_pattern = 'data/SMSSpamCollection'\n",
        "\n",
        "outputs = (\n",
        "    pipeline\n",
        "      | 'Take in Dataset' >> beam.io.ReadFromText(inputs_pattern)\n",
        "      | 'Separate to list' >> beam.Map(lambda line: line.split(\"\\t\"))\n",
        "      | 'Keep only spam' >> beam.Filter(lambda line: line[0] == \"spam\")\n",
        "      ...\n",
        "      | 'Write results' >> beam.io.WriteToText(\"ansoutput3\", file_name_suffix = \".txt\")\n",
        "      | 'Print results' >> beam.Map(print)\n",
        ")\n",
        "\n",
        "pipeline.run()\n",
        "\n",
        "! head ansoutput3*.txt"
      ]
    },
    {
      "cell_type": "code",
      "execution_count": null,
      "metadata": {
        "cellView": "form",
        "id": "VFuRMIsN0Edn"
      },
      "outputs": [],
      "source": [
        "#@title Answer\n",
        "import re\n",
        "\n",
        "inputs_pattern = 'data/SMSSpamCollection'\n",
        "\n",
        "outputs = (\n",
        "    pipeline\n",
        "      | 'Take in Dataset' >> beam.io.ReadFromText(inputs_pattern)\n",
        "      | 'Separate to list' >> beam.Map(lambda line: line.split(\"\\t\"))\n",
        "      | 'Keep only spam' >> beam.Filter(lambda line: line[0] == \"spam\")\n",
        "      # ADDED\n",
        "      | 'Find words' >> beam.FlatMap(lambda line: re.findall(r\"[a-zA-Z']+\", line[1]))\n",
        "      | 'Write results' >> beam.io.WriteToText(\"ansoutput3\", file_name_suffix = \".txt\")\n",
        "      | 'Print results' >> beam.Map(print)\n",
        ")\n",
        "\n",
        "pipeline.run()\n",
        "\n",
        "! head ansoutput3*.txt"
      ]
    },
    {
      "cell_type": "markdown",
      "metadata": {
        "id": "BFJMyIyJ17lE"
      },
      "source": [
        "## 2.4 Combine\n",
        "\n",
        "Now that each word is one element, we have to count up the elements. To do that we can use [aggregation](https://beam.apache.org/documentation/transforms/python/overview/) transforms, specifically `CombinePerKey` in this instance which transforms an iterable of inputs a, and returns a single output a based on their key.\n",
        "\n",
        "Before using `CombinePerKey` however, we have to associate each word with a numerical value to then combine them.\n",
        "\n",
        "To do this, we add `| 'Pair words with 1' >> beam.Map(lambda word: (word, 1))` to the `Pipeline`, which associates each word with the numerical value 1.\n",
        "\n",
        "With each word assigned to a numerical value, we can now combine these numerical values to sum up all the counts of each word. Like the past transforms, `CombinePerKey` takes in a function and applies it to each element of the `PCollection`.\n",
        "\n",
        "However, instead of writing our own lambda function, we can use pass one of Beam's built-in function `sum` into `CombinePerKey`."
      ]
    },
    {
      "cell_type": "code",
      "execution_count": null,
      "metadata": {
        "id": "Yw_3dfnzI2xA"
      },
      "outputs": [],
      "source": [
        "#@title Edit This Code\n",
        "import re\n",
        "\n",
        "inputs_pattern = 'data/SMSSpamCollection'\n",
        "\n",
        "outputs = (\n",
        "    pipeline\n",
        "      | 'Take in Dataset' >> beam.io.ReadFromText(inputs_pattern)\n",
        "      | 'Separate to list' >> beam.Map(lambda line: line.split(\"\\t\"))\n",
        "      | 'Keep only spam' >> beam.Filter(lambda line: line[0] == \"spam\")\n",
        "      | 'Find words' >> beam.FlatMap(lambda line: re.findall(r\"[a-zA-Z']+\", line[1]))\n",
        "      | 'Pair words with 1' >> beam.Map(lambda word: (word, 1))\n",
        "      ...\n",
        "      | 'Write results' >> beam.io.WriteToText(\"ansoutput4\", file_name_suffix = \".txt\")\n",
        "      | 'Print results' >> beam.Map(print)\n",
        ")\n",
        "\n",
        "pipeline.run()\n",
        "\n",
        "! head ansoutput4*.txt"
      ]
    },
    {
      "cell_type": "code",
      "execution_count": null,
      "metadata": {
        "cellView": "form",
        "id": "qDyh9_faIkCo"
      },
      "outputs": [],
      "source": [
        "#@title Answer\n",
        "import re\n",
        "\n",
        "inputs_pattern = 'data/SMSSpamCollection'\n",
        "\n",
        "outputs = (\n",
        "    pipeline\n",
        "      | 'Take in Dataset' >> beam.io.ReadFromText(inputs_pattern)\n",
        "      | 'Separate to list' >> beam.Map(lambda line: line.split(\"\\t\"))\n",
        "      | 'Keep only spam' >> beam.Filter(lambda line: line[0] == \"spam\")\n",
        "      | 'Find words' >> beam.FlatMap(lambda line: re.findall(r\"[a-zA-Z']+\", line[1]))\n",
        "      | 'Pair words with 1' >> beam.Map(lambda word: (word, 1))\n",
        "      # ADDED\n",
        "      | 'Group and sum' >> beam.CombinePerKey(sum)\n",
        "      | 'Write results' >> beam.io.WriteToText(\"ansoutput4\", file_name_suffix = \".txt\")\n",
        "      | 'Print results' >> beam.Map(print)\n",
        ")\n",
        "\n",
        "pipeline.run()\n",
        "\n",
        "! head ansoutput4*.txt"
      ]
    },
    {
      "cell_type": "markdown",
      "metadata": {
        "id": "L9zNI4LMJHur"
      },
      "source": [
        "And we finished! Now that we have a count of all the words in our data set, it makes it much easier for us to use this feature to create a logistic regression model to detect spam texts."
      ]
    },
    {
      "cell_type": "markdown",
      "metadata": {
        "id": "BozCqbzUPItB"
      },
      "source": [
        "\n",
        "\n",
        "---\n",
        "\n",
        "\n",
        "\n",
        "---\n",
        "\n"
      ]
    },
    {
      "cell_type": "markdown",
      "metadata": {
        "id": "Cv9508k4MeS4"
      },
      "source": [
        "# Full Spam Ham Apache Beam Example\n",
        "\n",
        "Below is a summary of all the code we performed for your convenience. Note you do not need to explicitly call run with the with statement."
      ]
    },
    {
      "cell_type": "code",
      "execution_count": null,
      "metadata": {
        "id": "8iWWy3Y7Msxm"
      },
      "outputs": [],
      "source": [
        "!pip install --quiet apache-beam\n",
        "!mkdir -p data\n",
        "!gsutil cp gs://apachebeamdt/SMSSpamCollection data/"
      ]
    },
    {
      "cell_type": "code",
      "execution_count": null,
      "metadata": {
        "id": "43oijI4BCAW1"
      },
      "outputs": [],
      "source": [
        "import apache_beam as beam\n",
        "import re\n",
        "\n",
        "inputs_pattern = 'data/SMSSpamCollection'\n",
        "outputs_prefix_ham = 'outputs/fullcodeham'\n",
        "outputs_prefix_spam = 'outputs/fullcodespam'\n",
        "\n",
        "# Ham Word Count\n",
        "with beam.Pipeline() as pipeline:\n",
        "     ham = (\n",
        "      pipeline\n",
        "      | 'Take in Dataset' >> beam.io.ReadFromText(inputs_pattern)\n",
        "      | 'Separate to list' >> beam.Map(lambda line: line.split(\"\\t\"))\n",
        "      | 'Keep only ham' >> beam.Filter(lambda line: line[0] == \"ham\")\n",
        "      | 'Find words' >> beam.FlatMap(lambda line: re.findall(r\"[a-zA-Z']+\", line[1]))\n",
        "      | 'Pair words with 1' >> beam.Map(lambda word: (word, 1))\n",
        "      | 'Group and sum' >> beam.CombinePerKey(sum)\n",
        "      | 'Format results' >> beam.Map(lambda word_c: str(word_c))\n",
        "      | 'Write results' >> beam.io.WriteToText(outputs_prefix_ham, file_name_suffix = \".txt\")\n",
        "    )\n",
        "\n",
        "# Spam Word Count\n",
        "with beam.Pipeline() as pipeline1:\n",
        "  spam = (\n",
        "    pipeline1\n",
        "    | 'Take in Dataset' >> beam.io.ReadFromText(inputs_pattern)\n",
        "    | 'Separate to list' >> beam.Map(lambda line: line.split(\"\\t\"))\n",
        "    | 'Filter out only spam' >> beam.Filter(lambda line: line[0] == \"spam\")\n",
        "    | 'Find words' >> beam.FlatMap(lambda line: re.findall(r\"[a-zA-Z']+\", line[1]))\n",
        "    | 'Pair words with 1' >> beam.Map(lambda word: (word, 1))\n",
        "    | 'Group and sum' >> beam.CombinePerKey(sum)\n",
        "    | 'Format results' >> beam.Map(lambda word_c: str(word_c))\n",
        "    | 'Write results' >> beam.io.WriteToText(outputs_prefix_spam, file_name_suffix = \".txt\")\n",
        "    )\n",
        "\n",
        "print('Ham Word Count Head')\n",
        "! head outputs/fullcodeham*.txt\n",
        "\n",
        "print('Spam Word Count Head')\n",
        "! head outputs/fullcodespam*.txt"
      ]
    },
    {
      "cell_type": "markdown",
      "metadata": {
        "id": "FNg53x4fyXOO"
      },
      "source": [
        "**One more thing: you can also visualize the Beam pipelines!**\n",
        "\n",
        "Check [this example](https://github.com/apache/beam/blob/master/sdks/python/apache_beam/runners/interactive/examples/Interactive%20Beam%20Example.ipynb) to learn more about the interatvive Beam."
      ]
    },
    {
      "cell_type": "code",
      "execution_count": null,
      "metadata": {
        "id": "k5cYnOElwrm7"
      },
      "outputs": [],
      "source": [
        "import apache_beam.runners.interactive.interactive_beam as ib\n",
        "ib.show_graph(pipeline)"
      ]
    },
    {
      "cell_type": "code",
      "execution_count": null,
      "metadata": {
        "id": "-MIhR-ZHwt_w"
      },
      "outputs": [],
      "source": []
    }
  ],
  "metadata": {
    "colab": {
      "provenance": [],
      "toc_visible": true
    },
    "kernelspec": {
      "display_name": "venv",
      "language": "python",
      "name": "python3"
    },
    "language_info": {
      "codemirror_mode": {
        "name": "ipython",
        "version": 3
      },
      "file_extension": ".py",
      "mimetype": "text/x-python",
      "name": "python",
      "nbconvert_exporter": "python",
      "pygments_lexer": "ipython3",
      "version": "3.10.6"
    },
    "vscode": {
      "interpreter": {
        "hash": "aab5fceeb08468f7e142944162550e82df74df803ff2eb1987d9526d4285522f"
      }
    }
  },
  "nbformat": 4,
  "nbformat_minor": 0
}
