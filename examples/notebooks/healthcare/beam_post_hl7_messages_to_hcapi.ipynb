{
  "nbformat": 4,
  "nbformat_minor": 0,
  "metadata": {
    "colab": {
      "provenance": [],
      "private_outputs": true,
      "toc_visible": true,
      "include_colab_link": true
    },
    "kernelspec": {
      "name": "python3",
      "display_name": "Python 3"
    },
    "language_info": {
      "name": "python"
    }
  },
  "cells": [
    {
      "cell_type": "markdown",
      "metadata": {
        "id": "view-in-github",
        "colab_type": "text"
      },
      "source": [
        "<a href=\"https://colab.research.google.com/github/devanshmodi/beam/blob/devanshmodi-patch-healthcare-hl7-to-hcapi/examples/notebooks/healthcare/beam_post_hl7_messages_to_hcapi.ipynb\" target=\"_parent\"><img src=\"https://colab.research.google.com/assets/colab-badge.svg\" alt=\"Open In Colab\"/></a>"
      ]
    },
    {
      "cell_type": "code",
      "execution_count": null,
      "metadata": {
        "id": "zQ_JXPR3RoFV"
      },
      "outputs": [],
      "source": [
        "# @title ###### Licensed to the Apache Software Foundation (ASF), Version 2.0 (the \"License\")\n",
        "\n",
        "# Licensed to the Apache Software Foundation (ASF) under one\n",
        "# or more contributor license agreements. See the NOTICE file\n",
        "# distributed with this work for additional information\n",
        "# regarding copyright ownership. The ASF licenses this file\n",
        "# to you under the Apache License, Version 2.0 (the\n",
        "# \"License\"); you may not use this file except in compliance\n",
        "# with the License. You may obtain a copy of the License at\n",
        "#\n",
        "#   http://www.apache.org/licenses/LICENSE-2.0\n",
        "#\n",
        "# Unless required by applicable law or agreed to in writing,\n",
        "# software distributed under the License is distributed on an\n",
        "# \"AS IS\" BASIS, WITHOUT WARRANTIES OR CONDITIONS OF ANY\n",
        "# KIND, either express or implied. See the License for the\n",
        "# specific language governing permissions and limitations\n",
        "# under the License\n",
        "\n",
        "##################################\n",
        "# Author: Devansh Modi           #\n",
        "##################################\n"
      ]
    },
    {
      "cell_type": "markdown",
      "source": [],
      "metadata": {
        "id": "RL1LDp645ogr"
      }
    },
    {
      "cell_type": "markdown",
      "source": [
        "# **Post Hl7v2 messages to Google Cloud Healthcare API HL7v2 store pipeline**\n",
        "\n",
        "This example demonstrates how to set up an Apache Beam pipeline that reads a HL7 file from [Google Cloud Storage](https://https://cloud.google.com/storage), and calls the [Google Cloud Healthcare API Hl7v2 store to store Hl7 messages](https://cloud.google.com/healthcare-api/docs/how-tos/hl7v2-messages) to extract information from unstructured data. This application can be used in contexts such as reading raw Hl7 messages, if needed parse them or modify them as per your defined Hl7v2 store configurations and store data into Hl7v2 store.\n",
        "\n",
        "An Apache Beam pipeline is a pipeline that reads input data, transforms that data, and writes output data. It consists of PTransforms and PCollections. A PCollection represents a distributed data set that your Beam pipeline operates on. A PTransform represents a data processing operation, or a step, in your pipeline. It takes one or more PCollections as input, performs a processing function that you provide on the elements of that PCollection, and produces zero or more output PCollection objects.\n",
        "\n",
        "For details about Apache Beam pipelines, including PTransforms and PCollections, visit the [Beam Programming Guide](https://beam.apache.org/documentation/programming-guide/).\n",
        "\n",
        "You'll be able to use this notebook to explore the data in each PCollection."
      ],
      "metadata": {
        "id": "wC9KRrlORwKu"
      }
    },
    {
      "cell_type": "markdown",
      "source": [
        "***Sample HL7v2 Message***\n",
        "\n",
        "The below reference message shows a sample Hl7v2 messages seperated by \\r.\n",
        "\n",
        "MSH|^~\\&|FROM_APP|FROM_FACILITY|TO_APP|TO_FACILITY|20150503223000||ADT^A01|20150503223000|P|2.5|\\r\n",
        "EVN|A01|20110613083617|\\r\n",
        "PID|1||21004053^^^^MRN||SULLY^BRIAN||19611209|M|||123 MAIN ST^^MOUNTAIN SPRINGS^CO^80439|\\r\n",
        "PV1||I|H73 RM1^1^^HIGHWAY 73 CLINIC||||5148^MARY QUINN|||||||||Y||||||||||||||||||||||||||||20150503223000|\n",
        "\n",
        "The file contains many such messages and the objective of this code will be to split and construct messages and POST it to Google Cloud HealthCare API HL7v2 store."
      ],
      "metadata": {
        "id": "AOVYgtyaqSxa"
      }
    },
    {
      "cell_type": "markdown",
      "source": [
        "Lets install necessary packages"
      ],
      "metadata": {
        "id": "81wCK9XnS6Sc"
      }
    },
    {
      "cell_type": "code",
      "source": [
        "!pip install apache-beam[gcp]"
      ],
      "metadata": {
        "id": "Yv1phmRZS23c"
      },
      "execution_count": null,
      "outputs": []
    },
    {
      "cell_type": "markdown",
      "source": [
        "**GCP Setup**\n",
        "1. Authenticate your notebook by `gcloud auth application-default login` in the Colab terminal.\n",
        "\n",
        "2. Run `gcloud config set project <YOUR-PROJECT>`\n",
        "\n",
        "Set the variables in the next cell based upon your project and preferences. The files referred to in this notebook nlpsample*.csv are in the format with one\n",
        "blurb of clinical note.\n",
        "\n",
        "Note that below, **us-central1** is hardcoded as the location. This is because of the limited number of [locations](https://cloud.google.com/healthcare-api/docs/how-tos/hl7v2-messages) the API currently supports."
      ],
      "metadata": {
        "id": "tpePe_yOsdSJ"
      }
    },
    {
      "cell_type": "markdown",
      "source": [
        "Before running please set the following variables as arguments as mentioned below\n"
      ],
      "metadata": {
        "id": "_1Q3mw1usnoE"
      }
    },
    {
      "cell_type": "code",
      "source": [
        "args = {'gcp_project':'xxx', #GCP project ID\n",
        "        'gcp_region':'xxx', # GCP project region\n",
        "        'temp_location':'gs://<YOUR Bucket>/tmp', #input location where your HL7 messages are stored in GCS bucket\n",
        "        'input_file':'gs://<YOUR Bucket>/my_message.hl7', #input location where your HL7 messages are stored in GCS bucket\n",
        "        'hcapi_project_id':'xxxxxx', #healthcare API project ID\n",
        "        'hcapi_dataset':'xxxx', #healthcare dataset\n",
        "        'hcapi_version':'v1', #healthcare API version by defualt v1\n",
        "        'hcapi_location':'xxxx', #healthcare API configured location\n",
        "        'hcapi_hl7_store':'xxx', #healthcare api hl7 store\n",
        "        'hcapi_fhir_store':''}"
      ],
      "metadata": {
        "id": "a722GbqdvgOX"
      },
      "execution_count": null,
      "outputs": []
    },
    {
      "cell_type": "markdown",
      "source": [
        "**Google Cloud Healthcare (HCAPI) API Utils class**\n",
        "\n",
        "Below is the code snippet which describes the class having healthcare API connections and configurations. Basic functionality, includes constructing the hcapi_url as per the input parameters, clean the HL7 message in terms of proper formatting and post hl7v2 message to hl7v2 store. You can add more transformations as per your requirements."
      ],
      "metadata": {
        "id": "NHzk8JIqxQoa"
      }
    },
    {
      "cell_type": "code",
      "source": [
        "import google.auth\n",
        "import google.auth.transport.requests\n",
        "import base64\n",
        "import json\n",
        "import hashlib\n",
        "import requests\n",
        "import logging\n",
        "import apache_beam as beam\n",
        "from apache_beam.options.pipeline_options import PipelineOptions\n",
        "from apache_beam.options.pipeline_options import SetupOptions\n",
        "from apache_beam.testing.test_pipeline import TestPipeline\n",
        "import apache_beam.runners.interactive.interactive_beam as ib\n",
        "from apache_beam import io\n",
        "\n",
        "logging.basicConfig(level=logging.INFO, format='%(asctime)s :: %(levelname)s :: %(message)s')\n",
        "\n",
        "class hcapi_cls:\n",
        "\n",
        "    def __init__(self, args):\n",
        "        self.hcapi_hl7_store = str(args['hcapi_hl7_store'])\n",
        "        self.hcapi_project_id = str(args['hcapi_project_id'])\n",
        "        self.hcapi_version = str(args['hcapi_version'])\n",
        "        self.hcapi_location = str(args['hcapi_location'])\n",
        "        self.hcapi_dataset = str(args['hcapi_dataset'])\n",
        "        self.hcapi_fhir_store = str(args['hcapi_fhir_store'])\n",
        "        self.token = None\n",
        "\n",
        "    def google_api_headers(self):\n",
        "        \"\"\" Function executes self and gets the token for the request \"\"\"\n",
        "        logging.info(\"fetching token and refreshing credentials\")\n",
        "        creds, project = google.auth.default()\n",
        "        auth_req = google.auth.transport.requests.Request()\n",
        "        creds.refresh(auth_req)\n",
        "        return {\n",
        "            \"Authorization\": f\"Bearer {creds.token}\",\n",
        "            \"Prefer\": \"handling=strict\"\n",
        "        }\n",
        "\n",
        "    def hcapi_dataset_url(self, version=None, project=None, location=None, dataset=None):\n",
        "        \"\"\" This function creates base hcapi dataset url and returns it \"\"\"\n",
        "        base = 'https://healthcare.googleapis.com'\n",
        "        version = self.hcapi_version\n",
        "        project = self.hcapi_project_id\n",
        "        location = self.hcapi_location\n",
        "        dataset = self.hcapi_dataset\n",
        "        return f'{base}/{version}/projects/{project}/locations/{location}/datasets/{dataset}'\n",
        "\n",
        "    def hcapi_get(self, url):\n",
        "        \"\"\" Function to send get request to HCAPI \"\"\"\n",
        "        response = requests.get(url, headers=self.google_api_headers())\n",
        "        if not response.ok:\n",
        "            raise Exception(f'Error with HC API get:\\n{response.text}')\n",
        "        return response.json()\n",
        "\n",
        "    def hcapi_post(self, url, data):\n",
        "        \"\"\" Function to send post request to HCAPI \"\"\"\n",
        "        response = requests.post(url, headers=self.google_api_headers(), json=data)\n",
        "        if not response.ok:\n",
        "            raise Exception(f'Error with HC API post:\\n{response.text}')\n",
        "        return response.json()\n",
        "\n",
        "    def hcapi_delete(self, url):\n",
        "        \"\"\" Function to send delete request to HCAPI \"\"\"\n",
        "        response = requests.delete(url, headers=self.google_api_headers())\n",
        "        if not response.ok:\n",
        "            raise Exception(f'Error with HC API get:\\n{response.text}')\n",
        "        return response.json()\n",
        "\n",
        "    def hcapi_hl7_url(self, version=None, project=None, location=None, dataset=None, store=None):\n",
        "        \"\"\" This function creates hcapi hl7V2store url and returns the url \"\"\"\n",
        "        base_url = self.hcapi_dataset_url(version=version, project=project,\n",
        "                                      location=location, dataset=dataset)\n",
        "        hl7_store = self.hcapi_hl7_store\n",
        "        return f'{base_url}/hl7V2Stores/{hl7_store}'\n",
        "\n",
        "    def get_hl7_message(self, message_id):\n",
        "        \"\"\" Function to get message from HL7v2 store using HCAPI URL \"\"\"\n",
        "        url = f'{self.hcapi_hl7_url()}/messages/{message_id}'\n",
        "        return self.hcapi_get(url)\n",
        "\n",
        "    def post_hl7_message(self, payload):\n",
        "        \"\"\" Function to post messages to HL7v2 store \"\"\"\n",
        "        url = f'{self.hcapi_hl7_url()}/messages'\n",
        "        return self.hcapi_post(url, payload)\n",
        "\n",
        "    def message_to_hl7_store(self, message):\n",
        "        \"\"\" Function to clean up Hl7 messages with \\r seperator before posting to HCAPI \"\"\"\n",
        "        messase =str(message)\n",
        "        message = message.replace('\\n', '\\r')\n",
        "        message = message.replace('\\\\r', '\\r')\n",
        "        message = message.replace('\\r\\r', '\\r')\n",
        "        encoded = base64.b64encode(str(message).encode())\n",
        "        payload = {\n",
        "            \"message\": {\n",
        "                \"data\": encoded.decode()\n",
        "            }\n",
        "        }\n",
        "        return self.post_hl7_message(payload)\n",
        "\n",
        "    def hcapi_fhir_url(self, version=None, project=None, location=None, dataset=None, store=None):\n",
        "        \"\"\" This function creates hcapi fhir store url and returns it \"\"\"\n",
        "        base_url = self.hcapi_dataset_url(version=version, project=project,\n",
        "                                      location=location, dataset=dataset)\n",
        "        if store is None:\n",
        "            raise Exception('No FHIR store specified')\n",
        "        return f'{base_url}/fhirStores/{store}/fhir'\n",
        "\n",
        "    def hcapi_fhir_request(self, store_key, query, data={}, method='GET'):\n",
        "        \"\"\" Function to send post request to HCAPI FHIR store \"\"\"\n",
        "        store = self.hcapi_fhir_store\n",
        "        if not store:\n",
        "            raise Exception(f\"Couldn't FHIR find store named {store_key} in config\")\n",
        "        url = self.hcapi_fhir_url(store=store)\n",
        "        url = f'{url}/{query}' if query else url\n",
        "        get = lambda q, d: self.hcapi_get(url)\n",
        "        post = lambda q, d: self.hcapi_post(url, data)\n",
        "        delete = lambda q, d: self.hcapi_delete(url)\n",
        "        return {'GET': get, 'POST': post, 'DELETE' : delete}[method](query, data)\n",
        "\n"
      ],
      "metadata": {
        "id": "H7g4_-rGS9P_"
      },
      "execution_count": null,
      "outputs": []
    },
    {
      "cell_type": "markdown",
      "source": [
        "**Pipeline Setup**\n",
        "\n",
        "We will use InteractiveRunner in this notebook.\n",
        "Following are the DoFn classes which carry out its respective operations"
      ],
      "metadata": {
        "id": "lXnzAtbHyUd2"
      }
    },
    {
      "cell_type": "markdown",
      "source": [
        "The following class **BuildFileName** takes the file name from the element and converts its into string. You can enhance this class to construct GCS bucket URL, if your GCS bucket prefix remains constant."
      ],
      "metadata": {
        "id": "TKnL8kxh3Kms"
      }
    },
    {
      "cell_type": "code",
      "source": [
        "class BuildFileName(beam.DoFn):\n",
        "    \"\"\" Class to get file name from variable and returns the filename \"\"\"\n",
        "    def process(self, element):\n",
        "        logging.info(\"processing the following file: {}\".format(element))\n",
        "        file_path = str(element)\n",
        "        yield file_path"
      ],
      "metadata": {
        "id": "N01E3dQd3Jr3"
      },
      "execution_count": null,
      "outputs": []
    },
    {
      "cell_type": "markdown",
      "source": [
        "The following class **BuildMessages** takes the GCS URL from the above class reads it, sepeartes out each message, appends into a list and return list for the next class."
      ],
      "metadata": {
        "id": "Jej68R8w3i2Z"
      }
    },
    {
      "cell_type": "code",
      "source": [
        "class BuildMessages(beam.DoFn):\n",
        "    \"\"\" Class to read file, clean and seperate messgaes based on MSH\"\"\"\n",
        "    def process(self, file_name):\n",
        "        try:\n",
        "            logging.info(\"starting to read file: {}\".format(file_name))\n",
        "            file = io.gcsio.GcsIO().open(filename=file_name, mode='r')\n",
        "            read_file = file.read()\n",
        "            new_file = str(read_file, encoding='utf-8').replace('\\n', '\\r')\n",
        "            logging.info(\"starting to seperate HL7 messages into list\")\n",
        "            messages=[]\n",
        "            for line in new_file.split('\\r'):\n",
        "                if line[:3] =='MSH':\n",
        "                    messages.append(line)\n",
        "                else:\n",
        "                    messages[-1]+= line\n",
        "\n",
        "\n",
        "            logging.info(\"total number of messages parsed are {}\".format(len(messages)))\n",
        "            return messages\n",
        "        except Exception as error:\n",
        "            logging.error(\"got the following error while processing : {}\".format('\\n'+str(error)))\n",
        "            raise Exception\n",
        "\n",
        "\n"
      ],
      "metadata": {
        "id": "MC6tr_sGyNKG"
      },
      "execution_count": null,
      "outputs": []
    },
    {
      "cell_type": "markdown",
      "source": [
        "The following class **PostToHL7V2Store** takes the messages return in the earlier class and POST each messages to Hl7v2 store ."
      ],
      "metadata": {
        "id": "1hpuoUGA33jo"
      }
    },
    {
      "cell_type": "code",
      "source": [
        "class PostToHL7V2Store(beam.DoFn):\n",
        "    \"\"\" Class to read file, clean and seperate messgaes based on MSH\"\"\"\n",
        "    def process(self, element):\n",
        "        try:\n",
        "            logging.info(\"starting to prepare and post message\")\n",
        "            hl7v2_store_response = hcapi.message_to_hl7_store(element)\n",
        "            message_id = hl7v2_store_response['name'].split(\"/\")[-1]\n",
        "            logging.info(\"successfully posted message to Hl7v2 store with message id :- {}\".format(message_id))\n",
        "\n",
        "            # \"Getting the messagge from HL7V2 store for testing purpose\n",
        "            #message = nb.get_hl7_message(message_id)\n",
        "            #print(message)\n",
        "\n",
        "            yield message_id\n",
        "        except Exception as error:\n",
        "            logging.error(\"got the following error while processing : {}\".format(error))\n",
        "            raise Exception"
      ],
      "metadata": {
        "id": "lVjqYfb2330k"
      },
      "execution_count": null,
      "outputs": []
    },
    {
      "cell_type": "markdown",
      "source": [
        "The following class sets up a PTransform with various other Pipeline options that will extracts messages from Hl7 text and post each hl7 message to hl7v2 store using Google Cloud Healthcare API (HCAPI) api methods.\n",
        "\n",
        "**\"|\"** is an overloaded operator that applies a PTransform to a PCollection to produce a new PCollection. Together with |, >> allows you to optionally name a PTransform.\n",
        "\n",
        "Usage:[PCollection] | [PTransform], **or** [PCollection] | [name] >> [PTransform]"
      ],
      "metadata": {
        "id": "g5oJgXCk4O1a"
      }
    },
    {
      "cell_type": "code",
      "source": [
        "\n",
        "import apache_beam.runners.interactive.interactive_beam as ib\n",
        "def run(beam_args,argv=None,save_main_session=True):\n",
        "    runnertype = \"InteractiveRunner\"\n",
        "    project=beam_args['gcp_project']\n",
        "    region=beam_args['gcp_region']\n",
        "    temp_location=beam_args['temp_location']\n",
        "\n",
        "    options = PipelineOptions(\n",
        "      flags=argv,\n",
        "      runner=runnertype,\n",
        "      project=project,\n",
        "      job_name=\"my-beam-hl7to-hcapi\",\n",
        "      temp_location=temp_location,\n",
        "      region=region)\n",
        "    beam_pipeline_options = PipelineOptions(beam_args)\n",
        "    beam_pipeline_options.view_as(SetupOptions).save_main_session = save_main_session\n",
        "    with beam.Pipeline(options=beam_pipeline_options) as pipeline:\n",
        "        file = (\n",
        "            pipeline\n",
        "            | 'reading filename' >> beam.Create([args_dict['input_file']])\n",
        "            | 'preparing file path' >> beam.ParDo(BuildFileName())\n",
        "        )\n",
        "        hl7_messages=(\n",
        "            file\n",
        "            | 'parsing hl7 messages' >> beam.ParDo(BuildMessages())\n",
        "            #| beam.Map(print)\n",
        "        )\n",
        "        post_hl7_messages = (\n",
        "            hl7_messages\n",
        "            | \"posting to hl7v2 Store\" >> beam.ParDo(PostToHL7V2Store())\n",
        "        )\n",
        "\n",
        "\n",
        "    ib.show_graph(pipeline)\n",
        "\n",
        "\n",
        "if __name__ == \"__main__\":\n",
        "    logging.getLogger().setLevel(logging.INFO)\n",
        "    args_dict = dict(args)\n",
        "    hcapi= hcapi_cls(args_dict)\n",
        "    run(beam_args=args_dict)"
      ],
      "metadata": {
        "id": "Dynn2PDuyRBT"
      },
      "execution_count": null,
      "outputs": []
    },
    {
      "cell_type": "markdown",
      "source": [
        "![Screenshot 2023-09-29 at 4.42.51 PM.png](data:image/png;base64,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)"
      ],
      "metadata": {
        "id": "tweQCiuX5RVK"
      }
    }
  ]
}