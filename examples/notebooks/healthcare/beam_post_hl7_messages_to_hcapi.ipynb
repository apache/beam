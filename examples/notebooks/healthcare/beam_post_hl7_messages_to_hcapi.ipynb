{
  "nbformat": 4,
  "nbformat_minor": 0,
  "metadata": {
    "colab": {
      "provenance": [],
      "private_outputs": true,
      "toc_visible": true,
      "include_colab_link": true
    },
    "kernelspec": {
      "name": "python3",
      "display_name": "Python 3"
    },
    "language_info": {
      "name": "python"
    }
  },
  "cells": [
    {
      "cell_type": "markdown",
      "metadata": {
        "id": "view-in-github",
        "colab_type": "text"
      },
      "source": [
        "<a href=\"https://colab.research.google.com/github/devanshmodi/beam/blob/devanshmodi-patch-healthcare-hl7-to-hcapi/examples/notebooks/healthcare/beam_post_hl7_messages_to_hcapi.ipynb\" target=\"_parent\"><img src=\"https://colab.research.google.com/assets/colab-badge.svg\" alt=\"Open In Colab\"/></a>"
      ]
    },
    {
      "cell_type": "code",
      "execution_count": null,
      "metadata": {
        "id": "zQ_JXPR3RoFV"
      },
      "outputs": [],
      "source": [
        "# @title ###### Licensed to the Apache Software Foundation (ASF), Version 2.0 (the \"License\")\n",
        "\n",
        "# Licensed to the Apache Software Foundation (ASF) under one\n",
        "# or more contributor license agreements. See the NOTICE file\n",
        "# distributed with this work for additional information\n",
        "# regarding copyright ownership. The ASF licenses this file\n",
        "# to you under the Apache License, Version 2.0 (the\n",
        "# \"License\"); you may not use this file except in compliance\n",
        "# with the License. You may obtain a copy of the License at\n",
        "#\n",
        "#   http://www.apache.org/licenses/LICENSE-2.0\n",
        "#\n",
        "# Unless required by applicable law or agreed to in writing,\n",
        "# software distributed under the License is distributed on an\n",
        "# \"AS IS\" BASIS, WITHOUT WARRANTIES OR CONDITIONS OF ANY\n",
        "# KIND, either express or implied. See the License for the\n",
        "# specific language governing permissions and limitations\n",
        "# under the License\n",
        "\n",
        "##################################\n",
        "# Author: Devansh Modi           #\n",
        "##################################\n"
      ]
    },
    {
      "cell_type": "markdown",
      "source": [
        "**Highlevel Architecture**\n",
        "\n",
        "![Screenshot 2023-10-18 at 3.53.31 PM.png](data:image/png;base64,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)"
      ],
      "metadata": {
        "id": "RL1LDp645ogr"
      }
    },
    {
      "cell_type": "markdown",
      "source": [
        "# **Post Hl7v2 messages to Google Cloud Healthcare API HL7v2 store pipeline**\n",
        "\n",
        "This example demonstrates how to set up an Apache Beam pipeline that reads a HL7 file from [Google Cloud Storage](https://https://cloud.google.com/storage), and calls the [Google Cloud Healthcare API Hl7v2 store to store Hl7 messages](https://cloud.google.com/healthcare-api/docs/how-tos/hl7v2-messages) to extract information from unstructured data. This application can be used in contexts such as reading raw Hl7 messages, if needed parse them or modify them as per your defined Hl7v2 store configurations and store data into Hl7v2 store.\n",
        "\n",
        "An Apache Beam pipeline is a pipeline that reads input data, transforms that data, and writes output data. It consists of PTransforms and PCollections. A PCollection represents a distributed data set that your Beam pipeline operates on. A PTransform represents a data processing operation, or a step, in your pipeline. It takes one or more PCollections as input, performs a processing function that you provide on the elements of that PCollection, and produces zero or more output PCollection objects.\n",
        "\n",
        "For details about Apache Beam pipelines, including PTransforms and PCollections, visit the [Beam Programming Guide](https://beam.apache.org/documentation/programming-guide/).\n",
        "\n",
        "You'll be able to use this notebook to explore the data in each PCollection."
      ],
      "metadata": {
        "id": "wC9KRrlORwKu"
      }
    },
    {
      "cell_type": "markdown",
      "source": [
        "**What is an HL7v2 message?**\n",
        "\n",
        "HL7 Messages are used to transfer electronic data between disparate healthcare systems, each sending information about a particular event such as a patient admission.\n",
        "\n",
        "An HL7 message consists of one or more segments. Each segment is displayed on a different line of text. A carriage return character (\\r, which is 0D in hexadecimal) separates one segment from another.\n",
        "\n",
        "Each segment consists of one or more composites, also known as fields. A pipe (|) character is used to separate one composite from another. If a composite contains other composites, these sub-composites (or sub-fields) are normally separated by caret (^) characters.\n",
        "\n"
      ],
      "metadata": {
        "id": "AOVYgtyaqSxa"
      }
    },
    {
      "cell_type": "markdown",
      "source": [
        "***Sample HL7v2 Message***\n",
        "\n",
        "The below reference message shows a sample Hl7v2 messages seperated by \\r.\n",
        "\n",
        "**MSH|^~\\&|FROM_APP|FROM_FACILITY|TO_APP|TO_FACILITY|20150503223000||ADT^A01|20150503223000|P|2.5|\\r\n",
        "EVN|A01|20110613083617|\\r\n",
        "PID|1||21004053^^^^MRN||SULLY^BRIAN||19611209|M|||123 MAIN ST^^MOUNTAIN SPRINGS^CO^80439|\\r\n",
        "PV1||I|H73 RM1^1^^HIGHWAY 73 CLINIC||||5148^MARY QUINN|||||||||Y||||||||||||||||||||||||||||20150503223000|**\n",
        "\n",
        "The file contains many such messages and the objective of this code will be to split and construct messages and POST it to Google Cloud HealthCare API HL7v2 store."
      ],
      "metadata": {
        "id": "-lpbvwHmX1L5"
      }
    },
    {
      "cell_type": "markdown",
      "source": [
        "Lets install necessary packages"
      ],
      "metadata": {
        "id": "81wCK9XnS6Sc"
      }
    },
    {
      "cell_type": "code",
      "source": [
        "!pip install apache-beam[gcp]"
      ],
      "metadata": {
        "id": "Yv1phmRZS23c"
      },
      "execution_count": null,
      "outputs": []
    },
    {
      "cell_type": "markdown",
      "source": [
        "**Google Cloud Authentication**\n",
        "\n",
        "As we are using Google Clous Storage and HealthCare API, we will be requiring tokens to make sure our connection is secure.\n",
        "\n",
        "Click [this](https://cloud.google.com/free) link to create a new Google Cloud Platform account\n"
      ],
      "metadata": {
        "id": "3EcdPBczYQlB"
      }
    },
    {
      "cell_type": "markdown",
      "source": [
        "**GCP Setup**\n",
        "1. Authenticate your notebook by `gcloud auth application-default login` in the Colab terminal.\n",
        "\n",
        "2. Run `gcloud config set project <YOUR-PROJECT>`\n",
        "\n",
        "Set the variables in the next cell based upon your project and preferences.\n",
        "\n",
        "Note that below, **us-central1** is hardcoded as the location. This is because of the limited number of [locations](https://cloud.google.com/healthcare-api/docs/how-tos/hl7v2-messages) the API currently supports."
      ],
      "metadata": {
        "id": "tpePe_yOsdSJ"
      }
    },
    {
      "cell_type": "markdown",
      "source": [
        "Before running please set the following variables as arguments as mentioned below\n"
      ],
      "metadata": {
        "id": "_1Q3mw1usnoE"
      }
    },
    {
      "cell_type": "code",
      "source": [
        "args = {'gcp_project':'xxx', #GCP project ID\n",
        "        'gcp_region':'xxx', # GCP project region\n",
        "        'temp_location':'gs://<YOUR Bucket>/tmp', #input location where your HL7 messages are stored in GCS bucket\n",
        "        'input_file':'gs://<YOUR Bucket>/my_message.hl7', #input location where your HL7 messages are stored in GCS bucket\n",
        "        'hcapi_project_id':'xxxxxx', #healthcare API project ID\n",
        "        'hcapi_dataset':'xxxx', #healthcare dataset\n",
        "        'hcapi_version':'v1', #healthcare API version by defualt v1\n",
        "        'hcapi_location':'xxxx', #healthcare API configured location\n",
        "        'hcapi_hl7_store':'xxx', #healthcare api hl7 store\n",
        "        'hcapi_fhir_store':''}"
      ],
      "metadata": {
        "id": "a722GbqdvgOX"
      },
      "execution_count": null,
      "outputs": []
    },
    {
      "cell_type": "markdown",
      "source": [
        "**Google Cloud Healthcare (HCAPI) API Utils class**\n",
        "\n",
        "Below is the code snippet which describes the class having healthcare API connections and configurations. Basic functionality includes constructing the hcapi_url as per the input parameters, cleaning the HL7 message in a proper format and posting hl7v2 message to hl7v2 store. You can add more transformations as per your requirements."
      ],
      "metadata": {
        "id": "NHzk8JIqxQoa"
      }
    },
    {
      "cell_type": "code",
      "source": [
        "import google.auth\n",
        "import google.auth.transport.requests\n",
        "import base64\n",
        "import json\n",
        "import hashlib\n",
        "import requests\n",
        "import logging\n",
        "import apache_beam as beam\n",
        "from apache_beam.options.pipeline_options import PipelineOptions\n",
        "from apache_beam.options.pipeline_options import SetupOptions\n",
        "from apache_beam.testing.test_pipeline import TestPipeline\n",
        "import apache_beam.runners.interactive.interactive_beam as ib\n",
        "from apache_beam import io\n",
        "\n",
        "logging.basicConfig(level=logging.INFO, format='%(asctime)s :: %(levelname)s :: %(message)s')\n",
        "\n",
        "class hcapi_cls:\n",
        "\n",
        "    def __init__(self, args):\n",
        "        self.hcapi_hl7_store = str(args['hcapi_hl7_store'])\n",
        "        self.hcapi_project_id = str(args['hcapi_project_id'])\n",
        "        self.hcapi_version = str(args['hcapi_version'])\n",
        "        self.hcapi_location = str(args['hcapi_location'])\n",
        "        self.hcapi_dataset = str(args['hcapi_dataset'])\n",
        "        self.hcapi_fhir_store = str(args['hcapi_fhir_store'])\n",
        "        self.token = None\n",
        "\n",
        "    def google_api_headers(self):\n",
        "        \"\"\" Function gets the token for the request \"\"\"\n",
        "        logging.info(\"fetching token and refreshing credentials\")\n",
        "        creds, project = google.auth.default()\n",
        "        auth_req = google.auth.transport.requests.Request()\n",
        "        creds.refresh(auth_req)\n",
        "        return {\n",
        "            \"Authorization\": f\"Bearer {creds.token}\",\n",
        "            \"Prefer\": \"handling=strict\"\n",
        "        }\n",
        "\n",
        "    def hcapi_dataset_url(self, version=None, project=None, location=None, dataset=None):\n",
        "        \"\"\" This function creates base hcapi dataset url and returns it \"\"\"\n",
        "        base = 'https://healthcare.googleapis.com'\n",
        "        version = self.hcapi_version\n",
        "        project = self.hcapi_project_id\n",
        "        location = self.hcapi_location\n",
        "        dataset = self.hcapi_dataset\n",
        "        return f'{base}/{version}/projects/{project}/locations/{location}/datasets/{dataset}'\n",
        "\n",
        "    def hcapi_get(self, url):\n",
        "        \"\"\" Function to send get request to HCAPI \"\"\"\n",
        "        response = requests.get(url, headers=self.google_api_headers())\n",
        "        if not response.ok:\n",
        "            raise Exception(f'Error with HC API get:\\n{response.text}')\n",
        "        return response.json()\n",
        "\n",
        "    def hcapi_post(self, url, data):\n",
        "        \"\"\" Function to send post request to HCAPI \"\"\"\n",
        "        response = requests.post(url, headers=self.google_api_headers(), json=data)\n",
        "        if not response.ok:\n",
        "            raise Exception(f'Error with HC API post:\\n{response.text}')\n",
        "        return response.json()\n",
        "\n",
        "    def hcapi_delete(self, url):\n",
        "        \"\"\" Function to send delete request to HCAPI \"\"\"\n",
        "        response = requests.delete(url, headers=self.google_api_headers())\n",
        "        if not response.ok:\n",
        "            raise Exception(f'Error with HC API get:\\n{response.text}')\n",
        "        return response.json()\n",
        "\n",
        "    def hcapi_hl7_url(self, version=None, project=None, location=None, dataset=None, store=None):\n",
        "        \"\"\" This function creates hcapi hl7V2store url and returns the url \"\"\"\n",
        "        base_url = self.hcapi_dataset_url(version=version, project=project,\n",
        "                                      location=location, dataset=dataset)\n",
        "        hl7_store = self.hcapi_hl7_store\n",
        "        return f'{base_url}/hl7V2Stores/{hl7_store}'\n",
        "\n",
        "    def get_hl7_message(self, message_id):\n",
        "        \"\"\" Function to get message from HL7v2 store using HCAPI URL \"\"\"\n",
        "        url = f'{self.hcapi_hl7_url()}/messages/{message_id}'\n",
        "        return self.hcapi_get(url)\n",
        "\n",
        "    def post_hl7_message(self, payload):\n",
        "        \"\"\" Function to post messages to HL7v2 store \"\"\"\n",
        "        url = f'{self.hcapi_hl7_url()}/messages'\n",
        "        return self.hcapi_post(url, payload)\n",
        "\n",
        "    def message_to_hl7_store(self, message):\n",
        "        \"\"\" Function to clean up Hl7 messages with \\r seperator before posting to HCAPI \"\"\"\n",
        "        messase =str(message)\n",
        "        message = message.replace('\\n', '\\r')\n",
        "        message = message.replace('\\\\r', '\\r')\n",
        "        message = message.replace('\\r\\r', '\\r')\n",
        "        encoded = base64.b64encode(str(message).encode())\n",
        "        payload = {\n",
        "            \"message\": {\n",
        "                \"data\": encoded.decode()\n",
        "            }\n",
        "        }\n",
        "        return self.post_hl7_message(payload)\n",
        "\n",
        "    def hcapi_fhir_url(self, version=None, project=None, location=None, dataset=None, store=None):\n",
        "        \"\"\" This function creates hcapi fhir store url and returns it \"\"\"\n",
        "        base_url = self.hcapi_dataset_url(version=version, project=project,\n",
        "                                      location=location, dataset=dataset)\n",
        "        if store is None:\n",
        "            raise Exception('No FHIR store specified')\n",
        "        return f'{base_url}/fhirStores/{store}/fhir'\n",
        "\n",
        "    def hcapi_fhir_request(self, store_key, query, data={}, method='GET'):\n",
        "        \"\"\" Function to send post request to HCAPI FHIR store \"\"\"\n",
        "        store = self.hcapi_fhir_store\n",
        "        if not store:\n",
        "            raise Exception(f\"Couldn't FHIR find store named {store_key} in config\")\n",
        "        url = self.hcapi_fhir_url(store=store)\n",
        "        url = f'{url}/{query}' if query else url\n",
        "        get = lambda q, d: self.hcapi_get(url)\n",
        "        post = lambda q, d: self.hcapi_post(url, data)\n",
        "        delete = lambda q, d: self.hcapi_delete(url)\n",
        "        return {'GET': get, 'POST': post, 'DELETE' : delete}[method](query, data)\n",
        "\n"
      ],
      "metadata": {
        "id": "H7g4_-rGS9P_"
      },
      "execution_count": null,
      "outputs": []
    },
    {
      "cell_type": "markdown",
      "source": [
        "**Pipeline Setup**\n",
        "\n",
        "We will use InteractiveRunner in this notebook.\n",
        "Following are the DoFn classes which carry out their respective operations"
      ],
      "metadata": {
        "id": "lXnzAtbHyUd2"
      }
    },
    {
      "cell_type": "markdown",
      "source": [
        "The following class **BuildFileName** takes the file name from the element and converts its into string. You can enhance this class to construct GCS bucket URL, if your GCS bucket prefix remains constant."
      ],
      "metadata": {
        "id": "TKnL8kxh3Kms"
      }
    },
    {
      "cell_type": "code",
      "source": [
        "class BuildFileName(beam.DoFn):\n",
        "    \"\"\" Class to get file name from variable and returns the filename \"\"\"\n",
        "    def process(self, element):\n",
        "        logging.info(\"processing the following file: {}\".format(element))\n",
        "        file_path = str(element)\n",
        "        yield file_path"
      ],
      "metadata": {
        "id": "N01E3dQd3Jr3"
      },
      "execution_count": null,
      "outputs": []
    },
    {
      "cell_type": "markdown",
      "source": [
        "The following class **BuildMessages** takes the GCS URL from the above class reads it, separates out each message, appends them into a list and return the list for the next class."
      ],
      "metadata": {
        "id": "Jej68R8w3i2Z"
      }
    },
    {
      "cell_type": "code",
      "source": [
        "class BuildMessages(beam.DoFn):\n",
        "    \"\"\" Class to read file, clean and seperate messgaes based on MSH\"\"\"\n",
        "    def process(self, file_name):\n",
        "        try:\n",
        "            logging.info(\"starting to read file: {}\".format(file_name))\n",
        "            file = io.gcsio.GcsIO().open(filename=file_name, mode='r')\n",
        "            read_file = file.read()\n",
        "            new_file = str(read_file, encoding='utf-8').replace('\\n', '\\r')\n",
        "            logging.info(\"starting to seperate HL7 messages into list\")\n",
        "            messages=[]\n",
        "            for line in new_file.split('\\r'):\n",
        "                if line[:3] =='MSH':\n",
        "                    messages.append(line)\n",
        "                else:\n",
        "                    messages[-1]+= line\n",
        "\n",
        "\n",
        "            logging.info(\"total number of messages parsed are {}\".format(len(messages)))\n",
        "            return messages\n",
        "        except Exception as error:\n",
        "            logging.error(\"got the following error while processing : {}\".format('\\n'+str(error)))\n",
        "            raise Exception\n",
        "\n",
        "\n"
      ],
      "metadata": {
        "id": "MC6tr_sGyNKG"
      },
      "execution_count": null,
      "outputs": []
    },
    {
      "cell_type": "markdown",
      "source": [
        "The following class **PostToHL7V2Store** takes the messages return in the earlier class and POST each messages to Hl7v2 store ."
      ],
      "metadata": {
        "id": "1hpuoUGA33jo"
      }
    },
    {
      "cell_type": "code",
      "source": [
        "class PostToHL7V2Store(beam.DoFn):\n",
        "    \"\"\" Class to read file, clean and seperate messgaes based on MSH\"\"\"\n",
        "    def process(self, element):\n",
        "        try:\n",
        "            logging.info(\"starting to prepare and post message\")\n",
        "            hl7v2_store_response = hcapi.message_to_hl7_store(element)\n",
        "            message_id = hl7v2_store_response['name'].split(\"/\")[-1]\n",
        "            logging.info(\"successfully posted message to Hl7v2 store with message id :- {}\".format(message_id))\n",
        "\n",
        "            yield message_id\n",
        "        except Exception as error:\n",
        "            logging.error(\"got the following error while processing : {}\".format(error))\n",
        "            raise Exception"
      ],
      "metadata": {
        "id": "lVjqYfb2330k"
      },
      "execution_count": null,
      "outputs": []
    },
    {
      "cell_type": "markdown",
      "source": [
        "The following function sets up a beam pipeline with various other Pipeline options that will extracts messages from Hl7 text and post each hl7 message to hl7v2 store using Google Cloud Healthcare API (HCAPI) api methods.\n",
        "\n",
        "**\"|\"** is an overloaded operator that applies a PTransform to a PCollection to produce a new PCollection. Together with |, >> allows you to optionally name a PTransform.\n",
        "\n",
        "Usage:[PCollection] | [PTransform], **or** [PCollection] | [name] >> [PTransform]"
      ],
      "metadata": {
        "id": "g5oJgXCk4O1a"
      }
    },
    {
      "cell_type": "code",
      "source": [
        "\n",
        "import apache_beam.runners.interactive.interactive_beam as ib\n",
        "def run(beam_args,argv=None,save_main_session=True):\n",
        "    runnertype = \"InteractiveRunner\"\n",
        "    project=beam_args['gcp_project']\n",
        "    region=beam_args['gcp_region']\n",
        "    temp_location=beam_args['temp_location']\n",
        "\n",
        "    options = PipelineOptions(\n",
        "      flags=argv,\n",
        "      runner=runnertype,\n",
        "      project=project,\n",
        "      job_name=\"my-beam-hl7to-hcapi\",\n",
        "      temp_location=temp_location,\n",
        "      region=region)\n",
        "    beam_pipeline_options = PipelineOptions(beam_args)\n",
        "    beam_pipeline_options.view_as(SetupOptions).save_main_session = save_main_session\n",
        "    with beam.Pipeline(options=beam_pipeline_options) as pipeline:\n",
        "        file = (\n",
        "            pipeline\n",
        "            | 'reading filename' >> beam.Create([args_dict['input_file']])\n",
        "            | 'preparing file path' >> beam.ParDo(BuildFileName())\n",
        "        )\n",
        "        hl7_messages=(\n",
        "            file\n",
        "            | 'parsing hl7 messages' >> beam.ParDo(BuildMessages())\n",
        "        )\n",
        "        post_hl7_messages = (\n",
        "            hl7_messages\n",
        "            | \"posting to hl7v2 Store\" >> beam.ParDo(PostToHL7V2Store())\n",
        "        )\n",
        "\n",
        "\n",
        "    ib.show_graph(pipeline)\n",
        "\n",
        "\n",
        "if __name__ == \"__main__\":\n",
        "    logging.getLogger().setLevel(logging.INFO)\n",
        "    args_dict = dict(args)\n",
        "    hcapi= hcapi_cls(args_dict)\n",
        "    run(beam_args=args_dict)"
      ],
      "metadata": {
        "id": "Dynn2PDuyRBT"
      },
      "execution_count": null,
      "outputs": []
    },
    {
      "cell_type": "markdown",
      "source": [
        "![Screenshot 2023-09-29 at 4.42.51 PM.png](data:image/png;base64,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)"
      ],
      "metadata": {
        "id": "tweQCiuX5RVK"
      }
    }
  ]
}