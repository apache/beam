{
  "nbformat": 4,
  "nbformat_minor": 0,
  "metadata": {
    "colab": {
      "provenance": [],
      "collapsed_sections": []
    },
    "kernelspec": {
      "name": "python3",
      "display_name": "Python 3"
    },
    "language_info": {
      "name": "python"
    },
    "accelerator": "GPU"
  },
  "cells": [
    {
      "cell_type": "code",
      "source": [
        "# @title ###### Licensed to the Apache Software Foundation (ASF), Version 2.0 (the \"License\")\n",
        "\n",
        "# Licensed to the Apache Software Foundation (ASF) under one\n",
        "# or more contributor license agreements. See the NOTICE file\n",
        "# distributed with this work for additional information\n",
        "# regarding copyright ownership. The ASF licenses this file\n",
        "# to you under the Apache License, Version 2.0 (the\n",
        "# \"License\"); you may not use this file except in compliance\n",
        "# with the License. You may obtain a copy of the License at\n",
        "#\n",
        "#   http://www.apache.org/licenses/LICENSE-2.0\n",
        "#\n",
        "# Unless required by applicable law or agreed to in writing,\n",
        "# software distributed under the License is distributed on an\n",
        "# \"AS IS\" BASIS, WITHOUT WARRANTIES OR CONDITIONS OF ANY\n",
        "# KIND, either express or implied. See the License for the\n",
        "# specific language governing permissions and limitations\n",
        "# under the License"
      ],
      "metadata": {
        "cellView": "form",
        "id": "fFjof1NgAJwu"
      },
      "execution_count": null,
      "outputs": []
    },
    {
      "cell_type": "markdown",
      "source": [
        "# Apache Beam RunInference with TensorFlow\n",
        "This notebook demonstrates the use of the RunInference transform for [TensorFlow](https://www.tensorflow.org/).\n",
        "Beam [RunInference](https://beam.apache.org/releases/pydoc/current/apache_beam.ml.inference.base.html#apache_beam.ml.inference.base.RunInference) accepts a ModelHandler generated from [`tfx-bsl`](https://github.com/tensorflow/tfx-bsl) using `CreateModelHandler`.\n",
        "\n",
        "The Apache Beam RunInference transform is used to make predictions for\n",
        "a variety of machine learning models. In versions 1.10.0 and later of `tfx-bsl`, you can\n",
        "create a TensorFlow `ModelHandler` for use with Apache Beam. For more information about the RunInference API, see [Machine Learning](https://beam.apache.org/documentation/sdks/python-machine-learning) in the Apache Beam documentation.\n",
        "\n",
        "This notebook demonstrates the following steps:\n",
        "- Import [`tfx-bsl`](https://github.com/tensorflow/tfx-bsl).\n",
        "- Build a simple TensorFlow model.\n",
        "- Set up example data in TensorFlow protos.\n",
        "- Run those examples and get a prediction inside an Apache Beam pipeline."
      ],
      "metadata": {
        "id": "HrCtxslBGK8Z"
      }
    },
    {
      "cell_type": "markdown",
      "source": [
        "## Before you begin\n",
        "Complete the following setup steps.\n",
        "\n",
        "First, import `tfx-bsl`."
      ],
      "metadata": {
        "id": "HrCtxslBGK8A"
      }
    },
    {
      "cell_type": "code",
      "metadata": {
        "id": "jBakpNZnAhqk"
      },
      "source": [
        "!pip install tfx_bsl==1.10.0 --quiet\n",
        "!pip install protobuf --quiet"
      ],
      "execution_count": null,
      "outputs": []
    },
    {
      "cell_type": "markdown",
      "source": [
        "To use RunInference, install Apache Beam version 2.40 or later. Creation of a ModelHandler is supported in `tfx-bsl` versions 1.10 and later."
      ],
      "metadata": {
        "id": "gVCtGOKTHMm4"
      }
    },
    {
      "cell_type": "code",
      "metadata": {
        "colab": {
          "base_uri": "https://localhost:8080/"
        },
        "id": "8hHP9wu98Ld4",
        "outputId": "9ce58040-0c29-4107-cd65-debee3524e2c"
      },
      "source": [
        "!pip freeze | grep beam\n",
        "!pip freeze | grep tfx-bsl\n"
      ],
      "execution_count": null,
      "outputs": [
        {
          "output_type": "stream",
          "name": "stdout",
          "text": [
            "apache-beam==2.41.0\n",
            "tfx-bsl==1.10.0\n"
          ]
        }
      ]
    },
    {
      "cell_type": "markdown",
      "source": [
        "### Authenticate with Google Cloud\n",
        "This notebook relies on saving your model to Google Cloud. To use your Google Cloud account, authenticate this notebook."
      ],
      "metadata": {
        "id": "X80jy3FqHjK4"
      }
    },
    {
      "cell_type": "code",
      "metadata": {
        "id": "Kz9sccyGBqz3"
      },
      "source": [
        "from google.colab import auth\n",
        "auth.authenticate_user()"
      ],
      "execution_count": null,
      "outputs": []
    },
    {
      "cell_type": "markdown",
      "source": [
        "### Import dependencies and set up your bucket\n",
        "Replace `PROJECT_ID` and `BUCKET_NAME` with the ID of your project and the name of your bucket.\n",
        "\n",
        "**Important**: If an error occurs, restart your runtime."
      ],
      "metadata": {
        "id": "40qtP6zJuMXm"
      }
    },
    {
      "cell_type": "code",
      "metadata": {
        "id": "eEle839_Akqx"
      },
      "source": [
        "import argparse\n",
        "\n",
        "import tensorflow as tf\n",
        "from tensorflow import keras\n",
        "from tensorflow_serving.apis import prediction_log_pb2\n",
        "\n",
        "import apache_beam as beam\n",
        "from apache_beam.ml.inference.base import RunInference\n",
        "import tfx_bsl\n",
        "from tfx_bsl.public.beam.run_inference import CreateModelHandler\n",
        "from tfx_bsl.public import tfxio\n",
        "from tfx_bsl.public.proto import model_spec_pb2\n",
        "from tensorflow_metadata.proto.v0 import schema_pb2\n",
        "\n",
        "import numpy\n",
        "\n",
        "from typing import Dict, Text, Any, Tuple, List\n",
        "\n",
        "from apache_beam.options.pipeline_options import PipelineOptions\n",
        "\n",
        "project = \"<PROJECT_ID>\"\n",
        "bucket = \"<BUCKET_NAME>\"\n",
        "\n",
        "save_model_dir_multiply = f'gs://{bucket}/tfx-inference/model/multiply_five/v1/'\n"
      ],
      "execution_count": null,
      "outputs": []
    },
    {
      "cell_type": "markdown",
      "source": [
        "## Create and test a simple model\n",
        "\n",
        "This step creates and tests a model that predicts the 5 times table."
      ],
      "metadata": {
        "id": "YzvZWEv-1oiK"
      }
    },
    {
      "cell_type": "markdown",
      "metadata": {},
      "source": [
        "### Create the model\n",
        "Create training data and build a linear regression model."
      ]
    },
    {
      "cell_type": "code",
      "metadata": {
        "colab": {
          "base_uri": "https://localhost:8080/"
        },
        "id": "SH7iq3zeBBJ-",
        "outputId": "e2b7bc2c-a3a4-44a8-86be-962bf505540a"
      },
      "source": [
        "# Create training data that represents the 5 times multiplication table for the numbers 0 to 99. \n",
        "# x is the data and y is the labels. \n",
        "x = numpy.arange(0, 100)   # Examples\n",
        "y = x * 5                  # Labels\n",
        "\n",
        "# Build a simple linear regression model.\n",
        "# Note that the model has a shape of (1) for its input layer and expects a single int64 value.\n",
        "input_layer = keras.layers.Input(shape=(1), dtype=tf.float32, name='x')\n",
        "output_layer= keras.layers.Dense(1)(input_layer)\n",
        "\n",
        "model = keras.Model(input_layer, output_layer)\n",
        "model.compile(optimizer=tf.optimizers.Adam(), loss='mean_absolute_error')\n",
        "model.summary()"
      ],
      "execution_count": null,
      "outputs": [
        {
          "output_type": "stream",
          "name": "stdout",
          "text": [
            "Model: \"model\"\n",
            "_________________________________________________________________\n",
            " Layer (type)                Output Shape              Param #   \n",
            "=================================================================\n",
            " x (InputLayer)              [(None, 1)]               0         \n",
            "                                                                 \n",
            " dense (Dense)               (None, 1)                 2         \n",
            "                                                                 \n",
            "=================================================================\n",
            "Total params: 2\n",
            "Trainable params: 2\n",
            "Non-trainable params: 0\n",
            "_________________________________________________________________\n"
          ]
        }
      ]
    },
    {
      "cell_type": "markdown",
      "source": [
        "### Test the model\n",
        "\n",
        "This step tests the model that you created."
      ],
      "metadata": {
        "id": "O_a0-4Gb19cy"
      }
    },
    {
      "cell_type": "code",
      "metadata": {
        "colab": {
          "base_uri": "https://localhost:8080/"
        },
        "id": "5XkIYXhJBFmS",
        "outputId": "d69eac66-eebb-49aa-cc53-7e6fa63c95e8"
      },
      "source": [
        "model.fit(x, y, epochs=500, verbose=0)\n",
        "test_examples =[20, 40, 60, 90]\n",
        "value_to_predict = numpy.array(test_examples, dtype=numpy.float32)\n",
        "predictions = model.predict(value_to_predict)\n",
        "\n",
        "print('Test Examples ' + str(test_examples))\n",
        "print('Predictions ' + str(predictions))"
      ],
      "execution_count": null,
      "outputs": [
        {
          "output_type": "stream",
          "name": "stdout",
          "text": [
            "1/1 [==============================] - 0s 62ms/step\n",
            "Test Examples [20, 40, 60, 90]\n",
            "Predictions [[ 70.49452]\n",
            " [138.99593]\n",
            " [207.49733]\n",
            " [310.24945]]\n"
          ]
        }
      ]
    },
    {
      "cell_type": "markdown",
      "source": [
        "### Populate the data in a TensorFlow proto\n",
        "\n",
        "Tensorflow data uses protos. If you are loading from a file, helpers exist for this step. Because this example uses generated data, this code populates a proto."
      ],
      "metadata": {
        "id": "dEmleqiH3t71"
      }
    },
    {
      "cell_type": "code",
      "metadata": {
        "id": "XvKc9kQilPjx"
      },
      "source": [
        "# This example shows a proto that converts the samples and labels into\n",
        "# tensors usable by TensorFlow.\n",
        "\n",
        "class ExampleProcessor:\n",
        "    def create_example_with_label(self, feature: numpy.float32,\n",
        "                             label: numpy.float32)-> tf.train.Example:\n",
        "        return tf.train.Example(\n",
        "            features=tf.train.Features(\n",
        "                  feature={'x': self.create_feature(feature),\n",
        "                           'y' : self.create_feature(label)\n",
        "                  }))\n",
        "\n",
        "    def create_example(self, feature: numpy.float32):\n",
        "        return tf.train.Example(\n",
        "            features=tf.train.Features(\n",
        "                  feature={'x' : self.create_feature(feature)})\n",
        "            )\n",
        "\n",
        "    def create_feature(self, element: numpy.float32):\n",
        "        return tf.train.Feature(float_list=tf.train.FloatList(value=[element]))\n",
        "\n",
        "# Create a labeled example file for the 5 times table.\n",
        "\n",
        "example_five_times_table = 'example_five_times_table.tfrecord'\n",
        "\n",
        "with tf.io.TFRecordWriter(example_five_times_table) as writer:\n",
        "  for i in zip(x, y):\n",
        "    example = ExampleProcessor().create_example_with_label(\n",
        "        feature=i[0], label=i[1])\n",
        "    writer.write(example.SerializeToString())\n",
        "\n",
        "# Create a file containing the values to predict.\n",
        "\n",
        "predict_values_five_times_table = 'predict_values_five_times_table.tfrecord'\n",
        "\n",
        "with tf.io.TFRecordWriter(predict_values_five_times_table) as writer:\n",
        "  for i in value_to_predict:\n",
        "    example = ExampleProcessor().create_example(feature=i)\n",
        "    writer.write(example.SerializeToString())"
      ],
      "execution_count": null,
      "outputs": []
    },
    {
      "cell_type": "markdown",
      "source": [
        "### Fit The Model\n",
        "\n",
        "This step builds a model. Because RunInference requires pretrained models, this segment builds a usable model."
      ],
      "metadata": {
        "id": "G-sAu3cf31f3"
      }
    },
    {
      "cell_type": "code",
      "metadata": {
        "colab": {
          "base_uri": "https://localhost:8080/"
        },
        "id": "AnbrxXPKeAOQ",
        "outputId": "32bcadd2-690e-46df-bdbc-20b2598db17e"
      },
      "source": [
        "RAW_DATA_TRAIN_SPEC = {\n",
        "'x': tf.io.FixedLenFeature([], tf.float32),\n",
        "'y': tf.io.FixedLenFeature([], tf.float32)\n",
        "}\n",
        "\n",
        "dataset = tf.data.TFRecordDataset(example_five_times_table)\n",
        "dataset = dataset.map(lambda e : tf.io.parse_example(e, RAW_DATA_TRAIN_SPEC))\n",
        "dataset = dataset.map(lambda t : (t['x'], t['y']))\n",
        "dataset = dataset.batch(100)\n",
        "dataset = dataset.repeat()\n",
        "\n",
        "model.fit(dataset, epochs=5000, steps_per_epoch=1, verbose=0)"
      ],
      "execution_count": null,
      "outputs": [
        {
          "output_type": "execute_result",
          "data": {
            "text/plain": [
              "<keras.callbacks.History at 0x7efec016e410>"
            ]
          },
          "metadata": {},
          "execution_count": 7
        }
      ]
    },
    {
      "cell_type": "markdown",
      "source": [
        "### Save the model\n",
        "\n",
        "This step shows how to save your model."
      ],
      "metadata": {
        "id": "r4dpR6dQ4JwX"
      }
    },
    {
      "cell_type": "code",
      "metadata": {
        "id": "fYvrIYO3qiJx"
      },
      "source": [
        "RAW_DATA_PREDICT_SPEC = {\n",
        "'x': tf.io.FixedLenFeature([], tf.float32),\n",
        "}\n",
        "\n",
        "# tf.function compiles the function into a callable TF graph.\n",
        "# RunInference relies on calling a TF graph as a model.\n",
        "# Note: The input signature should be type tf.string as supported by \n",
        "# tfx-bsl ModelHandlers.\n",
        "@tf.function(input_signature=[tf.TensorSpec(shape=[None], dtype=tf.string , name='examples')])\n",
        "def serve_tf_examples_fn(serialized_tf_examples):\n",
        "  \"\"\"Returns the output to be used in the serving signature.\"\"\"\n",
        "  features = tf.io.parse_example(serialized_tf_examples, RAW_DATA_PREDICT_SPEC)\n",
        "  return model(features, training=False)\n",
        "\n",
        "signature = {'serving_default': serve_tf_examples_fn}\n",
        "\n",
        "# Signatures define the input and output types for a computation. The optional\n",
        "# save signatures argument controls which methods in obj will be available to\n",
        "# programs which consume SavedModels, for example, serving APIs.\n",
        "# See https://www.tensorflow.org/api_docs/python/tf/saved_model/save\n",
        "tf.keras.models.save_model(model, save_model_dir_multiply, signatures=signature)"
      ],
      "execution_count": null,
      "outputs": []
    },
    {
      "cell_type": "markdown",
      "source": [
        "## Run the Pipeline\n",
        "Use the following code to run the pipeline.\n",
        "\n",
        "`FormatOutput` demonstrates how to extract values from the output protos.\n",
        "\n",
        "`CreateModelHandler` demonstrates the model handler that needs to be passed into the Apache Beam RunInference API."
      ],
      "metadata": {
        "id": "P2UMmbNW4YQV"
      }
    },
    {
      "cell_type": "code",
      "metadata": {
        "colab": {
          "base_uri": "https://localhost:8080/"
        },
        "id": "PzjmXM_KvqHY",
        "outputId": "a102d3b9-e55e-40f0-8fe5-33b9b79da5fe"
      },
      "source": [
        "from tfx_bsl.public.beam.run_inference import CreateModelHandler\n",
        "\n",
        "class FormatOutput(beam.DoFn):\n",
        "    def process(self, element: prediction_log_pb2.PredictionLog):\n",
        "        predict_log = element.predict_log\n",
        "        input_value = tf.train.Example.FromString(predict_log.request.inputs['examples'].string_val[0])\n",
        "        input_float_value = input_value.features.feature['x'].float_list.value[0]\n",
        "        output_value = predict_log.response.outputs\n",
        "        output_float_value = output_value['output_0'].float_val[0]\n",
        "        yield (f\"example is {input_float_value:.2f} prediction is {output_float_value:.2f}\")\n",
        "\n",
        "tfexample_beam_record = tfx_bsl.public.tfxio.TFExampleRecord(file_pattern=predict_values_five_times_table)\n",
        "saved_model_spec = model_spec_pb2.SavedModelSpec(model_path=save_model_dir_multiply)\n",
        "inference_spec_type = model_spec_pb2.InferenceSpecType(saved_model_spec=saved_model_spec)\n",
        "model_handler = CreateModelHandler(inference_spec_type)\n",
        "with beam.Pipeline() as p:\n",
        "    _ = (p | tfexample_beam_record.RawRecordBeamSource() \n",
        "           | RunInference(model_handler)\n",
        "           | beam.ParDo(FormatOutput())\n",
        "           | beam.Map(print)\n",
        "        )"
      ],
      "execution_count": null,
      "outputs": [
        {
          "output_type": "stream",
          "name": "stdout",
          "text": [
            "example is 20.00 prediction is 100.52\n",
            "example is 40.00 prediction is 200.31\n",
            "example is 60.00 prediction is 300.10\n",
            "example is 90.00 prediction is 449.79\n"
          ]
        }
      ]
    },
    {
      "cell_type": "markdown",
      "source": [
        "## KeyedModelHandler with TensorFlow\n",
        "\n",
        "By default, the `ModelHandler` does not expect a key.\n",
        "\n",
        "* If you know that keys are associated with your examples, wrap the model handler with `beam.KeyedModelHandler`.\n",
        "* If you don't know whether keys are associated with your examples, use `beam.MaybeKeyedModelHandler`.\n",
        "\n",
        "In addition to demonstrating how to use a keyed model handler, this step demonstrates how to use `tfx-bsl` examples."
      ],
      "metadata": {
        "id": "IXikjkGdHm9n"
      }
    },
    {
      "cell_type": "code",
      "source": [
        "from apache_beam.ml.inference.base import KeyedModelHandler\n",
        "from google.protobuf import text_format\n",
        "import tensorflow as tf\n",
        "\n",
        "class FormatOutputKeyed(FormatOutput):\n",
        "  # To simplify, inherit from FormatOutput.\n",
        "  def process(self, tuple_in: Tuple):\n",
        "    key, element = tuple_in\n",
        "    output = super().process(element)\n",
        "    yield ' : '.join([key, next(output)])\n",
        "\n",
        "def make_example(num):\n",
        "  # Return keyed values in the form of (key num, example).\n",
        "  key = f'key {num}'\n",
        "  tf_proto = text_format.Parse(\n",
        "    \"\"\"\n",
        "    features {\n",
        "      feature {key: \"x\" value { float_list { value: %f }}}\n",
        "    }\n",
        "    \"\"\"% num, tf.train.Example())\n",
        "  return (key, tf_proto)\n",
        "\n",
        "# Make a list of examples of type tf.train.Example.\n",
        "examples = [\n",
        "    make_example(5.0),\n",
        "    make_example(50.0),\n",
        "    make_example(40.0),\n",
        "    make_example(100.0)\n",
        "]\n",
        "\n",
        "tfexample_beam_record = tfx_bsl.public.tfxio.TFExampleRecord(file_pattern=predict_values_five_times_table)\n",
        "saved_model_spec = model_spec_pb2.SavedModelSpec(model_path=save_model_dir_multiply)\n",
        "inference_spec_type = model_spec_pb2.InferenceSpecType(saved_model_spec=saved_model_spec)\n",
        "keyed_model_handler = KeyedModelHandler(CreateModelHandler(inference_spec_type))\n",
        "with beam.Pipeline() as p:\n",
        "    _ = (p | 'CreateExamples' >> beam.Create(examples)\n",
        "           | RunInference(keyed_model_handler)\n",
        "           | beam.ParDo(FormatOutputKeyed())\n",
        "           | beam.Map(print)\n",
        "        )"
      ],
      "metadata": {
        "colab": {
          "base_uri": "https://localhost:8080/"
        },
        "id": "KPtE3fmdJQry",
        "outputId": "87d5eb90-3c75-49a3-981d-6e0db1759a15"
      },
      "execution_count": null,
      "outputs": [
        {
          "output_type": "stream",
          "name": "stdout",
          "text": [
            "key 5.0 : example is 5.00 prediction is 25.68\n",
            "key 50.0 : example is 50.00 prediction is 250.21\n",
            "key 40.0 : example is 40.00 prediction is 200.31\n",
            "key 100.0 : example is 100.00 prediction is 499.69\n"
          ]
        }
      ]
    }
  ]
}