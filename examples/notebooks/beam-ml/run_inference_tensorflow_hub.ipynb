{
  "cells": [
    {
      "cell_type": "code",
      "source": [
        "# @title ###### Licensed to the Apache Software Foundation (ASF), Version 2.0 (the \"License\")\n",
        "\n",
        "# Licensed to the Apache Software Foundation (ASF) under one\n",
        "# or more contributor license agreements. See the NOTICE file\n",
        "# distributed with this work for additional information\n",
        "# regarding copyright ownership. The ASF licenses this file\n",
        "# to you under the Apache License, Version 2.0 (the\n",
        "# \"License\"); you may not use this file except in compliance\n",
        "# with the License. You may obtain a copy of the License at\n",
        "#\n",
        "#   http://www.apache.org/licenses/LICENSE-2.0\n",
        "#\n",
        "# Unless required by applicable law or agreed to in writing,\n",
        "# software distributed under the License is distributed on an\n",
        "# \"AS IS\" BASIS, WITHOUT WARRANTIES OR CONDITIONS OF ANY\n",
        "# KIND, either express or implied. See the License for the\n",
        "# specific language governing permissions and limitations\n",
        "# under the License"
      ],
      "metadata": {
        "id": "Qx4wHX2zIKS1",
        "cellView": "form"
      },
      "id": "Qx4wHX2zIKS1",
      "execution_count": null,
      "outputs": []
    },
    {
      "cell_type": "markdown",
      "metadata": {
        "id": "3ac8fc4a-a0ef-47b9-bd80-10801eebe13e"
      },
      "source": [
        "# RunInference with Sentence-T5 (ST5) model\n",
        "\n",
        "This example demonstrates the use of the RunInference transform with the pre-trained [ST5 text encoder model](https://tfhub.dev/google/sentence-t5/st5-base/1) from TensorFlow Hub. The transform runs locally using the [Interactive Runner](https://beam.apache.org/releases/pydoc/2.11.0/apache_beam.runners.interactive.interactive_runner.html)."
      ],
      "id": "3ac8fc4a-a0ef-47b9-bd80-10801eebe13e"
    },
    {
      "cell_type": "markdown",
      "metadata": {
        "id": "3402ecc9-28d6-4226-99b1-147a2d23b7a9"
      },
      "source": [
        "## Download and install the dependencies\n"
      ],
      "id": "3402ecc9-28d6-4226-99b1-147a2d23b7a9"
    },
    {
      "cell_type": "code",
      "source": [
        "!pip install apache_beam[gcp,interactive]==2.41.0\n",
        "!pip install tensorflow==2.10.0\n",
        "!pip install tensorflow_text==2.10.0\n",
        "!pip install keras==2.10.0\n",
        "!pip install tfx_bsl==1.10.0\n",
        "!pip install pillow==8.4.0"
      ],
      "metadata": {
        "id": "H2-orNBqsZ95"
      },
      "id": "H2-orNBqsZ95",
      "execution_count": null,
      "outputs": []
    },
    {
      "cell_type": "code",
      "execution_count": null,
      "metadata": {
        "id": "f313a508-59ea-47ed-86eb-c9c8e67785f2",
        "scrolled": true
      },
      "outputs": [],
      "source": [
        "import tensorflow as tf\n",
        "import tensorflow_hub as hub\n",
        "import tensorflow_text\n",
        "\n",
        "from tensorflow import keras\n",
        "\n",
        "import apache_beam as beam\n",
        "import apache_beam.runners.interactive.interactive_beam as ib\n",
        "\n",
        "from apache_beam.ml.inference.base import RunInference\n",
        "from apache_beam.ml.inference.base import ModelHandler\n",
        "from apache_beam.runners.interactive.interactive_runner import InteractiveRunner\n",
        "\n",
        "from tfx_bsl.public.beam.run_inference import CreateModelHandler\n",
        "from tfx_bsl.public.proto import model_spec_pb2"
      ],
      "id": "f313a508-59ea-47ed-86eb-c9c8e67785f2"
    },
    {
      "cell_type": "markdown",
      "source": [
        "## Authenticate with Google Cloud\n",
        "This notebook relies on saving the model to Google Cloud. To use your Google Cloud account, authenticate this notebook."
      ],
      "metadata": {
        "id": "6zAnF4EmomUS"
      },
      "id": "6zAnF4EmomUS"
    },
    {
      "cell_type": "code",
      "execution_count": null,
      "metadata": {
        "id": "r1fgn5I_-mzA"
      },
      "outputs": [],
      "source": [
        "from google.colab import auth\n",
        "auth.authenticate_user()"
      ],
      "id": "r1fgn5I_-mzA"
    },
    {
      "cell_type": "markdown",
      "metadata": {
        "id": "74db0203-3d26-4bc4-8271-81fad9756297"
      },
      "source": [
        "## Create a Keras Model from TensorFlow Hub image\n",
        "\n",
        "Replace `GCS_BUCKET` with the name of your bucket. Your model will be saved in `MODEL_EXPORT_DIR`."
      ],
      "id": "74db0203-3d26-4bc4-8271-81fad9756297"
    },
    {
      "cell_type": "code",
      "execution_count": null,
      "metadata": {
        "id": "2ff8e394-f577-4dea-bef9-a4f4528c1378"
      },
      "outputs": [],
      "source": [
        "GCS_BUCKET = '<GCS Bucket>'\n",
        "\n",
        "MODEL_EXPORT_DIR = f'gs://{GCS_BUCKET}/st5-base/1'"
      ],
      "id": "2ff8e394-f577-4dea-bef9-a4f4528c1378"
    },
    {
      "cell_type": "code",
      "execution_count": null,
      "metadata": {
        "id": "ccaede25-1c1a-4ec4-9296-25c9a2ac43d7"
      },
      "outputs": [],
      "source": [
        "inp = tf.keras.layers.Input(shape=[], dtype=tf.string, name='input')\n",
        "hub_url = \"https://tfhub.dev/google/sentence-t5/st5-base/1\"\n",
        "imported = hub.KerasLayer(hub_url)\n",
        "outp = imported(inp)\n",
        "model = tf.keras.Model(inp, outp)"
      ],
      "id": "ccaede25-1c1a-4ec4-9296-25c9a2ac43d7"
    },
    {
      "cell_type": "code",
      "source": [
        "# The ST5 model returns a 768-dimensional vector for an English text input.\n",
        "model.summary()"
      ],
      "metadata": {
        "colab": {
          "base_uri": "https://localhost:8080/"
        },
        "id": "Xvb-E0D1JHnr",
        "outputId": "121a5924-94b0-4b01-97da-14a7223ec61c"
      },
      "id": "Xvb-E0D1JHnr",
      "execution_count": null,
      "outputs": [
        {
          "output_type": "stream",
          "name": "stdout",
          "text": [
            "Model: \"model\"\n",
            "_________________________________________________________________\n",
            " Layer (type)                Output Shape              Param #   \n",
            "=================================================================\n",
            " input (InputLayer)          [(None,)]                 0         \n",
            "                                                                 \n",
            " keras_layer (KerasLayer)    [(None, 768)]             0         \n",
            "                                                                 \n",
            "=================================================================\n",
            "Total params: 0\n",
            "Trainable params: 0\n",
            "Non-trainable params: 0\n",
            "_________________________________________________________________\n"
          ]
        }
      ]
    },
    {
      "cell_type": "markdown",
      "metadata": {
        "id": "29803d5b-93b9-41fc-b414-f7c737c5d7bc"
      },
      "source": [
        "## Save the model\n",
        "Save the model with a TF function definition for RunInference."
      ],
      "id": "29803d5b-93b9-41fc-b414-f7c737c5d7bc"
    },
    {
      "cell_type": "code",
      "execution_count": null,
      "metadata": {
        "id": "704abfca-5956-4fc1-9717-4c6d5bf2db8e"
      },
      "outputs": [],
      "source": [
        "RAW_DATA_PREDICT_SPEC = {\n",
        "    'input': tf.io.FixedLenFeature([], tf.string),\n",
        "}\n",
        "\n",
        "@tf.function(input_signature=[tf.TensorSpec(shape=[None], dtype=tf.string)])\n",
        "def call(serialized_examples):\n",
        "    features = tf.io.parse_example(serialized_examples, RAW_DATA_PREDICT_SPEC)\n",
        "    return model(features)\n",
        "\n",
        "tf.saved_model.save(model, MODEL_EXPORT_DIR, signatures={'serving_default': call})"
      ],
      "id": "704abfca-5956-4fc1-9717-4c6d5bf2db8e"
    },
    {
      "cell_type": "markdown",
      "metadata": {
        "id": "7b56569d-e540-44ed-a46a-9cec886522f6"
      },
      "source": [
        "## Create and test the RunInference pipeline locally\n",
        "Use TFX_BSL's [CreateModelHandler](https://www.tensorflow.org/tfx/tfx_bsl/api_docs/python/tfx_bsl/public/beam/run_inference/CreateModelHandler) function for RunInference with TensorFlow models."
      ],
      "id": "7b56569d-e540-44ed-a46a-9cec886522f6"
    },
    {
      "cell_type": "code",
      "execution_count": null,
      "metadata": {
        "id": "fad13b30-b159-425c-8c15-a41301abd3a4"
      },
      "outputs": [],
      "source": [
        "# Creates a TensorFlow example to feed to the model handler.\n",
        "class ExampleProcessor:\n",
        "    def create_example(self, feature: tf.string):\n",
        "        return tf.train.Example(\n",
        "            features=tf.train.Features(\n",
        "                  feature={'input' : self.create_feature(feature)})\n",
        "            )\n",
        "\n",
        "    def create_feature(self, element: tf.string):\n",
        "        return tf.train.Feature(bytes_list=tf.train.BytesList(value=[element.encode()], ))\n"
      ],
      "id": "fad13b30-b159-425c-8c15-a41301abd3a4"
    },
    {
      "cell_type": "code",
      "execution_count": null,
      "metadata": {
        "id": "60380ebd-5bc8-4bc6-9cf4-3030bf687367",
        "scrolled": true,
        "colab": {
          "base_uri": "https://localhost:8080/",
          "height": 17
        },
        "outputId": "1b53641d-806f-4f0b-c8f3-9badf67ab98a"
      },
      "outputs": [
        {
          "output_type": "display_data",
          "data": {
            "application/javascript": [
              "\n",
              "        if (typeof window.interactive_beam_jquery == 'undefined') {\n",
              "          var jqueryScript = document.createElement('script');\n",
              "          jqueryScript.src = 'https://code.jquery.com/jquery-3.4.1.slim.min.js';\n",
              "          jqueryScript.type = 'text/javascript';\n",
              "          jqueryScript.onload = function() {\n",
              "            var datatableScript = document.createElement('script');\n",
              "            datatableScript.src = 'https://cdn.datatables.net/1.10.20/js/jquery.dataTables.min.js';\n",
              "            datatableScript.type = 'text/javascript';\n",
              "            datatableScript.onload = function() {\n",
              "              window.interactive_beam_jquery = jQuery.noConflict(true);\n",
              "              window.interactive_beam_jquery(document).ready(function($){\n",
              "                \n",
              "              });\n",
              "            }\n",
              "            document.head.appendChild(datatableScript);\n",
              "          };\n",
              "          document.head.appendChild(jqueryScript);\n",
              "        } else {\n",
              "          window.interactive_beam_jquery(document).ready(function($){\n",
              "            \n",
              "          });\n",
              "        }"
            ]
          },
          "metadata": {}
        }
      ],
      "source": [
        "saved_model_spec = model_spec_pb2.SavedModelSpec(model_path=MODEL_EXPORT_DIR)\n",
        "inference_spec_type = model_spec_pb2.InferenceSpecType(saved_model_spec=saved_model_spec)\n",
        "model_handler = CreateModelHandler(inference_spec_type)\n",
        "\n",
        "questions = [\n",
        "    'what is the official slogan for the 2018 winter olympics?',\n",
        "]\n",
        "\n",
        "pipeline = beam.Pipeline(InteractiveRunner())\n",
        "\n",
        "inference = (pipeline | 'CreateSentences' >> beam.Create(questions)\n",
        "               | 'Convert input to Tensor' >> beam.Map(lambda x: ExampleProcessor().create_example(x))\n",
        "               | 'RunInference with T5' >> RunInference(model_handler))"
      ],
      "id": "60380ebd-5bc8-4bc6-9cf4-3030bf687367"
    },
    {
      "cell_type": "code",
      "execution_count": null,
      "metadata": {
        "id": "29a84182-baa5-45c4-abcf-d9cab84835c9",
        "colab": {
          "base_uri": "https://localhost:8080/",
          "height": 565
        },
        "outputId": "d6ef64c2-f120-4bc1-c972-78c1cd8a729e"
      },
      "outputs": [
        {
          "output_type": "display_data",
          "data": {
            "text/plain": [
              "<IPython.core.display.HTML object>"
            ],
            "text/html": [
              "\n",
              "            <link rel=\"stylesheet\" href=\"https://stackpath.bootstrapcdn.com/bootstrap/4.4.1/css/bootstrap.min.css\" integrity=\"sha384-Vkoo8x4CGsO3+Hhxv8T/Q5PaXtkKtu6ug5TOeNV6gBiFeWPGFN9MuhOf23Q9Ifjh\" crossorigin=\"anonymous\">\n",
              "            <div id=\"progress_indicator_02aa6852261e6f1837821c6131548b47\">\n",
              "              <div class=\"spinner-border text-info\" role=\"status\"></div>\n",
              "              <span class=\"text-info\">Processing... show</span>\n",
              "            </div>\n",
              "            "
            ]
          },
          "metadata": {}
        },
        {
          "output_type": "stream",
          "name": "stderr",
          "text": [
            "WARNING:tensorflow:From /usr/local/lib/python3.8/dist-packages/tfx_bsl/beam/run_inference.py:615: load (from tensorflow.python.saved_model.loader_impl) is deprecated and will be removed in a future version.\n",
            "Instructions for updating:\n",
            "This function will only be available through the v1 compatibility library as tf.compat.v1.saved_model.loader.load or tf.compat.v1.saved_model.load. There will be a new function for importing SavedModels in Tensorflow 2.0.\n",
            "2022-12-06 09:30:47.084208: I tensorflow/compiler/mlir/mlir_graph_optimization_pass.cc:354] MLIR V1 optimization pass is not enabled\n",
            "2022-12-06 09:30:54.471173: I tensorflow/compiler/xla/service/service.cc:173] XLA service 0x4a3e0a00 initialized for platform Host (this does not guarantee that XLA will be used). Devices:\n",
            "2022-12-06 09:30:54.471244: I tensorflow/compiler/xla/service/service.cc:181]   StreamExecutor device (0): Host, Default Version\n",
            "2022-12-06 09:30:54.537285: I tensorflow/compiler/mlir/tensorflow/utils/dump_mlir_util.cc:268] disabling MLIR crash reproducer, set env var `MLIR_CRASH_REPRODUCER_DIRECTORY` to enable.\n",
            "2022-12-06 09:31:00.441479: I tensorflow/compiler/jit/xla_compilation_cache.cc:476] Compiled cluster using XLA!  This line is logged at most once for the lifetime of the process.\n"
          ]
        },
        {
          "output_type": "display_data",
          "data": {
            "text/plain": [
              "<IPython.core.display.HTML object>"
            ],
            "text/html": [
              "\n",
              "            <style>\n",
              "            .p-Widget.jp-OutputPrompt.jp-OutputArea-prompt:empty {\n",
              "              padding: 0;\n",
              "              border: 0;\n",
              "            }\n",
              "            .p-Widget.jp-RenderedJavaScript.jp-mod-trusted.jp-OutputArea-output:empty {\n",
              "              padding: 0;\n",
              "              border: 0;\n",
              "            }\n",
              "            </style>\n",
              "            <link rel=\"stylesheet\" href=\"https://cdn.datatables.net/1.10.20/css/jquery.dataTables.min.css\">\n",
              "            <table id=\"table_df_e626fa8c14641f539b5385fe8e9e2dff\" class=\"display\" style=\"display:block\"></table>\n",
              "            <script>\n",
              "              \n",
              "        if (typeof window.interactive_beam_jquery == 'undefined') {\n",
              "          var jqueryScript = document.createElement('script');\n",
              "          jqueryScript.src = 'https://code.jquery.com/jquery-3.4.1.slim.min.js';\n",
              "          jqueryScript.type = 'text/javascript';\n",
              "          jqueryScript.onload = function() {\n",
              "            var datatableScript = document.createElement('script');\n",
              "            datatableScript.src = 'https://cdn.datatables.net/1.10.20/js/jquery.dataTables.min.js';\n",
              "            datatableScript.type = 'text/javascript';\n",
              "            datatableScript.onload = function() {\n",
              "              window.interactive_beam_jquery = jQuery.noConflict(true);\n",
              "              window.interactive_beam_jquery(document).ready(function($){\n",
              "                \n",
              "            var dt;\n",
              "            if ($.fn.dataTable.isDataTable(\"#table_df_e626fa8c14641f539b5385fe8e9e2dff\")) {\n",
              "              dt = $(\"#table_df_e626fa8c14641f539b5385fe8e9e2dff\").dataTable();\n",
              "            } else if ($(\"#table_df_e626fa8c14641f539b5385fe8e9e2dff_wrapper\").length == 0) {\n",
              "              dt = $(\"#table_df_e626fa8c14641f539b5385fe8e9e2dff\").dataTable({\n",
              "                \n",
              "            bAutoWidth: false,\n",
              "            columns: [{'title': ''}, {'title': 'inference.0'}],\n",
              "            destroy: true,\n",
              "            responsive: true,\n",
              "            columnDefs: [\n",
              "              {\n",
              "                targets: \"_all\",\n",
              "                className: \"dt-left\"\n",
              "              },\n",
              "              {\n",
              "                \"targets\": 0,\n",
              "                \"width\": \"10px\",\n",
              "                \"title\": \"\"\n",
              "              }\n",
              "            ]\n",
              "              });\n",
              "            } else {\n",
              "              return;\n",
              "            }\n",
              "            dt.api()\n",
              "              .clear()\n",
              "              .rows.add([{1: 'predict_log {\\n  request {\\n    model_spec {\\n      signature_name: \"serving_default\"\\n    }\\n    inputs {\\n      key: \"serialized_examples\"\\n      value {\\n        dtype: DT_STRING\\n        tensor_shape {\\n          dim {\\n            size: 1\\n          }\\n        }\\n        string_val: \"\\\\nH\\\\nF\\\\n\\\\005input\\\\022=\\\\n;\\\\n9what is the official slogan for the 2018 winter olympics?\"\\n      }\\n    }\\n  }\\n  response {\\n    outputs {\\n      key: \"output_0\"\\n      value {\\n        dtype: DT_FLOAT\\n        tensor_shape {\\n          dim {\\n            size: 1\\n          }\\n          dim {\\n            size: 768\\n          }\\n        }\\n        tensor_content: \"\\\\337\\\\314\\\\271\\\\27252\\\\021\\\\275h\\\\343\\\\033\\\\273\\\\313\\\\013\\\\006<\\\\036\\\\007\\\\024<\\\\363\\\\226\\\\211\\\\274\\\\374C\\\\004\\\\275W\\\\360\\\\210=q\\\\204u\\\\274\\\\364\\\\304\\\\004<!\\\\245b<\\\\307~\\\\273\\\\2751k\\\\240=\\\\263\\\\\"\\\\\\\\;\\\\305`\\\\211=\\\\214F-=\\\\254\\\\353\\\\330<\\\\372\\\\222(\\\\274\\\\201\\\\3669=7\\\\\\\\\\\\203=a\\\\307\\\\204=\\\\304\\\\237\\\\230\\\\274\\\\261(\\\\252\\\\275Jm\\\\\"=\\\\375\\\\360f\\\\274(C\\\\360\\\\273\\\\335Vs=\\\\rw\\\\204\\\\274Rj\\\\343\\\\273\\\\330n\\\\035<\\\\222h4=;\\\\241\\\\364\\\\274\\\\300R\\\\006\\\\275+\\\\355\\\\203=\\\\200\\\\231J\\\\275t\\\\314c=\\\\310\\\\350*\\\\275;mM\\\\274_\\\\266y\\\\274^\\\\022\\\\231<\\\\366{[<j;o\\\\275K\\\\2131\\\\275*\\\\373c=\\\\000pA\\\\275\\\\3363\\\\\\\\;\\\\026\\\\010;;d\\\\201P=^\\\\357\\\\231\\\\274\\\\370\\\\221\\\\221\\\\275\\\\251#\\\\303\\\\274r\\\\213s\\\\274\\\\301\\\\360\\\\221\\\\275\\\\002\\\\273\\\\251\\\\274?\\\\r\\\\337\\\\274\\\\020\\\\\"!\\\\274`0\\\\200\\\\275Ah\\\\313<\\\\030\\\\244g=.P]<o\\\\374k\\\\275pI\\\\204=\\\\254\\\\302\\\\177;\\\\223\\\\373h<\\\\244\\\\037\\\\\\'\\\\275r\\\\034\\\\221<@\\\\326/\\\\275\\\\203\\\\240\\\\367\\\\274\\\\3354u=\\\\203:\\\\017\\\\274VU\\\\201=\\\\205\\\\343\\\\025=\\\\342\\\\336\\\\205\\\\274}\\\\204\\\\263\\\\274\\\\313Ft\\\\274\\\\332mP\\\\275\\\\033\\\\023\\\\207\\\\274\\\\013\\\\313\\\\250\\\\274-\\\\002\\\\255=\\\\235q\\\\321<\\\\021\\\\203\\\\207:\\\\\"K\\\\253;^\\\\377(=\\\\302\\\\321\\\\365;=\\\\276\\\\306\\\\274e\\\\206N\\\\275\\\\237z\\\\265\\\\275\\\\207\\\\320\\\\004<\\\\003.\\\\347\\\\274\\\\\\'(\\\\307<\\\\301\\\\241\\\\241\\\\274\\\\351Gb\\\\274\\\\206\\\\033\\\\234<uMd<\\\\366\\\\300\\\\220\\\\275\\\\223\\\\2543=Y2\\\\004\\\\274\\\\\\'G/\\\\274\\\\003\\\\237\\\\240<\\\\341*\\\\004\\\\274\\\\025\\\\251\\\\214\\\\270\\\\215\\\\323\\\\031\\\\273\\\\210o\\\\016<\\\\230\\\\204e\\\\274\\\\271\\\\016Z=\\\\227=~\\\\275\\\\347\\\\372c\\\\275;\\\\3144\\\\274\\\\203\\\\014V\\\\274\\\\301\\\\363\\\\374\\\\274\\\\237P\\\\351;\\\\331%U\\\\275\\\\004\\\\371(\\\\275\\\\324\\\\200\\\\005=\\\\336\\\\350\\\\366<\\\\215s\\\\177\\\\275\\\\274+9\\\\275\\\\005\\\\371/:\\\\254U\\\\252\\\\273\\\\270\\\\3240\\\\272\\\\r\\\\\\'\\\\022\\\\275\\\\251\\\\335\\\\312\\\\274\\\\274\\\\217\\\\320\\\\275\\\\243w\\\\267\\\\274\\\\201^{=\\\\010\\\\264I<?A\\\\037\\\\274\\\\000y$\\\\275\\\\362N\\\\256\\\\274\\\\013\\\\240\\\\236=B\\\\223{\\\\274\\\\234\\\\265_=Q\\\\315w<\\\\347\\\\237\\\\351\\\\273\\\\361\\\\3720= jO\\\\2742\\\\350-\\\\274\\\\200\\\\277.=\\\\317\\\\t\\\\204\\\\275\\\\275\\\\314\\\\303<A\\\\027\\\\304<*\\\\371\\\\022<\\\\350}7=\\\\024\\\\010\\\\364\\\\273\\\\224\\\\277\\\\n\\\\275% k=\\\\374\\\\371\\\\233<\\\\272\\\\241\\\\300\\\\274\\\\033]H=\\\\237\\\\355\\\\332<\\\\252\\\\200\\\\205\\\\274b\\\\236\\\\010=I\\\\204\\\\256<+P\\\\345;r\\\\000\\\\246<\\\\306G\\\\244\\\\274\\\\301\\\\205\\\\003\\\\2752\\\\261\\\\275\\\\274\\\\010\\\\2706\\\\275\\\\332( <\\\\027rE\\\\275\\\\232\\\\210z\\\\274:\\\\342\\\\036=\\\\243LC;3\\\\017\\\\346<i]\\\\035<\\\\232Y\\\\316\\\\273\\\\010[\\\\n\\\\273|^\\\\334\\\\274\\\\266\\\\247 \\\\275w\\\\350\\\\266\\\\274\\\\030]l\\\\275\\\\331(\\\\253;|\\\\340\\\\363\\\\273>\\\\331*\\\\274G\\\\220\\\\231\\\\274 \\\\200\\\\003=\\\\327\\\\231\\\\031\\\\275\\\\034\\\\337\\\\356\\\\274\\\\273\\\\223i\\\\274\\\\376\\\\316s\\\\275B\\\\232\\\\244\\\\274\\\\007o\\\\356<\\\\204j\\\\220<\\\\243\\\\216I;\\\\031\\\\030\\\\021=\\\\372a\\\\241\\\\2740\\\\216\\\\001=q\\\\332\\\\244\\\\274\\\\372R\\\\226\\\\275R{*= HP=-2<=\\\\004\\\\337\\\\363<\\\\217\\\\000\\\\032\\\\274\\\\026\\\\217L=\\\\034 \\\\256\\\\273\\\\253)$\\\\275\\\\271\\\\315\\\\23295\\\\205%<V\\\\004$\\\\274\\\\n8\\\\232;\\\\026\\\\272\\\\365\\\\274\\\\243?\\\\211\\\\272~\\\\000(\\\\274\\\\017\\\\213\\\\264<\\\\374g\\\\215<\\\\022YQ<\\\\370\\\\256\\\\205\\\\275]\\\\001\\\\211\\\\275n\\\\345\\\\365<3\\\\221\\\\305\\\\273H\\\\315~<%vB<W\\\\225\\\\274<\\\\373\\\\331c\\\\275\\\\305,\\\\365<_:Y\\\\274m\\\\024u\\\\2729\\\\202\\\\013=\\\\267\\\\216S\\\\275\\\\367ZF=~~I\\\\2756\\\\342`\\\\274\\\\267{7\\\\275\\\\345\\\\364\\\\013\\\\274\\\\311=\\\\323\\\\274jh \\\\275\\\\250oF\\\\272\\\\200\\\\021\\\\363<\\\\372\\\\316\\\\373<\\\\377.<=t\\\\243\\\\221=\\\\366\\\\262\\\\016\\\\273\\\\265\\\\304\\\\210\\\\273f\\\\276b\\\\274\\\\257\\\\017\\\\374\\\\274\\\\005\\\\226\\\\316\\\\274\\\\\\\\\\\\362\\\\312\\\\274K\\\\375>\\\\275&\\\\325\\\\252<\\\\267\\\\250\\\\307<a\\\\361\\\\340\\\\273\\\\311\\\\013\\\\240<>\\\\020k<\\\\201\\\\337!\\\\274t\\\\255\\\\237\\\\273\\\\247\\\\3432\\\\273\\\\342\\\\377$\\\\274\\\\324{\\\\242=V\\\\324\\\\024\\\\275\\\\010m\\\\006\\\\274\\\\260$\\\\235;\\\\020!o\\\\274\\\\357\\\\232\\\\377<c\\\\266,\\\\275f]\\\\361<=\\\\354!=\\\\035I8<\\\\344\\\\335p\\\\275\\\\207r\\\\230\\\\275\\\\255\\\\264\\\\245\\\\273fh<<\\\\300\\\\276\\\\n=.\\\\334\\\\022<kc!\\\\275\\\\3210I=g\\\\336\\\\236\\\\273_\\\\217\\\\240<L\\\\346\\\\000\\\\275\\\\330S\\\\330<\\\\203%D<:\\\\252Y;\\\\332)\\\\004\\\\275&\\\\340\\\\342:\\\\314F\\\\325<K\\\\304\\\\222<3\\\\312U=\\\\220\\\\343\\\\010=\\\\216\\\\3162\\\\275\\\\006\\\\362\\\\215\\\\273f\\\\247a<\\\\010\\\\363\\\\007<~\\\\tz<U\\\\367&\\\\275x3\\\\r\\\\275\\\\0175\\\\351\\\\274\\\\026D\\\\333<\\\\271\\\\274A\\\\275\\\\331\\\\272\\\\335\\\\274\\\\314\\\\2567\\\\274\\\\317\\\\254v;\\\\211\\\\265H<\\\\266u.=,\\\\347\\\\001<\\\\363n?\\\\274\\\\354=><\\\\336:\\\\361<\\\\362\\\\347m;}\\\\261\\\\205\\\\275i}N<1\\\\234\\\\367\\\\274\\\\212\\\\205\\\\317<}\\\\021:=\\\\350$-=^\\\\002\\\\267\\\\274\\\\226\\\\214\\\\311\\\\273\\\\035\\\\312Q=[\\\\3277<\\\\330\\\\033?=\\\\330\\\\324\\\\241\\\\274\\\\201\\\\001a<\\\\257M\\\\331\\\\274\\\\311Q\\\\236\\\\275[\\\\014b<\\\\352\\\\326,\\\\275\\\\277\\\\311\\\\305<L\\\\370\\\\006\\\\275$\\\\214\\\\206\\\\275\\\\376iv=\\\\277\\\\310q=,\\\\241\\\\276<\\\\314gI=8\\\\006\\\\226\\\\274\\\\273\\\\277\\\\236\\\\274\\\\212\\\\320\\\\265\\\\274\\\\251\\\\227\\\\275<j\\\\334\\\\211\\\\275c\\\\365\\\\254\\\\273\\\\220_\\\\256<D4\\\\037=\\\\331\\\\224\\\\302;\\\\244=\\\\224<\\\\334\\\\343\\\\3379@.P\\\\275.\\\\3464\\\\275\\\\225\\\\261\\\\004=\\\\2467\\\\016\\\\2755\\\\216J=o6\\\\016=\\\\027\\\\037\\\\034=\\\\024z-\\\\275t#7\\\\275\\\\230\\\\264\\\\003<\\\\021\\\\014\\\\216<\\\\317<\\\\335\\\\274{M <}\\\\304\\\\247\\\\275\\\\260\\\\203\\\\234;gL\\\\374<\\\\373o\\\\222\\\\275#\\\\240A=d\\\\262\\\\274<\\\\267\\\\241?\\\\275\\\\314\\\\033\\\\353\\\\274_\\\\262\\\\244<\\\\355\\\\227\\\\031\\\\275\\\\370\\\\365L=\\\\377F\\\\325\\\\274k\\\\022\\\\236\\\\274&\\\\330\\\\227\\\\273\\\\252\\\\223\\\\356\\\\274p\\\\367,\\\\275/\\\\341\\\\336\\\\274i\\\\002)\\\\273\\\\202*\\\\371<\\\\217\\\\020|=\\\\024\\\\317\\\\000=G\\\\275\\\\020=@\\\\236|\\\\275vz\\\\025=_\\\\354\\\\372<=|\\\\032=\\\\310\\\\365_=\\\\371\\\\277\\\\371<\\\\004fZ=\\\\226%\\\\265;\\\\\\\\\\\\306v=\\\\270\\\\324\\\\202=\\\\271\\\\345s=B\\\\347Q<B\\\\355\\\\235\\\\274M\\\\320\\\\252\\\\274\\\\371\\\\027\\\\316\\\\274\\\\244\\\\257Y=>\\\\327\\\\246\\\\274\\\\342\\\\232\\\\014\\\\275\\\\202o\\\\272\\\\274\\\\314\\\\327&\\\\275Uo\\\\307\\\\275Z(N=s\\\\377(\\\\274y\\\\263\\\\330\\\\273\\\\203 \\\\275<\\\\320)\\\\240<\\\\024\\\\300\\\\235\\\\275\\\\203\\\\241\\\\344<Qq\\\\210\\\\274@\\\\247\\\\211\\\\275\\\\241\\\\244\\\\201<Oy\\\\210;\\\\273\\\\221\\\\201<Y\\\\344\\\\224\\\\275\\\\007\\\\215.;\\\\r\\\\270\\\\315\\\\274\\\\325\\\\371\\\\n=`\\\\026\\\\211<&n\\\\025=\\\\ng\\\\\"\\\\274\\\\367\\\\217D=\\\\022\\\\236<\\\\275+\\\\3724\\\\273n\\\\3423\\\\274\\\\tLe\\\\274\\\\234\\\\233\\\\206\\\\274\\\\205\\\\231\\\\366\\\\274?[\\\\315\\\\274.u~\\\\274\\\\350*\\\\316<\\\\035\\\\264\\\\216=2\\\\022\\\\352;\\\\326\\\\2204\\\\275\\\\251\\\\367\\\\242= \\\\213o=\\\\215\\\\376\\\\324;\\\\270\\\\271\\\\355</\\\\375\\\\303\\\\273\\\\031\\\\\"/\\\\275\\\\002\\\\314_=\\\\026\\\\013\\\\272\\\\274k\\\\314/=\\\\257\\\\0016\\\\274\\\\341\\\\273\\\\341\\\\274\\\\205X\\\\023<;\\\\034V=c\\\\241\\\\312:g_\\\\003=\\\\262j\\\\346\\\\274>\\\\3379=1\\\\200v=\\\\360|\\\\262\\\\275\\\\311\\\\220E\\\\275@\\\\266\\\\300\\\\273\\\\004\\\\275-=|\\\\373P=\\\\002h\\\\250<\\\\347\\\\014\\\\321<\\\\341(\\\\026\\\\275d\\\\234\\\\344<\\\\037\\\\227\\\\325\\\\274oO\\\\201\\\\275l\\\\204\\\\241\\\\273\\\\242\\\\330\\\\263\\\\273g\\\\267\\\\320;\\\\213\\\\001\\\\306\\\\273@\\\\023\\\\322<>\\\\366\\\\316;\\\\3355\\\\030=\\\\000b\\\\304\\\\274\\\\256\\\\345\\\\005\\\\274\\\\026\\\\254\\\\227\\\\2751\\\\333\\\\317<$\\\\0218\\\\274$\\\\246\\\\240<0?e<\\\\021\\\\345\\\\216;\\\\027\\\\314<=$\\\\231\\\\266\\\\274=\\\\236\\\\255\\\\271\\\\023\\\\377_<xl,\\\\275Z&\\\\\"\\\\273I^\\\\023\\\\275\\\\225\\\\241\\\\013=p\\\\340\\\\335\\\\275\\\\035\\\\246X;R\\\\261-\\\\275\\\\320r)=\\\\204\\\\221N=?\\\\344\\\\002\\\\275\\\\201c\\\\033=;\\\\237\\\\036<\\\\362\\\\364.<;\\\\2327\\\\275\\\\347#\\\\247<\\\\336\\\\025t=\\\\220%\\\\025<\\\\355\\\\356\\\\023\\\\275~\\\\217?\\\\275\\\\353\\\\335\\\\224\\\\275\\\\254\\\\224\\\\003\\\\275\\\\006\\\\237E\\\\275L\\\\026y\\\\275\\\\305\\\\274\\\\221\\\\273w~\\\\262\\\\274\\\\351\\\\034\\\\351\\\\275\\\\200\\\\342\\\\322<\\\\312\\\\215F\\\\274\\\\261r\\\\007=\\\\032X\\\\022=\\\\330}W\\\\275n\\\\037\\\\375;\\\\311^\\\\026;\\\\213\\\\035F<p\\\\361\\\\213<\\\\033J\\\\205\\\\274\\\\333\\\\346\\\\354<H\\\\347\\\\025\\\\275o\\\\202\\\\273\\\\274\\\\361\\\\200\\\\317<\\\\235\\\\345\\\\271<\\\\272\\\\362\\\\231=\\\\221\\\\2048<\\\\010\\\\244\\\\355<\\\\2256c;Cq\\\\230\\\\275\\\\246f\\\\026\\\\273\\\\3378\\\\263\\\\274\\\\243Z3</c\\\\263\\\\274\\\\313(M<\\\\376\\\\242\\\\221\\\\274\\\\214\\\\\\'\\\\n<\\\\366t\\\\221<bc\\\\274;\\\\217\\\\274\\\\243<\\\\305\\\\2763\\\\275\\\\221\\\\222\\\\203\\\\273s\\\\003l<dU\\\\212<}T\\\\023\\\\275\\\\037\\\\327\\\\332<\\\\320\\\\372!<2\\\\331\\\\354<9~n<R\\\\247\\\\260;%\\\\0077<\\\\301mQ<@\\\\005c\\\\274\\\\023y\\\\327<\\\\0267\\\\016\\\\275f|\\\\003\\\\275\\\\027\\\\311\\\\222=\\\\0236\\\\322;p\\\\301\\\\324<q\\\\344\\\\220\\\\274]\\\\014\\\\267\\\\275\\\\366\\\\2600<\\\\013\\\\332\\\\022=Wh\\\\207<\\\\263\\\\201M\\\\271\\\\3014\\\\253\\\\272U\\\\237\\\\232\\\\272\\\\177B0<\\\\312l?;TC\\\\245\\\\275\\\\027\\\\223\\\\022\\\\275\\\\025S3=\\\\206\\\\356\\\\273\\\\273Cy\\\\326\\\\274\\\\302\\\\010\\\\235<\\\\207#\\\\035\\\\273SZD\\\\275\\\\031\\\\342:\\\\274F\\\\020\\\\241\\\\275X1<\\\\275\\\\211\\\\344\\\\200=\\\\301\\\\262\\\\353<\\\\234\\\\277\\\\370;\\\\010-\\\\242<gJ0\\\\275\\\\226\\\\\\\\$\\\\275(D\\\\222;.\\\\036X\\\\275\\\\020j\\\\325\\\\274\\\\206\\\\3757\\\\275\\\\217\\\\363\\\\275<)\\\\256>;\\\\366&\\\\343\\\\274>\\\\270\\\\217;Q\\\\247j\\\\274\\\\267\\\\243\\\\227\\\\274\\\\2748\\\\213\\\\275\\\\241\\\\267\\\\356\\\\274\\\\252\\\\262,=5O\\\\265\\\\275\\\\260\\\\334/=,\\\\241(=*s{\\\\274J\\\\301\\\\205=\\\\207.\\\\216\\\\274\\\\350^i=\\\\323l\\\\031=\\\\244\\\\032\\\\234\\\\274,\\\\200\\\\306;%\\\\305<\\\\275\\\\034f\\\\021\\\\275\\\\212\\\\252\\\\013<\\\\001\\\\024\\\\325<\\\\254l\\\\005=\\\\000\\\\321\\\\024<\\\\\\'\\\\027(\\\\275+:\\\\345\\\\274v\\\\023A<\\\\033[%<\\\\343s\\\\352<\\\\317W\\\\242<\\\\351K\\\\324\\\\274\\\\316\\\\242\\\\270\\\\274\\\\205\\\\017\\\\254<\\\\036\\\\212\\\\251;h\\\\025\\\\313\\\\2752\\\\270E\\\\274\\\\351KR;0.\\\\027=\\\\007\\\\276$\\\\275\\\\244\\\\237\\\\373:\\\\016\\\\344\\\\201=M\\\\005g=\\\\277\\\\376\\\\201\\\\275-\\\\207\\\\004=\\\\235\\\\321G<\\\\232\\\\206\\\\204\\\\275V\\\\331l\\\\274oni=6\\\\302;\\\\275\\\\036{n<\\\\002\\\\375\\\\271<\\\\262wI\\\\275;`f\\\\275s\\\\336\\\\226\\\\274\\\\3636#\\\\275T\\\\312F=Q\\\\216\\\\216<\\\\033\\\\225\\\\243\\\\272\\\\276\\\\362\\\\t=LM2=j\\\\366\\\\004=#\\\\337\\\\266<\\\\312q\\\\n=\\\\311,\\\\333\\\\274\\\\327\\\\306\\\\236<\\\\235)M\\\\275\\\\312\\\\276\\\\006\\\\274!2R=\\\\310d\\\\210\\\\274\\\\006^\\\\337<J\\\\222\\\\030=6\\\\332\\\\221=\\\\323\\\\216\\\\026\\\\274\\\\003%\\\\210\\\\274\\\\316q\\\\224<\\\\226x0=\\\\244$\\\\325<\\\\r\\\\\\\\\\\\232\\\\272\\\\246p\\\\001\\\\274[ N\\\\275I\\\\325\\\\364\\\\274kC\\\\300\\\\275K\\\\257\\\\344<\\\\273\\\\277\\\\220=^z\\\\232\\\\274l\\\\027\\\\014\\\\275\\\\3151 \\\\275\\\\335:9=\\\\356\\\\260V\\\\274\\\\314\\\\023_\\\\273\\\\013\\\\364\\\\350;\\\\217\\\\021J\\\\274\\\\276\\\\307H\\\\275\\\\2228)=M\\\\001#;\\\\004\\\\310U\\\\274]F==V5\\\\205<~\\\\026\\\\177<\\\\316\\\\037m\\\\275\\\\362\\\\320\\\\227<Hn\\\\017=\\\\322\\\\367\\\\205<\\\\237\\\\003_\\\\275\\\\364\\\\233\\\\r9\\\\373\\\\241\\\\030\\\\274yx\\\\220<\\\\260\\\\r\\\\324<\\\\357/19\\\\016@\\\\210<\\\\324\\\\034\\\\270\\\\274\\\\255\\\\000\\\\244<\\\\332\\\\333\\\\202\\\\275/\\\\215\\\\n\\\\275\\\\240\\\\177\\\\252<l\\\\360\\\\326<\\\\31477\\\\275\\\\001\\\\026\\\\273\\\\274.\\\\334c\\\\274\\\\302+\\\\020\\\\275\\\\244c\\\\177<\\\\201:\\\\240<\\\\275\\\\333\\\\322\\\\274\\\\020-\\\\253\\\\274\\\\345 \\\\273:\\\\202\\\\273\\\\033\\\\275\\\\001\\\\206\\\\222\\\\2748\\\\210\\\\004=\\\\245\\\\220\\\\256:\\\\217\\\\304.\\\\274$\\\\200\\\\263;\\\\360\\\\241\\\\035\\\\2756\\\\302\\\\227={\\\\204?=E\\\\025\\\\033=b\\\\341\\\\323<\\\\177na\\\\2738\\\\306E\\\\2742\\\\r\\\\253\\\\274\\\\254\\\\242\\\\323<\\\\270\\\\3712\\\\274\\\\017\\\\213/\\\\275\\\\242k\\\\r\\\\273\\\\327\\\\254*:\\\\375c\\\\321<\\\\232\\\\010\\\\264<a9\\\\251\\\\272n@\\\\001\\\\275\\\\240<\\\\216=\\\\260\\\\000\\\\213<C\\\\352v\\\\274\\\\245\\\\tj\\\\274\\\\263k\\\\327\\\\274\\\\247\\\\214\\\\207<\\\\304\\\\342\\\\245\\\\273\\\\264;\\\\237\\\\274_|\\\\276<\\\\265E\\\\377<\\\\320\\\\\\'\\\\337<\\\\245\\\\352\\\\356\\\\274\\\\027\\\\264\\\\351;\\\\250\\\\340q\\\\275\\\\214\\\\377\\\\235<\\\\375\\\\0326\\\\274\\\\307\\\\200=\\\\275pVi\\\\275m\\\\312\\\\274\\\\274$\\\\007\\\\013\\\\275\\\\251\\\\314\\\\313<)O\\\\240\\\\275\\\\301_\\\\323\\\\274\\\\224\\\\202\\\\377;\\\\352e=\\\\275p\\\\204T;\\\\343[\\\\023=?+\\\\260=O\\\\330\\\\274\\\\274n\\\\031\\\\274\\\\274`\\\\237\\\\250\\\\272s\\\\200_\\\\275QL\\\\354\\\\273\\\\303n\\\\372\\\\274\\\\224CL\\\\274Pi\\\\207\\\\275\\\\256\\\\255[\\\\275]\\\\005\\\\007\\\\274\\\\276K\\\\251<:0\\\\361<\\\\307W\\\\003<\\\\274\\\\352\\\\\\'\\\\274\\\\035\\\\341\\\\265<\"\\n      }\\n    }\\n    model_spec {\\n      signature_name: \"serving_default\"\\n    }\\n  }\\n}\\n', 0: 0}])\n",
              "              .draw('full-hold');\n",
              "              });\n",
              "            }\n",
              "            document.head.appendChild(datatableScript);\n",
              "          };\n",
              "          document.head.appendChild(jqueryScript);\n",
              "        } else {\n",
              "          window.interactive_beam_jquery(document).ready(function($){\n",
              "            \n",
              "            var dt;\n",
              "            if ($.fn.dataTable.isDataTable(\"#table_df_e626fa8c14641f539b5385fe8e9e2dff\")) {\n",
              "              dt = $(\"#table_df_e626fa8c14641f539b5385fe8e9e2dff\").dataTable();\n",
              "            } else if ($(\"#table_df_e626fa8c14641f539b5385fe8e9e2dff_wrapper\").length == 0) {\n",
              "              dt = $(\"#table_df_e626fa8c14641f539b5385fe8e9e2dff\").dataTable({\n",
              "                \n",
              "            bAutoWidth: false,\n",
              "            columns: [{'title': ''}, {'title': 'inference.0'}],\n",
              "            destroy: true,\n",
              "            responsive: true,\n",
              "            columnDefs: [\n",
              "              {\n",
              "                targets: \"_all\",\n",
              "                className: \"dt-left\"\n",
              "              },\n",
              "              {\n",
              "                \"targets\": 0,\n",
              "                \"width\": \"10px\",\n",
              "                \"title\": \"\"\n",
              "              }\n",
              "            ]\n",
              "              });\n",
              "            } else {\n",
              "              return;\n",
              "            }\n",
              "            dt.api()\n",
              "              .clear()\n",
              "              .rows.add([{1: 'predict_log {\\n  request {\\n    model_spec {\\n      signature_name: \"serving_default\"\\n    }\\n    inputs {\\n      key: \"serialized_examples\"\\n      value {\\n        dtype: DT_STRING\\n        tensor_shape {\\n          dim {\\n            size: 1\\n          }\\n        }\\n        string_val: \"\\\\nH\\\\nF\\\\n\\\\005input\\\\022=\\\\n;\\\\n9what is the official slogan for the 2018 winter olympics?\"\\n      }\\n    }\\n  }\\n  response {\\n    outputs {\\n      key: \"output_0\"\\n      value {\\n        dtype: DT_FLOAT\\n        tensor_shape {\\n          dim {\\n            size: 1\\n          }\\n          dim {\\n            size: 768\\n          }\\n        }\\n        tensor_content: \"\\\\337\\\\314\\\\271\\\\27252\\\\021\\\\275h\\\\343\\\\033\\\\273\\\\313\\\\013\\\\006<\\\\036\\\\007\\\\024<\\\\363\\\\226\\\\211\\\\274\\\\374C\\\\004\\\\275W\\\\360\\\\210=q\\\\204u\\\\274\\\\364\\\\304\\\\004<!\\\\245b<\\\\307~\\\\273\\\\2751k\\\\240=\\\\263\\\\\"\\\\\\\\;\\\\305`\\\\211=\\\\214F-=\\\\254\\\\353\\\\330<\\\\372\\\\222(\\\\274\\\\201\\\\3669=7\\\\\\\\\\\\203=a\\\\307\\\\204=\\\\304\\\\237\\\\230\\\\274\\\\261(\\\\252\\\\275Jm\\\\\"=\\\\375\\\\360f\\\\274(C\\\\360\\\\273\\\\335Vs=\\\\rw\\\\204\\\\274Rj\\\\343\\\\273\\\\330n\\\\035<\\\\222h4=;\\\\241\\\\364\\\\274\\\\300R\\\\006\\\\275+\\\\355\\\\203=\\\\200\\\\231J\\\\275t\\\\314c=\\\\310\\\\350*\\\\275;mM\\\\274_\\\\266y\\\\274^\\\\022\\\\231<\\\\366{[<j;o\\\\275K\\\\2131\\\\275*\\\\373c=\\\\000pA\\\\275\\\\3363\\\\\\\\;\\\\026\\\\010;;d\\\\201P=^\\\\357\\\\231\\\\274\\\\370\\\\221\\\\221\\\\275\\\\251#\\\\303\\\\274r\\\\213s\\\\274\\\\301\\\\360\\\\221\\\\275\\\\002\\\\273\\\\251\\\\274?\\\\r\\\\337\\\\274\\\\020\\\\\"!\\\\274`0\\\\200\\\\275Ah\\\\313<\\\\030\\\\244g=.P]<o\\\\374k\\\\275pI\\\\204=\\\\254\\\\302\\\\177;\\\\223\\\\373h<\\\\244\\\\037\\\\\\'\\\\275r\\\\034\\\\221<@\\\\326/\\\\275\\\\203\\\\240\\\\367\\\\274\\\\3354u=\\\\203:\\\\017\\\\274VU\\\\201=\\\\205\\\\343\\\\025=\\\\342\\\\336\\\\205\\\\274}\\\\204\\\\263\\\\274\\\\313Ft\\\\274\\\\332mP\\\\275\\\\033\\\\023\\\\207\\\\274\\\\013\\\\313\\\\250\\\\274-\\\\002\\\\255=\\\\235q\\\\321<\\\\021\\\\203\\\\207:\\\\\"K\\\\253;^\\\\377(=\\\\302\\\\321\\\\365;=\\\\276\\\\306\\\\274e\\\\206N\\\\275\\\\237z\\\\265\\\\275\\\\207\\\\320\\\\004<\\\\003.\\\\347\\\\274\\\\\\'(\\\\307<\\\\301\\\\241\\\\241\\\\274\\\\351Gb\\\\274\\\\206\\\\033\\\\234<uMd<\\\\366\\\\300\\\\220\\\\275\\\\223\\\\2543=Y2\\\\004\\\\274\\\\\\'G/\\\\274\\\\003\\\\237\\\\240<\\\\341*\\\\004\\\\274\\\\025\\\\251\\\\214\\\\270\\\\215\\\\323\\\\031\\\\273\\\\210o\\\\016<\\\\230\\\\204e\\\\274\\\\271\\\\016Z=\\\\227=~\\\\275\\\\347\\\\372c\\\\275;\\\\3144\\\\274\\\\203\\\\014V\\\\274\\\\301\\\\363\\\\374\\\\274\\\\237P\\\\351;\\\\331%U\\\\275\\\\004\\\\371(\\\\275\\\\324\\\\200\\\\005=\\\\336\\\\350\\\\366<\\\\215s\\\\177\\\\275\\\\274+9\\\\275\\\\005\\\\371/:\\\\254U\\\\252\\\\273\\\\270\\\\3240\\\\272\\\\r\\\\\\'\\\\022\\\\275\\\\251\\\\335\\\\312\\\\274\\\\274\\\\217\\\\320\\\\275\\\\243w\\\\267\\\\274\\\\201^{=\\\\010\\\\264I<?A\\\\037\\\\274\\\\000y$\\\\275\\\\362N\\\\256\\\\274\\\\013\\\\240\\\\236=B\\\\223{\\\\274\\\\234\\\\265_=Q\\\\315w<\\\\347\\\\237\\\\351\\\\273\\\\361\\\\3720= jO\\\\2742\\\\350-\\\\274\\\\200\\\\277.=\\\\317\\\\t\\\\204\\\\275\\\\275\\\\314\\\\303<A\\\\027\\\\304<*\\\\371\\\\022<\\\\350}7=\\\\024\\\\010\\\\364\\\\273\\\\224\\\\277\\\\n\\\\275% k=\\\\374\\\\371\\\\233<\\\\272\\\\241\\\\300\\\\274\\\\033]H=\\\\237\\\\355\\\\332<\\\\252\\\\200\\\\205\\\\274b\\\\236\\\\010=I\\\\204\\\\256<+P\\\\345;r\\\\000\\\\246<\\\\306G\\\\244\\\\274\\\\301\\\\205\\\\003\\\\2752\\\\261\\\\275\\\\274\\\\010\\\\2706\\\\275\\\\332( <\\\\027rE\\\\275\\\\232\\\\210z\\\\274:\\\\342\\\\036=\\\\243LC;3\\\\017\\\\346<i]\\\\035<\\\\232Y\\\\316\\\\273\\\\010[\\\\n\\\\273|^\\\\334\\\\274\\\\266\\\\247 \\\\275w\\\\350\\\\266\\\\274\\\\030]l\\\\275\\\\331(\\\\253;|\\\\340\\\\363\\\\273>\\\\331*\\\\274G\\\\220\\\\231\\\\274 \\\\200\\\\003=\\\\327\\\\231\\\\031\\\\275\\\\034\\\\337\\\\356\\\\274\\\\273\\\\223i\\\\274\\\\376\\\\316s\\\\275B\\\\232\\\\244\\\\274\\\\007o\\\\356<\\\\204j\\\\220<\\\\243\\\\216I;\\\\031\\\\030\\\\021=\\\\372a\\\\241\\\\2740\\\\216\\\\001=q\\\\332\\\\244\\\\274\\\\372R\\\\226\\\\275R{*= HP=-2<=\\\\004\\\\337\\\\363<\\\\217\\\\000\\\\032\\\\274\\\\026\\\\217L=\\\\034 \\\\256\\\\273\\\\253)$\\\\275\\\\271\\\\315\\\\23295\\\\205%<V\\\\004$\\\\274\\\\n8\\\\232;\\\\026\\\\272\\\\365\\\\274\\\\243?\\\\211\\\\272~\\\\000(\\\\274\\\\017\\\\213\\\\264<\\\\374g\\\\215<\\\\022YQ<\\\\370\\\\256\\\\205\\\\275]\\\\001\\\\211\\\\275n\\\\345\\\\365<3\\\\221\\\\305\\\\273H\\\\315~<%vB<W\\\\225\\\\274<\\\\373\\\\331c\\\\275\\\\305,\\\\365<_:Y\\\\274m\\\\024u\\\\2729\\\\202\\\\013=\\\\267\\\\216S\\\\275\\\\367ZF=~~I\\\\2756\\\\342`\\\\274\\\\267{7\\\\275\\\\345\\\\364\\\\013\\\\274\\\\311=\\\\323\\\\274jh \\\\275\\\\250oF\\\\272\\\\200\\\\021\\\\363<\\\\372\\\\316\\\\373<\\\\377.<=t\\\\243\\\\221=\\\\366\\\\262\\\\016\\\\273\\\\265\\\\304\\\\210\\\\273f\\\\276b\\\\274\\\\257\\\\017\\\\374\\\\274\\\\005\\\\226\\\\316\\\\274\\\\\\\\\\\\362\\\\312\\\\274K\\\\375>\\\\275&\\\\325\\\\252<\\\\267\\\\250\\\\307<a\\\\361\\\\340\\\\273\\\\311\\\\013\\\\240<>\\\\020k<\\\\201\\\\337!\\\\274t\\\\255\\\\237\\\\273\\\\247\\\\3432\\\\273\\\\342\\\\377$\\\\274\\\\324{\\\\242=V\\\\324\\\\024\\\\275\\\\010m\\\\006\\\\274\\\\260$\\\\235;\\\\020!o\\\\274\\\\357\\\\232\\\\377<c\\\\266,\\\\275f]\\\\361<=\\\\354!=\\\\035I8<\\\\344\\\\335p\\\\275\\\\207r\\\\230\\\\275\\\\255\\\\264\\\\245\\\\273fh<<\\\\300\\\\276\\\\n=.\\\\334\\\\022<kc!\\\\275\\\\3210I=g\\\\336\\\\236\\\\273_\\\\217\\\\240<L\\\\346\\\\000\\\\275\\\\330S\\\\330<\\\\203%D<:\\\\252Y;\\\\332)\\\\004\\\\275&\\\\340\\\\342:\\\\314F\\\\325<K\\\\304\\\\222<3\\\\312U=\\\\220\\\\343\\\\010=\\\\216\\\\3162\\\\275\\\\006\\\\362\\\\215\\\\273f\\\\247a<\\\\010\\\\363\\\\007<~\\\\tz<U\\\\367&\\\\275x3\\\\r\\\\275\\\\0175\\\\351\\\\274\\\\026D\\\\333<\\\\271\\\\274A\\\\275\\\\331\\\\272\\\\335\\\\274\\\\314\\\\2567\\\\274\\\\317\\\\254v;\\\\211\\\\265H<\\\\266u.=,\\\\347\\\\001<\\\\363n?\\\\274\\\\354=><\\\\336:\\\\361<\\\\362\\\\347m;}\\\\261\\\\205\\\\275i}N<1\\\\234\\\\367\\\\274\\\\212\\\\205\\\\317<}\\\\021:=\\\\350$-=^\\\\002\\\\267\\\\274\\\\226\\\\214\\\\311\\\\273\\\\035\\\\312Q=[\\\\3277<\\\\330\\\\033?=\\\\330\\\\324\\\\241\\\\274\\\\201\\\\001a<\\\\257M\\\\331\\\\274\\\\311Q\\\\236\\\\275[\\\\014b<\\\\352\\\\326,\\\\275\\\\277\\\\311\\\\305<L\\\\370\\\\006\\\\275$\\\\214\\\\206\\\\275\\\\376iv=\\\\277\\\\310q=,\\\\241\\\\276<\\\\314gI=8\\\\006\\\\226\\\\274\\\\273\\\\277\\\\236\\\\274\\\\212\\\\320\\\\265\\\\274\\\\251\\\\227\\\\275<j\\\\334\\\\211\\\\275c\\\\365\\\\254\\\\273\\\\220_\\\\256<D4\\\\037=\\\\331\\\\224\\\\302;\\\\244=\\\\224<\\\\334\\\\343\\\\3379@.P\\\\275.\\\\3464\\\\275\\\\225\\\\261\\\\004=\\\\2467\\\\016\\\\2755\\\\216J=o6\\\\016=\\\\027\\\\037\\\\034=\\\\024z-\\\\275t#7\\\\275\\\\230\\\\264\\\\003<\\\\021\\\\014\\\\216<\\\\317<\\\\335\\\\274{M <}\\\\304\\\\247\\\\275\\\\260\\\\203\\\\234;gL\\\\374<\\\\373o\\\\222\\\\275#\\\\240A=d\\\\262\\\\274<\\\\267\\\\241?\\\\275\\\\314\\\\033\\\\353\\\\274_\\\\262\\\\244<\\\\355\\\\227\\\\031\\\\275\\\\370\\\\365L=\\\\377F\\\\325\\\\274k\\\\022\\\\236\\\\274&\\\\330\\\\227\\\\273\\\\252\\\\223\\\\356\\\\274p\\\\367,\\\\275/\\\\341\\\\336\\\\274i\\\\002)\\\\273\\\\202*\\\\371<\\\\217\\\\020|=\\\\024\\\\317\\\\000=G\\\\275\\\\020=@\\\\236|\\\\275vz\\\\025=_\\\\354\\\\372<=|\\\\032=\\\\310\\\\365_=\\\\371\\\\277\\\\371<\\\\004fZ=\\\\226%\\\\265;\\\\\\\\\\\\306v=\\\\270\\\\324\\\\202=\\\\271\\\\345s=B\\\\347Q<B\\\\355\\\\235\\\\274M\\\\320\\\\252\\\\274\\\\371\\\\027\\\\316\\\\274\\\\244\\\\257Y=>\\\\327\\\\246\\\\274\\\\342\\\\232\\\\014\\\\275\\\\202o\\\\272\\\\274\\\\314\\\\327&\\\\275Uo\\\\307\\\\275Z(N=s\\\\377(\\\\274y\\\\263\\\\330\\\\273\\\\203 \\\\275<\\\\320)\\\\240<\\\\024\\\\300\\\\235\\\\275\\\\203\\\\241\\\\344<Qq\\\\210\\\\274@\\\\247\\\\211\\\\275\\\\241\\\\244\\\\201<Oy\\\\210;\\\\273\\\\221\\\\201<Y\\\\344\\\\224\\\\275\\\\007\\\\215.;\\\\r\\\\270\\\\315\\\\274\\\\325\\\\371\\\\n=`\\\\026\\\\211<&n\\\\025=\\\\ng\\\\\"\\\\274\\\\367\\\\217D=\\\\022\\\\236<\\\\275+\\\\3724\\\\273n\\\\3423\\\\274\\\\tLe\\\\274\\\\234\\\\233\\\\206\\\\274\\\\205\\\\231\\\\366\\\\274?[\\\\315\\\\274.u~\\\\274\\\\350*\\\\316<\\\\035\\\\264\\\\216=2\\\\022\\\\352;\\\\326\\\\2204\\\\275\\\\251\\\\367\\\\242= \\\\213o=\\\\215\\\\376\\\\324;\\\\270\\\\271\\\\355</\\\\375\\\\303\\\\273\\\\031\\\\\"/\\\\275\\\\002\\\\314_=\\\\026\\\\013\\\\272\\\\274k\\\\314/=\\\\257\\\\0016\\\\274\\\\341\\\\273\\\\341\\\\274\\\\205X\\\\023<;\\\\034V=c\\\\241\\\\312:g_\\\\003=\\\\262j\\\\346\\\\274>\\\\3379=1\\\\200v=\\\\360|\\\\262\\\\275\\\\311\\\\220E\\\\275@\\\\266\\\\300\\\\273\\\\004\\\\275-=|\\\\373P=\\\\002h\\\\250<\\\\347\\\\014\\\\321<\\\\341(\\\\026\\\\275d\\\\234\\\\344<\\\\037\\\\227\\\\325\\\\274oO\\\\201\\\\275l\\\\204\\\\241\\\\273\\\\242\\\\330\\\\263\\\\273g\\\\267\\\\320;\\\\213\\\\001\\\\306\\\\273@\\\\023\\\\322<>\\\\366\\\\316;\\\\3355\\\\030=\\\\000b\\\\304\\\\274\\\\256\\\\345\\\\005\\\\274\\\\026\\\\254\\\\227\\\\2751\\\\333\\\\317<$\\\\0218\\\\274$\\\\246\\\\240<0?e<\\\\021\\\\345\\\\216;\\\\027\\\\314<=$\\\\231\\\\266\\\\274=\\\\236\\\\255\\\\271\\\\023\\\\377_<xl,\\\\275Z&\\\\\"\\\\273I^\\\\023\\\\275\\\\225\\\\241\\\\013=p\\\\340\\\\335\\\\275\\\\035\\\\246X;R\\\\261-\\\\275\\\\320r)=\\\\204\\\\221N=?\\\\344\\\\002\\\\275\\\\201c\\\\033=;\\\\237\\\\036<\\\\362\\\\364.<;\\\\2327\\\\275\\\\347#\\\\247<\\\\336\\\\025t=\\\\220%\\\\025<\\\\355\\\\356\\\\023\\\\275~\\\\217?\\\\275\\\\353\\\\335\\\\224\\\\275\\\\254\\\\224\\\\003\\\\275\\\\006\\\\237E\\\\275L\\\\026y\\\\275\\\\305\\\\274\\\\221\\\\273w~\\\\262\\\\274\\\\351\\\\034\\\\351\\\\275\\\\200\\\\342\\\\322<\\\\312\\\\215F\\\\274\\\\261r\\\\007=\\\\032X\\\\022=\\\\330}W\\\\275n\\\\037\\\\375;\\\\311^\\\\026;\\\\213\\\\035F<p\\\\361\\\\213<\\\\033J\\\\205\\\\274\\\\333\\\\346\\\\354<H\\\\347\\\\025\\\\275o\\\\202\\\\273\\\\274\\\\361\\\\200\\\\317<\\\\235\\\\345\\\\271<\\\\272\\\\362\\\\231=\\\\221\\\\2048<\\\\010\\\\244\\\\355<\\\\2256c;Cq\\\\230\\\\275\\\\246f\\\\026\\\\273\\\\3378\\\\263\\\\274\\\\243Z3</c\\\\263\\\\274\\\\313(M<\\\\376\\\\242\\\\221\\\\274\\\\214\\\\\\'\\\\n<\\\\366t\\\\221<bc\\\\274;\\\\217\\\\274\\\\243<\\\\305\\\\2763\\\\275\\\\221\\\\222\\\\203\\\\273s\\\\003l<dU\\\\212<}T\\\\023\\\\275\\\\037\\\\327\\\\332<\\\\320\\\\372!<2\\\\331\\\\354<9~n<R\\\\247\\\\260;%\\\\0077<\\\\301mQ<@\\\\005c\\\\274\\\\023y\\\\327<\\\\0267\\\\016\\\\275f|\\\\003\\\\275\\\\027\\\\311\\\\222=\\\\0236\\\\322;p\\\\301\\\\324<q\\\\344\\\\220\\\\274]\\\\014\\\\267\\\\275\\\\366\\\\2600<\\\\013\\\\332\\\\022=Wh\\\\207<\\\\263\\\\201M\\\\271\\\\3014\\\\253\\\\272U\\\\237\\\\232\\\\272\\\\177B0<\\\\312l?;TC\\\\245\\\\275\\\\027\\\\223\\\\022\\\\275\\\\025S3=\\\\206\\\\356\\\\273\\\\273Cy\\\\326\\\\274\\\\302\\\\010\\\\235<\\\\207#\\\\035\\\\273SZD\\\\275\\\\031\\\\342:\\\\274F\\\\020\\\\241\\\\275X1<\\\\275\\\\211\\\\344\\\\200=\\\\301\\\\262\\\\353<\\\\234\\\\277\\\\370;\\\\010-\\\\242<gJ0\\\\275\\\\226\\\\\\\\$\\\\275(D\\\\222;.\\\\036X\\\\275\\\\020j\\\\325\\\\274\\\\206\\\\3757\\\\275\\\\217\\\\363\\\\275<)\\\\256>;\\\\366&\\\\343\\\\274>\\\\270\\\\217;Q\\\\247j\\\\274\\\\267\\\\243\\\\227\\\\274\\\\2748\\\\213\\\\275\\\\241\\\\267\\\\356\\\\274\\\\252\\\\262,=5O\\\\265\\\\275\\\\260\\\\334/=,\\\\241(=*s{\\\\274J\\\\301\\\\205=\\\\207.\\\\216\\\\274\\\\350^i=\\\\323l\\\\031=\\\\244\\\\032\\\\234\\\\274,\\\\200\\\\306;%\\\\305<\\\\275\\\\034f\\\\021\\\\275\\\\212\\\\252\\\\013<\\\\001\\\\024\\\\325<\\\\254l\\\\005=\\\\000\\\\321\\\\024<\\\\\\'\\\\027(\\\\275+:\\\\345\\\\274v\\\\023A<\\\\033[%<\\\\343s\\\\352<\\\\317W\\\\242<\\\\351K\\\\324\\\\274\\\\316\\\\242\\\\270\\\\274\\\\205\\\\017\\\\254<\\\\036\\\\212\\\\251;h\\\\025\\\\313\\\\2752\\\\270E\\\\274\\\\351KR;0.\\\\027=\\\\007\\\\276$\\\\275\\\\244\\\\237\\\\373:\\\\016\\\\344\\\\201=M\\\\005g=\\\\277\\\\376\\\\201\\\\275-\\\\207\\\\004=\\\\235\\\\321G<\\\\232\\\\206\\\\204\\\\275V\\\\331l\\\\274oni=6\\\\302;\\\\275\\\\036{n<\\\\002\\\\375\\\\271<\\\\262wI\\\\275;`f\\\\275s\\\\336\\\\226\\\\274\\\\3636#\\\\275T\\\\312F=Q\\\\216\\\\216<\\\\033\\\\225\\\\243\\\\272\\\\276\\\\362\\\\t=LM2=j\\\\366\\\\004=#\\\\337\\\\266<\\\\312q\\\\n=\\\\311,\\\\333\\\\274\\\\327\\\\306\\\\236<\\\\235)M\\\\275\\\\312\\\\276\\\\006\\\\274!2R=\\\\310d\\\\210\\\\274\\\\006^\\\\337<J\\\\222\\\\030=6\\\\332\\\\221=\\\\323\\\\216\\\\026\\\\274\\\\003%\\\\210\\\\274\\\\316q\\\\224<\\\\226x0=\\\\244$\\\\325<\\\\r\\\\\\\\\\\\232\\\\272\\\\246p\\\\001\\\\274[ N\\\\275I\\\\325\\\\364\\\\274kC\\\\300\\\\275K\\\\257\\\\344<\\\\273\\\\277\\\\220=^z\\\\232\\\\274l\\\\027\\\\014\\\\275\\\\3151 \\\\275\\\\335:9=\\\\356\\\\260V\\\\274\\\\314\\\\023_\\\\273\\\\013\\\\364\\\\350;\\\\217\\\\021J\\\\274\\\\276\\\\307H\\\\275\\\\2228)=M\\\\001#;\\\\004\\\\310U\\\\274]F==V5\\\\205<~\\\\026\\\\177<\\\\316\\\\037m\\\\275\\\\362\\\\320\\\\227<Hn\\\\017=\\\\322\\\\367\\\\205<\\\\237\\\\003_\\\\275\\\\364\\\\233\\\\r9\\\\373\\\\241\\\\030\\\\274yx\\\\220<\\\\260\\\\r\\\\324<\\\\357/19\\\\016@\\\\210<\\\\324\\\\034\\\\270\\\\274\\\\255\\\\000\\\\244<\\\\332\\\\333\\\\202\\\\275/\\\\215\\\\n\\\\275\\\\240\\\\177\\\\252<l\\\\360\\\\326<\\\\31477\\\\275\\\\001\\\\026\\\\273\\\\274.\\\\334c\\\\274\\\\302+\\\\020\\\\275\\\\244c\\\\177<\\\\201:\\\\240<\\\\275\\\\333\\\\322\\\\274\\\\020-\\\\253\\\\274\\\\345 \\\\273:\\\\202\\\\273\\\\033\\\\275\\\\001\\\\206\\\\222\\\\2748\\\\210\\\\004=\\\\245\\\\220\\\\256:\\\\217\\\\304.\\\\274$\\\\200\\\\263;\\\\360\\\\241\\\\035\\\\2756\\\\302\\\\227={\\\\204?=E\\\\025\\\\033=b\\\\341\\\\323<\\\\177na\\\\2738\\\\306E\\\\2742\\\\r\\\\253\\\\274\\\\254\\\\242\\\\323<\\\\270\\\\3712\\\\274\\\\017\\\\213/\\\\275\\\\242k\\\\r\\\\273\\\\327\\\\254*:\\\\375c\\\\321<\\\\232\\\\010\\\\264<a9\\\\251\\\\272n@\\\\001\\\\275\\\\240<\\\\216=\\\\260\\\\000\\\\213<C\\\\352v\\\\274\\\\245\\\\tj\\\\274\\\\263k\\\\327\\\\274\\\\247\\\\214\\\\207<\\\\304\\\\342\\\\245\\\\273\\\\264;\\\\237\\\\274_|\\\\276<\\\\265E\\\\377<\\\\320\\\\\\'\\\\337<\\\\245\\\\352\\\\356\\\\274\\\\027\\\\264\\\\351;\\\\250\\\\340q\\\\275\\\\214\\\\377\\\\235<\\\\375\\\\0326\\\\274\\\\307\\\\200=\\\\275pVi\\\\275m\\\\312\\\\274\\\\274$\\\\007\\\\013\\\\275\\\\251\\\\314\\\\313<)O\\\\240\\\\275\\\\301_\\\\323\\\\274\\\\224\\\\202\\\\377;\\\\352e=\\\\275p\\\\204T;\\\\343[\\\\023=?+\\\\260=O\\\\330\\\\274\\\\274n\\\\031\\\\274\\\\274`\\\\237\\\\250\\\\272s\\\\200_\\\\275QL\\\\354\\\\273\\\\303n\\\\372\\\\274\\\\224CL\\\\274Pi\\\\207\\\\275\\\\256\\\\255[\\\\275]\\\\005\\\\007\\\\274\\\\276K\\\\251<:0\\\\361<\\\\307W\\\\003<\\\\274\\\\352\\\\\\'\\\\274\\\\035\\\\341\\\\265<\"\\n      }\\n    }\\n    model_spec {\\n      signature_name: \"serving_default\"\\n    }\\n  }\\n}\\n', 0: 0}])\n",
              "              .draw('full-hold');\n",
              "          });\n",
              "        }\n",
              "            </script>"
            ]
          },
          "metadata": {}
        },
        {
          "output_type": "display_data",
          "data": {
            "application/javascript": [
              "\n",
              "        if (typeof window.interactive_beam_jquery == 'undefined') {\n",
              "          var jqueryScript = document.createElement('script');\n",
              "          jqueryScript.src = 'https://code.jquery.com/jquery-3.4.1.slim.min.js';\n",
              "          jqueryScript.type = 'text/javascript';\n",
              "          jqueryScript.onload = function() {\n",
              "            var datatableScript = document.createElement('script');\n",
              "            datatableScript.src = 'https://cdn.datatables.net/1.10.20/js/jquery.dataTables.min.js';\n",
              "            datatableScript.type = 'text/javascript';\n",
              "            datatableScript.onload = function() {\n",
              "              window.interactive_beam_jquery = jQuery.noConflict(true);\n",
              "              window.interactive_beam_jquery(document).ready(function($){\n",
              "                \n",
              "            $(\"#progress_indicator_02aa6852261e6f1837821c6131548b47\").remove();\n",
              "              });\n",
              "            }\n",
              "            document.head.appendChild(datatableScript);\n",
              "          };\n",
              "          document.head.appendChild(jqueryScript);\n",
              "        } else {\n",
              "          window.interactive_beam_jquery(document).ready(function($){\n",
              "            \n",
              "            $(\"#progress_indicator_02aa6852261e6f1837821c6131548b47\").remove();\n",
              "          });\n",
              "        }"
            ]
          },
          "metadata": {}
        }
      ],
      "source": [
        "ib.show(inference)"
      ],
      "id": "29a84182-baa5-45c4-abcf-d9cab84835c9"
    }
  ],
  "metadata": {
    "colab": {
      "provenance": []
    },
    "kernelspec": {
      "display_name": "Python 3 (ipykernel)",
      "language": "python",
      "name": "python3"
    },
    "language_info": {
      "codemirror_mode": {
        "name": "ipython",
        "version": 3
      },
      "file_extension": ".py",
      "mimetype": "text/x-python",
      "name": "python",
      "nbconvert_exporter": "python",
      "pygments_lexer": "ipython3",
      "version": "3.7.12"
    }
  },
  "nbformat": 4,
  "nbformat_minor": 5
}
