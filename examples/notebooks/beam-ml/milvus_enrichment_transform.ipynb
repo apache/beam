{
 "cells": [
  {
   "cell_type": "code",
   "execution_count": 1,
   "id": "47053bac",
   "metadata": {},
   "outputs": [],
   "source": [
    "# @title ###### Licensed to the Apache Software Foundation (ASF), Version 2.0 (the \"License\")\n",
    "\n",
    "# Licensed to the Apache Software Foundation (ASF) under one\n",
    "# or more contributor license agreements. See the NOTICE file\n",
    "# distributed with this work for additional information\n",
    "# regarding copyright ownership. The ASF licenses this file\n",
    "# to you under the Apache License, Version 2.0 (the\n",
    "# \"License\"); you may not use this file except in compliance\n",
    "# with the License. You may obtain a copy of the License at\n",
    "#\n",
    "#   http://www.apache.org/licenses/LICENSE-2.0\n",
    "#\n",
    "# Unless required by applicable law or agreed to in writing,\n",
    "# software distributed under the License is distributed on an\n",
    "# \"AS IS\" BASIS, WITHOUT WARRANTIES OR CONDITIONS OF ANY\n",
    "# KIND, either express or implied. See the License for the\n",
    "# specific language governing permissions and limitations\n",
    "# under the License"
   ]
  },
  {
   "cell_type": "code",
   "execution_count": 2,
   "id": "666e0c2b-0341-4b0e-8d73-561abc39bb10",
   "metadata": {},
   "outputs": [
    {
     "name": "stderr",
     "output_type": "stream",
     "text": [
      "/home/dev/beam/sdks/python/.venv/lib/python3.9/site-packages/tqdm/auto.py:21: TqdmWarning: IProgress not found. Please update jupyter and ipywidgets. See https://ipywidgets.readthedocs.io/en/stable/user_install.html\n",
      "  from .autonotebook import tqdm as notebook_tqdm\n"
     ]
    }
   ],
   "source": [
    "# Standard library imports\n",
    "from collections import defaultdict\n",
    "from math import ceil\n",
    "from typing import List\n",
    "\n",
    "# Third-party imports\n",
    "import apache_beam as beam\n",
    "from apache_beam.ml.rag.types import Chunk, Content, Embedding\n",
    "from apache_beam.transforms.enrichment import Enrichment\n",
    "import numpy as np\n",
    "import pandas as pd\n",
    "from pymilvus import DataType, CollectionSchema, FieldSchema, Function, FunctionType, MilvusClient, RRFRanker\n",
    "from pymilvus.milvus_client import IndexParams\n",
    "from rich import print_json\n",
    "from sentence_transformers import SentenceTransformer\n",
    "from torch import cuda\n",
    "\n",
    "# Local application imports\n",
    "from llama_index.core.text_splitter import SentenceSplitter\n",
    "from apache_beam.ml.rag.enrichment.milvus_search import (\n",
    "    HybridSearchNamespace,\n",
    "    HybridSearchParameters, \n",
    "    KeywordSearchMetrics, \n",
    "    KeywordSearchParameters,\n",
    "    MilvusCollectionLoadParameters, \n",
    "    MilvusConnectionParameters, \n",
    "    MilvusSearchEnrichmentHandler,\n",
    "    MilvusSearchParameters, \n",
    "    SearchStrategy, \n",
    "    VectorSearchMetrics, \n",
    "    VectorSearchParameters\n",
    ")\n",
    "from apache_beam.ml.rag.enrichment.milvus_search_it_test import MilvusEnrichmentTestHelper"
   ]
  },
  {
   "cell_type": "markdown",
   "id": "338808ff-3f80-48e5-9c76-b8d19f8769b7",
   "metadata": {},
   "source": [
    "# Collect Data"
   ]
  },
  {
   "cell_type": "markdown",
   "id": "d83ad549-5ee1-4a4c-ae5a-e638c3d0279f",
   "metadata": {},
   "source": [
    "This content has been paraphrased from publicly available information on the internet using a large language model (OpenAI’s GPT-4) and is provided for informational purposes only."
   ]
  },
  {
   "cell_type": "markdown",
   "id": "d39a070a-206d-41f6-9033-fff0d5ea2128",
   "metadata": {},
   "source": [
    "The third data point, related to Google Beam, was intentionally included to illustrate the importance of metadata filtering (filtered search) in Milvus—such as when a user searches for the term “Beam.” without it the vector database retrieval engine may confuse between Apache Beam and Google Beam."
   ]
  },
  {
   "cell_type": "code",
   "execution_count": 3,
   "id": "38781cf5-e18f-40f5-827e-2d441ae7d2fa",
   "metadata": {},
   "outputs": [],
   "source": [
    "corpus = [\n",
    "  {\n",
    "    \"id\": \"1\",\n",
    "    \"title\": \"Apache Beam: Unified Model for Batch and Streaming Data\",\n",
    "    \"keywords\": [\"Apache Beam\", \"stream processing\", \"batch processing\", \"data pipelines\", \"SDK\"],\n",
    "    \"tags\": [\"Data Engineering\", \"Open Source\", \"Streaming\", \"Batch\", \"Big Data\"],\n",
    "    \"content\": (\n",
    "      \"Apache Beam is an open-source framework that provides a consistent programming model for both batch and streaming data processing. \"\n",
    "      \"Developed originally by Google, it allows developers to write pipelines that can run on multiple engines, such as Apache Flink, Spark, and Google Cloud Dataflow. \"\n",
    "      \"Beam uses abstractions like PCollections (data containers) and PTransforms (operations) to define the flow of data. \"\n",
    "      \"The framework promotes portability through its runner architecture, letting the same pipeline execute on different backends. \"\n",
    "      \"Support for multiple SDKs, including Java and Python, makes it accessible for a broad audience. \"\n",
    "      \"Key features include support for event time, windowing, triggers, and stateful processing, which are essential for handling real-time data effectively. \"\n",
    "      \"Beam is ideal for building ETL jobs, real-time analytics, and machine learning data pipelines. \"\n",
    "      \"It helps teams focus on logic rather than infrastructure, offering flexibility and scalability in handling unbounded and bounded data sources. \"\n",
    "      \"Apache Beam also supports a wide range of connectors for both input and output, including Kafka, BigQuery, and JDBC-based systems. \"\n",
    "      \"This makes it easy to integrate Beam into existing data ecosystems. Developers can build reusable transforms and modularize pipeline logic, improving maintainability and testing. \"\n",
    "      \"The concept of runners enables developers to write once and run anywhere, which is particularly appealing for organizations that want to avoid vendor lock-in. \"\n",
    "      \"The Beam model is based on a unified programming model that decouples pipeline logic from execution. \"\n",
    "      \"This makes it easier to reason about time and state in both batch and streaming pipelines. \"\n",
    "      \"Advanced features like late data handling, watermarks, and session windowing allow for more accurate and meaningful processing of real-world data. \"\n",
    "      \"Beam also integrates with orchestration tools and monitoring systems, allowing for production-grade deployments. \"\n",
    "      \"Community support and contributions have grown significantly, making Beam a stable and evolving ecosystem. \"\n",
    "      \"Many cloud providers offer native support for Beam pipelines, and it's increasingly a core component in modern data platform architectures.\"\n",
    "    )\n",
    "  },\n",
    "  {\n",
    "    \"id\": \"2\",\n",
    "    \"title\": \"Google Cloud Dataflow: Run Apache Beam in the Cloud\",\n",
    "    \"keywords\": [\"Google Cloud\", \"Dataflow\", \"Apache Beam\", \"serverless\", \"stream and batch\"],\n",
    "    \"tags\": [\"Cloud Computing\", \"Data Pipelines\", \"Google Cloud\", \"Serverless\", \"Enterprise\"],\n",
    "    \"content\": (\n",
    "      \"Google Cloud Dataflow is a fully managed service that runs Apache Beam pipelines in the cloud. \"\n",
    "      \"It abstracts away infrastructure management and handles dynamic scaling, load balancing, and fault tolerance. \"\n",
    "      \"Developers can focus on writing data logic using the Beam SDK and deploy it easily to Google Cloud. \"\n",
    "      \"Dataflow supports both batch and stream processing and integrates seamlessly with other Google services like BigQuery, Pub/Sub, and Cloud Storage. \"\n",
    "      \"Its autoscaling capabilities allow it to adapt to changing data volumes, optimizing for cost and performance. \"\n",
    "      \"Features like monitoring dashboards, job templates, and built-in logging make it suitable for both development and production use. \"\n",
    "      \"With support for event time processing, stateful functions, and windowing, Dataflow is well-suited for real-time analytics and data transformation tasks. \"\n",
    "      \"It’s a key component for architects building scalable, cloud-native data platforms. \"\n",
    "      \"Dataflow also offers templates for common ETL tasks, helping teams get started quickly with minimal setup. \"\n",
    "      \"Its integration with Cloud Functions and Cloud Composer enables event-driven and orchestrated workflows. \"\n",
    "      \"Security and compliance are built-in with IAM roles, encryption at rest and in transit, and audit logging, making it suitable for enterprise environments. \"\n",
    "      \"For developers, Dataflow provides local testing capabilities and a unified logging system through Cloud Logging. \"\n",
    "      \"It also supports SQL-based pipeline definitions using BigQuery, which lowers the barrier to entry for analysts and data engineers. \"\n",
    "      \"Dataflow’s streaming engine significantly improves performance and reduces costs by decoupling compute and state management. \"\n",
    "      \"In summary, Google Cloud Dataflow not only simplifies the deployment of Apache Beam pipelines but also enhances them with cloud-native features. \"\n",
    "      \"Its managed runtime, high availability, and integration with the broader Google Cloud ecosystem make it a powerful tool for modern data processing.\"\n",
    "    )\n",
    "  },\n",
    "  {\n",
    "    \"id\": \"3\",\n",
    "    \"title\": \"Google Beam: 3D Communication Powered by AI\",\n",
    "    \"keywords\": [\"Google Beam\", \"Project Starline\", \"3D video\", \"AI communication\", \"real-time meetings\"],\n",
    "    \"tags\": [\"AI\", \"Communication\", \"3D Technology\", \"Remote Work\", \"Enterprise Tech\"],\n",
    "    \"content\": (\n",
    "      \"Google Beam is an innovative video communication platform that builds on the research of Project Starline. It uses AI, 3D imaging, and light field rendering to create immersive, lifelike video calls. \"\n",
    "      \"Designed to replicate in-person interaction, Beam allows users to see life-sized, three-dimensional representations of each other without the need for headsets. \"\n",
    "      \"This breakthrough makes remote conversations feel natural—capturing facial expressions, eye contact, and subtle gestures that traditional video conferencing often misses. \"\n",
    "      \"Beam reduces meeting fatigue and enhances engagement, making it ideal for enterprise collaboration, interviews, and virtual presence scenarios. \"\n",
    "      \"Powered by Google AI, Beam represents a significant leap in communication technology. \"\n",
    "      \"Major companies like Salesforce, Deloitte, and NEC are already exploring its impact on digital collaboration. \"\n",
    "      \"Google is partnering with HP to build and distribute Beam hardware, designed to work with existing productivity and video tools. \"\n",
    "      \"Currently in limited early access for enterprise partners, Google Beam aims to redefine virtual meetings by bridging the gap between digital and physical presence. \"\n",
    "      \"It’s a promising step toward more human and effective remote interactions.\"\n",
    "    )\n",
    "  }\n",
    "]"
   ]
  },
  {
   "cell_type": "markdown",
   "id": "758c2af7-12c7-477b-9257-3c88712960e7",
   "metadata": {},
   "source": [
    "# Exploratory Data Analysis (EDA)"
   ]
  },
  {
   "cell_type": "markdown",
   "id": "5e751905-7217-4571-bc07-991ef850a6b2",
   "metadata": {},
   "source": [
    "## Average Words/Tokens per Doc"
   ]
  },
  {
   "cell_type": "code",
   "execution_count": 4,
   "id": "489e93b6-de41-4ec3-be33-a15c3cba12e8",
   "metadata": {},
   "outputs": [
    {
     "data": {
      "text/html": [
       "<div>\n",
       "<style scoped>\n",
       "    .dataframe tbody tr th:only-of-type {\n",
       "        vertical-align: middle;\n",
       "    }\n",
       "\n",
       "    .dataframe tbody tr th {\n",
       "        vertical-align: top;\n",
       "    }\n",
       "\n",
       "    .dataframe thead th {\n",
       "        text-align: right;\n",
       "    }\n",
       "</style>\n",
       "<table border=\"1\" class=\"dataframe\">\n",
       "  <thead>\n",
       "    <tr style=\"text-align: right;\">\n",
       "      <th></th>\n",
       "      <th># Words</th>\n",
       "    </tr>\n",
       "  </thead>\n",
       "  <tbody>\n",
       "    <tr>\n",
       "      <th>count</th>\n",
       "      <td>3.000000</td>\n",
       "    </tr>\n",
       "    <tr>\n",
       "      <th>mean</th>\n",
       "      <td>253.666667</td>\n",
       "    </tr>\n",
       "    <tr>\n",
       "      <th>std</th>\n",
       "      <td>72.858310</td>\n",
       "    </tr>\n",
       "    <tr>\n",
       "      <th>min</th>\n",
       "      <td>172.000000</td>\n",
       "    </tr>\n",
       "    <tr>\n",
       "      <th>25%</th>\n",
       "      <td>224.500000</td>\n",
       "    </tr>\n",
       "    <tr>\n",
       "      <th>50%</th>\n",
       "      <td>277.000000</td>\n",
       "    </tr>\n",
       "    <tr>\n",
       "      <th>75%</th>\n",
       "      <td>294.500000</td>\n",
       "    </tr>\n",
       "    <tr>\n",
       "      <th>max</th>\n",
       "      <td>312.000000</td>\n",
       "    </tr>\n",
       "  </tbody>\n",
       "</table>\n",
       "</div>"
      ],
      "text/plain": [
       "          # Words\n",
       "count    3.000000\n",
       "mean   253.666667\n",
       "std     72.858310\n",
       "min    172.000000\n",
       "25%    224.500000\n",
       "50%    277.000000\n",
       "75%    294.500000\n",
       "max    312.000000"
      ]
     },
     "execution_count": 4,
     "metadata": {},
     "output_type": "execute_result"
    }
   ],
   "source": [
    "# The second video may skew the average tokens results since it is a youtube short video.\n",
    "contents = [c['content'] for c in corpus]\n",
    "content_lengths = [len(content.split(\" \")) for content in contents]\n",
    "df = pd.DataFrame(content_lengths, columns=['# Words'])\n",
    "df.describe()"
   ]
  },
  {
   "cell_type": "code",
   "execution_count": 5,
   "id": "eb32aad0-febd-45af-b4bd-e2176b07e2dc",
   "metadata": {},
   "outputs": [
    {
     "name": "stdout",
     "output_type": "stream",
     "text": [
      "The mean word count for each video is about 254 words, which corresponds to a rough token count of 331 tokens.\n"
     ]
    }
   ],
   "source": [
    "mean_word_count = ceil(np.mean(content_lengths))\n",
    "token_to_word_ratio = 1.3\n",
    "approx_token_count = ceil(mean_word_count * token_to_word_ratio)\n",
    "print(f'The mean word count for each video is about {mean_word_count} words, which corresponds to a rough token count of {approx_token_count} tokens.')"
   ]
  },
  {
   "cell_type": "markdown",
   "id": "42c1c159-875d-411b-a009-4361301b39f6",
   "metadata": {},
   "source": [
    "# Preprocess Data"
   ]
  },
  {
   "cell_type": "markdown",
   "id": "d545355e-41da-4c53-ba9a-4d33b1fe376c",
   "metadata": {},
   "source": [
    "## Chunking"
   ]
  },
  {
   "cell_type": "markdown",
   "id": "a034c5d0-0906-4193-80ac-736a32d7b47e",
   "metadata": {},
   "source": [
    "We'll use sentence splitting as the chunking strategy for simplicity.<br>\n",
    "Ideally, we would pass a tokenizer here — preferably the same one used by the retriever — to ensure consistency.<br>\n",
    "However, in this example, we are not using a tokenizer."
   ]
  },
  {
   "cell_type": "code",
   "execution_count": 6,
   "id": "e7e45d70-0c23-409d-b435-b9479245c1ff",
   "metadata": {},
   "outputs": [],
   "source": [
    "# The `chunk_size` parameter is constrained by the embedding model we’re using.\n",
    "# Since we’re using `sentence-transformers/all-MiniLM-L6-v2`, which has a maximum token limit of ~384 tokens,\n",
    "# we need to ensure chunk sizes stay well within that limit.\n",
    "# Given that each document in our dataset contains approximately 331 tokens,\n",
    "# using a chunk size of 256 allows us to preserve nearly the most semantic meaning of each entry\n",
    "# while staying safely under the model’s token limit.\n",
    "chunk_size = 256\n",
    "llama_txt_splitter = SentenceSplitter(chunk_size=chunk_size, chunk_overlap=20)"
   ]
  },
  {
   "cell_type": "code",
   "execution_count": 7,
   "id": "5a013b08-d7e7-4367-ad49-43ad1320158f",
   "metadata": {},
   "outputs": [],
   "source": [
    "def split_contents(corpus: list[dict], text_splitter: SentenceSplitter, content_field: str='content') -> list[list[str]]:\n",
    "    result = []\n",
    "    for video in corpus:\n",
    "        split = llama_txt_splitter.split_text(video[content_field])\n",
    "        result.append(split)\n",
    "    return result"
   ]
  },
  {
   "cell_type": "code",
   "execution_count": 8,
   "id": "2d5ea747-40b3-474e-ac36-ccb81256a36c",
   "metadata": {},
   "outputs": [],
   "source": [
    "content_splits = split_contents(corpus, llama_txt_splitter, \"content\")"
   ]
  },
  {
   "cell_type": "code",
   "execution_count": 9,
   "id": "9917cefb-6271-4285-a75d-a6d1bfcbfd06",
   "metadata": {},
   "outputs": [
    {
     "data": {
      "text/html": [
       "<pre style=\"white-space:pre;overflow-x:auto;line-height:normal;font-family:Menlo,'DejaVu Sans Mono',consolas,'Courier New',monospace\"><span style=\"font-weight: bold\">[</span>\n",
       "  <span style=\"font-weight: bold\">[</span>\n",
       "    <span style=\"color: #008000; text-decoration-color: #008000\">\"Apache Beam is an open-source framework that provides a consistent programming model for both batch and streaming data processing. Developed originally by Google, it allows developers to write pipelines that can run on multiple engines, such as Apache Flink, Spark, and Google Cloud Dataflow. Beam uses abstractions like PCollections (data containers) and PTransforms (operations) to define the flow of data. The framework promotes portability through its runner architecture, letting the same pipeline execute on different backends. Support for multiple SDKs, including Java and Python, makes it accessible for a broad audience. Key features include support for event time, windowing, triggers, and stateful processing, which are essential for handling real-time data effectively. Beam is ideal for building ETL jobs, real-time analytics, and machine learning data pipelines. It helps teams focus on logic rather than infrastructure, offering flexibility and scalability in handling unbounded and bounded data sources. Apache Beam also supports a wide range of connectors for both input and output, including Kafka, BigQuery, and JDBC-based systems. This makes it easy to integrate Beam into existing data ecosystems. Developers can build reusable transforms and modularize pipeline logic, improving maintainability and testing.\"</span>,\n",
       "    <span style=\"color: #008000; text-decoration-color: #008000\">\"Developers can build reusable transforms and modularize pipeline logic, improving maintainability and testing. The concept of runners enables developers to write once and run anywhere, which is particularly appealing for organizations that want to avoid vendor lock-in. The Beam model is based on a unified programming model that decouples pipeline logic from execution. This makes it easier to reason about time and state in both batch and streaming pipelines. Advanced features like late data handling, watermarks, and session windowing allow for more accurate and meaningful processing of real-world data. Beam also integrates with orchestration tools and monitoring systems, allowing for production-grade deployments. Community support and contributions have grown significantly, making Beam a stable and evolving ecosystem. Many cloud providers offer native support for Beam pipelines, and it's increasingly a core component in modern data platform architectures.\"</span>\n",
       "  <span style=\"font-weight: bold\">]</span>,\n",
       "  <span style=\"font-weight: bold\">[</span>\n",
       "    <span style=\"color: #008000; text-decoration-color: #008000\">\"Google Cloud Dataflow is a fully managed service that runs Apache Beam pipelines in the cloud. It abstracts away infrastructure management and handles dynamic scaling, load balancing, and fault tolerance. Developers can focus on writing data logic using the Beam SDK and deploy it easily to Google Cloud. Dataflow supports both batch and stream processing and integrates seamlessly with other Google services like BigQuery, Pub/Sub, and Cloud Storage. Its autoscaling capabilities allow it to adapt to changing data volumes, optimizing for cost and performance. Features like monitoring dashboards, job templates, and built-in logging make it suitable for both development and production use. With support for event time processing, stateful functions, and windowing, Dataflow is well-suited for real-time analytics and data transformation tasks. It’s a key component for architects building scalable, cloud-native data platforms. Dataflow also offers templates for common ETL tasks, helping teams get started quickly with minimal setup. Its integration with Cloud Functions and Cloud Composer enables event-driven and orchestrated workflows. Security and compliance are built-in with IAM roles, encryption at rest and in transit, and audit logging, making it suitable for enterprise environments.\"</span>,\n",
       "    <span style=\"color: #008000; text-decoration-color: #008000\">\"For developers, Dataflow provides local testing capabilities and a unified logging system through Cloud Logging. It also supports SQL-based pipeline definitions using BigQuery, which lowers the barrier to entry for analysts and data engineers. Dataflow’s streaming engine significantly improves performance and reduces costs by decoupling compute and state management. In summary, Google Cloud Dataflow not only simplifies the deployment of Apache Beam pipelines but also enhances them with cloud-native features. Its managed runtime, high availability, and integration with the broader Google Cloud ecosystem make it a powerful tool for modern data processing.\"</span>\n",
       "  <span style=\"font-weight: bold\">]</span>,\n",
       "  <span style=\"font-weight: bold\">[</span>\n",
       "    <span style=\"color: #008000; text-decoration-color: #008000\">\"Google Beam is an innovative video communication platform that builds on the research of Project Starline. It uses AI, 3D imaging, and light field rendering to create immersive, lifelike video calls. Designed to replicate in-person interaction, Beam allows users to see life-sized, three-dimensional representations of each other without the need for headsets. This breakthrough makes remote conversations feel natural—capturing facial expressions, eye contact, and subtle gestures that traditional video conferencing often misses. Beam reduces meeting fatigue and enhances engagement, making it ideal for enterprise collaboration, interviews, and virtual presence scenarios. Powered by Google AI, Beam represents a significant leap in communication technology. Major companies like Salesforce, Deloitte, and NEC are already exploring its impact on digital collaboration. Google is partnering with HP to build and distribute Beam hardware, designed to work with existing productivity and video tools. Currently in limited early access for enterprise partners, Google Beam aims to redefine virtual meetings by bridging the gap between digital and physical presence. It’s a promising step toward more human and effective remote interactions.\"</span>\n",
       "  <span style=\"font-weight: bold\">]</span>\n",
       "<span style=\"font-weight: bold\">]</span>\n",
       "</pre>\n"
      ],
      "text/plain": [
       "\u001b[1m[\u001b[0m\n",
       "  \u001b[1m[\u001b[0m\n",
       "    \u001b[32m\"Apache Beam is an open-source framework that provides a consistent programming model for both batch and streaming data processing. Developed originally by Google, it allows developers to write pipelines that can run on multiple engines, such as Apache Flink, Spark, and Google Cloud Dataflow. Beam uses abstractions like PCollections (data containers) and PTransforms (operations) to define the flow of data. The framework promotes portability through its runner architecture, letting the same pipeline execute on different backends. Support for multiple SDKs, including Java and Python, makes it accessible for a broad audience. Key features include support for event time, windowing, triggers, and stateful processing, which are essential for handling real-time data effectively. Beam is ideal for building ETL jobs, real-time analytics, and machine learning data pipelines. It helps teams focus on logic rather than infrastructure, offering flexibility and scalability in handling unbounded and bounded data sources. Apache Beam also supports a wide range of connectors for both input and output, including Kafka, BigQuery, and JDBC-based systems. This makes it easy to integrate Beam into existing data ecosystems. Developers can build reusable transforms and modularize pipeline logic, improving maintainability and testing.\"\u001b[0m,\n",
       "    \u001b[32m\"Developers can build reusable transforms and modularize pipeline logic, improving maintainability and testing. The concept of runners enables developers to write once and run anywhere, which is particularly appealing for organizations that want to avoid vendor lock-in. The Beam model is based on a unified programming model that decouples pipeline logic from execution. This makes it easier to reason about time and state in both batch and streaming pipelines. Advanced features like late data handling, watermarks, and session windowing allow for more accurate and meaningful processing of real-world data. Beam also integrates with orchestration tools and monitoring systems, allowing for production-grade deployments. Community support and contributions have grown significantly, making Beam a stable and evolving ecosystem. Many cloud providers offer native support for Beam pipelines, and it's increasingly a core component in modern data platform architectures.\"\u001b[0m\n",
       "  \u001b[1m]\u001b[0m,\n",
       "  \u001b[1m[\u001b[0m\n",
       "    \u001b[32m\"Google Cloud Dataflow is a fully managed service that runs Apache Beam pipelines in the cloud. It abstracts away infrastructure management and handles dynamic scaling, load balancing, and fault tolerance. Developers can focus on writing data logic using the Beam SDK and deploy it easily to Google Cloud. Dataflow supports both batch and stream processing and integrates seamlessly with other Google services like BigQuery, Pub/Sub, and Cloud Storage. Its autoscaling capabilities allow it to adapt to changing data volumes, optimizing for cost and performance. Features like monitoring dashboards, job templates, and built-in logging make it suitable for both development and production use. With support for event time processing, stateful functions, and windowing, Dataflow is well-suited for real-time analytics and data transformation tasks. It’s a key component for architects building scalable, cloud-native data platforms. Dataflow also offers templates for common ETL tasks, helping teams get started quickly with minimal setup. Its integration with Cloud Functions and Cloud Composer enables event-driven and orchestrated workflows. Security and compliance are built-in with IAM roles, encryption at rest and in transit, and audit logging, making it suitable for enterprise environments.\"\u001b[0m,\n",
       "    \u001b[32m\"For developers, Dataflow provides local testing capabilities and a unified logging system through Cloud Logging. It also supports SQL-based pipeline definitions using BigQuery, which lowers the barrier to entry for analysts and data engineers. Dataflow’s streaming engine significantly improves performance and reduces costs by decoupling compute and state management. In summary, Google Cloud Dataflow not only simplifies the deployment of Apache Beam pipelines but also enhances them with cloud-native features. Its managed runtime, high availability, and integration with the broader Google Cloud ecosystem make it a powerful tool for modern data processing.\"\u001b[0m\n",
       "  \u001b[1m]\u001b[0m,\n",
       "  \u001b[1m[\u001b[0m\n",
       "    \u001b[32m\"Google Beam is an innovative video communication platform that builds on the research of Project Starline. It uses AI, 3D imaging, and light field rendering to create immersive, lifelike video calls. Designed to replicate in-person interaction, Beam allows users to see life-sized, three-dimensional representations of each other without the need for headsets. This breakthrough makes remote conversations feel natural—capturing facial expressions, eye contact, and subtle gestures that traditional video conferencing often misses. Beam reduces meeting fatigue and enhances engagement, making it ideal for enterprise collaboration, interviews, and virtual presence scenarios. Powered by Google AI, Beam represents a significant leap in communication technology. Major companies like Salesforce, Deloitte, and NEC are already exploring its impact on digital collaboration. Google is partnering with HP to build and distribute Beam hardware, designed to work with existing productivity and video tools. Currently in limited early access for enterprise partners, Google Beam aims to redefine virtual meetings by bridging the gap between digital and physical presence. It’s a promising step toward more human and effective remote interactions.\"\u001b[0m\n",
       "  \u001b[1m]\u001b[0m\n",
       "\u001b[1m]\u001b[0m\n"
      ]
     },
     "metadata": {},
     "output_type": "display_data"
    }
   ],
   "source": [
    "print_json(data=content_splits)"
   ]
  },
  {
   "cell_type": "markdown",
   "id": "c860e558-2da3-45a6-9e54-acb8b4ffab22",
   "metadata": {},
   "source": [
    "## Embedding Generation"
   ]
  },
  {
   "cell_type": "code",
   "execution_count": 10,
   "id": "aa55928d-c6ca-47c5-883d-d14eb0aa1298",
   "metadata": {},
   "outputs": [],
   "source": [
    "# Let's choose `sentence-transformers/all-MiniLM-L6-v2` as our embedding generator here.\n",
    "# It gives a good balance between embedding generation speed, accuracy, and being free to use.\n",
    "model_name = 'sentence-transformers/all-MiniLM-L6-v2'\n",
    "model = SentenceTransformer(model_name)"
   ]
  },
  {
   "cell_type": "code",
   "execution_count": 11,
   "id": "26e80afa-b9dc-4778-8301-ce38264d58cd",
   "metadata": {},
   "outputs": [],
   "source": [
    "def get_default_device():\n",
    "    return \"cuda:0\" if cuda.is_available() else \"cpu\""
   ]
  },
  {
   "cell_type": "code",
   "execution_count": 12,
   "id": "68e04606-ca81-4a1f-81d2-964495295ed3",
   "metadata": {},
   "outputs": [],
   "source": [
    "def encode_embedding(chunk, device=get_default_device()):\n",
    "    return list(map(float, model.encode(chunk, device=device)))"
   ]
  },
  {
   "cell_type": "code",
   "execution_count": 13,
   "id": "43c55049-fbd9-4a1c-ae74-c12b5f5a03ee",
   "metadata": {},
   "outputs": [],
   "source": [
    "def encode_content_splits(content_splits: list[list[str]],\n",
    "                          model: SentenceTransformer,\n",
    "                          device: str = get_default_device()\n",
    "                         ) -> list[list[tuple[str,list]]]:\n",
    "    result = []\n",
    "    for split in content_splits:\n",
    "        sub_result = []\n",
    "        for chunk in split:\n",
    "            encoded = encode_embedding(chunk, device)\n",
    "            sub_result.append((chunk, encoded))\n",
    "        result.append(sub_result)\n",
    "    return result"
   ]
  },
  {
   "cell_type": "code",
   "execution_count": 14,
   "id": "3ec7c739-6adc-4591-b5b2-9e60d7783c3c",
   "metadata": {},
   "outputs": [],
   "source": [
    "text_vector_tuples = encode_content_splits(content_splits, model)"
   ]
  },
  {
   "cell_type": "markdown",
   "id": "3afe67f9-d3cb-499b-b84b-ad8b14f40362",
   "metadata": {},
   "source": [
    "## Joining Metadata"
   ]
  },
  {
   "cell_type": "code",
   "execution_count": 15,
   "id": "541794c7-f9a6-4d42-a522-8f4a3d1b1dfa",
   "metadata": {},
   "outputs": [],
   "source": [
    "def join_metadata(corpus: list[dict], \n",
    "                  text_vector_list: list[list[tuple[str, list]]],\n",
    "                  unique_id_field: str='id',\n",
    "                  content_field: str='content',\n",
    "                  embedding_field: str='content_embedding'\n",
    "                 ) -> list[dict]:\n",
    "    result = []\n",
    "    for indx, embeddings in enumerate(text_vector_list):\n",
    "        for j, (chunk_text, embedding) in enumerate(embeddings):\n",
    "            doc = {**corpus[indx]}\n",
    "            doc[content_field] = chunk_text\n",
    "            doc[embedding_field] = embedding\n",
    "            doc[\"doc_id\"] = f\"{doc[unique_id_field]}_{j+1}\"\n",
    "            del doc[unique_id_field]\n",
    "            result.append(doc)\n",
    "    return result"
   ]
  },
  {
   "cell_type": "code",
   "execution_count": 16,
   "id": "6f2ebedc-7d72-4deb-838c-42b8f103ceb4",
   "metadata": {},
   "outputs": [],
   "source": [
    "docs = join_metadata(corpus, text_vector_tuples)"
   ]
  },
  {
   "cell_type": "markdown",
   "id": "765115e1-4327-44f6-9dff-5d79121eeb02",
   "metadata": {},
   "source": [
    "# Milvus Sink I/O"
   ]
  },
  {
   "cell_type": "markdown",
   "id": "492adeba-c6cd-404d-9d48-dfcaeca503c2",
   "metadata": {},
   "source": [
    "This could be delegated to the Beam Milvus Sink I/O once it is implemented. For now, we will use pymilvs client directly for indexing."
   ]
  },
  {
   "cell_type": "markdown",
   "id": "3889aaa4-3c0c-4d71-bad3-b196b5eac8dc",
   "metadata": {},
   "source": [
    "## Setup Milvus"
   ]
  },
  {
   "cell_type": "code",
   "execution_count": 17,
   "id": "5ae9bc82-9ad7-46dd-b254-19cbdcdd0e07",
   "metadata": {},
   "outputs": [],
   "source": [
    "db = None"
   ]
  },
  {
   "cell_type": "code",
   "execution_count": 18,
   "id": "aff7b261-3330-4fa9-9a54-3fd87b42521f",
   "metadata": {},
   "outputs": [
    {
     "name": "stderr",
     "output_type": "stream",
     "text": [
      "Pulling image testcontainers/ryuk:0.8.1\n",
      "Container started: de7765122cc3\n",
      "Waiting for container <Container: de7765122cc3> with image testcontainers/ryuk:0.8.1 to be ready ...\n",
      "Pulling image milvusdb/milvus:v2.5.10\n",
      "Container started: b2f20de0fef3\n",
      "Waiting for container <Container: b2f20de0fef3> with image milvusdb/milvus:v2.5.10 to be ready ...\n",
      "Waiting for container <Container: b2f20de0fef3> with image milvusdb/milvus:v2.5.10 to be ready ...\n",
      "Waiting for container <Container: b2f20de0fef3> with image milvusdb/milvus:v2.5.10 to be ready ...\n",
      "Waiting for container <Container: b2f20de0fef3> with image milvusdb/milvus:v2.5.10 to be ready ...\n",
      "Waiting for container <Container: b2f20de0fef3> with image milvusdb/milvus:v2.5.10 to be ready ...\n",
      "Waiting for container <Container: b2f20de0fef3> with image milvusdb/milvus:v2.5.10 to be ready ...\n",
      "Waiting for container <Container: b2f20de0fef3> with image milvusdb/milvus:v2.5.10 to be ready ...\n",
      "Waiting for container <Container: b2f20de0fef3> with image milvusdb/milvus:v2.5.10 to be ready ...\n"
     ]
    }
   ],
   "source": [
    "if not db:\n",
    "    db = MilvusEnrichmentTestHelper.start_milvus_search_db_container()"
   ]
  },
  {
   "cell_type": "code",
   "execution_count": 19,
   "id": "31496ee0-75a2-48ad-954e-9c4ae5abbf5e",
   "metadata": {},
   "outputs": [],
   "source": [
    "milvus_connection_parameters = MilvusConnectionParameters(uri=db.address,\n",
    "    user=db.user, password=db.password, db_id=db.id)"
   ]
  },
  {
   "cell_type": "code",
   "execution_count": 20,
   "id": "82627714-2425-4058-9b47-d262f015caf7",
   "metadata": {},
   "outputs": [],
   "source": [
    "client = MilvusClient(**milvus_connection_parameters.__dict__)"
   ]
  },
  {
   "cell_type": "code",
   "execution_count": 21,
   "id": "e8a85f51-5d5f-4533-bf0f-ec825e613dc2",
   "metadata": {},
   "outputs": [
    {
     "data": {
      "text/plain": [
       "'2.5.10'"
      ]
     },
     "execution_count": 21,
     "metadata": {},
     "output_type": "execute_result"
    }
   ],
   "source": [
    "client.get_server_version()"
   ]
  },
  {
   "cell_type": "markdown",
   "id": "2344abb9-c170-4496-993e-736e2b50c2bb",
   "metadata": {},
   "source": [
    "## Define Schema"
   ]
  },
  {
   "cell_type": "markdown",
   "id": "31130864-a7c6-45af-bc15-8b64bb9ff8fa",
   "metadata": {},
   "source": [
    "### Define Fields"
   ]
  },
  {
   "cell_type": "code",
   "execution_count": 22,
   "id": "c014af94-1bb7-44e4-842c-1039f4a2a11d",
   "metadata": {},
   "outputs": [],
   "source": [
    "fields = [\n",
    "    FieldSchema(name=\"id\", dtype=DataType.INT64, is_primary=True, auto_id=True),\n",
    "    FieldSchema(name=\"vector\", dtype=DataType.FLOAT_VECTOR, dim=model.get_sentence_embedding_dimension()),\n",
    "    FieldSchema(name=\"sparse_vector\", dtype=DataType.SPARSE_FLOAT_VECTOR),\n",
    "    FieldSchema(name=\"title\", dtype=DataType.VARCHAR, max_length=256),\n",
    "    FieldSchema(name=\"content\", dtype=DataType.VARCHAR, max_length=65279),\n",
    "    FieldSchema(name=\"combined_text\", dtype=DataType.VARCHAR, max_length=65279+256, enable_analyzer=True),\n",
    "    FieldSchema(name=\"doc_id\", dtype=DataType.VARCHAR, max_length=100),\n",
    "    FieldSchema(name=\"keywords\", dtype=DataType.ARRAY, element_type=DataType.VARCHAR, max_length=100, max_capacity=64),\n",
    "    FieldSchema(name=\"tags\", dtype=DataType.ARRAY, element_type=DataType.VARCHAR, max_length=100, max_capacity=32),\n",
    "]"
   ]
  },
  {
   "cell_type": "markdown",
   "id": "76535a60-87f5-48e0-9c73-38aa2c6b4d0e",
   "metadata": {},
   "source": [
    "## Define Functions for Processing"
   ]
  },
  {
   "cell_type": "code",
   "execution_count": 23,
   "id": "54fb3428-b007-4804-9d79-b3933d3256c5",
   "metadata": {},
   "outputs": [],
   "source": [
    "bm25_function = Function(\n",
    "    name=\"content_bm25_emb\",\n",
    "    input_field_names=[\"combined_text\"],\n",
    "    output_field_names=[\"sparse_vector\"],\n",
    "    function_type=FunctionType.BM25)\n",
    "\n",
    "functions = [bm25_function]"
   ]
  },
  {
   "cell_type": "code",
   "execution_count": 24,
   "id": "4c2f123a-5949-4974-af48-a5db5b168c11",
   "metadata": {},
   "outputs": [
    {
     "data": {
      "text/plain": [
       "{'auto_id': True, 'description': '', 'fields': [{'name': 'id', 'description': '', 'type': <DataType.INT64: 5>, 'is_primary': True, 'auto_id': True}, {'name': 'vector', 'description': '', 'type': <DataType.FLOAT_VECTOR: 101>, 'params': {'dim': 384}}, {'name': 'sparse_vector', 'description': '', 'type': <DataType.SPARSE_FLOAT_VECTOR: 104>, 'is_function_output': True}, {'name': 'title', 'description': '', 'type': <DataType.VARCHAR: 21>, 'params': {'max_length': 256}}, {'name': 'content', 'description': '', 'type': <DataType.VARCHAR: 21>, 'params': {'max_length': 65279}}, {'name': 'combined_text', 'description': '', 'type': <DataType.VARCHAR: 21>, 'params': {'max_length': 65535, 'enable_analyzer': True}}, {'name': 'doc_id', 'description': '', 'type': <DataType.VARCHAR: 21>, 'params': {'max_length': 100}}, {'name': 'keywords', 'description': '', 'type': <DataType.ARRAY: 22>, 'params': {'max_length': 100, 'max_capacity': 64}, 'element_type': <DataType.VARCHAR: 21>}, {'name': 'tags', 'description': '', 'type': <DataType.ARRAY: 22>, 'params': {'max_length': 100, 'max_capacity': 32}, 'element_type': <DataType.VARCHAR: 21>}], 'enable_dynamic_field': False, 'functions': [{'name': 'content_bm25_emb', 'description': '', 'type': <FunctionType.BM25: 1>, 'input_field_names': ['combined_text'], 'output_field_names': ['sparse_vector'], 'params': {}}]}"
      ]
     },
     "execution_count": 24,
     "metadata": {},
     "output_type": "execute_result"
    }
   ],
   "source": [
    "schema = CollectionSchema(fields=fields,functions=functions)\n",
    "schema"
   ]
  },
  {
   "cell_type": "markdown",
   "id": "04f15d4b-1192-464b-9635-cb4cbc530431",
   "metadata": {},
   "source": [
    "## Define Indices"
   ]
  },
  {
   "cell_type": "code",
   "execution_count": 25,
   "id": "671f4352-2086-4428-83be-0de48926682d",
   "metadata": {},
   "outputs": [],
   "source": [
    "index_params = IndexParams()"
   ]
  },
  {
   "cell_type": "markdown",
   "id": "378909d0-3aa8-46a5-8983-3ab29a1b0049",
   "metadata": {},
   "source": [
    "### Define Dense Vector Index"
   ]
  },
  {
   "cell_type": "code",
   "execution_count": 26,
   "id": "aa8baae5-7c38-4e78-ace4-304c7dc6b127",
   "metadata": {},
   "outputs": [],
   "source": [
    "index_params.add_index(\n",
    "    field_name=\"vector\",\n",
    "    index_name=\"dense_vector_ivf_flat\",\n",
    "    index_type=\"IVF_FLAT\",\n",
    "    metric_type=VectorSearchMetrics.COSINE.value,\n",
    "    params={\"nlist\": 1024})"
   ]
  },
  {
   "cell_type": "markdown",
   "id": "f4b45f5a-e583-4d77-9640-75842211fefa",
   "metadata": {},
   "source": [
    "### Define Sparse Vector Index"
   ]
  },
  {
   "cell_type": "code",
   "execution_count": 27,
   "id": "d970a35b-f9b2-4f8f-93ef-8de5c83c31b5",
   "metadata": {},
   "outputs": [],
   "source": [
    "index_params.add_index(\n",
    "    field_name=\"sparse_vector\",\n",
    "    index_name=\"sparse_inverted_index\",\n",
    "    index_type=\"SPARSE_INVERTED_INDEX\",\n",
    "    metric_type=KeywordSearchMetrics.BM25.value,\n",
    "    params={\"inverted_index_algo\": \"DAAT_MAXSCORE\", \"bm25_k1\": 1.2, \"bm25_b\": 0.75})"
   ]
  },
  {
   "cell_type": "code",
   "execution_count": 28,
   "id": "0d45a6ad-2009-4e30-b38d-73266da98a06",
   "metadata": {},
   "outputs": [
    {
     "data": {
      "text/plain": [
       "[{'field_name': 'vector', 'index_type': 'IVF_FLAT', 'index_name': 'dense_vector_ivf_flat', 'nlist': 1024, 'metric_type': 'COSINE'},\n",
       " {'field_name': 'sparse_vector', 'index_type': 'SPARSE_INVERTED_INDEX', 'index_name': 'sparse_inverted_index', 'inverted_index_algo': 'DAAT_MAXSCORE', 'bm25_k1': 1.2, 'bm25_b': 0.75, 'metric_type': 'BM25'}]"
      ]
     },
     "execution_count": 28,
     "metadata": {},
     "output_type": "execute_result"
    }
   ],
   "source": [
    "index_params"
   ]
  },
  {
   "cell_type": "markdown",
   "id": "22a260da-8869-40bb-9cbf-28a73e8cca24",
   "metadata": {},
   "source": [
    "## Create Collection"
   ]
  },
  {
   "cell_type": "code",
   "execution_count": 29,
   "id": "51dd4423-240c-4271-bb8c-6270f399a25c",
   "metadata": {},
   "outputs": [],
   "source": [
    "collection_name = \"beam_minilm_256\""
   ]
  },
  {
   "cell_type": "code",
   "execution_count": 30,
   "id": "9620b1f2-51fa-491c-ad3f-f0676b9b25f6",
   "metadata": {},
   "outputs": [],
   "source": [
    "client.drop_collection(collection_name=collection_name)"
   ]
  },
  {
   "cell_type": "code",
   "execution_count": 31,
   "id": "e6cf3a1d-265c-44db-aba8-d491fab290d5",
   "metadata": {},
   "outputs": [],
   "source": [
    "client.create_collection(collection_name=collection_name, schema=schema, index_params=index_params)"
   ]
  },
  {
   "cell_type": "code",
   "execution_count": 32,
   "id": "94497411-43d3-4300-98b3-1cb33759738e",
   "metadata": {},
   "outputs": [
    {
     "data": {
      "text/plain": [
       "True"
      ]
     },
     "execution_count": 32,
     "metadata": {},
     "output_type": "execute_result"
    }
   ],
   "source": [
    "client.has_collection(collection_name)"
   ]
  },
  {
   "cell_type": "markdown",
   "id": "b10fc2bb-b17c-4d8b-85de-7a0bc10f6779",
   "metadata": {},
   "source": [
    "## Index Data"
   ]
  },
  {
   "cell_type": "markdown",
   "id": "38b10fcf-7b07-4bf5-a3b0-581ccdd09fe3",
   "metadata": {},
   "source": [
    "### Index"
   ]
  },
  {
   "cell_type": "code",
   "execution_count": 33,
   "id": "20fd6f92-277f-42a3-b0a1-d9e9cb030caa",
   "metadata": {},
   "outputs": [],
   "source": [
    "data_ready_to_index = []\n",
    "for doc in docs:\n",
    "    item = {}\n",
    "    item[\"vector\"] = doc[\"content_embedding\"]\n",
    "    item[\"content\"] = doc[\"content\"]\n",
    "    item[\"doc_id\"] = doc[\"doc_id\"]\n",
    "    item[\"title\"] = doc[\"title\"]\n",
    "    item[\"keywords\"] = doc[\"keywords\"]\n",
    "    item[\"tags\"] = doc[\"tags\"]\n",
    "    item[\"combined_text\"] = f\"{doc['title']}. {doc['content']}\"\n",
    "    data_ready_to_index.append(item)"
   ]
  },
  {
   "cell_type": "code",
   "execution_count": 34,
   "id": "178e59dd-d9aa-4948-a02b-f57ee919f0ff",
   "metadata": {},
   "outputs": [
    {
     "data": {
      "text/plain": [
       "{'insert_count': 5, 'ids': [458732056809570355, 458732056809570356, 458732056809570357, 458732056809570358, 458732056809570359], 'cost': 0}"
      ]
     },
     "execution_count": 34,
     "metadata": {},
     "output_type": "execute_result"
    }
   ],
   "source": [
    "client.insert(collection_name=collection_name, data=data_ready_to_index)"
   ]
  },
  {
   "cell_type": "markdown",
   "id": "fa5c502d-2a37-4050-a846-73bebb1bf6c0",
   "metadata": {},
   "source": [
    "### Check the Indexed Data"
   ]
  },
  {
   "cell_type": "code",
   "execution_count": 35,
   "id": "b01b111e-41f2-4d9f-b7f5-4fc42305fbe0",
   "metadata": {},
   "outputs": [],
   "source": [
    "# Search by content vector similarity.\n",
    "query_embedding = model.encode(\"What is apache beam\")\n",
    "\n",
    "search_results = client.search(\n",
    "    collection_name=collection_name,\n",
    "    data=[query_embedding],\n",
    "    anns_field=\"vector\",\n",
    "    limit=5,\n",
    "    output_fields=[\"title\", \"content\", \"doc_id\", \"keywords\", \"tags\"]\n",
    ")\n",
    "\n",
    "for hits in search_results:\n",
    "    for hit in hits:\n",
    "        print(hit)\n",
    "        print(\"---\")"
   ]
  },
  {
   "cell_type": "markdown",
   "id": "ea478136-2ca8-4fee-bb1e-6bfcc2e97c93",
   "metadata": {},
   "source": [
    "# Milvus Beam Enrichment Handler"
   ]
  },
  {
   "cell_type": "markdown",
   "id": "e9ad2509-3e5d-42e8-b565-ecccde38b8f4",
   "metadata": {},
   "source": [
    "## Prep for Milvus Beam Enrichment Handler"
   ]
  },
  {
   "cell_type": "code",
   "execution_count": 36,
   "id": "4911e8cc-10f1-4d21-9251-1b756b61f2c1",
   "metadata": {},
   "outputs": [],
   "source": [
    "class FormatAndPrintResults(beam.PTransform):\n",
    "    def expand(self, pcoll):\n",
    "        return pcoll | beam.Map(self.format_and_print)\n",
    "    \n",
    "    @staticmethod\n",
    "    def format_and_print(chunk):\n",
    "        # Create a clean structure to display.\n",
    "        formatted_result = {\n",
    "            \"query\": chunk.content.text,\n",
    "            \"query_embedding\": FormatAndPrintResults.get_embedding_count(chunk),\n",
    "            \"results\": []\n",
    "        }\n",
    "        \n",
    "        # Extract the enrichment data\n",
    "        enrichment_data = chunk.metadata.get('enrichment_data', defaultdict(list))\n",
    "        \n",
    "        # Format each result with its distance score\n",
    "        for i in range(len(enrichment_data.get('id', []))):\n",
    "            result = {\n",
    "                \"id\": enrichment_data['id'][i],\n",
    "                \"distance\": round(enrichment_data['distance'][i], 4),\n",
    "                \"fields\": enrichment_data['fields'][i] if i < len(enrichment_data.get('fields', [])) else {}\n",
    "            }\n",
    "            formatted_result[\"results\"].append(result)\n",
    "        \n",
    "        # Sort by distance in descending order (highest/best first)\n",
    "        formatted_result[\"results\"] = sorted(formatted_result[\"results\"], key=lambda x: x[\"distance\"], reverse=True)\n",
    "\n",
    "        # Print the formatted JSON\n",
    "        print_json(data=formatted_result)\n",
    "        \n",
    "        # Return the original chunk for further processing if needed\n",
    "        return chunk\n",
    "\n",
    "    @staticmethod\n",
    "    def get_embedding_count(chunk):\n",
    "        if chunk.embedding:\n",
    "            if chunk.embedding.dense_embedding:\n",
    "                return len(chunk.embedding.dense_embedding)\n",
    "            if chunk.embedding.sparse_embedding:\n",
    "                return len(chunk.embedding.sparse_embedding)"
   ]
  },
  {
   "cell_type": "code",
   "execution_count": 37,
   "id": "dcbed23b-1fc2-4f89-a6d0-e05c15d5e655",
   "metadata": {
    "scrolled": true
   },
   "outputs": [
    {
     "data": {
      "text/plain": [
       "MilvusConnectionParameters(uri='http://localhost:32778', user='', password='', db_id='default', token='', timeout=None, kwargs={})"
      ]
     },
     "execution_count": 37,
     "metadata": {},
     "output_type": "execute_result"
    }
   ],
   "source": [
    "milvus_connection_parameters"
   ]
  },
  {
   "cell_type": "markdown",
   "id": "656110c9-1360-49fd-ba17-f55f2257f127",
   "metadata": {},
   "source": [
    "## Vector Search"
   ]
  },
  {
   "cell_type": "code",
   "execution_count": 38,
   "id": "74db1238-0a04-4e08-818d-5bce8f09006b",
   "metadata": {},
   "outputs": [],
   "source": [
    "query = encode_embedding(\"what is beam?\")"
   ]
  },
  {
   "cell_type": "code",
   "execution_count": 39,
   "id": "79e16531-8bec-4b4b-9ed3-cebd705480e0",
   "metadata": {},
   "outputs": [],
   "source": [
    "search_parameters = MilvusSearchParameters(\n",
    "    collection_name=collection_name,\n",
    "    search_strategy=VectorSearchParameters(limit=10, anns_field=\"vector\"),\n",
    "    output_fields=[\"title\",\"keywords\",\"tags\", \"content\"])"
   ]
  },
  {
   "cell_type": "code",
   "execution_count": 40,
   "id": "cbef1911-6464-4ba1-8974-ed00896c7e8b",
   "metadata": {},
   "outputs": [],
   "source": [
    "collection_load_parameters = MilvusCollectionLoadParameters() "
   ]
  },
  {
   "cell_type": "code",
   "execution_count": 41,
   "id": "f0481286-3f2b-4690-a2f6-a5a00de3ff34",
   "metadata": {},
   "outputs": [],
   "source": [
    "milvus_handler = MilvusSearchEnrichmentHandler(\n",
    "    connection_parameters=milvus_connection_parameters,\n",
    "    search_parameters=search_parameters,\n",
    "    collection_load_parameters=collection_load_parameters)"
   ]
  },
  {
   "cell_type": "code",
   "execution_count": 42,
   "id": "35ee37f2-60cd-4d5d-aef6-aed4fda79161",
   "metadata": {},
   "outputs": [
    {
     "name": "stderr",
     "output_type": "stream",
     "text": [
      "WARNING:apache_beam.runners.interactive.interactive_environment:Dependencies required for Interactive Beam PCollection visualization are not available, please use: `pip install apache-beam[interactive]` to install necessary dependencies to enable all data visualization features.\n"
     ]
    },
    {
     "data": {
      "application/javascript": [
       "\n",
       "        if (typeof window.interactive_beam_jquery == 'undefined') {\n",
       "          var jqueryScript = document.createElement('script');\n",
       "          jqueryScript.src = 'https://code.jquery.com/jquery-3.4.1.slim.min.js';\n",
       "          jqueryScript.type = 'text/javascript';\n",
       "          jqueryScript.onload = function() {\n",
       "            var datatableScript = document.createElement('script');\n",
       "            datatableScript.src = 'https://cdn.datatables.net/1.10.20/js/jquery.dataTables.min.js';\n",
       "            datatableScript.type = 'text/javascript';\n",
       "            datatableScript.onload = function() {\n",
       "              window.interactive_beam_jquery = jQuery.noConflict(true);\n",
       "              window.interactive_beam_jquery(document).ready(function($){\n",
       "                \n",
       "              });\n",
       "            }\n",
       "            document.head.appendChild(datatableScript);\n",
       "          };\n",
       "          document.head.appendChild(jqueryScript);\n",
       "        } else {\n",
       "          window.interactive_beam_jquery(document).ready(function($){\n",
       "            \n",
       "          });\n",
       "        }"
      ]
     },
     "metadata": {},
     "output_type": "display_data"
    },
    {
     "data": {
      "text/html": [
       "<pre style=\"white-space:pre;overflow-x:auto;line-height:normal;font-family:Menlo,'DejaVu Sans Mono',consolas,'Courier New',monospace\"><span style=\"font-weight: bold\">{</span>\n",
       "  <span style=\"color: #000080; text-decoration-color: #000080; font-weight: bold\">\"query\"</span>: <span style=\"color: #800080; text-decoration-color: #800080; font-style: italic\">null</span>,\n",
       "  <span style=\"color: #000080; text-decoration-color: #000080; font-weight: bold\">\"query_embedding\"</span>: <span style=\"color: #008080; text-decoration-color: #008080; font-weight: bold\">384</span>,\n",
       "  <span style=\"color: #000080; text-decoration-color: #000080; font-weight: bold\">\"results\"</span>: <span style=\"font-weight: bold\">[</span>\n",
       "    <span style=\"font-weight: bold\">{</span>\n",
       "      <span style=\"color: #000080; text-decoration-color: #000080; font-weight: bold\">\"id\"</span>: <span style=\"color: #008080; text-decoration-color: #008080; font-weight: bold\">458732056809570355</span>,\n",
       "      <span style=\"color: #000080; text-decoration-color: #000080; font-weight: bold\">\"distance\"</span>: <span style=\"color: #008080; text-decoration-color: #008080; font-weight: bold\">0.453</span>,\n",
       "      <span style=\"color: #000080; text-decoration-color: #000080; font-weight: bold\">\"fields\"</span>: <span style=\"font-weight: bold\">{</span>\n",
       "        <span style=\"color: #000080; text-decoration-color: #000080; font-weight: bold\">\"content\"</span>: <span style=\"color: #008000; text-decoration-color: #008000\">\"Apache Beam is an open-source framework that provides a consistent programming model for both batch and streaming data processing. Developed originally by Google, it allows developers to write pipelines that can run on multiple engines, such as Apache Flink, Spark, and Google Cloud Dataflow. Beam uses abstractions like PCollections (data containers) and PTransforms (operations) to define the flow of data. The framework promotes portability through its runner architecture, letting the same pipeline execute on different backends. Support for multiple SDKs, including Java and Python, makes it accessible for a broad audience. Key features include support for event time, windowing, triggers, and stateful processing, which are essential for handling real-time data effectively. Beam is ideal for building ETL jobs, real-time analytics, and machine learning data pipelines. It helps teams focus on logic rather than infrastructure, offering flexibility and scalability in handling unbounded and bounded data sources. Apache Beam also supports a wide range of connectors for both input and output, including Kafka, BigQuery, and JDBC-based systems. This makes it easy to integrate Beam into existing data ecosystems. Developers can build reusable transforms and modularize pipeline logic, improving maintainability and testing.\"</span>,\n",
       "        <span style=\"color: #000080; text-decoration-color: #000080; font-weight: bold\">\"title\"</span>: <span style=\"color: #008000; text-decoration-color: #008000\">\"Apache Beam: Unified Model for Batch and Streaming Data\"</span>,\n",
       "        <span style=\"color: #000080; text-decoration-color: #000080; font-weight: bold\">\"keywords\"</span>: <span style=\"font-weight: bold\">[</span>\n",
       "          <span style=\"color: #008000; text-decoration-color: #008000\">\"Apache Beam\"</span>,\n",
       "          <span style=\"color: #008000; text-decoration-color: #008000\">\"stream processing\"</span>,\n",
       "          <span style=\"color: #008000; text-decoration-color: #008000\">\"batch processing\"</span>,\n",
       "          <span style=\"color: #008000; text-decoration-color: #008000\">\"data pipelines\"</span>,\n",
       "          <span style=\"color: #008000; text-decoration-color: #008000\">\"SDK\"</span>\n",
       "        <span style=\"font-weight: bold\">]</span>,\n",
       "        <span style=\"color: #000080; text-decoration-color: #000080; font-weight: bold\">\"tags\"</span>: <span style=\"font-weight: bold\">[</span>\n",
       "          <span style=\"color: #008000; text-decoration-color: #008000\">\"Data Engineering\"</span>,\n",
       "          <span style=\"color: #008000; text-decoration-color: #008000\">\"Open Source\"</span>,\n",
       "          <span style=\"color: #008000; text-decoration-color: #008000\">\"Streaming\"</span>,\n",
       "          <span style=\"color: #008000; text-decoration-color: #008000\">\"Batch\"</span>,\n",
       "          <span style=\"color: #008000; text-decoration-color: #008000\">\"Big Data\"</span>\n",
       "        <span style=\"font-weight: bold\">]</span>\n",
       "      <span style=\"font-weight: bold\">}</span>\n",
       "    <span style=\"font-weight: bold\">}</span>,\n",
       "    <span style=\"font-weight: bold\">{</span>\n",
       "      <span style=\"color: #000080; text-decoration-color: #000080; font-weight: bold\">\"id\"</span>: <span style=\"color: #008080; text-decoration-color: #008080; font-weight: bold\">458732056809570356</span>,\n",
       "      <span style=\"color: #000080; text-decoration-color: #000080; font-weight: bold\">\"distance\"</span>: <span style=\"color: #008080; text-decoration-color: #008080; font-weight: bold\">0.4353</span>,\n",
       "      <span style=\"color: #000080; text-decoration-color: #000080; font-weight: bold\">\"fields\"</span>: <span style=\"font-weight: bold\">{</span>\n",
       "        <span style=\"color: #000080; text-decoration-color: #000080; font-weight: bold\">\"content\"</span>: <span style=\"color: #008000; text-decoration-color: #008000\">\"Developers can build reusable transforms and modularize pipeline logic, improving maintainability and testing. The concept of runners enables developers to write once and run anywhere, which is particularly appealing for organizations that want to avoid vendor lock-in. The Beam model is based on a unified programming model that decouples pipeline logic from execution. This makes it easier to reason about time and state in both batch and streaming pipelines. Advanced features like late data handling, watermarks, and session windowing allow for more accurate and meaningful processing of real-world data. Beam also integrates with orchestration tools and monitoring systems, allowing for production-grade deployments. Community support and contributions have grown significantly, making Beam a stable and evolving ecosystem. Many cloud providers offer native support for Beam pipelines, and it's increasingly a core component in modern data platform architectures.\"</span>,\n",
       "        <span style=\"color: #000080; text-decoration-color: #000080; font-weight: bold\">\"title\"</span>: <span style=\"color: #008000; text-decoration-color: #008000\">\"Apache Beam: Unified Model for Batch and Streaming Data\"</span>,\n",
       "        <span style=\"color: #000080; text-decoration-color: #000080; font-weight: bold\">\"keywords\"</span>: <span style=\"font-weight: bold\">[</span>\n",
       "          <span style=\"color: #008000; text-decoration-color: #008000\">\"Apache Beam\"</span>,\n",
       "          <span style=\"color: #008000; text-decoration-color: #008000\">\"stream processing\"</span>,\n",
       "          <span style=\"color: #008000; text-decoration-color: #008000\">\"batch processing\"</span>,\n",
       "          <span style=\"color: #008000; text-decoration-color: #008000\">\"data pipelines\"</span>,\n",
       "          <span style=\"color: #008000; text-decoration-color: #008000\">\"SDK\"</span>\n",
       "        <span style=\"font-weight: bold\">]</span>,\n",
       "        <span style=\"color: #000080; text-decoration-color: #000080; font-weight: bold\">\"tags\"</span>: <span style=\"font-weight: bold\">[</span>\n",
       "          <span style=\"color: #008000; text-decoration-color: #008000\">\"Data Engineering\"</span>,\n",
       "          <span style=\"color: #008000; text-decoration-color: #008000\">\"Open Source\"</span>,\n",
       "          <span style=\"color: #008000; text-decoration-color: #008000\">\"Streaming\"</span>,\n",
       "          <span style=\"color: #008000; text-decoration-color: #008000\">\"Batch\"</span>,\n",
       "          <span style=\"color: #008000; text-decoration-color: #008000\">\"Big Data\"</span>\n",
       "        <span style=\"font-weight: bold\">]</span>\n",
       "      <span style=\"font-weight: bold\">}</span>\n",
       "    <span style=\"font-weight: bold\">}</span>,\n",
       "    <span style=\"font-weight: bold\">{</span>\n",
       "      <span style=\"color: #000080; text-decoration-color: #000080; font-weight: bold\">\"id\"</span>: <span style=\"color: #008080; text-decoration-color: #008080; font-weight: bold\">458732056809570359</span>,\n",
       "      <span style=\"color: #000080; text-decoration-color: #000080; font-weight: bold\">\"distance\"</span>: <span style=\"color: #008080; text-decoration-color: #008080; font-weight: bold\">0.3927</span>,\n",
       "      <span style=\"color: #000080; text-decoration-color: #000080; font-weight: bold\">\"fields\"</span>: <span style=\"font-weight: bold\">{</span>\n",
       "        <span style=\"color: #000080; text-decoration-color: #000080; font-weight: bold\">\"content\"</span>: <span style=\"color: #008000; text-decoration-color: #008000\">\"Google Beam is an innovative video communication platform that builds on the research of Project Starline. It uses AI, 3D imaging, and light field rendering to create immersive, lifelike video calls. Designed to replicate in-person interaction, Beam allows users to see life-sized, three-dimensional representations of each other without the need for headsets. This breakthrough makes remote conversations feel natural—capturing facial expressions, eye contact, and subtle gestures that traditional video conferencing often misses. Beam reduces meeting fatigue and enhances engagement, making it ideal for enterprise collaboration, interviews, and virtual presence scenarios. Powered by Google AI, Beam represents a significant leap in communication technology. Major companies like Salesforce, Deloitte, and NEC are already exploring its impact on digital collaboration. Google is partnering with HP to build and distribute Beam hardware, designed to work with existing productivity and video tools. Currently in limited early access for enterprise partners, Google Beam aims to redefine virtual meetings by bridging the gap between digital and physical presence. It’s a promising step toward more human and effective remote interactions.\"</span>,\n",
       "        <span style=\"color: #000080; text-decoration-color: #000080; font-weight: bold\">\"title\"</span>: <span style=\"color: #008000; text-decoration-color: #008000\">\"Google Beam: 3D Communication Powered by AI\"</span>,\n",
       "        <span style=\"color: #000080; text-decoration-color: #000080; font-weight: bold\">\"keywords\"</span>: <span style=\"font-weight: bold\">[</span>\n",
       "          <span style=\"color: #008000; text-decoration-color: #008000\">\"Google Beam\"</span>,\n",
       "          <span style=\"color: #008000; text-decoration-color: #008000\">\"Project Starline\"</span>,\n",
       "          <span style=\"color: #008000; text-decoration-color: #008000\">\"3D video\"</span>,\n",
       "          <span style=\"color: #008000; text-decoration-color: #008000\">\"AI communication\"</span>,\n",
       "          <span style=\"color: #008000; text-decoration-color: #008000\">\"real-time meetings\"</span>\n",
       "        <span style=\"font-weight: bold\">]</span>,\n",
       "        <span style=\"color: #000080; text-decoration-color: #000080; font-weight: bold\">\"tags\"</span>: <span style=\"font-weight: bold\">[</span>\n",
       "          <span style=\"color: #008000; text-decoration-color: #008000\">\"AI\"</span>,\n",
       "          <span style=\"color: #008000; text-decoration-color: #008000\">\"Communication\"</span>,\n",
       "          <span style=\"color: #008000; text-decoration-color: #008000\">\"3D Technology\"</span>,\n",
       "          <span style=\"color: #008000; text-decoration-color: #008000\">\"Remote Work\"</span>,\n",
       "          <span style=\"color: #008000; text-decoration-color: #008000\">\"Enterprise Tech\"</span>\n",
       "        <span style=\"font-weight: bold\">]</span>\n",
       "      <span style=\"font-weight: bold\">}</span>\n",
       "    <span style=\"font-weight: bold\">}</span>,\n",
       "    <span style=\"font-weight: bold\">{</span>\n",
       "      <span style=\"color: #000080; text-decoration-color: #000080; font-weight: bold\">\"id\"</span>: <span style=\"color: #008080; text-decoration-color: #008080; font-weight: bold\">458732056809570358</span>,\n",
       "      <span style=\"color: #000080; text-decoration-color: #000080; font-weight: bold\">\"distance\"</span>: <span style=\"color: #008080; text-decoration-color: #008080; font-weight: bold\">0.2925</span>,\n",
       "      <span style=\"color: #000080; text-decoration-color: #000080; font-weight: bold\">\"fields\"</span>: <span style=\"font-weight: bold\">{</span>\n",
       "        <span style=\"color: #000080; text-decoration-color: #000080; font-weight: bold\">\"content\"</span>: <span style=\"color: #008000; text-decoration-color: #008000\">\"For developers, Dataflow provides local testing capabilities and a unified logging system through Cloud Logging. It also supports SQL-based pipeline definitions using BigQuery, which lowers the barrier to entry for analysts and data engineers. Dataflow’s streaming engine significantly improves performance and reduces costs by decoupling compute and state management. In summary, Google Cloud Dataflow not only simplifies the deployment of Apache Beam pipelines but also enhances them with cloud-native features. Its managed runtime, high availability, and integration with the broader Google Cloud ecosystem make it a powerful tool for modern data processing.\"</span>,\n",
       "        <span style=\"color: #000080; text-decoration-color: #000080; font-weight: bold\">\"title\"</span>: <span style=\"color: #008000; text-decoration-color: #008000\">\"Google Cloud Dataflow: Run Apache Beam in the Cloud\"</span>,\n",
       "        <span style=\"color: #000080; text-decoration-color: #000080; font-weight: bold\">\"keywords\"</span>: <span style=\"font-weight: bold\">[</span>\n",
       "          <span style=\"color: #008000; text-decoration-color: #008000\">\"Google Cloud\"</span>,\n",
       "          <span style=\"color: #008000; text-decoration-color: #008000\">\"Dataflow\"</span>,\n",
       "          <span style=\"color: #008000; text-decoration-color: #008000\">\"Apache Beam\"</span>,\n",
       "          <span style=\"color: #008000; text-decoration-color: #008000\">\"serverless\"</span>,\n",
       "          <span style=\"color: #008000; text-decoration-color: #008000\">\"stream and batch\"</span>\n",
       "        <span style=\"font-weight: bold\">]</span>,\n",
       "        <span style=\"color: #000080; text-decoration-color: #000080; font-weight: bold\">\"tags\"</span>: <span style=\"font-weight: bold\">[</span>\n",
       "          <span style=\"color: #008000; text-decoration-color: #008000\">\"Cloud Computing\"</span>,\n",
       "          <span style=\"color: #008000; text-decoration-color: #008000\">\"Data Pipelines\"</span>,\n",
       "          <span style=\"color: #008000; text-decoration-color: #008000\">\"Google Cloud\"</span>,\n",
       "          <span style=\"color: #008000; text-decoration-color: #008000\">\"Serverless\"</span>,\n",
       "          <span style=\"color: #008000; text-decoration-color: #008000\">\"Enterprise\"</span>\n",
       "        <span style=\"font-weight: bold\">]</span>\n",
       "      <span style=\"font-weight: bold\">}</span>\n",
       "    <span style=\"font-weight: bold\">}</span>,\n",
       "    <span style=\"font-weight: bold\">{</span>\n",
       "      <span style=\"color: #000080; text-decoration-color: #000080; font-weight: bold\">\"id\"</span>: <span style=\"color: #008080; text-decoration-color: #008080; font-weight: bold\">458732056809570357</span>,\n",
       "      <span style=\"color: #000080; text-decoration-color: #000080; font-weight: bold\">\"distance\"</span>: <span style=\"color: #008080; text-decoration-color: #008080; font-weight: bold\">0.2342</span>,\n",
       "      <span style=\"color: #000080; text-decoration-color: #000080; font-weight: bold\">\"fields\"</span>: <span style=\"font-weight: bold\">{</span>\n",
       "        <span style=\"color: #000080; text-decoration-color: #000080; font-weight: bold\">\"content\"</span>: <span style=\"color: #008000; text-decoration-color: #008000\">\"Google Cloud Dataflow is a fully managed service that runs Apache Beam pipelines in the cloud. It abstracts away infrastructure management and handles dynamic scaling, load balancing, and fault tolerance. Developers can focus on writing data logic using the Beam SDK and deploy it easily to Google Cloud. Dataflow supports both batch and stream processing and integrates seamlessly with other Google services like BigQuery, Pub/Sub, and Cloud Storage. Its autoscaling capabilities allow it to adapt to changing data volumes, optimizing for cost and performance. Features like monitoring dashboards, job templates, and built-in logging make it suitable for both development and production use. With support for event time processing, stateful functions, and windowing, Dataflow is well-suited for real-time analytics and data transformation tasks. It’s a key component for architects building scalable, cloud-native data platforms. Dataflow also offers templates for common ETL tasks, helping teams get started quickly with minimal setup. Its integration with Cloud Functions and Cloud Composer enables event-driven and orchestrated workflows. Security and compliance are built-in with IAM roles, encryption at rest and in transit, and audit logging, making it suitable for enterprise environments.\"</span>,\n",
       "        <span style=\"color: #000080; text-decoration-color: #000080; font-weight: bold\">\"title\"</span>: <span style=\"color: #008000; text-decoration-color: #008000\">\"Google Cloud Dataflow: Run Apache Beam in the Cloud\"</span>,\n",
       "        <span style=\"color: #000080; text-decoration-color: #000080; font-weight: bold\">\"keywords\"</span>: <span style=\"font-weight: bold\">[</span>\n",
       "          <span style=\"color: #008000; text-decoration-color: #008000\">\"Google Cloud\"</span>,\n",
       "          <span style=\"color: #008000; text-decoration-color: #008000\">\"Dataflow\"</span>,\n",
       "          <span style=\"color: #008000; text-decoration-color: #008000\">\"Apache Beam\"</span>,\n",
       "          <span style=\"color: #008000; text-decoration-color: #008000\">\"serverless\"</span>,\n",
       "          <span style=\"color: #008000; text-decoration-color: #008000\">\"stream and batch\"</span>\n",
       "        <span style=\"font-weight: bold\">]</span>,\n",
       "        <span style=\"color: #000080; text-decoration-color: #000080; font-weight: bold\">\"tags\"</span>: <span style=\"font-weight: bold\">[</span>\n",
       "          <span style=\"color: #008000; text-decoration-color: #008000\">\"Cloud Computing\"</span>,\n",
       "          <span style=\"color: #008000; text-decoration-color: #008000\">\"Data Pipelines\"</span>,\n",
       "          <span style=\"color: #008000; text-decoration-color: #008000\">\"Google Cloud\"</span>,\n",
       "          <span style=\"color: #008000; text-decoration-color: #008000\">\"Serverless\"</span>,\n",
       "          <span style=\"color: #008000; text-decoration-color: #008000\">\"Enterprise\"</span>\n",
       "        <span style=\"font-weight: bold\">]</span>\n",
       "      <span style=\"font-weight: bold\">}</span>\n",
       "    <span style=\"font-weight: bold\">}</span>\n",
       "  <span style=\"font-weight: bold\">]</span>\n",
       "<span style=\"font-weight: bold\">}</span>\n",
       "</pre>\n"
      ],
      "text/plain": [
       "\u001b[1m{\u001b[0m\n",
       "  \u001b[1;34m\"query\"\u001b[0m: \u001b[3;35mnull\u001b[0m,\n",
       "  \u001b[1;34m\"query_embedding\"\u001b[0m: \u001b[1;36m384\u001b[0m,\n",
       "  \u001b[1;34m\"results\"\u001b[0m: \u001b[1m[\u001b[0m\n",
       "    \u001b[1m{\u001b[0m\n",
       "      \u001b[1;34m\"id\"\u001b[0m: \u001b[1;36m458732056809570355\u001b[0m,\n",
       "      \u001b[1;34m\"distance\"\u001b[0m: \u001b[1;36m0.453\u001b[0m,\n",
       "      \u001b[1;34m\"fields\"\u001b[0m: \u001b[1m{\u001b[0m\n",
       "        \u001b[1;34m\"content\"\u001b[0m: \u001b[32m\"Apache Beam is an open-source framework that provides a consistent programming model for both batch and streaming data processing. Developed originally by Google, it allows developers to write pipelines that can run on multiple engines, such as Apache Flink, Spark, and Google Cloud Dataflow. Beam uses abstractions like PCollections (data containers) and PTransforms (operations) to define the flow of data. The framework promotes portability through its runner architecture, letting the same pipeline execute on different backends. Support for multiple SDKs, including Java and Python, makes it accessible for a broad audience. Key features include support for event time, windowing, triggers, and stateful processing, which are essential for handling real-time data effectively. Beam is ideal for building ETL jobs, real-time analytics, and machine learning data pipelines. It helps teams focus on logic rather than infrastructure, offering flexibility and scalability in handling unbounded and bounded data sources. Apache Beam also supports a wide range of connectors for both input and output, including Kafka, BigQuery, and JDBC-based systems. This makes it easy to integrate Beam into existing data ecosystems. Developers can build reusable transforms and modularize pipeline logic, improving maintainability and testing.\"\u001b[0m,\n",
       "        \u001b[1;34m\"title\"\u001b[0m: \u001b[32m\"Apache Beam: Unified Model for Batch and Streaming Data\"\u001b[0m,\n",
       "        \u001b[1;34m\"keywords\"\u001b[0m: \u001b[1m[\u001b[0m\n",
       "          \u001b[32m\"Apache Beam\"\u001b[0m,\n",
       "          \u001b[32m\"stream processing\"\u001b[0m,\n",
       "          \u001b[32m\"batch processing\"\u001b[0m,\n",
       "          \u001b[32m\"data pipelines\"\u001b[0m,\n",
       "          \u001b[32m\"SDK\"\u001b[0m\n",
       "        \u001b[1m]\u001b[0m,\n",
       "        \u001b[1;34m\"tags\"\u001b[0m: \u001b[1m[\u001b[0m\n",
       "          \u001b[32m\"Data Engineering\"\u001b[0m,\n",
       "          \u001b[32m\"Open Source\"\u001b[0m,\n",
       "          \u001b[32m\"Streaming\"\u001b[0m,\n",
       "          \u001b[32m\"Batch\"\u001b[0m,\n",
       "          \u001b[32m\"Big Data\"\u001b[0m\n",
       "        \u001b[1m]\u001b[0m\n",
       "      \u001b[1m}\u001b[0m\n",
       "    \u001b[1m}\u001b[0m,\n",
       "    \u001b[1m{\u001b[0m\n",
       "      \u001b[1;34m\"id\"\u001b[0m: \u001b[1;36m458732056809570356\u001b[0m,\n",
       "      \u001b[1;34m\"distance\"\u001b[0m: \u001b[1;36m0.4353\u001b[0m,\n",
       "      \u001b[1;34m\"fields\"\u001b[0m: \u001b[1m{\u001b[0m\n",
       "        \u001b[1;34m\"content\"\u001b[0m: \u001b[32m\"Developers can build reusable transforms and modularize pipeline logic, improving maintainability and testing. The concept of runners enables developers to write once and run anywhere, which is particularly appealing for organizations that want to avoid vendor lock-in. The Beam model is based on a unified programming model that decouples pipeline logic from execution. This makes it easier to reason about time and state in both batch and streaming pipelines. Advanced features like late data handling, watermarks, and session windowing allow for more accurate and meaningful processing of real-world data. Beam also integrates with orchestration tools and monitoring systems, allowing for production-grade deployments. Community support and contributions have grown significantly, making Beam a stable and evolving ecosystem. Many cloud providers offer native support for Beam pipelines, and it's increasingly a core component in modern data platform architectures.\"\u001b[0m,\n",
       "        \u001b[1;34m\"title\"\u001b[0m: \u001b[32m\"Apache Beam: Unified Model for Batch and Streaming Data\"\u001b[0m,\n",
       "        \u001b[1;34m\"keywords\"\u001b[0m: \u001b[1m[\u001b[0m\n",
       "          \u001b[32m\"Apache Beam\"\u001b[0m,\n",
       "          \u001b[32m\"stream processing\"\u001b[0m,\n",
       "          \u001b[32m\"batch processing\"\u001b[0m,\n",
       "          \u001b[32m\"data pipelines\"\u001b[0m,\n",
       "          \u001b[32m\"SDK\"\u001b[0m\n",
       "        \u001b[1m]\u001b[0m,\n",
       "        \u001b[1;34m\"tags\"\u001b[0m: \u001b[1m[\u001b[0m\n",
       "          \u001b[32m\"Data Engineering\"\u001b[0m,\n",
       "          \u001b[32m\"Open Source\"\u001b[0m,\n",
       "          \u001b[32m\"Streaming\"\u001b[0m,\n",
       "          \u001b[32m\"Batch\"\u001b[0m,\n",
       "          \u001b[32m\"Big Data\"\u001b[0m\n",
       "        \u001b[1m]\u001b[0m\n",
       "      \u001b[1m}\u001b[0m\n",
       "    \u001b[1m}\u001b[0m,\n",
       "    \u001b[1m{\u001b[0m\n",
       "      \u001b[1;34m\"id\"\u001b[0m: \u001b[1;36m458732056809570359\u001b[0m,\n",
       "      \u001b[1;34m\"distance\"\u001b[0m: \u001b[1;36m0.3927\u001b[0m,\n",
       "      \u001b[1;34m\"fields\"\u001b[0m: \u001b[1m{\u001b[0m\n",
       "        \u001b[1;34m\"content\"\u001b[0m: \u001b[32m\"Google Beam is an innovative video communication platform that builds on the research of Project Starline. It uses AI, 3D imaging, and light field rendering to create immersive, lifelike video calls. Designed to replicate in-person interaction, Beam allows users to see life-sized, three-dimensional representations of each other without the need for headsets. This breakthrough makes remote conversations feel natural—capturing facial expressions, eye contact, and subtle gestures that traditional video conferencing often misses. Beam reduces meeting fatigue and enhances engagement, making it ideal for enterprise collaboration, interviews, and virtual presence scenarios. Powered by Google AI, Beam represents a significant leap in communication technology. Major companies like Salesforce, Deloitte, and NEC are already exploring its impact on digital collaboration. Google is partnering with HP to build and distribute Beam hardware, designed to work with existing productivity and video tools. Currently in limited early access for enterprise partners, Google Beam aims to redefine virtual meetings by bridging the gap between digital and physical presence. It’s a promising step toward more human and effective remote interactions.\"\u001b[0m,\n",
       "        \u001b[1;34m\"title\"\u001b[0m: \u001b[32m\"Google Beam: 3D Communication Powered by AI\"\u001b[0m,\n",
       "        \u001b[1;34m\"keywords\"\u001b[0m: \u001b[1m[\u001b[0m\n",
       "          \u001b[32m\"Google Beam\"\u001b[0m,\n",
       "          \u001b[32m\"Project Starline\"\u001b[0m,\n",
       "          \u001b[32m\"3D video\"\u001b[0m,\n",
       "          \u001b[32m\"AI communication\"\u001b[0m,\n",
       "          \u001b[32m\"real-time meetings\"\u001b[0m\n",
       "        \u001b[1m]\u001b[0m,\n",
       "        \u001b[1;34m\"tags\"\u001b[0m: \u001b[1m[\u001b[0m\n",
       "          \u001b[32m\"AI\"\u001b[0m,\n",
       "          \u001b[32m\"Communication\"\u001b[0m,\n",
       "          \u001b[32m\"3D Technology\"\u001b[0m,\n",
       "          \u001b[32m\"Remote Work\"\u001b[0m,\n",
       "          \u001b[32m\"Enterprise Tech\"\u001b[0m\n",
       "        \u001b[1m]\u001b[0m\n",
       "      \u001b[1m}\u001b[0m\n",
       "    \u001b[1m}\u001b[0m,\n",
       "    \u001b[1m{\u001b[0m\n",
       "      \u001b[1;34m\"id\"\u001b[0m: \u001b[1;36m458732056809570358\u001b[0m,\n",
       "      \u001b[1;34m\"distance\"\u001b[0m: \u001b[1;36m0.2925\u001b[0m,\n",
       "      \u001b[1;34m\"fields\"\u001b[0m: \u001b[1m{\u001b[0m\n",
       "        \u001b[1;34m\"content\"\u001b[0m: \u001b[32m\"For developers, Dataflow provides local testing capabilities and a unified logging system through Cloud Logging. It also supports SQL-based pipeline definitions using BigQuery, which lowers the barrier to entry for analysts and data engineers. Dataflow’s streaming engine significantly improves performance and reduces costs by decoupling compute and state management. In summary, Google Cloud Dataflow not only simplifies the deployment of Apache Beam pipelines but also enhances them with cloud-native features. Its managed runtime, high availability, and integration with the broader Google Cloud ecosystem make it a powerful tool for modern data processing.\"\u001b[0m,\n",
       "        \u001b[1;34m\"title\"\u001b[0m: \u001b[32m\"Google Cloud Dataflow: Run Apache Beam in the Cloud\"\u001b[0m,\n",
       "        \u001b[1;34m\"keywords\"\u001b[0m: \u001b[1m[\u001b[0m\n",
       "          \u001b[32m\"Google Cloud\"\u001b[0m,\n",
       "          \u001b[32m\"Dataflow\"\u001b[0m,\n",
       "          \u001b[32m\"Apache Beam\"\u001b[0m,\n",
       "          \u001b[32m\"serverless\"\u001b[0m,\n",
       "          \u001b[32m\"stream and batch\"\u001b[0m\n",
       "        \u001b[1m]\u001b[0m,\n",
       "        \u001b[1;34m\"tags\"\u001b[0m: \u001b[1m[\u001b[0m\n",
       "          \u001b[32m\"Cloud Computing\"\u001b[0m,\n",
       "          \u001b[32m\"Data Pipelines\"\u001b[0m,\n",
       "          \u001b[32m\"Google Cloud\"\u001b[0m,\n",
       "          \u001b[32m\"Serverless\"\u001b[0m,\n",
       "          \u001b[32m\"Enterprise\"\u001b[0m\n",
       "        \u001b[1m]\u001b[0m\n",
       "      \u001b[1m}\u001b[0m\n",
       "    \u001b[1m}\u001b[0m,\n",
       "    \u001b[1m{\u001b[0m\n",
       "      \u001b[1;34m\"id\"\u001b[0m: \u001b[1;36m458732056809570357\u001b[0m,\n",
       "      \u001b[1;34m\"distance\"\u001b[0m: \u001b[1;36m0.2342\u001b[0m,\n",
       "      \u001b[1;34m\"fields\"\u001b[0m: \u001b[1m{\u001b[0m\n",
       "        \u001b[1;34m\"content\"\u001b[0m: \u001b[32m\"Google Cloud Dataflow is a fully managed service that runs Apache Beam pipelines in the cloud. It abstracts away infrastructure management and handles dynamic scaling, load balancing, and fault tolerance. Developers can focus on writing data logic using the Beam SDK and deploy it easily to Google Cloud. Dataflow supports both batch and stream processing and integrates seamlessly with other Google services like BigQuery, Pub/Sub, and Cloud Storage. Its autoscaling capabilities allow it to adapt to changing data volumes, optimizing for cost and performance. Features like monitoring dashboards, job templates, and built-in logging make it suitable for both development and production use. With support for event time processing, stateful functions, and windowing, Dataflow is well-suited for real-time analytics and data transformation tasks. It’s a key component for architects building scalable, cloud-native data platforms. Dataflow also offers templates for common ETL tasks, helping teams get started quickly with minimal setup. Its integration with Cloud Functions and Cloud Composer enables event-driven and orchestrated workflows. Security and compliance are built-in with IAM roles, encryption at rest and in transit, and audit logging, making it suitable for enterprise environments.\"\u001b[0m,\n",
       "        \u001b[1;34m\"title\"\u001b[0m: \u001b[32m\"Google Cloud Dataflow: Run Apache Beam in the Cloud\"\u001b[0m,\n",
       "        \u001b[1;34m\"keywords\"\u001b[0m: \u001b[1m[\u001b[0m\n",
       "          \u001b[32m\"Google Cloud\"\u001b[0m,\n",
       "          \u001b[32m\"Dataflow\"\u001b[0m,\n",
       "          \u001b[32m\"Apache Beam\"\u001b[0m,\n",
       "          \u001b[32m\"serverless\"\u001b[0m,\n",
       "          \u001b[32m\"stream and batch\"\u001b[0m\n",
       "        \u001b[1m]\u001b[0m,\n",
       "        \u001b[1;34m\"tags\"\u001b[0m: \u001b[1m[\u001b[0m\n",
       "          \u001b[32m\"Cloud Computing\"\u001b[0m,\n",
       "          \u001b[32m\"Data Pipelines\"\u001b[0m,\n",
       "          \u001b[32m\"Google Cloud\"\u001b[0m,\n",
       "          \u001b[32m\"Serverless\"\u001b[0m,\n",
       "          \u001b[32m\"Enterprise\"\u001b[0m\n",
       "        \u001b[1m]\u001b[0m\n",
       "      \u001b[1m}\u001b[0m\n",
       "    \u001b[1m}\u001b[0m\n",
       "  \u001b[1m]\u001b[0m\n",
       "\u001b[1m}\u001b[0m\n"
      ]
     },
     "metadata": {},
     "output_type": "display_data"
    }
   ],
   "source": [
    "with beam.Pipeline() as p:\n",
    "    _ = (\n",
    "        p\n",
    "        | \"Create\" >> beam.Create([Chunk(content=Content(),embedding=Embedding(dense_embedding=query))])\n",
    "        | \"Enrich W/ Milvus Vector Search\" >> Enrichment(milvus_handler)\n",
    "        | \"Format and Print Results\" >> FormatAndPrintResults())"
   ]
  },
  {
   "cell_type": "markdown",
   "id": "cb626be4-1c1c-4426-a6be-9cc8e385f2c8",
   "metadata": {},
   "source": [
    "## Keyword Search"
   ]
  },
  {
   "cell_type": "code",
   "execution_count": 43,
   "id": "f159ad87-5153-48bb-87b3-3845d3c76420",
   "metadata": {},
   "outputs": [],
   "source": [
    "query = \"what is beam?\""
   ]
  },
  {
   "cell_type": "code",
   "execution_count": 44,
   "id": "8b8cad3e-8a18-464b-8de6-aa4515a653c5",
   "metadata": {},
   "outputs": [],
   "source": [
    "search_parameters = MilvusSearchParameters(\n",
    "    collection_name=collection_name,\n",
    "    search_strategy=KeywordSearchParameters(limit=10,anns_field=\"sparse_vector\"),\n",
    "    output_fields=[\"title\",\"keywords\",\"tags\", \"content\"])"
   ]
  },
  {
   "cell_type": "code",
   "execution_count": 45,
   "id": "47cfc650-0b34-4333-9321-19be2e8fdc85",
   "metadata": {},
   "outputs": [],
   "source": [
    "collection_load_parameters = MilvusCollectionLoadParameters() "
   ]
  },
  {
   "cell_type": "code",
   "execution_count": 46,
   "id": "4754763b-66bf-4f90-9920-28cef223b536",
   "metadata": {},
   "outputs": [],
   "source": [
    "milvus_handler = MilvusSearchEnrichmentHandler(\n",
    "    connection_parameters=milvus_connection_parameters,\n",
    "    search_parameters=search_parameters,\n",
    "    collection_load_parameters=collection_load_parameters)"
   ]
  },
  {
   "cell_type": "code",
   "execution_count": 47,
   "id": "a3db4837-01c7-42d7-b4e8-58d8d361fe93",
   "metadata": {},
   "outputs": [
    {
     "data": {
      "text/html": [
       "<pre style=\"white-space:pre;overflow-x:auto;line-height:normal;font-family:Menlo,'DejaVu Sans Mono',consolas,'Courier New',monospace\"><span style=\"font-weight: bold\">{</span>\n",
       "  <span style=\"color: #000080; text-decoration-color: #000080; font-weight: bold\">\"query\"</span>: <span style=\"color: #008000; text-decoration-color: #008000\">\"what is beam?\"</span>,\n",
       "  <span style=\"color: #000080; text-decoration-color: #000080; font-weight: bold\">\"query_embedding\"</span>: <span style=\"color: #800080; text-decoration-color: #800080; font-style: italic\">null</span>,\n",
       "  <span style=\"color: #000080; text-decoration-color: #000080; font-weight: bold\">\"results\"</span>: <span style=\"font-weight: bold\">[</span>\n",
       "    <span style=\"font-weight: bold\">{</span>\n",
       "      <span style=\"color: #000080; text-decoration-color: #000080; font-weight: bold\">\"id\"</span>: <span style=\"color: #008080; text-decoration-color: #008080; font-weight: bold\">458732056809570356</span>,\n",
       "      <span style=\"color: #000080; text-decoration-color: #000080; font-weight: bold\">\"distance\"</span>: <span style=\"color: #008080; text-decoration-color: #008080; font-weight: bold\">0.5657</span>,\n",
       "      <span style=\"color: #000080; text-decoration-color: #000080; font-weight: bold\">\"fields\"</span>: <span style=\"font-weight: bold\">{</span>\n",
       "        <span style=\"color: #000080; text-decoration-color: #000080; font-weight: bold\">\"keywords\"</span>: <span style=\"font-weight: bold\">[</span>\n",
       "          <span style=\"color: #008000; text-decoration-color: #008000\">\"Apache Beam\"</span>,\n",
       "          <span style=\"color: #008000; text-decoration-color: #008000\">\"stream processing\"</span>,\n",
       "          <span style=\"color: #008000; text-decoration-color: #008000\">\"batch processing\"</span>,\n",
       "          <span style=\"color: #008000; text-decoration-color: #008000\">\"data pipelines\"</span>,\n",
       "          <span style=\"color: #008000; text-decoration-color: #008000\">\"SDK\"</span>\n",
       "        <span style=\"font-weight: bold\">]</span>,\n",
       "        <span style=\"color: #000080; text-decoration-color: #000080; font-weight: bold\">\"tags\"</span>: <span style=\"font-weight: bold\">[</span>\n",
       "          <span style=\"color: #008000; text-decoration-color: #008000\">\"Data Engineering\"</span>,\n",
       "          <span style=\"color: #008000; text-decoration-color: #008000\">\"Open Source\"</span>,\n",
       "          <span style=\"color: #008000; text-decoration-color: #008000\">\"Streaming\"</span>,\n",
       "          <span style=\"color: #008000; text-decoration-color: #008000\">\"Batch\"</span>,\n",
       "          <span style=\"color: #008000; text-decoration-color: #008000\">\"Big Data\"</span>\n",
       "        <span style=\"font-weight: bold\">]</span>,\n",
       "        <span style=\"color: #000080; text-decoration-color: #000080; font-weight: bold\">\"content\"</span>: <span style=\"color: #008000; text-decoration-color: #008000\">\"Developers can build reusable transforms and modularize pipeline logic, improving maintainability and testing. The concept of runners enables developers to write once and run anywhere, which is particularly appealing for organizations that want to avoid vendor lock-in. The Beam model is based on a unified programming model that decouples pipeline logic from execution. This makes it easier to reason about time and state in both batch and streaming pipelines. Advanced features like late data handling, watermarks, and session windowing allow for more accurate and meaningful processing of real-world data. Beam also integrates with orchestration tools and monitoring systems, allowing for production-grade deployments. Community support and contributions have grown significantly, making Beam a stable and evolving ecosystem. Many cloud providers offer native support for Beam pipelines, and it's increasingly a core component in modern data platform architectures.\"</span>,\n",
       "        <span style=\"color: #000080; text-decoration-color: #000080; font-weight: bold\">\"title\"</span>: <span style=\"color: #008000; text-decoration-color: #008000\">\"Apache Beam: Unified Model for Batch and Streaming Data\"</span>\n",
       "      <span style=\"font-weight: bold\">}</span>\n",
       "    <span style=\"font-weight: bold\">}</span>,\n",
       "    <span style=\"font-weight: bold\">{</span>\n",
       "      <span style=\"color: #000080; text-decoration-color: #000080; font-weight: bold\">\"id\"</span>: <span style=\"color: #008080; text-decoration-color: #008080; font-weight: bold\">458732056809570359</span>,\n",
       "      <span style=\"color: #000080; text-decoration-color: #000080; font-weight: bold\">\"distance\"</span>: <span style=\"color: #008080; text-decoration-color: #008080; font-weight: bold\">0.5471</span>,\n",
       "      <span style=\"color: #000080; text-decoration-color: #000080; font-weight: bold\">\"fields\"</span>: <span style=\"font-weight: bold\">{</span>\n",
       "        <span style=\"color: #000080; text-decoration-color: #000080; font-weight: bold\">\"keywords\"</span>: <span style=\"font-weight: bold\">[</span>\n",
       "          <span style=\"color: #008000; text-decoration-color: #008000\">\"Google Beam\"</span>,\n",
       "          <span style=\"color: #008000; text-decoration-color: #008000\">\"Project Starline\"</span>,\n",
       "          <span style=\"color: #008000; text-decoration-color: #008000\">\"3D video\"</span>,\n",
       "          <span style=\"color: #008000; text-decoration-color: #008000\">\"AI communication\"</span>,\n",
       "          <span style=\"color: #008000; text-decoration-color: #008000\">\"real-time meetings\"</span>\n",
       "        <span style=\"font-weight: bold\">]</span>,\n",
       "        <span style=\"color: #000080; text-decoration-color: #000080; font-weight: bold\">\"tags\"</span>: <span style=\"font-weight: bold\">[</span>\n",
       "          <span style=\"color: #008000; text-decoration-color: #008000\">\"AI\"</span>,\n",
       "          <span style=\"color: #008000; text-decoration-color: #008000\">\"Communication\"</span>,\n",
       "          <span style=\"color: #008000; text-decoration-color: #008000\">\"3D Technology\"</span>,\n",
       "          <span style=\"color: #008000; text-decoration-color: #008000\">\"Remote Work\"</span>,\n",
       "          <span style=\"color: #008000; text-decoration-color: #008000\">\"Enterprise Tech\"</span>\n",
       "        <span style=\"font-weight: bold\">]</span>,\n",
       "        <span style=\"color: #000080; text-decoration-color: #000080; font-weight: bold\">\"content\"</span>: <span style=\"color: #008000; text-decoration-color: #008000\">\"Google Beam is an innovative video communication platform that builds on the research of Project Starline. It uses AI, 3D imaging, and light field rendering to create immersive, lifelike video calls. Designed to replicate in-person interaction, Beam allows users to see life-sized, three-dimensional representations of each other without the need for headsets. This breakthrough makes remote conversations feel natural—capturing facial expressions, eye contact, and subtle gestures that traditional video conferencing often misses. Beam reduces meeting fatigue and enhances engagement, making it ideal for enterprise collaboration, interviews, and virtual presence scenarios. Powered by Google AI, Beam represents a significant leap in communication technology. Major companies like Salesforce, Deloitte, and NEC are already exploring its impact on digital collaboration. Google is partnering with HP to build and distribute Beam hardware, designed to work with existing productivity and video tools. Currently in limited early access for enterprise partners, Google Beam aims to redefine virtual meetings by bridging the gap between digital and physical presence. It’s a promising step toward more human and effective remote interactions.\"</span>,\n",
       "        <span style=\"color: #000080; text-decoration-color: #000080; font-weight: bold\">\"title\"</span>: <span style=\"color: #008000; text-decoration-color: #008000\">\"Google Beam: 3D Communication Powered by AI\"</span>\n",
       "      <span style=\"font-weight: bold\">}</span>\n",
       "    <span style=\"font-weight: bold\">}</span>,\n",
       "    <span style=\"font-weight: bold\">{</span>\n",
       "      <span style=\"color: #000080; text-decoration-color: #000080; font-weight: bold\">\"id\"</span>: <span style=\"color: #008080; text-decoration-color: #008080; font-weight: bold\">458732056809570355</span>,\n",
       "      <span style=\"color: #000080; text-decoration-color: #000080; font-weight: bold\">\"distance\"</span>: <span style=\"color: #008080; text-decoration-color: #008080; font-weight: bold\">0.53</span>,\n",
       "      <span style=\"color: #000080; text-decoration-color: #000080; font-weight: bold\">\"fields\"</span>: <span style=\"font-weight: bold\">{</span>\n",
       "        <span style=\"color: #000080; text-decoration-color: #000080; font-weight: bold\">\"keywords\"</span>: <span style=\"font-weight: bold\">[</span>\n",
       "          <span style=\"color: #008000; text-decoration-color: #008000\">\"Apache Beam\"</span>,\n",
       "          <span style=\"color: #008000; text-decoration-color: #008000\">\"stream processing\"</span>,\n",
       "          <span style=\"color: #008000; text-decoration-color: #008000\">\"batch processing\"</span>,\n",
       "          <span style=\"color: #008000; text-decoration-color: #008000\">\"data pipelines\"</span>,\n",
       "          <span style=\"color: #008000; text-decoration-color: #008000\">\"SDK\"</span>\n",
       "        <span style=\"font-weight: bold\">]</span>,\n",
       "        <span style=\"color: #000080; text-decoration-color: #000080; font-weight: bold\">\"tags\"</span>: <span style=\"font-weight: bold\">[</span>\n",
       "          <span style=\"color: #008000; text-decoration-color: #008000\">\"Data Engineering\"</span>,\n",
       "          <span style=\"color: #008000; text-decoration-color: #008000\">\"Open Source\"</span>,\n",
       "          <span style=\"color: #008000; text-decoration-color: #008000\">\"Streaming\"</span>,\n",
       "          <span style=\"color: #008000; text-decoration-color: #008000\">\"Batch\"</span>,\n",
       "          <span style=\"color: #008000; text-decoration-color: #008000\">\"Big Data\"</span>\n",
       "        <span style=\"font-weight: bold\">]</span>,\n",
       "        <span style=\"color: #000080; text-decoration-color: #000080; font-weight: bold\">\"content\"</span>: <span style=\"color: #008000; text-decoration-color: #008000\">\"Apache Beam is an open-source framework that provides a consistent programming model for both batch and streaming data processing. Developed originally by Google, it allows developers to write pipelines that can run on multiple engines, such as Apache Flink, Spark, and Google Cloud Dataflow. Beam uses abstractions like PCollections (data containers) and PTransforms (operations) to define the flow of data. The framework promotes portability through its runner architecture, letting the same pipeline execute on different backends. Support for multiple SDKs, including Java and Python, makes it accessible for a broad audience. Key features include support for event time, windowing, triggers, and stateful processing, which are essential for handling real-time data effectively. Beam is ideal for building ETL jobs, real-time analytics, and machine learning data pipelines. It helps teams focus on logic rather than infrastructure, offering flexibility and scalability in handling unbounded and bounded data sources. Apache Beam also supports a wide range of connectors for both input and output, including Kafka, BigQuery, and JDBC-based systems. This makes it easy to integrate Beam into existing data ecosystems. Developers can build reusable transforms and modularize pipeline logic, improving maintainability and testing.\"</span>,\n",
       "        <span style=\"color: #000080; text-decoration-color: #000080; font-weight: bold\">\"title\"</span>: <span style=\"color: #008000; text-decoration-color: #008000\">\"Apache Beam: Unified Model for Batch and Streaming Data\"</span>\n",
       "      <span style=\"font-weight: bold\">}</span>\n",
       "    <span style=\"font-weight: bold\">}</span>,\n",
       "    <span style=\"font-weight: bold\">{</span>\n",
       "      <span style=\"color: #000080; text-decoration-color: #000080; font-weight: bold\">\"id\"</span>: <span style=\"color: #008080; text-decoration-color: #008080; font-weight: bold\">458732056809570357</span>,\n",
       "      <span style=\"color: #000080; text-decoration-color: #000080; font-weight: bold\">\"distance\"</span>: <span style=\"color: #008080; text-decoration-color: #008080; font-weight: bold\">0.5055</span>,\n",
       "      <span style=\"color: #000080; text-decoration-color: #000080; font-weight: bold\">\"fields\"</span>: <span style=\"font-weight: bold\">{</span>\n",
       "        <span style=\"color: #000080; text-decoration-color: #000080; font-weight: bold\">\"keywords\"</span>: <span style=\"font-weight: bold\">[</span>\n",
       "          <span style=\"color: #008000; text-decoration-color: #008000\">\"Google Cloud\"</span>,\n",
       "          <span style=\"color: #008000; text-decoration-color: #008000\">\"Dataflow\"</span>,\n",
       "          <span style=\"color: #008000; text-decoration-color: #008000\">\"Apache Beam\"</span>,\n",
       "          <span style=\"color: #008000; text-decoration-color: #008000\">\"serverless\"</span>,\n",
       "          <span style=\"color: #008000; text-decoration-color: #008000\">\"stream and batch\"</span>\n",
       "        <span style=\"font-weight: bold\">]</span>,\n",
       "        <span style=\"color: #000080; text-decoration-color: #000080; font-weight: bold\">\"tags\"</span>: <span style=\"font-weight: bold\">[</span>\n",
       "          <span style=\"color: #008000; text-decoration-color: #008000\">\"Cloud Computing\"</span>,\n",
       "          <span style=\"color: #008000; text-decoration-color: #008000\">\"Data Pipelines\"</span>,\n",
       "          <span style=\"color: #008000; text-decoration-color: #008000\">\"Google Cloud\"</span>,\n",
       "          <span style=\"color: #008000; text-decoration-color: #008000\">\"Serverless\"</span>,\n",
       "          <span style=\"color: #008000; text-decoration-color: #008000\">\"Enterprise\"</span>\n",
       "        <span style=\"font-weight: bold\">]</span>,\n",
       "        <span style=\"color: #000080; text-decoration-color: #000080; font-weight: bold\">\"content\"</span>: <span style=\"color: #008000; text-decoration-color: #008000\">\"Google Cloud Dataflow is a fully managed service that runs Apache Beam pipelines in the cloud. It abstracts away infrastructure management and handles dynamic scaling, load balancing, and fault tolerance. Developers can focus on writing data logic using the Beam SDK and deploy it easily to Google Cloud. Dataflow supports both batch and stream processing and integrates seamlessly with other Google services like BigQuery, Pub/Sub, and Cloud Storage. Its autoscaling capabilities allow it to adapt to changing data volumes, optimizing for cost and performance. Features like monitoring dashboards, job templates, and built-in logging make it suitable for both development and production use. With support for event time processing, stateful functions, and windowing, Dataflow is well-suited for real-time analytics and data transformation tasks. It’s a key component for architects building scalable, cloud-native data platforms. Dataflow also offers templates for common ETL tasks, helping teams get started quickly with minimal setup. Its integration with Cloud Functions and Cloud Composer enables event-driven and orchestrated workflows. Security and compliance are built-in with IAM roles, encryption at rest and in transit, and audit logging, making it suitable for enterprise environments.\"</span>,\n",
       "        <span style=\"color: #000080; text-decoration-color: #000080; font-weight: bold\">\"title\"</span>: <span style=\"color: #008000; text-decoration-color: #008000\">\"Google Cloud Dataflow: Run Apache Beam in the Cloud\"</span>\n",
       "      <span style=\"font-weight: bold\">}</span>\n",
       "    <span style=\"font-weight: bold\">}</span>,\n",
       "    <span style=\"font-weight: bold\">{</span>\n",
       "      <span style=\"color: #000080; text-decoration-color: #000080; font-weight: bold\">\"id\"</span>: <span style=\"color: #008080; text-decoration-color: #008080; font-weight: bold\">458732056809570358</span>,\n",
       "      <span style=\"color: #000080; text-decoration-color: #000080; font-weight: bold\">\"distance\"</span>: <span style=\"color: #008080; text-decoration-color: #008080; font-weight: bold\">0.134</span>,\n",
       "      <span style=\"color: #000080; text-decoration-color: #000080; font-weight: bold\">\"fields\"</span>: <span style=\"font-weight: bold\">{</span>\n",
       "        <span style=\"color: #000080; text-decoration-color: #000080; font-weight: bold\">\"keywords\"</span>: <span style=\"font-weight: bold\">[</span>\n",
       "          <span style=\"color: #008000; text-decoration-color: #008000\">\"Google Cloud\"</span>,\n",
       "          <span style=\"color: #008000; text-decoration-color: #008000\">\"Dataflow\"</span>,\n",
       "          <span style=\"color: #008000; text-decoration-color: #008000\">\"Apache Beam\"</span>,\n",
       "          <span style=\"color: #008000; text-decoration-color: #008000\">\"serverless\"</span>,\n",
       "          <span style=\"color: #008000; text-decoration-color: #008000\">\"stream and batch\"</span>\n",
       "        <span style=\"font-weight: bold\">]</span>,\n",
       "        <span style=\"color: #000080; text-decoration-color: #000080; font-weight: bold\">\"tags\"</span>: <span style=\"font-weight: bold\">[</span>\n",
       "          <span style=\"color: #008000; text-decoration-color: #008000\">\"Cloud Computing\"</span>,\n",
       "          <span style=\"color: #008000; text-decoration-color: #008000\">\"Data Pipelines\"</span>,\n",
       "          <span style=\"color: #008000; text-decoration-color: #008000\">\"Google Cloud\"</span>,\n",
       "          <span style=\"color: #008000; text-decoration-color: #008000\">\"Serverless\"</span>,\n",
       "          <span style=\"color: #008000; text-decoration-color: #008000\">\"Enterprise\"</span>\n",
       "        <span style=\"font-weight: bold\">]</span>,\n",
       "        <span style=\"color: #000080; text-decoration-color: #000080; font-weight: bold\">\"content\"</span>: <span style=\"color: #008000; text-decoration-color: #008000\">\"For developers, Dataflow provides local testing capabilities and a unified logging system through Cloud Logging. It also supports SQL-based pipeline definitions using BigQuery, which lowers the barrier to entry for analysts and data engineers. Dataflow’s streaming engine significantly improves performance and reduces costs by decoupling compute and state management. In summary, Google Cloud Dataflow not only simplifies the deployment of Apache Beam pipelines but also enhances them with cloud-native features. Its managed runtime, high availability, and integration with the broader Google Cloud ecosystem make it a powerful tool for modern data processing.\"</span>,\n",
       "        <span style=\"color: #000080; text-decoration-color: #000080; font-weight: bold\">\"title\"</span>: <span style=\"color: #008000; text-decoration-color: #008000\">\"Google Cloud Dataflow: Run Apache Beam in the Cloud\"</span>\n",
       "      <span style=\"font-weight: bold\">}</span>\n",
       "    <span style=\"font-weight: bold\">}</span>\n",
       "  <span style=\"font-weight: bold\">]</span>\n",
       "<span style=\"font-weight: bold\">}</span>\n",
       "</pre>\n"
      ],
      "text/plain": [
       "\u001b[1m{\u001b[0m\n",
       "  \u001b[1;34m\"query\"\u001b[0m: \u001b[32m\"what is beam?\"\u001b[0m,\n",
       "  \u001b[1;34m\"query_embedding\"\u001b[0m: \u001b[3;35mnull\u001b[0m,\n",
       "  \u001b[1;34m\"results\"\u001b[0m: \u001b[1m[\u001b[0m\n",
       "    \u001b[1m{\u001b[0m\n",
       "      \u001b[1;34m\"id\"\u001b[0m: \u001b[1;36m458732056809570356\u001b[0m,\n",
       "      \u001b[1;34m\"distance\"\u001b[0m: \u001b[1;36m0.5657\u001b[0m,\n",
       "      \u001b[1;34m\"fields\"\u001b[0m: \u001b[1m{\u001b[0m\n",
       "        \u001b[1;34m\"keywords\"\u001b[0m: \u001b[1m[\u001b[0m\n",
       "          \u001b[32m\"Apache Beam\"\u001b[0m,\n",
       "          \u001b[32m\"stream processing\"\u001b[0m,\n",
       "          \u001b[32m\"batch processing\"\u001b[0m,\n",
       "          \u001b[32m\"data pipelines\"\u001b[0m,\n",
       "          \u001b[32m\"SDK\"\u001b[0m\n",
       "        \u001b[1m]\u001b[0m,\n",
       "        \u001b[1;34m\"tags\"\u001b[0m: \u001b[1m[\u001b[0m\n",
       "          \u001b[32m\"Data Engineering\"\u001b[0m,\n",
       "          \u001b[32m\"Open Source\"\u001b[0m,\n",
       "          \u001b[32m\"Streaming\"\u001b[0m,\n",
       "          \u001b[32m\"Batch\"\u001b[0m,\n",
       "          \u001b[32m\"Big Data\"\u001b[0m\n",
       "        \u001b[1m]\u001b[0m,\n",
       "        \u001b[1;34m\"content\"\u001b[0m: \u001b[32m\"Developers can build reusable transforms and modularize pipeline logic, improving maintainability and testing. The concept of runners enables developers to write once and run anywhere, which is particularly appealing for organizations that want to avoid vendor lock-in. The Beam model is based on a unified programming model that decouples pipeline logic from execution. This makes it easier to reason about time and state in both batch and streaming pipelines. Advanced features like late data handling, watermarks, and session windowing allow for more accurate and meaningful processing of real-world data. Beam also integrates with orchestration tools and monitoring systems, allowing for production-grade deployments. Community support and contributions have grown significantly, making Beam a stable and evolving ecosystem. Many cloud providers offer native support for Beam pipelines, and it's increasingly a core component in modern data platform architectures.\"\u001b[0m,\n",
       "        \u001b[1;34m\"title\"\u001b[0m: \u001b[32m\"Apache Beam: Unified Model for Batch and Streaming Data\"\u001b[0m\n",
       "      \u001b[1m}\u001b[0m\n",
       "    \u001b[1m}\u001b[0m,\n",
       "    \u001b[1m{\u001b[0m\n",
       "      \u001b[1;34m\"id\"\u001b[0m: \u001b[1;36m458732056809570359\u001b[0m,\n",
       "      \u001b[1;34m\"distance\"\u001b[0m: \u001b[1;36m0.5471\u001b[0m,\n",
       "      \u001b[1;34m\"fields\"\u001b[0m: \u001b[1m{\u001b[0m\n",
       "        \u001b[1;34m\"keywords\"\u001b[0m: \u001b[1m[\u001b[0m\n",
       "          \u001b[32m\"Google Beam\"\u001b[0m,\n",
       "          \u001b[32m\"Project Starline\"\u001b[0m,\n",
       "          \u001b[32m\"3D video\"\u001b[0m,\n",
       "          \u001b[32m\"AI communication\"\u001b[0m,\n",
       "          \u001b[32m\"real-time meetings\"\u001b[0m\n",
       "        \u001b[1m]\u001b[0m,\n",
       "        \u001b[1;34m\"tags\"\u001b[0m: \u001b[1m[\u001b[0m\n",
       "          \u001b[32m\"AI\"\u001b[0m,\n",
       "          \u001b[32m\"Communication\"\u001b[0m,\n",
       "          \u001b[32m\"3D Technology\"\u001b[0m,\n",
       "          \u001b[32m\"Remote Work\"\u001b[0m,\n",
       "          \u001b[32m\"Enterprise Tech\"\u001b[0m\n",
       "        \u001b[1m]\u001b[0m,\n",
       "        \u001b[1;34m\"content\"\u001b[0m: \u001b[32m\"Google Beam is an innovative video communication platform that builds on the research of Project Starline. It uses AI, 3D imaging, and light field rendering to create immersive, lifelike video calls. Designed to replicate in-person interaction, Beam allows users to see life-sized, three-dimensional representations of each other without the need for headsets. This breakthrough makes remote conversations feel natural—capturing facial expressions, eye contact, and subtle gestures that traditional video conferencing often misses. Beam reduces meeting fatigue and enhances engagement, making it ideal for enterprise collaboration, interviews, and virtual presence scenarios. Powered by Google AI, Beam represents a significant leap in communication technology. Major companies like Salesforce, Deloitte, and NEC are already exploring its impact on digital collaboration. Google is partnering with HP to build and distribute Beam hardware, designed to work with existing productivity and video tools. Currently in limited early access for enterprise partners, Google Beam aims to redefine virtual meetings by bridging the gap between digital and physical presence. It’s a promising step toward more human and effective remote interactions.\"\u001b[0m,\n",
       "        \u001b[1;34m\"title\"\u001b[0m: \u001b[32m\"Google Beam: 3D Communication Powered by AI\"\u001b[0m\n",
       "      \u001b[1m}\u001b[0m\n",
       "    \u001b[1m}\u001b[0m,\n",
       "    \u001b[1m{\u001b[0m\n",
       "      \u001b[1;34m\"id\"\u001b[0m: \u001b[1;36m458732056809570355\u001b[0m,\n",
       "      \u001b[1;34m\"distance\"\u001b[0m: \u001b[1;36m0.53\u001b[0m,\n",
       "      \u001b[1;34m\"fields\"\u001b[0m: \u001b[1m{\u001b[0m\n",
       "        \u001b[1;34m\"keywords\"\u001b[0m: \u001b[1m[\u001b[0m\n",
       "          \u001b[32m\"Apache Beam\"\u001b[0m,\n",
       "          \u001b[32m\"stream processing\"\u001b[0m,\n",
       "          \u001b[32m\"batch processing\"\u001b[0m,\n",
       "          \u001b[32m\"data pipelines\"\u001b[0m,\n",
       "          \u001b[32m\"SDK\"\u001b[0m\n",
       "        \u001b[1m]\u001b[0m,\n",
       "        \u001b[1;34m\"tags\"\u001b[0m: \u001b[1m[\u001b[0m\n",
       "          \u001b[32m\"Data Engineering\"\u001b[0m,\n",
       "          \u001b[32m\"Open Source\"\u001b[0m,\n",
       "          \u001b[32m\"Streaming\"\u001b[0m,\n",
       "          \u001b[32m\"Batch\"\u001b[0m,\n",
       "          \u001b[32m\"Big Data\"\u001b[0m\n",
       "        \u001b[1m]\u001b[0m,\n",
       "        \u001b[1;34m\"content\"\u001b[0m: \u001b[32m\"Apache Beam is an open-source framework that provides a consistent programming model for both batch and streaming data processing. Developed originally by Google, it allows developers to write pipelines that can run on multiple engines, such as Apache Flink, Spark, and Google Cloud Dataflow. Beam uses abstractions like PCollections (data containers) and PTransforms (operations) to define the flow of data. The framework promotes portability through its runner architecture, letting the same pipeline execute on different backends. Support for multiple SDKs, including Java and Python, makes it accessible for a broad audience. Key features include support for event time, windowing, triggers, and stateful processing, which are essential for handling real-time data effectively. Beam is ideal for building ETL jobs, real-time analytics, and machine learning data pipelines. It helps teams focus on logic rather than infrastructure, offering flexibility and scalability in handling unbounded and bounded data sources. Apache Beam also supports a wide range of connectors for both input and output, including Kafka, BigQuery, and JDBC-based systems. This makes it easy to integrate Beam into existing data ecosystems. Developers can build reusable transforms and modularize pipeline logic, improving maintainability and testing.\"\u001b[0m,\n",
       "        \u001b[1;34m\"title\"\u001b[0m: \u001b[32m\"Apache Beam: Unified Model for Batch and Streaming Data\"\u001b[0m\n",
       "      \u001b[1m}\u001b[0m\n",
       "    \u001b[1m}\u001b[0m,\n",
       "    \u001b[1m{\u001b[0m\n",
       "      \u001b[1;34m\"id\"\u001b[0m: \u001b[1;36m458732056809570357\u001b[0m,\n",
       "      \u001b[1;34m\"distance\"\u001b[0m: \u001b[1;36m0.5055\u001b[0m,\n",
       "      \u001b[1;34m\"fields\"\u001b[0m: \u001b[1m{\u001b[0m\n",
       "        \u001b[1;34m\"keywords\"\u001b[0m: \u001b[1m[\u001b[0m\n",
       "          \u001b[32m\"Google Cloud\"\u001b[0m,\n",
       "          \u001b[32m\"Dataflow\"\u001b[0m,\n",
       "          \u001b[32m\"Apache Beam\"\u001b[0m,\n",
       "          \u001b[32m\"serverless\"\u001b[0m,\n",
       "          \u001b[32m\"stream and batch\"\u001b[0m\n",
       "        \u001b[1m]\u001b[0m,\n",
       "        \u001b[1;34m\"tags\"\u001b[0m: \u001b[1m[\u001b[0m\n",
       "          \u001b[32m\"Cloud Computing\"\u001b[0m,\n",
       "          \u001b[32m\"Data Pipelines\"\u001b[0m,\n",
       "          \u001b[32m\"Google Cloud\"\u001b[0m,\n",
       "          \u001b[32m\"Serverless\"\u001b[0m,\n",
       "          \u001b[32m\"Enterprise\"\u001b[0m\n",
       "        \u001b[1m]\u001b[0m,\n",
       "        \u001b[1;34m\"content\"\u001b[0m: \u001b[32m\"Google Cloud Dataflow is a fully managed service that runs Apache Beam pipelines in the cloud. It abstracts away infrastructure management and handles dynamic scaling, load balancing, and fault tolerance. Developers can focus on writing data logic using the Beam SDK and deploy it easily to Google Cloud. Dataflow supports both batch and stream processing and integrates seamlessly with other Google services like BigQuery, Pub/Sub, and Cloud Storage. Its autoscaling capabilities allow it to adapt to changing data volumes, optimizing for cost and performance. Features like monitoring dashboards, job templates, and built-in logging make it suitable for both development and production use. With support for event time processing, stateful functions, and windowing, Dataflow is well-suited for real-time analytics and data transformation tasks. It’s a key component for architects building scalable, cloud-native data platforms. Dataflow also offers templates for common ETL tasks, helping teams get started quickly with minimal setup. Its integration with Cloud Functions and Cloud Composer enables event-driven and orchestrated workflows. Security and compliance are built-in with IAM roles, encryption at rest and in transit, and audit logging, making it suitable for enterprise environments.\"\u001b[0m,\n",
       "        \u001b[1;34m\"title\"\u001b[0m: \u001b[32m\"Google Cloud Dataflow: Run Apache Beam in the Cloud\"\u001b[0m\n",
       "      \u001b[1m}\u001b[0m\n",
       "    \u001b[1m}\u001b[0m,\n",
       "    \u001b[1m{\u001b[0m\n",
       "      \u001b[1;34m\"id\"\u001b[0m: \u001b[1;36m458732056809570358\u001b[0m,\n",
       "      \u001b[1;34m\"distance\"\u001b[0m: \u001b[1;36m0.134\u001b[0m,\n",
       "      \u001b[1;34m\"fields\"\u001b[0m: \u001b[1m{\u001b[0m\n",
       "        \u001b[1;34m\"keywords\"\u001b[0m: \u001b[1m[\u001b[0m\n",
       "          \u001b[32m\"Google Cloud\"\u001b[0m,\n",
       "          \u001b[32m\"Dataflow\"\u001b[0m,\n",
       "          \u001b[32m\"Apache Beam\"\u001b[0m,\n",
       "          \u001b[32m\"serverless\"\u001b[0m,\n",
       "          \u001b[32m\"stream and batch\"\u001b[0m\n",
       "        \u001b[1m]\u001b[0m,\n",
       "        \u001b[1;34m\"tags\"\u001b[0m: \u001b[1m[\u001b[0m\n",
       "          \u001b[32m\"Cloud Computing\"\u001b[0m,\n",
       "          \u001b[32m\"Data Pipelines\"\u001b[0m,\n",
       "          \u001b[32m\"Google Cloud\"\u001b[0m,\n",
       "          \u001b[32m\"Serverless\"\u001b[0m,\n",
       "          \u001b[32m\"Enterprise\"\u001b[0m\n",
       "        \u001b[1m]\u001b[0m,\n",
       "        \u001b[1;34m\"content\"\u001b[0m: \u001b[32m\"For developers, Dataflow provides local testing capabilities and a unified logging system through Cloud Logging. It also supports SQL-based pipeline definitions using BigQuery, which lowers the barrier to entry for analysts and data engineers. Dataflow’s streaming engine significantly improves performance and reduces costs by decoupling compute and state management. In summary, Google Cloud Dataflow not only simplifies the deployment of Apache Beam pipelines but also enhances them with cloud-native features. Its managed runtime, high availability, and integration with the broader Google Cloud ecosystem make it a powerful tool for modern data processing.\"\u001b[0m,\n",
       "        \u001b[1;34m\"title\"\u001b[0m: \u001b[32m\"Google Cloud Dataflow: Run Apache Beam in the Cloud\"\u001b[0m\n",
       "      \u001b[1m}\u001b[0m\n",
       "    \u001b[1m}\u001b[0m\n",
       "  \u001b[1m]\u001b[0m\n",
       "\u001b[1m}\u001b[0m\n"
      ]
     },
     "metadata": {},
     "output_type": "display_data"
    }
   ],
   "source": [
    "with beam.Pipeline() as p:\n",
    "    _ = (\n",
    "        p\n",
    "        | \"Create\" >> beam.Create([Chunk(content=Content(text=query))])\n",
    "        | \"Enrich W/ Milvus Keyword Search\" >> Enrichment(milvus_handler)\n",
    "        | \"Format and Print Results\" >> FormatAndPrintResults()\n",
    "    )"
   ]
  },
  {
   "cell_type": "markdown",
   "id": "de344931-4f2e-473d-bd53-c2708c1d1bcc",
   "metadata": {},
   "source": [
    "## Hybrid Search"
   ]
  },
  {
   "cell_type": "markdown",
   "id": "4afec961-71ae-49cc-85ac-2b88eff6b23b",
   "metadata": {},
   "source": [
    "Let’s choose a deliberate query that illustrates the benefits of hybrid search:\n",
    "\n",
    "Query: \"real-time data processing systems\"\n",
    "\n",
    "This query demonstrates hybrid search advantages because:\n",
    "\n",
    "* Dense vector (semantic) contribution: Will understand the conceptual relationship between \"real-time processing\" and \"streaming\" (found in docs #1 and #2)\n",
    "* Sparse vector (keyword) contribution: Will match exact terms like \"data\" and \"processing\" (found in docs #1 and #2)\n",
    "* Hybrid advantage: Document #1 about Apache Beam should rank highest since it contains more specific technical details about real-time processing capabilities like \"event time,\" \"triggers,\" and \"stateful processing\" - even though the exact phrase \"real-time data processing\" doesn't appear in any document"
   ]
  },
  {
   "cell_type": "code",
   "execution_count": 48,
   "id": "172b6c80-2a03-49d0-afc7-12bb0a4dc989",
   "metadata": {},
   "outputs": [],
   "source": [
    "query = \"real-time data processing system\"\n",
    "query_embedding = encode_embedding(query)"
   ]
  },
  {
   "cell_type": "code",
   "execution_count": 49,
   "id": "eb6d951c-0def-45cc-84a4-b6f7b7575f23",
   "metadata": {},
   "outputs": [],
   "source": [
    "hybrid_search_namespace = HybridSearchNamespace(\n",
    "    vector=VectorSearchParameters(limit=10,anns_field=\"vector\"),\n",
    "    keyword=KeywordSearchParameters(limit=10,anns_field=\"sparse_vector\"),\n",
    "    hybrid=HybridSearchParameters(ranker=RRFRanker(3),limit=2))"
   ]
  },
  {
   "cell_type": "code",
   "execution_count": 50,
   "id": "b339c498-d229-42e6-b439-b29eb107b533",
   "metadata": {},
   "outputs": [],
   "source": [
    "search_parameters = MilvusSearchParameters(\n",
    "    collection_name=collection_name,\n",
    "    search_strategy=hybrid_search_namespace,\n",
    "    output_fields=[\"title\",\"keywords\",\"tags\", \"content\"])"
   ]
  },
  {
   "cell_type": "code",
   "execution_count": 51,
   "id": "b346abe6-03c9-4b28-a0fb-74936b9f3a06",
   "metadata": {},
   "outputs": [],
   "source": [
    "collection_load_parameters = MilvusCollectionLoadParameters() "
   ]
  },
  {
   "cell_type": "code",
   "execution_count": 52,
   "id": "ab27810d-40a8-4b6a-bc82-441e13763ebc",
   "metadata": {},
   "outputs": [],
   "source": [
    "milvus_handler = MilvusSearchEnrichmentHandler(\n",
    "    connection_parameters=milvus_connection_parameters,\n",
    "    search_parameters=search_parameters,\n",
    "    collection_load_parameters=collection_load_parameters)"
   ]
  },
  {
   "cell_type": "code",
   "execution_count": 53,
   "id": "9a37aa5b-d652-4dd3-9fe0-e277182415b9",
   "metadata": {},
   "outputs": [],
   "source": [
    "chunk = Chunk(\n",
    "    content=Content(text=query),\n",
    "    embedding=Embedding(dense_embedding=query_embedding)\n",
    ")\n",
    "\n",
    "chunks = [chunk]"
   ]
  },
  {
   "cell_type": "code",
   "execution_count": 54,
   "id": "ea9d84f7-d142-4afa-9a6f-6c310d9604b0",
   "metadata": {},
   "outputs": [
    {
     "data": {
      "text/html": [
       "<pre style=\"white-space:pre;overflow-x:auto;line-height:normal;font-family:Menlo,'DejaVu Sans Mono',consolas,'Courier New',monospace\"><span style=\"font-weight: bold\">{</span>\n",
       "  <span style=\"color: #000080; text-decoration-color: #000080; font-weight: bold\">\"query\"</span>: <span style=\"color: #008000; text-decoration-color: #008000\">\"real-time data processing system\"</span>,\n",
       "  <span style=\"color: #000080; text-decoration-color: #000080; font-weight: bold\">\"query_embedding\"</span>: <span style=\"color: #008080; text-decoration-color: #008080; font-weight: bold\">384</span>,\n",
       "  <span style=\"color: #000080; text-decoration-color: #000080; font-weight: bold\">\"results\"</span>: <span style=\"font-weight: bold\">[</span>\n",
       "    <span style=\"font-weight: bold\">{</span>\n",
       "      <span style=\"color: #000080; text-decoration-color: #000080; font-weight: bold\">\"id\"</span>: <span style=\"color: #008080; text-decoration-color: #008080; font-weight: bold\">458732056809570355</span>,\n",
       "      <span style=\"color: #000080; text-decoration-color: #000080; font-weight: bold\">\"distance\"</span>: <span style=\"color: #008080; text-decoration-color: #008080; font-weight: bold\">0.5</span>,\n",
       "      <span style=\"color: #000080; text-decoration-color: #000080; font-weight: bold\">\"fields\"</span>: <span style=\"font-weight: bold\">{</span>\n",
       "        <span style=\"color: #000080; text-decoration-color: #000080; font-weight: bold\">\"content\"</span>: <span style=\"color: #008000; text-decoration-color: #008000\">\"Apache Beam is an open-source framework that provides a consistent programming model for both batch and streaming data processing. Developed originally by Google, it allows developers to write pipelines that can run on multiple engines, such as Apache Flink, Spark, and Google Cloud Dataflow. Beam uses abstractions like PCollections (data containers) and PTransforms (operations) to define the flow of data. The framework promotes portability through its runner architecture, letting the same pipeline execute on different backends. Support for multiple SDKs, including Java and Python, makes it accessible for a broad audience. Key features include support for event time, windowing, triggers, and stateful processing, which are essential for handling real-time data effectively. Beam is ideal for building ETL jobs, real-time analytics, and machine learning data pipelines. It helps teams focus on logic rather than infrastructure, offering flexibility and scalability in handling unbounded and bounded data sources. Apache Beam also supports a wide range of connectors for both input and output, including Kafka, BigQuery, and JDBC-based systems. This makes it easy to integrate Beam into existing data ecosystems. Developers can build reusable transforms and modularize pipeline logic, improving maintainability and testing.\"</span>,\n",
       "        <span style=\"color: #000080; text-decoration-color: #000080; font-weight: bold\">\"title\"</span>: <span style=\"color: #008000; text-decoration-color: #008000\">\"Apache Beam: Unified Model for Batch and Streaming Data\"</span>,\n",
       "        <span style=\"color: #000080; text-decoration-color: #000080; font-weight: bold\">\"keywords\"</span>: <span style=\"font-weight: bold\">[</span>\n",
       "          <span style=\"color: #008000; text-decoration-color: #008000\">\"Apache Beam\"</span>,\n",
       "          <span style=\"color: #008000; text-decoration-color: #008000\">\"stream processing\"</span>,\n",
       "          <span style=\"color: #008000; text-decoration-color: #008000\">\"batch processing\"</span>,\n",
       "          <span style=\"color: #008000; text-decoration-color: #008000\">\"data pipelines\"</span>,\n",
       "          <span style=\"color: #008000; text-decoration-color: #008000\">\"SDK\"</span>\n",
       "        <span style=\"font-weight: bold\">]</span>,\n",
       "        <span style=\"color: #000080; text-decoration-color: #000080; font-weight: bold\">\"tags\"</span>: <span style=\"font-weight: bold\">[</span>\n",
       "          <span style=\"color: #008000; text-decoration-color: #008000\">\"Data Engineering\"</span>,\n",
       "          <span style=\"color: #008000; text-decoration-color: #008000\">\"Open Source\"</span>,\n",
       "          <span style=\"color: #008000; text-decoration-color: #008000\">\"Streaming\"</span>,\n",
       "          <span style=\"color: #008000; text-decoration-color: #008000\">\"Batch\"</span>,\n",
       "          <span style=\"color: #008000; text-decoration-color: #008000\">\"Big Data\"</span>\n",
       "        <span style=\"font-weight: bold\">]</span>\n",
       "      <span style=\"font-weight: bold\">}</span>\n",
       "    <span style=\"font-weight: bold\">}</span>,\n",
       "    <span style=\"font-weight: bold\">{</span>\n",
       "      <span style=\"color: #000080; text-decoration-color: #000080; font-weight: bold\">\"id\"</span>: <span style=\"color: #008080; text-decoration-color: #008080; font-weight: bold\">458732056809570357</span>,\n",
       "      <span style=\"color: #000080; text-decoration-color: #000080; font-weight: bold\">\"distance\"</span>: <span style=\"color: #008080; text-decoration-color: #008080; font-weight: bold\">0.3667</span>,\n",
       "      <span style=\"color: #000080; text-decoration-color: #000080; font-weight: bold\">\"fields\"</span>: <span style=\"font-weight: bold\">{</span>\n",
       "        <span style=\"color: #000080; text-decoration-color: #000080; font-weight: bold\">\"content\"</span>: <span style=\"color: #008000; text-decoration-color: #008000\">\"Google Cloud Dataflow is a fully managed service that runs Apache Beam pipelines in the cloud. It abstracts away infrastructure management and handles dynamic scaling, load balancing, and fault tolerance. Developers can focus on writing data logic using the Beam SDK and deploy it easily to Google Cloud. Dataflow supports both batch and stream processing and integrates seamlessly with other Google services like BigQuery, Pub/Sub, and Cloud Storage. Its autoscaling capabilities allow it to adapt to changing data volumes, optimizing for cost and performance. Features like monitoring dashboards, job templates, and built-in logging make it suitable for both development and production use. With support for event time processing, stateful functions, and windowing, Dataflow is well-suited for real-time analytics and data transformation tasks. It’s a key component for architects building scalable, cloud-native data platforms. Dataflow also offers templates for common ETL tasks, helping teams get started quickly with minimal setup. Its integration with Cloud Functions and Cloud Composer enables event-driven and orchestrated workflows. Security and compliance are built-in with IAM roles, encryption at rest and in transit, and audit logging, making it suitable for enterprise environments.\"</span>,\n",
       "        <span style=\"color: #000080; text-decoration-color: #000080; font-weight: bold\">\"title\"</span>: <span style=\"color: #008000; text-decoration-color: #008000\">\"Google Cloud Dataflow: Run Apache Beam in the Cloud\"</span>,\n",
       "        <span style=\"color: #000080; text-decoration-color: #000080; font-weight: bold\">\"keywords\"</span>: <span style=\"font-weight: bold\">[</span>\n",
       "          <span style=\"color: #008000; text-decoration-color: #008000\">\"Google Cloud\"</span>,\n",
       "          <span style=\"color: #008000; text-decoration-color: #008000\">\"Dataflow\"</span>,\n",
       "          <span style=\"color: #008000; text-decoration-color: #008000\">\"Apache Beam\"</span>,\n",
       "          <span style=\"color: #008000; text-decoration-color: #008000\">\"serverless\"</span>,\n",
       "          <span style=\"color: #008000; text-decoration-color: #008000\">\"stream and batch\"</span>\n",
       "        <span style=\"font-weight: bold\">]</span>,\n",
       "        <span style=\"color: #000080; text-decoration-color: #000080; font-weight: bold\">\"tags\"</span>: <span style=\"font-weight: bold\">[</span>\n",
       "          <span style=\"color: #008000; text-decoration-color: #008000\">\"Cloud Computing\"</span>,\n",
       "          <span style=\"color: #008000; text-decoration-color: #008000\">\"Data Pipelines\"</span>,\n",
       "          <span style=\"color: #008000; text-decoration-color: #008000\">\"Google Cloud\"</span>,\n",
       "          <span style=\"color: #008000; text-decoration-color: #008000\">\"Serverless\"</span>,\n",
       "          <span style=\"color: #008000; text-decoration-color: #008000\">\"Enterprise\"</span>\n",
       "        <span style=\"font-weight: bold\">]</span>\n",
       "      <span style=\"font-weight: bold\">}</span>\n",
       "    <span style=\"font-weight: bold\">}</span>\n",
       "  <span style=\"font-weight: bold\">]</span>\n",
       "<span style=\"font-weight: bold\">}</span>\n",
       "</pre>\n"
      ],
      "text/plain": [
       "\u001b[1m{\u001b[0m\n",
       "  \u001b[1;34m\"query\"\u001b[0m: \u001b[32m\"real-time data processing system\"\u001b[0m,\n",
       "  \u001b[1;34m\"query_embedding\"\u001b[0m: \u001b[1;36m384\u001b[0m,\n",
       "  \u001b[1;34m\"results\"\u001b[0m: \u001b[1m[\u001b[0m\n",
       "    \u001b[1m{\u001b[0m\n",
       "      \u001b[1;34m\"id\"\u001b[0m: \u001b[1;36m458732056809570355\u001b[0m,\n",
       "      \u001b[1;34m\"distance\"\u001b[0m: \u001b[1;36m0.5\u001b[0m,\n",
       "      \u001b[1;34m\"fields\"\u001b[0m: \u001b[1m{\u001b[0m\n",
       "        \u001b[1;34m\"content\"\u001b[0m: \u001b[32m\"Apache Beam is an open-source framework that provides a consistent programming model for both batch and streaming data processing. Developed originally by Google, it allows developers to write pipelines that can run on multiple engines, such as Apache Flink, Spark, and Google Cloud Dataflow. Beam uses abstractions like PCollections (data containers) and PTransforms (operations) to define the flow of data. The framework promotes portability through its runner architecture, letting the same pipeline execute on different backends. Support for multiple SDKs, including Java and Python, makes it accessible for a broad audience. Key features include support for event time, windowing, triggers, and stateful processing, which are essential for handling real-time data effectively. Beam is ideal for building ETL jobs, real-time analytics, and machine learning data pipelines. It helps teams focus on logic rather than infrastructure, offering flexibility and scalability in handling unbounded and bounded data sources. Apache Beam also supports a wide range of connectors for both input and output, including Kafka, BigQuery, and JDBC-based systems. This makes it easy to integrate Beam into existing data ecosystems. Developers can build reusable transforms and modularize pipeline logic, improving maintainability and testing.\"\u001b[0m,\n",
       "        \u001b[1;34m\"title\"\u001b[0m: \u001b[32m\"Apache Beam: Unified Model for Batch and Streaming Data\"\u001b[0m,\n",
       "        \u001b[1;34m\"keywords\"\u001b[0m: \u001b[1m[\u001b[0m\n",
       "          \u001b[32m\"Apache Beam\"\u001b[0m,\n",
       "          \u001b[32m\"stream processing\"\u001b[0m,\n",
       "          \u001b[32m\"batch processing\"\u001b[0m,\n",
       "          \u001b[32m\"data pipelines\"\u001b[0m,\n",
       "          \u001b[32m\"SDK\"\u001b[0m\n",
       "        \u001b[1m]\u001b[0m,\n",
       "        \u001b[1;34m\"tags\"\u001b[0m: \u001b[1m[\u001b[0m\n",
       "          \u001b[32m\"Data Engineering\"\u001b[0m,\n",
       "          \u001b[32m\"Open Source\"\u001b[0m,\n",
       "          \u001b[32m\"Streaming\"\u001b[0m,\n",
       "          \u001b[32m\"Batch\"\u001b[0m,\n",
       "          \u001b[32m\"Big Data\"\u001b[0m\n",
       "        \u001b[1m]\u001b[0m\n",
       "      \u001b[1m}\u001b[0m\n",
       "    \u001b[1m}\u001b[0m,\n",
       "    \u001b[1m{\u001b[0m\n",
       "      \u001b[1;34m\"id\"\u001b[0m: \u001b[1;36m458732056809570357\u001b[0m,\n",
       "      \u001b[1;34m\"distance\"\u001b[0m: \u001b[1;36m0.3667\u001b[0m,\n",
       "      \u001b[1;34m\"fields\"\u001b[0m: \u001b[1m{\u001b[0m\n",
       "        \u001b[1;34m\"content\"\u001b[0m: \u001b[32m\"Google Cloud Dataflow is a fully managed service that runs Apache Beam pipelines in the cloud. It abstracts away infrastructure management and handles dynamic scaling, load balancing, and fault tolerance. Developers can focus on writing data logic using the Beam SDK and deploy it easily to Google Cloud. Dataflow supports both batch and stream processing and integrates seamlessly with other Google services like BigQuery, Pub/Sub, and Cloud Storage. Its autoscaling capabilities allow it to adapt to changing data volumes, optimizing for cost and performance. Features like monitoring dashboards, job templates, and built-in logging make it suitable for both development and production use. With support for event time processing, stateful functions, and windowing, Dataflow is well-suited for real-time analytics and data transformation tasks. It’s a key component for architects building scalable, cloud-native data platforms. Dataflow also offers templates for common ETL tasks, helping teams get started quickly with minimal setup. Its integration with Cloud Functions and Cloud Composer enables event-driven and orchestrated workflows. Security and compliance are built-in with IAM roles, encryption at rest and in transit, and audit logging, making it suitable for enterprise environments.\"\u001b[0m,\n",
       "        \u001b[1;34m\"title\"\u001b[0m: \u001b[32m\"Google Cloud Dataflow: Run Apache Beam in the Cloud\"\u001b[0m,\n",
       "        \u001b[1;34m\"keywords\"\u001b[0m: \u001b[1m[\u001b[0m\n",
       "          \u001b[32m\"Google Cloud\"\u001b[0m,\n",
       "          \u001b[32m\"Dataflow\"\u001b[0m,\n",
       "          \u001b[32m\"Apache Beam\"\u001b[0m,\n",
       "          \u001b[32m\"serverless\"\u001b[0m,\n",
       "          \u001b[32m\"stream and batch\"\u001b[0m\n",
       "        \u001b[1m]\u001b[0m,\n",
       "        \u001b[1;34m\"tags\"\u001b[0m: \u001b[1m[\u001b[0m\n",
       "          \u001b[32m\"Cloud Computing\"\u001b[0m,\n",
       "          \u001b[32m\"Data Pipelines\"\u001b[0m,\n",
       "          \u001b[32m\"Google Cloud\"\u001b[0m,\n",
       "          \u001b[32m\"Serverless\"\u001b[0m,\n",
       "          \u001b[32m\"Enterprise\"\u001b[0m\n",
       "        \u001b[1m]\u001b[0m\n",
       "      \u001b[1m}\u001b[0m\n",
       "    \u001b[1m}\u001b[0m\n",
       "  \u001b[1m]\u001b[0m\n",
       "\u001b[1m}\u001b[0m\n"
      ]
     },
     "metadata": {},
     "output_type": "display_data"
    }
   ],
   "source": [
    "with beam.Pipeline() as p:\n",
    "    _ = (\n",
    "        p\n",
    "        | \"Create\" >> beam.Create(chunks)\n",
    "        | \"Enrich W/ Milvus Keyword Search\" >> Enrichment(milvus_handler)\n",
    "        | \"Format and Print Results\" >> FormatAndPrintResults()\n",
    "    )"
   ]
  },
  {
   "cell_type": "markdown",
   "id": "58753d47-5e63-49ef-8d95-f9acd94b8c0e",
   "metadata": {},
   "source": [
    "## Filtered Search (Metadata Filtering)"
   ]
  },
  {
   "cell_type": "markdown",
   "id": "cb72f9c6-5a29-4810-9768-574aa7ea5128",
   "metadata": {},
   "source": [
    "### Searching for Apache Beam"
   ]
  },
  {
   "cell_type": "code",
   "execution_count": 55,
   "id": "6e79ef5c-a121-4e69-9089-0991821f8745",
   "metadata": {},
   "outputs": [],
   "source": [
    "query = encode_embedding(\"what is beam?\")"
   ]
  },
  {
   "cell_type": "code",
   "execution_count": 56,
   "id": "ebbcbbe8-f63d-4ff4-9160-719a0fbe9b06",
   "metadata": {},
   "outputs": [],
   "source": [
    "vector_search_parameters = VectorSearchParameters(\n",
    "    filter=\"ARRAY_CONTAINS(keywords, 'data pipelines')\",\n",
    "    limit=10,\n",
    "    anns_field=\"vector\")"
   ]
  },
  {
   "cell_type": "code",
   "execution_count": 57,
   "id": "5314c531-14bb-4d81-92a5-fcf9cca7fa81",
   "metadata": {},
   "outputs": [],
   "source": [
    "search_parameters = MilvusSearchParameters(\n",
    "    collection_name=collection_name,\n",
    "    search_strategy=VectorSearchParameters(filter=\"ARRAY_CONTAINS(keywords, 'data pipelines')\",limit=10,anns_field=\"vector\"),\n",
    "    output_fields=[\"title\",\"keywords\",\"tags\", \"content\"])"
   ]
  },
  {
   "cell_type": "code",
   "execution_count": 58,
   "id": "0ecf2ac6-cf90-4ce7-b17f-113af90ab950",
   "metadata": {},
   "outputs": [],
   "source": [
    "collection_load_parameters = MilvusCollectionLoadParameters() "
   ]
  },
  {
   "cell_type": "code",
   "execution_count": 59,
   "id": "0cd92b69-b9dc-445c-9bd7-21bb3ceb0fd3",
   "metadata": {},
   "outputs": [],
   "source": [
    "milvus_handler = MilvusSearchEnrichmentHandler(\n",
    "    connection_parameters=milvus_connection_parameters,\n",
    "    search_parameters=search_parameters,\n",
    "    collection_load_parameters=collection_load_parameters)"
   ]
  },
  {
   "cell_type": "code",
   "execution_count": 60,
   "id": "b06ecf64-c314-4c6a-ae1a-4fdf059aeead",
   "metadata": {},
   "outputs": [
    {
     "data": {
      "text/html": [
       "<pre style=\"white-space:pre;overflow-x:auto;line-height:normal;font-family:Menlo,'DejaVu Sans Mono',consolas,'Courier New',monospace\"><span style=\"font-weight: bold\">{</span>\n",
       "  <span style=\"color: #000080; text-decoration-color: #000080; font-weight: bold\">\"query\"</span>: <span style=\"color: #800080; text-decoration-color: #800080; font-style: italic\">null</span>,\n",
       "  <span style=\"color: #000080; text-decoration-color: #000080; font-weight: bold\">\"query_embedding\"</span>: <span style=\"color: #008080; text-decoration-color: #008080; font-weight: bold\">384</span>,\n",
       "  <span style=\"color: #000080; text-decoration-color: #000080; font-weight: bold\">\"results\"</span>: <span style=\"font-weight: bold\">[</span>\n",
       "    <span style=\"font-weight: bold\">{</span>\n",
       "      <span style=\"color: #000080; text-decoration-color: #000080; font-weight: bold\">\"id\"</span>: <span style=\"color: #008080; text-decoration-color: #008080; font-weight: bold\">458732056809570355</span>,\n",
       "      <span style=\"color: #000080; text-decoration-color: #000080; font-weight: bold\">\"distance\"</span>: <span style=\"color: #008080; text-decoration-color: #008080; font-weight: bold\">0.453</span>,\n",
       "      <span style=\"color: #000080; text-decoration-color: #000080; font-weight: bold\">\"fields\"</span>: <span style=\"font-weight: bold\">{</span>\n",
       "        <span style=\"color: #000080; text-decoration-color: #000080; font-weight: bold\">\"keywords\"</span>: <span style=\"font-weight: bold\">[</span>\n",
       "          <span style=\"color: #008000; text-decoration-color: #008000\">\"Apache Beam\"</span>,\n",
       "          <span style=\"color: #008000; text-decoration-color: #008000\">\"stream processing\"</span>,\n",
       "          <span style=\"color: #008000; text-decoration-color: #008000\">\"batch processing\"</span>,\n",
       "          <span style=\"color: #008000; text-decoration-color: #008000\">\"data pipelines\"</span>,\n",
       "          <span style=\"color: #008000; text-decoration-color: #008000\">\"SDK\"</span>\n",
       "        <span style=\"font-weight: bold\">]</span>,\n",
       "        <span style=\"color: #000080; text-decoration-color: #000080; font-weight: bold\">\"tags\"</span>: <span style=\"font-weight: bold\">[</span>\n",
       "          <span style=\"color: #008000; text-decoration-color: #008000\">\"Data Engineering\"</span>,\n",
       "          <span style=\"color: #008000; text-decoration-color: #008000\">\"Open Source\"</span>,\n",
       "          <span style=\"color: #008000; text-decoration-color: #008000\">\"Streaming\"</span>,\n",
       "          <span style=\"color: #008000; text-decoration-color: #008000\">\"Batch\"</span>,\n",
       "          <span style=\"color: #008000; text-decoration-color: #008000\">\"Big Data\"</span>\n",
       "        <span style=\"font-weight: bold\">]</span>,\n",
       "        <span style=\"color: #000080; text-decoration-color: #000080; font-weight: bold\">\"content\"</span>: <span style=\"color: #008000; text-decoration-color: #008000\">\"Apache Beam is an open-source framework that provides a consistent programming model for both batch and streaming data processing. Developed originally by Google, it allows developers to write pipelines that can run on multiple engines, such as Apache Flink, Spark, and Google Cloud Dataflow. Beam uses abstractions like PCollections (data containers) and PTransforms (operations) to define the flow of data. The framework promotes portability through its runner architecture, letting the same pipeline execute on different backends. Support for multiple SDKs, including Java and Python, makes it accessible for a broad audience. Key features include support for event time, windowing, triggers, and stateful processing, which are essential for handling real-time data effectively. Beam is ideal for building ETL jobs, real-time analytics, and machine learning data pipelines. It helps teams focus on logic rather than infrastructure, offering flexibility and scalability in handling unbounded and bounded data sources. Apache Beam also supports a wide range of connectors for both input and output, including Kafka, BigQuery, and JDBC-based systems. This makes it easy to integrate Beam into existing data ecosystems. Developers can build reusable transforms and modularize pipeline logic, improving maintainability and testing.\"</span>,\n",
       "        <span style=\"color: #000080; text-decoration-color: #000080; font-weight: bold\">\"title\"</span>: <span style=\"color: #008000; text-decoration-color: #008000\">\"Apache Beam: Unified Model for Batch and Streaming Data\"</span>\n",
       "      <span style=\"font-weight: bold\">}</span>\n",
       "    <span style=\"font-weight: bold\">}</span>,\n",
       "    <span style=\"font-weight: bold\">{</span>\n",
       "      <span style=\"color: #000080; text-decoration-color: #000080; font-weight: bold\">\"id\"</span>: <span style=\"color: #008080; text-decoration-color: #008080; font-weight: bold\">458732056809570356</span>,\n",
       "      <span style=\"color: #000080; text-decoration-color: #000080; font-weight: bold\">\"distance\"</span>: <span style=\"color: #008080; text-decoration-color: #008080; font-weight: bold\">0.4353</span>,\n",
       "      <span style=\"color: #000080; text-decoration-color: #000080; font-weight: bold\">\"fields\"</span>: <span style=\"font-weight: bold\">{</span>\n",
       "        <span style=\"color: #000080; text-decoration-color: #000080; font-weight: bold\">\"keywords\"</span>: <span style=\"font-weight: bold\">[</span>\n",
       "          <span style=\"color: #008000; text-decoration-color: #008000\">\"Apache Beam\"</span>,\n",
       "          <span style=\"color: #008000; text-decoration-color: #008000\">\"stream processing\"</span>,\n",
       "          <span style=\"color: #008000; text-decoration-color: #008000\">\"batch processing\"</span>,\n",
       "          <span style=\"color: #008000; text-decoration-color: #008000\">\"data pipelines\"</span>,\n",
       "          <span style=\"color: #008000; text-decoration-color: #008000\">\"SDK\"</span>\n",
       "        <span style=\"font-weight: bold\">]</span>,\n",
       "        <span style=\"color: #000080; text-decoration-color: #000080; font-weight: bold\">\"tags\"</span>: <span style=\"font-weight: bold\">[</span>\n",
       "          <span style=\"color: #008000; text-decoration-color: #008000\">\"Data Engineering\"</span>,\n",
       "          <span style=\"color: #008000; text-decoration-color: #008000\">\"Open Source\"</span>,\n",
       "          <span style=\"color: #008000; text-decoration-color: #008000\">\"Streaming\"</span>,\n",
       "          <span style=\"color: #008000; text-decoration-color: #008000\">\"Batch\"</span>,\n",
       "          <span style=\"color: #008000; text-decoration-color: #008000\">\"Big Data\"</span>\n",
       "        <span style=\"font-weight: bold\">]</span>,\n",
       "        <span style=\"color: #000080; text-decoration-color: #000080; font-weight: bold\">\"content\"</span>: <span style=\"color: #008000; text-decoration-color: #008000\">\"Developers can build reusable transforms and modularize pipeline logic, improving maintainability and testing. The concept of runners enables developers to write once and run anywhere, which is particularly appealing for organizations that want to avoid vendor lock-in. The Beam model is based on a unified programming model that decouples pipeline logic from execution. This makes it easier to reason about time and state in both batch and streaming pipelines. Advanced features like late data handling, watermarks, and session windowing allow for more accurate and meaningful processing of real-world data. Beam also integrates with orchestration tools and monitoring systems, allowing for production-grade deployments. Community support and contributions have grown significantly, making Beam a stable and evolving ecosystem. Many cloud providers offer native support for Beam pipelines, and it's increasingly a core component in modern data platform architectures.\"</span>,\n",
       "        <span style=\"color: #000080; text-decoration-color: #000080; font-weight: bold\">\"title\"</span>: <span style=\"color: #008000; text-decoration-color: #008000\">\"Apache Beam: Unified Model for Batch and Streaming Data\"</span>\n",
       "      <span style=\"font-weight: bold\">}</span>\n",
       "    <span style=\"font-weight: bold\">}</span>\n",
       "  <span style=\"font-weight: bold\">]</span>\n",
       "<span style=\"font-weight: bold\">}</span>\n",
       "</pre>\n"
      ],
      "text/plain": [
       "\u001b[1m{\u001b[0m\n",
       "  \u001b[1;34m\"query\"\u001b[0m: \u001b[3;35mnull\u001b[0m,\n",
       "  \u001b[1;34m\"query_embedding\"\u001b[0m: \u001b[1;36m384\u001b[0m,\n",
       "  \u001b[1;34m\"results\"\u001b[0m: \u001b[1m[\u001b[0m\n",
       "    \u001b[1m{\u001b[0m\n",
       "      \u001b[1;34m\"id\"\u001b[0m: \u001b[1;36m458732056809570355\u001b[0m,\n",
       "      \u001b[1;34m\"distance\"\u001b[0m: \u001b[1;36m0.453\u001b[0m,\n",
       "      \u001b[1;34m\"fields\"\u001b[0m: \u001b[1m{\u001b[0m\n",
       "        \u001b[1;34m\"keywords\"\u001b[0m: \u001b[1m[\u001b[0m\n",
       "          \u001b[32m\"Apache Beam\"\u001b[0m,\n",
       "          \u001b[32m\"stream processing\"\u001b[0m,\n",
       "          \u001b[32m\"batch processing\"\u001b[0m,\n",
       "          \u001b[32m\"data pipelines\"\u001b[0m,\n",
       "          \u001b[32m\"SDK\"\u001b[0m\n",
       "        \u001b[1m]\u001b[0m,\n",
       "        \u001b[1;34m\"tags\"\u001b[0m: \u001b[1m[\u001b[0m\n",
       "          \u001b[32m\"Data Engineering\"\u001b[0m,\n",
       "          \u001b[32m\"Open Source\"\u001b[0m,\n",
       "          \u001b[32m\"Streaming\"\u001b[0m,\n",
       "          \u001b[32m\"Batch\"\u001b[0m,\n",
       "          \u001b[32m\"Big Data\"\u001b[0m\n",
       "        \u001b[1m]\u001b[0m,\n",
       "        \u001b[1;34m\"content\"\u001b[0m: \u001b[32m\"Apache Beam is an open-source framework that provides a consistent programming model for both batch and streaming data processing. Developed originally by Google, it allows developers to write pipelines that can run on multiple engines, such as Apache Flink, Spark, and Google Cloud Dataflow. Beam uses abstractions like PCollections (data containers) and PTransforms (operations) to define the flow of data. The framework promotes portability through its runner architecture, letting the same pipeline execute on different backends. Support for multiple SDKs, including Java and Python, makes it accessible for a broad audience. Key features include support for event time, windowing, triggers, and stateful processing, which are essential for handling real-time data effectively. Beam is ideal for building ETL jobs, real-time analytics, and machine learning data pipelines. It helps teams focus on logic rather than infrastructure, offering flexibility and scalability in handling unbounded and bounded data sources. Apache Beam also supports a wide range of connectors for both input and output, including Kafka, BigQuery, and JDBC-based systems. This makes it easy to integrate Beam into existing data ecosystems. Developers can build reusable transforms and modularize pipeline logic, improving maintainability and testing.\"\u001b[0m,\n",
       "        \u001b[1;34m\"title\"\u001b[0m: \u001b[32m\"Apache Beam: Unified Model for Batch and Streaming Data\"\u001b[0m\n",
       "      \u001b[1m}\u001b[0m\n",
       "    \u001b[1m}\u001b[0m,\n",
       "    \u001b[1m{\u001b[0m\n",
       "      \u001b[1;34m\"id\"\u001b[0m: \u001b[1;36m458732056809570356\u001b[0m,\n",
       "      \u001b[1;34m\"distance\"\u001b[0m: \u001b[1;36m0.4353\u001b[0m,\n",
       "      \u001b[1;34m\"fields\"\u001b[0m: \u001b[1m{\u001b[0m\n",
       "        \u001b[1;34m\"keywords\"\u001b[0m: \u001b[1m[\u001b[0m\n",
       "          \u001b[32m\"Apache Beam\"\u001b[0m,\n",
       "          \u001b[32m\"stream processing\"\u001b[0m,\n",
       "          \u001b[32m\"batch processing\"\u001b[0m,\n",
       "          \u001b[32m\"data pipelines\"\u001b[0m,\n",
       "          \u001b[32m\"SDK\"\u001b[0m\n",
       "        \u001b[1m]\u001b[0m,\n",
       "        \u001b[1;34m\"tags\"\u001b[0m: \u001b[1m[\u001b[0m\n",
       "          \u001b[32m\"Data Engineering\"\u001b[0m,\n",
       "          \u001b[32m\"Open Source\"\u001b[0m,\n",
       "          \u001b[32m\"Streaming\"\u001b[0m,\n",
       "          \u001b[32m\"Batch\"\u001b[0m,\n",
       "          \u001b[32m\"Big Data\"\u001b[0m\n",
       "        \u001b[1m]\u001b[0m,\n",
       "        \u001b[1;34m\"content\"\u001b[0m: \u001b[32m\"Developers can build reusable transforms and modularize pipeline logic, improving maintainability and testing. The concept of runners enables developers to write once and run anywhere, which is particularly appealing for organizations that want to avoid vendor lock-in. The Beam model is based on a unified programming model that decouples pipeline logic from execution. This makes it easier to reason about time and state in both batch and streaming pipelines. Advanced features like late data handling, watermarks, and session windowing allow for more accurate and meaningful processing of real-world data. Beam also integrates with orchestration tools and monitoring systems, allowing for production-grade deployments. Community support and contributions have grown significantly, making Beam a stable and evolving ecosystem. Many cloud providers offer native support for Beam pipelines, and it's increasingly a core component in modern data platform architectures.\"\u001b[0m,\n",
       "        \u001b[1;34m\"title\"\u001b[0m: \u001b[32m\"Apache Beam: Unified Model for Batch and Streaming Data\"\u001b[0m\n",
       "      \u001b[1m}\u001b[0m\n",
       "    \u001b[1m}\u001b[0m\n",
       "  \u001b[1m]\u001b[0m\n",
       "\u001b[1m}\u001b[0m\n"
      ]
     },
     "metadata": {},
     "output_type": "display_data"
    }
   ],
   "source": [
    "with beam.Pipeline() as p:\n",
    "    _ = (\n",
    "        p\n",
    "        | \"Create\" >> beam.Create([Chunk(content=Content(),embedding=Embedding(dense_embedding=query))])\n",
    "        | \"Enrich W/ Milvus Vector Search\" >> Enrichment(milvus_handler)\n",
    "        | \"Format and Print Results\" >> FormatAndPrintResults())"
   ]
  },
  {
   "cell_type": "markdown",
   "id": "3e61bcf4-96e7-47dd-bb37-4788e99a2b89",
   "metadata": {},
   "source": [
    "### Searching for Google Beam"
   ]
  },
  {
   "cell_type": "code",
   "execution_count": 61,
   "id": "a8077395-c374-400f-abdc-fe6630eab8a4",
   "metadata": {},
   "outputs": [],
   "source": [
    "query = encode_embedding(\"what is beam?\")"
   ]
  },
  {
   "cell_type": "code",
   "execution_count": 62,
   "id": "3b712779-f283-4e37-88ed-d6b65c6c45d2",
   "metadata": {},
   "outputs": [],
   "source": [
    "search_parameters = MilvusSearchParameters(\n",
    "    collection_name=collection_name,\n",
    "    search_strategy=VectorSearchParameters(filter=\"ARRAY_CONTAINS(tags, 'Remote Work')\",limit=10,anns_field=\"vector\"),\n",
    "    output_fields=[\"title\",\"keywords\",\"tags\", \"content\"])"
   ]
  },
  {
   "cell_type": "code",
   "execution_count": 63,
   "id": "7f0924a3-8832-4138-a599-d3aef648b962",
   "metadata": {},
   "outputs": [],
   "source": [
    "collection_load_parameters = MilvusCollectionLoadParameters() "
   ]
  },
  {
   "cell_type": "code",
   "execution_count": 64,
   "id": "516ecbf0-9bb0-4177-829b-b79300b29bbe",
   "metadata": {},
   "outputs": [],
   "source": [
    "milvus_handler = MilvusSearchEnrichmentHandler(\n",
    "    connection_parameters=milvus_connection_parameters,\n",
    "    search_parameters=search_parameters,\n",
    "    collection_load_parameters=collection_load_parameters)"
   ]
  },
  {
   "cell_type": "code",
   "execution_count": 65,
   "id": "db32dda5-0668-4162-80ea-b6a0c2a79063",
   "metadata": {},
   "outputs": [
    {
     "data": {
      "text/html": [
       "<pre style=\"white-space:pre;overflow-x:auto;line-height:normal;font-family:Menlo,'DejaVu Sans Mono',consolas,'Courier New',monospace\"><span style=\"font-weight: bold\">{</span>\n",
       "  <span style=\"color: #000080; text-decoration-color: #000080; font-weight: bold\">\"query\"</span>: <span style=\"color: #800080; text-decoration-color: #800080; font-style: italic\">null</span>,\n",
       "  <span style=\"color: #000080; text-decoration-color: #000080; font-weight: bold\">\"query_embedding\"</span>: <span style=\"color: #008080; text-decoration-color: #008080; font-weight: bold\">384</span>,\n",
       "  <span style=\"color: #000080; text-decoration-color: #000080; font-weight: bold\">\"results\"</span>: <span style=\"font-weight: bold\">[</span>\n",
       "    <span style=\"font-weight: bold\">{</span>\n",
       "      <span style=\"color: #000080; text-decoration-color: #000080; font-weight: bold\">\"id\"</span>: <span style=\"color: #008080; text-decoration-color: #008080; font-weight: bold\">458732056809570359</span>,\n",
       "      <span style=\"color: #000080; text-decoration-color: #000080; font-weight: bold\">\"distance\"</span>: <span style=\"color: #008080; text-decoration-color: #008080; font-weight: bold\">0.3927</span>,\n",
       "      <span style=\"color: #000080; text-decoration-color: #000080; font-weight: bold\">\"fields\"</span>: <span style=\"font-weight: bold\">{</span>\n",
       "        <span style=\"color: #000080; text-decoration-color: #000080; font-weight: bold\">\"title\"</span>: <span style=\"color: #008000; text-decoration-color: #008000\">\"Google Beam: 3D Communication Powered by AI\"</span>,\n",
       "        <span style=\"color: #000080; text-decoration-color: #000080; font-weight: bold\">\"keywords\"</span>: <span style=\"font-weight: bold\">[</span>\n",
       "          <span style=\"color: #008000; text-decoration-color: #008000\">\"Google Beam\"</span>,\n",
       "          <span style=\"color: #008000; text-decoration-color: #008000\">\"Project Starline\"</span>,\n",
       "          <span style=\"color: #008000; text-decoration-color: #008000\">\"3D video\"</span>,\n",
       "          <span style=\"color: #008000; text-decoration-color: #008000\">\"AI communication\"</span>,\n",
       "          <span style=\"color: #008000; text-decoration-color: #008000\">\"real-time meetings\"</span>\n",
       "        <span style=\"font-weight: bold\">]</span>,\n",
       "        <span style=\"color: #000080; text-decoration-color: #000080; font-weight: bold\">\"tags\"</span>: <span style=\"font-weight: bold\">[</span>\n",
       "          <span style=\"color: #008000; text-decoration-color: #008000\">\"AI\"</span>,\n",
       "          <span style=\"color: #008000; text-decoration-color: #008000\">\"Communication\"</span>,\n",
       "          <span style=\"color: #008000; text-decoration-color: #008000\">\"3D Technology\"</span>,\n",
       "          <span style=\"color: #008000; text-decoration-color: #008000\">\"Remote Work\"</span>,\n",
       "          <span style=\"color: #008000; text-decoration-color: #008000\">\"Enterprise Tech\"</span>\n",
       "        <span style=\"font-weight: bold\">]</span>,\n",
       "        <span style=\"color: #000080; text-decoration-color: #000080; font-weight: bold\">\"content\"</span>: <span style=\"color: #008000; text-decoration-color: #008000\">\"Google Beam is an innovative video communication platform that builds on the research of Project Starline. It uses AI, 3D imaging, and light field rendering to create immersive, lifelike video calls. Designed to replicate in-person interaction, Beam allows users to see life-sized, three-dimensional representations of each other without the need for headsets. This breakthrough makes remote conversations feel natural—capturing facial expressions, eye contact, and subtle gestures that traditional video conferencing often misses. Beam reduces meeting fatigue and enhances engagement, making it ideal for enterprise collaboration, interviews, and virtual presence scenarios. Powered by Google AI, Beam represents a significant leap in communication technology. Major companies like Salesforce, Deloitte, and NEC are already exploring its impact on digital collaboration. Google is partnering with HP to build and distribute Beam hardware, designed to work with existing productivity and video tools. Currently in limited early access for enterprise partners, Google Beam aims to redefine virtual meetings by bridging the gap between digital and physical presence. It’s a promising step toward more human and effective remote interactions.\"</span>\n",
       "      <span style=\"font-weight: bold\">}</span>\n",
       "    <span style=\"font-weight: bold\">}</span>\n",
       "  <span style=\"font-weight: bold\">]</span>\n",
       "<span style=\"font-weight: bold\">}</span>\n",
       "</pre>\n"
      ],
      "text/plain": [
       "\u001b[1m{\u001b[0m\n",
       "  \u001b[1;34m\"query\"\u001b[0m: \u001b[3;35mnull\u001b[0m,\n",
       "  \u001b[1;34m\"query_embedding\"\u001b[0m: \u001b[1;36m384\u001b[0m,\n",
       "  \u001b[1;34m\"results\"\u001b[0m: \u001b[1m[\u001b[0m\n",
       "    \u001b[1m{\u001b[0m\n",
       "      \u001b[1;34m\"id\"\u001b[0m: \u001b[1;36m458732056809570359\u001b[0m,\n",
       "      \u001b[1;34m\"distance\"\u001b[0m: \u001b[1;36m0.3927\u001b[0m,\n",
       "      \u001b[1;34m\"fields\"\u001b[0m: \u001b[1m{\u001b[0m\n",
       "        \u001b[1;34m\"title\"\u001b[0m: \u001b[32m\"Google Beam: 3D Communication Powered by AI\"\u001b[0m,\n",
       "        \u001b[1;34m\"keywords\"\u001b[0m: \u001b[1m[\u001b[0m\n",
       "          \u001b[32m\"Google Beam\"\u001b[0m,\n",
       "          \u001b[32m\"Project Starline\"\u001b[0m,\n",
       "          \u001b[32m\"3D video\"\u001b[0m,\n",
       "          \u001b[32m\"AI communication\"\u001b[0m,\n",
       "          \u001b[32m\"real-time meetings\"\u001b[0m\n",
       "        \u001b[1m]\u001b[0m,\n",
       "        \u001b[1;34m\"tags\"\u001b[0m: \u001b[1m[\u001b[0m\n",
       "          \u001b[32m\"AI\"\u001b[0m,\n",
       "          \u001b[32m\"Communication\"\u001b[0m,\n",
       "          \u001b[32m\"3D Technology\"\u001b[0m,\n",
       "          \u001b[32m\"Remote Work\"\u001b[0m,\n",
       "          \u001b[32m\"Enterprise Tech\"\u001b[0m\n",
       "        \u001b[1m]\u001b[0m,\n",
       "        \u001b[1;34m\"content\"\u001b[0m: \u001b[32m\"Google Beam is an innovative video communication platform that builds on the research of Project Starline. It uses AI, 3D imaging, and light field rendering to create immersive, lifelike video calls. Designed to replicate in-person interaction, Beam allows users to see life-sized, three-dimensional representations of each other without the need for headsets. This breakthrough makes remote conversations feel natural—capturing facial expressions, eye contact, and subtle gestures that traditional video conferencing often misses. Beam reduces meeting fatigue and enhances engagement, making it ideal for enterprise collaboration, interviews, and virtual presence scenarios. Powered by Google AI, Beam represents a significant leap in communication technology. Major companies like Salesforce, Deloitte, and NEC are already exploring its impact on digital collaboration. Google is partnering with HP to build and distribute Beam hardware, designed to work with existing productivity and video tools. Currently in limited early access for enterprise partners, Google Beam aims to redefine virtual meetings by bridging the gap between digital and physical presence. It’s a promising step toward more human and effective remote interactions.\"\u001b[0m\n",
       "      \u001b[1m}\u001b[0m\n",
       "    \u001b[1m}\u001b[0m\n",
       "  \u001b[1m]\u001b[0m\n",
       "\u001b[1m}\u001b[0m\n"
      ]
     },
     "metadata": {},
     "output_type": "display_data"
    }
   ],
   "source": [
    "with beam.Pipeline() as p:\n",
    "    _ = (\n",
    "        p\n",
    "        | \"Create\" >> beam.Create([Chunk(content=Content(),embedding=Embedding(dense_embedding=query))])\n",
    "        | \"Enrich W/ Milvus Vector Search\" >> Enrichment(milvus_handler)\n",
    "        | \"Format and Print Results\" >> FormatAndPrintResults())"
   ]
  },
  {
   "cell_type": "markdown",
   "id": "c2670682-24bf-45b6-9593-bed0e3b1cee2",
   "metadata": {},
   "source": [
    "# Cleanup"
   ]
  },
  {
   "cell_type": "code",
   "execution_count": 66,
   "id": "953e61f4-5188-45a6-b30b-d581f7471d17",
   "metadata": {},
   "outputs": [],
   "source": [
    "client.release_collection(collection_name=collection_name)\n",
    "client.drop_collection(collection_name=collection_name)\n",
    "MilvusEnrichmentTestHelper.stop_milvus_search_db_container(db)\n",
    "db = None"
   ]
  },
  {
   "cell_type": "code",
   "execution_count": null,
   "id": "fdb361ae-99e7-41a3-9f95-9021175041e7",
   "metadata": {},
   "outputs": [],
   "source": []
  }
 ],
 "metadata": {
  "kernelspec": {
   "display_name": "Python 3 (ipykernel)",
   "language": "python",
   "name": "python3"
  },
  "language_info": {
   "codemirror_mode": {
    "name": "ipython",
    "version": 3
   },
   "file_extension": ".py",
   "mimetype": "text/x-python",
   "name": "python",
   "nbconvert_exporter": "python",
   "pygments_lexer": "ipython3",
   "version": "3.9.22"
  }
 },
 "nbformat": 4,
 "nbformat_minor": 5
}
