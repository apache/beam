{
  "cells": [
    {
      "cell_type": "code",
      "execution_count": null,
      "id": "2d79fe3a-952b-478f-ba78-44cafddc91d1",
      "metadata": {
        "cellView": "form",
        "id": "2d79fe3a-952b-478f-ba78-44cafddc91d1"
      },
      "outputs": [],
      "source": [
        "# @title ###### Licensed to the Apache Software Foundation (ASF), Version 2.0 (the \"License\")\n",
        "\n",
        "# Licensed to the Apache Software Foundation (ASF) under one\n",
        "# or more contributor license agreements. See the NOTICE file\n",
        "# distributed with this work for additional information\n",
        "# regarding copyright ownership. The ASF licenses this file\n",
        "# to you under the Apache License, Version 2.0 (the\n",
        "# \"License\"); you may not use this file except in compliance\n",
        "# with the License. You may obtain a copy of the License at\n",
        "#\n",
        "#   http://www.apache.org/licenses/LICENSE-2.0\n",
        "#\n",
        "# Unless required by applicable law or agreed to in writing,\n",
        "# software distributed under the License is distributed on an\n",
        "# \"AS IS\" BASIS, WITHOUT WARRANTIES OR CONDITIONS OF ANY\n",
        "# KIND, either express or implied. See the License for the\n",
        "# specific language governing permissions and limitations\n",
        "# under the License"
      ]
    },
    {
      "cell_type": "markdown",
      "source": [
        "# Use Apache Beam for Anomaly Detection on Batch and Streaming Data (Z-Score)\n",
        "This notebook demonstrates how to perform anomaly detection on batch and streaming data using the `AnomalyDetection` PTransform, a new feature introduced in Apache Beam 2.64.0.\n",
        "\n",
        "We will first generate a synthetic dataset that incorporates various types of concept drift (changes in the underlying data distribution). This data will then be published to a Pub/Sub topic to simulate a real-time input stream. Our Beam pipeline will read from this topic, apply the `AnomalyDetection` PTransform with the Z-Score algorithm, and publish the detected anomalies to a second Pub/Sub topic. Finally, we will visualize the labeled data points in an animated plot."
      ],
      "metadata": {
        "id": "vOwDXurVLkxO"
      },
      "id": "vOwDXurVLkxO"
    },
    {
      "cell_type": "markdown",
      "source": [
        "## Preparation\n",
        "To get started with this notebook, you'll need to install the Apache Beam Python SDK and its associated extras. Make sure your installation is version 2.64.0 or later."
      ],
      "metadata": {
        "id": "UQx1jKZ2LHHR"
      },
      "id": "UQx1jKZ2LHHR"
    },
    {
      "cell_type": "code",
      "source": [
        "! pip install apache_beam[interactive,gcp]>=2.64.0 --quiet"
      ],
      "metadata": {
        "collapsed": true,
        "id": "SafqA6dALKvo",
        "outputId": "83e23080-b4ec-47ea-dfb6-a4d1afd79460",
        "colab": {
          "base_uri": "https://localhost:8080/"
        }
      },
      "id": "SafqA6dALKvo",
      "execution_count": 1,
      "outputs": [
        {
          "output_type": "stream",
          "name": "stdout",
          "text": [
            "\u001b[31mERROR: pip's dependency resolver does not currently take into account all the packages that are installed. This behaviour is the source of the following dependency conflicts.\n",
            "google-colab 1.0.0 requires ipython==7.34.0, but you have ipython 8.36.0 which is incompatible.\n",
            "distributed 2024.12.1 requires cloudpickle>=3.0.0, but you have cloudpickle 2.2.1 which is incompatible.\n",
            "dask 2024.12.1 requires cloudpickle>=3.0.0, but you have cloudpickle 2.2.1 which is incompatible.\u001b[0m\u001b[31m\n",
            "\u001b[0m"
          ]
        }
      ]
    },
    {
      "cell_type": "markdown",
      "source": [
        "To proceed, import the essential modules: matplotlib, numpy, pandas, Beam, and others as needed."
      ],
      "metadata": {
        "id": "h5gJCJGpStSb"
      },
      "id": "h5gJCJGpStSb"
    },
    {
      "cell_type": "code",
      "execution_count": 2,
      "id": "8fb71376-b0eb-474b-ab51-2161dfa60e2d",
      "metadata": {
        "id": "8fb71376-b0eb-474b-ab51-2161dfa60e2d"
      },
      "outputs": [],
      "source": [
        "# Imports Required for the notebook\n",
        "import json\n",
        "import os\n",
        "import random\n",
        "import threading\n",
        "import time\n",
        "import warnings\n",
        "from typing import Any\n",
        "from typing import Iterable\n",
        "from typing import Tuple\n",
        "\n",
        "import matplotlib.animation\n",
        "import matplotlib.pyplot as plt\n",
        "import numpy as np\n",
        "import pandas as pd\n",
        "from IPython.display import HTML, Javascript\n",
        "from google.api_core import retry\n",
        "from google.api_core.exceptions import AlreadyExists\n",
        "from google.cloud import pubsub_v1\n",
        "from google.cloud.exceptions import NotFound\n",
        "\n",
        "import apache_beam as beam\n",
        "from apache_beam.io.gcp.pubsub import PubsubMessage\n",
        "from apache_beam.ml.anomaly.base import AnomalyResult\n",
        "from apache_beam.ml.anomaly.base import AnomalyPrediction\n",
        "from apache_beam.ml.anomaly.detectors.zscore import ZScore\n",
        "from apache_beam.ml.anomaly.transforms import AnomalyDetection\n",
        "from apache_beam.ml.anomaly.univariate.mean import IncSlidingMeanTracker\n",
        "from apache_beam.ml.anomaly.univariate.stdev import IncSlidingStdevTracker\n",
        "from apache_beam.options.pipeline_options import PipelineOptions\n",
        "\n",
        "# Suppress logging warnings\n",
        "os.environ[\"GRPC_VERBOSITY\"] = \"ERROR\"\n",
        "os.environ[\"GLOG_minloglevel\"] = \"2\"\n",
        "warnings.filterwarnings('ignore')"
      ]
    },
    {
      "cell_type": "markdown",
      "source": [
        " Next, replace `<PROJECT_ID>` with your Google Cloud project ID."
      ],
      "metadata": {
        "id": "C2GhkkvSUXdu"
      },
      "id": "C2GhkkvSUXdu"
    },
    {
      "cell_type": "code",
      "execution_count": 4,
      "id": "29cda7f0-a24e-4e74-ba6e-166413ab532c",
      "metadata": {
        "id": "29cda7f0-a24e-4e74-ba6e-166413ab532c"
      },
      "outputs": [],
      "source": [
        "# GCP-related constant are listed below\n",
        "\n",
        "# GCP project id\n",
        "PROJECT_ID = 'apache-beam-testing'  # @param {type:'string'}\n",
        "\n",
        "SUFFIX = str(random.randint(0, 10000))\n",
        "\n",
        "# Pubsub topic and subscription for retrieving input data\n",
        "INPUT_TOPIC = 'anomaly-input-' + SUFFIX\n",
        "INPUT_SUB = INPUT_TOPIC + '-sub'\n",
        "\n",
        "# Pubsub topic and subscription for collecting output result\n",
        "OUTPUT_TOPIC = 'anomaly-output-' + SUFFIX\n",
        "OUTPUT_SUB = OUTPUT_TOPIC + '-sub'"
      ]
    },
    {
      "cell_type": "markdown",
      "source": [
        "The last preparation step needs to authenticate your Google account and authorize your Colab notebook to access Google Cloud Platform (GCP) resources associated with the project set above."
      ],
      "metadata": {
        "id": "coZF7R8zTBsF"
      },
      "id": "coZF7R8zTBsF"
    },
    {
      "cell_type": "code",
      "source": [
        "from google.colab import auth\n",
        "auth.authenticate_user(project_id=PROJECT_ID)"
      ],
      "metadata": {
        "id": "51jml7JvMpbD"
      },
      "id": "51jml7JvMpbD",
      "execution_count": 5,
      "outputs": []
    },
    {
      "cell_type": "markdown",
      "source": [
        "## Batch Data"
      ],
      "metadata": {
        "id": "t6GeBpEuzkrk"
      },
      "id": "t6GeBpEuzkrk"
    },
    {
      "cell_type": "markdown",
      "source": [
        "### Generating Synthetic Data with Outliers"
      ],
      "metadata": {
        "id": "tj9wPNIZxcf2"
      },
      "id": "tj9wPNIZxcf2"
    },
    {
      "cell_type": "code",
      "source": [
        "# The size of a segment in the synthetic data set. Each segment represents\n",
        "# a collection of data points generated from either a fixed distribution\n",
        "# or a drift from one distribution to another.\n",
        "# The idea is inspired by https://github.com/yixiaoma666/SCAR.\n",
        "seg_size = 200\n",
        "\n",
        "# The ratio of global outliers introduced in the synthetic data set.\n",
        "outlier_ratio = 0.01\n",
        "\n",
        "# Random seed\n",
        "seed = 1234\n",
        "\n",
        "np.random.seed(seed)\n",
        "\n",
        "# starting from a fixed distribution\n",
        "data = np.random.normal(loc=0, scale=1, size=seg_size)\n",
        "\n",
        "# adding outliers\n",
        "outlier_idx = np.random.choice(len(data), size=int(outlier_ratio * len(data)), replace = False)\n",
        "\n",
        "for idx in outlier_idx:\n",
        "    data[idx] = np.random.normal(loc=15, scale=1, size=1).item()\n",
        "\n",
        "df = pd.Series(data, name='f1')"
      ],
      "metadata": {
        "id": "S4hqN5tPxm-n"
      },
      "id": "S4hqN5tPxm-n",
      "execution_count": 8,
      "outputs": []
    },
    {
      "cell_type": "code",
      "source": [
        "plt.figure(figsize=(12, 4))\n",
        "plt.xlim(0, 200)\n",
        "plt.ylim(-10, 20)\n",
        "plt.scatter(x=range(len(df)), y=df, s=10)"
      ],
      "metadata": {
        "id": "IUD3giMzyxer",
        "outputId": "c463d25a-84a4-4b34-957b-eaa2b11383bf",
        "colab": {
          "base_uri": "https://localhost:8080/",
          "height": 391
        }
      },
      "id": "IUD3giMzyxer",
      "execution_count": 15,
      "outputs": [
        {
          "output_type": "execute_result",
          "data": {
            "text/plain": [
              "<matplotlib.collections.PathCollection at 0x7be1383ea810>"
            ]
          },
          "metadata": {},
          "execution_count": 15
        },
        {
          "output_type": "display_data",
          "data": {
            "text/plain": [
              "<Figure size 1200x400 with 1 Axes>"
            ],
            "image/png": "[encoded data removed]"
          },
          "metadata": {}
        }
      ]
    },
    {
      "cell_type": "markdown",
      "source": [
        "### Run the Beam Pipeline on the Batch Data"
      ],
      "metadata": {
        "id": "_JV5fG_px7BM"
      },
      "id": "_JV5fG_px7BM"
    },
    {
      "cell_type": "code",
      "source": [
        "options = PipelineOptions([])\n",
        "with beam.Pipeline(options=options) as p:\n",
        "    _ = (p | beam.Create(data)\n",
        "        | \"Convert to Rows\" >> beam.Map(lambda x: beam.Row(f1=float(x))).with_output_types(beam.Row)\n",
        "        | \"Add key\" >> beam.Map(lambda x: (0, x)).with_output_types(Tuple[int, beam.Row])\n",
        "        | AnomalyDetection(ZScore(features=[\"f1\"], sub_stat_tracker=IncSlidingMeanTracker(100),\n",
        "                            stdev_tracker=IncSlidingStdevTracker(100)))\n",
        "        | beam.LogElements()\n",
        "    )"
      ],
      "metadata": {
        "id": "ZaXkJeHqx58p",
        "outputId": "5f09b627-0f02-4e85-8ad7-a047edee513e",
        "colab": {
          "base_uri": "https://localhost:8080/"
        }
      },
      "id": "ZaXkJeHqx58p",
      "execution_count": 17,
      "outputs": [
        {
          "output_type": "stream",
          "name": "stdout",
          "text": [
            "(0, AnomalyResult(example=Row(f1=0.47143516373249306), predictions=[AnomalyPrediction(model_id='ZScore', score=nan, label=-2, threshold=3, info='', source_predictions=None)]))\n",
            "(0, AnomalyResult(example=Row(f1=-1.1909756947064645), predictions=[AnomalyPrediction(model_id='ZScore', score=nan, label=-2, threshold=3, info='', source_predictions=None)]))\n",
            "(0, AnomalyResult(example=Row(f1=1.4327069684260973), predictions=[AnomalyPrediction(model_id='ZScore', score=1.5248610784612329, label=0, threshold=3, info='', source_predictions=None)]))\n",
            "(0, AnomalyResult(example=Row(f1=-0.3126518960917129), predictions=[AnomalyPrediction(model_id='ZScore', score=0.4146369992972177, label=0, threshold=3, info='', source_predictions=None)]))\n",
            "(0, AnomalyResult(example=Row(f1=-0.7205887333650116), predictions=[AnomalyPrediction(model_id='ZScore', score=0.7339768418339636, label=0, threshold=3, info='', source_predictions=None)]))\n",
            "(0, AnomalyResult(example=Row(f1=0.8871629403077386), predictions=[AnomalyPrediction(model_id='ZScore', score=0.9184837623430838, label=0, threshold=3, info='', source_predictions=None)]))\n",
            "(0, AnomalyResult(example=Row(f1=0.8595884137174165), predictions=[AnomalyPrediction(model_id='ZScore', score=0.7617457693809457, label=0, threshold=3, info='', source_predictions=None)]))\n",
            "(0, AnomalyResult(example=Row(f1=-0.6365235044173491), predictions=[AnomalyPrediction(model_id='ZScore', score=0.874092623214495, label=0, threshold=3, info='', source_predictions=None)]))\n",
            "(0, AnomalyResult(example=Row(f1=0.015696372114428918), predictions=[AnomalyPrediction(model_id='ZScore', score=0.08853156493210021, label=0, threshold=3, info='', source_predictions=None)]))\n",
            "(0, AnomalyResult(example=Row(f1=-2.2426849541854055), predictions=[AnomalyPrediction(model_id='ZScore', score=2.655762895498797, label=0, threshold=3, info='', source_predictions=None)]))\n",
            "(0, AnomalyResult(example=Row(f1=1.150035724719818), predictions=[AnomalyPrediction(model_id='ZScore', score=1.1667778204414951, label=0, threshold=3, info='', source_predictions=None)]))\n",
            "(0, AnomalyResult(example=Row(f1=0.9919460223426778), predictions=[AnomalyPrediction(model_id='ZScore', score=0.9074121724488337, label=0, threshold=3, info='', source_predictions=None)]))\n",
            "(0, AnomalyResult(example=Row(f1=0.9533241281124304), predictions=[AnomalyPrediction(model_id='ZScore', score=0.8064079804733687, label=0, threshold=3, info='', source_predictions=None)]))\n",
            "(0, AnomalyResult(example=Row(f1=-2.0212548201949705), predictions=[AnomalyPrediction(model_id='ZScore', score=1.9701665155357153, label=0, threshold=3, info='', source_predictions=None)]))\n",
            "(0, AnomalyResult(example=Row(f1=-0.334077365808097), predictions=[AnomalyPrediction(model_id='ZScore', score=0.2578889332802099, label=0, threshold=3, info='', source_predictions=None)]))\n",
            "(0, AnomalyResult(example=Row(f1=0.002118364683486495), predictions=[AnomalyPrediction(model_id='ZScore', score=0.042085086862530166, label=0, threshold=3, info='', source_predictions=None)]))\n",
            "(0, AnomalyResult(example=Row(f1=0.405453411570191), predictions=[AnomalyPrediction(model_id='ZScore', score=0.40252194686673226, label=0, threshold=3, info='', source_predictions=None)]))\n",
            "(0, AnomalyResult(example=Row(f1=0.2890919409800353), predictions=[AnomalyPrediction(model_id='ZScore', score=0.2820709085120998, label=0, threshold=3, info='', source_predictions=None)]))\n",
            "(0, AnomalyResult(example=Row(f1=1.3211581921293856), predictions=[AnomalyPrediction(model_id='ZScore', score=1.251952065675063, label=0, threshold=3, info='', source_predictions=None)]))\n",
            "(0, AnomalyResult(example=Row(f1=-1.5469055532292402), predictions=[AnomalyPrediction(model_id='ZScore', score=1.5115201335595696, label=0, threshold=3, info='', source_predictions=None)]))\n",
            "(0, AnomalyResult(example=Row(f1=15.544331108822645), predictions=[AnomalyPrediction(model_id='ZScore', score=14.117687441830473, label=1, threshold=3, info='', source_predictions=None)]))\n",
            "(0, AnomalyResult(example=Row(f1=-0.6559693441389339), predictions=[AnomalyPrediction(model_id='ZScore', score=0.3891232086316413, label=0, threshold=3, info='', source_predictions=None)]))\n",
            "(0, AnomalyResult(example=Row(f1=0.19342137647035826), predictions=[AnomalyPrediction(model_id='ZScore', score=0.13565845362915016, label=0, threshold=3, info='', source_predictions=None)]))\n",
            "(0, AnomalyResult(example=Row(f1=0.5534389109567419), predictions=[AnomalyPrediction(model_id='ZScore', score=0.02712969162979453, label=0, threshold=3, info='', source_predictions=None)]))\n",
            "(0, AnomalyResult(example=Row(f1=1.3181515541801367), predictions=[AnomalyPrediction(model_id='ZScore', score=0.2028210853707528, label=0, threshold=3, info='', source_predictions=None)]))\n",
            "(0, AnomalyResult(example=Row(f1=-0.4693052847058996), predictions=[AnomalyPrediction(model_id='ZScore', score=0.34855252290002936, label=0, threshold=3, info='', source_predictions=None)]))\n",
            "(0, AnomalyResult(example=Row(f1=0.6755540851223808), predictions=[AnomalyPrediction(model_id='ZScore', score=0.015661966232442634, label=0, threshold=3, info='', source_predictions=None)]))\n",
            "(0, AnomalyResult(example=Row(f1=-1.8170272265901968), predictions=[AnomalyPrediction(model_id='ZScore', score=0.7770229986696406, label=0, threshold=3, info='', source_predictions=None)]))\n",
            "(0, AnomalyResult(example=Row(f1=-0.1831085401789987), predictions=[AnomalyPrediction(model_id='ZScore', score=0.2316408193369165, label=0, threshold=3, info='', source_predictions=None)]))\n",
            "(0, AnomalyResult(example=Row(f1=1.0589691875711504), predictions=[AnomalyPrediction(model_id='ZScore', score=0.17732859621508026, label=0, threshold=3, info='', source_predictions=None)]))\n",
            "(0, AnomalyResult(example=Row(f1=-0.3978402281999914), predictions=[AnomalyPrediction(model_id='ZScore', score=0.30864759478233483, label=0, threshold=3, info='', source_predictions=None)]))\n",
            "(0, AnomalyResult(example=Row(f1=0.3374376536139724), predictions=[AnomalyPrediction(model_id='ZScore', score=0.055760164169898756, label=0, threshold=3, info='', source_predictions=None)]))\n",
            "(0, AnomalyResult(example=Row(f1=1.0475785728927218), predictions=[AnomalyPrediction(model_id='ZScore', score=0.18812452853237396, label=0, threshold=3, info='', source_predictions=None)]))\n",
            "(0, AnomalyResult(example=Row(f1=1.0459382556276653), predictions=[AnomalyPrediction(model_id='ZScore', score=0.18467021020558302, label=0, threshold=3, info='', source_predictions=None)]))\n",
            "(0, AnomalyResult(example=Row(f1=0.8637172916848387), predictions=[AnomalyPrediction(model_id='ZScore', score=0.11765062954574891, label=0, threshold=3, info='', source_predictions=None)]))\n",
            "(0, AnomalyResult(example=Row(f1=-0.12209157484767426), predictions=[AnomalyPrediction(model_id='ZScore', score=0.2368880850270752, label=0, threshold=3, info='', source_predictions=None)]))\n",
            "(0, AnomalyResult(example=Row(f1=0.12471295376821585), predictions=[AnomalyPrediction(model_id='ZScore', score=0.14392080542610503, label=0, threshold=3, info='', source_predictions=None)]))\n",
            "(0, AnomalyResult(example=Row(f1=-0.32279480560829565), predictions=[AnomalyPrediction(model_id='ZScore', score=0.3066274504093367, label=0, threshold=3, info='', source_predictions=None)]))\n",
            "(0, AnomalyResult(example=Row(f1=0.8416747129961416), predictions=[AnomalyPrediction(model_id='ZScore', score=0.13150782930026098, label=0, threshold=3, info='', source_predictions=None)]))\n",
            "(0, AnomalyResult(example=Row(f1=2.390960515463033), predictions=[AnomalyPrediction(model_id='ZScore', score=0.7145965734103199, label=0, threshold=3, info='', source_predictions=None)]))\n",
            "(0, AnomalyResult(example=Row(f1=0.07619958783723642), predictions=[AnomalyPrediction(model_id='ZScore', score=0.17811373259762567, label=0, threshold=3, info='', source_predictions=None)]))\n",
            "(0, AnomalyResult(example=Row(f1=-0.5664459304649568), predictions=[AnomalyPrediction(model_id='ZScore', score=0.42306565793196393, label=0, threshold=3, info='', source_predictions=None)]))\n",
            "(0, AnomalyResult(example=Row(f1=0.036141936684072715), predictions=[AnomalyPrediction(model_id='ZScore', score=0.18309815705880061, label=0, threshold=3, info='', source_predictions=None)]))\n",
            "(0, AnomalyResult(example=Row(f1=-2.0749776006900293), predictions=[AnomalyPrediction(model_id='ZScore', score=1.010749608156173, label=0, threshold=3, info='', source_predictions=None)]))\n",
            "(0, AnomalyResult(example=Row(f1=0.24779219974854666), predictions=[AnomalyPrediction(model_id='ZScore', score=0.07477248389140535, label=0, threshold=3, info='', source_predictions=None)]))\n",
            "(0, AnomalyResult(example=Row(f1=-0.8971567844396987), predictions=[AnomalyPrediction(model_id='ZScore', score=0.5291769816859108, label=0, threshold=3, info='', source_predictions=None)]))\n",
            "(0, AnomalyResult(example=Row(f1=-0.1367948332613474), predictions=[AnomalyPrediction(model_id='ZScore', score=0.21711597290707785, label=0, threshold=3, info='', source_predictions=None)]))\n",
            "(0, AnomalyResult(example=Row(f1=0.018289191349219306), predictions=[AnomalyPrediction(model_id='ZScore', score=0.15191569665994134, label=0, threshold=3, info='', source_predictions=None)]))\n",
            "(0, AnomalyResult(example=Row(f1=0.7554139823981354), predictions=[AnomalyPrediction(model_id='ZScore', score=0.15141402074947088, label=0, threshold=3, info='', source_predictions=None)]))\n",
            "(0, AnomalyResult(example=Row(f1=0.2152685809694434), predictions=[AnomalyPrediction(model_id='ZScore', score=0.073532814517488, label=0, threshold=3, info='', source_predictions=None)]))\n",
            "(0, AnomalyResult(example=Row(f1=0.841008794931391), predictions=[AnomalyPrediction(model_id='ZScore', score=0.18865291477374985, label=0, threshold=3, info='', source_predictions=None)]))\n",
            "(0, AnomalyResult(example=Row(f1=-1.4458100770443063), predictions=[AnomalyPrediction(model_id='ZScore', score=0.7781114364524399, label=0, threshold=3, info='', source_predictions=None)]))\n",
            "(0, AnomalyResult(example=Row(f1=-1.4019732815008439), predictions=[AnomalyPrediction(model_id='ZScore', score=0.7476349091736143, label=0, threshold=3, info='', source_predictions=None)]))\n",
            "(0, AnomalyResult(example=Row(f1=-0.10091819994891389), predictions=[AnomalyPrediction(model_id='ZScore', score=0.18317286675397645, label=0, threshold=3, info='', source_predictions=None)]))\n",
            "(0, AnomalyResult(example=Row(f1=-0.5482424491868549), predictions=[AnomalyPrediction(model_id='ZScore', score=0.37352795109132697, label=0, threshold=3, info='', source_predictions=None)]))\n",
            "(0, AnomalyResult(example=Row(f1=-0.14461950836938436), predictions=[AnomalyPrediction(model_id='ZScore', score=0.19498234847506696, label=0, threshold=3, info='', source_predictions=None)]))\n",
            "(0, AnomalyResult(example=Row(f1=0.3540203321992379), predictions=[AnomalyPrediction(model_id='ZScore', score=0.02456667437225218, label=0, threshold=3, info='', source_predictions=None)]))\n",
            "(0, AnomalyResult(example=Row(f1=-0.0355130252781402), predictions=[AnomalyPrediction(model_id='ZScore', score=0.1473012167730056, label=0, threshold=3, info='', source_predictions=None)]))\n",
            "(0, AnomalyResult(example=Row(f1=0.5657383060625951), predictions=[AnomalyPrediction(model_id='ZScore', score=0.12123646173064952, label=0, threshold=3, info='', source_predictions=None)]))\n",
            "(0, AnomalyResult(example=Row(f1=1.5456588046255575), predictions=[AnomalyPrediction(model_id='ZScore', score=0.5595317642756968, label=0, threshold=3, info='', source_predictions=None)]))\n",
            "(0, AnomalyResult(example=Row(f1=-0.9742363337673154), predictions=[AnomalyPrediction(model_id='ZScore', score=0.5829594409795029, label=0, threshold=3, info='', source_predictions=None)]))\n",
            "(0, AnomalyResult(example=Row(f1=-0.07034487710410242), predictions=[AnomalyPrediction(model_id='ZScore', score=0.16669334904832364, label=0, threshold=3, info='', source_predictions=None)]))\n",
            "(0, AnomalyResult(example=Row(f1=0.30796885521603423), predictions=[AnomalyPrediction(model_id='ZScore', score=0.0076225580781991145, label=0, threshold=3, info='', source_predictions=None)]))\n",
            "(0, AnomalyResult(example=Row(f1=-0.20849876310587975), predictions=[AnomalyPrediction(model_id='ZScore', score=0.23047396824917993, label=0, threshold=3, info='', source_predictions=None)]))\n",
            "(0, AnomalyResult(example=Row(f1=1.0338007325554992), predictions=[AnomalyPrediction(model_id='ZScore', score=0.34832529478378305, label=0, threshold=3, info='', source_predictions=None)]))\n",
            "(0, AnomalyResult(example=Row(f1=-2.4004536338122957), predictions=[AnomalyPrediction(model_id='ZScore', score=1.2606036555703442, label=0, threshold=3, info='', source_predictions=None)]))\n",
            "(0, AnomalyResult(example=Row(f1=2.0306036208387996), predictions=[AnomalyPrediction(model_id='ZScore', score=0.8269968040236138, label=0, threshold=3, info='', source_predictions=None)]))\n",
            "(0, AnomalyResult(example=Row(f1=-1.1426312890227635), predictions=[AnomalyPrediction(model_id='ZScore', score=0.6644769780377446, label=0, threshold=3, info='', source_predictions=None)]))\n",
            "(0, AnomalyResult(example=Row(f1=0.21188338677770105), predictions=[AnomalyPrediction(model_id='ZScore', score=0.022561927483281514, label=0, threshold=3, info='', source_predictions=None)]))\n",
            "(0, AnomalyResult(example=Row(f1=0.7047206243171088), predictions=[AnomalyPrediction(model_id='ZScore', score=0.21033127910555474, label=0, threshold=3, info='', source_predictions=None)]))\n",
            "(0, AnomalyResult(example=Row(f1=-0.785435211763197), predictions=[AnomalyPrediction(model_id='ZScore', score=0.49984268942598525, label=0, threshold=3, info='', source_predictions=None)]))\n",
            "(0, AnomalyResult(example=Row(f1=0.4620597371620487), predictions=[AnomalyPrediction(model_id='ZScore', score=0.10096984453131949, label=0, threshold=3, info='', source_predictions=None)]))\n",
            "(0, AnomalyResult(example=Row(f1=0.7042282254621743), predictions=[AnomalyPrediction(model_id='ZScore', score=0.21686927196890227, label=0, threshold=3, info='', source_predictions=None)]))\n",
            "(0, AnomalyResult(example=Row(f1=0.5235079678938094), predictions=[AnomalyPrediction(model_id='ZScore', score=0.12773321093953388, label=0, threshold=3, info='', source_predictions=None)]))\n",
            "(0, AnomalyResult(example=Row(f1=-0.9262543135302259), predictions=[AnomalyPrediction(model_id='ZScore', score=0.5806258173322645, label=0, threshold=3, info='', source_predictions=None)]))\n",
            "(0, AnomalyResult(example=Row(f1=2.0078429507780005), predictions=[AnomalyPrediction(model_id='ZScore', score=0.8628687135678489, label=0, threshold=3, info='', source_predictions=None)]))\n",
            "(0, AnomalyResult(example=Row(f1=0.2269625418708953), predictions=[AnomalyPrediction(model_id='ZScore', score=0.021546500515121306, label=0, threshold=3, info='', source_predictions=None)]))\n",
            "(0, AnomalyResult(example=Row(f1=-1.1526591092509524), predictions=[AnomalyPrediction(model_id='ZScore', score=0.703425215533642, label=0, threshold=3, info='', source_predictions=None)]))\n",
            "(0, AnomalyResult(example=Row(f1=0.6319794458091295), predictions=[AnomalyPrediction(model_id='ZScore', score=0.18845788852580123, label=0, threshold=3, info='', source_predictions=None)]))\n",
            "(0, AnomalyResult(example=Row(f1=0.0395126866933667), predictions=[AnomalyPrediction(model_id='ZScore', score=0.10846490928015129, label=0, threshold=3, info='', source_predictions=None)]))\n",
            "(0, AnomalyResult(example=Row(f1=0.46439232505089606), predictions=[AnomalyPrediction(model_id='ZScore', score=0.10561022382513559, label=0, threshold=3, info='', source_predictions=None)]))\n",
            "(0, AnomalyResult(example=Row(f1=-3.5635166606247353), predictions=[AnomalyPrediction(model_id='ZScore', score=1.9306809540182053, label=0, threshold=3, info='', source_predictions=None)]))\n",
            "(0, AnomalyResult(example=Row(f1=1.3211056154702059), predictions=[AnomalyPrediction(model_id='ZScore', score=0.5523996393388221, label=0, threshold=3, info='', source_predictions=None)]))\n",
            "(0, AnomalyResult(example=Row(f1=0.15263055220453448), predictions=[AnomalyPrediction(model_id='ZScore', score=0.035394202802569, label=0, threshold=3, info='', source_predictions=None)]))\n",
            "(0, AnomalyResult(example=Row(f1=0.16452954293239852), predictions=[AnomalyPrediction(model_id='ZScore', score=0.029207345502425243, label=0, threshold=3, info='', source_predictions=None)]))\n",
            "(0, AnomalyResult(example=Row(f1=-0.4300956908764876), predictions=[AnomalyPrediction(model_id='ZScore', score=0.3295584230322384, label=0, threshold=3, info='', source_predictions=None)]))\n",
            "(0, AnomalyResult(example=Row(f1=0.7673687357524115), predictions=[AnomalyPrediction(model_id='ZScore', score=0.2809470447878746, label=0, threshold=3, info='', source_predictions=None)]))\n",
            "(0, AnomalyResult(example=Row(f1=0.9849198419098969), predictions=[AnomalyPrediction(model_id='ZScore', score=0.39034727467284874, label=0, threshold=3, info='', source_predictions=None)]))\n",
            "(0, AnomalyResult(example=Row(f1=0.270835848826804), predictions=[AnomalyPrediction(model_id='ZScore', score=0.021249353720000086, label=0, threshold=3, info='', source_predictions=None)]))\n",
            "(0, AnomalyResult(example=Row(f1=1.3919861934464073), predictions=[AnomalyPrediction(model_id='ZScore', score=0.5999462978445951, label=0, threshold=3, info='', source_predictions=None)]))\n",
            "(0, AnomalyResult(example=Row(f1=0.07984231300862901), predictions=[AnomalyPrediction(model_id='ZScore', score=0.08444530074114592, label=0, threshold=3, info='', source_predictions=None)]))\n",
            "(0, AnomalyResult(example=Row(f1=-0.3999645806965225), predictions=[AnomalyPrediction(model_id='ZScore', score=0.333975467273751, label=0, threshold=3, info='', source_predictions=None)]))\n",
            "(0, AnomalyResult(example=Row(f1=-1.0278505586819058), predictions=[AnomalyPrediction(model_id='ZScore', score=0.6607302448960872, label=0, threshold=3, info='', source_predictions=None)]))\n",
            "(0, AnomalyResult(example=Row(f1=-0.5847182112607883), predictions=[AnomalyPrediction(model_id='ZScore', score=0.4229114127808443, label=0, threshold=3, info='', source_predictions=None)]))\n",
            "(0, AnomalyResult(example=Row(f1=0.8165939265478418), predictions=[AnomalyPrediction(model_id='ZScore', score=0.31899889311333723, label=0, threshold=3, info='', source_predictions=None)]))\n",
            "(0, AnomalyResult(example=Row(f1=-0.08194705182666534), predictions=[AnomalyPrediction(model_id='ZScore', score=0.1591557052007837, label=0, threshold=3, info='', source_predictions=None)]))\n",
            "(0, AnomalyResult(example=Row(f1=-0.3447660142546443), predictions=[AnomalyPrediction(model_id='ZScore', score=0.2983533112125735, label=0, threshold=3, info='', source_predictions=None)]))\n",
            "(0, AnomalyResult(example=Row(f1=0.5282881452973941), predictions=[AnomalyPrediction(model_id='ZScore', score=0.17073547911773262, label=0, threshold=3, info='', source_predictions=None)]))\n",
            "(0, AnomalyResult(example=Row(f1=-1.0689887834801322), predictions=[AnomalyPrediction(model_id='ZScore', score=0.6896355949319888, label=0, threshold=3, info='', source_predictions=None)]))\n",
            "(0, AnomalyResult(example=Row(f1=-0.5118813091268151), predictions=[AnomalyPrediction(model_id='ZScore', score=0.3839327796605375, label=0, threshold=3, info='', source_predictions=None)]))\n",
            "(0, AnomalyResult(example=Row(f1=0.2912053597430635), predictions=[AnomalyPrediction(model_id='ZScore', score=0.05344326264106455, label=0, threshold=3, info='', source_predictions=None)]))\n",
            "(0, AnomalyResult(example=Row(f1=0.5665336963535724), predictions=[AnomalyPrediction(model_id='ZScore', score=0.20363901859627795, label=0, threshold=3, info='', source_predictions=None)]))\n",
            "(0, AnomalyResult(example=Row(f1=0.503591759111203), predictions=[AnomalyPrediction(model_id='ZScore', score=0.16043167606735664, label=0, threshold=3, info='', source_predictions=None)]))\n",
            "(0, AnomalyResult(example=Row(f1=0.2852956847818571), predictions=[AnomalyPrediction(model_id='ZScore', score=0.046958026255622655, label=0, threshold=3, info='', source_predictions=None)]))\n",
            "(0, AnomalyResult(example=Row(f1=0.48428811274975), predictions=[AnomalyPrediction(model_id='ZScore', score=0.15212291375982484, label=0, threshold=3, info='', source_predictions=None)]))\n",
            "(0, AnomalyResult(example=Row(f1=1.3634815124261457), predictions=[AnomalyPrediction(model_id='ZScore', score=0.6252570232734944, label=0, threshold=3, info='', source_predictions=None)]))\n",
            "(0, AnomalyResult(example=Row(f1=-0.781105283625392), predictions=[AnomalyPrediction(model_id='ZScore', score=0.5463208992191825, label=0, threshold=3, info='', source_predictions=None)]))\n",
            "(0, AnomalyResult(example=Row(f1=-0.4680176663374855), predictions=[AnomalyPrediction(model_id='ZScore', score=0.3665282634758774, label=0, threshold=3, info='', source_predictions=None)]))\n",
            "(0, AnomalyResult(example=Row(f1=1.2245743551261743), predictions=[AnomalyPrediction(model_id='ZScore', score=0.5539458509597563, label=0, threshold=3, info='', source_predictions=None)]))\n",
            "(0, AnomalyResult(example=Row(f1=-1.2811082751440426), predictions=[AnomalyPrediction(model_id='ZScore', score=0.8156542964306911, label=0, threshold=3, info='', source_predictions=None)]))\n",
            "(0, AnomalyResult(example=Row(f1=0.8754755042743244), predictions=[AnomalyPrediction(model_id='ZScore', score=0.35356592469287557, label=0, threshold=3, info='', source_predictions=None)]))\n",
            "(0, AnomalyResult(example=Row(f1=-1.710715324029529), predictions=[AnomalyPrediction(model_id='ZScore', score=1.0596899051287965, label=0, threshold=3, info='', source_predictions=None)]))\n",
            "(0, AnomalyResult(example=Row(f1=-0.4507651031362744), predictions=[AnomalyPrediction(model_id='ZScore', score=0.3538930150226919, label=0, threshold=3, info='', source_predictions=None)]))\n",
            "(0, AnomalyResult(example=Row(f1=0.7491638059190651), predictions=[AnomalyPrediction(model_id='ZScore', score=0.30730259159369455, label=0, threshold=3, info='', source_predictions=None)]))\n",
            "(0, AnomalyResult(example=Row(f1=-0.20393286610125122), predictions=[AnomalyPrediction(model_id='ZScore', score=0.22855758379030414, label=0, threshold=3, info='', source_predictions=None)]))\n",
            "(0, AnomalyResult(example=Row(f1=-0.18217541166573417), predictions=[AnomalyPrediction(model_id='ZScore', score=0.21737803112527954, label=0, threshold=3, info='', source_predictions=None)]))\n",
            "(0, AnomalyResult(example=Row(f1=0.6806560043814565), predictions=[AnomalyPrediction(model_id='ZScore', score=0.25698137001275634, label=0, threshold=3, info='', source_predictions=None)]))\n",
            "(0, AnomalyResult(example=Row(f1=-1.8184989903916142), predictions=[AnomalyPrediction(model_id='ZScore', score=1.1151479508895352, label=0, threshold=3, info='', source_predictions=None)]))\n",
            "(0, AnomalyResult(example=Row(f1=0.047071635325711084), predictions=[AnomalyPrediction(model_id='ZScore', score=0.08000651467579795, label=0, threshold=3, info='', source_predictions=None)]))\n",
            "(0, AnomalyResult(example=Row(f1=0.3948442093272043), predictions=[AnomalyPrediction(model_id='ZScore', score=0.11670725369764556, label=0, threshold=3, info='', source_predictions=None)]))\n",
            "(0, AnomalyResult(example=Row(f1=-0.24843205438084665), predictions=[AnomalyPrediction(model_id='ZScore', score=0.24627797746542648, label=0, threshold=3, info='', source_predictions=None)]))\n",
            "(0, AnomalyResult(example=Row(f1=-0.6177066479970167), predictions=[AnomalyPrediction(model_id='ZScore', score=0.6876153984859985, label=0, threshold=3, info='', source_predictions=None)]))\n",
            "(0, AnomalyResult(example=Row(f1=-0.682883996449334), predictions=[AnomalyPrediction(model_id='ZScore', score=0.7561008896388753, label=0, threshold=3, info='', source_predictions=None)]))\n",
            "(0, AnomalyResult(example=Row(f1=0.4362576043409168), predictions=[AnomalyPrediction(model_id='ZScore', score=0.4176288188132138, label=0, threshold=3, info='', source_predictions=None)]))\n",
            "(0, AnomalyResult(example=Row(f1=-1.703012774113238), predictions=[AnomalyPrediction(model_id='ZScore', score=1.8045163130712079, label=0, threshold=3, info='', source_predictions=None)]))\n",
            "(0, AnomalyResult(example=Row(f1=0.3937105991386652), predictions=[AnomalyPrediction(model_id='ZScore', score=0.40348228801420416, label=0, threshold=3, info='', source_predictions=None)]))\n",
            "(0, AnomalyResult(example=Row(f1=-0.47932400357549726), predictions=[AnomalyPrediction(model_id='ZScore', score=0.5068617568213349, label=0, threshold=3, info='', source_predictions=None)]))\n",
            "(0, AnomalyResult(example=Row(f1=-0.2990162929660804), predictions=[AnomalyPrediction(model_id='ZScore', score=0.3090833170543406, label=0, threshold=3, info='', source_predictions=None)]))\n",
            "(0, AnomalyResult(example=Row(f1=0.6941032876787643), predictions=[AnomalyPrediction(model_id='ZScore', score=0.7146090604799062, label=0, threshold=3, info='', source_predictions=None)]))\n",
            "(0, AnomalyResult(example=Row(f1=0.6786296737098565), predictions=[AnomalyPrediction(model_id='ZScore', score=0.6875009438636063, label=0, threshold=3, info='', source_predictions=None)]))\n",
            "(0, AnomalyResult(example=Row(f1=0.2395559950038969), predictions=[AnomalyPrediction(model_id='ZScore', score=0.23128753933725074, label=0, threshold=3, info='', source_predictions=None)]))\n",
            "(0, AnomalyResult(example=Row(f1=0.15122662929444983), predictions=[AnomalyPrediction(model_id='ZScore', score=0.1315844751041755, label=0, threshold=3, info='', source_predictions=None)]))\n",
            "(0, AnomalyResult(example=Row(f1=0.8161272333600409), predictions=[AnomalyPrediction(model_id='ZScore', score=0.8351240101204213, label=0, threshold=3, info='', source_predictions=None)]))\n",
            "(0, AnomalyResult(example=Row(f1=1.8935344675962007), predictions=[AnomalyPrediction(model_id='ZScore', score=1.978986799673356, label=0, threshold=3, info='', source_predictions=None)]))\n",
            "(0, AnomalyResult(example=Row(f1=0.6396327631937027), predictions=[AnomalyPrediction(model_id='ZScore', score=0.635215160353883, label=0, threshold=3, info='', source_predictions=None)]))\n",
            "(0, AnomalyResult(example=Row(f1=-0.9620288319051914), predictions=[AnomalyPrediction(model_id='ZScore', score=1.0352247485116455, label=0, threshold=3, info='', source_predictions=None)]))\n",
            "(0, AnomalyResult(example=Row(f1=-2.0852656421201097), predictions=[AnomalyPrediction(model_id='ZScore', score=2.1888955301532866, label=0, threshold=3, info='', source_predictions=None)]))\n",
            "(0, AnomalyResult(example=Row(f1=1.9302467674655757), predictions=[AnomalyPrediction(model_id='ZScore', score=1.9625798752962273, label=0, threshold=3, info='', source_predictions=None)]))\n",
            "(0, AnomalyResult(example=Row(f1=-1.7353488744703927), predictions=[AnomalyPrediction(model_id='ZScore', score=1.751103991146656, label=0, threshold=3, info='', source_predictions=None)]))\n",
            "(0, AnomalyResult(example=Row(f1=1.2103837049045143), predictions=[AnomalyPrediction(model_id='ZScore', score=1.1982796961206257, label=0, threshold=3, info='', source_predictions=None)]))\n",
            "(0, AnomalyResult(example=Row(f1=0.7974354194278735), predictions=[AnomalyPrediction(model_id='ZScore', score=0.8202618135913629, label=0, threshold=3, info='', source_predictions=None)]))\n",
            "(0, AnomalyResult(example=Row(f1=-0.379810784047379), predictions=[AnomalyPrediction(model_id='ZScore', score=0.37138770052360875, label=0, threshold=3, info='', source_predictions=None)]))\n",
            "(0, AnomalyResult(example=Row(f1=0.7025622240016004), predictions=[AnomalyPrediction(model_id='ZScore', score=0.7138314368309728, label=0, threshold=3, info='', source_predictions=None)]))\n",
            "(0, AnomalyResult(example=Row(f1=-0.850346271655115), predictions=[AnomalyPrediction(model_id='ZScore', score=0.8508571923310854, label=0, threshold=3, info='', source_predictions=None)]))\n",
            "(0, AnomalyResult(example=Row(f1=1.1768124501049289), predictions=[AnomalyPrediction(model_id='ZScore', score=1.1902297267520652, label=0, threshold=3, info='', source_predictions=None)]))\n",
            "(0, AnomalyResult(example=Row(f1=15.388712735779308), predictions=[AnomalyPrediction(model_id='ZScore', score=15.583924262386502, label=1, threshold=3, info='', source_predictions=None)]))\n",
            "(0, AnomalyResult(example=Row(f1=0.7009077309156047), predictions=[AnomalyPrediction(model_id='ZScore', score=0.28405291705170704, label=0, threshold=3, info='', source_predictions=None)]))\n",
            "(0, AnomalyResult(example=Row(f1=0.9841880707224154), predictions=[AnomalyPrediction(model_id='ZScore', score=0.4347526290904622, label=0, threshold=3, info='', source_predictions=None)]))\n",
            "(0, AnomalyResult(example=Row(f1=-0.12172840866682022), predictions=[AnomalyPrediction(model_id='ZScore', score=0.1769163783812582, label=0, threshold=3, info='', source_predictions=None)]))\n",
            "(0, AnomalyResult(example=Row(f1=2.365768628840039), predictions=[AnomalyPrediction(model_id='ZScore', score=1.1912965953389854, label=0, threshold=3, info='', source_predictions=None)]))\n",
            "(0, AnomalyResult(example=Row(f1=0.4961429262475947), predictions=[AnomalyPrediction(model_id='ZScore', score=0.15363235185044066, label=0, threshold=3, info='', source_predictions=None)]))\n",
            "(0, AnomalyResult(example=Row(f1=0.7965948666649523), predictions=[AnomalyPrediction(model_id='ZScore', score=0.31918883836489664, label=0, threshold=3, info='', source_predictions=None)]))\n",
            "(0, AnomalyResult(example=Row(f1=-0.4740208901256851), predictions=[AnomalyPrediction(model_id='ZScore', score=0.3863346921910161, label=0, threshold=3, info='', source_predictions=None)]))\n",
            "(0, AnomalyResult(example=Row(f1=-0.05669571649092953), predictions=[AnomalyPrediction(model_id='ZScore', score=0.16386064871784173, label=0, threshold=3, info='', source_predictions=None)]))\n",
            "(0, AnomalyResult(example=Row(f1=1.3577972581070583), predictions=[AnomalyPrediction(model_id='ZScore', score=0.6115605735165279, label=0, threshold=3, info='', source_predictions=None)]))\n",
            "(0, AnomalyResult(example=Row(f1=-0.8048337241667037), predictions=[AnomalyPrediction(model_id='ZScore', score=0.5843054167288138, label=0, threshold=3, info='', source_predictions=None)]))\n",
            "(0, AnomalyResult(example=Row(f1=-2.12362024909293), predictions=[AnomalyPrediction(model_id='ZScore', score=1.3013293761204439, label=0, threshold=3, info='', source_predictions=None)]))\n",
            "(0, AnomalyResult(example=Row(f1=-0.33350244043324745), predictions=[AnomalyPrediction(model_id='ZScore', score=0.30585146300324656, label=0, threshold=3, info='', source_predictions=None)]))\n",
            "(0, AnomalyResult(example=Row(f1=-0.886719352485378), predictions=[AnomalyPrediction(model_id='ZScore', score=0.6041475567904586, label=0, threshold=3, info='', source_predictions=None)]))\n",
            "(0, AnomalyResult(example=Row(f1=0.33419793089900884), predictions=[AnomalyPrediction(model_id='ZScore', score=0.06575719776060454, label=0, threshold=3, info='', source_predictions=None)]))\n",
            "(0, AnomalyResult(example=Row(f1=0.5367838249027502), predictions=[AnomalyPrediction(model_id='ZScore', score=0.182484855975245, label=0, threshold=3, info='', source_predictions=None)]))\n",
            "(0, AnomalyResult(example=Row(f1=-0.7438303679362013), predictions=[AnomalyPrediction(model_id='ZScore', score=0.5219255114200079, label=0, threshold=3, info='', source_predictions=None)]))\n",
            "(0, AnomalyResult(example=Row(f1=-0.3202038822408791), predictions=[AnomalyPrediction(model_id='ZScore', score=0.28748803679244855, label=0, threshold=3, info='', source_predictions=None)]))\n",
            "(0, AnomalyResult(example=Row(f1=-0.9161988612665409), predictions=[AnomalyPrediction(model_id='ZScore', score=0.6076006715778028, label=0, threshold=3, info='', source_predictions=None)]))\n",
            "(0, AnomalyResult(example=Row(f1=-0.8596682999817407), predictions=[AnomalyPrediction(model_id='ZScore', score=0.5721427407897217, label=0, threshold=3, info='', source_predictions=None)]))\n",
            "(0, AnomalyResult(example=Row(f1=0.22598548673375538), predictions=[AnomalyPrediction(model_id='ZScore', score=0.026696602511243978, label=0, threshold=3, info='', source_predictions=None)]))\n",
            "(0, AnomalyResult(example=Row(f1=0.6287758265382943), predictions=[AnomalyPrediction(model_id='ZScore', score=0.23304688339569277, label=0, threshold=3, info='', source_predictions=None)]))\n",
            "(0, AnomalyResult(example=Row(f1=0.18649434877307466), predictions=[AnomalyPrediction(model_id='ZScore', score=0.0013572519161170313, label=0, threshold=3, info='', source_predictions=None)]))\n",
            "(0, AnomalyResult(example=Row(f1=0.9524783451091219), predictions=[AnomalyPrediction(model_id='ZScore', score=0.41373647492416166, label=0, threshold=3, info='', source_predictions=None)]))\n",
            "(0, AnomalyResult(example=Row(f1=0.9881375825933089), predictions=[AnomalyPrediction(model_id='ZScore', score=0.42895067978128076, label=0, threshold=3, info='', source_predictions=None)]))\n",
            "(0, AnomalyResult(example=Row(f1=-0.07260831396267549), predictions=[AnomalyPrediction(model_id='ZScore', score=0.15700783221461978, label=0, threshold=3, info='', source_predictions=None)]))\n",
            "(0, AnomalyResult(example=Row(f1=-0.5506029235634193), predictions=[AnomalyPrediction(model_id='ZScore', score=0.4247675519785173, label=0, threshold=3, info='', source_predictions=None)]))\n",
            "(0, AnomalyResult(example=Row(f1=-0.9381526140931042), predictions=[AnomalyPrediction(model_id='ZScore', score=0.6324017661871134, label=0, threshold=3, info='', source_predictions=None)]))\n",
            "(0, AnomalyResult(example=Row(f1=-1.2390715625947926), predictions=[AnomalyPrediction(model_id='ZScore', score=0.7879083282287695, label=0, threshold=3, info='', source_predictions=None)]))\n",
            "(0, AnomalyResult(example=Row(f1=0.13968327403129469), predictions=[AnomalyPrediction(model_id='ZScore', score=0.019617805200842532, label=0, threshold=3, info='', source_predictions=None)]))\n",
            "(0, AnomalyResult(example=Row(f1=-0.22301898188247601), predictions=[AnomalyPrediction(model_id='ZScore', score=0.22484780891548337, label=0, threshold=3, info='', source_predictions=None)]))\n",
            "(0, AnomalyResult(example=Row(f1=2.123691888593553), predictions=[AnomalyPrediction(model_id='ZScore', score=1.082425000183758, label=0, threshold=3, info='', source_predictions=None)]))\n",
            "(0, AnomalyResult(example=Row(f1=0.12227343425882888), predictions=[AnomalyPrediction(model_id='ZScore', score=0.033214045426080495, label=0, threshold=3, info='', source_predictions=None)]))\n",
            "(0, AnomalyResult(example=Row(f1=-1.4094317399227687), predictions=[AnomalyPrediction(model_id='ZScore', score=0.8836646968095554, label=0, threshold=3, info='', source_predictions=None)]))\n",
            "(0, AnomalyResult(example=Row(f1=1.4229859527722433), predictions=[AnomalyPrediction(model_id='ZScore', score=0.6846205070900321, label=0, threshold=3, info='', source_predictions=None)]))\n",
            "(0, AnomalyResult(example=Row(f1=-2.14785503764361), predictions=[AnomalyPrediction(model_id='ZScore', score=1.2790663549329329, label=0, threshold=3, info='', source_predictions=None)]))\n",
            "(0, AnomalyResult(example=Row(f1=-1.347532513457755), predictions=[AnomalyPrediction(model_id='ZScore', score=0.8201315000266478, label=0, threshold=3, info='', source_predictions=None)]))\n",
            "(0, AnomalyResult(example=Row(f1=0.3635645568066484), predictions=[AnomalyPrediction(model_id='ZScore', score=0.09870617314654444, label=0, threshold=3, info='', source_predictions=None)]))\n",
            "(0, AnomalyResult(example=Row(f1=-0.014752111804594866), predictions=[AnomalyPrediction(model_id='ZScore', score=0.10529816370866457, label=0, threshold=3, info='', source_predictions=None)]))\n",
            "(0, AnomalyResult(example=Row(f1=1.2723950785462097), predictions=[AnomalyPrediction(model_id='ZScore', score=0.6083794892376571, label=0, threshold=3, info='', source_predictions=None)]))\n",
            "(0, AnomalyResult(example=Row(f1=-1.4495666088633876), predictions=[AnomalyPrediction(model_id='ZScore', score=0.9033447511354218, label=0, threshold=3, info='', source_predictions=None)]))\n",
            "(0, AnomalyResult(example=Row(f1=-1.1955237416669708), predictions=[AnomalyPrediction(model_id='ZScore', score=0.754642615302219, label=0, threshold=3, info='', source_predictions=None)]))\n",
            "(0, AnomalyResult(example=Row(f1=-0.591862973147249), predictions=[AnomalyPrediction(model_id='ZScore', score=0.41041168742205497, label=0, threshold=3, info='', source_predictions=None)]))\n",
            "(0, AnomalyResult(example=Row(f1=-0.4145048435321895), predictions=[AnomalyPrediction(model_id='ZScore', score=0.30435533691732936, label=0, threshold=3, info='', source_predictions=None)]))\n",
            "(0, AnomalyResult(example=Row(f1=-1.4257947334380214), predictions=[AnomalyPrediction(model_id='ZScore', score=0.8560840838296526, label=0, threshold=3, info='', source_predictions=None)]))\n",
            "(0, AnomalyResult(example=Row(f1=0.2093947875359238), predictions=[AnomalyPrediction(model_id='ZScore', score=0.057741689179059544, label=0, threshold=3, info='', source_predictions=None)]))\n",
            "(0, AnomalyResult(example=Row(f1=-0.5928860038389254), predictions=[AnomalyPrediction(model_id='ZScore', score=0.38324400827792965, label=0, threshold=3, info='', source_predictions=None)]))\n",
            "(0, AnomalyResult(example=Row(f1=-1.4731164134656474), predictions=[AnomalyPrediction(model_id='ZScore', score=0.8649311713106551, label=0, threshold=3, info='', source_predictions=None)]))\n",
            "(0, AnomalyResult(example=Row(f1=-0.896580615301871), predictions=[AnomalyPrediction(model_id='ZScore', score=0.5452133489030104, label=0, threshold=3, info='', source_predictions=None)]))\n",
            "(0, AnomalyResult(example=Row(f1=1.1043515698603126), predictions=[AnomalyPrediction(model_id='ZScore', score=0.5517347569788387, label=0, threshold=3, info='', source_predictions=None)]))\n",
            "(0, AnomalyResult(example=Row(f1=-0.43154951551604476), predictions=[AnomalyPrediction(model_id='ZScore', score=0.2899907182443478, label=0, threshold=3, info='', source_predictions=None)]))\n",
            "(0, AnomalyResult(example=Row(f1=-0.16113690824405888), predictions=[AnomalyPrediction(model_id='ZScore', score=0.14018160801285806, label=0, threshold=3, info='', source_predictions=None)]))\n",
            "(0, AnomalyResult(example=Row(f1=0.8891574940728737), predictions=[AnomalyPrediction(model_id='ZScore', score=0.4329219746718556, label=0, threshold=3, info='', source_predictions=None)]))\n",
            "(0, AnomalyResult(example=Row(f1=0.2883768477152654), predictions=[AnomalyPrediction(model_id='ZScore', score=0.10246964889583705, label=0, threshold=3, info='', source_predictions=None)]))\n",
            "(0, AnomalyResult(example=Row(f1=-1.0515389375700381), predictions=[AnomalyPrediction(model_id='ZScore', score=0.6382144350983645, label=0, threshold=3, info='', source_predictions=None)]))\n"
          ]
        }
      ]
    },
    {
      "cell_type": "markdown",
      "source": [
        "## Streaming Data"
      ],
      "metadata": {
        "id": "Y5M2huOUzuAM"
      },
      "id": "Y5M2huOUzuAM"
    },
    {
      "cell_type": "markdown",
      "id": "0064575d-5e60-4f8b-a970-9dc39db8d331",
      "metadata": {
        "id": "0064575d-5e60-4f8b-a970-9dc39db8d331"
      },
      "source": [
        "### Generating Synthetic Data with Concept Drift"
      ]
    },
    {
      "cell_type": "code",
      "execution_count": null,
      "id": "37c1613e-e2ef-4f2c-8999-cce01563e180",
      "metadata": {
        "id": "37c1613e-e2ef-4f2c-8999-cce01563e180"
      },
      "outputs": [],
      "source": [
        "# The size of a segment in the synthetic data set. Each segment represents\n",
        "# a collection of data points generated from either a fixed distribution\n",
        "# or a drift from one distribution to another.\n",
        "# The idea is inspired by https://github.com/yixiaoma666/SCAR.\n",
        "seg_size = 200\n",
        "\n",
        "# The ratio of global outliers introduced in the synthetic data set.\n",
        "outlier_ratio = 0.01\n",
        "\n",
        "# Random seed\n",
        "seed = 1234\n",
        "\n",
        "np.random.seed(seed)\n",
        "\n",
        "# starting from a fixed distribution\n",
        "data_seg1 = np.random.normal(loc=0, scale=1, size=seg_size)\n",
        "\n",
        "# a sudden change between data_seg1 and data_seg2\n",
        "data_seg2 = np.random.normal(loc=3, scale=3, size=seg_size)\n",
        "\n",
        "# a gradual change in data_seg3\n",
        "data_seg3 = []\n",
        "for i in range(seg_size):\n",
        "    prob = 1 - 1.0 * i / seg_size\n",
        "    c = np.random.choice(2, 1, p = [prob, 1 - prob])\n",
        "    if c == 0:\n",
        "        data_seg3.append(np.random.normal(loc=3, scale=3, size=1))\n",
        "    else:\n",
        "        data_seg3.append(np.random.normal(loc=0, scale=1, size=1))\n",
        "data_seg3 = np.array(data_seg3).ravel()\n",
        "\n",
        "# an incremental change in data_seg4\n",
        "data_seg4 = []\n",
        "for i in range(seg_size):\n",
        "    loc = 0 + 3.0 * i / seg_size\n",
        "    scale = 1 + 2.0 * i / seg_size\n",
        "    data_seg4.append(np.random.normal(loc=loc, scale=scale, size=1))\n",
        "data_seg4 = np.array(data_seg4).ravel()\n",
        "\n",
        "# back to a fixed distribution\n",
        "data_seg5 = np.random.normal(loc=3, scale=3, size=seg_size)\n",
        "\n",
        "data = np.concatenate((data_seg1, data_seg2, data_seg3, data_seg4, data_seg5))\n",
        "\n",
        "# adding outliers\n",
        "outlier_idx = np.random.choice(len(data), size=int(outlier_ratio * len(data)), replace = False)\n",
        "\n",
        "for idx in outlier_idx:\n",
        "    data[idx] = np.random.normal(loc=15, scale=1, size=1).item()\n",
        "\n",
        "df = pd.Series(data, name='f1')"
      ]
    },
    {
      "cell_type": "code",
      "execution_count": null,
      "id": "8e6f4f59-c6e5-4991-84d9-14eab18eb699",
      "metadata": {
        "id": "8e6f4f59-c6e5-4991-84d9-14eab18eb699"
      },
      "outputs": [],
      "source": [
        "plt.figure(figsize=(12, 4))\n",
        "plt.xlim(0, 1000)\n",
        "plt.ylim(-10, 20)\n",
        "plt.scatter(x=range(len(df)), y=df, s=2)"
      ]
    },
    {
      "cell_type": "markdown",
      "id": "32e7cdf4-a795-47d1-b5f1-9ae5e924a427",
      "metadata": {
        "id": "32e7cdf4-a795-47d1-b5f1-9ae5e924a427"
      },
      "source": [
        "### Setting Up Input/Output Pubsubs"
      ]
    },
    {
      "cell_type": "code",
      "execution_count": null,
      "id": "11017009-f97e-4805-9cbb-6a9d4ddb68d3",
      "metadata": {
        "id": "11017009-f97e-4805-9cbb-6a9d4ddb68d3"
      },
      "outputs": [],
      "source": [
        "def create_topic_if_not_exists(project_id:str, topic_name:str, enable_message_ordering=False):\n",
        "    if enable_message_ordering:\n",
        "        # see https://cloud.google.com/pubsub/docs/ordering#python for details.\n",
        "        publisher_options = pubsub_v1.types.PublisherOptions(enable_message_ordering=True)\n",
        "        # Sending messages to the same region ensures they are received in order\n",
        "        client_options = {\"api_endpoint\": \"us-east1-pubsub.googleapis.com:443\"}\n",
        "        publisher = pubsub_v1.PublisherClient(publisher_options=publisher_options, client_options=client_options)\n",
        "    else:\n",
        "        publisher = pubsub_v1.PublisherClient()\n",
        "\n",
        "    topic_path = publisher.topic_path(project_id, topic_name)\n",
        "    try:\n",
        "        topic = publisher.create_topic(request={\"name\": topic_path})\n",
        "        print(f\"Created topic: {topic.name}\")\n",
        "    except AlreadyExists:\n",
        "        print(f\"Topic {topic_path} already exists.\")\n",
        "\n",
        "    return publisher\n",
        "\n",
        "def create_subscription_if_not_exists(project_id:str, subscription_name:str, topic_name: str, enable_message_ordering=False):\n",
        "    topic_path = pubsub_v1.PublisherClient.topic_path(project_id, topic_name)\n",
        "    subscriber = pubsub_v1.SubscriberClient()\n",
        "    subscription_path = subscriber.subscription_path(project_id, subscription_name)\n",
        "    try:\n",
        "        subscription = subscriber.create_subscription(\n",
        "            request={\"name\": subscription_path, \"topic\": topic_path, \"enable_message_ordering\": enable_message_ordering}\n",
        "        )\n",
        "        print(f\"Created subscription: {subscription.name}\")\n",
        "    except AlreadyExists:\n",
        "        print(f\"Subscription {subscription_path} already exists.\")\n",
        "\n",
        "    return subscriber"
      ]
    },
    {
      "cell_type": "code",
      "execution_count": null,
      "id": "66784c36-9f9e-410e-850b-3b8da29ff5ce",
      "metadata": {
        "id": "66784c36-9f9e-410e-850b-3b8da29ff5ce"
      },
      "outputs": [],
      "source": [
        "# for input data\n",
        "input_publisher = create_topic_if_not_exists(PROJECT_ID, INPUT_TOPIC, True)\n",
        "create_subscription_if_not_exists(PROJECT_ID, INPUT_SUB, INPUT_TOPIC, True)\n",
        "\n",
        "# for output data\n",
        "create_topic_if_not_exists(PROJECT_ID, OUTPUT_TOPIC)\n",
        "output_subscriber = create_subscription_if_not_exists(PROJECT_ID, OUTPUT_SUB, OUTPUT_TOPIC)"
      ]
    },
    {
      "cell_type": "markdown",
      "id": "dc4afa04-fb39-40cd-a8d7-f9d1c461648a",
      "metadata": {
        "id": "dc4afa04-fb39-40cd-a8d7-f9d1c461648a"
      },
      "source": [
        "### Publishing Input to Pub/Sub"
      ]
    },
    {
      "cell_type": "code",
      "execution_count": null,
      "id": "907f2469-1687-4ef3-bafd-9c4ec963b7e9",
      "metadata": {
        "id": "907f2469-1687-4ef3-bafd-9c4ec963b7e9"
      },
      "outputs": [],
      "source": [
        "def publish_data(publisher, project_id: str, topic: str, data: Iterable[Any], delay=0.01, enable_message_ordering=False) -> None:\n",
        "    topic_path = publisher.topic_path(project_id, topic)\n",
        "    for i in range(len(data)):\n",
        "        kv = {\"f1\": data.iloc[i]}\n",
        "        kv[\"id\"] = i  # add event id\n",
        "        msg = json.dumps(kv).encode('utf-8')\n",
        "        if enable_message_ordering:\n",
        "            # set ordering key to a fixed string so messages with the same ordering key will be published in order\n",
        "            publisher.publish(topic_path, data=msg, ordering_key=\"my-order-key\")\n",
        "        else:\n",
        "            publisher.publish(topic_path, data=msg)\n",
        "        time.sleep(delay)\n",
        "\n",
        "publisher_thread = threading.Thread(\n",
        "    target=publish_data,\n",
        "    args=(input_publisher, PROJECT_ID, INPUT_TOPIC, df, 0.001, True),\n",
        ")\n",
        "publisher_thread.start()\n",
        "print(f\"Started to publish data to {INPUT_TOPIC}\")"
      ]
    },
    {
      "cell_type": "markdown",
      "source": [
        "### Launching the Beam Pipeline"
      ],
      "metadata": {
        "id": "9RjcaxzDN5Tv"
      },
      "id": "9RjcaxzDN5Tv"
    },
    {
      "cell_type": "code",
      "execution_count": null,
      "id": "6e8b069d-9d94-4938-a87e-bd5f9f7620c0",
      "metadata": {
        "scrolled": true,
        "id": "6e8b069d-9d94-4938-a87e-bd5f9f7620c0"
      },
      "outputs": [],
      "source": [
        "def message_to_beam_row(msg: bytes) -> beam.Row:\n",
        "    try:\n",
        "        r = beam.Row(**json.loads(msg.decode('utf-8')))\n",
        "    except Exception as e:\n",
        "        print(\"Wrong msg: %s\" % msg)\n",
        "        print(e)\n",
        "    return r\n",
        "\n",
        "def keyed_result_to_message(t: Tuple[Any, AnomalyResult]) -> bytes:\n",
        "    idx = t[1].example.id\n",
        "    value = t[1].example.f1\n",
        "    label = next(iter(t[1].predictions)).label\n",
        "    return json.dumps({\"id\":idx, \"value\": value, \"label\": label}).encode('utf-8')\n",
        "\n",
        "def run_beam_pipeline():\n",
        "    input_sub = pubsub_v1.SubscriberClient.subscription_path(PROJECT_ID, INPUT_SUB)\n",
        "    output_topic = pubsub_v1.PublisherClient.topic_path(PROJECT_ID, OUTPUT_TOPIC)\n",
        "\n",
        "    options = PipelineOptions([\"--streaming\"])\n",
        "    with beam.Pipeline(options=options) as p:\n",
        "        _ = (p | beam.io.ReadFromPubSub(subscription=input_sub)\n",
        "            | \"Convert Pubsub Messages to Rows\" >> beam.Map(message_to_beam_row).with_output_types(beam.Row)\n",
        "            | \"Add key\" >> beam.Map(lambda x: (0, x)).with_output_types(Tuple[int, beam.Row])\n",
        "            | AnomalyDetection(ZScore(features=[\"f1\"], sub_stat_tracker=IncSlidingMeanTracker(100),\n",
        "                                stdev_tracker=IncSlidingStdevTracker(100)))\n",
        "            | \"Convert output to Pubsub Messages\" >> beam.Map(keyed_result_to_message)\n",
        "            | beam.io.WriteToPubSub(topic=output_topic, with_attributes=False)\n",
        "        )\n",
        "\n",
        "pipeline_thread = threading.Thread(\n",
        "    target=run_beam_pipeline,\n",
        ")\n",
        "\n",
        "pipeline_thread.start()\n",
        "print(f\"Started to run beam pipeline for anomaly detection\")"
      ]
    },
    {
      "cell_type": "markdown",
      "id": "1b785e34-a035-4148-9b58-f364ce0aed08",
      "metadata": {
        "id": "1b785e34-a035-4148-9b58-f364ce0aed08"
      },
      "source": [
        "### Collecting Results and Plotting"
      ]
    },
    {
      "cell_type": "code",
      "execution_count": null,
      "id": "e4ca8af3-d74c-4d95-aeba-c34cb791525f",
      "metadata": {
        "id": "e4ca8af3-d74c-4d95-aeba-c34cb791525f"
      },
      "outputs": [],
      "source": [
        "x = []\n",
        "y = []\n",
        "c = []"
      ]
    },
    {
      "cell_type": "code",
      "execution_count": null,
      "id": "b6bf369f-2b20-4834-b457-e9b1f0a596ca",
      "metadata": {
        "id": "b6bf369f-2b20-4834-b457-e9b1f0a596ca"
      },
      "outputs": [],
      "source": [
        "def collect_result(subscriber):\n",
        "    subscription_path = pubsub_v1.SubscriberClient.subscription_path(PROJECT_ID, OUTPUT_SUB)\n",
        "\n",
        "    NUM_MESSAGES = 100\n",
        "    while True:\n",
        "        response = subscriber.pull(\n",
        "            request={\"subscription\": subscription_path, \"max_messages\": NUM_MESSAGES},\n",
        "            retry=retry.Retry(deadline=300),\n",
        "        )\n",
        "\n",
        "        ack_ids = []\n",
        "        for received_message in response.received_messages:\n",
        "            ack_ids.append(received_message.ack_id)\n",
        "            msg = json.loads(received_message.message.data.decode('utf-8'))\n",
        "            x.append(msg['id'])\n",
        "            y.append(msg['value'])\n",
        "            c.append('red' if msg['label'] == 1 else 'green')\n",
        "\n",
        "        if len(ack_ids) > 0:\n",
        "            # Acknowledges the received messages so they will not be sent again.\n",
        "            subscriber.acknowledge(\n",
        "                request={\"subscription\": subscription_path, \"ack_ids\": ack_ids}\n",
        "            )\n",
        "\n",
        "result_thread = threading.Thread(\n",
        "    target=collect_result,\n",
        "    args=(output_subscriber,),\n",
        ")\n",
        "\n",
        "result_thread.start()"
      ]
    },
    {
      "cell_type": "code",
      "execution_count": null,
      "id": "a3433ea1-70ae-408d-84b2-27118a3fd898",
      "metadata": {
        "id": "a3433ea1-70ae-408d-84b2-27118a3fd898"
      },
      "outputs": [],
      "source": [
        "print(len(x))"
      ]
    },
    {
      "cell_type": "code",
      "execution_count": null,
      "id": "31f24bfc-b91d-4e67-b804-732dc65e7525",
      "metadata": {
        "id": "31f24bfc-b91d-4e67-b804-732dc65e7525"
      },
      "outputs": [],
      "source": [
        "# Refresh this cell as more results will be retrieved from the output pubsub\n",
        "\n",
        "matplotlib.rcParams['animation.embed_limit'] = 300\n",
        "\n",
        "data = np.array(list(zip(x,y)))\n",
        "\n",
        "fig, ax = plt.subplots()\n",
        "fig.set_size_inches(12, 4)\n",
        "\n",
        "ax.axis([0,1000,-10,20])\n",
        "l = ax.scatter([],[])\n",
        "l.set_sizes([3])\n",
        "\n",
        "def animate(i):\n",
        "    i = i * 10\n",
        "    l.set_offsets(data[:i+1])\n",
        "    l.set_color(c)\n",
        "\n",
        "plt.close() # to avoid extra frame after animation\n",
        "\n",
        "ani = matplotlib.animation.FuncAnimation(fig, animate, frames=int(len(x)/10), interval=50, repeat=False)\n",
        "display(HTML(ani.to_jshtml()))\n",
        "time.sleep(1)\n",
        "\n",
        "# auto start the animation\n",
        "Javascript('document.querySelector(\".anim-buttons > button:nth-child(6)\").click()')"
      ]
    },
    {
      "cell_type": "markdown",
      "id": "304dac43-2f3b-4a7b-861a-39666bc258c9",
      "metadata": {
        "id": "304dac43-2f3b-4a7b-861a-39666bc258c9"
      },
      "source": [
        "### Cleaning Up Pub/Sub Resources"
      ]
    },
    {
      "cell_type": "code",
      "execution_count": null,
      "id": "350b8b1a-3010-4ecd-924f-010308bb5eb2",
      "metadata": {
        "id": "350b8b1a-3010-4ecd-924f-010308bb5eb2"
      },
      "outputs": [],
      "source": [
        "# deleting input and output subscriptions\n",
        "subscriber = pubsub_v1.SubscriberClient()\n",
        "with subscriber:\n",
        "    try:\n",
        "        subscription_path = subscriber.subscription_path(PROJECT_ID, INPUT_SUB)\n",
        "        subscriber.delete_subscription(request={\"subscription\": subscription_path})\n",
        "        print(f\"Input subscription deleted: {subscription_path}.\")\n",
        "    except NotFound:\n",
        "        pass\n",
        "\n",
        "    try:\n",
        "        subscription_path = subscriber.subscription_path(PROJECT_ID, OUTPUT_SUB)\n",
        "        subscriber.delete_subscription(request={\"subscription\": subscription_path})\n",
        "        print(f\"Output subscription deleted: {subscription_path}.\")\n",
        "    except NotFound:\n",
        "        pass"
      ]
    },
    {
      "cell_type": "code",
      "execution_count": null,
      "id": "10dc95cf-94ab-4a51-882b-88559340d4d2",
      "metadata": {
        "id": "10dc95cf-94ab-4a51-882b-88559340d4d2"
      },
      "outputs": [],
      "source": [
        "# deleting input and output topics\n",
        "publisher = pubsub_v1.PublisherClient()\n",
        "with publisher:\n",
        "    try:\n",
        "        topic_path = publisher.topic_path(PROJECT_ID, INPUT_TOPIC)\n",
        "        publisher.delete_topic(request={\"topic\": topic_path})\n",
        "        print(f\"Input topic deleted: {topic_path}\")\n",
        "    except NotFound:\n",
        "        pass\n",
        "\n",
        "    try:\n",
        "        topic_path = publisher.topic_path(PROJECT_ID, OUTPUT_TOPIC)\n",
        "        publisher.delete_topic(request={\"topic\": topic_path})\n",
        "        print(f\"Output topic deleted: {topic_path}\")\n",
        "    except NotFound:\n",
        "        pass"
      ]
    }
  ],
  "metadata": {
    "kernelspec": {
      "display_name": "Python 3 (ipykernel)",
      "language": "python",
      "name": "python3"
    },
    "language_info": {
      "codemirror_mode": {
        "name": "ipython",
        "version": 3
      },
      "file_extension": ".py",
      "mimetype": "text/x-python",
      "name": "python",
      "nbconvert_exporter": "python",
      "pygments_lexer": "ipython3",
      "version": "3.12.8"
    },
    "colab": {
      "provenance": [],
      "toc_visible": true
    }
  },
  "nbformat": 4,
  "nbformat_minor": 5
}