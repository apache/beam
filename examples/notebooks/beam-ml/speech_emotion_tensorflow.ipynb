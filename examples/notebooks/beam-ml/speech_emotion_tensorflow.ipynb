{
  "cells": [
    {
      "cell_type": "code",
      "execution_count": null,
      "metadata": {
        "id": "kNv8XQ6-TM7W"
      },
      "outputs": [],
      "source": [
        "# @title ###### Licensed to the Apache Software Foundation (ASF), Version 2.0 (the \"License\")\n",
        "\n",
        "# Licensed to the Apache Software Foundation (ASF) under one\n",
        "# or more contributor license agreements. See the NOTICE file\n",
        "# distributed with this work for additional information\n",
        "# regarding copyright ownership. The ASF licenses this file\n",
        "# to you under the Apache License, Version 2.0 (the\n",
        "# \"License\"); you may not use this file except in compliance\n",
        "# with the License. You may obtain a copy of the License at\n",
        "#\n",
        "#   http://www.apache.org/licenses/LICENSE-2.0\n",
        "#\n",
        "# Unless required by applicable law or agreed to in writing,\n",
        "# software distributed under the License is distributed on an\n",
        "# \"AS IS\" BASIS, WITHOUT WARRANTIES OR CONDITIONS OF ANY\n",
        "# KIND, either express or implied. See the License for the\n",
        "# specific language governing permissions and limitations\n",
        "# under the License"
      ]
    },
    {
      "cell_type": "markdown",
      "metadata": {
        "id": "pjsWzeiITPd6"
      },
      "source": [
        "# Speech Emotion Recognition using Apache Beam\n",
        "\n",
        "<table align=\"left\">\n",
        "  <td>\n",
        "    <a target=\"_blank\" href=\"https://colab.sandbox.google.com/github/apache/beam/blob/master/examples/notebooks/beam-ml/speech_emotion_tensorflow.ipynb\"><img src=\"https://raw.githubusercontent.com/google/or-tools/main/tools/colab_32px.png\" />Run in Google Colab</a>\n",
        "  </td>\n",
        "  <td>\n",
        "    <a target=\"_blank\" href=\"https://github.com/apache/beam/blob/master/examples/notebooks/beam-ml/speech_emotion_tensorflow.ipynb\"><img src=\"https://raw.githubusercontent.com/google/or-tools/main/tools/github_32px.png\" />View source on GitHub</a>\n",
        "  </td>\n",
        "</table>"
      ]
    },
    {
      "cell_type": "markdown",
      "metadata": {
        "id": "h3nLfqdsTZdZ"
      },
      "source": [
        "Speech Emotion Classification is a machine learning technique that deciphers emotions from audio data. It involves data augmentation, feature extraction, preprocessing and training an appropriate model. For structured workflow design, Apache Beam is a suitable tool. This notebook showcases Apache Beam's use in speech emotion classification and achieves the following:\n",
        "\n",
        "* Imports and processes the CREMA-D dataset for speech emotion analysis.\n",
        "* Perform various data augmentation and feature extraction techniques using the [Librosa](https://librosa.org/doc/latest/index.html) library.\n",
        "* Develops a TensorFlow model to classify emotions.\n",
        "* Stores the trained model.\n",
        "* Constructs a Beam pipeline that:\n",
        " * Creates a PCollection of audio samples.\n",
        " * Applies preprocessing transforms.\n",
        " * Utilizes the trained model to predict emotions.\n",
        " * Stores the emotion predictions.\n",
        "\n",
        "For more insights into leveraging Apache Beam for machine learning pipelines, explore [AI/ML Pipelines using Beam](https://beam.apache.org/documentation/ml/overview/)."
      ]
    },
    {
      "cell_type": "markdown",
      "metadata": {
        "id": "s9xU1ws-DZwp"
      },
      "source": [
        "## Installing Apache Beam"
      ]
    },
    {
      "cell_type": "code",
      "execution_count": null,
      "metadata": {
        "id": "RbByEyZPMgbw",
        "colab": {
          "base_uri": "https://localhost:8080/"
        },
        "outputId": "60db9d24-a8f5-4c40-dd6e-66878b7ce76b"
      },
      "outputs": [
        {
          "output_type": "stream",
          "name": "stdout",
          "text": [
            "\u001b[2K     \u001b[90m━━━━━━━━━━━━━━━━━━━━━━━━━━━━━━━━━━━━━━━━\u001b[0m \u001b[32m14.6/14.6 MB\u001b[0m \u001b[31m89.2 MB/s\u001b[0m eta \u001b[36m0:00:00\u001b[0m\n",
            "\u001b[2K     \u001b[90m━━━━━━━━━━━━━━━━━━━━━━━━━━━━━━━━━━━━━━━━\u001b[0m \u001b[32m89.7/89.7 kB\u001b[0m \u001b[31m10.9 MB/s\u001b[0m eta \u001b[36m0:00:00\u001b[0m\n",
            "\u001b[?25h  Preparing metadata (setup.py) ... \u001b[?25l\u001b[?25hdone\n",
            "\u001b[2K     \u001b[90m━━━━━━━━━━━━━━━━━━━━━━━━━━━━━━━━━━━━━━\u001b[0m \u001b[32m139.9/139.9 kB\u001b[0m \u001b[31m17.8 MB/s\u001b[0m eta \u001b[36m0:00:00\u001b[0m\n",
            "\u001b[2K     \u001b[90m━━━━━━━━━━━━━━━━━━━━━━━━━━━━━━━━━━━━━━\u001b[0m \u001b[32m152.0/152.0 kB\u001b[0m \u001b[31m19.3 MB/s\u001b[0m eta \u001b[36m0:00:00\u001b[0m\n",
            "\u001b[?25h  Preparing metadata (setup.py) ... \u001b[?25l\u001b[?25hdone\n",
            "\u001b[2K     \u001b[90m━━━━━━━━━━━━━━━━━━━━━━━━━━━━━━━━━━━━━━━━\u001b[0m \u001b[32m2.7/2.7 MB\u001b[0m \u001b[31m92.2 MB/s\u001b[0m eta \u001b[36m0:00:00\u001b[0m\n",
            "\u001b[2K     \u001b[90m━━━━━━━━━━━━━━━━━━━━━━━━━━━━━━━━━━━━━━━━\u001b[0m \u001b[32m43.4/43.4 kB\u001b[0m \u001b[31m4.9 MB/s\u001b[0m eta \u001b[36m0:00:00\u001b[0m\n",
            "\u001b[?25h  Preparing metadata (setup.py) ... \u001b[?25l\u001b[?25hdone\n",
            "\u001b[2K     \u001b[90m━━━━━━━━━━━━━━━━━━━━━━━━━━━━━━━━━━━━━━\u001b[0m \u001b[32m671.3/671.3 kB\u001b[0m \u001b[31m57.8 MB/s\u001b[0m eta \u001b[36m0:00:00\u001b[0m\n",
            "\u001b[2K     \u001b[90m━━━━━━━━━━━━━━━━━━━━━━━━━━━━━━━━━━━━━━━━\u001b[0m \u001b[32m2.7/2.7 MB\u001b[0m \u001b[31m105.9 MB/s\u001b[0m eta \u001b[36m0:00:00\u001b[0m\n",
            "\u001b[?25h  Preparing metadata (setup.py) ... \u001b[?25l\u001b[?25hdone\n",
            "\u001b[2K     \u001b[90m━━━━━━━━━━━━━━━━━━━━━━━━━━━━━━━━━━━━━━\u001b[0m \u001b[32m300.4/300.4 kB\u001b[0m \u001b[31m32.9 MB/s\u001b[0m eta \u001b[36m0:00:00\u001b[0m\n",
            "\u001b[?25h  Building wheel for crcmod (setup.py) ... \u001b[?25l\u001b[?25hdone\n",
            "  Building wheel for dill (setup.py) ... \u001b[?25l\u001b[?25hdone\n",
            "  Building wheel for hdfs (setup.py) ... \u001b[?25l\u001b[?25hdone\n",
            "  Building wheel for docopt (setup.py) ... \u001b[?25l\u001b[?25hdone\n"
          ]
        }
      ],
      "source": [
        "!pip install apache_beam --quiet"
      ]
    },
    {
      "cell_type": "markdown",
      "metadata": {
        "id": "dNg2hWBqrGwz"
      },
      "source": [
        "\n",
        "## Importing necessary libraries\n",
        "\n",
        "Here is a brief overview of the libraries imported:\n",
        "* **[os](https://docs.python.org/3/library/os.html)**: Used for file and directory operations.\n",
        "* **[NumPy](https://numpy.org/doc/stable/)**: Allows efficient numerical manipulation of arrays.\n",
        "* **[Pandas](https://pandas.pydata.org/docs/)**: Facilitates data manipulation and analysis.\n",
        "* **[Librosa](https://librosa.org/doc/latest/index.html)**: Provides tools for analyzing and working with audio data.\n",
        "* **[IPython](https://ipython.readthedocs.io/en/stable/index.html)**: Creates visualizations for multimedia content. Here we have used it for playing audio files.\n",
        "* **[Sklearn](https://scikit-learn.org/stable/index.html)**: Offers comprehensive tools for Machine Learning. Here we have used it for preprocessing and splitting the data.\n",
        "* **[TensorFlow](https://www.tensorflow.org/api_docs)** and **[Keras](https://keras.io/api/)**: Enables building and training complex Machine Learning and Deep Learning model.\n",
        "* **[TFModelHandlerNumpy](https://beam.apache.org/documentation/sdks/python-machine-learning/#tensorflow)**: Defines the configuration used to load/use the model that we train. We use TFModelHandlerNumpy because the model was trained with TensorFlow and takes numpy arrays as input.\n",
        "* **[RunInference](https://beam.apache.org/releases/pydoc/current/apache_beam.ml.inference.html#apache_beam.ml.inference.RunInference)**: Loads the model and obtains predictions as part of the Apache Beam pipeline. For more information, see docs on prediction and inference.\n",
        "* **[Apache Beam](https://beam.apache.org/documentation/)**: Builds a pipeline for Image Processing."
      ]
    },
    {
      "cell_type": "code",
      "execution_count": null,
      "metadata": {
        "id": "CzQkOP4v-X0Z"
      },
      "outputs": [],
      "source": [
        "import os\n",
        "\n",
        "import numpy as np\n",
        "import pandas as pd\n",
        "\n",
        "import librosa\n",
        "from IPython.display import Audio\n",
        "\n",
        "from sklearn.model_selection import train_test_split\n",
        "from sklearn.preprocessing import StandardScaler, OneHotEncoder\n",
        "\n",
        "import tensorflow as tf\n",
        "from tensorflow import keras\n",
        "from tensorflow.python.keras.callbacks import EarlyStopping, ReduceLROnPlateau\n",
        "\n",
        "from keras import layers\n",
        "from keras import models\n",
        "from keras.utils import np_utils\n",
        "from keras.models import Sequential\n",
        "from keras.utils import np_utils, to_categorical\n",
        "from keras.callbacks import ModelCheckpoint\n",
        "\n",
        "from apache_beam.ml.inference.tensorflow_inference import TFModelHandlerNumpy\n",
        "from apache_beam.ml.inference.base import RunInference\n",
        "import apache_beam as beam"
      ]
    },
    {
      "cell_type": "markdown",
      "metadata": {
        "id": "dxAtTL2VIztQ"
      },
      "source": [
        "## Importing dataset from Google Drive\n",
        "\n",
        "[CREMA-D](https://www.ncbi.nlm.nih.gov/pmc/articles/PMC4313618/) is a dataset that contains a collection of 7442 audio recordings of actors portraying different emotions. The dataset can be downloaded from [Kaggle](https://www.kaggle.com/datasets/ejlok1/cremad). As it is large in size, it will be inconvenient to upload it on Colab every time we want to run the notebook. Instead, we have uploaded the dataset on Google Drive after downloading it from Kaggle. Then we can access it directly using Colab.\n",
        "\n",
        "Please ensure if you are following this method, then your Colab notebook must be created with the same Google account in which the folder is stored."
      ]
    },
    {
      "cell_type": "code",
      "execution_count": null,
      "metadata": {
        "id": "PmaLie0lOI0g",
        "colab": {
          "base_uri": "https://localhost:8080/"
        },
        "outputId": "e86b0467-8ab3-4ec8-e5cd-40e015ee272e"
      },
      "outputs": [
        {
          "output_type": "stream",
          "name": "stdout",
          "text": [
            "Mounted at /content/gdrive\n"
          ]
        }
      ],
      "source": [
        "from google.colab import drive\n",
        "drive.mount('/content/gdrive', force_remount=True)"
      ]
    },
    {
      "cell_type": "markdown",
      "metadata": {
        "id": "W3ESVLNUvyqG"
      },
      "source": [
        "Here we create a path for the folder in Google Drive containing the audios to access them."
      ]
    },
    {
      "cell_type": "code",
      "execution_count": null,
      "metadata": {
        "id": "0BWrk6bn91Uu"
      },
      "outputs": [],
      "source": [
        "root_dir = \"/content/gdrive/My Drive/\"\n",
        "Crema = root_dir + 'CREMA/'"
      ]
    },
    {
      "cell_type": "markdown",
      "metadata": {
        "id": "VoROV5Vyvt-g"
      },
      "source": [
        "Using the os library, we can list all the audio files in the Google Drive folder"
      ]
    },
    {
      "cell_type": "code",
      "execution_count": null,
      "metadata": {
        "id": "7EXG23Yl-TfG",
        "colab": {
          "base_uri": "https://localhost:8080/"
        },
        "outputId": "d5b539c0-75a6-4ae3-be56-8a074539cd98"
      },
      "outputs": [
        {
          "output_type": "execute_result",
          "data": {
            "text/plain": [
              "['1079_TIE_NEU_XX.wav',\n",
              " '1079_TIE_SAD_XX.wav',\n",
              " '1079_TSI_ANG_XX.wav',\n",
              " '1079_TSI_DIS_XX.wav',\n",
              " '1079_TSI_HAP_XX.wav',\n",
              " '1079_TSI_FEA_XX.wav',\n",
              " '1079_TSI_NEU_XX.wav',\n",
              " '1079_TSI_SAD_XX.wav',\n",
              " '1079_WSI_ANG_XX.wav',\n",
              " '1079_WSI_DIS_XX.wav']"
            ]
          },
          "metadata": {},
          "execution_count": 6
        }
      ],
      "source": [
        "os.chdir(Crema)\n",
        "os.listdir()[:10] # Listing the first 10 audio files"
      ]
    },
    {
      "cell_type": "markdown",
      "metadata": {
        "id": "3HFYUtJ5JYS_"
      },
      "source": [
        "## Creating a DataFrame\n",
        "We will create a DataFrame with two columns, path and emotion:\n",
        "* Path: This will contain the path to a specific audio file in the directory.\n",
        "* Emotion: This is the label which will state the emotion of an audio file.\n",
        "\n",
        "The emotion can be extracted from the audio file name."
      ]
    },
    {
      "cell_type": "code",
      "execution_count": null,
      "metadata": {
        "id": "MVy9nx56-edb",
        "colab": {
          "base_uri": "https://localhost:8080/",
          "height": 206
        },
        "outputId": "bc5e89dd-78e6-458b-9728-5030902f837e"
      },
      "outputs": [
        {
          "output_type": "execute_result",
          "data": {
            "text/plain": [
              "   Emotion                                               Path\n",
              "0  neutral  /content/gdrive/My Drive/CREMA//1079_TIE_NEU_X...\n",
              "1      sad  /content/gdrive/My Drive/CREMA//1079_TIE_SAD_X...\n",
              "2    angry  /content/gdrive/My Drive/CREMA//1079_TSI_ANG_X...\n",
              "3  disgust  /content/gdrive/My Drive/CREMA//1079_TSI_DIS_X...\n",
              "4    happy  /content/gdrive/My Drive/CREMA//1079_TSI_HAP_X..."
            ],
            "text/html": [
              "\n",
              "  <div id=\"df-e283afc1-5e3c-49ce-a91c-3dbc29a1b108\" class=\"colab-df-container\">\n",
              "    <div>\n",
              "<style scoped>\n",
              "    .dataframe tbody tr th:only-of-type {\n",
              "        vertical-align: middle;\n",
              "    }\n",
              "\n",
              "    .dataframe tbody tr th {\n",
              "        vertical-align: top;\n",
              "    }\n",
              "\n",
              "    .dataframe thead th {\n",
              "        text-align: right;\n",
              "    }\n",
              "</style>\n",
              "<table border=\"1\" class=\"dataframe\">\n",
              "  <thead>\n",
              "    <tr style=\"text-align: right;\">\n",
              "      <th></th>\n",
              "      <th>Emotion</th>\n",
              "      <th>Path</th>\n",
              "    </tr>\n",
              "  </thead>\n",
              "  <tbody>\n",
              "    <tr>\n",
              "      <th>0</th>\n",
              "      <td>neutral</td>\n",
              "      <td>/content/gdrive/My Drive/CREMA//1079_TIE_NEU_X...</td>\n",
              "    </tr>\n",
              "    <tr>\n",
              "      <th>1</th>\n",
              "      <td>sad</td>\n",
              "      <td>/content/gdrive/My Drive/CREMA//1079_TIE_SAD_X...</td>\n",
              "    </tr>\n",
              "    <tr>\n",
              "      <th>2</th>\n",
              "      <td>angry</td>\n",
              "      <td>/content/gdrive/My Drive/CREMA//1079_TSI_ANG_X...</td>\n",
              "    </tr>\n",
              "    <tr>\n",
              "      <th>3</th>\n",
              "      <td>disgust</td>\n",
              "      <td>/content/gdrive/My Drive/CREMA//1079_TSI_DIS_X...</td>\n",
              "    </tr>\n",
              "    <tr>\n",
              "      <th>4</th>\n",
              "      <td>happy</td>\n",
              "      <td>/content/gdrive/My Drive/CREMA//1079_TSI_HAP_X...</td>\n",
              "    </tr>\n",
              "  </tbody>\n",
              "</table>\n",
              "</div>\n",
              "    <div class=\"colab-df-buttons\">\n",
              "\n",
              "  <div class=\"colab-df-container\">\n",
              "    <button class=\"colab-df-convert\" onclick=\"convertToInteractive('df-e283afc1-5e3c-49ce-a91c-3dbc29a1b108')\"\n",
              "            title=\"Convert this dataframe to an interactive table.\"\n",
              "            style=\"display:none;\">\n",
              "\n",
              "  <svg xmlns=\"http://www.w3.org/2000/svg\" height=\"24px\" viewBox=\"0 -960 960 960\">\n",
              "    <path d=\"M120-120v-720h720v720H120Zm60-500h600v-160H180v160Zm220 220h160v-160H400v160Zm0 220h160v-160H400v160ZM180-400h160v-160H180v160Zm440 0h160v-160H620v160ZM180-180h160v-160H180v160Zm440 0h160v-160H620v160Z\"/>\n",
              "  </svg>\n",
              "    </button>\n",
              "\n",
              "  <style>\n",
              "    .colab-df-container {\n",
              "      display:flex;\n",
              "      gap: 12px;\n",
              "    }\n",
              "\n",
              "    .colab-df-convert {\n",
              "      background-color: #E8F0FE;\n",
              "      border: none;\n",
              "      border-radius: 50%;\n",
              "      cursor: pointer;\n",
              "      display: none;\n",
              "      fill: #1967D2;\n",
              "      height: 32px;\n",
              "      padding: 0 0 0 0;\n",
              "      width: 32px;\n",
              "    }\n",
              "\n",
              "    .colab-df-convert:hover {\n",
              "      background-color: #E2EBFA;\n",
              "      box-shadow: 0px 1px 2px rgba(60, 64, 67, 0.3), 0px 1px 3px 1px rgba(60, 64, 67, 0.15);\n",
              "      fill: #174EA6;\n",
              "    }\n",
              "\n",
              "    .colab-df-buttons div {\n",
              "      margin-bottom: 4px;\n",
              "    }\n",
              "\n",
              "    [theme=dark] .colab-df-convert {\n",
              "      background-color: #3B4455;\n",
              "      fill: #D2E3FC;\n",
              "    }\n",
              "\n",
              "    [theme=dark] .colab-df-convert:hover {\n",
              "      background-color: #434B5C;\n",
              "      box-shadow: 0px 1px 3px 1px rgba(0, 0, 0, 0.15);\n",
              "      filter: drop-shadow(0px 1px 2px rgba(0, 0, 0, 0.3));\n",
              "      fill: #FFFFFF;\n",
              "    }\n",
              "  </style>\n",
              "\n",
              "    <script>\n",
              "      const buttonEl =\n",
              "        document.querySelector('#df-e283afc1-5e3c-49ce-a91c-3dbc29a1b108 button.colab-df-convert');\n",
              "      buttonEl.style.display =\n",
              "        google.colab.kernel.accessAllowed ? 'block' : 'none';\n",
              "\n",
              "      async function convertToInteractive(key) {\n",
              "        const element = document.querySelector('#df-e283afc1-5e3c-49ce-a91c-3dbc29a1b108');\n",
              "        const dataTable =\n",
              "          await google.colab.kernel.invokeFunction('convertToInteractive',\n",
              "                                                    [key], {});\n",
              "        if (!dataTable) return;\n",
              "\n",
              "        const docLinkHtml = 'Like what you see? Visit the ' +\n",
              "          '<a target=\"_blank\" href=https://colab.research.google.com/notebooks/data_table.ipynb>data table notebook</a>'\n",
              "          + ' to learn more about interactive tables.';\n",
              "        element.innerHTML = '';\n",
              "        dataTable['output_type'] = 'display_data';\n",
              "        await google.colab.output.renderOutput(dataTable, element);\n",
              "        const docLink = document.createElement('div');\n",
              "        docLink.innerHTML = docLinkHtml;\n",
              "        element.appendChild(docLink);\n",
              "      }\n",
              "    </script>\n",
              "  </div>\n",
              "\n",
              "\n",
              "<div id=\"df-4148182a-32c1-4ede-9832-c14c3402fe49\">\n",
              "  <button class=\"colab-df-quickchart\" onclick=\"quickchart('df-4148182a-32c1-4ede-9832-c14c3402fe49')\"\n",
              "            title=\"Suggest charts.\"\n",
              "            style=\"display:none;\">\n",
              "\n",
              "<svg xmlns=\"http://www.w3.org/2000/svg\" height=\"24px\"viewBox=\"0 0 24 24\"\n",
              "     width=\"24px\">\n",
              "    <g>\n",
              "        <path d=\"M19 3H5c-1.1 0-2 .9-2 2v14c0 1.1.9 2 2 2h14c1.1 0 2-.9 2-2V5c0-1.1-.9-2-2-2zM9 17H7v-7h2v7zm4 0h-2V7h2v10zm4 0h-2v-4h2v4z\"/>\n",
              "    </g>\n",
              "</svg>\n",
              "  </button>\n",
              "\n",
              "<style>\n",
              "  .colab-df-quickchart {\n",
              "    background-color: #E8F0FE;\n",
              "    border: none;\n",
              "    border-radius: 50%;\n",
              "    cursor: pointer;\n",
              "    display: none;\n",
              "    fill: #1967D2;\n",
              "    height: 32px;\n",
              "    padding: 0 0 0 0;\n",
              "    width: 32px;\n",
              "  }\n",
              "\n",
              "  .colab-df-quickchart:hover {\n",
              "    background-color: #E2EBFA;\n",
              "    box-shadow: 0px 1px 2px rgba(60, 64, 67, 0.3), 0px 1px 3px 1px rgba(60, 64, 67, 0.15);\n",
              "    fill: #174EA6;\n",
              "  }\n",
              "\n",
              "  [theme=dark] .colab-df-quickchart {\n",
              "    background-color: #3B4455;\n",
              "    fill: #D2E3FC;\n",
              "  }\n",
              "\n",
              "  [theme=dark] .colab-df-quickchart:hover {\n",
              "    background-color: #434B5C;\n",
              "    box-shadow: 0px 1px 3px 1px rgba(0, 0, 0, 0.15);\n",
              "    filter: drop-shadow(0px 1px 2px rgba(0, 0, 0, 0.3));\n",
              "    fill: #FFFFFF;\n",
              "  }\n",
              "</style>\n",
              "\n",
              "  <script>\n",
              "    async function quickchart(key) {\n",
              "      const charts = await google.colab.kernel.invokeFunction(\n",
              "          'suggestCharts', [key], {});\n",
              "    }\n",
              "    (() => {\n",
              "      let quickchartButtonEl =\n",
              "        document.querySelector('#df-4148182a-32c1-4ede-9832-c14c3402fe49 button');\n",
              "      quickchartButtonEl.style.display =\n",
              "        google.colab.kernel.accessAllowed ? 'block' : 'none';\n",
              "    })();\n",
              "  </script>\n",
              "</div>\n",
              "    </div>\n",
              "  </div>\n"
            ]
          },
          "metadata": {},
          "execution_count": 7
        }
      ],
      "source": [
        "emotion_df = []\n",
        "\n",
        "for wav in os.listdir(Crema):\n",
        "    info = wav.partition(\".wav\")[0].split(\"_\")\n",
        "    if (len(info)<3):\n",
        "        continue;\n",
        "    if info[2] == 'SAD':\n",
        "        emotion_df.append((\"sad\", Crema + \"/\" + wav))\n",
        "    elif info[2] == 'ANG':\n",
        "        emotion_df.append((\"angry\", Crema + \"/\" + wav))\n",
        "    elif info[2] == 'DIS':\n",
        "        emotion_df.append((\"disgust\", Crema + \"/\" + wav))\n",
        "    elif info[2] == 'FEA':\n",
        "        emotion_df.append((\"fear\", Crema + \"/\" + wav))\n",
        "    elif info[2] == 'HAP':\n",
        "        emotion_df.append((\"happy\", Crema + \"/\" + wav))\n",
        "    elif info[2] == 'NEU':\n",
        "        emotion_df.append((\"neutral\", Crema + \"/\" + wav))\n",
        "\n",
        "\n",
        "Crema_df = pd.DataFrame.from_dict(emotion_df)\n",
        "Crema_df.rename(columns={1 : \"Path\", 0 : \"Emotion\"}, inplace=True)\n",
        "\n",
        "Crema_df.head()"
      ]
    },
    {
      "cell_type": "markdown",
      "metadata": {
        "id": "XhKkVexzA46N"
      },
      "source": [
        "## Preprocessing\n",
        "\n",
        "The audio files we want to use are in .wav format. However, an ML model works on numerical data. So we need to perform some preprocessing operations to extract numerical features from the audios and transform these features to a more suitable form. This will improve the performance of our model."
      ]
    },
    {
      "cell_type": "markdown",
      "metadata": {
        "id": "-sGwDJTKSoax"
      },
      "source": [
        "### Data Augmentation\n",
        "\n",
        "This is the process of transforming existing data in various ways to generate more samples and increase model robustness. We make multiple versions of the same data item but with some differences. This allows the model to recognize a wider variety of data and reduce overfitting. We have performed the following data augmentation techniques:\n",
        "* **Noise injection**: Adds a random factor to all data items to provide some noise.\n",
        "* **Stretching**: Alters the speed of an audio, simulating variations in speech rate or tempo.\n",
        "* **Pitch Shifting**: Changes the pitch of an audio, depicting variations of  speaker characteristics or musical notes."
      ]
    },
    {
      "cell_type": "code",
      "execution_count": null,
      "metadata": {
        "id": "KYBjIdsfRyf_"
      },
      "outputs": [],
      "source": [
        "def noise(data):\n",
        "    noise_amp = 0.035 * np.random.uniform() * np.amax(data)\n",
        "    data = data + noise_amp * np.random.normal(size = data.shape[0])\n",
        "    return data\n",
        "\n",
        "def stretch(data, rate = 0.8):\n",
        "    return librosa.effects.time_stretch(data, rate = rate)\n",
        "\n",
        "def pitch(data, sampling_rate, pitch_factor = 0.7):\n",
        "    return librosa.effects.pitch_shift(data, sr = sampling_rate, n_steps = pitch_factor)"
      ]
    },
    {
      "cell_type": "markdown",
      "metadata": {
        "id": "IqOVow1ROH4p"
      },
      "source": [
        "### Feature Extraction\n",
        "\n",
        "We need to extract some numerical features from the audios to feed our ML model. The [Librosa](https://librosa.org/doc/latest/index.html) library allows us to do this easily.\n",
        "\n",
        "First, we need to understand what a **mel scale** is. It is a scale of pitches that is based on the way humans perceive and discriminate between different frequencies of sound. Now, let us discuss the features we will extract from the audio:\n",
        "\n",
        "* **Zero Crossing Rate (ZCR)**: Measures how often the sound changes it's sign (positive or negative) over time.\n",
        "* **Chroma Short-Time Fourier Transform (STFT)**: Breaks down the audio signal into small segments (frames) and calculates the Fourier Transform for each frame, resulting in a time-frequency representation of the signal.\n",
        "* **Mel-Frequency Cepstral Coefficients (MFCC)**: A set of coefficients derived from the mel spectrogram\n",
        "* **Melspectogram**: A visual representation of the frequency content of an audio signal mapped on the mel scale.\n",
        "* **Root Mean Square**: Provides the Root Mean Square value for each frame, which is a measure of the amplitude or energy of a sound signal.\n",
        "\n",
        "You can read more about all the features we can extract using the Librosa library [here](https://librosa.org/doc/latest/feature.html)."
      ]
    },
    {
      "cell_type": "code",
      "execution_count": null,
      "metadata": {
        "id": "vHuzjpIfR2an"
      },
      "outputs": [],
      "source": [
        "def extract_features(data, sample_rate):\n",
        "    # ZCR\n",
        "    result = np.array([])\n",
        "    zcr = np.mean(librosa.feature.zero_crossing_rate(y=data).T, axis=0)\n",
        "    result=np.hstack((result, zcr)) # stacking horizontally\n",
        "\n",
        "    # Chroma STFT\n",
        "    stft = np.abs(librosa.stft(data))\n",
        "    chroma_stft = np.mean(librosa.feature.chroma_stft(S=stft, sr=sample_rate).T, axis=0)\n",
        "    result = np.hstack((result, chroma_stft)) # stacking horizontally\n",
        "\n",
        "    # MFCC\n",
        "    mfcc = np.mean(librosa.feature.mfcc(y=data, sr=sample_rate).T, axis=0)\n",
        "    result = np.hstack((result, mfcc)) # stacking horizontally\n",
        "\n",
        "    # Root Mean Square\n",
        "    rms = np.mean(librosa.feature.rms(y=data).T, axis=0)\n",
        "    result = np.hstack((result, rms)) # stacking horizontally\n",
        "\n",
        "    # Melspectogram\n",
        "    mel = np.mean(librosa.feature.melspectrogram(y=data, sr=sample_rate).T, axis=0)\n",
        "    result = np.hstack((result, mel)) # stacking horizontally\n",
        "\n",
        "    return result"
      ]
    },
    {
      "cell_type": "markdown",
      "metadata": {
        "id": "4eo-DgBiAFH4"
      },
      "source": [
        "The function below is used to extract the features from the audio stored at a path. Then it applies the data augmentation techniques we defined previously, and extracts features for each augmented data too. This gives us three versions of a data item:\n",
        "* Normal features\n",
        "* Features from data with noise\n",
        "* Features from time stretched and pitch shifted data\n",
        "\n",
        "These are added into our final dataset as individual samples."
      ]
    },
    {
      "cell_type": "code",
      "execution_count": null,
      "metadata": {
        "id": "rksrNPA4R8v9"
      },
      "outputs": [],
      "source": [
        "def get_features(path):\n",
        "    data, sample_rate = librosa.load(path, duration=2.5, offset=0.6)\n",
        "\n",
        "    # without augmentation\n",
        "    normal_features = extract_features(data, sample_rate)\n",
        "    result = np.array(normal_features)\n",
        "\n",
        "    # data with noise\n",
        "    noise_data = noise(data)\n",
        "    noise_features = extract_features(noise_data, sample_rate)\n",
        "    result = np.vstack((result, noise_features)) # stacking vertically\n",
        "\n",
        "    # data with stretching and pitching\n",
        "    stretch_data = stretch(data)\n",
        "    stretch_pitch_data = pitch(stretch_data, sample_rate)\n",
        "    stretch_pitch_features = extract_features(stretch_pitch_data, sample_rate)\n",
        "    result = np.vstack((result, stretch_pitch_features)) # stacking vertically\n",
        "\n",
        "    return result"
      ]
    },
    {
      "cell_type": "markdown",
      "metadata": {
        "id": "iIt_EokpBdHc"
      },
      "source": [
        "Now we will iterate through the Crema_df DataFrame containing the path and emotion of each audio sample. We will extract features for each audio's three versions, add it to X, and add the corresponding emotion to Y."
      ]
    },
    {
      "cell_type": "code",
      "execution_count": null,
      "metadata": {
        "colab": {
          "base_uri": "https://localhost:8080/"
        },
        "id": "81rZsmb4SBCH",
        "outputId": "a8b14400-7aee-434d-c9a9-236db687d112"
      },
      "outputs": [
        {
          "output_type": "stream",
          "name": "stderr",
          "text": [
            "/usr/local/lib/python3.10/dist-packages/librosa/core/pitch.py:101: UserWarning: Trying to estimate tuning from empty frequency set.\n",
            "  return pitch_tuning(\n"
          ]
        }
      ],
      "source": [
        "X, Y = [], []\n",
        "for path, emotion in zip(Crema_df.Path, Crema_df.Emotion):\n",
        "    feature = get_features(path)\n",
        "    for ele in feature:\n",
        "        X.append(ele)\n",
        "        Y.append(emotion)"
      ]
    },
    {
      "cell_type": "markdown",
      "metadata": {
        "id": "Xa8RsEiYB-ru"
      },
      "source": [
        "Here we have made a DataFrame using the lists X and Y."
      ]
    },
    {
      "cell_type": "code",
      "execution_count": null,
      "metadata": {
        "colab": {
          "base_uri": "https://localhost:8080/",
          "height": 342
        },
        "id": "go4lU_2VSCxy",
        "outputId": "05734eff-da43-4396-8c2e-c4c80ec2b0be"
      },
      "outputs": [
        {
          "output_type": "execute_result",
          "data": {
            "text/plain": [
              "          0         1         2         3         4         5         6  \\\n",
              "0  0.051835  0.552957  0.564289  0.512976  0.518041  0.528111  0.501150   \n",
              "1  0.081790  0.611068  0.619012  0.578897  0.580346  0.604983  0.552418   \n",
              "2  0.054339  0.525215  0.525026  0.478083  0.526773  0.554233  0.521426   \n",
              "3  0.050157  0.514931  0.591693  0.464526  0.429137  0.480203  0.572344   \n",
              "4  0.098122  0.606869  0.680955  0.572593  0.548943  0.581684  0.626757   \n",
              "\n",
              "          7         8         9  ...           153           154  \\\n",
              "0  0.550490  0.673705  0.744412  ...  2.713831e-09  2.560777e-09   \n",
              "1  0.557888  0.677792  0.749837  ...  8.333886e-05  7.936021e-05   \n",
              "2  0.558976  0.671527  0.739728  ...  3.503047e-09  3.054322e-09   \n",
              "3  0.722630  0.699706  0.676802  ...  3.512564e-09  3.153377e-09   \n",
              "4  0.754920  0.735712  0.713573  ...  1.368801e-04  1.329551e-04   \n",
              "\n",
              "            155           156           157           158           159  \\\n",
              "0  2.451516e-09  2.369350e-09  2.308000e-09  2.264365e-09  2.232698e-09   \n",
              "1  7.905496e-05  8.138233e-05  7.764955e-05  7.412745e-05  7.555283e-05   \n",
              "2  2.943538e-09  2.634693e-09  2.343703e-09  2.368675e-09  2.363831e-09   \n",
              "3  2.901090e-09  2.715085e-09  2.576861e-09  2.476340e-09  2.403195e-09   \n",
              "4  1.397343e-04  1.433890e-04  1.408767e-04  1.354171e-04  1.373235e-04   \n",
              "\n",
              "            160           161   labels  \n",
              "0  2.212761e-09  2.200083e-09  neutral  \n",
              "1  8.043366e-05  8.144332e-05  neutral  \n",
              "2  1.876258e-09  6.538760e-10  neutral  \n",
              "3  2.354688e-09  2.325111e-09      sad  \n",
              "4  1.433754e-04  1.442893e-04      sad  \n",
              "\n",
              "[5 rows x 163 columns]"
            ],
            "text/html": [
              "\n",
              "  <div id=\"df-d6ec0952-463b-4721-8872-88b40c464ae6\" class=\"colab-df-container\">\n",
              "    <div>\n",
              "<style scoped>\n",
              "    .dataframe tbody tr th:only-of-type {\n",
              "        vertical-align: middle;\n",
              "    }\n",
              "\n",
              "    .dataframe tbody tr th {\n",
              "        vertical-align: top;\n",
              "    }\n",
              "\n",
              "    .dataframe thead th {\n",
              "        text-align: right;\n",
              "    }\n",
              "</style>\n",
              "<table border=\"1\" class=\"dataframe\">\n",
              "  <thead>\n",
              "    <tr style=\"text-align: right;\">\n",
              "      <th></th>\n",
              "      <th>0</th>\n",
              "      <th>1</th>\n",
              "      <th>2</th>\n",
              "      <th>3</th>\n",
              "      <th>4</th>\n",
              "      <th>5</th>\n",
              "      <th>6</th>\n",
              "      <th>7</th>\n",
              "      <th>8</th>\n",
              "      <th>9</th>\n",
              "      <th>...</th>\n",
              "      <th>153</th>\n",
              "      <th>154</th>\n",
              "      <th>155</th>\n",
              "      <th>156</th>\n",
              "      <th>157</th>\n",
              "      <th>158</th>\n",
              "      <th>159</th>\n",
              "      <th>160</th>\n",
              "      <th>161</th>\n",
              "      <th>labels</th>\n",
              "    </tr>\n",
              "  </thead>\n",
              "  <tbody>\n",
              "    <tr>\n",
              "      <th>0</th>\n",
              "      <td>0.051835</td>\n",
              "      <td>0.552957</td>\n",
              "      <td>0.564289</td>\n",
              "      <td>0.512976</td>\n",
              "      <td>0.518041</td>\n",
              "      <td>0.528111</td>\n",
              "      <td>0.501150</td>\n",
              "      <td>0.550490</td>\n",
              "      <td>0.673705</td>\n",
              "      <td>0.744412</td>\n",
              "      <td>...</td>\n",
              "      <td>2.713831e-09</td>\n",
              "      <td>2.560777e-09</td>\n",
              "      <td>2.451516e-09</td>\n",
              "      <td>2.369350e-09</td>\n",
              "      <td>2.308000e-09</td>\n",
              "      <td>2.264365e-09</td>\n",
              "      <td>2.232698e-09</td>\n",
              "      <td>2.212761e-09</td>\n",
              "      <td>2.200083e-09</td>\n",
              "      <td>neutral</td>\n",
              "    </tr>\n",
              "    <tr>\n",
              "      <th>1</th>\n",
              "      <td>0.081790</td>\n",
              "      <td>0.611068</td>\n",
              "      <td>0.619012</td>\n",
              "      <td>0.578897</td>\n",
              "      <td>0.580346</td>\n",
              "      <td>0.604983</td>\n",
              "      <td>0.552418</td>\n",
              "      <td>0.557888</td>\n",
              "      <td>0.677792</td>\n",
              "      <td>0.749837</td>\n",
              "      <td>...</td>\n",
              "      <td>8.333886e-05</td>\n",
              "      <td>7.936021e-05</td>\n",
              "      <td>7.905496e-05</td>\n",
              "      <td>8.138233e-05</td>\n",
              "      <td>7.764955e-05</td>\n",
              "      <td>7.412745e-05</td>\n",
              "      <td>7.555283e-05</td>\n",
              "      <td>8.043366e-05</td>\n",
              "      <td>8.144332e-05</td>\n",
              "      <td>neutral</td>\n",
              "    </tr>\n",
              "    <tr>\n",
              "      <th>2</th>\n",
              "      <td>0.054339</td>\n",
              "      <td>0.525215</td>\n",
              "      <td>0.525026</td>\n",
              "      <td>0.478083</td>\n",
              "      <td>0.526773</td>\n",
              "      <td>0.554233</td>\n",
              "      <td>0.521426</td>\n",
              "      <td>0.558976</td>\n",
              "      <td>0.671527</td>\n",
              "      <td>0.739728</td>\n",
              "      <td>...</td>\n",
              "      <td>3.503047e-09</td>\n",
              "      <td>3.054322e-09</td>\n",
              "      <td>2.943538e-09</td>\n",
              "      <td>2.634693e-09</td>\n",
              "      <td>2.343703e-09</td>\n",
              "      <td>2.368675e-09</td>\n",
              "      <td>2.363831e-09</td>\n",
              "      <td>1.876258e-09</td>\n",
              "      <td>6.538760e-10</td>\n",
              "      <td>neutral</td>\n",
              "    </tr>\n",
              "    <tr>\n",
              "      <th>3</th>\n",
              "      <td>0.050157</td>\n",
              "      <td>0.514931</td>\n",
              "      <td>0.591693</td>\n",
              "      <td>0.464526</td>\n",
              "      <td>0.429137</td>\n",
              "      <td>0.480203</td>\n",
              "      <td>0.572344</td>\n",
              "      <td>0.722630</td>\n",
              "      <td>0.699706</td>\n",
              "      <td>0.676802</td>\n",
              "      <td>...</td>\n",
              "      <td>3.512564e-09</td>\n",
              "      <td>3.153377e-09</td>\n",
              "      <td>2.901090e-09</td>\n",
              "      <td>2.715085e-09</td>\n",
              "      <td>2.576861e-09</td>\n",
              "      <td>2.476340e-09</td>\n",
              "      <td>2.403195e-09</td>\n",
              "      <td>2.354688e-09</td>\n",
              "      <td>2.325111e-09</td>\n",
              "      <td>sad</td>\n",
              "    </tr>\n",
              "    <tr>\n",
              "      <th>4</th>\n",
              "      <td>0.098122</td>\n",
              "      <td>0.606869</td>\n",
              "      <td>0.680955</td>\n",
              "      <td>0.572593</td>\n",
              "      <td>0.548943</td>\n",
              "      <td>0.581684</td>\n",
              "      <td>0.626757</td>\n",
              "      <td>0.754920</td>\n",
              "      <td>0.735712</td>\n",
              "      <td>0.713573</td>\n",
              "      <td>...</td>\n",
              "      <td>1.368801e-04</td>\n",
              "      <td>1.329551e-04</td>\n",
              "      <td>1.397343e-04</td>\n",
              "      <td>1.433890e-04</td>\n",
              "      <td>1.408767e-04</td>\n",
              "      <td>1.354171e-04</td>\n",
              "      <td>1.373235e-04</td>\n",
              "      <td>1.433754e-04</td>\n",
              "      <td>1.442893e-04</td>\n",
              "      <td>sad</td>\n",
              "    </tr>\n",
              "  </tbody>\n",
              "</table>\n",
              "<p>5 rows × 163 columns</p>\n",
              "</div>\n",
              "    <div class=\"colab-df-buttons\">\n",
              "\n",
              "  <div class=\"colab-df-container\">\n",
              "    <button class=\"colab-df-convert\" onclick=\"convertToInteractive('df-d6ec0952-463b-4721-8872-88b40c464ae6')\"\n",
              "            title=\"Convert this dataframe to an interactive table.\"\n",
              "            style=\"display:none;\">\n",
              "\n",
              "  <svg xmlns=\"http://www.w3.org/2000/svg\" height=\"24px\" viewBox=\"0 -960 960 960\">\n",
              "    <path d=\"M120-120v-720h720v720H120Zm60-500h600v-160H180v160Zm220 220h160v-160H400v160Zm0 220h160v-160H400v160ZM180-400h160v-160H180v160Zm440 0h160v-160H620v160ZM180-180h160v-160H180v160Zm440 0h160v-160H620v160Z\"/>\n",
              "  </svg>\n",
              "    </button>\n",
              "\n",
              "  <style>\n",
              "    .colab-df-container {\n",
              "      display:flex;\n",
              "      gap: 12px;\n",
              "    }\n",
              "\n",
              "    .colab-df-convert {\n",
              "      background-color: #E8F0FE;\n",
              "      border: none;\n",
              "      border-radius: 50%;\n",
              "      cursor: pointer;\n",
              "      display: none;\n",
              "      fill: #1967D2;\n",
              "      height: 32px;\n",
              "      padding: 0 0 0 0;\n",
              "      width: 32px;\n",
              "    }\n",
              "\n",
              "    .colab-df-convert:hover {\n",
              "      background-color: #E2EBFA;\n",
              "      box-shadow: 0px 1px 2px rgba(60, 64, 67, 0.3), 0px 1px 3px 1px rgba(60, 64, 67, 0.15);\n",
              "      fill: #174EA6;\n",
              "    }\n",
              "\n",
              "    .colab-df-buttons div {\n",
              "      margin-bottom: 4px;\n",
              "    }\n",
              "\n",
              "    [theme=dark] .colab-df-convert {\n",
              "      background-color: #3B4455;\n",
              "      fill: #D2E3FC;\n",
              "    }\n",
              "\n",
              "    [theme=dark] .colab-df-convert:hover {\n",
              "      background-color: #434B5C;\n",
              "      box-shadow: 0px 1px 3px 1px rgba(0, 0, 0, 0.15);\n",
              "      filter: drop-shadow(0px 1px 2px rgba(0, 0, 0, 0.3));\n",
              "      fill: #FFFFFF;\n",
              "    }\n",
              "  </style>\n",
              "\n",
              "    <script>\n",
              "      const buttonEl =\n",
              "        document.querySelector('#df-d6ec0952-463b-4721-8872-88b40c464ae6 button.colab-df-convert');\n",
              "      buttonEl.style.display =\n",
              "        google.colab.kernel.accessAllowed ? 'block' : 'none';\n",
              "\n",
              "      async function convertToInteractive(key) {\n",
              "        const element = document.querySelector('#df-d6ec0952-463b-4721-8872-88b40c464ae6');\n",
              "        const dataTable =\n",
              "          await google.colab.kernel.invokeFunction('convertToInteractive',\n",
              "                                                    [key], {});\n",
              "        if (!dataTable) return;\n",
              "\n",
              "        const docLinkHtml = 'Like what you see? Visit the ' +\n",
              "          '<a target=\"_blank\" href=https://colab.research.google.com/notebooks/data_table.ipynb>data table notebook</a>'\n",
              "          + ' to learn more about interactive tables.';\n",
              "        element.innerHTML = '';\n",
              "        dataTable['output_type'] = 'display_data';\n",
              "        await google.colab.output.renderOutput(dataTable, element);\n",
              "        const docLink = document.createElement('div');\n",
              "        docLink.innerHTML = docLinkHtml;\n",
              "        element.appendChild(docLink);\n",
              "      }\n",
              "    </script>\n",
              "  </div>\n",
              "\n",
              "\n",
              "<div id=\"df-7c1015b9-2794-4a8e-9703-6ded718f55eb\">\n",
              "  <button class=\"colab-df-quickchart\" onclick=\"quickchart('df-7c1015b9-2794-4a8e-9703-6ded718f55eb')\"\n",
              "            title=\"Suggest charts.\"\n",
              "            style=\"display:none;\">\n",
              "\n",
              "<svg xmlns=\"http://www.w3.org/2000/svg\" height=\"24px\"viewBox=\"0 0 24 24\"\n",
              "     width=\"24px\">\n",
              "    <g>\n",
              "        <path d=\"M19 3H5c-1.1 0-2 .9-2 2v14c0 1.1.9 2 2 2h14c1.1 0 2-.9 2-2V5c0-1.1-.9-2-2-2zM9 17H7v-7h2v7zm4 0h-2V7h2v10zm4 0h-2v-4h2v4z\"/>\n",
              "    </g>\n",
              "</svg>\n",
              "  </button>\n",
              "\n",
              "<style>\n",
              "  .colab-df-quickchart {\n",
              "    background-color: #E8F0FE;\n",
              "    border: none;\n",
              "    border-radius: 50%;\n",
              "    cursor: pointer;\n",
              "    display: none;\n",
              "    fill: #1967D2;\n",
              "    height: 32px;\n",
              "    padding: 0 0 0 0;\n",
              "    width: 32px;\n",
              "  }\n",
              "\n",
              "  .colab-df-quickchart:hover {\n",
              "    background-color: #E2EBFA;\n",
              "    box-shadow: 0px 1px 2px rgba(60, 64, 67, 0.3), 0px 1px 3px 1px rgba(60, 64, 67, 0.15);\n",
              "    fill: #174EA6;\n",
              "  }\n",
              "\n",
              "  [theme=dark] .colab-df-quickchart {\n",
              "    background-color: #3B4455;\n",
              "    fill: #D2E3FC;\n",
              "  }\n",
              "\n",
              "  [theme=dark] .colab-df-quickchart:hover {\n",
              "    background-color: #434B5C;\n",
              "    box-shadow: 0px 1px 3px 1px rgba(0, 0, 0, 0.15);\n",
              "    filter: drop-shadow(0px 1px 2px rgba(0, 0, 0, 0.3));\n",
              "    fill: #FFFFFF;\n",
              "  }\n",
              "</style>\n",
              "\n",
              "  <script>\n",
              "    async function quickchart(key) {\n",
              "      const charts = await google.colab.kernel.invokeFunction(\n",
              "          'suggestCharts', [key], {});\n",
              "    }\n",
              "    (() => {\n",
              "      let quickchartButtonEl =\n",
              "        document.querySelector('#df-7c1015b9-2794-4a8e-9703-6ded718f55eb button');\n",
              "      quickchartButtonEl.style.display =\n",
              "        google.colab.kernel.accessAllowed ? 'block' : 'none';\n",
              "    })();\n",
              "  </script>\n",
              "</div>\n",
              "    </div>\n",
              "  </div>\n"
            ]
          },
          "metadata": {},
          "execution_count": 12
        }
      ],
      "source": [
        "Features = pd.DataFrame(X)\n",
        "Features['labels'] = Y\n",
        "Features.to_csv('features.csv', index=False)\n",
        "Features.head()"
      ]
    },
    {
      "cell_type": "markdown",
      "metadata": {
        "id": "uk4y87eECD4F"
      },
      "source": [
        "The X and Y datasets are separated here. X stores the features of audio samples while Y stores the corresponding labels."
      ]
    },
    {
      "cell_type": "code",
      "execution_count": null,
      "metadata": {
        "id": "EUObnydOSEXr"
      },
      "outputs": [],
      "source": [
        "X = Features.iloc[: ,:-1].values\n",
        "Y = Features['labels'].values"
      ]
    },
    {
      "cell_type": "markdown",
      "metadata": {
        "id": "B92B4YVoCPed"
      },
      "source": [
        "The [pad sequences](https://www.tensorflow.org/api_docs/python/tf/keras/utils/pad_sequences) function is used to pad the input data to the same length, to ensure that all samples have the same shape."
      ]
    },
    {
      "cell_type": "code",
      "execution_count": null,
      "metadata": {
        "id": "s_yiO3ZsrLjL"
      },
      "outputs": [],
      "source": [
        "X = tf.keras.utils.pad_sequences(X)"
      ]
    },
    {
      "cell_type": "markdown",
      "metadata": {
        "id": "AvHBQsARUeNb"
      },
      "source": [
        "Scikit Learn's [OneHotEncoder](https://scikit-learn.org/stable/modules/generated/sklearn.preprocessing.OneHotEncoder.html) is used to convert categorical labels into numerical data. It creates a column in the labels dataset for each category, which contains only binary data. For example, if we have the following categories:\n",
        "\n",
        "`[Anger, Disgust, Fear, Happy, Neutral, Sad]`\n",
        "\n",
        "And a specific audio belongs to 'Anger' category, then the OneHotEncoder will transform it to:\n",
        "\n",
        "`[1, 0, 0, 0, 0, 0]`\n",
        "\n",
        "Please note that the order of which column represents which category may differ."
      ]
    },
    {
      "cell_type": "code",
      "execution_count": null,
      "metadata": {
        "id": "OT2HLn0HSF_3"
      },
      "outputs": [],
      "source": [
        "encoder = OneHotEncoder()\n",
        "Y = encoder.fit_transform(np.array(Y).reshape(-1,1)).toarray()"
      ]
    },
    {
      "cell_type": "markdown",
      "metadata": {
        "id": "PZYKuz7FUfyj"
      },
      "source": [
        "Splitting into train/test splits"
      ]
    },
    {
      "cell_type": "code",
      "execution_count": null,
      "metadata": {
        "colab": {
          "base_uri": "https://localhost:8080/"
        },
        "id": "snRl0fNdSJnv",
        "outputId": "faf825f6-a7f6-4cd5-c3da-60bafaafddc2"
      },
      "outputs": [
        {
          "output_type": "execute_result",
          "data": {
            "text/plain": [
              "((16744, 162), (16744, 6), (5582, 162), (5582, 6))"
            ]
          },
          "metadata": {},
          "execution_count": 16
        }
      ],
      "source": [
        "x_train, x_test, y_train, y_test = train_test_split(X, Y, random_state=0, shuffle=True)\n",
        "x_train.shape, y_train.shape, x_test.shape, y_test.shape"
      ]
    },
    {
      "cell_type": "markdown",
      "metadata": {
        "id": "IHoJ7egnUkrf"
      },
      "source": [
        "Now we will scale the data and split it into training and testing sets.\n",
        "* [Scaling](https://scikit-learn.org/stable/modules/generated/sklearn.preprocessing.scale.html) is done to make all numerical data have similar magnitudes. This makes computations easier.\n",
        "* The training sets are used to train the model.\n",
        "* The testing sets are used to test the model's accuracy."
      ]
    },
    {
      "cell_type": "code",
      "execution_count": null,
      "metadata": {
        "colab": {
          "base_uri": "https://localhost:8080/"
        },
        "id": "l0Jg7MN4SLls",
        "outputId": "071cc13e-c60a-4c9b-b81d-ae02a1f67ae3"
      },
      "outputs": [
        {
          "output_type": "execute_result",
          "data": {
            "text/plain": [
              "((16744, 162), (16744, 6), (5582, 162), (5582, 6))"
            ]
          },
          "metadata": {},
          "execution_count": 17
        }
      ],
      "source": [
        "scaler = StandardScaler()\n",
        "x_train = scaler.fit_transform(x_train)\n",
        "x_test = scaler.transform(x_test)\n",
        "x_train.shape, y_train.shape, x_test.shape, y_test.shape"
      ]
    },
    {
      "cell_type": "code",
      "execution_count": null,
      "metadata": {
        "colab": {
          "base_uri": "https://localhost:8080/"
        },
        "id": "HVEcjoXSrF_i",
        "outputId": "ef9101b8-7af0-4733-8c85-e58038b5263d"
      },
      "outputs": [
        {
          "output_type": "execute_result",
          "data": {
            "text/plain": [
              "((22326, 162), (16744, 162), (5582, 162))"
            ]
          },
          "metadata": {},
          "execution_count": 18
        }
      ],
      "source": [
        "X.shape, x_train.shape, x_test.shape"
      ]
    },
    {
      "cell_type": "markdown",
      "metadata": {
        "id": "lbJnHZExUmOY"
      },
      "source": [
        "We will use a 1D Convolutional layer in our model, and for that, our input data needs to be a  a 3D tensor with dimensions `(batch_size, time_steps, input_dim)`. So we will expand the dimensions of our X_train and X_test datasets. The extra 1 in the shape depicts that our data is 1 dimensional."
      ]
    },
    {
      "cell_type": "code",
      "execution_count": null,
      "metadata": {
        "colab": {
          "base_uri": "https://localhost:8080/"
        },
        "id": "DfHhUoUFSMFL",
        "outputId": "2e1a9134-e1f7-4826-a9ad-3f74ebe12849"
      },
      "outputs": [
        {
          "output_type": "execute_result",
          "data": {
            "text/plain": [
              "((16744, 162, 1), (16744, 6), (5582, 162, 1), (5582, 6))"
            ]
          },
          "metadata": {},
          "execution_count": 19
        }
      ],
      "source": [
        "x_train = np.expand_dims(x_train, axis=2)\n",
        "x_test = np.expand_dims(x_test, axis=2)\n",
        "x_train.shape, y_train.shape, x_test.shape, y_test.shape"
      ]
    },
    {
      "cell_type": "markdown",
      "metadata": {
        "id": "TAnQsHL9Uphd"
      },
      "source": [
        "### Training the model\n",
        "We will build a sequential model to classify speech emotions using TensorFlow and Keras. Here is an overview of the layers used:\n",
        "* **Conv1D**: Applies a set of filters to capture patterns in sequential data like time series or audio, enabling feature extraction through sliding convolutions.\n",
        "* **Activation**: Introduces non-linearity by applying an element-wise activation function to the input, enhancing the network's learning capacity.\n",
        "* **BatchNormalization**: Normalizes input activations within a mini-batch, accelerating training by stabilizing and improving gradient flow.\n",
        "* **Dropout**: Randomly deactivates a fraction of neurons during training, reducing overfitting by promoting generalization.\n",
        "* **MaxPooling1D**: Downsamples the input by retaining the maximum value in each local region, reducing computation.\n",
        "* **Flatten**: Reshapes input data from a multidimensional format into a 1D vector, suitable for fully connected layers.\n",
        "* **Dense**: Connects each neuron to every neuron in the previous layer, allowing complex relationships to be learned during training.\n",
        "\n",
        "In the end, we need probabilities for each of the 6 classes of emotions, so we need 6 outputs. This is why the last Dense layer returns an array of size 6.\n"
      ]
    },
    {
      "cell_type": "code",
      "execution_count": null,
      "metadata": {
        "colab": {
          "base_uri": "https://localhost:8080/"
        },
        "id": "uFb71_ga5RoB",
        "outputId": "cba3e5ba-f17e-4eb7-c5fd-0adc4ed060c9"
      },
      "outputs": [
        {
          "output_type": "stream",
          "name": "stdout",
          "text": [
            "Model: \"sequential\"\n",
            "_________________________________________________________________\n",
            " Layer (type)                Output Shape              Param #   \n",
            "=================================================================\n",
            " conv1d (Conv1D)             (None, 162, 256)          1792      \n",
            "                                                                 \n",
            " activation (Activation)     (None, 162, 256)          0         \n",
            "                                                                 \n",
            " conv1d_1 (Conv1D)           (None, 162, 256)          393472    \n",
            "                                                                 \n",
            " batch_normalization (BatchN  (None, 162, 256)         1024      \n",
            " ormalization)                                                   \n",
            "                                                                 \n",
            " activation_1 (Activation)   (None, 162, 256)          0         \n",
            "                                                                 \n",
            " dropout (Dropout)           (None, 162, 256)          0         \n",
            "                                                                 \n",
            " max_pooling1d (MaxPooling1D  (None, 20, 256)          0         \n",
            " )                                                               \n",
            "                                                                 \n",
            " conv1d_2 (Conv1D)           (None, 20, 128)           196736    \n",
            "                                                                 \n",
            " activation_2 (Activation)   (None, 20, 128)           0         \n",
            "                                                                 \n",
            " conv1d_3 (Conv1D)           (None, 20, 128)           98432     \n",
            "                                                                 \n",
            " activation_3 (Activation)   (None, 20, 128)           0         \n",
            "                                                                 \n",
            " dropout_1 (Dropout)         (None, 20, 128)           0         \n",
            "                                                                 \n",
            " conv1d_4 (Conv1D)           (None, 20, 128)           98432     \n",
            "                                                                 \n",
            " activation_4 (Activation)   (None, 20, 128)           0         \n",
            "                                                                 \n",
            " conv1d_5 (Conv1D)           (None, 20, 128)           98432     \n",
            "                                                                 \n",
            " batch_normalization_1 (Batc  (None, 20, 128)          512       \n",
            " hNormalization)                                                 \n",
            "                                                                 \n",
            " activation_5 (Activation)   (None, 20, 128)           0         \n",
            "                                                                 \n",
            " dropout_2 (Dropout)         (None, 20, 128)           0         \n",
            "                                                                 \n",
            " max_pooling1d_1 (MaxPooling  (None, 2, 128)           0         \n",
            " 1D)                                                             \n",
            "                                                                 \n",
            " conv1d_6 (Conv1D)           (None, 2, 64)             49216     \n",
            "                                                                 \n",
            " activation_6 (Activation)   (None, 2, 64)             0         \n",
            "                                                                 \n",
            " conv1d_7 (Conv1D)           (None, 2, 64)             24640     \n",
            "                                                                 \n",
            " activation_7 (Activation)   (None, 2, 64)             0         \n",
            "                                                                 \n",
            " dropout_3 (Dropout)         (None, 2, 64)             0         \n",
            "                                                                 \n",
            " flatten (Flatten)           (None, 128)               0         \n",
            "                                                                 \n",
            " dense (Dense)               (None, 6)                 774       \n",
            "                                                                 \n",
            " activation_8 (Activation)   (None, 6)                 0         \n",
            "                                                                 \n",
            "=================================================================\n",
            "Total params: 963,462\n",
            "Trainable params: 962,694\n",
            "Non-trainable params: 768\n",
            "_________________________________________________________________\n"
          ]
        }
      ],
      "source": [
        "model = Sequential()\n",
        "model.add(layers.Conv1D(256, 6, padding='same',input_shape=(x_train.shape[1],1)))\n",
        "model.add(layers.Activation('relu'))\n",
        "model.add(layers.Conv1D(256, 6, padding='same'))\n",
        "model.add(layers.BatchNormalization())\n",
        "model.add(layers.Activation('relu'))\n",
        "model.add(layers.Dropout(0.2))\n",
        "model.add(layers.MaxPooling1D(pool_size=(8)))\n",
        "model.add(layers.Conv1D(128, 6, padding='same'))\n",
        "model.add(layers.Activation('relu'))\n",
        "model.add(layers.Conv1D(128, 6, padding='same'))\n",
        "model.add(layers.Activation('relu'))\n",
        "model.add(layers.Dropout(0.2))\n",
        "model.add(layers.Conv1D(128, 6, padding='same'))\n",
        "model.add(layers.Activation('relu'))\n",
        "model.add(layers.Conv1D(128, 6, padding='same'))\n",
        "model.add(layers.BatchNormalization())\n",
        "model.add(layers.Activation('relu'))\n",
        "model.add(layers.Dropout(0.2))\n",
        "model.add(layers.MaxPooling1D(pool_size=(8)))\n",
        "model.add(layers.Conv1D(64, 6, padding='same'))\n",
        "model.add(layers.Activation('relu'))\n",
        "model.add(layers.Conv1D(64, 6, padding='same'))\n",
        "model.add(layers.Activation('relu'))\n",
        "model.add(layers.Dropout(0.2))\n",
        "model.add(layers.Flatten())\n",
        "model.add(layers.Dense(6))\n",
        "model.add(layers.Activation('softmax'))\n",
        "opt = keras.optimizers.Adam(learning_rate=0.0001)\n",
        "model.summary()"
      ]
    },
    {
      "cell_type": "markdown",
      "metadata": {
        "id": "g68nijvIF2Ca"
      },
      "source": [
        "Now we will compile the model."
      ]
    },
    {
      "cell_type": "code",
      "execution_count": null,
      "metadata": {
        "id": "qWj3H05Q6pm_"
      },
      "outputs": [],
      "source": [
        "model.compile(loss='categorical_crossentropy', optimizer=opt, metrics=['accuracy'])"
      ]
    },
    {
      "cell_type": "markdown",
      "metadata": {
        "id": "p78y1ESDF5KQ"
      },
      "source": [
        "Next, we will train our model. [ReduceLROnPlateau](https://keras.io/api/callbacks/reduce_lr_on_plateau/) is used to reduce the learning rate when the loss has stopped improving. [EarlyStopping](https://keras.io/api/callbacks/early_stopping/) monitors the val_loss and stops the training process when it doesn't improve."
      ]
    },
    {
      "cell_type": "code",
      "execution_count": null,
      "metadata": {
        "id": "H1F2haOv6pvZ",
        "colab": {
          "base_uri": "https://localhost:8080/"
        },
        "outputId": "f2f2bb9f-e445-4713-878c-82da952454fc"
      },
      "outputs": [
        {
          "output_type": "stream",
          "name": "stdout",
          "text": [
            "Epoch 1/100\n",
            "1047/1047 [==============================] - 29s 13ms/step - loss: 1.5803 - accuracy: 0.3272 - val_loss: 1.5216 - val_accuracy: 0.3739 - lr: 1.0000e-04\n",
            "Epoch 2/100\n",
            "1047/1047 [==============================] - 12s 12ms/step - loss: 1.4870 - accuracy: 0.3807 - val_loss: 1.5065 - val_accuracy: 0.3884 - lr: 1.0000e-04\n",
            "Epoch 3/100\n",
            "1047/1047 [==============================] - 12s 11ms/step - loss: 1.4541 - accuracy: 0.3952 - val_loss: 1.4635 - val_accuracy: 0.3954 - lr: 1.0000e-04\n",
            "Epoch 4/100\n",
            "1047/1047 [==============================] - 12s 12ms/step - loss: 1.4253 - accuracy: 0.4105 - val_loss: 1.4341 - val_accuracy: 0.4282 - lr: 1.0000e-04\n",
            "Epoch 5/100\n",
            "1047/1047 [==============================] - 13s 12ms/step - loss: 1.4092 - accuracy: 0.4199 - val_loss: 1.4595 - val_accuracy: 0.4077 - lr: 1.0000e-04\n",
            "Epoch 6/100\n",
            "1047/1047 [==============================] - 13s 12ms/step - loss: 1.3890 - accuracy: 0.4299 - val_loss: 1.4032 - val_accuracy: 0.4317 - lr: 1.0000e-04\n",
            "Epoch 7/100\n",
            "1047/1047 [==============================] - 12s 12ms/step - loss: 1.3709 - accuracy: 0.4471 - val_loss: 1.3958 - val_accuracy: 0.4294 - lr: 1.0000e-04\n",
            "Epoch 8/100\n",
            "1047/1047 [==============================] - 12s 11ms/step - loss: 1.3613 - accuracy: 0.4482 - val_loss: 1.4311 - val_accuracy: 0.4102 - lr: 1.0000e-04\n",
            "Epoch 9/100\n",
            "1047/1047 [==============================] - 12s 12ms/step - loss: 1.3420 - accuracy: 0.4563 - val_loss: 1.3901 - val_accuracy: 0.4409 - lr: 1.0000e-04\n",
            "Epoch 10/100\n",
            "1047/1047 [==============================] - 13s 12ms/step - loss: 1.3292 - accuracy: 0.4643 - val_loss: 1.3893 - val_accuracy: 0.4434 - lr: 1.0000e-04\n",
            "Epoch 11/100\n",
            "1047/1047 [==============================] - 12s 12ms/step - loss: 1.3162 - accuracy: 0.4689 - val_loss: 1.3742 - val_accuracy: 0.4482 - lr: 1.0000e-04\n",
            "Epoch 12/100\n",
            "1047/1047 [==============================] - 13s 12ms/step - loss: 1.3033 - accuracy: 0.4738 - val_loss: 1.3821 - val_accuracy: 0.4507 - lr: 1.0000e-04\n",
            "Epoch 13/100\n",
            "1047/1047 [==============================] - 12s 11ms/step - loss: 1.2889 - accuracy: 0.4833 - val_loss: 1.3452 - val_accuracy: 0.4609 - lr: 1.0000e-04\n",
            "Epoch 14/100\n",
            "1047/1047 [==============================] - 12s 11ms/step - loss: 1.2715 - accuracy: 0.4933 - val_loss: 1.3690 - val_accuracy: 0.4559 - lr: 1.0000e-04\n",
            "Epoch 15/100\n",
            "1047/1047 [==============================] - 12s 12ms/step - loss: 1.2642 - accuracy: 0.4916 - val_loss: 1.3460 - val_accuracy: 0.4618 - lr: 1.0000e-04\n",
            "Epoch 16/100\n",
            "1047/1047 [==============================] - 13s 12ms/step - loss: 1.2439 - accuracy: 0.5028 - val_loss: 1.3293 - val_accuracy: 0.4719 - lr: 1.0000e-04\n",
            "Epoch 17/100\n",
            "1047/1047 [==============================] - 12s 12ms/step - loss: 1.2287 - accuracy: 0.5073 - val_loss: 1.3309 - val_accuracy: 0.4663 - lr: 1.0000e-04\n",
            "Epoch 18/100\n",
            "1047/1047 [==============================] - 12s 12ms/step - loss: 1.2193 - accuracy: 0.5122 - val_loss: 1.3353 - val_accuracy: 0.4686 - lr: 1.0000e-04\n",
            "Epoch 19/100\n",
            "1047/1047 [==============================] - 13s 13ms/step - loss: 1.2044 - accuracy: 0.5237 - val_loss: 1.3370 - val_accuracy: 0.4636 - lr: 1.0000e-04\n",
            "Epoch 20/100\n",
            "1047/1047 [==============================] - 13s 12ms/step - loss: 1.1869 - accuracy: 0.5258 - val_loss: 1.3021 - val_accuracy: 0.4805 - lr: 1.0000e-04\n",
            "Epoch 21/100\n",
            "1047/1047 [==============================] - 13s 12ms/step - loss: 1.1744 - accuracy: 0.5288 - val_loss: 1.3028 - val_accuracy: 0.4807 - lr: 1.0000e-04\n",
            "Epoch 22/100\n",
            "1047/1047 [==============================] - 13s 12ms/step - loss: 1.1574 - accuracy: 0.5376 - val_loss: 1.3189 - val_accuracy: 0.4717 - lr: 1.0000e-04\n",
            "Epoch 23/100\n",
            "1047/1047 [==============================] - 13s 12ms/step - loss: 1.1437 - accuracy: 0.5492 - val_loss: 1.3197 - val_accuracy: 0.4694 - lr: 1.0000e-04\n",
            "Epoch 24/100\n",
            "1047/1047 [==============================] - 13s 12ms/step - loss: 1.1234 - accuracy: 0.5563 - val_loss: 1.3482 - val_accuracy: 0.4678 - lr: 1.0000e-04\n",
            "Epoch 25/100\n",
            "1047/1047 [==============================] - 13s 12ms/step - loss: 1.1152 - accuracy: 0.5568 - val_loss: 1.3050 - val_accuracy: 0.4821 - lr: 1.0000e-04\n",
            "Epoch 26/100\n",
            "1047/1047 [==============================] - 12s 11ms/step - loss: 1.1022 - accuracy: 0.5677 - val_loss: 1.2853 - val_accuracy: 0.4867 - lr: 1.0000e-04\n",
            "Epoch 27/100\n",
            "1047/1047 [==============================] - 12s 12ms/step - loss: 1.0844 - accuracy: 0.5678 - val_loss: 1.2719 - val_accuracy: 0.4925 - lr: 1.0000e-04\n",
            "Epoch 28/100\n",
            "1047/1047 [==============================] - 12s 12ms/step - loss: 1.0644 - accuracy: 0.5828 - val_loss: 1.2978 - val_accuracy: 0.4798 - lr: 1.0000e-04\n",
            "Epoch 29/100\n",
            "1047/1047 [==============================] - 14s 14ms/step - loss: 1.0524 - accuracy: 0.5882 - val_loss: 1.2986 - val_accuracy: 0.4844 - lr: 1.0000e-04\n",
            "Epoch 30/100\n",
            "1047/1047 [==============================] - 13s 12ms/step - loss: 1.0364 - accuracy: 0.5920 - val_loss: 1.2919 - val_accuracy: 0.4894 - lr: 1.0000e-04\n",
            "Epoch 31/100\n",
            "1047/1047 [==============================] - 12s 12ms/step - loss: 1.0160 - accuracy: 0.6043 - val_loss: 1.2651 - val_accuracy: 0.4937 - lr: 1.0000e-04\n",
            "Epoch 32/100\n",
            "1047/1047 [==============================] - 12s 11ms/step - loss: 1.0056 - accuracy: 0.6058 - val_loss: 1.2905 - val_accuracy: 0.4841 - lr: 1.0000e-04\n",
            "Epoch 33/100\n",
            "1047/1047 [==============================] - 13s 12ms/step - loss: 0.9838 - accuracy: 0.6154 - val_loss: 1.2708 - val_accuracy: 0.4955 - lr: 1.0000e-04\n",
            "Epoch 34/100\n",
            "1047/1047 [==============================] - 12s 12ms/step - loss: 0.9778 - accuracy: 0.6135 - val_loss: 1.2651 - val_accuracy: 0.5032 - lr: 1.0000e-04\n",
            "Epoch 35/100\n",
            "1047/1047 [==============================] - 12s 12ms/step - loss: 0.9610 - accuracy: 0.6234 - val_loss: 1.3275 - val_accuracy: 0.4751 - lr: 1.0000e-04\n",
            "Epoch 36/100\n",
            "1047/1047 [==============================] - 13s 13ms/step - loss: 0.9461 - accuracy: 0.6349 - val_loss: 1.2683 - val_accuracy: 0.4971 - lr: 1.0000e-04\n",
            "Epoch 37/100\n",
            "1047/1047 [==============================] - 12s 11ms/step - loss: 0.9443 - accuracy: 0.6332 - val_loss: 1.2852 - val_accuracy: 0.4923 - lr: 1.0000e-04\n",
            "Epoch 38/100\n",
            "1047/1047 [==============================] - 12s 12ms/step - loss: 0.9169 - accuracy: 0.6452 - val_loss: 1.2813 - val_accuracy: 0.4961 - lr: 1.0000e-04\n",
            "Epoch 39/100\n",
            "1047/1047 [==============================] - 13s 12ms/step - loss: 0.9133 - accuracy: 0.6436 - val_loss: 1.2613 - val_accuracy: 0.5050 - lr: 1.0000e-04\n",
            "Epoch 40/100\n",
            "1047/1047 [==============================] - 12s 12ms/step - loss: 0.8981 - accuracy: 0.6509 - val_loss: 1.2701 - val_accuracy: 0.5084 - lr: 1.0000e-04\n",
            "Epoch 41/100\n",
            "1047/1047 [==============================] - 13s 12ms/step - loss: 0.8874 - accuracy: 0.6515 - val_loss: 1.2848 - val_accuracy: 0.4928 - lr: 1.0000e-04\n",
            "Epoch 42/100\n",
            "1047/1047 [==============================] - 13s 12ms/step - loss: 0.8712 - accuracy: 0.6620 - val_loss: 1.2626 - val_accuracy: 0.5052 - lr: 1.0000e-04\n",
            "Epoch 43/100\n",
            "1047/1047 [==============================] - 15s 14ms/step - loss: 0.8702 - accuracy: 0.6597 - val_loss: 1.2687 - val_accuracy: 0.5109 - lr: 1.0000e-04\n",
            "Epoch 44/100\n",
            "1047/1047 [==============================] - 13s 12ms/step - loss: 0.8500 - accuracy: 0.6694 - val_loss: 1.2604 - val_accuracy: 0.5133 - lr: 1.0000e-04\n",
            "Epoch 45/100\n",
            "1047/1047 [==============================] - 12s 12ms/step - loss: 0.8305 - accuracy: 0.6759 - val_loss: 1.2698 - val_accuracy: 0.5122 - lr: 1.0000e-04\n",
            "Epoch 46/100\n",
            "1047/1047 [==============================] - 13s 12ms/step - loss: 0.8266 - accuracy: 0.6805 - val_loss: 1.2949 - val_accuracy: 0.5043 - lr: 1.0000e-04\n",
            "Epoch 47/100\n",
            "1047/1047 [==============================] - 13s 12ms/step - loss: 0.8132 - accuracy: 0.6860 - val_loss: 1.2778 - val_accuracy: 0.5021 - lr: 1.0000e-04\n",
            "Epoch 48/100\n",
            "1047/1047 [==============================] - 13s 12ms/step - loss: 0.7994 - accuracy: 0.6940 - val_loss: 1.2740 - val_accuracy: 0.5091 - lr: 1.0000e-04\n",
            "Epoch 49/100\n",
            "1047/1047 [==============================] - 13s 13ms/step - loss: 0.7836 - accuracy: 0.6936 - val_loss: 1.2925 - val_accuracy: 0.5070 - lr: 1.0000e-04\n",
            "Epoch 50/100\n",
            "1047/1047 [==============================] - 12s 12ms/step - loss: 0.7757 - accuracy: 0.7038 - val_loss: 1.3190 - val_accuracy: 0.5011 - lr: 1.0000e-04\n",
            "Epoch 51/100\n",
            "1047/1047 [==============================] - 12s 11ms/step - loss: 0.7679 - accuracy: 0.7001 - val_loss: 1.2861 - val_accuracy: 0.5027 - lr: 1.0000e-04\n",
            "Epoch 52/100\n",
            "1047/1047 [==============================] - 12s 12ms/step - loss: 0.7542 - accuracy: 0.7114 - val_loss: 1.3435 - val_accuracy: 0.4927 - lr: 1.0000e-04\n",
            "Epoch 53/100\n",
            "1047/1047 [==============================] - 13s 12ms/step - loss: 0.7459 - accuracy: 0.7093 - val_loss: 1.3164 - val_accuracy: 0.5072 - lr: 1.0000e-04\n",
            "Epoch 54/100\n",
            "1047/1047 [==============================] - 13s 12ms/step - loss: 0.7287 - accuracy: 0.7193 - val_loss: 1.2878 - val_accuracy: 0.5188 - lr: 1.0000e-04\n",
            "Epoch 55/100\n",
            "1047/1047 [==============================] - 13s 12ms/step - loss: 0.7178 - accuracy: 0.7262 - val_loss: 1.3178 - val_accuracy: 0.5054 - lr: 1.0000e-04\n",
            "Epoch 56/100\n",
            "1047/1047 [==============================] - 13s 12ms/step - loss: 0.7076 - accuracy: 0.7258 - val_loss: 1.3746 - val_accuracy: 0.4912 - lr: 1.0000e-04\n",
            "Epoch 57/100\n",
            "1047/1047 [==============================] - 12s 11ms/step - loss: 0.6955 - accuracy: 0.7306 - val_loss: 1.3457 - val_accuracy: 0.5097 - lr: 1.0000e-04\n",
            "Epoch 58/100\n",
            "1047/1047 [==============================] - 13s 12ms/step - loss: 0.6843 - accuracy: 0.7364 - val_loss: 1.3558 - val_accuracy: 0.5000 - lr: 1.0000e-04\n",
            "Epoch 59/100\n",
            "1047/1047 [==============================] - 12s 12ms/step - loss: 0.6790 - accuracy: 0.7370 - val_loss: 1.3310 - val_accuracy: 0.5150 - lr: 1.0000e-04\n",
            "Epoch 60/100\n",
            "1047/1047 [==============================] - 13s 12ms/step - loss: 0.6683 - accuracy: 0.7431 - val_loss: 1.3515 - val_accuracy: 0.5127 - lr: 1.0000e-04\n",
            "Epoch 61/100\n",
            "1047/1047 [==============================] - 13s 12ms/step - loss: 0.6628 - accuracy: 0.7419 - val_loss: 1.3877 - val_accuracy: 0.4955 - lr: 1.0000e-04\n",
            "Epoch 62/100\n",
            "1047/1047 [==============================] - 12s 11ms/step - loss: 0.6462 - accuracy: 0.7501 - val_loss: 1.3549 - val_accuracy: 0.5202 - lr: 1.0000e-04\n",
            "Epoch 63/100\n",
            "1047/1047 [==============================] - 13s 12ms/step - loss: 0.6305 - accuracy: 0.7597 - val_loss: 1.3709 - val_accuracy: 0.5109 - lr: 1.0000e-04\n",
            "Epoch 64/100\n",
            "1047/1047 [==============================] - 13s 12ms/step - loss: 0.6245 - accuracy: 0.7610 - val_loss: 1.3442 - val_accuracy: 0.5269 - lr: 1.0000e-04\n",
            "Epoch 00064: early stopping\n"
          ]
        },
        {
          "output_type": "execute_result",
          "data": {
            "text/plain": [
              "<keras.callbacks.History at 0x7a8558211bd0>"
            ]
          },
          "metadata": {},
          "execution_count": 22
        }
      ],
      "source": [
        "rlrp = ReduceLROnPlateau(monitor='loss', factor=0.4, verbose=0, patience=2, min_lr=0.0000001)\n",
        "es = EarlyStopping(monitor='val_loss', mode='min', verbose=1, patience=20)\n",
        "\n",
        "model.fit(x_train, y_train, batch_size=16, epochs=100, validation_data=(x_test, y_test), callbacks=[es, rlrp])"
      ]
    },
    {
      "cell_type": "markdown",
      "metadata": {
        "id": "UiuEkw7DF_M5"
      },
      "source": [
        "We can see that the accuracy of our model is not very high. This is because speech data is more complex than other forms of data and much more training data and/or preprocessing techniques are required to build a good speech emotion classifier. If you want to increase the accuracy, you can use multiple datasets instead of just one, and use more features from the Librosa library. You can also try experimenting with LSTM layers in the model. Here are some of the popular speech emotion datasets:\n",
        "* [RAVDESS](https://www.kaggle.com/datasets/uwrfkaggler/ravdess-emotional-speech-audio)\n",
        "* [LSSED](https://github.com/tobefans/LSSED)\n",
        "* [TESS](https://www.kaggle.com/datasets/ejlok1/toronto-emotional-speech-set-tess)\n",
        "* [IEMOCAP](https://www.kaggle.com/datasets/columbine/iemocap)\n",
        "\n"
      ]
    },
    {
      "cell_type": "markdown",
      "metadata": {
        "id": "btAlJmJjqgGS"
      },
      "source": [
        "### Saving model in Google Cloud Bucket\n",
        "In our final Beam pipeline, we will use RunInference. For that, we need to have a pretrained model stored in a location that is accessible to a model handler. Storing the model in a Google Cloud Bucket is the easiest way to do this."
      ]
    },
    {
      "cell_type": "code",
      "execution_count": null,
      "metadata": {
        "id": "NoOhXDcUMYaA",
        "colab": {
          "base_uri": "https://localhost:8080/"
        },
        "outputId": "bb7b2af8-86b3-48a5-a404-edf935147bac"
      },
      "outputs": [
        {
          "output_type": "stream",
          "name": "stderr",
          "text": [
            "WARNING:absl:Found untraced functions such as _jit_compiled_convolution_op, _jit_compiled_convolution_op, _jit_compiled_convolution_op, _jit_compiled_convolution_op, _jit_compiled_convolution_op while saving (showing 5 of 8). These functions will not be directly callable after loading.\n"
          ]
        }
      ],
      "source": [
        "save_model_dir = '' # Add the link to you GCS bucket here\n",
        "model.save(save_model_dir)"
      ]
    },
    {
      "cell_type": "markdown",
      "metadata": {
        "id": "KRrMuKwmqo1I"
      },
      "source": [
        "### Creating a model handler\n",
        "A model handler is used to save, load and manage trained models. We have used TFModelHandlerNumpy since our model was built using TensorFlow and takes NumPy arrays as input."
      ]
    },
    {
      "cell_type": "code",
      "execution_count": null,
      "metadata": {
        "id": "0dbI7-9KMbt6"
      },
      "outputs": [],
      "source": [
        "model_handler = TFModelHandlerNumpy(save_model_dir)"
      ]
    },
    {
      "cell_type": "markdown",
      "metadata": {
        "id": "ZoStfR5HqVKV"
      },
      "source": [
        "## Preprocessing functions for Beam pipeline\n",
        "We need to define some functions to perform the same preprocessing tasks we did on our training data. We can't reuse the previously defined function directly since they processed multidimensional data, and in a pipeline we deal with a single data item, which requires different methods."
      ]
    },
    {
      "cell_type": "markdown",
      "metadata": {
        "id": "2MmGkjcpYJuf"
      },
      "source": [
        "This function loads the audio data using Librosa and extracts features using the previously defined function."
      ]
    },
    {
      "cell_type": "code",
      "execution_count": null,
      "metadata": {
        "id": "MktIcCkzYJ8-"
      },
      "outputs": [],
      "source": [
        "def feature_extraction(element):\n",
        "  data, sample_rate = librosa.load(path, duration=2.5, offset=0.6)\n",
        "  return extract_features(data, sample_rate)"
      ]
    },
    {
      "cell_type": "markdown",
      "metadata": {
        "id": "s8S4N1W-MeAG"
      },
      "source": [
        "Here we have scaled the data using standardization. The data is transformed such that it's mean is 0 and standard deviation is 1."
      ]
    },
    {
      "cell_type": "code",
      "execution_count": null,
      "metadata": {
        "id": "XlYhtZf-p01y"
      },
      "outputs": [],
      "source": [
        "def scaling(element):\n",
        "  element = (element-np.mean(element))/np.std(element)\n",
        "  return element"
      ]
    },
    {
      "cell_type": "markdown",
      "metadata": {
        "id": "1MOL8vfzMtpX"
      },
      "source": [
        "In the end we will save our predictions in a list. RunInference returns an array of probabilities for each class. We select the maximum probability, replace it by 1, and replace all other values with 0. Now our new list is in a standard one hot encoded format, and we can use the inverse transform function of the OneHotEncoder to return which class the resultant array represents."
      ]
    },
    {
      "cell_type": "code",
      "execution_count": null,
      "metadata": {
        "id": "ehwQB-PdqwWh"
      },
      "outputs": [],
      "source": [
        "predictions = []"
      ]
    },
    {
      "cell_type": "code",
      "execution_count": null,
      "metadata": {
        "id": "Dos4eVTIjfpq"
      },
      "outputs": [],
      "source": [
        "from tensorflow.python.ops.numpy_ops import np_config\n",
        "np_config.enable_numpy_behavior()\n",
        "def save_predictions(element):\n",
        "    list_of_predictions = element.inference.tolist()\n",
        "    highest_prediction = max(list_of_predictions)\n",
        "    l = []\n",
        "    for i in range(len(list_of_predictions)):\n",
        "      if list_of_predictions[i] == highest_prediction:\n",
        "        l.append(1)\n",
        "      else:\n",
        "        l.append(0);\n",
        "    ans = encoder.inverse_transform(np.array(l).reshape(1,-1))[0][0]\n",
        "    predictions.append(ans)\n",
        "    print(ans)"
      ]
    },
    {
      "cell_type": "markdown",
      "metadata": {
        "id": "pZjR4A01q5iu"
      },
      "source": [
        "## Building the Beam Pipeline\n",
        "This pipeline performs the following tasks\n",
        "* Creates a PCollection of input paths\n",
        "* Extracts features using the previously defined functions\n",
        "* Performs scaling\n",
        "* Runs inference on new data using the previously trained model\n",
        "* Saves predictions in a list"
      ]
    },
    {
      "cell_type": "code",
      "execution_count": null,
      "metadata": {
        "id": "ZAwVSGg_mWB_"
      },
      "outputs": [],
      "source": [
        "pipeline_input = Crema_df[:2].Path"
      ]
    },
    {
      "cell_type": "code",
      "execution_count": null,
      "metadata": {
        "id": "wJqMVam6lIHX",
        "colab": {
          "base_uri": "https://localhost:8080/"
        },
        "outputId": "f6e5bb00-ff15-4aca-f8cd-98ab867a2f07"
      },
      "outputs": [
        {
          "output_type": "stream",
          "name": "stdout",
          "text": [
            "sad\n",
            "sad\n"
          ]
        }
      ],
      "source": [
        "with beam.Pipeline() as p:\n",
        "    _ = (p | beam.Create(pipeline_input)\n",
        "           | beam.Map(feature_extraction)\n",
        "           | beam.Map(scaling)\n",
        "           | RunInference(model_handler)\n",
        "           | beam.Map(save_predictions)\n",
        "        )"
      ]
    },
    {
      "cell_type": "code",
      "execution_count": null,
      "metadata": {
        "id": "Pt5zEoXxS6wh",
        "colab": {
          "base_uri": "https://localhost:8080/",
          "height": 112
        },
        "outputId": "8d2bf9c8-2a46-4ff5-d200-af370aaa24a7"
      },
      "outputs": [
        {
          "output_type": "execute_result",
          "data": {
            "text/plain": [
              "   Emotion                                               Path\n",
              "0  neutral  /content/gdrive/My Drive/CREMA//1079_TIE_NEU_X...\n",
              "1      sad  /content/gdrive/My Drive/CREMA//1079_TIE_SAD_X..."
            ],
            "text/html": [
              "\n",
              "  <div id=\"df-dd08647c-7a23-45bd-ac01-28b2e308b9ec\" class=\"colab-df-container\">\n",
              "    <div>\n",
              "<style scoped>\n",
              "    .dataframe tbody tr th:only-of-type {\n",
              "        vertical-align: middle;\n",
              "    }\n",
              "\n",
              "    .dataframe tbody tr th {\n",
              "        vertical-align: top;\n",
              "    }\n",
              "\n",
              "    .dataframe thead th {\n",
              "        text-align: right;\n",
              "    }\n",
              "</style>\n",
              "<table border=\"1\" class=\"dataframe\">\n",
              "  <thead>\n",
              "    <tr style=\"text-align: right;\">\n",
              "      <th></th>\n",
              "      <th>Emotion</th>\n",
              "      <th>Path</th>\n",
              "    </tr>\n",
              "  </thead>\n",
              "  <tbody>\n",
              "    <tr>\n",
              "      <th>0</th>\n",
              "      <td>neutral</td>\n",
              "      <td>/content/gdrive/My Drive/CREMA//1079_TIE_NEU_X...</td>\n",
              "    </tr>\n",
              "    <tr>\n",
              "      <th>1</th>\n",
              "      <td>sad</td>\n",
              "      <td>/content/gdrive/My Drive/CREMA//1079_TIE_SAD_X...</td>\n",
              "    </tr>\n",
              "  </tbody>\n",
              "</table>\n",
              "</div>\n",
              "    <div class=\"colab-df-buttons\">\n",
              "\n",
              "  <div class=\"colab-df-container\">\n",
              "    <button class=\"colab-df-convert\" onclick=\"convertToInteractive('df-dd08647c-7a23-45bd-ac01-28b2e308b9ec')\"\n",
              "            title=\"Convert this dataframe to an interactive table.\"\n",
              "            style=\"display:none;\">\n",
              "\n",
              "  <svg xmlns=\"http://www.w3.org/2000/svg\" height=\"24px\" viewBox=\"0 -960 960 960\">\n",
              "    <path d=\"M120-120v-720h720v720H120Zm60-500h600v-160H180v160Zm220 220h160v-160H400v160Zm0 220h160v-160H400v160ZM180-400h160v-160H180v160Zm440 0h160v-160H620v160ZM180-180h160v-160H180v160Zm440 0h160v-160H620v160Z\"/>\n",
              "  </svg>\n",
              "    </button>\n",
              "\n",
              "  <style>\n",
              "    .colab-df-container {\n",
              "      display:flex;\n",
              "      gap: 12px;\n",
              "    }\n",
              "\n",
              "    .colab-df-convert {\n",
              "      background-color: #E8F0FE;\n",
              "      border: none;\n",
              "      border-radius: 50%;\n",
              "      cursor: pointer;\n",
              "      display: none;\n",
              "      fill: #1967D2;\n",
              "      height: 32px;\n",
              "      padding: 0 0 0 0;\n",
              "      width: 32px;\n",
              "    }\n",
              "\n",
              "    .colab-df-convert:hover {\n",
              "      background-color: #E2EBFA;\n",
              "      box-shadow: 0px 1px 2px rgba(60, 64, 67, 0.3), 0px 1px 3px 1px rgba(60, 64, 67, 0.15);\n",
              "      fill: #174EA6;\n",
              "    }\n",
              "\n",
              "    .colab-df-buttons div {\n",
              "      margin-bottom: 4px;\n",
              "    }\n",
              "\n",
              "    [theme=dark] .colab-df-convert {\n",
              "      background-color: #3B4455;\n",
              "      fill: #D2E3FC;\n",
              "    }\n",
              "\n",
              "    [theme=dark] .colab-df-convert:hover {\n",
              "      background-color: #434B5C;\n",
              "      box-shadow: 0px 1px 3px 1px rgba(0, 0, 0, 0.15);\n",
              "      filter: drop-shadow(0px 1px 2px rgba(0, 0, 0, 0.3));\n",
              "      fill: #FFFFFF;\n",
              "    }\n",
              "  </style>\n",
              "\n",
              "    <script>\n",
              "      const buttonEl =\n",
              "        document.querySelector('#df-dd08647c-7a23-45bd-ac01-28b2e308b9ec button.colab-df-convert');\n",
              "      buttonEl.style.display =\n",
              "        google.colab.kernel.accessAllowed ? 'block' : 'none';\n",
              "\n",
              "      async function convertToInteractive(key) {\n",
              "        const element = document.querySelector('#df-dd08647c-7a23-45bd-ac01-28b2e308b9ec');\n",
              "        const dataTable =\n",
              "          await google.colab.kernel.invokeFunction('convertToInteractive',\n",
              "                                                    [key], {});\n",
              "        if (!dataTable) return;\n",
              "\n",
              "        const docLinkHtml = 'Like what you see? Visit the ' +\n",
              "          '<a target=\"_blank\" href=https://colab.research.google.com/notebooks/data_table.ipynb>data table notebook</a>'\n",
              "          + ' to learn more about interactive tables.';\n",
              "        element.innerHTML = '';\n",
              "        dataTable['output_type'] = 'display_data';\n",
              "        await google.colab.output.renderOutput(dataTable, element);\n",
              "        const docLink = document.createElement('div');\n",
              "        docLink.innerHTML = docLinkHtml;\n",
              "        element.appendChild(docLink);\n",
              "      }\n",
              "    </script>\n",
              "  </div>\n",
              "\n",
              "\n",
              "<div id=\"df-9fdd2dec-4afa-423c-8f3e-b29aab4d5d1a\">\n",
              "  <button class=\"colab-df-quickchart\" onclick=\"quickchart('df-9fdd2dec-4afa-423c-8f3e-b29aab4d5d1a')\"\n",
              "            title=\"Suggest charts.\"\n",
              "            style=\"display:none;\">\n",
              "\n",
              "<svg xmlns=\"http://www.w3.org/2000/svg\" height=\"24px\"viewBox=\"0 0 24 24\"\n",
              "     width=\"24px\">\n",
              "    <g>\n",
              "        <path d=\"M19 3H5c-1.1 0-2 .9-2 2v14c0 1.1.9 2 2 2h14c1.1 0 2-.9 2-2V5c0-1.1-.9-2-2-2zM9 17H7v-7h2v7zm4 0h-2V7h2v10zm4 0h-2v-4h2v4z\"/>\n",
              "    </g>\n",
              "</svg>\n",
              "  </button>\n",
              "\n",
              "<style>\n",
              "  .colab-df-quickchart {\n",
              "    background-color: #E8F0FE;\n",
              "    border: none;\n",
              "    border-radius: 50%;\n",
              "    cursor: pointer;\n",
              "    display: none;\n",
              "    fill: #1967D2;\n",
              "    height: 32px;\n",
              "    padding: 0 0 0 0;\n",
              "    width: 32px;\n",
              "  }\n",
              "\n",
              "  .colab-df-quickchart:hover {\n",
              "    background-color: #E2EBFA;\n",
              "    box-shadow: 0px 1px 2px rgba(60, 64, 67, 0.3), 0px 1px 3px 1px rgba(60, 64, 67, 0.15);\n",
              "    fill: #174EA6;\n",
              "  }\n",
              "\n",
              "  [theme=dark] .colab-df-quickchart {\n",
              "    background-color: #3B4455;\n",
              "    fill: #D2E3FC;\n",
              "  }\n",
              "\n",
              "  [theme=dark] .colab-df-quickchart:hover {\n",
              "    background-color: #434B5C;\n",
              "    box-shadow: 0px 1px 3px 1px rgba(0, 0, 0, 0.15);\n",
              "    filter: drop-shadow(0px 1px 2px rgba(0, 0, 0, 0.3));\n",
              "    fill: #FFFFFF;\n",
              "  }\n",
              "</style>\n",
              "\n",
              "  <script>\n",
              "    async function quickchart(key) {\n",
              "      const charts = await google.colab.kernel.invokeFunction(\n",
              "          'suggestCharts', [key], {});\n",
              "    }\n",
              "    (() => {\n",
              "      let quickchartButtonEl =\n",
              "        document.querySelector('#df-9fdd2dec-4afa-423c-8f3e-b29aab4d5d1a button');\n",
              "      quickchartButtonEl.style.display =\n",
              "        google.colab.kernel.accessAllowed ? 'block' : 'none';\n",
              "    })();\n",
              "  </script>\n",
              "</div>\n",
              "    </div>\n",
              "  </div>\n"
            ]
          },
          "metadata": {},
          "execution_count": 31
        }
      ],
      "source": [
        "Crema_df[:2]"
      ]
    },
    {
      "cell_type": "code",
      "execution_count": null,
      "metadata": {
        "id": "WNjJSGh8rpbP",
        "colab": {
          "base_uri": "https://localhost:8080/",
          "height": 75
        },
        "outputId": "74b9d9d4-daab-4b7d-c5db-c07078ea5d46"
      },
      "outputs": [
        {
          "output_type": "execute_result",
          "data": {
            "text/plain": [
              "<IPython.lib.display.Audio object>"
            ],
            "text/html": [
              "\n",
              "                <audio  controls=\"controls\" >\n",
              "                    <source src=\"data:audio/x-wav;base64,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\" type=\"audio/x-wav\" />\n",
              "                    Your browser does not support the audio element.\n",
              "                </audio>\n",
              "              "
            ]
          },
          "metadata": {},
          "execution_count": 32
        }
      ],
      "source": [
        "from IPython.display import Audio\n",
        "Audio(Crema_df.iloc[0].Path)"
      ]
    },
    {
      "cell_type": "code",
      "execution_count": null,
      "metadata": {
        "id": "LN69bC_ksG0k",
        "colab": {
          "base_uri": "https://localhost:8080/",
          "height": 75
        },
        "outputId": "8b7d1eea-95fb-47d8-9643-ccd34dd3b87c"
      },
      "outputs": [
        {
          "output_type": "execute_result",
          "data": {
            "text/plain": [
              "<IPython.lib.display.Audio object>"
            ],
            "text/html": [
              "\n",
              "                <audio  controls=\"controls\" >\n",
              "                    <source src=\"data:audio/x-wav;base64,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\" type=\"audio/x-wav\" />\n",
              "                    Your browser does not support the audio element.\n",
              "                </audio>\n",
              "              "
            ]
          },
          "metadata": {},
          "execution_count": 33
        }
      ],
      "source": [
        "Audio(Crema_df.iloc[1].Path)"
      ]
    }
  ],
  "metadata": {
    "accelerator": "GPU",
    "colab": {
      "provenance": []
    },
    "kernelspec": {
      "display_name": "Python 3",
      "name": "python3"
    },
    "language_info": {
      "name": "python"
    }
  },
  "nbformat": 4,
  "nbformat_minor": 0
}