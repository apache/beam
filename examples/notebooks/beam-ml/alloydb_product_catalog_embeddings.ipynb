{
  "nbformat": 4,
  "nbformat_minor": 0,
  "metadata": {
    "colab": {
      "provenance": [],
      "collapsed_sections": [
        "mcZATJbaOec0",
        "-2hTEi-jzYN6"
      ]
    },
    "kernelspec": {
      "name": "python3",
      "display_name": "Python 3"
    },
    "language_info": {
      "name": "python"
    }
  },
  "cells": [
    {
      "cell_type": "code",
      "source": [
        "# @title ###### Licensed to the Apache Software Foundation (ASF), Version 2.0 (the \"License\")\n",
        "\n",
        "# Licensed to the Apache Software Foundation (ASF) under one\n",
        "# or more contributor license agreements. See the NOTICE file\n",
        "# distributed with this work for additional information\n",
        "# regarding copyright ownership. The ASF licenses this file\n",
        "# to you under the Apache License, Version 2.0 (the\n",
        "# \"License\"); you may not use this file except in compliance\n",
        "# with the License. You may obtain a copy of the License at\n",
        "#\n",
        "#   http://www.apache.org/licenses/LICENSE-2.0\n",
        "#\n",
        "# Unless required by applicable law or agreed to in writing,\n",
        "# software distributed under the License is distributed on an\n",
        "# \"AS IS\" BASIS, WITHOUT WARRANTIES OR CONDITIONS OF ANY\n",
        "# KIND, either express or implied. See the License for the\n",
        "# specific language governing permissions and limitations\n",
        "# under the License"
      ],
      "metadata": {
        "cellView": "form",
        "id": "8ZekaWhZH2SX"
      },
      "execution_count": null,
      "outputs": []
    },
    {
      "cell_type": "markdown",
      "source": [
        "# Vector Embedding Ingestion with Apache Beam and AlloyDB\n",
        "\n",
        "<table align=\"left\">\n",
        "  <td>\n",
        "    <a target=\"_blank\" href=\"https://colab.research.google.com/github/apache/beam/blob/master/examples/notebooks/beam-ml/alloydb_product_catalog_embeddings.ipynb\"><img src=\"https://raw.githubusercontent.com/google/or-tools/main/tools/colab_32px.png\" />Run in Google Colab</a>\n",
        "  </td>\n",
        "  <td>\n",
        "    <a target=\"_blank\" href=\"https://github.com/apache/beam/blob/master/examples/notebooks/beam-ml/alloydb_product_catalog_embeddings.ipynb\"><img src=\"https://raw.githubusercontent.com/google/or-tools/main/tools/github_32px.png\" />View source on GitHub</a>\n",
        "  </td>\n",
        "</table>\n"
      ],
      "metadata": {
        "id": "K6-p-DVrIFTY"
      }
    },
    {
      "cell_type": "markdown",
      "source": [
        "# Introduction\n",
        "\n",
        "This Colab demonstrates how to generate embeddings from data and ingest them into [AlloyDB](https://cloud.google.com/alloydb), Google Cloud's fully managed, PostgreSQL-compatible database service. We'll use Apache Beam and Dataflow for scalable data processing.\n",
        "\n",
        "The goal of this notebook is to make it easy for users to get started with generating embeddings at scale using Apache Beam and storing them in AlloyDB. We focus on building efficient ingestion pipelines that can handle various data sources and embedding models.\n",
        "\n",
        "## Example: Furniture Product Catalog\n",
        "\n",
        "We'll work with a sample e-commerce dataset representing a furniture product catalog. Each product has:\n",
        "\n",
        "*   **Structured fields:** `id`, `name`, `category`, `price`\n",
        "*   **Detailed text descriptions:** Longer text describing the product's features.\n",
        "*   **Additional metadata:** `material`, `dimensions`\n",
        "\n",
        "## Pipeline Overview\n",
        "We will build a pipeline to:\n",
        "1. Read product data\n",
        "2. Convert unstructured product data, to `Chunk`<sup>[1]</sup> type\n",
        "2. Generate Embeddings: Use a pre-trained Hugging Face model (via MLTransform) to create vector embeddings\n",
        "3. Write to AlloyDB: Store the embeddings in an AlloyDB vector database\n",
        "\n",
        "Here's a visualization of the data flow:\n",
        "\n",
        "| Stage                     | Data Representation                                      | Notes                                                                                                                   |\n",
        "| :------------------------ | :------------------------------------------------------- | :---------------------------------------------------------------------------------------------------------------------- |\n",
        "| **1. Ingest Data**      | `{`<br> `  \"id\": \"desk-001\",`<br> `  \"name\": \"Modern Desk\",`<br> `  \"description\": \"Sleek...\",`<br> `  \"category\": \"Desks\",`<br> `  ...`<br> `}` | Supports:<br>- Reading from batch (e.g., files, databases)<br>- Streaming sources (e.g., Pub/Sub).                 |\n",
        "| **2. Convert to Chunks** | `Chunk(` <br>  &nbsp;&nbsp;`id=\"desk-001\",` <br>  &nbsp;&nbsp;`content=Content(` <br>   &nbsp;&nbsp;&nbsp;&nbsp;`text=\"Modern Desk\"` <br> &nbsp;&nbsp; `),` <br>  &nbsp;&nbsp;`metadata={...}` <br> `)`       | - `Chunk` is the structured input for generating and ingesting embeddings.<br>- `chunk.content.text` is the field that is embedded.<br> - Converting to `Chunk` does not mean breaking data into smaller pieces,<br>&nbsp;&nbsp; it's simply organizing your data in a standard format for the embedding pipeline.<br> - `Chunk` allows data to flow seamlessly throughout embedding pipelines. |\n",
        "| **3. Generate Embeddings**| `Chunk(` <br>  &nbsp;&nbsp;`id=\"desk-001\",`<br>  &nbsp;&nbsp;`embedding=[-0.1, 0.6, ...],`<br>  `...)`  | Supports:<br>- Local Hugging Face models<br>- Remote Vertex AI models<br>- Custom embedding implementations.          |\n",
        "| **4. Write to AlloyDB** | **AlloyDB Table (Example Row):**<br>`id: desk-001`<br>`embedding: [-0.1, 0.6, ...]`<br> `name = \"Modern Desk\"`,<br>`Other fields ...` | Supports:<br>- Custom schemas<br>- Conflict resolution strategies for handling updates                               |\n",
        "\n",
        "\n",
        "[1]: Chunk represents an embeddable unit of input. It specifies which fields should be embedded and which fields should be treated as metadata. Converting to Chunk does not necessarily mean breaking your text into smaller pieces - it's primarily about structuring your data for the embedding pipeline. For very long texts that exceed the embedding model's maximum input size, you can optionally [use Langchain TextSplitters](https://beam.apache.org/releases/pydoc/2.63.0/apache_beam.ml.rag.chunking.langchain.html) to break the text into smaller `Chunk`'s.\n",
        "\n",
        "## Execution Environments\n",
        "\n",
        "This notebook demonstrates two execution environments:\n",
        "\n",
        "1. **DirectRunner (Local Execution)**: All examples in this notebook run on DirectRunner by default, which executes the pipeline locally. This is ideal for development, testing, and processing small datasets.\n",
        "\n",
        "2. **DataflowRunner (Distributed Execution)**: The [Run on Dataflow](#scrollTo=Quick_Start_Run_on_Dataflow) section demonstrates how to execute the same pipeline on Google Cloud Dataflow for scalable, distributed processing. This is recommended for production workloads and large datasets.\n",
        "\n",
        "All examples in this notebook can be adapted to run on Dataflow by following the pattern shown in the \"Run on Dataflow\" section."
      ],
      "metadata": {
        "id": "WWwFCLRHZPm4"
      }
    },
    {
      "cell_type": "markdown",
      "source": [
        "# Setup and Prerequisites\n",
        "\n",
        "This example requires:\n",
        "1. An AlloyDB instance with pgvector extension enabled\n",
        "2. Apache Beam 2.63.0 or later"
      ],
      "metadata": {
        "id": "z2eAyRECIP3z"
      }
    },
    {
      "cell_type": "markdown",
      "source": [
        "## Install Packages and Dependencies\n",
        "\n",
        "First, let's install the Python packages required for the embedding and ingestion pipeline:"
      ],
      "metadata": {
        "id": "WhOOPUBa6PyW"
      }
    },
    {
      "cell_type": "code",
      "source": [
        "# Apache Beam with GCP support\n",
        "!pip install apache_beam[gcp]==v2.63.0 --quiet\n",
        "# Huggingface sentence-transformers for embedding models\n",
        "!pip install sentence-transformers --quiet"
      ],
      "metadata": {
        "id": "gCWRw2YE11wN"
      },
      "execution_count": null,
      "outputs": []
    },
    {
      "cell_type": "markdown",
      "source": [
        "Next, let's install psycopg2-binary to help set up our test database."
      ],
      "metadata": {
        "id": "4aqYZ_pG1oYb"
      }
    },
    {
      "cell_type": "code",
      "source": [
        "!pip install psycopg2-binary --quiet"
      ],
      "metadata": {
        "id": "eOYjnVDR87IE",
        "colab": {
          "base_uri": "https://localhost:8080/"
        },
        "outputId": "b358dd5d-f9bd-49c6-bedd-8b72c8ca7391"
      },
      "execution_count": null,
      "outputs": [
        {
          "output_type": "stream",
          "name": "stdout",
          "text": [
            "\u001b[?25l   \u001b[90m━━━━━━━━━━━━━━━━━━━━━━━━━━━━━━━━━━━━━━━━\u001b[0m \u001b[32m0.0/3.0 MB\u001b[0m \u001b[31m?\u001b[0m eta \u001b[36m-:--:--\u001b[0m\r\u001b[2K   \u001b[91m━━━━━━━━━\u001b[0m\u001b[91m╸\u001b[0m\u001b[90m━━━━━━━━━━━━━━━━━━━━━━━━━━━━━━\u001b[0m \u001b[32m0.7/3.0 MB\u001b[0m \u001b[31m23.3 MB/s\u001b[0m eta \u001b[36m0:00:01\u001b[0m\r\u001b[2K   \u001b[91m━━━━━━━━━━━━━━━━━━━━━━━━━━━━━━━━━━━━━━━\u001b[0m\u001b[91m╸\u001b[0m \u001b[32m3.0/3.0 MB\u001b[0m \u001b[31m41.3 MB/s\u001b[0m eta \u001b[36m0:00:01\u001b[0m\r\u001b[2K   \u001b[90m━━━━━━━━━━━━━━━━━━━━━━━━━━━━━━━━━━━━━━━━\u001b[0m \u001b[32m3.0/3.0 MB\u001b[0m \u001b[31m30.0 MB/s\u001b[0m eta \u001b[36m0:00:00\u001b[0m\n",
            "\u001b[?25h"
          ]
        }
      ]
    },
    {
      "cell_type": "markdown",
      "source": [
        "## Database Setup\n",
        "\n",
        "To connect to AlloyDB, you'll need:\n",
        "1. The JDBC connection URL\n",
        "2. Database credentials\n",
        "3. The pgvector extension enabled in your database\n",
        "\n",
        "Replace these placeholder values with your actual AlloyDB connection details:"
      ],
      "metadata": {
        "id": "VhgbpTKzI-zI"
      }
    },
    {
      "cell_type": "code",
      "source": [
        "ALLOYDB_HOST = \"\" # @param {type:'string'}\n",
        "DB_NAME = \"postgres\" #  @param {type:'string'}\n",
        "JDBC_URL = f\"jdbc:postgresql://{ALLOYDB_HOST}:5432/{DB_NAME}\"\n",
        "DB_USER = \"postgres\" # @param {type:'string'}\n",
        "DB_PASSWORD = \"\" # @param {type:'string'}"
      ],
      "metadata": {
        "id": "oqKQT0c_JB5f"
      },
      "execution_count": null,
      "outputs": []
    },
    {
      "cell_type": "markdown",
      "source": [
        "### To connect from Colab to AlloyDB, you'll need one of the following:\n",
        "1. Public IP: Enable public IP on your AlloyDB instance and add your Colab IP to the authorized networks\n",
        "2. Auth Proxy: Use the Cloud SQL Auth Proxy to establish a secure connection\n",
        "3. VPC: Run this notebook on a Compute Engine VM in the same VPC as your AlloyDB instance\n",
        "\n",
        "Your current IP address (for configuring AlloyDB authorized networks if using public IP):\n"
      ],
      "metadata": {
        "id": "VoURfADof7mO"
      }
    },
    {
      "cell_type": "code",
      "source": [
        "!curl ifconfig.me"
      ],
      "metadata": {
        "colab": {
          "base_uri": "https://localhost:8080/"
        },
        "id": "qIdPWsOOsn9b",
        "outputId": "281121d9-53f5-446f-a018-d27e3193546b"
      },
      "execution_count": null,
      "outputs": [
        {
          "output_type": "stream",
          "name": "stdout",
          "text": [
            "34.168.233.188"
          ]
        }
      ]
    },
    {
      "cell_type": "code",
      "source": [
        "#@title Postgres helpers for creating tables and verifying data\n",
        "import psycopg2\n",
        "from psycopg2.extensions import ISOLATION_LEVEL_AUTOCOMMIT\n",
        "\n",
        "def setup_alloydb_table(host: str,\n",
        "                       database: str,\n",
        "                      table_name: str,\n",
        "                       user: str,\n",
        "                       password: str,\n",
        "                       port: int = 5432):\n",
        "    \"\"\"Set up AlloyDB table with vector extension and proper schema.\n",
        "\n",
        "    Args:\n",
        "        host: AlloyDB instance host\n",
        "        database: Database name\n",
        "        user: Database user\n",
        "        password: Database password\n",
        "        port: Database port (default: 5432)\n",
        "    \"\"\"\n",
        "    # Connection string\n",
        "    conn_string = f\"host={host} dbname={database} user={user} password={password} port={port}\"\n",
        "\n",
        "    try:\n",
        "        # Connect to the database\n",
        "        conn = psycopg2.connect(conn_string)\n",
        "        conn.set_isolation_level(ISOLATION_LEVEL_AUTOCOMMIT)\n",
        "        cur = conn.cursor()\n",
        "\n",
        "        print(\"Connected to AlloyDB successfully!\")\n",
        "\n",
        "        # Create pgvector extension if it doesn't exist\n",
        "        print(\"Creating pgvector extension...\")\n",
        "        cur.execute(\"CREATE EXTENSION IF NOT EXISTS vector;\")\n",
        "\n",
        "        # Create the product_embeddings table\n",
        "        print(\"Creating table...\")\n",
        "        cur.execute(f\"\"\"\n",
        "          DROP TABLE IF EXISTS {table_name};\n",
        "        \"\"\")\n",
        "        cur.execute(f\"\"\"\n",
        "          CREATE TABLE IF NOT EXISTS {table_name} (\n",
        "              {table_schema}\n",
        "          );\n",
        "        \"\"\")\n",
        "\n",
        "        print(\"Setup completed successfully!\")\n",
        "\n",
        "    except Exception as e:\n",
        "        print(f\"An error occurred: {e}\")\n",
        "    finally:\n",
        "        if 'cur' in locals():\n",
        "            cur.close()\n",
        "        if 'conn' in locals():\n",
        "            conn.close()\n",
        "\n",
        "# Example usage (user will need to provide their actual connection details)\n",
        "\"\"\"\n",
        "To set up your AlloyDB table, run the following with your connection details:\n",
        "\n",
        "setup_alloydb_table(\n",
        "    host=\"your-alloydb-host\",\n",
        "    database=\"your-database\",\n",
        "    user=\"your-username\",\n",
        "    password=\"your-password\"\n",
        ")\n",
        "\"\"\"\n",
        "\n",
        "\"\"\"### Test the Connection and Table Setup\n",
        "\n",
        "You can verify the setup with a simple query:\n",
        "\"\"\"\n",
        "\n",
        "def test_alloydb_connection(host: str,\n",
        "                          database: str,\n",
        "                          table_name: str,\n",
        "                          user: str,\n",
        "                          password: str,\n",
        "                          port: int = 5432):\n",
        "    \"\"\"Test the AlloyDB connection and verify table creation.\n",
        "\n",
        "    Args:\n",
        "        host: AlloyDB instance host\n",
        "        database: Database name\n",
        "        user: Database user\n",
        "        password: Database password\n",
        "        port: Database port (default: 5432)\n",
        "    \"\"\"\n",
        "    conn_string = f\"host={host} dbname={database} user={user} password={password} port={port}\"\n",
        "\n",
        "    try:\n",
        "        conn = psycopg2.connect(conn_string)\n",
        "        cur = conn.cursor()\n",
        "\n",
        "        # Check if table exists\n",
        "        cur.execute(f\"\"\"\n",
        "            SELECT EXISTS (\n",
        "                SELECT FROM information_schema.tables\n",
        "                WHERE table_name = '{table_name}'\n",
        "            );\n",
        "        \"\"\")\n",
        "        table_exists = cur.fetchone()[0]\n",
        "\n",
        "        if table_exists:\n",
        "            print(f\"✓ {table_name} table exists\")\n",
        "\n",
        "            # Check if vector extension is installed\n",
        "            cur.execute(\"SELECT * FROM pg_extension WHERE extname = 'vector';\")\n",
        "            if cur.fetchone():\n",
        "                print(\"✓ pgvector extension is installed\")\n",
        "            else:\n",
        "                print(\"✗ pgvector extension is not installed\")\n",
        "        else:\n",
        "            print(f\"✗ {table_name} table does not exist\")\n",
        "\n",
        "    except Exception as e:\n",
        "        print(f\"Connection test failed: {e}\")\n",
        "    finally:\n",
        "        if 'cur' in locals():\n",
        "            cur.close()\n",
        "        if 'conn' in locals():\n",
        "            conn.close()\n",
        "\n",
        "def verify_embeddings(host: str,\n",
        "                     database: str,\n",
        "                     table_name: str,\n",
        "                     user: str,\n",
        "                     password: str,\n",
        "                     port: int = 5432):\n",
        "    \"\"\"Connect to AlloyDB and print all written products.\"\"\"\n",
        "    conn = psycopg2.connect(\n",
        "        host=host,\n",
        "        database=database,\n",
        "        user=user,\n",
        "        password=password,\n",
        "        port=port\n",
        "    )\n",
        "\n",
        "    try:\n",
        "        with conn.cursor() as cur:\n",
        "            # Simple SELECT * query\n",
        "            cur.execute(f\"SELECT * FROM {table_name};\")\n",
        "            rows = cur.fetchall()\n",
        "\n",
        "            # Get column names from cursor description\n",
        "            columns = [desc[0] for desc in cur.description]\n",
        "\n",
        "            print(f\"\\nFound {len(rows)} products:\")\n",
        "            print(\"-\" * 80)\n",
        "\n",
        "            # Print each row with column names\n",
        "            for row in rows:\n",
        "                for col, val in zip(columns, row):\n",
        "                    print(f\"{col}: {val}\")\n",
        "                print(\"-\" * 80)\n",
        "\n",
        "    finally:\n",
        "        conn.close()"
      ],
      "metadata": {
        "id": "l_BBCKl7KKcb",
        "cellView": "form"
      },
      "execution_count": null,
      "outputs": []
    },
    {
      "cell_type": "markdown",
      "source": [
        "## Create Sample Product Catalog Data\n",
        "\n",
        "We'll create a typical e-commerce catalog where you might want to:\n",
        "- Generate embeddings for product text\n",
        "- Store vectors alongside product data\n",
        "- Enable vector similarity features\n",
        "\n",
        "Example product:\n",
        "```python\n",
        "{\n",
        "    \"id\": \"desk-001\",\n",
        "    \"name\": \"Modern Minimalist Desk\",\n",
        "    \"description\": \"Sleek minimalist desk with clean lines and a spacious work surface. \"\n",
        "                  \"Features cable management system and sturdy steel frame. \"\n",
        "                  \"Perfect for contemporary home offices and workspaces.\",\n",
        "    \"category\": \"Desks\",\n",
        "    \"price\": 399.99,\n",
        "    \"material\": \"Engineered Wood, Steel\",\n",
        "    \"dimensions\": \"60W x 30D x 29H inches\"\n",
        "}\n",
        "```"
      ],
      "metadata": {
        "id": "70z2O4nbOuaM"
      }
    },
    {
      "cell_type": "code",
      "source": [
        "#@title Create sample data\n",
        "PRODUCTS_DATA = [\n",
        "    {\n",
        "        \"id\": \"desk-001\",\n",
        "        \"name\": \"Modern Minimalist Desk\",\n",
        "        \"description\": \"Sleek minimalist desk with clean lines and a spacious work surface. \"\n",
        "                      \"Features cable management system and sturdy steel frame. \"\n",
        "                      \"Perfect for contemporary home offices and workspaces.\",\n",
        "        \"category\": \"Desks\",\n",
        "        \"price\": 399.99,\n",
        "        \"material\": \"Engineered Wood, Steel\",\n",
        "        \"dimensions\": \"60W x 30D x 29H inches\"\n",
        "    },\n",
        "    {\n",
        "        \"id\": \"chair-001\",\n",
        "        \"name\": \"Ergonomic Mesh Office Chair\",\n",
        "        \"description\": \"Premium ergonomic office chair with breathable mesh back, \"\n",
        "                      \"adjustable lumbar support, and 4D armrests. Features synchronized \"\n",
        "                      \"tilt mechanism and memory foam seat cushion. Ideal for long work hours.\",\n",
        "        \"category\": \"Office Chairs\",\n",
        "        \"price\": 299.99,\n",
        "        \"material\": \"Mesh, Metal, Premium Foam\",\n",
        "        \"dimensions\": \"26W x 26D x 48H inches\"\n",
        "    },\n",
        "    {\n",
        "        \"id\": \"sofa-001\",\n",
        "        \"name\": \"Contemporary Sectional Sofa\",\n",
        "        \"description\": \"Modern L-shaped sectional with chaise lounge. Upholstered in premium \"\n",
        "                      \"performance fabric. Features deep seats, plush cushions, and solid \"\n",
        "                      \"wood legs. Perfect for modern living rooms.\",\n",
        "        \"category\": \"Sofas\",\n",
        "        \"price\": 1299.99,\n",
        "        \"material\": \"Performance Fabric, Solid Wood\",\n",
        "        \"dimensions\": \"112W x 65D x 34H inches\"\n",
        "    },\n",
        "    {\n",
        "        \"id\": \"table-001\",\n",
        "        \"name\": \"Rustic Dining Table\",\n",
        "        \"description\": \"Farmhouse-style dining table with solid wood construction. \"\n",
        "                      \"Features distressed finish and trestle base. Seats 6-8 people \"\n",
        "                      \"comfortably. Perfect for family gatherings.\",\n",
        "        \"category\": \"Dining Tables\",\n",
        "        \"price\": 899.99,\n",
        "        \"material\": \"Solid Pine Wood\",\n",
        "        \"dimensions\": \"72W x 42D x 30H inches\"\n",
        "    },\n",
        "    {\n",
        "        \"id\": \"bed-001\",\n",
        "        \"name\": \"Platform Storage Bed\",\n",
        "        \"description\": \"Modern queen platform bed with integrated storage drawers. \"\n",
        "                      \"Features upholstered headboard and durable wood slat support. \"\n",
        "                      \"No box spring needed. Perfect for maximizing bedroom space.\",\n",
        "        \"category\": \"Beds\",\n",
        "        \"price\": 799.99,\n",
        "        \"material\": \"Engineered Wood, Linen Fabric\",\n",
        "        \"dimensions\": \"65W x 86D x 48H inches\"\n",
        "    }\n",
        "]\n",
        "print(f\"\"\"✓ Created PRODUCTS_DATA with {len(PRODUCTS_DATA)} records\"\"\")"
      ],
      "metadata": {
        "id": "7_J__S8JOwJ_",
        "cellView": "form",
        "colab": {
          "base_uri": "https://localhost:8080/"
        },
        "outputId": "2b877676-25ad-45d2-ca7f-892f9a685075"
      },
      "execution_count": null,
      "outputs": [
        {
          "output_type": "stream",
          "name": "stdout",
          "text": [
            "✓ Created PRODUCTS_DATA with 5 records\n"
          ]
        }
      ]
    },
    {
      "cell_type": "markdown",
      "source": [
        "## Importing Pipeline Components\n",
        "\n",
        "We import the following for configuring our embedding ingestion pipeline:\n",
        "- `Chunk`, the structured input for generating and ingesting embeddings\n",
        "- `AlloyDBConnectionConfig` for configuring database connection information\n",
        "- `AlloyDBVectorWriterConfig` for configuring write behavior like schema mapping and conflict resolution"
      ],
      "metadata": {
        "id": "KUHPsWzQFKpL"
      }
    },
    {
      "cell_type": "code",
      "source": [
        "# Embedding-specific imports\n",
        "from apache_beam.ml.rag.ingestion.alloydb import (\n",
        "    AlloyDBVectorWriterConfig,\n",
        "    AlloyDBConnectionConfig\n",
        ")\n",
        "from apache_beam.ml.rag.ingestion.base import VectorDatabaseWriteTransform\n",
        "from apache_beam.ml.rag.types import Chunk, Content\n",
        "from apache_beam.ml.rag.embeddings.huggingface import HuggingfaceTextEmbeddings\n",
        "\n",
        "# Apache Beam core\n",
        "import apache_beam as beam\n",
        "from apache_beam.options.pipeline_options import PipelineOptions\n",
        "from apache_beam.ml.transforms.base import MLTransform"
      ],
      "metadata": {
        "id": "fFMjPZaelTi2"
      },
      "execution_count": null,
      "outputs": []
    },
    {
      "cell_type": "markdown",
      "source": [
        "# What's next?\n",
        "\n",
        "This colab covers several use cases that you can explore based on your needs after completing the Setup and Prerequisites:\n",
        "\n",
        "🔰 **New to vector embeddings?**\n",
        "- [Start with Quick Start](#scrollTo=Quick_Start_Basic_Vector_Ingestion)\n",
        "- Uses simple out-of-box schema\n",
        "- Perfect for initial testing\n",
        "\n",
        "🚀 **Need to scale to large datasets?**\n",
        "- [Go to Run on Dataflow](#scrollTo=Quick_Start_Run_on_Dataflow)\n",
        "- Learn how to execute the same pipeline at scale\n",
        "- Fully managed\n",
        "- Process large datasets efficiently\n",
        "\n",
        "🎯 **Have a specific schema?**\n",
        "- [Go to Custom Schema](#scrollTo=Custom_Schema_with_Column_Mapping)\n",
        "- Learn to use different column names\n",
        "- Map metadata to individual columns\n",
        "\n",
        "🔄 **Need to update embeddings?**\n",
        "- [Check out Updating Embeddings](#scrollTo=Update_Embeddings_and_Metadata_with_Conflict_Resolution)\n",
        "- Handle conflicts\n",
        "- Selective field updates\n",
        "\n",
        "🔗 **Need to generate and Store Embeddings for Existing AlloyDB Data??**\n",
        "- [See Database Integration](#scrollTo=Adding_Embeddings_to_Existing_Database_Records)\n",
        "- Read data from your AlloyDB table.\n",
        "- Generate embeddings for the relevant fields.\n",
        "- Update your table (or a related table) with the generated embeddings.\n",
        "\n",
        "🤖 **Want to use Google's AI models?**\n",
        "- [Try Vertex AI Embeddings](#scrollTo=Generate_Embeddings_with_VertexAI_Text_Embeddings)\n",
        "- Use Google's powerful embedding models\n",
        "- Seamlessly integrate with other Google Cloud services"
      ],
      "metadata": {
        "id": "FjUzsUtXzFof"
      }
    },
    {
      "cell_type": "markdown",
      "source": [
        "<a name=\"quickstart\"></a>\n",
        "# Quick Start: Basic Vector Ingestion\n",
        "\n",
        "This section shows the simplest way to generate embeddings and store them in AlloyDB."
      ],
      "metadata": {
        "id": "pLEi3Z4wKMOX"
      }
    },
    {
      "cell_type": "markdown",
      "source": [
        "## Create table with default schema\n",
        "\n",
        "Before running the pipeline, we need a table to store our embeddings:"
      ],
      "metadata": {
        "id": "LWqEgqjQOcbA"
      }
    },
    {
      "cell_type": "code",
      "source": [
        "table_name = \"default_product_embeddings\"\n",
        "table_schema = f\"\"\"\n",
        "  id VARCHAR PRIMARY KEY,\n",
        "  embedding VECTOR(384) NOT NULL,\n",
        "  content text,\n",
        "  metadata JSONB\n",
        "\"\"\"\n",
        "setup_alloydb_table(ALLOYDB_HOST, DB_NAME, table_name, DB_USER, DB_PASSWORD)\n",
        "test_alloydb_connection(ALLOYDB_HOST, DB_NAME, table_name, DB_USER, DB_PASSWORD)"
      ],
      "metadata": {
        "colab": {
          "base_uri": "https://localhost:8080/"
        },
        "id": "93YnjdJkFWOi",
        "outputId": "f843e7db-d62a-468c-a211-4bace73d10c6"
      },
      "execution_count": null,
      "outputs": [
        {
          "output_type": "stream",
          "name": "stdout",
          "text": [
            "Connected to AlloyDB successfully!\n",
            "Creating pgvector extension...\n",
            "Creating table...\n",
            "Setup completed successfully!\n",
            "✓ default_product_embeddings table exists\n",
            "✓ pgvector extension is installed\n"
          ]
        }
      ]
    },
    {
      "cell_type": "markdown",
      "source": [
        "## Configure Pipeline Components\n",
        "\n",
        "Now define the components that control the pipeline behavior:"
      ],
      "metadata": {
        "id": "DikTnoGbOioG"
      }
    },
    {
      "cell_type": "markdown",
      "source": [
        "### Map products to Chunks\n",
        "- Our data is ingested as product dictionaries\n",
        "- Embedding generation and ingestion processes `Chunks`\n",
        "- We convert each product dictionary to a `Chunk` to configure what text to embed and what to treat as metadata"
      ],
      "metadata": {
        "id": "M8rVyZ6o-Nep"
      }
    },
    {
      "cell_type": "code",
      "source": [
        "from typing import Dict, Any\n",
        "\n",
        "# The create_chunk function converts our product dictionaries to Chunks.\n",
        "# This doesn't split the text - it simply structures it in the format\n",
        "# expected by the embedding pipeline components.\n",
        "def create_chunk(product: Dict[str, Any]) -> Chunk:\n",
        "    \"\"\"Convert a product dictionary into a Chunk object.\n",
        "\n",
        "       The pipeline components (MLTransform, VectorDatabaseWriteTransform)\n",
        "       work with Chunk objects. This function:\n",
        "       1. Extracts text we want to embed\n",
        "       2. Preserves product data as metadata\n",
        "       3. Creates a Chunk in the expected format\n",
        "\n",
        "    Args:\n",
        "        product: Dictionary containing product information\n",
        "\n",
        "    Returns:\n",
        "        Chunk: A Chunk object ready for embedding\n",
        "    \"\"\"\n",
        "    return Chunk(\n",
        "        content=Content(\n",
        "            text=f\"{product['name']}: {product['description']}\"\n",
        "        ), # The text that will be embedded\n",
        "        id=product['id'],  # Use product ID as chunk ID\n",
        "        metadata=product,  # Store all product info in metadata\n",
        "    )"
      ],
      "metadata": {
        "id": "Rm_IX5U6mP_r"
      },
      "execution_count": null,
      "outputs": []
    },
    {
      "cell_type": "markdown",
      "source": [
        "### Generate embeddings with HuggingFace"
      ],
      "metadata": {
        "id": "xJaI9m3D7Vw-"
      }
    },
    {
      "cell_type": "markdown",
      "source": [
        "We use a local pre-trained Hugging Face model to create vector embeddings from the product descriptions."
      ],
      "metadata": {
        "id": "0dlm1fjQh2dX"
      }
    },
    {
      "cell_type": "code",
      "source": [
        "huggingface_embedder = HuggingfaceTextEmbeddings(\n",
        "    model_name=\"sentence-transformers/all-MiniLM-L6-v2\"\n",
        ")"
      ],
      "metadata": {
        "id": "E5LkHmjV7l2S"
      },
      "execution_count": null,
      "outputs": []
    },
    {
      "cell_type": "markdown",
      "source": [
        "### Write to AlloyDB\n",
        "\n",
        "The default AlloyDBVectorWriterConfig maps Chunk fields to database columns as:\n",
        "\n",
        "| Database Column | Chunk Field | Description |\n",
        "|----------------|-------------|-------------|\n",
        "| id             | chunk.id    | Unique identifier |\n",
        "| embedding      | chunk.embedding.dense_embedding | Vector representation |\n",
        "| content        | chunk.content.text | Text that was embedded |\n",
        "| metadata       | chunk.metadata | Additional data as JSONB |"
      ],
      "metadata": {
        "id": "vVv8hD5wQo3w"
      }
    },
    {
      "cell_type": "code",
      "source": [
        "alloydb_writer_config = AlloyDBVectorWriterConfig(\n",
        "    connection_config = AlloyDBConnectionConfig(JDBC_URL, DB_USER, DB_PASSWORD),\n",
        "    table_name=table_name\n",
        ")"
      ],
      "metadata": {
        "id": "moKsz_6xQt-E"
      },
      "execution_count": null,
      "outputs": []
    },
    {
      "cell_type": "markdown",
      "source": [
        "## Assemble and Run Pipeline\n",
        "\n",
        "Now we can create our pipeline that:\n",
        "1. Takes our product data\n",
        "2. Converts each product to a Chunk\n",
        "3. Generates embeddings for each Chunk\n",
        "4. Stores everything in AlloyDB"
      ],
      "metadata": {
        "id": "Ww2BPxTNKmL2"
      }
    },
    {
      "cell_type": "code",
      "source": [
        "import tempfile\n",
        "\n",
        "# Executing on DirectRunner (local execution)\n",
        "with beam.Pipeline() as p:\n",
        "    _ = (\n",
        "            p\n",
        "            | 'Create Products' >> beam.Create(PRODUCTS_DATA)\n",
        "            | 'Convert to Chunks' >> beam.Map(create_chunk)\n",
        "            | 'Generate Embeddings' >> MLTransform(write_artifact_location=tempfile.mkdtemp())\n",
        "              .with_transform(huggingface_embedder)\n",
        "            | 'Write to AlloyDB' >> VectorDatabaseWriteTransform(\n",
        "                alloydb_writer_config\n",
        "            )\n",
        "        )"
      ],
      "metadata": {
        "id": "lyS3IpNBDgYw"
      },
      "execution_count": null,
      "outputs": []
    },
    {
      "cell_type": "markdown",
      "source": [
        "## Verify Embeddings\n",
        "Let's check what was written to our AlloyDB table:"
      ],
      "metadata": {
        "id": "Qm97EAww6RvW"
      }
    },
    {
      "cell_type": "code",
      "source": [
        "verify_embeddings(ALLOYDB_HOST, DB_NAME, table_name, DB_USER, DB_PASSWORD)"
      ],
      "metadata": {
        "colab": {
          "base_uri": "https://localhost:8080/"
        },
        "id": "-H3t2cIN6lO_",
        "outputId": "895540d4-d312-4245-b7e0-ae15b7677f6b"
      },
      "execution_count": null,
      "outputs": [
        {
          "output_type": "stream",
          "name": "stdout",
          "text": [
            "\n",
            "Found 5 products:\n",
            "--------------------------------------------------------------------------------\n",
            "id: desk-001\n",
            "embedding: [-0.001057815,0.060585838,0.06550077,-0.020135332,0.0063834586,-0.016612189,-0.0031698928,0.10957789,-0.0820077,0.087466136,0.05336146,0.018569656,0.057456993,0.029180786,-0.0739839,-0.010892165,0.07001466,-0.03374081,0.051436793,0.07567188,-0.13465184,-0.032239668,-0.04638205,-0.029914198,-0.009278446,0.06718533,-0.051145084,0.042603016,0.007903699,-0.041032363,-0.04231419,-0.01325918,0.071415,0.040334247,-0.01094771,0.003317118,0.08076268,-0.017956244,-0.010060241,-0.050612617,-0.06333365,-0.015355688,-0.016382031,0.04253677,-0.0060182833,0.033938967,-0.022733817,-0.13714638,-0.046747543,-0.053437427,0.03156534,0.0036609878,0.008148901,0.0004498263,-0.0139052775,-0.0072347587,0.003329244,0.02151876,-0.002358143,-0.04545856,0.06712152,-0.06171683,0.0034830095,0.03768045,0.029724924,0.046725973,-0.041152626,0.022954624,0.06727486,-0.047817953,-0.022311574,-0.006367141,-0.034347665,0.0454951,7.043634e-05,-0.113772176,0.0037808658,-0.016453175,0.007873811,0.08294731,-0.048830684,0.043934047,-0.072832346,0.075656876,-0.06601299,0.00082295056,-0.055017143,-0.046629313,0.003992826,-0.11849778,0.06739192,0.04190433,-0.042112317,0.012006758,-0.06356277,-0.052011997,0.04062942,0.0008779314,-0.10618619,0.058837418,-0.035058603,0.024972772,0.14561659,0.014725338,0.029324891,-0.0053626252,0.02814062,-0.066259705,-0.07870076,-0.03763159,-0.05551403,-0.06366927,-0.17272565,-0.07403342,0.028536445,-0.019524984,-0.006076428,-0.018281966,0.08323952,0.043096125,0.044669934,0.003794127,0.003360419,0.0038145634,0.017628977,0.053377304,0.04699343,1.8948987e-33,0.027950196,0.066461906,-0.028161732,-0.006389328,0.06030824,0.020444188,0.018832795,0.10140829,0.026494414,0.036146514,-0.026098972,-0.05159774,0.0011205175,0.023721311,0.05779271,-0.04863308,0.025785096,-0.010925589,-0.007652651,0.041972544,-0.05286998,0.09319047,0.041135963,-0.05854327,0.030171309,-0.04105334,0.07038842,-0.020940648,-0.02166687,-0.020070298,-0.06315385,-0.009049079,0.00078501547,-0.015395543,-0.050217472,0.027864248,-0.01698884,-0.01361225,0.083218426,-0.00680146,-0.090368144,0.065700725,0.047122493,-0.018271266,0.038392376,0.067258775,0.15831783,0.0318156,0.05744108,-0.030053735,-0.017398562,0.05620426,0.03845883,0.07659209,-0.005228263,-0.07242891,-0.017286185,-0.06076563,0.010254259,0.04249031,0.0054570134,0.024156824,-0.03405574,0.03224425,0.043352388,0.0066218483,0.009701542,-0.0061702006,0.03439675,0.014364707,-0.07169268,-0.030080838,0.057064775,0.021052632,0.10315803,0.08609661,0.04735578,-0.09807956,-0.019662429,-0.06984223,-0.052169047,0.009997571,0.016189488,0.057329655,0.031931113,0.096302606,0.10293316,-0.016209126,-0.024686016,0.058873244,-0.03085521,-0.0737745,-0.042329386,0.060528547,0.004806,-2.3104881e-33,0.017774018,-0.033051778,-0.09566817,0.024296569,0.028017169,0.023638517,0.0076059336,-0.04351966,-0.06524873,0.07048606,0.07029284,-0.0062136357,0.018824892,0.0043494813,0.029355347,0.116440654,-0.049167324,-0.06571007,0.041200016,0.007027206,0.11581624,0.05254668,-0.11179672,-0.07191128,0.010691769,-0.02362584,-0.07400684,-0.035415992,0.040427044,-0.017533168,-0.10204969,-0.047531646,0.011986546,0.011579142,0.08209371,0.061332937,-0.12630121,0.06260612,0.021209786,0.0024153567,0.004879835,0.03823057,0.021687144,0.017282587,-0.0058235675,-0.041638855,-0.120774835,-0.05274331,-0.0901771,-0.062420562,-0.04692266,-0.040547855,-0.017517554,-0.033914257,-0.024906259,-0.044837877,-0.004414193,-0.022200402,-0.020926967,0.01944887,0.0038933426,-0.07519052,-0.075344004,-0.00925266,0.038882483,0.029127559,0.014658826,0.02615534,-0.06710353,-0.005388302,0.035875384,0.006635634,0.01845464,-0.029214669,0.030962888,0.03324723,0.0805287,-0.0140210055,0.034357224,0.0061449767,0.06392108,0.022795836,0.028148135,-0.08538441,0.030423703,0.076761656,-0.09278483,-0.06254251,-0.007314473,0.010542858,-0.014869807,-0.014268346,0.0038216454,0.043618064,-0.055879563,-2.8660342e-08,-0.026919082,-0.05864714,-0.00941353,-0.0044262623,-0.017677033,-0.06411421,0.029808018,-0.044010296,-0.057445858,-0.002930679,0.03394864,-0.07481234,-0.043237135,0.06960515,0.062109653,0.08589196,-0.016729712,0.040591072,-0.044696674,-0.013019682,0.042662516,-0.01285427,-0.004786111,0.015622201,-0.02249433,-0.011467345,0.08628773,0.028841617,0.011362021,0.022700336,0.036347754,0.023580225,0.006108897,0.022842467,0.03529631,0.0621403,-0.013211548,0.02976385,-0.112288035,-0.023612317,-0.030943196,-0.11450085,-0.07902988,0.00446465,0.028691083,-0.0420317,-0.040882185,-0.047819637,0.011485365,-0.010957185,0.020327702,0.011172781,0.037923362,0.009317626,-0.038125765,0.025017489,0.11998403,0.022702718,-0.07397983,-0.029796196,0.04002992,0.09435436,0.0037625604,0.05090331]\n",
            "content: Modern Minimalist Desk: Sleek minimalist desk with clean lines and a spacious work surface. Features cable management system and sturdy steel frame. Perfect for contemporary home offices and workspaces.\n",
            "metadata: {'id': 'desk-001', 'name': 'Modern Minimalist Desk', 'price': 399.99, 'category': 'Desks', 'material': 'Engineered Wood, Steel', 'dimensions': '60W x 30D x 29H inches', 'description': 'Sleek minimalist desk with clean lines and a spacious work surface. Features cable management system and sturdy steel frame. Perfect for contemporary home offices and workspaces.'}\n",
            "--------------------------------------------------------------------------------\n",
            "id: chair-001\n",
            "embedding: [0.024034372,0.049643356,0.02380121,0.023434717,-0.011474271,0.054758757,0.0066280444,-0.051804464,0.08406081,0.06561691,0.033215098,0.041509252,0.046736144,-0.008781649,0.05269269,-0.0072167655,0.07655435,0.016920773,0.041529574,0.10170104,-0.046693612,0.007743627,-0.021965401,0.020911846,0.0016925617,-0.004212816,0.02975341,-0.009085063,-0.03463205,-0.0674854,0.00025548987,-0.05542992,0.07586049,-0.0026962007,-0.04767921,0.0036855254,0.023553539,-0.03415768,-0.06004116,0.012130842,-0.10083736,0.03109773,0.035963405,-0.04431592,-0.022646168,-0.017285887,-0.045440447,0.0034619966,-0.03763695,0.06251875,0.043229688,-0.055833027,-0.029337516,-0.053216234,-0.0012941177,0.010824193,-0.039729252,0.012684192,-0.04650574,-0.05921986,0.08073494,-0.060871013,0.016936747,0.032665804,-0.09365399,0.02095727,-0.06390673,-0.07115557,-0.057616968,-0.03194699,-0.09837389,-0.020984048,0.008685158,0.012940995,0.0531709,0.016141536,0.06479534,-0.010185695,0.02678684,0.030218765,0.0067173527,0.085046396,0.028036712,0.0061745653,-0.0054902215,0.002778405,0.0087761,0.0285883,-0.052144997,-0.08292574,0.110564046,-0.019673103,-0.04885339,0.009615827,0.016800849,0.022905165,-0.006793773,0.06662583,0.0075788205,0.015467065,-0.009314803,0.039952233,0.08384025,0.027210714,-0.07329339,-0.045204207,0.031700373,-0.042721458,0.017726459,-0.011429263,-0.025537279,-0.047302645,-0.08868411,0.020875933,-0.0625956,-0.0050634,-0.09595927,-0.07026617,0.020033827,-0.0024248052,0.020754196,0.05459738,0.0497341,0.007815152,-0.017285442,-0.058933347,0.003224749,5.2633733e-33,-0.017509412,-0.0075070173,0.019586284,0.017409174,0.11756288,0.0271824,-0.0303962,0.011178232,0.08410849,-0.004802394,-0.17278922,0.066300474,-0.007715852,0.033886507,0.060890246,-0.045161743,-0.09161071,0.07823887,-0.04887663,0.030994473,0.026767163,-0.028737325,-0.0021056992,0.029364126,-0.028567292,0.09084031,0.044897635,-0.030723404,0.05165635,0.005114171,-0.05103809,-0.02820514,-0.08704692,-0.022340538,-0.029635843,0.022707501,-0.08602631,-0.033580452,0.046607655,-0.037747778,-0.09375369,0.07386458,0.0006701346,0.028745523,0.011574529,-0.030638551,0.06384218,0.058143977,-0.01991508,0.004863089,-0.04884907,0.04912419,-0.013517911,-0.030743532,-0.05757837,-0.075143166,-0.042486235,0.04230231,0.035344996,0.058922492,0.031419914,0.0059676627,0.026228108,-0.0997135,-0.08314718,0.027239567,0.058269642,-0.03682449,0.07719831,0.05333894,0.040014185,0.003390203,0.028967043,0.057128582,-0.081471965,-0.025745898,0.021415588,-0.028466344,-0.0077348775,-0.034061603,-0.04924062,0.035734095,0.05762224,0.011347565,-0.017001944,-0.06457246,0.024714766,-0.035418242,-0.0583245,0.05848856,-0.019119246,-0.044926535,-0.021483716,0.051401608,0.005174457,-5.6103003e-33,0.035192236,-0.056128975,-0.09965051,-0.044565935,0.09357472,0.049548496,-0.006784878,0.015591538,-0.11961262,-0.027663412,0.0117036635,-0.005872175,0.05528435,0.060783386,0.08911835,0.022189,-0.036389977,-0.05006611,-0.045602117,0.059219766,0.08467368,-0.007803156,0.016558308,-0.014207419,0.048595008,0.011596431,-0.07540503,-0.04275193,-0.00811495,0.029409416,-0.13303563,0.021896882,-0.0032562553,0.053758107,0.06858809,-0.030697025,-0.088163026,0.027436353,0.009498107,0.046644993,0.08379644,-0.020093197,0.039034475,0.09412899,0.11263892,-0.002506896,-0.09685718,-0.06798527,-0.02497066,-0.03197074,-0.021615893,-0.022191627,0.0053219786,-0.0038039144,-0.057070807,-0.06520598,-0.059813783,-0.06733826,-0.028562818,0.02997884,-0.09895835,-0.014355333,-0.0064881356,0.103883564,0.054636896,0.06733032,-0.003073674,-0.1324009,-0.09680795,0.06383872,-0.014222845,-0.121948496,-0.065568395,0.065930225,0.030783173,-0.054644298,0.06615003,-0.03547816,-0.020426827,0.05036335,-0.008852665,0.004724722,0.075594366,0.018897898,-0.004650851,0.035038106,-0.048670653,-0.05740953,-0.08017464,0.10905164,0.019136434,0.04126484,-0.013735572,0.11457239,0.07269657,-3.345716e-08,-0.069356024,0.002825739,0.104257345,0.010866511,-0.029264923,-0.09301412,0.006624335,0.009401724,-0.0012455105,-0.024561686,-0.015641503,-0.09693689,0.05797809,-0.011061879,0.079019226,0.08463443,-0.08797655,0.1446385,-0.019499265,-0.033951815,0.011404159,-0.02465592,0.039357718,-0.028178554,0.06085663,-0.0017347327,-0.041800436,0.018854924,-0.004511697,0.03995552,0.04243782,0.0682229,-0.011315075,-0.020413589,-0.07582,0.0057837665,0.010914423,-0.017202888,-0.04568626,0.025274519,-0.048237342,-0.0061782487,-0.02740246,-0.057713,0.06555932,0.0103801945,-0.02023313,-0.061100084,0.009665601,0.053880967,0.017794954,-0.019717906,0.06034096,0.00944596,-0.0933603,0.053166278,0.06705513,-0.020429455,0.00094114343,0.005865295,0.053736176,0.006128692,-0.01727772,0.031218722]\n",
            "content: Ergonomic Mesh Office Chair: Premium ergonomic office chair with breathable mesh back, adjustable lumbar support, and 4D armrests. Features synchronized tilt mechanism and memory foam seat cushion. Ideal for long work hours.\n",
            "metadata: {'id': 'chair-001', 'name': 'Ergonomic Mesh Office Chair', 'price': 299.99, 'category': 'Office Chairs', 'material': 'Mesh, Metal, Premium Foam', 'dimensions': '26W x 26D x 48H inches', 'description': 'Premium ergonomic office chair with breathable mesh back, adjustable lumbar support, and 4D armrests. Features synchronized tilt mechanism and memory foam seat cushion. Ideal for long work hours.'}\n",
            "--------------------------------------------------------------------------------\n",
            "id: sofa-001\n",
            "embedding: [0.061693132,-0.06514003,-0.004259322,-0.00026265936,-0.0043638824,0.02278407,-0.0034553814,-0.07150543,-0.0036964158,0.10175812,-0.027674234,0.03065312,0.044601012,0.0036309084,0.013548873,-0.061434884,0.041185994,-0.06870029,0.07307405,0.0901294,-0.13328569,-0.037044354,-0.07246199,-0.014571491,0.006452987,-0.069877796,0.013000941,0.004406982,-0.021876626,-0.011076132,0.0035930946,0.06193622,0.005603658,0.008230667,-0.094243795,-0.01948961,-0.01861862,-0.031283554,0.007839199,0.047581665,-0.08167016,-0.022138769,-0.019320749,0.054139793,0.042868868,-0.0020084395,-0.09200395,-0.0064612124,-0.023609722,0.040455107,-0.03460287,-0.039234295,0.030286105,0.0651847,-0.071768194,-0.037233554,-0.028059557,0.07102358,-0.0024122302,-0.0475616,0.03228614,-0.059001338,0.05124282,-0.010547996,-0.013768136,0.013450035,-0.06544366,0.047171626,0.056212574,0.0011975437,-0.09012748,0.07038849,0.0020417224,-0.015899977,0.015692499,-0.05229261,-0.028192678,0.061405428,0.051773727,0.029102944,-0.051294837,0.0920936,-0.0035512983,-0.023918765,-0.020076878,-0.020859241,-0.0009828458,-8.225229e-05,-0.08064153,-0.09516381,0.048966113,0.03020213,-0.06115229,0.023425248,-0.08867588,0.08274018,-0.025424765,0.07497357,0.07620954,-0.011950436,-0.0061208867,0.06813192,0.012281391,0.03185603,-0.06795572,-0.05371045,0.037465204,0.048735466,0.030964885,-0.067623734,-0.06542715,-0.016900463,-0.051348954,-0.02338215,-0.033802003,-0.05114799,0.046425365,-0.042534888,0.056704782,-0.06312672,0.057426933,0.03997189,-0.023950962,0.052583057,-0.062677525,-0.010482433,-0.0125293555,1.1782612e-33,0.0041691163,-0.0038674986,0.010513799,0.07307301,0.02954361,0.041735716,-0.00782465,0.10425307,-0.025674691,-0.017731667,0.054739047,-0.025899868,0.012564769,-0.00054346625,0.047939215,-0.044425856,-0.019919652,0.017519103,0.020869467,-0.0399264,-0.033325646,0.13240415,0.06259885,-0.04564157,-0.006981293,0.006104435,0.097491406,-0.010486344,-0.14856094,0.017142441,0.03130041,-0.08042732,0.027307862,0.037091117,-0.07381335,-0.0034220228,-0.038783092,0.012427223,0.026442721,0.056161962,-0.042774115,0.035011988,0.019591542,0.094093405,-0.09074611,0.059568185,0.122988336,0.005352675,-0.02381991,-0.05238195,-0.055039067,0.071801215,-0.06734509,-0.045913275,-0.042742446,-0.023711402,-0.0057925833,-0.0018130487,-0.011087891,-0.06899261,0.11146218,-0.023656787,-0.030191543,-0.09059972,-0.12039484,-0.042483155,0.04264621,-0.013171108,0.07768575,0.06519548,-0.054030504,0.020429464,0.013445027,0.05701226,-0.0005102062,0.012866849,0.045344613,-0.01257263,0.036809467,-0.06880791,-0.06833929,0.019476319,-0.017056206,0.07367673,0.007818732,-0.092500046,0.054727696,0.04569554,-0.02764755,-0.009917356,-0.10876241,-0.008636748,0.010903442,0.022306267,0.035443306,-3.3994602e-33,0.0777902,-0.03866782,-0.10834576,-0.01818844,0.012194867,0.03477912,-0.010459167,-0.013154721,-0.015810926,0.03766447,0.03851509,-0.020837067,0.045661695,-0.06745843,0.036619186,0.04674263,0.013335628,-0.059949826,-0.023609212,-0.004837051,0.04170881,0.008863202,0.004866271,-0.06833003,-0.06630645,0.037023623,0.076571114,-0.017877404,-0.020357516,0.010810356,-0.08240684,-0.086180255,-0.01953767,-0.025071058,0.009173746,-0.025953317,-0.023294574,0.013954128,-0.013815364,-0.031763405,0.048546888,-0.064133674,0.018450689,0.090201795,0.07005093,-0.13034733,-0.10635538,-0.023735907,0.015524677,0.013900608,0.05536627,-0.06573055,-0.006458898,0.009961042,-0.011119319,-0.010516621,-0.081973866,0.022827059,-0.016151058,0.08239475,-0.017161595,0.061987545,-0.06902102,-0.028959928,0.039672658,0.0842923,-0.048486613,-0.07608284,-0.07235512,0.022423787,0.06669227,-0.014001509,-0.11163223,0.07069734,-0.002621696,0.02073214,0.07139216,-0.011743267,0.016239725,0.1819911,0.03141991,-0.017489726,0.04267964,-0.030049974,0.020622525,0.004707506,-0.0671783,0.063549824,-0.037783075,-0.028379599,0.023924863,-0.06623329,-0.06920931,-0.016952664,0.08096405,-2.8505116e-08,-0.056709472,-0.0056892675,-0.03424345,0.016500294,-0.040836442,-0.10269252,-0.0069946167,-0.00871579,-0.044793162,-0.037906986,0.03932178,-0.063495114,0.045753192,-0.00406079,0.023065392,0.056165412,-0.07388653,0.1197977,-0.041824695,0.073102616,0.024932157,-0.0242396,-0.015964214,0.038128275,-0.019863991,0.008195918,-0.029142262,-0.04442546,0.06167547,-0.020612108,0.0001111074,0.0066683344,0.08660806,-0.037177358,-0.019334175,0.08629651,-0.015155939,-0.05017266,0.00018639027,0.0056328587,0.017643975,-0.13268137,-0.02516511,0.0035313843,0.059142783,0.018747361,-8.084782e-05,0.059756402,-0.040446732,0.0680301,0.05067028,-0.026149709,0.03538785,0.05502319,-0.042041913,-0.008741237,0.021515459,-0.028454434,0.043150824,0.0102202315,0.07585448,0.023478353,0.05470907,0.010586416]\n",
            "content: Contemporary Sectional Sofa: Modern L-shaped sectional with chaise lounge. Upholstered in premium performance fabric. Features deep seats, plush cushions, and solid wood legs. Perfect for modern living rooms.\n",
            "metadata: {'id': 'sofa-001', 'name': 'Contemporary Sectional Sofa', 'price': 1299.99, 'category': 'Sofas', 'material': 'Performance Fabric, Solid Wood', 'dimensions': '112W x 65D x 34H inches', 'description': 'Modern L-shaped sectional with chaise lounge. Upholstered in premium performance fabric. Features deep seats, plush cushions, and solid wood legs. Perfect for modern living rooms.'}\n",
            "--------------------------------------------------------------------------------\n",
            "id: table-001\n",
            "embedding: [0.08647536,-0.025415098,0.0040468005,-0.00928495,-0.049637537,-0.023541497,-0.023955286,-0.039543446,-0.031480704,0.04437588,-0.034589037,-0.05314315,-0.0024892543,-0.054838903,-0.032527495,-0.065121226,0.045460846,-0.017135,0.06234229,0.05276814,-0.11563642,0.02528283,0.029743303,-0.013519883,0.06833522,-0.020513793,0.03866939,0.043725953,-0.0014758471,-0.066392764,0.017405378,0.024440492,0.047806006,0.026664184,-0.0827667,0.010101088,0.005497277,-0.045916665,0.00936916,-0.02833193,-0.07789015,-0.00964423,0.010423844,-0.024540622,0.0073279883,0.017052302,-0.046884384,-0.028690128,0.027423229,-0.027784165,0.02628008,0.06375237,0.024271576,0.018838404,0.0067631006,0.021119006,-0.05578519,-0.09314938,0.003911641,0.028151391,0.014238077,0.039866917,0.024812121,-0.05065997,-0.008136976,0.028458191,-0.07754604,-0.020471483,-0.03847332,0.010055076,-0.012236548,0.0034912308,0.04536187,0.021829633,-0.021827087,-0.0822157,-0.019856635,-0.0036809363,0.03628123,-0.038791545,-0.10285997,0.02917845,0.020184454,0.035260018,-0.030051213,-0.040585976,-0.06999122,0.09324561,-0.060386825,-0.024663692,-0.033884346,0.07491279,0.015240854,0.0011035195,-0.07584723,0.1353753,0.066949315,0.031852946,0.011803703,0.058490876,-0.027093884,0.044355128,0.013719058,0.005220078,-0.121107146,0.016288042,0.0066585043,0.03629922,0.04063231,-0.10828565,-0.024244988,0.012958511,-0.12626512,-0.035481744,-0.12479097,-0.033426482,0.010084961,-0.0986656,0.08560359,-0.030756444,0.059795003,0.07836292,-0.018000513,0.08003915,-0.048857592,0.04492638,0.08336028,-3.657727e-34,-0.034282222,0.0609821,-0.006047032,-0.014731193,0.08073812,-0.06722319,0.012877846,0.0070185573,-0.023356237,0.082239226,0.025687998,-0.1391999,-0.024781108,-0.058294054,0.09197866,0.02273446,-0.037951667,-0.036262304,-0.029952556,0.030569468,-0.0042912695,0.09709735,0.0061009536,0.053410463,-0.0035945245,-0.0027299167,0.034116395,0.06129986,-0.003145285,0.024203919,0.13260655,0.023017982,-0.04469572,-0.07025221,-0.009312965,-0.06277559,-0.026932104,0.030675322,0.019853098,0.0010289648,-0.021082383,0.023358589,-0.064104155,0.04815348,-0.044447243,0.013051113,0.04597169,0.025939686,-0.03158693,0.035527926,-0.026484303,0.028638236,-0.015805509,0.10245454,-0.044152103,-0.05764968,0.017191276,-0.02078346,0.026095852,0.020280402,0.08226959,0.013331341,-0.007510474,-0.078066155,-0.057731334,0.028835233,0.00060589635,-0.0073316,0.06769554,-0.07503596,-0.0037041102,-0.0022700788,0.0007132253,0.024226122,-0.00876387,0.02240275,-0.010548594,-0.0322404,0.059807226,-0.0039585982,0.06232491,0.04890179,-0.013217283,-0.0130998,-0.09173196,-0.068722636,-0.057878442,-0.061600056,-0.09399139,0.035452604,0.052369617,-0.068861224,0.024560913,0.037417237,-0.06297712,-3.4151803e-33,0.060934998,0.059889726,-0.12771945,-0.04116958,0.016026858,-0.024799423,-0.08144246,-0.057301883,-0.059411183,-0.011529309,-0.027835501,-0.01042031,0.04446464,-0.014442053,-0.012625797,0.018765299,0.056710497,0.046221606,0.0037131251,-0.025477635,0.039337914,0.028836146,-0.08372348,-0.0011953692,0.037777644,0.024890494,-0.062058717,0.002373883,-0.07543202,0.025126081,0.018814765,-0.07783875,0.08456833,-0.024168065,0.03584343,0.0048705265,-0.026137767,0.025476627,0.004660687,0.03644571,0.09761553,-0.010548308,0.048522834,0.08016337,-0.019665657,0.016245177,-0.050423134,-0.02788173,-0.06965485,0.0078006093,0.07097905,0.012186531,0.0077223694,-0.09329114,0.026733447,-0.0010743377,-0.012762816,-0.0029623923,0.0006823081,0.07786977,-0.051568504,0.04895437,0.027141426,0.08805938,0.04871361,0.025751943,-0.092737764,-0.036614094,-0.037051875,0.07610737,-0.12657574,-0.05786067,-0.020912578,0.08457898,0.041332934,0.021795968,0.09045439,0.0024646197,-0.0026761945,0.02197194,-0.034741696,-0.065371424,0.08094116,-0.107421935,0.055058517,-0.02419368,-0.015812948,0.019968133,-0.016325237,0.09909969,-0.027813641,-0.03735155,-0.058669068,-0.063443586,0.04340047,-3.151069e-08,0.013405768,-0.017750705,-0.05197075,-0.012572466,-0.00052278145,-0.13196291,0.1208885,0.051475577,-0.015626656,-0.004790609,-0.037472416,0.043253005,0.007960279,-0.023297906,-0.024615351,0.06626859,0.024994401,0.05684807,-0.045413,0.03395344,0.10112005,-0.046844773,-0.013622609,-0.017358588,0.007749749,-0.022248603,-0.025835337,-0.010821375,-0.020588476,0.02972934,0.041542415,0.08211814,-0.040330783,0.0030175545,0.039759442,0.04198307,-0.13418256,-0.091801874,-0.018781632,-0.04060168,-0.09510191,-0.0051282877,-0.08719461,-0.023831388,0.100484565,0.073388144,-0.055455524,0.082439475,-0.051116757,-0.0088334475,-0.018018639,-0.05353963,-0.015153593,-0.011554692,-0.037617292,-0.012268535,0.06707307,0.018099708,0.096032605,-0.07500248,0.07778964,0.013965608,-0.039154783,-0.008669405]\n",
            "content: Rustic Dining Table: Farmhouse-style dining table with solid wood construction. Features distressed finish and trestle base. Seats 6-8 people comfortably. Perfect for family gatherings.\n",
            "metadata: {'id': 'table-001', 'name': 'Rustic Dining Table', 'price': 899.99, 'category': 'Dining Tables', 'material': 'Solid Pine Wood', 'dimensions': '72W x 42D x 30H inches', 'description': 'Farmhouse-style dining table with solid wood construction. Features distressed finish and trestle base. Seats 6-8 people comfortably. Perfect for family gatherings.'}\n",
            "--------------------------------------------------------------------------------\n",
            "id: bed-001\n",
            "embedding: [0.07378975,0.010545181,-0.015232009,0.029461848,0.0054338546,0.036385547,0.013826288,-0.0008084191,0.017008465,0.07184004,-0.022651134,0.04923655,-0.040801283,0.006483247,0.0123723755,-0.013967791,0.012586946,0.021969028,0.036528945,0.099688426,-0.05103413,-0.010981923,-0.028032517,0.04799796,-0.0029552882,0.0052099107,-0.15025087,0.019627035,0.019648476,-0.06756754,0.06717386,0.053690877,0.0005130364,0.055211924,0.019145502,0.028659102,0.017064115,-0.07088759,-0.09772329,-0.03325681,-0.07280899,0.041973367,0.006158421,0.07123759,0.04031924,0.10127299,-0.046435844,-0.063882925,-0.052795228,-0.0017429743,0.06209033,0.0072536627,0.033742532,-0.013275593,-0.053409945,0.014738727,-0.026440011,-0.021123122,0.04942097,-0.08225129,0.015161539,0.051744465,0.08462664,0.0139047885,-0.014462614,0.007173484,-0.0843472,0.06883645,0.05876651,-0.0059430166,-0.060623653,-0.034381278,-0.091399625,0.046294816,-0.037860252,-0.045247354,0.028353052,-0.0036519289,0.064452924,0.08096219,-0.08446169,0.05093512,0.01767956,0.01721116,-0.07034619,-0.014200397,-0.07096614,0.0535541,-0.070930205,-0.071042374,0.08939975,-0.020682042,0.07062253,0.0663652,-0.024363281,0.03371428,-0.07916425,-0.031558312,0.020615596,-0.011049592,-0.013332821,0.043688226,0.08659444,-0.009923406,-0.04518045,-0.08584831,0.012494148,-0.0031364497,-0.022190921,-0.021556221,-0.094711795,-0.038028903,-0.11452122,0.01282137,0.016957128,-0.077149235,-0.00527841,0.026580183,0.06982604,-0.07399649,0.07294783,-0.03524567,-0.040610246,-0.01156263,0.007055325,-0.034945723,0.024371946,3.7713352e-33,0.025046166,-0.07038719,0.03486024,-0.017949149,0.069961905,-0.018578555,0.069179356,0.036448598,0.007918628,0.08365882,-0.0880273,0.029239334,-0.0075807436,0.048449095,0.019699477,-0.017318804,-0.07114934,-0.021374606,0.041438054,0.04815575,-0.03239765,0.11969565,0.070993185,0.048455596,0.0638749,-0.045956966,0.020647373,-0.082168564,0.008440071,-0.008409812,-0.048069507,-0.014668121,-0.040589888,0.013111675,0.023742069,-0.051110156,-0.01230712,-0.06580291,-0.017356364,0.07884722,-0.048502628,-0.017026944,0.024609536,0.06160315,0.037572447,0.004311023,0.056656085,0.0453023,0.014103351,-0.036764372,-0.0406293,-0.009650635,-0.09614285,-0.025378784,-0.0064901942,-0.009483935,-0.068543226,0.03647735,0.011042332,0.012212636,0.02544064,-0.014528349,0.04169309,-0.096363485,-0.038828786,-0.027539076,0.021072106,-0.047920484,0.028568111,-0.0262763,-0.008709099,-0.052421145,0.024369366,0.08881034,0.05694351,-0.03675284,-0.029451393,-0.007944736,-0.012546789,-0.029962134,-0.006976593,-0.05218639,-0.008802904,0.05768018,0.047807842,-0.061247658,0.036381055,-0.026175026,0.0014553515,-0.015683671,-0.06240802,-0.013031193,-0.0077208276,0.08440676,-0.0402749,-5.359655e-33,0.03286575,-0.06096905,-0.054396,0.022041002,0.007899202,0.09059954,-0.03271103,-0.14324498,0.021801203,0.05831336,-0.024901949,-0.08502433,0.051945146,0.01204474,-0.052155122,0.014700681,-0.0041357363,-0.07886441,0.02287917,0.031489536,0.043960202,0.029282788,0.0031572399,0.0023003414,-0.00043878186,-0.031885985,-0.060077485,-0.050547205,-0.009913352,-0.009307308,-0.066095985,-0.007755303,0.06925044,-0.093472,0.03793811,-0.013970337,0.013222958,-0.005676906,-0.056948736,0.023813067,-0.040480874,-0.0728333,-0.0065416093,0.0775082,0.08325635,-0.012050121,-0.12049465,0.057336885,0.1278765,0.012528768,-0.052911725,-0.048865322,0.017610606,-0.055170152,-0.016530782,-0.011544552,-0.06977085,-0.0062598796,-0.017324425,0.11545836,0.060500275,-0.038845815,-0.045145925,-0.0318141,0.026273571,-0.02197893,-0.0050282516,-0.09233945,-0.051291924,-0.023588518,-0.017232709,-0.04798961,0.0055894,0.08859017,0.014921097,-0.00075549405,0.022001022,-0.12963066,0.10912377,-0.02926532,-0.087084964,0.053621564,0.03426504,0.036803983,0.032432243,-0.010376352,-0.063673384,0.012125165,-0.04167911,-0.07443842,0.060862374,-0.029448975,-0.089753196,0.06389909,0.01487401,-2.7702153e-08,0.04381104,0.03888885,-0.026465235,-0.066530205,-0.011127161,-0.048762392,0.09809098,0.05500556,0.0058149113,-0.04247576,0.04251752,-0.0038876398,-0.0370566,-0.059977926,0.0610403,0.11967105,-0.033675186,0.08235556,-0.006591495,0.044437386,0.17504723,-0.0011802869,0.028226532,0.00035683144,-0.033908036,-0.015519117,0.06697095,0.10778761,0.06328452,0.024716226,0.049653884,0.0010435525,0.04329945,0.014772293,0.044632487,0.11479873,-0.0027791986,-0.020807285,-0.0016673312,-0.050329305,-0.08849959,-0.068981536,0.0034780228,-0.058531567,-0.0034985186,-0.009771176,-0.0055880276,0.045393936,-0.068589486,-7.202671e-05,0.038243644,0.012378561,-0.0017812143,0.08026801,0.0361202,-0.01627127,-0.014281613,-0.07786849,0.07369699,-0.025860231,0.03522302,-0.052757446,0.016576324,0.0051043425]\n",
            "content: Platform Storage Bed: Modern queen platform bed with integrated storage drawers. Features upholstered headboard and durable wood slat support. No box spring needed. Perfect for maximizing bedroom space.\n",
            "metadata: {'id': 'bed-001', 'name': 'Platform Storage Bed', 'price': 799.99, 'category': 'Beds', 'material': 'Engineered Wood, Linen Fabric', 'dimensions': '65W x 86D x 48H inches', 'description': 'Modern queen platform bed with integrated storage drawers. Features upholstered headboard and durable wood slat support. No box spring needed. Perfect for maximizing bedroom space.'}\n",
            "--------------------------------------------------------------------------------\n"
          ]
        }
      ]
    },
    {
      "cell_type": "markdown",
      "source": [
        "## Quick Start Summary\n",
        "\n",
        "In this section, you learned how to:\n",
        "- Convert product data to the Chunk format expected by embedding pipelines\n",
        "- Generate embeddings using a HuggingFace model\n",
        "- Configure and run a basic embedding ingestion pipeline\n",
        "- Store embeddings and metadata in AlloyDB\n",
        "\n",
        "This basic pattern forms the foundation for all the advanced use cases covered in the following sections."
      ],
      "metadata": {
        "id": "lz5itufZ31KB"
      }
    },
    {
      "cell_type": "markdown",
      "source": [
        "# Quick Start: Run on Dataflow\n",
        "\n",
        "This section demonstrates how to launch the Quick Start embedding pipeline on Google Cloud Dataflow from the colab. While previous examples used DirectRunner for local execution, Dataflow provides a fully managed, distributed execution environment that is:\n",
        "- Scalable: Automatically scales to handle large datasets\n",
        "- Fault-tolerant: Handles worker failures and ensures exactly-once processing\n",
        "- Fully managed: No need to provision or manage infrastructure\n",
        "\n",
        "For more in-depth documentation to package your pipeline into a python file and launch a DataFlow job from the command line see [Create Dataflow pipeline using Python](https://cloud.google.com/dataflow/docs/quickstarts/create-pipeline-python)."
      ],
      "metadata": {
        "id": "OqojLgpJKUGk"
      }
    },
    {
      "cell_type": "markdown",
      "source": [
        "## Create the AlloyDB table with default schema\n",
        "\n",
        "Before running the pipeline, we need a table to store our embeddings:"
      ],
      "metadata": {
        "id": "zrMJSm-JUVGY"
      }
    },
    {
      "cell_type": "code",
      "source": [
        "table_name = \"default_dataflow_product_embeddings\"\n",
        "table_schema = f\"\"\"\n",
        "  id VARCHAR PRIMARY KEY,\n",
        "  embedding VECTOR(384) NOT NULL,\n",
        "  content text,\n",
        "  metadata JSONB\n",
        "\"\"\"\n",
        "setup_alloydb_table(ALLOYDB_HOST, DB_NAME, table_name, DB_USER, DB_PASSWORD)\n",
        "test_alloydb_connection(ALLOYDB_HOST, DB_NAME, table_name, DB_USER, DB_PASSWORD)"
      ],
      "metadata": {
        "colab": {
          "base_uri": "https://localhost:8080/"
        },
        "id": "tgAvMT-yUixY",
        "outputId": "d836fceb-cd61-4ee5-c416-04ce2cccd6f8"
      },
      "execution_count": null,
      "outputs": [
        {
          "output_type": "stream",
          "name": "stdout",
          "text": [
            "Connected to AlloyDB successfully!\n",
            "Creating pgvector extension...\n",
            "Creating table...\n",
            "Setup completed successfully!\n",
            "✓ default_dataflow_product_embeddings table exists\n",
            "✓ pgvector extension is installed\n"
          ]
        }
      ]
    },
    {
      "cell_type": "markdown",
      "source": [
        "## Save our Pipeline to a python file\n",
        "\n",
        "To launch our pipeline job on DataFlow, we\n",
        "1. Add command line arguments for passing pipeline options like AlloyDB credentioals\n",
        "2. Save our pipeline code to a local file `basic_ingestion_pipeline.py`"
      ],
      "metadata": {
        "id": "mcZATJbaOec0"
      }
    },
    {
      "cell_type": "code",
      "source": [
        "file_content = \"\"\"\n",
        "import apache_beam as beam\n",
        "from apache_beam.options.pipeline_options import PipelineOptions\n",
        "import argparse\n",
        "import tempfile\n",
        "\n",
        "from apache_beam.ml.transforms.base import MLTransform\n",
        "from apache_beam.ml.rag.types import Chunk, Content\n",
        "from apache_beam.ml.rag.ingestion.base import VectorDatabaseWriteTransform\n",
        "from apache_beam.ml.rag.ingestion.alloydb import AlloyDBVectorWriterConfig, AlloyDBConnectionConfig\n",
        "from apache_beam.ml.rag.embeddings.huggingface import HuggingfaceTextEmbeddings\n",
        "from apache_beam.options.pipeline_options import SetupOptions\n",
        "\n",
        "PRODUCTS_DATA = [\n",
        "    {\n",
        "        \"id\": \"desk-001\",\n",
        "        \"name\": \"Modern Minimalist Desk\",\n",
        "        \"description\": \"Sleek minimalist desk with clean lines and a spacious work surface. \"\n",
        "                      \"Features cable management system and sturdy steel frame. \"\n",
        "                      \"Perfect for contemporary home offices and workspaces.\",\n",
        "        \"category\": \"Desks\",\n",
        "        \"price\": 399.99,\n",
        "        \"material\": \"Engineered Wood, Steel\",\n",
        "        \"dimensions\": \"60W x 30D x 29H inches\"\n",
        "    },\n",
        "    {\n",
        "        \"id\": \"chair-001\",\n",
        "        \"name\": \"Ergonomic Mesh Office Chair\",\n",
        "        \"description\": \"Premium ergonomic office chair with breathable mesh back, \"\n",
        "                      \"adjustable lumbar support, and 4D armrests. Features synchronized \"\n",
        "                      \"tilt mechanism and memory foam seat cushion. Ideal for long work hours.\",\n",
        "        \"category\": \"Office Chairs\",\n",
        "        \"price\": 299.99,\n",
        "        \"material\": \"Mesh, Metal, Premium Foam\",\n",
        "        \"dimensions\": \"26W x 26D x 48H inches\"\n",
        "    }\n",
        "]\n",
        "\n",
        "def run(argv=None):\n",
        "    parser = argparse.ArgumentParser()\n",
        "    parser.add_argument(\n",
        "        '--alloydb_host',\n",
        "        required=True,\n",
        "        help='AlloyDB host'\n",
        "    )\n",
        "    parser.add_argument(\n",
        "        '--alloydb_database',\n",
        "        default='postgres',\n",
        "        help='AlloyDB database name'\n",
        "    )\n",
        "    parser.add_argument(\n",
        "        '--alloydb_table',\n",
        "        required=True,\n",
        "        help='AlloyDB table name'\n",
        "    )\n",
        "    parser.add_argument(\n",
        "        '--alloydb_username',\n",
        "        required=True,\n",
        "        help='AlloyDB user name'\n",
        "    )\n",
        "    parser.add_argument(\n",
        "        '--alloydb_password',\n",
        "        required=True,\n",
        "        help='AlloyDB password'\n",
        "    )\n",
        "    known_args, pipeline_args = parser.parse_known_args(argv)\n",
        "\n",
        "    pipeline_options = PipelineOptions(pipeline_args)\n",
        "    pipeline_options.view_as(SetupOptions).save_main_session = True\n",
        "\n",
        "    with beam.Pipeline(options=pipeline_options) as p:\n",
        "        _ = (\n",
        "              p\n",
        "              | 'Create Products' >> beam.Create(PRODUCTS_DATA)\n",
        "              | 'Convert to Chunks' >> beam.Map(lambda product: Chunk(\n",
        "                    content=Content(\n",
        "                        text=f\"{product['name']}: {product['description']}\"\n",
        "                    ), # The text that will be embedded\n",
        "                    id=product['id'],  # Use product ID as chunk ID\n",
        "                    metadata=product,  # Store all product info in metadata\n",
        "                )\n",
        "              )\n",
        "              | 'Generate Embeddings' >> MLTransform(write_artifact_location=tempfile.mkdtemp())\n",
        "                .with_transform(\n",
        "                    HuggingfaceTextEmbeddings(model_name=\"sentence-transformers/all-MiniLM-L6-v2\")\n",
        "                )\n",
        "              | 'Write to AlloyDB' >> VectorDatabaseWriteTransform(\n",
        "                  AlloyDBVectorWriterConfig(\n",
        "                      connection_config=AlloyDBConnectionConfig(\n",
        "                        jdbc_url=f'jdbc:postgresql://{known_args.alloydb_host}/{known_args.alloydb_database}',\n",
        "                        username=known_args.alloydb_username,\n",
        "                        password=known_args.alloydb_password\n",
        "                    ),\n",
        "                    table_name=known_args.alloydb_table\n",
        "                  )\n",
        "              )\n",
        "          )\n",
        "\n",
        "if __name__ == '__main__':\n",
        "    run()\n",
        "\"\"\"\n",
        "\n",
        "with open(\"basic_ingestion_pipeline.py\", \"w\") as f:\n",
        "    f.write(file_content)"
      ],
      "metadata": {
        "id": "CzhIiBdqOknd"
      },
      "execution_count": null,
      "outputs": []
    },
    {
      "cell_type": "markdown",
      "source": [
        "## Authenticate with Google Cloud\n",
        "\n",
        "To launch a pipeline on Google Cloud, authenticate this notebook. Replace `<PROJECT_ID` with your Google Cloud project ID"
      ],
      "metadata": {
        "id": "y_1IMXx7UuG4"
      }
    },
    {
      "cell_type": "code",
      "source": [
        "PROJECT_ID = \"\" # @param {type:'string'}\n",
        "import os\n",
        "os.environ['PROJECT_ID'] = PROJECT_ID"
      ],
      "metadata": {
        "id": "WxrW-zlgRDLk"
      },
      "execution_count": null,
      "outputs": []
    },
    {
      "cell_type": "code",
      "source": [
        "from google.colab import auth\n",
        "auth.authenticate_user(project_id=PROJECT_ID)"
      ],
      "metadata": {
        "id": "GswFBa10Qxkx"
      },
      "execution_count": null,
      "outputs": []
    },
    {
      "cell_type": "markdown",
      "source": [
        "## Configure the Pipeline options\n",
        "\n"
      ],
      "metadata": {
        "id": "7sELV2KeRG2c"
      }
    },
    {
      "cell_type": "markdown",
      "source": [
        "To run the pipeline on DataFlow we need\n",
        "- A gcs bucket for staging DataFlow files. Replace `<BUCKET_NAME>`: the name of a valid Google Cloud Storage bucket. Don't include a gs:// prefix or trailing slashes\n",
        "- Optionally set the the Google Cloud region that you want to run Dataflow in. Replace `<REGION>` with the desired location\n",
        "- AlloyDB [private IP](https://cloud.google.com/alloydb/docs/private-ip#:~:text=Using%20private%20IP%20addresses%20keeps,instance%20and%20potential%20attack%20surface.) address to which the Datflow worker VM's have access. There are multiple ways to [connect](https://cloud.google.com/alloydb/docs/connection-overview) to your AlloyDB instance from Datflow, including\n",
        "  -    Setting up [Private services access](https://cloud.google.com/alloydb/docs/about-private-services-access)\n",
        "  -    Setting up [Private service connect](https://cloud.google.com/alloydb/docs/about-private-service-connect)"
      ],
      "metadata": {
        "id": "nVDW0Q9iS_Pk"
      }
    },
    {
      "cell_type": "code",
      "source": [
        "BUCKET_NAME = '' # @param {type:'string'}\n",
        "REGION = 'us-central1' # @param {type:'string'}\n",
        "os.environ['BUCKET_NAME'] = BUCKET_NAME\n",
        "os.environ['REGION'] = REGION\n",
        "\n",
        "# Save AlloyDB credentioals to environment variables\n",
        "PRIVATE_ALLOYDB_HOST = '' # @param {type:'string'}\n",
        "os.environ['PRIVATE_ALLOYDB_HOST'] = PRIVATE_ALLOYDB_HOST\n",
        "os.environ['DATABASE_NAME'] = DB_NAME\n",
        "os.environ['ALLOYDB_USER'] = DB_USER\n",
        "os.environ['ALLOYDB_PASSWORD'] = DB_PASSWORD\n",
        "\n",
        "NETWORK = '' # @param {type:'string'}\n",
        "SUBNETWORK = '' # @param {type:'string'}\n",
        "os.environ['NETWORK'] = NETWORK\n",
        "os.environ['SUBNETWORK'] = SUBNETWORK"
      ],
      "metadata": {
        "id": "qxFJflLiTMua"
      },
      "execution_count": null,
      "outputs": []
    },
    {
      "cell_type": "markdown",
      "source": [
        "## Provide additional Python dependencies to be installed on Worker VM's\n",
        "\n",
        "We are making use of the HuggingFace `sentence-transformers` package to generate embeddings. Since this package is not installed on Worker VM's by default, we create a requirements.txt file with the additional dependencies to be installed on worker VM's.\n",
        "\n",
        "See [Managing Python Pipeline Dependencies](https://beam.apache.org/documentation/sdks/python-pipeline-dependencies/) for more details.\n",
        "\n"
      ],
      "metadata": {
        "id": "WWjjqwV-aJFi"
      }
    },
    {
      "cell_type": "code",
      "source": [
        "!echo \"sentence-transformers\" > ./requirements.txt\n",
        "!cat ./requirements.txt"
      ],
      "metadata": {
        "colab": {
          "base_uri": "https://localhost:8080/"
        },
        "id": "Hkxmk6aTJSKW",
        "outputId": "1002282d-e244-4958-d600-034705c1a5a6"
      },
      "execution_count": null,
      "outputs": [
        {
          "output_type": "stream",
          "name": "stdout",
          "text": [
            "sentence-transformers\n"
          ]
        }
      ]
    },
    {
      "cell_type": "markdown",
      "source": [
        "## Run Pipeline on Dataflow\n",
        "\n",
        "We launch the pipeline via the command line, passing\n",
        "- AlloyDB pipeline arguments defined in `basic_ingestion_pipeline.py`\n",
        "- GCP Project ID\n",
        "- Job Region\n",
        "- The runner (DataflowRunner)\n",
        "- Temp and Staging GCS locations for Pipeline artifacts\n",
        "- Requirement file location for additional dependencies\n",
        "- The VPC network and Subnetwork that has access to the AlloyDB instance\n",
        "\n",
        "Once the job is launched, you can monitor its progress in the Google Cloud Console:\n",
        "1. Go to https://console.cloud.google.com/dataflow/jobs\n",
        "2. Select your project\n",
        "3. Click on the job named \"alloydb-dataflow-basic-embedding-ingest\"\n",
        "4. View detailed execution graphs, logs, and metrics"
      ],
      "metadata": {
        "id": "NXgGZeOsY2O7"
      }
    },
    {
      "cell_type": "code",
      "source": [
        "!python ./basic_ingestion_pipeline.py \\\n",
        "  --project=$PROJECT_ID \\\n",
        "  --alloydb_username=$ALLOYDB_USER \\\n",
        "  --alloydb_host=${PRIVATE_ALLOYDB_HOST}:5432 \\\n",
        "  --alloydb_password=$ALLOYDB_PASSWORD \\\n",
        "  --alloydb_table=default_dataflow_product_embeddings \\\n",
        "  --alloydb_database=$DATABASE_NAME \\\n",
        "  --job_name=alloydb-dataflow-basic-embedding-ingest \\\n",
        "  --region=$REGION \\\n",
        "  --runner=DataflowRunner \\\n",
        "  --temp_location=gs://${BUCKET_NAME}/temp \\\n",
        "  --staging_location=gs://${BUCKEBUCKET_NAME}/staging \\\n",
        "  --requirements_file=requirements.txt \\\n",
        "  --network ${NETWORK} \\\n",
        "  --subnetwork regions/${REGION}/subnetworks/${SUBNETWORK}"
      ],
      "metadata": {
        "id": "-y8VEm8UUJqu"
      },
      "execution_count": null,
      "outputs": []
    },
    {
      "cell_type": "markdown",
      "source": [
        "## Verify the Written Embeddings\n",
        "\n",
        "Let's check what was written to our AlloyDB table:"
      ],
      "metadata": {
        "id": "Sp_M6tJbWXTw"
      }
    },
    {
      "cell_type": "code",
      "source": [
        "verify_embeddings(ALLOYDB_HOST, DB_NAME, table_name, DB_USER, DB_PASSWORD)\n"
      ],
      "metadata": {
        "colab": {
          "base_uri": "https://localhost:8080/"
        },
        "id": "A11PeldtWXvP",
        "outputId": "479871cb-e9fc-44c7-d799-79f064c247e5"
      },
      "execution_count": null,
      "outputs": [
        {
          "output_type": "stream",
          "name": "stdout",
          "text": [
            "\n",
            "Found 2 products:\n",
            "--------------------------------------------------------------------------------\n",
            "id: chair-001\n",
            "embedding: [0.02403435,0.04964332,0.023801215,0.023434723,-0.011474275,0.054758757,0.0066280337,-0.051804464,0.08406079,0.065616906,0.03321514,0.041509267,0.04673618,-0.008781659,0.052692704,-0.007216768,0.07655436,0.016920764,0.04152955,0.101700984,-0.046693634,0.0077436273,-0.021965409,0.020911854,0.0016925251,-0.0042127846,0.029753385,-0.009085065,-0.034632042,-0.0674854,0.00025547922,-0.05542992,0.0758605,-0.002696255,-0.047679216,0.003685547,0.023553496,-0.034157697,-0.060041208,0.012130825,-0.10083735,0.031097688,0.035963416,-0.04431593,-0.022646144,-0.017285833,-0.045440417,0.0034619803,-0.037636943,0.06251876,0.04322969,-0.055833027,-0.029337522,-0.05321623,-0.0012940895,0.010824212,-0.039729264,0.012684213,-0.04650574,-0.059219852,0.08073491,-0.060871,0.016936727,0.0326658,-0.09365397,0.02095731,-0.06390675,-0.07115554,-0.05761697,-0.03194697,-0.0983739,-0.02098407,0.008685109,0.012940977,0.053170897,0.016141549,0.064795375,-0.010185677,0.026786853,0.03021873,0.006717314,0.08504637,0.028036756,0.006174559,-0.005490213,0.0027784014,0.008776096,0.028588288,-0.052145027,-0.08292577,0.11056405,-0.019673117,-0.04885338,0.009615808,0.016800858,0.022905162,-0.00679374,0.066625856,0.0075788028,0.015467067,-0.009314796,0.039952233,0.08384024,0.027210731,-0.07329343,-0.045204222,0.03170036,-0.042721458,0.017726464,-0.011429226,-0.02553729,-0.047302634,-0.08868411,0.020875938,-0.06259558,-0.005063395,-0.09595926,-0.07026615,0.02003384,-0.0024247903,0.020754172,0.054597404,0.04973411,0.007815156,-0.017285444,-0.05893332,0.0032247398,5.263374e-33,-0.01750938,-0.007507035,0.019586306,0.01740917,0.117562875,0.027182361,-0.03039616,0.011178226,0.08410853,-0.0048023732,-0.17278922,0.06630049,-0.0077158757,0.033886537,0.060890213,-0.045161724,-0.09161072,0.07823883,-0.04887663,0.030994473,0.02676717,-0.0287373,-0.0021056838,0.029364139,-0.028567273,0.09084026,0.04489763,-0.03072341,0.051656313,0.0051141935,-0.051038105,-0.028205166,-0.08704694,-0.022340572,-0.029635869,0.022707507,-0.08602628,-0.03358044,0.04660758,-0.037747774,-0.093753666,0.07386457,0.0006700753,0.02874551,0.011574542,-0.030638542,0.06384218,0.058143962,-0.01991508,0.0048630903,-0.048849113,0.049124174,-0.013517935,-0.030743547,-0.05757838,-0.075143136,-0.0424862,0.04230229,0.035344955,0.058922533,0.031419903,0.0059676375,0.026228126,-0.09971351,-0.08314724,0.027239585,0.058269605,-0.036824483,0.0771983,0.053338945,0.04001419,0.0033902107,0.028967008,0.057128605,-0.081471965,-0.025745876,0.021415608,-0.028466387,-0.00773487,-0.034061592,-0.04924064,0.035734117,0.05762226,0.011347612,-0.017001977,-0.06457248,0.02471474,-0.035418253,-0.058324546,0.058488544,-0.019119263,-0.04492654,-0.021483678,0.051401623,0.005174467,-5.6103006e-33,0.035192236,-0.05612896,-0.09965046,-0.044565935,0.09357472,0.049548518,-0.006784898,0.015591541,-0.11961264,-0.0276634,0.01170368,-0.0058721434,0.05528434,0.060783353,0.089118324,0.02218903,-0.036390003,-0.050066084,-0.04560211,0.059219778,0.08467369,-0.007803156,0.016558316,-0.014207416,0.048595015,0.011596434,-0.07540504,-0.042751946,-0.008114922,0.029409327,-0.13303559,0.021896796,-0.003256211,0.05375807,0.06858808,-0.030696988,-0.08816301,0.027436351,0.009498098,0.046644967,0.08379645,-0.020093188,0.03903449,0.094129,0.11263891,-0.0025068494,-0.096857175,-0.06798531,-0.024970617,-0.03197073,-0.021615865,-0.02219166,0.005322011,-0.0038038737,-0.057070825,-0.065205954,-0.059813745,-0.06733825,-0.028562838,0.029978873,-0.09895833,-0.014355385,-0.00648813,0.10388357,0.054636892,0.067330316,-0.0030736702,-0.13240089,-0.09680798,0.0638387,-0.014222894,-0.12194852,-0.06556836,0.06593023,0.030783165,-0.0546443,0.06615001,-0.035478167,-0.02042679,0.050363354,-0.00885268,0.0047246953,0.07559437,0.018897902,-0.0046508405,0.035038132,-0.04867064,-0.05740954,-0.0801746,0.109051615,0.019136434,0.041264858,-0.013735623,0.11457245,0.072696604,-3.3457166e-08,-0.069356024,0.0028256553,0.10425732,0.010866511,-0.029264921,-0.09301411,0.0066243317,0.009401713,-0.0012455031,-0.024561744,-0.015641494,-0.09693693,0.057978086,-0.011061902,0.07901925,0.08463444,-0.087976575,0.14463854,-0.019499272,-0.033951838,0.011404143,-0.024655936,0.039357737,-0.028178528,0.060856603,-0.001734753,-0.041800477,0.018854948,-0.0045116525,0.039955538,0.0424378,0.06822289,-0.011315062,-0.020413615,-0.07582,0.005783789,0.010914417,-0.017202957,-0.04568627,0.025274526,-0.048237287,-0.0061782403,-0.027402438,-0.057712983,0.065559365,0.010380187,-0.02023309,-0.061100084,0.009665607,0.053880986,0.017794963,-0.01971795,0.060340997,0.009445973,-0.0933603,0.053166308,0.06705509,-0.020429468,0.0009411682,0.0058653275,0.053736202,0.0061286516,-0.017277734,0.031218747]\n",
            "content: Ergonomic Mesh Office Chair: Premium ergonomic office chair with breathable mesh back, adjustable lumbar support, and 4D armrests. Features synchronized tilt mechanism and memory foam seat cushion. Ideal for long work hours.\n",
            "metadata: {'id': 'chair-001', 'name': 'Ergonomic Mesh Office Chair', 'price': 299.99, 'category': 'Office Chairs', 'material': 'Mesh, Metal, Premium Foam', 'dimensions': '26W x 26D x 48H inches', 'description': 'Premium ergonomic office chair with breathable mesh back, adjustable lumbar support, and 4D armrests. Features synchronized tilt mechanism and memory foam seat cushion. Ideal for long work hours.'}\n",
            "--------------------------------------------------------------------------------\n",
            "id: desk-001\n",
            "embedding: [-0.0010577844,0.06058582,0.065500766,-0.020135347,0.0063834726,-0.016612194,-0.0031699212,0.10957785,-0.08200769,0.08746614,0.053361442,0.018569626,0.057456985,0.029180774,-0.0739839,-0.010892182,0.07001467,-0.033740804,0.05143679,0.07567188,-0.13465185,-0.03223964,-0.046382066,-0.02991419,-0.009278444,0.06718534,-0.051145125,0.042603035,0.007903694,-0.041032344,-0.042314187,-0.013259178,0.071415015,0.04033422,-0.010947699,0.0033171314,0.08076264,-0.017956229,-0.010060258,-0.050612662,-0.06333365,-0.015355669,-0.016382016,0.04253681,-0.006018288,0.03393902,-0.022733862,-0.13714637,-0.046747517,-0.053437434,0.03156534,0.0036609964,0.008148903,0.00044982843,-0.01390529,-0.0072347545,0.0033292733,0.02151875,-0.0023581712,-0.045458544,0.067121506,-0.061716832,0.003483046,0.03768043,0.029724954,0.046725973,-0.041152645,0.022954606,0.06727488,-0.047817953,-0.022311596,-0.0063671526,-0.034347657,0.04549508,7.038227e-05,-0.11377218,0.0037808563,-0.01645317,0.007873819,0.082947314,-0.048830662,0.043934077,-0.0728323,0.07565682,-0.06601301,0.00082298816,-0.055017177,-0.04662932,0.0039928183,-0.1184978,0.06739191,0.0419043,-0.04211232,0.012006757,-0.063562796,-0.052011978,0.04062941,0.000877945,-0.10618615,0.05883742,-0.035058588,0.02497279,0.1456166,0.014725314,0.029324876,-0.0053626243,0.028140629,-0.066259675,-0.07870077,-0.037631597,-0.055514023,-0.06366927,-0.17272563,-0.074033424,0.028536469,-0.019525018,-0.006076411,-0.018281968,0.08323948,0.043096118,0.044669922,0.0037941243,0.0033604156,0.0038145694,0.017628983,0.053377297,0.046993453,1.8948993e-33,0.027950207,0.066461876,-0.02816174,-0.0063893152,0.060308237,0.02044424,0.018832816,0.1014083,0.02649444,0.03614651,-0.026098993,-0.05159771,0.0011205222,0.023721308,0.057792693,-0.04863311,0.025785098,-0.010925602,-0.0076526264,0.041972548,-0.052869942,0.09319047,0.041135967,-0.05854328,0.030171301,-0.041053355,0.0703884,-0.02094064,-0.021666847,-0.02007031,-0.063153856,-0.0090490915,0.00078502024,-0.015395547,-0.050217465,0.027864246,-0.016988877,-0.013612264,0.083218426,-0.006801475,-0.090368174,0.06570073,0.047122464,-0.018271238,0.038392365,0.067258775,0.1583178,0.031815626,0.057441067,-0.030053727,-0.01739857,0.056204263,0.03845886,0.07659209,-0.0052282675,-0.07242892,-0.017286172,-0.060765624,0.010254245,0.042490326,0.0054570246,0.024156844,-0.034055702,0.03224422,0.043352436,0.0066218553,0.009701554,-0.0061701923,0.034396745,0.014364747,-0.07169268,-0.030080862,0.05706479,0.021052675,0.103158034,0.08609658,0.04735576,-0.09807959,-0.019662447,-0.06984222,-0.052169025,0.009997583,0.016189465,0.05732966,0.031931095,0.09630263,0.10293317,-0.016209165,-0.024686007,0.05887321,-0.030855233,-0.07377452,-0.042329434,0.06052861,0.0048059816,-2.3104889e-33,0.01777403,-0.03305179,-0.095668204,0.024296567,0.02801716,0.023638504,0.0076059317,-0.04351966,-0.06524873,0.070486076,0.07029284,-0.00621364,0.01882491,0.0043495153,0.0293553,0.116440654,-0.04916731,-0.06571005,0.04120002,0.0070271995,0.11581625,0.052546702,-0.111796714,-0.071911305,0.010691774,-0.023625828,-0.07400681,-0.035416026,0.040427033,-0.017533198,-0.10204967,-0.047531668,0.0119865555,0.011579124,0.08209374,0.06133293,-0.12630117,0.06260613,0.021209775,0.0024153586,0.0048798327,0.038230564,0.021687124,0.017282614,-0.0058235857,-0.041638836,-0.12077481,-0.052743297,-0.09017709,-0.06242059,-0.0469227,-0.04054788,-0.017517583,-0.033914246,-0.024906231,-0.044837862,-0.0044141836,-0.022200372,-0.020926982,0.01944887,0.0038933237,-0.075190514,-0.07534401,-0.009252632,0.038882524,0.029127559,0.014658823,0.026155327,-0.06710353,-0.00538827,0.035875358,0.0066356277,0.01845463,-0.029214649,0.03096289,0.033247218,0.0805287,-0.014021025,0.034357253,0.006144971,0.063921064,0.0227958,0.028148163,-0.085384354,0.030423691,0.076761656,-0.09278487,-0.06254255,-0.007314481,0.010542831,-0.0148697905,-0.014268377,0.0038216468,0.04361805,-0.055879544,-2.8660343e-08,-0.026919045,-0.058647126,-0.009413536,-0.004426244,-0.017677065,-0.06411421,0.029808013,-0.044010296,-0.057445835,-0.0029306659,0.033948652,-0.07481231,-0.043237116,0.0696051,0.06210965,0.085892014,-0.01672975,0.040591057,-0.04469667,-0.013019674,0.042662557,-0.012854307,-0.0047860765,0.015622196,-0.02249434,-0.011467346,0.08628773,0.028841645,0.0113620255,0.02270036,0.036347732,0.023580201,0.006108903,0.022842465,0.035296343,0.062140293,-0.013211599,0.02976382,-0.11228806,-0.023612326,-0.030943219,-0.114500865,-0.07902989,0.0044646547,0.028691096,-0.042031705,-0.040882166,-0.04781961,0.0114854,-0.010957193,0.020327693,0.011172784,0.037923355,0.009317656,-0.038125776,0.025017481,0.11998404,0.022702701,-0.073979795,-0.02979617,0.040029917,0.09435437,0.0037625863,0.05090326]\n",
            "content: Modern Minimalist Desk: Sleek minimalist desk with clean lines and a spacious work surface. Features cable management system and sturdy steel frame. Perfect for contemporary home offices and workspaces.\n",
            "metadata: {'id': 'desk-001', 'name': 'Modern Minimalist Desk', 'price': 399.99, 'category': 'Desks', 'material': 'Engineered Wood, Steel', 'dimensions': '60W x 30D x 29H inches', 'description': 'Sleek minimalist desk with clean lines and a spacious work surface. Features cable management system and sturdy steel frame. Perfect for contemporary home offices and workspaces.'}\n",
            "--------------------------------------------------------------------------------\n"
          ]
        }
      ]
    },
    {
      "cell_type": "markdown",
      "source": [
        "# Advanced Use Cases\n",
        "\n",
        "This section demonstrates more complex scenarios for using AlloyDB with Apache Beam for vector embeddings.\n",
        "\n",
        "🎯 **Have a specific schema?**\n",
        "- [Go to Custom Schema](#scrollTo=Custom_Schema_with_Column_Mapping)\n",
        "- Learn to use different column names and transform values\n",
        "- Map metadata to individual columns\n",
        "\n",
        "🔄 **Need to update embeddings?**\n",
        "- [Check out Updating Embeddings](#scrollTo=Update_Embeddings_and_Metadata_with_Conflict_Resolution)\n",
        "- Handle conflicts\n",
        "- Selective field updates\n",
        "\n",
        "🔗 **Need to generate and Store Embeddings for Existing AlloyDB Data??**\n",
        "- [See Database Integration](#scrollTo=Adding_Embeddings_to_Existing_Database_Records)\n",
        "- Read data from your AlloyDB table.\n",
        "- Generate embeddings for the relevant fields.\n",
        "- Update your table (or a related table) with the generated embeddings.\n",
        "\n",
        "🤖 **Want to use Google's AI models?**\n",
        "- [Try Vertex AI Embeddings](#scrollTo=Generate_Embeddings_with_VertexAI_Text_Embeddings)\n",
        "- Use Google's powerful embedding models\n",
        "- Seamlessly integrate with other Google Cloud services\n"
      ],
      "metadata": {
        "id": "-2hTEi-jzYN6"
      }
    },
    {
      "cell_type": "markdown",
      "source": [
        "## Custom Schema with Column Mapping <a name=\"custom-schema\"></a>\n",
        "\n",
        "In this example, we'll create a custom schema that:\n",
        "- Uses different column names\n",
        "- Maps metadata to individual columns\n",
        "- Uses functions to transform values"
      ],
      "metadata": {
        "id": "qGaH_TqEzn8r"
      }
    },
    {
      "cell_type": "markdown",
      "source": [
        "### ColumnSpec and ColumnSpecsBuilder\n",
        "\n",
        "\n",
        "ColumnSpec specifies how to map data to a database column. For example:\n",
        "```python\n",
        "ColumnSpec(\n",
        "    column_name=\"price\",          # Database column\n",
        "    python_type=float,            # Python Type for the value\n",
        "    value_fn=lambda c: c.metadata['price'],  # Extract price from Chunk metadata to get actual value\n",
        "    sql_typecast=\"::decimal\"      # Optional SQL cast\n",
        ")\n",
        "```\n",
        "creates an INSERT statement like:\n",
        "```sql\n",
        "INSERT INTO table (price) VALUES (?::decimal)\n",
        "```\n",
        "where the `?` placeholder is poulated with the value from our ingested data.\n",
        "\n",
        "`ColumnSpecsBuilder` provides a builder and convenience methods to create these `ColumnSpecs`:\n",
        "\n",
        "1. Core Field Mapping\n",
        "   - `with_id_spec()` => Insert chunk.id as text in \"id\" column\n",
        "   - `with_embedding_spec()` => Insert chunk.embedding as `float[]` in \"embedding\" column\n",
        "   - `with_content_spec()` => Insert `chunk.content`.text as text in \"content\" column\n",
        "\n",
        "   Note: All `with_id_spec`, `with_embedding_spec`, etc. methods allow overriding `column_name`, `python_type`, and `value_fn`.\n",
        "\n",
        "2. Metadata Extraction\n",
        "   - `add_metadata_field`: Creates a column from a `chunk.metadata` field\n",
        "   - Handles type conversion based on specified SQL type\n",
        "\n",
        "3. Custom Fields\n",
        "   - `add_custom_column_spec`: Grants complete control over mapping `Chunk` data to database rows using `ColumnSpec`\n",
        "\n",
        "Now, lets the table to store our embeddings:"
      ],
      "metadata": {
        "id": "R4d9W6ry_CN8"
      }
    },
    {
      "cell_type": "markdown",
      "source": [
        "### Create Custom Schema Table"
      ],
      "metadata": {
        "id": "6XpYLcCu80Dy"
      }
    },
    {
      "cell_type": "code",
      "source": [
        "table_name = \"custom_product_embeddings\"\n",
        "table_schema = \"\"\"\n",
        "    product_id VARCHAR PRIMARY KEY,\n",
        "    vector_embedding VECTOR(384) NOT NULL,\n",
        "    product_name VARCHAR,\n",
        "    description TEXT,\n",
        "    price DECIMAL,\n",
        "    category VARCHAR,\n",
        "    display_text VARCHAR,\n",
        "    model_name VARCHAR,\n",
        "    created_at TIMESTAMP\n",
        "\"\"\"\n",
        "setup_alloydb_table(ALLOYDB_HOST, DB_NAME, table_name, DB_USER, DB_PASSWORD)\n",
        "test_alloydb_connection(ALLOYDB_HOST, DB_NAME, table_name, DB_USER, DB_PASSWORD)"
      ],
      "metadata": {
        "id": "6bUd6vprzh7O",
        "colab": {
          "base_uri": "https://localhost:8080/"
        },
        "outputId": "dac74416-d836-49fe-a2f5-2a327d7bd48b"
      },
      "execution_count": null,
      "outputs": [
        {
          "output_type": "stream",
          "name": "stdout",
          "text": [
            "Connected to AlloyDB successfully!\n",
            "Creating pgvector extension...\n",
            "Creating table...\n",
            "Setup completed successfully!\n",
            "✓ custom_product_embeddings table exists\n",
            "✓ pgvector extension is installed\n"
          ]
        }
      ]
    },
    {
      "cell_type": "markdown",
      "source": [
        "### Configure Pipeline Components"
      ],
      "metadata": {
        "id": "ScCVCZFo-Fcv"
      }
    },
    {
      "cell_type": "markdown",
      "source": [
        "#### Write to custom schema using ColumnSpecsBuilder\n",
        "\n",
        "\n",
        "We configure ConlumnSpecsBuilder to map data as:\n",
        "\n",
        "| Database Column | Chunk Field                               |\n",
        "|-----------------|-------------------------------------------|\n",
        "| `product_id`    | `chunk.id`                                |\n",
        "| `vector_embedding`| `chunk.embedding.dense_embedding`        |\n",
        "| `description`   | `chunk.content.text`                      |\n",
        "| `product_name`  | `chunk.metadata['name']`                  |\n",
        "| `price`         | `chunk.metadata['price']`                 |\n",
        "| `category`      | `chunk.metadata['category']`              |\n",
        "| `display_text`  | *Function that combines product name and price* |\n",
        "| `model_name`    | *Function that returns the model name: \"all-MiniLM-L6-v2\"* |\n",
        "| `created_at`    | *Function that returns the current timestamp cast to a SQL timestamp* |"
      ],
      "metadata": {
        "id": "g9-f7tcf-0qC"
      }
    },
    {
      "cell_type": "code",
      "source": [
        "from apache_beam.ml.rag.ingestion.alloydb import ColumnSpec\n",
        "from apache_beam.ml.rag.ingestion.alloydb import ColumnSpecsBuilder\n",
        "from datetime import datetime\n",
        "\n",
        "column_specs = (\n",
        "    ColumnSpecsBuilder()\n",
        "    # Write chunk.id to a column named \"product_id\"\n",
        "    .with_id_spec(column_name='product_id')\n",
        "    # Write chunk.embedding.dense_embedding to a column named \"vector_embedding\"\n",
        "    .with_embedding_spec(column_name='vector_embedding')\n",
        "    # Write chunk.content.text to a column named \"description\"\n",
        "    .with_content_spec(column_name='description')\n",
        "    # Write chunk.metadata.['product_name'] to a column named \"product_name\"\n",
        "    .add_metadata_field(\n",
        "        field='name',\n",
        "        column_name='product_name',\n",
        "        python_type=str\n",
        "    )\n",
        "    # Write chunk.metadata.['price'] to a column named \"price\"\n",
        "    .add_metadata_field(\n",
        "        field='price',\n",
        "        column_name='price',\n",
        "        python_type=float\n",
        "    )\n",
        "    # Write chunk.metadata.['category'] to a column named \"category\"\n",
        "    .add_metadata_field(\n",
        "        field='category',\n",
        "        column_name='category',\n",
        "        python_type=str\n",
        "    )\n",
        "    # Write custom field using value_fn to column named \"display_text\" using\n",
        "    # ColumnSpec.text convenience method\n",
        "    .add_custom_column_spec(\n",
        "        ColumnSpec.text(\n",
        "          column_name='display_text',\n",
        "        value_fn=lambda chunk: \\\n",
        "          f\"{chunk.metadata['name']} - ${chunk.metadata['price']:.2f}\"\n",
        "        )\n",
        "    )\n",
        "    # Store model used to generate embedding using ColumnSpec constructor\n",
        "    .add_custom_column_spec(\n",
        "        ColumnSpec(\n",
        "          column_name='model_name',\n",
        "          python_type=str,\n",
        "          value_fn=lambda _: \"all-MiniLM-L6-v2\"\n",
        "        )\n",
        "    )\n",
        "    .add_custom_column_spec(\n",
        "        ColumnSpec(\n",
        "          column_name='created_at',\n",
        "          python_type=str,\n",
        "          value_fn=lambda _: datetime.now().isoformat(),\n",
        "          sql_typecast=\"::timestamp\"\n",
        "        )\n",
        "    )\n",
        "    .build()\n",
        ")"
      ],
      "metadata": {
        "id": "TAq6ydMn-5Uu"
      },
      "execution_count": null,
      "outputs": []
    },
    {
      "cell_type": "markdown",
      "source": [
        "### Assemble and Run Pipeline\n",
        "\n",
        "Now we can create our pipeline that will:\n",
        "1. Take our product data\n",
        "2. Convert each product to a Chunk\n",
        "3. Generate embeddings for each Chunk\n",
        "4. Store everything in AlloyDB with our custom schema configuration"
      ],
      "metadata": {
        "id": "MBfLVL6XX2mF"
      }
    },
    {
      "cell_type": "code",
      "source": [
        "import tempfile # For storing MLTransform artifacts\n",
        "\n",
        "# Executing on DirectRunner (local execution)\n",
        "with beam.Pipeline() as p:\n",
        "    _ = (\n",
        "            p\n",
        "            | 'Create Products' >> beam.Create(PRODUCTS_DATA)\n",
        "            | 'Convert to Chunks' >> beam.Map(lambda product: Chunk(\n",
        "                    content=Content(\n",
        "                        text=f\"{product['name']}: {product['description']}\"\n",
        "                    ), # The text that will be embedded\n",
        "                    id=product['id'],  # Use product ID as chunk ID\n",
        "                    metadata=product,  # Store all product info in metadata\n",
        "                )\n",
        "              )\n",
        "            | 'Generate Embeddings' >> MLTransform(write_artifact_location=tempfile.mkdtemp())\n",
        "              .with_transform(HuggingfaceTextEmbeddings(model_name=\"sentence-transformers/all-MiniLM-L6-v2\"))\n",
        "            | 'Write to AlloyDB' >> VectorDatabaseWriteTransform(\n",
        "                AlloyDBVectorWriterConfig(\n",
        "                    connection_config = AlloyDBConnectionConfig(JDBC_URL, DB_USER, DB_PASSWORD),\n",
        "                    table_name=table_name,\n",
        "                    column_specs=column_specs\n",
        "                )\n",
        "            )\n",
        "        )"
      ],
      "metadata": {
        "id": "4V-ILUlWVVX8"
      },
      "execution_count": null,
      "outputs": []
    },
    {
      "cell_type": "markdown",
      "source": [
        "### Verify the Written Embeddings\n",
        "\n",
        "Let's check what was written to our AlloyDB table:"
      ],
      "metadata": {
        "id": "LCpoJkBpYEsH"
      }
    },
    {
      "cell_type": "code",
      "source": [
        "verify_embeddings(ALLOYDB_HOST, DB_NAME, table_name, DB_USER, DB_PASSWORD)"
      ],
      "metadata": {
        "colab": {
          "base_uri": "https://localhost:8080/"
        },
        "id": "B2UDOZL0VZ-p",
        "outputId": "aa55c3da-efff-4cd4-c19c-614069ee561e"
      },
      "execution_count": null,
      "outputs": [
        {
          "output_type": "stream",
          "name": "stdout",
          "text": [
            "\n",
            "Found 5 products:\n",
            "--------------------------------------------------------------------------------\n",
            "product_id: desk-001\n",
            "vector_embedding: [-0.001057815,0.060585838,0.06550077,-0.020135332,0.0063834586,-0.016612189,-0.0031698928,0.10957789,-0.0820077,0.087466136,0.05336146,0.018569656,0.057456993,0.029180786,-0.0739839,-0.010892165,0.07001466,-0.03374081,0.051436793,0.07567188,-0.13465184,-0.032239668,-0.04638205,-0.029914198,-0.009278446,0.06718533,-0.051145084,0.042603016,0.007903699,-0.041032363,-0.04231419,-0.01325918,0.071415,0.040334247,-0.01094771,0.003317118,0.08076268,-0.017956244,-0.010060241,-0.050612617,-0.06333365,-0.015355688,-0.016382031,0.04253677,-0.0060182833,0.033938967,-0.022733817,-0.13714638,-0.046747543,-0.053437427,0.03156534,0.0036609878,0.008148901,0.0004498263,-0.0139052775,-0.0072347587,0.003329244,0.02151876,-0.002358143,-0.04545856,0.06712152,-0.06171683,0.0034830095,0.03768045,0.029724924,0.046725973,-0.041152626,0.022954624,0.06727486,-0.047817953,-0.022311574,-0.006367141,-0.034347665,0.0454951,7.043634e-05,-0.113772176,0.0037808658,-0.016453175,0.007873811,0.08294731,-0.048830684,0.043934047,-0.072832346,0.075656876,-0.06601299,0.00082295056,-0.055017143,-0.046629313,0.003992826,-0.11849778,0.06739192,0.04190433,-0.042112317,0.012006758,-0.06356277,-0.052011997,0.04062942,0.0008779314,-0.10618619,0.058837418,-0.035058603,0.024972772,0.14561659,0.014725338,0.029324891,-0.0053626252,0.02814062,-0.066259705,-0.07870076,-0.03763159,-0.05551403,-0.06366927,-0.17272565,-0.07403342,0.028536445,-0.019524984,-0.006076428,-0.018281966,0.08323952,0.043096125,0.044669934,0.003794127,0.003360419,0.0038145634,0.017628977,0.053377304,0.04699343,1.8948987e-33,0.027950196,0.066461906,-0.028161732,-0.006389328,0.06030824,0.020444188,0.018832795,0.10140829,0.026494414,0.036146514,-0.026098972,-0.05159774,0.0011205175,0.023721311,0.05779271,-0.04863308,0.025785096,-0.010925589,-0.007652651,0.041972544,-0.05286998,0.09319047,0.041135963,-0.05854327,0.030171309,-0.04105334,0.07038842,-0.020940648,-0.02166687,-0.020070298,-0.06315385,-0.009049079,0.00078501547,-0.015395543,-0.050217472,0.027864248,-0.01698884,-0.01361225,0.083218426,-0.00680146,-0.090368144,0.065700725,0.047122493,-0.018271266,0.038392376,0.067258775,0.15831783,0.0318156,0.05744108,-0.030053735,-0.017398562,0.05620426,0.03845883,0.07659209,-0.005228263,-0.07242891,-0.017286185,-0.06076563,0.010254259,0.04249031,0.0054570134,0.024156824,-0.03405574,0.03224425,0.043352388,0.0066218483,0.009701542,-0.0061702006,0.03439675,0.014364707,-0.07169268,-0.030080838,0.057064775,0.021052632,0.10315803,0.08609661,0.04735578,-0.09807956,-0.019662429,-0.06984223,-0.052169047,0.009997571,0.016189488,0.057329655,0.031931113,0.096302606,0.10293316,-0.016209126,-0.024686016,0.058873244,-0.03085521,-0.0737745,-0.042329386,0.060528547,0.004806,-2.3104881e-33,0.017774018,-0.033051778,-0.09566817,0.024296569,0.028017169,0.023638517,0.0076059336,-0.04351966,-0.06524873,0.07048606,0.07029284,-0.0062136357,0.018824892,0.0043494813,0.029355347,0.116440654,-0.049167324,-0.06571007,0.041200016,0.007027206,0.11581624,0.05254668,-0.11179672,-0.07191128,0.010691769,-0.02362584,-0.07400684,-0.035415992,0.040427044,-0.017533168,-0.10204969,-0.047531646,0.011986546,0.011579142,0.08209371,0.061332937,-0.12630121,0.06260612,0.021209786,0.0024153567,0.004879835,0.03823057,0.021687144,0.017282587,-0.0058235675,-0.041638855,-0.120774835,-0.05274331,-0.0901771,-0.062420562,-0.04692266,-0.040547855,-0.017517554,-0.033914257,-0.024906259,-0.044837877,-0.004414193,-0.022200402,-0.020926967,0.01944887,0.0038933426,-0.07519052,-0.075344004,-0.00925266,0.038882483,0.029127559,0.014658826,0.02615534,-0.06710353,-0.005388302,0.035875384,0.006635634,0.01845464,-0.029214669,0.030962888,0.03324723,0.0805287,-0.0140210055,0.034357224,0.0061449767,0.06392108,0.022795836,0.028148135,-0.08538441,0.030423703,0.076761656,-0.09278483,-0.06254251,-0.007314473,0.010542858,-0.014869807,-0.014268346,0.0038216454,0.043618064,-0.055879563,-2.8660342e-08,-0.026919082,-0.05864714,-0.00941353,-0.0044262623,-0.017677033,-0.06411421,0.029808018,-0.044010296,-0.057445858,-0.002930679,0.03394864,-0.07481234,-0.043237135,0.06960515,0.062109653,0.08589196,-0.016729712,0.040591072,-0.044696674,-0.013019682,0.042662516,-0.01285427,-0.004786111,0.015622201,-0.02249433,-0.011467345,0.08628773,0.028841617,0.011362021,0.022700336,0.036347754,0.023580225,0.006108897,0.022842467,0.03529631,0.0621403,-0.013211548,0.02976385,-0.112288035,-0.023612317,-0.030943196,-0.11450085,-0.07902988,0.00446465,0.028691083,-0.0420317,-0.040882185,-0.047819637,0.011485365,-0.010957185,0.020327702,0.011172781,0.037923362,0.009317626,-0.038125765,0.025017489,0.11998403,0.022702718,-0.07397983,-0.029796196,0.04002992,0.09435436,0.0037625604,0.05090331]\n",
            "product_name: Modern Minimalist Desk\n",
            "description: Modern Minimalist Desk: Sleek minimalist desk with clean lines and a spacious work surface. Features cable management system and sturdy steel frame. Perfect for contemporary home offices and workspaces.\n",
            "price: 399.99\n",
            "category: Desks\n",
            "display_text: Modern Minimalist Desk - $399.99\n",
            "model_name: all-MiniLM-L6-v2\n",
            "created_at: 2025-02-25 17:28:45.459169\n",
            "--------------------------------------------------------------------------------\n",
            "product_id: chair-001\n",
            "vector_embedding: [0.024034372,0.049643356,0.02380121,0.023434717,-0.011474271,0.054758757,0.0066280444,-0.051804464,0.08406081,0.06561691,0.033215098,0.041509252,0.046736144,-0.008781649,0.05269269,-0.0072167655,0.07655435,0.016920773,0.041529574,0.10170104,-0.046693612,0.007743627,-0.021965401,0.020911846,0.0016925617,-0.004212816,0.02975341,-0.009085063,-0.03463205,-0.0674854,0.00025548987,-0.05542992,0.07586049,-0.0026962007,-0.04767921,0.0036855254,0.023553539,-0.03415768,-0.06004116,0.012130842,-0.10083736,0.03109773,0.035963405,-0.04431592,-0.022646168,-0.017285887,-0.045440447,0.0034619966,-0.03763695,0.06251875,0.043229688,-0.055833027,-0.029337516,-0.053216234,-0.0012941177,0.010824193,-0.039729252,0.012684192,-0.04650574,-0.05921986,0.08073494,-0.060871013,0.016936747,0.032665804,-0.09365399,0.02095727,-0.06390673,-0.07115557,-0.057616968,-0.03194699,-0.09837389,-0.020984048,0.008685158,0.012940995,0.0531709,0.016141536,0.06479534,-0.010185695,0.02678684,0.030218765,0.0067173527,0.085046396,0.028036712,0.0061745653,-0.0054902215,0.002778405,0.0087761,0.0285883,-0.052144997,-0.08292574,0.110564046,-0.019673103,-0.04885339,0.009615827,0.016800849,0.022905165,-0.006793773,0.06662583,0.0075788205,0.015467065,-0.009314803,0.039952233,0.08384025,0.027210714,-0.07329339,-0.045204207,0.031700373,-0.042721458,0.017726459,-0.011429263,-0.025537279,-0.047302645,-0.08868411,0.020875933,-0.0625956,-0.0050634,-0.09595927,-0.07026617,0.020033827,-0.0024248052,0.020754196,0.05459738,0.0497341,0.007815152,-0.017285442,-0.058933347,0.003224749,5.2633733e-33,-0.017509412,-0.0075070173,0.019586284,0.017409174,0.11756288,0.0271824,-0.0303962,0.011178232,0.08410849,-0.004802394,-0.17278922,0.066300474,-0.007715852,0.033886507,0.060890246,-0.045161743,-0.09161071,0.07823887,-0.04887663,0.030994473,0.026767163,-0.028737325,-0.0021056992,0.029364126,-0.028567292,0.09084031,0.044897635,-0.030723404,0.05165635,0.005114171,-0.05103809,-0.02820514,-0.08704692,-0.022340538,-0.029635843,0.022707501,-0.08602631,-0.033580452,0.046607655,-0.037747778,-0.09375369,0.07386458,0.0006701346,0.028745523,0.011574529,-0.030638551,0.06384218,0.058143977,-0.01991508,0.004863089,-0.04884907,0.04912419,-0.013517911,-0.030743532,-0.05757837,-0.075143166,-0.042486235,0.04230231,0.035344996,0.058922492,0.031419914,0.0059676627,0.026228108,-0.0997135,-0.08314718,0.027239567,0.058269642,-0.03682449,0.07719831,0.05333894,0.040014185,0.003390203,0.028967043,0.057128582,-0.081471965,-0.025745898,0.021415588,-0.028466344,-0.0077348775,-0.034061603,-0.04924062,0.035734095,0.05762224,0.011347565,-0.017001944,-0.06457246,0.024714766,-0.035418242,-0.0583245,0.05848856,-0.019119246,-0.044926535,-0.021483716,0.051401608,0.005174457,-5.6103003e-33,0.035192236,-0.056128975,-0.09965051,-0.044565935,0.09357472,0.049548496,-0.006784878,0.015591538,-0.11961262,-0.027663412,0.0117036635,-0.005872175,0.05528435,0.060783386,0.08911835,0.022189,-0.036389977,-0.05006611,-0.045602117,0.059219766,0.08467368,-0.007803156,0.016558308,-0.014207419,0.048595008,0.011596431,-0.07540503,-0.04275193,-0.00811495,0.029409416,-0.13303563,0.021896882,-0.0032562553,0.053758107,0.06858809,-0.030697025,-0.088163026,0.027436353,0.009498107,0.046644993,0.08379644,-0.020093197,0.039034475,0.09412899,0.11263892,-0.002506896,-0.09685718,-0.06798527,-0.02497066,-0.03197074,-0.021615893,-0.022191627,0.0053219786,-0.0038039144,-0.057070807,-0.06520598,-0.059813783,-0.06733826,-0.028562818,0.02997884,-0.09895835,-0.014355333,-0.0064881356,0.103883564,0.054636896,0.06733032,-0.003073674,-0.1324009,-0.09680795,0.06383872,-0.014222845,-0.121948496,-0.065568395,0.065930225,0.030783173,-0.054644298,0.06615003,-0.03547816,-0.020426827,0.05036335,-0.008852665,0.004724722,0.075594366,0.018897898,-0.004650851,0.035038106,-0.048670653,-0.05740953,-0.08017464,0.10905164,0.019136434,0.04126484,-0.013735572,0.11457239,0.07269657,-3.345716e-08,-0.069356024,0.002825739,0.104257345,0.010866511,-0.029264923,-0.09301412,0.006624335,0.009401724,-0.0012455105,-0.024561686,-0.015641503,-0.09693689,0.05797809,-0.011061879,0.079019226,0.08463443,-0.08797655,0.1446385,-0.019499265,-0.033951815,0.011404159,-0.02465592,0.039357718,-0.028178554,0.06085663,-0.0017347327,-0.041800436,0.018854924,-0.004511697,0.03995552,0.04243782,0.0682229,-0.011315075,-0.020413589,-0.07582,0.0057837665,0.010914423,-0.017202888,-0.04568626,0.025274519,-0.048237342,-0.0061782487,-0.02740246,-0.057713,0.06555932,0.0103801945,-0.02023313,-0.061100084,0.009665601,0.053880967,0.017794954,-0.019717906,0.06034096,0.00944596,-0.0933603,0.053166278,0.06705513,-0.020429455,0.00094114343,0.005865295,0.053736176,0.006128692,-0.01727772,0.031218722]\n",
            "product_name: Ergonomic Mesh Office Chair\n",
            "description: Ergonomic Mesh Office Chair: Premium ergonomic office chair with breathable mesh back, adjustable lumbar support, and 4D armrests. Features synchronized tilt mechanism and memory foam seat cushion. Ideal for long work hours.\n",
            "price: 299.99\n",
            "category: Office Chairs\n",
            "display_text: Ergonomic Mesh Office Chair - $299.99\n",
            "model_name: all-MiniLM-L6-v2\n",
            "created_at: 2025-02-25 17:28:45.485104\n",
            "--------------------------------------------------------------------------------\n",
            "product_id: sofa-001\n",
            "vector_embedding: [0.061693132,-0.06514003,-0.004259322,-0.00026265936,-0.0043638824,0.02278407,-0.0034553814,-0.07150543,-0.0036964158,0.10175812,-0.027674234,0.03065312,0.044601012,0.0036309084,0.013548873,-0.061434884,0.041185994,-0.06870029,0.07307405,0.0901294,-0.13328569,-0.037044354,-0.07246199,-0.014571491,0.006452987,-0.069877796,0.013000941,0.004406982,-0.021876626,-0.011076132,0.0035930946,0.06193622,0.005603658,0.008230667,-0.094243795,-0.01948961,-0.01861862,-0.031283554,0.007839199,0.047581665,-0.08167016,-0.022138769,-0.019320749,0.054139793,0.042868868,-0.0020084395,-0.09200395,-0.0064612124,-0.023609722,0.040455107,-0.03460287,-0.039234295,0.030286105,0.0651847,-0.071768194,-0.037233554,-0.028059557,0.07102358,-0.0024122302,-0.0475616,0.03228614,-0.059001338,0.05124282,-0.010547996,-0.013768136,0.013450035,-0.06544366,0.047171626,0.056212574,0.0011975437,-0.09012748,0.07038849,0.0020417224,-0.015899977,0.015692499,-0.05229261,-0.028192678,0.061405428,0.051773727,0.029102944,-0.051294837,0.0920936,-0.0035512983,-0.023918765,-0.020076878,-0.020859241,-0.0009828458,-8.225229e-05,-0.08064153,-0.09516381,0.048966113,0.03020213,-0.06115229,0.023425248,-0.08867588,0.08274018,-0.025424765,0.07497357,0.07620954,-0.011950436,-0.0061208867,0.06813192,0.012281391,0.03185603,-0.06795572,-0.05371045,0.037465204,0.048735466,0.030964885,-0.067623734,-0.06542715,-0.016900463,-0.051348954,-0.02338215,-0.033802003,-0.05114799,0.046425365,-0.042534888,0.056704782,-0.06312672,0.057426933,0.03997189,-0.023950962,0.052583057,-0.062677525,-0.010482433,-0.0125293555,1.1782612e-33,0.0041691163,-0.0038674986,0.010513799,0.07307301,0.02954361,0.041735716,-0.00782465,0.10425307,-0.025674691,-0.017731667,0.054739047,-0.025899868,0.012564769,-0.00054346625,0.047939215,-0.044425856,-0.019919652,0.017519103,0.020869467,-0.0399264,-0.033325646,0.13240415,0.06259885,-0.04564157,-0.006981293,0.006104435,0.097491406,-0.010486344,-0.14856094,0.017142441,0.03130041,-0.08042732,0.027307862,0.037091117,-0.07381335,-0.0034220228,-0.038783092,0.012427223,0.026442721,0.056161962,-0.042774115,0.035011988,0.019591542,0.094093405,-0.09074611,0.059568185,0.122988336,0.005352675,-0.02381991,-0.05238195,-0.055039067,0.071801215,-0.06734509,-0.045913275,-0.042742446,-0.023711402,-0.0057925833,-0.0018130487,-0.011087891,-0.06899261,0.11146218,-0.023656787,-0.030191543,-0.09059972,-0.12039484,-0.042483155,0.04264621,-0.013171108,0.07768575,0.06519548,-0.054030504,0.020429464,0.013445027,0.05701226,-0.0005102062,0.012866849,0.045344613,-0.01257263,0.036809467,-0.06880791,-0.06833929,0.019476319,-0.017056206,0.07367673,0.007818732,-0.092500046,0.054727696,0.04569554,-0.02764755,-0.009917356,-0.10876241,-0.008636748,0.010903442,0.022306267,0.035443306,-3.3994602e-33,0.0777902,-0.03866782,-0.10834576,-0.01818844,0.012194867,0.03477912,-0.010459167,-0.013154721,-0.015810926,0.03766447,0.03851509,-0.020837067,0.045661695,-0.06745843,0.036619186,0.04674263,0.013335628,-0.059949826,-0.023609212,-0.004837051,0.04170881,0.008863202,0.004866271,-0.06833003,-0.06630645,0.037023623,0.076571114,-0.017877404,-0.020357516,0.010810356,-0.08240684,-0.086180255,-0.01953767,-0.025071058,0.009173746,-0.025953317,-0.023294574,0.013954128,-0.013815364,-0.031763405,0.048546888,-0.064133674,0.018450689,0.090201795,0.07005093,-0.13034733,-0.10635538,-0.023735907,0.015524677,0.013900608,0.05536627,-0.06573055,-0.006458898,0.009961042,-0.011119319,-0.010516621,-0.081973866,0.022827059,-0.016151058,0.08239475,-0.017161595,0.061987545,-0.06902102,-0.028959928,0.039672658,0.0842923,-0.048486613,-0.07608284,-0.07235512,0.022423787,0.06669227,-0.014001509,-0.11163223,0.07069734,-0.002621696,0.02073214,0.07139216,-0.011743267,0.016239725,0.1819911,0.03141991,-0.017489726,0.04267964,-0.030049974,0.020622525,0.004707506,-0.0671783,0.063549824,-0.037783075,-0.028379599,0.023924863,-0.06623329,-0.06920931,-0.016952664,0.08096405,-2.8505116e-08,-0.056709472,-0.0056892675,-0.03424345,0.016500294,-0.040836442,-0.10269252,-0.0069946167,-0.00871579,-0.044793162,-0.037906986,0.03932178,-0.063495114,0.045753192,-0.00406079,0.023065392,0.056165412,-0.07388653,0.1197977,-0.041824695,0.073102616,0.024932157,-0.0242396,-0.015964214,0.038128275,-0.019863991,0.008195918,-0.029142262,-0.04442546,0.06167547,-0.020612108,0.0001111074,0.0066683344,0.08660806,-0.037177358,-0.019334175,0.08629651,-0.015155939,-0.05017266,0.00018639027,0.0056328587,0.017643975,-0.13268137,-0.02516511,0.0035313843,0.059142783,0.018747361,-8.084782e-05,0.059756402,-0.040446732,0.0680301,0.05067028,-0.026149709,0.03538785,0.05502319,-0.042041913,-0.008741237,0.021515459,-0.028454434,0.043150824,0.0102202315,0.07585448,0.023478353,0.05470907,0.010586416]\n",
            "product_name: Contemporary Sectional Sofa\n",
            "description: Contemporary Sectional Sofa: Modern L-shaped sectional with chaise lounge. Upholstered in premium performance fabric. Features deep seats, plush cushions, and solid wood legs. Perfect for modern living rooms.\n",
            "price: 1299.99\n",
            "category: Sofas\n",
            "display_text: Contemporary Sectional Sofa - $1299.99\n",
            "model_name: all-MiniLM-L6-v2\n",
            "created_at: 2025-02-25 17:28:45.520623\n",
            "--------------------------------------------------------------------------------\n",
            "product_id: table-001\n",
            "vector_embedding: [0.08647536,-0.025415098,0.0040468005,-0.00928495,-0.049637537,-0.023541497,-0.023955286,-0.039543446,-0.031480704,0.04437588,-0.034589037,-0.05314315,-0.0024892543,-0.054838903,-0.032527495,-0.065121226,0.045460846,-0.017135,0.06234229,0.05276814,-0.11563642,0.02528283,0.029743303,-0.013519883,0.06833522,-0.020513793,0.03866939,0.043725953,-0.0014758471,-0.066392764,0.017405378,0.024440492,0.047806006,0.026664184,-0.0827667,0.010101088,0.005497277,-0.045916665,0.00936916,-0.02833193,-0.07789015,-0.00964423,0.010423844,-0.024540622,0.0073279883,0.017052302,-0.046884384,-0.028690128,0.027423229,-0.027784165,0.02628008,0.06375237,0.024271576,0.018838404,0.0067631006,0.021119006,-0.05578519,-0.09314938,0.003911641,0.028151391,0.014238077,0.039866917,0.024812121,-0.05065997,-0.008136976,0.028458191,-0.07754604,-0.020471483,-0.03847332,0.010055076,-0.012236548,0.0034912308,0.04536187,0.021829633,-0.021827087,-0.0822157,-0.019856635,-0.0036809363,0.03628123,-0.038791545,-0.10285997,0.02917845,0.020184454,0.035260018,-0.030051213,-0.040585976,-0.06999122,0.09324561,-0.060386825,-0.024663692,-0.033884346,0.07491279,0.015240854,0.0011035195,-0.07584723,0.1353753,0.066949315,0.031852946,0.011803703,0.058490876,-0.027093884,0.044355128,0.013719058,0.005220078,-0.121107146,0.016288042,0.0066585043,0.03629922,0.04063231,-0.10828565,-0.024244988,0.012958511,-0.12626512,-0.035481744,-0.12479097,-0.033426482,0.010084961,-0.0986656,0.08560359,-0.030756444,0.059795003,0.07836292,-0.018000513,0.08003915,-0.048857592,0.04492638,0.08336028,-3.657727e-34,-0.034282222,0.0609821,-0.006047032,-0.014731193,0.08073812,-0.06722319,0.012877846,0.0070185573,-0.023356237,0.082239226,0.025687998,-0.1391999,-0.024781108,-0.058294054,0.09197866,0.02273446,-0.037951667,-0.036262304,-0.029952556,0.030569468,-0.0042912695,0.09709735,0.0061009536,0.053410463,-0.0035945245,-0.0027299167,0.034116395,0.06129986,-0.003145285,0.024203919,0.13260655,0.023017982,-0.04469572,-0.07025221,-0.009312965,-0.06277559,-0.026932104,0.030675322,0.019853098,0.0010289648,-0.021082383,0.023358589,-0.064104155,0.04815348,-0.044447243,0.013051113,0.04597169,0.025939686,-0.03158693,0.035527926,-0.026484303,0.028638236,-0.015805509,0.10245454,-0.044152103,-0.05764968,0.017191276,-0.02078346,0.026095852,0.020280402,0.08226959,0.013331341,-0.007510474,-0.078066155,-0.057731334,0.028835233,0.00060589635,-0.0073316,0.06769554,-0.07503596,-0.0037041102,-0.0022700788,0.0007132253,0.024226122,-0.00876387,0.02240275,-0.010548594,-0.0322404,0.059807226,-0.0039585982,0.06232491,0.04890179,-0.013217283,-0.0130998,-0.09173196,-0.068722636,-0.057878442,-0.061600056,-0.09399139,0.035452604,0.052369617,-0.068861224,0.024560913,0.037417237,-0.06297712,-3.4151803e-33,0.060934998,0.059889726,-0.12771945,-0.04116958,0.016026858,-0.024799423,-0.08144246,-0.057301883,-0.059411183,-0.011529309,-0.027835501,-0.01042031,0.04446464,-0.014442053,-0.012625797,0.018765299,0.056710497,0.046221606,0.0037131251,-0.025477635,0.039337914,0.028836146,-0.08372348,-0.0011953692,0.037777644,0.024890494,-0.062058717,0.002373883,-0.07543202,0.025126081,0.018814765,-0.07783875,0.08456833,-0.024168065,0.03584343,0.0048705265,-0.026137767,0.025476627,0.004660687,0.03644571,0.09761553,-0.010548308,0.048522834,0.08016337,-0.019665657,0.016245177,-0.050423134,-0.02788173,-0.06965485,0.0078006093,0.07097905,0.012186531,0.0077223694,-0.09329114,0.026733447,-0.0010743377,-0.012762816,-0.0029623923,0.0006823081,0.07786977,-0.051568504,0.04895437,0.027141426,0.08805938,0.04871361,0.025751943,-0.092737764,-0.036614094,-0.037051875,0.07610737,-0.12657574,-0.05786067,-0.020912578,0.08457898,0.041332934,0.021795968,0.09045439,0.0024646197,-0.0026761945,0.02197194,-0.034741696,-0.065371424,0.08094116,-0.107421935,0.055058517,-0.02419368,-0.015812948,0.019968133,-0.016325237,0.09909969,-0.027813641,-0.03735155,-0.058669068,-0.063443586,0.04340047,-3.151069e-08,0.013405768,-0.017750705,-0.05197075,-0.012572466,-0.00052278145,-0.13196291,0.1208885,0.051475577,-0.015626656,-0.004790609,-0.037472416,0.043253005,0.007960279,-0.023297906,-0.024615351,0.06626859,0.024994401,0.05684807,-0.045413,0.03395344,0.10112005,-0.046844773,-0.013622609,-0.017358588,0.007749749,-0.022248603,-0.025835337,-0.010821375,-0.020588476,0.02972934,0.041542415,0.08211814,-0.040330783,0.0030175545,0.039759442,0.04198307,-0.13418256,-0.091801874,-0.018781632,-0.04060168,-0.09510191,-0.0051282877,-0.08719461,-0.023831388,0.100484565,0.073388144,-0.055455524,0.082439475,-0.051116757,-0.0088334475,-0.018018639,-0.05353963,-0.015153593,-0.011554692,-0.037617292,-0.012268535,0.06707307,0.018099708,0.096032605,-0.07500248,0.07778964,0.013965608,-0.039154783,-0.008669405]\n",
            "product_name: Rustic Dining Table\n",
            "description: Rustic Dining Table: Farmhouse-style dining table with solid wood construction. Features distressed finish and trestle base. Seats 6-8 people comfortably. Perfect for family gatherings.\n",
            "price: 899.99\n",
            "category: Dining Tables\n",
            "display_text: Rustic Dining Table - $899.99\n",
            "model_name: all-MiniLM-L6-v2\n",
            "created_at: 2025-02-25 17:28:45.520936\n",
            "--------------------------------------------------------------------------------\n",
            "product_id: bed-001\n",
            "vector_embedding: [0.07378975,0.010545181,-0.015232009,0.029461848,0.0054338546,0.036385547,0.013826288,-0.0008084191,0.017008465,0.07184004,-0.022651134,0.04923655,-0.040801283,0.006483247,0.0123723755,-0.013967791,0.012586946,0.021969028,0.036528945,0.099688426,-0.05103413,-0.010981923,-0.028032517,0.04799796,-0.0029552882,0.0052099107,-0.15025087,0.019627035,0.019648476,-0.06756754,0.06717386,0.053690877,0.0005130364,0.055211924,0.019145502,0.028659102,0.017064115,-0.07088759,-0.09772329,-0.03325681,-0.07280899,0.041973367,0.006158421,0.07123759,0.04031924,0.10127299,-0.046435844,-0.063882925,-0.052795228,-0.0017429743,0.06209033,0.0072536627,0.033742532,-0.013275593,-0.053409945,0.014738727,-0.026440011,-0.021123122,0.04942097,-0.08225129,0.015161539,0.051744465,0.08462664,0.0139047885,-0.014462614,0.007173484,-0.0843472,0.06883645,0.05876651,-0.0059430166,-0.060623653,-0.034381278,-0.091399625,0.046294816,-0.037860252,-0.045247354,0.028353052,-0.0036519289,0.064452924,0.08096219,-0.08446169,0.05093512,0.01767956,0.01721116,-0.07034619,-0.014200397,-0.07096614,0.0535541,-0.070930205,-0.071042374,0.08939975,-0.020682042,0.07062253,0.0663652,-0.024363281,0.03371428,-0.07916425,-0.031558312,0.020615596,-0.011049592,-0.013332821,0.043688226,0.08659444,-0.009923406,-0.04518045,-0.08584831,0.012494148,-0.0031364497,-0.022190921,-0.021556221,-0.094711795,-0.038028903,-0.11452122,0.01282137,0.016957128,-0.077149235,-0.00527841,0.026580183,0.06982604,-0.07399649,0.07294783,-0.03524567,-0.040610246,-0.01156263,0.007055325,-0.034945723,0.024371946,3.7713352e-33,0.025046166,-0.07038719,0.03486024,-0.017949149,0.069961905,-0.018578555,0.069179356,0.036448598,0.007918628,0.08365882,-0.0880273,0.029239334,-0.0075807436,0.048449095,0.019699477,-0.017318804,-0.07114934,-0.021374606,0.041438054,0.04815575,-0.03239765,0.11969565,0.070993185,0.048455596,0.0638749,-0.045956966,0.020647373,-0.082168564,0.008440071,-0.008409812,-0.048069507,-0.014668121,-0.040589888,0.013111675,0.023742069,-0.051110156,-0.01230712,-0.06580291,-0.017356364,0.07884722,-0.048502628,-0.017026944,0.024609536,0.06160315,0.037572447,0.004311023,0.056656085,0.0453023,0.014103351,-0.036764372,-0.0406293,-0.009650635,-0.09614285,-0.025378784,-0.0064901942,-0.009483935,-0.068543226,0.03647735,0.011042332,0.012212636,0.02544064,-0.014528349,0.04169309,-0.096363485,-0.038828786,-0.027539076,0.021072106,-0.047920484,0.028568111,-0.0262763,-0.008709099,-0.052421145,0.024369366,0.08881034,0.05694351,-0.03675284,-0.029451393,-0.007944736,-0.012546789,-0.029962134,-0.006976593,-0.05218639,-0.008802904,0.05768018,0.047807842,-0.061247658,0.036381055,-0.026175026,0.0014553515,-0.015683671,-0.06240802,-0.013031193,-0.0077208276,0.08440676,-0.0402749,-5.359655e-33,0.03286575,-0.06096905,-0.054396,0.022041002,0.007899202,0.09059954,-0.03271103,-0.14324498,0.021801203,0.05831336,-0.024901949,-0.08502433,0.051945146,0.01204474,-0.052155122,0.014700681,-0.0041357363,-0.07886441,0.02287917,0.031489536,0.043960202,0.029282788,0.0031572399,0.0023003414,-0.00043878186,-0.031885985,-0.060077485,-0.050547205,-0.009913352,-0.009307308,-0.066095985,-0.007755303,0.06925044,-0.093472,0.03793811,-0.013970337,0.013222958,-0.005676906,-0.056948736,0.023813067,-0.040480874,-0.0728333,-0.0065416093,0.0775082,0.08325635,-0.012050121,-0.12049465,0.057336885,0.1278765,0.012528768,-0.052911725,-0.048865322,0.017610606,-0.055170152,-0.016530782,-0.011544552,-0.06977085,-0.0062598796,-0.017324425,0.11545836,0.060500275,-0.038845815,-0.045145925,-0.0318141,0.026273571,-0.02197893,-0.0050282516,-0.09233945,-0.051291924,-0.023588518,-0.017232709,-0.04798961,0.0055894,0.08859017,0.014921097,-0.00075549405,0.022001022,-0.12963066,0.10912377,-0.02926532,-0.087084964,0.053621564,0.03426504,0.036803983,0.032432243,-0.010376352,-0.063673384,0.012125165,-0.04167911,-0.07443842,0.060862374,-0.029448975,-0.089753196,0.06389909,0.01487401,-2.7702153e-08,0.04381104,0.03888885,-0.026465235,-0.066530205,-0.011127161,-0.048762392,0.09809098,0.05500556,0.0058149113,-0.04247576,0.04251752,-0.0038876398,-0.0370566,-0.059977926,0.0610403,0.11967105,-0.033675186,0.08235556,-0.006591495,0.044437386,0.17504723,-0.0011802869,0.028226532,0.00035683144,-0.033908036,-0.015519117,0.06697095,0.10778761,0.06328452,0.024716226,0.049653884,0.0010435525,0.04329945,0.014772293,0.044632487,0.11479873,-0.0027791986,-0.020807285,-0.0016673312,-0.050329305,-0.08849959,-0.068981536,0.0034780228,-0.058531567,-0.0034985186,-0.009771176,-0.0055880276,0.045393936,-0.068589486,-7.202671e-05,0.038243644,0.012378561,-0.0017812143,0.08026801,0.0361202,-0.01627127,-0.014281613,-0.07786849,0.07369699,-0.025860231,0.03522302,-0.052757446,0.016576324,0.0051043425]\n",
            "product_name: Platform Storage Bed\n",
            "description: Platform Storage Bed: Modern queen platform bed with integrated storage drawers. Features upholstered headboard and durable wood slat support. No box spring needed. Perfect for maximizing bedroom space.\n",
            "price: 799.99\n",
            "category: Beds\n",
            "display_text: Platform Storage Bed - $799.99\n",
            "model_name: all-MiniLM-L6-v2\n",
            "created_at: 2025-02-25 17:28:45.543575\n",
            "--------------------------------------------------------------------------------\n"
          ]
        }
      ]
    },
    {
      "cell_type": "markdown",
      "source": [
        "## Update Embeddings and Metadata with Conflict Resolution <a name=\"updating\"></a>\n",
        "\n",
        "This section demonstrates how to handle periodic updates to product descriptions and their embeddings using the default schema. We'll show how embeddings and metadata get updated when product descriptions change.\n"
      ],
      "metadata": {
        "id": "DQyJoyZic9GT"
      }
    },
    {
      "cell_type": "markdown",
      "source": [
        "### Create table with desired schema\n",
        "\n",
        "Let's use the same default schema as in Quick Start:"
      ],
      "metadata": {
        "id": "jwLHGKfNdbEG"
      }
    },
    {
      "cell_type": "code",
      "source": [
        "table_name = \"mutable_product_embeddings\"\n",
        "table_schema = f\"\"\"\n",
        "  id VARCHAR PRIMARY KEY,\n",
        "  embedding VECTOR(384) NOT NULL,\n",
        "  content text,\n",
        "  metadata JSONB,\n",
        "  created_at TIMESTAMP NOT NULL DEFAULT NOW()\n",
        "\"\"\"\n",
        "setup_alloydb_table(ALLOYDB_HOST, DB_NAME, table_name, DB_USER, DB_PASSWORD)\n",
        "test_alloydb_connection(ALLOYDB_HOST, DB_NAME, table_name, DB_USER, DB_PASSWORD)"
      ],
      "metadata": {
        "colab": {
          "base_uri": "https://localhost:8080/"
        },
        "id": "0vK-b4xkXtgJ",
        "outputId": "b90235d1-7590-4c83-e4a5-327a901b3902"
      },
      "execution_count": null,
      "outputs": [
        {
          "output_type": "stream",
          "name": "stdout",
          "text": [
            "Connected to AlloyDB successfully!\n",
            "Creating pgvector extension...\n",
            "Creating table...\n",
            "Setup completed successfully!\n",
            "✓ mutable_product_embeddings table exists\n",
            "✓ pgvector extension is installed\n"
          ]
        }
      ]
    },
    {
      "cell_type": "markdown",
      "source": [
        "### Sample Data: Day 1 vs Day 2"
      ],
      "metadata": {
        "id": "hhl2URWceSg_"
      }
    },
    {
      "cell_type": "code",
      "source": [
        "PRODUCTS_DATA_DAY1 = [\n",
        "    {\n",
        "        \"id\": \"desk-001\",\n",
        "        \"name\": \"Modern Minimalist Desk\",\n",
        "        \"description\": \"Sleek minimalist desk with clean lines and a spacious work surface. \"\n",
        "                      \"Features cable management system and sturdy steel frame.\",\n",
        "        \"category\": \"Desks\",\n",
        "        \"price\": 399.99,\n",
        "        \"update_timestamp\": \"2024-02-18\"\n",
        "    }\n",
        "]\n",
        "\n",
        "PRODUCTS_DATA_DAY2 = [\n",
        "    {\n",
        "        \"id\": \"desk-001\",  # Same ID as Day 1\n",
        "        \"name\": \"Modern Minimalist Desk\",\n",
        "        \"description\": \"Updated: Sleek minimalist desk with built-in wireless charging. \"\n",
        "                      \"Features cable management system, sturdy steel frame, and Qi charging pad. \"\n",
        "                      \"Perfect for modern tech-enabled workspaces.\",\n",
        "        \"category\": \"Smart Desks\",  # Category changed\n",
        "        \"price\": 449.99,  # Price increased\n",
        "        \"update_timestamp\": \"2024-02-19\"\n",
        "    }\n",
        "]"
      ],
      "metadata": {
        "id": "t4z8tM_leZV8"
      },
      "execution_count": null,
      "outputs": []
    },
    {
      "cell_type": "markdown",
      "source": [
        "### Configure Pipeline Components"
      ],
      "metadata": {
        "id": "W_UTcRz9eskE"
      }
    },
    {
      "cell_type": "markdown",
      "source": [
        "#### Writer with Conflict Resolution"
      ],
      "metadata": {
        "id": "PWvtwVmUedzw"
      }
    },
    {
      "cell_type": "code",
      "source": [
        "from apache_beam.ml.rag.ingestion.alloydb import (\n",
        "    AlloyDBVectorWriterConfig,\n",
        "    AlloyDBConnectionConfig,\n",
        "    ConflictResolution\n",
        ")\n",
        "\n",
        "# Define how to handle conflicts - update all fields when ID matches\n",
        "conflict_resolution = ConflictResolution(\n",
        "    on_conflict_fields=\"id\",  # Identify records by ID\n",
        "    action=\"UPDATE\",         # Update existing records\n",
        "    update_fields=[\"embedding\", \"content\", \"metadata\"]\n",
        ")\n",
        "\n",
        "# Create writer config with conflict resolution\n",
        "alloydb_writer_config = AlloyDBVectorWriterConfig(\n",
        "    connection_config=AlloyDBConnectionConfig(JDBC_URL, DB_USER, DB_PASSWORD),\n",
        "    table_name=table_name,\n",
        "    conflict_resolution=conflict_resolution,\n",
        ")"
      ],
      "metadata": {
        "id": "Y2XEwxw6ee4b"
      },
      "execution_count": null,
      "outputs": []
    },
    {
      "cell_type": "code",
      "source": [
        "huggingface_embedder = HuggingfaceTextEmbeddings(\n",
        "    model_name=\"sentence-transformers/all-MiniLM-L6-v2\"\n",
        ")"
      ],
      "metadata": {
        "id": "tzo43G9NfCr5"
      },
      "execution_count": null,
      "outputs": []
    },
    {
      "cell_type": "markdown",
      "source": [
        "### Run Day 1 Pipeline\n",
        "\n",
        "First, let's ingest our initial product data:"
      ],
      "metadata": {
        "id": "axMFW_DufKnO"
      }
    },
    {
      "cell_type": "code",
      "source": [
        "# Executing on DirectRunner (local execution)\n",
        "with beam.Pipeline() as p:\n",
        "    _ = (\n",
        "        p\n",
        "        | 'Create Day 1 Products' >> beam.Create(PRODUCTS_DATA_DAY1)\n",
        "        | 'Convert Day 1 to Chunks' >> beam.Map(lambda product: Chunk(\n",
        "                content=Content(\n",
        "                    text=f\"{product['name']}: {product['description']}\"\n",
        "                ), # The text that will be embedded\n",
        "                id=product['id'],  # Use product ID as chunk ID\n",
        "                metadata=product,  # Store all product info in metadata\n",
        "            )\n",
        "          )\n",
        "        | 'Generate Day1 Embeddings' >> MLTransform(write_artifact_location=tempfile.mkdtemp())\n",
        "          .with_transform(HuggingfaceTextEmbeddings(model_name=\"sentence-transformers/all-MiniLM-L6-v2\"))\n",
        "        | 'Write Day 1 to AlloyDB' >> VectorDatabaseWriteTransform(\n",
        "            alloydb_writer_config\n",
        "        )\n",
        "    )"
      ],
      "metadata": {
        "id": "eA3TpkHMfLUq"
      },
      "execution_count": null,
      "outputs": []
    },
    {
      "cell_type": "markdown",
      "source": [
        "#### Verify Initial Data"
      ],
      "metadata": {
        "id": "hFjtKX9tZIrI"
      }
    },
    {
      "cell_type": "code",
      "source": [
        "print(\"\\nAfter Day 1 ingestion:\")\n",
        "verify_embeddings(ALLOYDB_HOST, DB_NAME, table_name, DB_USER, DB_PASSWORD)"
      ],
      "metadata": {
        "colab": {
          "base_uri": "https://localhost:8080/"
        },
        "id": "lxSyaIhbZG52",
        "outputId": "e2a40729-54e6-47b2-dd7c-32e1b6ede435"
      },
      "execution_count": null,
      "outputs": [
        {
          "output_type": "stream",
          "name": "stdout",
          "text": [
            "\n",
            "After Day 1 ingestion:\n",
            "\n",
            "Found 1 products:\n",
            "--------------------------------------------------------------------------------\n",
            "id: desk-001\n",
            "embedding: [-0.0045002503,0.05900373,0.07442122,-0.0151996,0.006877708,-0.010805947,0.0040495754,0.11678752,-0.07902289,0.08912011,0.067379504,0.014676305,0.060260665,0.027606748,-0.07220319,-0.017484626,0.072982155,-0.040194146,0.046230145,0.050661087,-0.12877946,-0.047799468,-0.041656304,-0.02108199,-0.010726097,0.06844871,-0.049604487,0.043336596,0.0064744623,-0.06115,-0.04501372,-0.02326481,0.06976917,0.03558554,-0.00513683,-0.00085037545,0.08450821,-0.024197027,-0.032184083,-0.058323413,-0.074653424,-0.010908077,-0.024047483,0.046621956,-0.0043276376,0.020488564,-0.0045746,-0.13073471,-0.050565727,-0.050982136,0.02560689,-0.015003142,-0.002509348,0.0008339738,0.0016991752,-0.006976142,0.008729271,0.019776281,-0.0039278003,-0.03742233,0.0570335,-0.06417092,-0.0076810643,0.04203856,0.018476766,0.044952694,-0.040934063,0.019591931,0.050816394,-0.045916326,-0.021600442,-0.0018136672,-0.042115796,0.053773858,0.00032400753,-0.103328526,0.013674909,-0.020064965,0.016863208,0.076817565,-0.06731871,0.04584582,-0.074738964,0.07321125,-0.073101394,-0.0041171033,-0.057074197,-0.033169925,-6.203368e-05,-0.119796254,0.07096967,0.039246663,-0.039969213,0.014821056,-0.072941445,-0.061032858,0.046674486,-3.3946188e-05,-0.117129475,0.06082134,-0.016103731,0.02224256,0.14801754,0.020265836,0.022701187,0.007920077,0.01565587,-0.070581235,-0.08121603,-0.029232299,-0.058780544,-0.06251267,-0.1684095,-0.06351395,0.0306434,-0.009941287,-0.010853755,-0.016588122,0.09161025,0.049498733,0.04684182,0.008565379,0.00913591,0.003378915,-0.0020687755,0.06359408,0.043530036,5.1722817e-34,0.03603237,0.069912486,-0.04126067,0.006289021,0.059449714,0.017730396,0.020380558,0.10597699,0.025610942,0.04796961,-0.040771842,-0.05037338,0.0008074279,0.009005055,0.058844607,-0.054114036,0.019050652,0.00038703767,-0.023449406,0.05182634,-0.056393057,0.08623031,0.04909778,-0.060228825,0.03636147,-0.035794098,0.059512477,-0.027768537,-0.0212775,-0.012685015,-0.07706533,-0.013996834,-0.004963047,-0.014297761,-0.051807802,0.01753834,-0.002991325,-0.03243177,0.085783236,-0.00080679863,-0.09544805,0.060762856,0.051410828,-0.028188294,0.037061937,0.07347639,0.16499898,0.03442918,0.05283643,-0.027157424,-0.020956574,0.058191475,0.057870332,0.064858735,-0.007962883,-0.055486906,-0.01113408,-0.046508215,0.015522186,0.061445843,0.0050948225,0.037318278,-0.038642112,0.022658983,0.040809125,0.0024568567,0.01749822,-0.0007382332,0.027215121,-0.008063027,-0.07714728,-0.02947934,0.060327947,0.025074761,0.09946316,0.08307446,0.034461174,-0.09400572,-0.03145885,-0.069806024,-0.061499424,0.010411176,0.024443053,0.07081461,0.039264105,0.09112277,0.090381004,-0.018946556,-0.039060395,0.050924107,-0.03619564,-0.06886155,-0.027668836,0.055376213,0.0134420255,-1.1463947e-33,0.024299428,-0.035371713,-0.084838875,0.015435775,0.039033048,0.011086168,0.0184258,-0.035436723,-0.06669784,0.06826674,0.05713145,-0.0034637589,0.021088945,-0.008000561,0.042952616,0.11831405,-0.044968557,-0.056747206,0.039657764,0.004929985,0.10194933,0.055425446,-0.12330911,-0.0645812,0.006871293,-0.00851019,-0.06471381,-0.037793357,0.034813635,-0.0034027328,-0.09548701,-0.047842283,0.020359052,0.010434911,0.074247286,0.05442669,-0.11421751,0.055400718,0.0155200455,-0.0043294523,0.0191558,0.045146387,0.05000267,0.027632982,-0.006807819,-0.052485473,-0.13167825,-0.06210519,-0.08414062,-0.0627763,-0.05369117,-0.0481098,-0.0034137848,-0.019655539,-0.028513033,-0.04994679,-0.008351392,-0.020365696,-0.006929812,0.017254673,0.00044351508,-0.076294936,-0.08304787,-0.005777614,0.044564605,0.02943407,0.01900104,0.022848824,-0.059499312,-0.011681275,0.02839143,0.019950757,0.034397777,-0.032777775,0.038290545,0.035050668,0.06983346,-0.023248104,0.031273257,0.009308271,0.058364373,0.025072703,0.02727875,-0.082921244,0.029054586,0.07123207,-0.08495491,-0.060429186,-0.004707908,-0.007991746,-0.015181108,-0.00487137,0.010952519,0.040089946,-0.05742353,-2.3541467e-08,-0.031690206,-0.059987772,-0.008076311,-0.0069330577,-0.0057596015,-0.050073836,0.0136319315,-0.03634864,-0.04641186,0.003239674,0.03002067,-0.07919971,-0.04281592,0.07529562,0.067243166,0.08876282,-0.020502126,0.056942645,-0.04221433,-0.027539948,0.04231362,-0.007732947,0.014681334,0.022486238,-0.012225651,-0.02395318,0.07754323,0.032081906,0.014670009,0.023191897,0.032865036,0.02056439,0.0025266237,0.020613283,0.040441733,0.051616717,-0.015843805,0.03762646,-0.0989438,-0.020004084,-0.02708912,-0.11542177,-0.07439396,0.015251141,0.04130191,-0.03229803,-0.05507997,-0.049334217,0.009026721,-0.01855192,0.027114792,0.0093986355,0.04081887,0.008835689,-0.036655672,0.025540706,0.120198,0.032970645,-0.07762183,-0.026070036,0.057132233,0.075875096,0.0015088441,0.038841054]\n",
            "content: Modern Minimalist Desk: Sleek minimalist desk with clean lines and a spacious work surface. Features cable management system and sturdy steel frame.\n",
            "metadata: {'id': 'desk-001', 'name': 'Modern Minimalist Desk', 'price': 399.99, 'category': 'Desks', 'description': 'Sleek minimalist desk with clean lines and a spacious work surface. Features cable management system and sturdy steel frame.', 'update_timestamp': '2024-02-18'}\n",
            "created_at: 2025-02-25 17:50:24.488835\n",
            "--------------------------------------------------------------------------------\n"
          ]
        }
      ]
    },
    {
      "cell_type": "markdown",
      "source": [
        "### Run Day 2 Pipeline\n",
        "\n",
        "Now let's process our updated product data:"
      ],
      "metadata": {
        "id": "yvOlen9qfSQ4"
      }
    },
    {
      "cell_type": "code",
      "source": [
        "# Executing on DirectRunner (local execution)\n",
        "with beam.Pipeline() as p:\n",
        "    _ = (\n",
        "        p\n",
        "        | 'Create Day 2 Products' >> beam.Create(PRODUCTS_DATA_DAY2)\n",
        "        | 'Convert Day 2 to Chunks' >> beam.Map(lambda product: Chunk(\n",
        "                    content=Content(\n",
        "                        text=f\"{product['name']}: {product['description']}\"\n",
        "                    ), # The text that will be embedded\n",
        "                    id=product['id'],  # Use product ID as chunk ID\n",
        "                    metadata=product,  # Store all product info in metadata\n",
        "                )\n",
        "              )\n",
        "        | 'Generate Day 2 Embeddings' >> MLTransform(write_artifact_location=tempfile.mkdtemp())\n",
        "          .with_transform(HuggingfaceTextEmbeddings(model_name=\"sentence-transformers/all-MiniLM-L6-v2\"))\n",
        "        | 'Write Day 2 to AlloyDB' >> VectorDatabaseWriteTransform(\n",
        "            alloydb_writer_config\n",
        "        )\n",
        "    )"
      ],
      "metadata": {
        "id": "r19qQs6ifVq1"
      },
      "execution_count": null,
      "outputs": []
    },
    {
      "cell_type": "markdown",
      "source": [
        "#### Verify Updated Data"
      ],
      "metadata": {
        "id": "QbcZOIdcZWA6"
      }
    },
    {
      "cell_type": "code",
      "source": [
        "print(\"\\nAfter Day 2 ingestion:\")\n",
        "verify_embeddings(ALLOYDB_HOST, DB_NAME, table_name, DB_USER, DB_PASSWORD)"
      ],
      "metadata": {
        "colab": {
          "base_uri": "https://localhost:8080/"
        },
        "id": "_VpqhPAQZD4K",
        "outputId": "22c359e5-1266-47df-e4b2-c7312c2b7c94"
      },
      "execution_count": null,
      "outputs": [
        {
          "output_type": "stream",
          "name": "stdout",
          "text": [
            "\n",
            "After Day 2 ingestion:\n",
            "\n",
            "Found 1 products:\n",
            "--------------------------------------------------------------------------------\n",
            "id: desk-001\n",
            "embedding: [-0.069688216,0.09990969,0.054291457,0.021926325,0.026119737,-0.009320738,0.04093818,0.08397181,-0.08460739,0.08246407,0.13822316,-0.0033618943,0.084282085,0.047409005,-0.028424418,-0.018919641,0.07962887,-0.054636743,0.07036568,0.03590471,-0.13375837,-0.007273606,0.010672821,-0.059215046,0.045872547,0.06291143,-0.016371163,0.019913405,-0.021351157,-0.041431487,-0.014848063,-0.01840748,0.071445964,-0.008601728,-0.032404777,-0.00023905447,0.08869474,-0.013788823,-0.0038640038,-0.056946076,-0.092713885,-0.01890048,0.005022845,0.055990435,0.009209997,0.030351037,-0.0015497233,-0.09739816,-0.05679334,-0.050131287,0.08160355,-0.058753196,0.027757475,0.0313377,-0.026671894,-0.030177608,-0.010398384,0.033542562,0.030896632,-0.08753507,0.037424564,-0.052436404,0.020135561,0.06772314,0.010598365,0.03482641,-0.031074163,0.043301966,0.033493366,-0.050468475,-0.011786337,0.0062620244,-0.032553505,0.031048305,0.010003142,-0.066851854,-0.0036556874,-0.005413911,-0.0006958021,0.099041,-0.048955403,0.040560465,-0.08263057,0.0185414,0.008595633,-0.00017895064,-0.06801599,-0.026187807,-0.06095595,-0.15522341,0.08265888,0.06795285,-0.06312804,-0.011424775,-0.042761516,-0.046597872,0.01806375,-0.014181615,-0.13247795,0.031547803,-0.014058855,0.03971357,0.11043194,-0.00057746924,0.058937017,-0.04195863,0.021040564,-0.042296626,-0.026238928,-0.03157577,-0.047332797,-0.067586444,-0.16041708,-0.07135912,0.03993926,0.0046949717,0.017401943,0.0627778,0.10573251,0.00732296,0.047254432,0.010362064,-0.030979194,-0.07336727,-0.0008781964,0.05521832,0.0044423174,1.5882587e-33,0.037389796,0.07364734,-0.054896377,-0.019475535,0.061547488,-0.0063155,0.035870276,0.100791276,0.034008868,0.033504613,-0.048964687,0.009292799,-0.009211836,-0.006167229,0.074414216,-0.09405804,-0.03348046,0.014396317,0.0339539,0.010577282,-0.046241354,0.08214097,0.04225354,-0.02276532,0.049780603,-0.00035419632,0.065055035,-0.015028497,-0.004071991,-0.013677551,-0.104781754,0.0049842144,-0.014424505,-0.033732966,-0.082599655,0.0172755,-0.03388388,-0.047894936,0.09735448,-0.04069755,-0.09802602,0.027948773,0.008585036,-0.03540228,0.04387001,0.026463997,0.12562014,-0.019368034,0.059420306,-0.04391877,-0.0556709,-0.012243059,0.012782326,0.062125262,0.0010211667,-0.08122351,-0.0008287491,-0.00052186946,0.009504721,0.06352185,0.0014741413,0.02997441,-0.029334236,-0.029118607,0.0029382487,-0.039849717,0.015137166,-0.0084073115,-0.031232769,0.048444692,-0.035498615,-0.009440971,0.034586385,-0.0014587024,0.09757028,0.0683369,0.029934846,-0.061303165,-0.06843389,-0.083889455,-0.045447126,-0.018989261,0.026377684,0.09745929,0.030258717,0.039131768,0.043638807,-0.045771483,-0.03484788,0.0061639864,-0.013247306,-0.013348994,-0.059053116,0.044466894,0.0073566614,-1.4612967e-33,0.0083068665,-0.04155199,-0.045710906,-0.013910007,0.02467754,-0.013529128,-0.004218371,-0.020529434,-0.062066674,0.031566918,0.035573687,0.011833407,0.0038230517,-0.02861543,0.05730026,0.09179968,-0.05024177,-0.0438854,0.05399434,0.009909091,0.10904517,0.070027545,-0.06826694,-0.060775004,0.018706819,-0.015506338,-0.023793321,-0.03964501,0.068595596,0.0093056755,-0.09676551,-0.10240471,0.066870764,0.03386832,0.08994304,0.025873134,-0.07752319,0.034163482,0.019243492,-0.019829826,0.07947699,0.033264633,0.025060026,0.066346616,0.048468247,-0.074029274,-0.1381549,-0.036215294,-0.07186712,-0.039768387,-0.045930207,-0.06545252,-0.046017215,0.0019909374,-0.045008615,-0.045750793,0.025981914,0.008260994,-0.008369112,-0.027389776,0.00053473096,-0.038758066,-0.022402028,0.014468996,-0.01305628,0.04015619,0.015940204,0.06382555,-0.052373424,0.035575885,0.008475197,-0.01581837,0.015198424,-0.05254452,0.013653673,0.04930579,0.09542318,-0.0036383306,0.008554944,-0.023257177,0.08217066,0.04819591,0.036084246,-0.089794785,0.022896348,0.03769782,-0.04823396,-0.052406862,-0.036881,0.0068124803,-0.024343206,0.0014875936,0.021962041,0.11056738,-0.057191096,-2.5850298e-08,-0.064738356,-0.0016972136,-0.020516317,-0.01914231,-0.005576492,-0.06940547,0.043662854,-0.06390563,-0.02388947,0.011950706,0.0064300746,-0.06335975,-0.007391045,0.06355929,0.068287216,0.13833094,-0.05040944,0.063301,-0.018364906,-0.0007394087,0.043716703,0.021032726,-0.016762517,1.7436794e-05,0.022843372,0.0019789014,0.06323802,0.02899236,0.055997256,-0.016198479,-0.011413971,0.007468725,0.02517579,0.03300329,-0.025204193,0.014875878,-0.040995795,-0.007415305,-0.073124595,-0.006152502,-0.060051445,-0.130295,-0.07503036,-0.0007110681,0.00022292373,-0.050808225,-0.001143135,-0.036046766,0.020634286,0.04598115,0.024027733,-0.02698458,0.046742372,-0.0153035335,-0.031019732,0.061429217,0.09796333,0.0023528242,-0.033234805,-0.032236107,0.050687097,0.030228255,0.042164605,0.107427396]\n",
            "content: Modern Minimalist Desk: Updated: Sleek minimalist desk with built-in wireless charging. Features cable management system, sturdy steel frame, and Qi charging pad. Perfect for modern tech-enabled workspaces.\n",
            "metadata: {'id': 'desk-001', 'name': 'Modern Minimalist Desk', 'price': 449.99, 'category': 'Smart Desks', 'description': 'Updated: Sleek minimalist desk with built-in wireless charging. Features cable management system, sturdy steel frame, and Qi charging pad. Perfect for modern tech-enabled workspaces.', 'update_timestamp': '2024-02-19'}\n",
            "created_at: 2025-02-25 17:50:24.488835\n",
            "--------------------------------------------------------------------------------\n"
          ]
        }
      ]
    },
    {
      "cell_type": "markdown",
      "source": [
        "### What Changed?\n",
        "\n",
        "Key points to notice:\n",
        "\n",
        "1. The embedding vector changed because the product description was updated\n",
        "2. The metadata JSONB field contains the updated category, price, and timestamp\n",
        "3. The content field reflects the new description\n",
        "4. The original ID remained the same\n",
        "\n",
        "This pattern allows you to:\n",
        "- Update embeddings when source text changes\n",
        "- Maintain referential integrity with consistent IDs\n",
        "- Track changes through the metadata field\n",
        "- Handle conflicts gracefully using AlloyDB's conflict resolution\n"
      ],
      "metadata": {
        "id": "D5hImiN0fZo5"
      }
    },
    {
      "cell_type": "markdown",
      "source": [
        "## Adding Embeddings to Existing Database Records <a name=\"integration\" target=\"_blank\"></a>\n",
        "\n",
        "This section demonstrates how to:\n",
        "1. Read existing product data from a database\n",
        "2. Generate embeddings for that data\n",
        "3. Write the embeddings back to the database"
      ],
      "metadata": {
        "id": "ndovzTB0mLdg"
      }
    },
    {
      "cell_type": "code",
      "source": [
        "table_name = \"existing_products\"\n",
        "table_schema = \"\"\"\n",
        "    id VARCHAR PRIMARY KEY,\n",
        "    title VARCHAR NOT NULL,\n",
        "    description TEXT,\n",
        "    price DECIMAL,\n",
        "    embedding VECTOR(384)\n",
        "\"\"\""
      ],
      "metadata": {
        "id": "l3-wl9e1fjms"
      },
      "execution_count": null,
      "outputs": []
    },
    {
      "cell_type": "code",
      "source": [
        "#@title Postgres helpers for inserting initial records\n",
        "def setup_initial_data(host: str,\n",
        "                      database: str,\n",
        "                      table_name: str,\n",
        "                      user: str,\n",
        "                      password: str,\n",
        "                      port: int = 5432):\n",
        "    \"\"\"Set up table and insert sample product data.\"\"\"\n",
        "    conn_string = f\"host={host} dbname={database} user={user} password={password} port={port}\"\n",
        "\n",
        "    try:\n",
        "        conn = psycopg2.connect(conn_string)\n",
        "        conn.set_isolation_level(ISOLATION_LEVEL_AUTOCOMMIT)\n",
        "        cur = conn.cursor()\n",
        "\n",
        "        # Create pgvector extension\n",
        "        cur.execute(\"CREATE EXTENSION IF NOT EXISTS vector;\")\n",
        "\n",
        "        # Create products table\n",
        "        cur.execute(f\"DROP TABLE IF EXISTS {table_name};\")\n",
        "        cur.execute(f\"CREATE TABLE {table_name} ({table_schema});\")\n",
        "\n",
        "        # Insert sample data\n",
        "        sample_products = [\n",
        "            (\n",
        "                \"lamp-001\",\n",
        "                \"Artisan Table Lamp\",\n",
        "                \"Hand-crafted ceramic table lamp with linen shade. \"\n",
        "                \"Features dimmable LED bulb and touch-sensitive base.\",\n",
        "                129.99\n",
        "            ),\n",
        "            (\n",
        "                \"mirror-001\",\n",
        "                \"Floating Wall Mirror\",\n",
        "                \"Modern circular mirror with hidden mounting system. \"\n",
        "                \"Perfect for entryways and contemporary spaces.\",\n",
        "                199.99\n",
        "            ),\n",
        "            (\n",
        "                \"vase-001\",\n",
        "                \"Contemporary Ceramic Vase\",\n",
        "                \"Minimalist vase with matte finish. \"\n",
        "                \"Ideal for dried or fresh flower arrangements.\",\n",
        "                79.99\n",
        "            )\n",
        "        ]\n",
        "\n",
        "        cur.executemany(\n",
        "            f\"\"\"\n",
        "            INSERT INTO {table_name} (id, title, description, price)\n",
        "            VALUES (%s, %s, %s, %s)\n",
        "            \"\"\",\n",
        "            sample_products\n",
        "        )\n",
        "\n",
        "        print(\"✓ Sample products inserted successfully\")\n",
        "\n",
        "    finally:\n",
        "        if 'cur' in locals():\n",
        "            cur.close()\n",
        "        if 'conn' in locals():\n",
        "            conn.close()"
      ],
      "metadata": {
        "cellView": "form",
        "id": "2cjjrbjUmaUN"
      },
      "execution_count": null,
      "outputs": []
    },
    {
      "cell_type": "code",
      "source": [
        "setup_initial_data(ALLOYDB_HOST, DB_NAME, table_name, DB_USER, DB_PASSWORD)"
      ],
      "metadata": {
        "colab": {
          "base_uri": "https://localhost:8080/"
        },
        "id": "HjHOJ0sRmrwu",
        "outputId": "29626b77-74b4-425d-9dbd-fa16bdafe394"
      },
      "execution_count": null,
      "outputs": [
        {
          "output_type": "stream",
          "name": "stdout",
          "text": [
            "✓ Sample products inserted successfully\n"
          ]
        }
      ]
    },
    {
      "cell_type": "markdown",
      "source": [
        "### Read from Database and Generate Embeddings\n",
        "\n",
        "Now let's create a pipeline to read the existing data, generate embeddings, and write back:"
      ],
      "metadata": {
        "id": "MCN0mI08m0Ba"
      }
    },
    {
      "cell_type": "code",
      "source": [
        "from apache_beam.io.jdbc import ReadFromJdbc\n",
        "from apache_beam.io.jdbc import WriteToJdbc\n",
        "from apache_beam.ml.rag.ingestion.alloydb import ColumnSpecsBuilder\n",
        "\n",
        "# Configure database writer\n",
        "alloydb_writer_config = AlloyDBVectorWriterConfig(\n",
        "    connection_config=AlloyDBConnectionConfig(JDBC_URL, DB_USER, DB_PASSWORD),\n",
        "    table_name=table_name,\n",
        "    column_specs=(\n",
        "        ColumnSpecsBuilder()\n",
        "          .with_id_spec()\n",
        "          .with_embedding_spec()\n",
        "          # Add a placeholder value for the title column, because it has a\n",
        "          # NOT NULL constraint. Insert with Conflict resolution statements in\n",
        "          # Postgres requires all NOT NULL fields to have a value, even if the\n",
        "          # value will not be updated (the original title is preserved).\n",
        "          .add_custom_column_spec(\n",
        "            ColumnSpec.text(\"title\", value_fn=lambda x: \"\")\n",
        "           )\n",
        "          .build()\n",
        "    ),\n",
        "    conflict_resolution=ConflictResolution(\n",
        "        on_conflict_fields=\"id\",\n",
        "        action=\"UPDATE\",\n",
        "        update_fields=[\"embedding\"]  # Update the embedding field\n",
        "    )\n",
        ")\n",
        "\n",
        "# Create and run pipeline  on DirectRunner (local execution)\n",
        "with beam.Pipeline() as p:\n",
        "    # Read existing products\n",
        "    rows = (\n",
        "        p\n",
        "        | \"Read Products\" >> ReadFromJdbc(\n",
        "            table_name=table_name,\n",
        "            driver_class_name=\"org.postgresql.Driver\",\n",
        "            jdbc_url=JDBC_URL,\n",
        "            username=DB_USER,\n",
        "            password=DB_PASSWORD,\n",
        "            query=f\"SELECT id, title, description FROM {table_name}\"\n",
        "        )\n",
        "    )\n",
        "\n",
        "    # Generate and write embeddings\n",
        "    _ = (\n",
        "        rows\n",
        "        | \"Convert to Chunks\" >> beam.Map(lambda row: Chunk(\n",
        "              id=row.id,\n",
        "              content=Content(text=f\"{row.title}: {row.description}\")\n",
        "            )\n",
        "          )\n",
        "        | \"Generate Embeddings\" >> MLTransform(\n",
        "            write_artifact_location=tempfile.mkdtemp()\n",
        "        ).with_transform(HuggingfaceTextEmbeddings(model_name=\"sentence-transformers/all-MiniLM-L6-v2\"))\n",
        "        | \"Write Back to AlloyDB\" >> VectorDatabaseWriteTransform(\n",
        "            alloydb_writer_config\n",
        "        )\n",
        "    )\n",
        "\n"
      ],
      "metadata": {
        "id": "Q2gY_kh1m08Z"
      },
      "execution_count": null,
      "outputs": []
    },
    {
      "cell_type": "markdown",
      "source": [
        "### Verify Data"
      ],
      "metadata": {
        "id": "bBNl5DK3Zh58"
      }
    },
    {
      "cell_type": "code",
      "source": [
        "print(\"\\nAfter embedding generation:\")\n",
        "verify_embeddings(ALLOYDB_HOST, DB_NAME, table_name, DB_USER, DB_PASSWORD)"
      ],
      "metadata": {
        "colab": {
          "base_uri": "https://localhost:8080/"
        },
        "id": "elU53NLtZlTf",
        "outputId": "9a80952b-3d5a-4ba2-f1cd-547e77c5816a"
      },
      "execution_count": null,
      "outputs": [
        {
          "output_type": "stream",
          "name": "stdout",
          "text": [
            "\n",
            "After embedding generation:\n",
            "\n",
            "Found 3 products:\n",
            "--------------------------------------------------------------------------------\n",
            "id: lamp-001\n",
            "title: Artisan Table Lamp\n",
            "description: Hand-crafted ceramic table lamp with linen shade. Features dimmable LED bulb and touch-sensitive base.\n",
            "price: 129.99\n",
            "embedding: [0.031689487,0.015019406,-0.027992113,0.011794099,0.027890578,0.012311332,0.05094233,0.039530788,0.0062339273,0.09796203,0.036408335,-0.045579962,-0.048446417,0.030952323,-0.01628782,0.0050955242,-0.00046880535,-0.024875749,0.03709692,0.089265496,0.05788519,-0.03168925,-0.027708465,-0.016526584,0.014046952,0.019951709,0.024461117,0.039271634,-0.039026197,-0.05182474,-0.058577348,0.047831777,-0.040588457,0.083615184,-0.09252382,-0.031066956,-0.048101336,-0.052257475,0.013567206,0.0101343775,-0.03135944,-0.0930071,0.018740054,0.024566485,0.050544124,-0.07123016,0.05440473,-0.0501441,-0.14550053,-0.06971258,0.025340369,0.02691406,0.09685166,0.018577438,0.010204357,0.03331682,-0.091439545,0.050285242,0.07634715,-0.054031674,0.041585337,0.02237581,0.047100626,-0.03586399,-0.08954587,0.07576328,-0.07138611,-0.044037867,-0.032971047,-0.03996811,-0.06487175,0.00030875494,0.03401612,0.025405873,0.008804358,-0.012054334,0.036979593,-0.016330449,-0.07180246,0.020739961,-0.009377327,-0.013473371,-0.07728821,0.10755967,0.00062749814,0.03160804,0.08873296,0.06658279,-0.046820685,-0.0978901,-0.02808485,0.057455096,-0.030336633,-0.04414163,-0.041014593,0.012199734,0.071036346,-0.030797346,-0.004943104,0.027385455,0.0339759,0.039543413,-0.06381588,0.061807953,-0.06884471,-0.026609609,0.072822616,0.046546794,-0.00090596953,-0.07266189,-0.0022743181,-0.059321046,-0.14760964,-0.039745603,-0.116145834,-0.05372369,0.030213445,-0.041891742,0.07690075,0.031406198,0.100678325,0.029868757,-0.061750345,0.053519428,-0.012326619,-0.051308855,0.005327082,1.9151323e-33,0.0066778655,0.01934132,-0.01883336,-0.10403925,0.11529957,-0.0143715,0.029327624,0.019280909,-0.045760788,0.026311817,0.02132199,0.022723803,-0.009638685,0.05762719,0.050186913,0.041158747,0.030757526,-0.046522506,0.03851499,-0.056410864,-0.05980545,0.047232762,0.022993892,0.085353404,0.011373341,-0.009582066,-0.02012583,-0.030573372,0.08860995,0.0015296994,0.05908714,0.044629715,0.021849051,0.011531383,-0.09023867,0.017398192,-0.07087591,-0.021257285,0.09780187,0.0049051987,-0.009986699,0.10231774,0.090149894,0.12096557,-0.0061429567,0.069902785,-0.047051836,0.08245808,0.010596095,-0.02074439,-0.08271493,0.02835476,0.0060308976,0.066101044,0.033309754,-0.05628031,-0.09419022,0.028448721,0.04263814,0.022362076,0.02611821,-0.0138373105,-0.09737814,-0.014039042,-0.025072196,0.0020963198,0.015708001,0.048518535,-0.030036697,-0.118263125,-0.07688955,0.032140803,0.02664937,-0.018691357,-0.068786815,0.009788443,0.0007199268,-0.095566854,0.022494514,-0.063591205,0.0038092975,0.033652328,-0.049881373,-0.08992495,-0.066751085,-0.01993104,-0.021555752,-0.017036501,-0.1290284,-0.00025992843,0.034554496,-0.013555432,0.03909907,-0.028596219,-0.08237277,-2.4640628e-33,0.047593966,-0.020944031,-0.058052126,0.07804321,0.15062532,-0.010858206,-0.04947297,-0.042639736,-0.043117017,-0.028421778,0.040134206,-0.035165638,-0.02903924,0.011317008,-0.037234258,0.049523354,-0.025765175,0.02194403,0.03500739,-0.010775033,0.040900033,0.11483815,-0.053941388,-0.03956321,-0.047342695,0.01211189,-0.016154757,0.010019854,-0.14889511,0.06778274,-0.067358054,-0.033871423,0.022128303,0.00037705372,0.019492885,0.05131356,-0.004873613,-0.05061765,0.018050069,0.068805195,0.029005257,-0.029237164,0.020888237,-0.013059004,-0.04469339,0.049122833,-0.040303987,0.02790359,0.025707236,-0.038631715,0.04224233,-0.0071086204,-0.027893234,-0.04334755,-0.0029749759,-0.011508157,-0.011559974,0.0273117,-0.006928674,0.008149879,0.03837829,0.049209278,0.080936745,0.036761858,0.015753979,0.04575363,0.06472015,-0.021288231,0.051798046,0.05367235,0.06966621,-0.018918486,-0.008452166,0.08532499,0.059281055,-0.027276788,0.010243945,0.016271442,-0.053149235,-0.017912226,0.022117568,0.022755051,0.07713872,-0.03297651,0.045063093,-0.018420467,-0.026241431,-0.02694394,-0.063994996,0.03322704,-0.031391818,0.043406993,-0.024189726,0.022207653,0.033710584,-2.407419e-08,0.044751156,-0.05196249,-0.045815486,-0.02831971,0.032405704,-0.06844935,0.15394107,0.044809215,-0.030173812,-0.037197832,-0.00068561325,-0.04154729,0.029836742,-0.0025504357,0.07228865,0.03005994,0.0021028344,0.044183917,-0.022352643,-0.049507804,-0.01760425,-0.004650554,0.002254544,-0.05923568,0.034994043,0.029874822,-0.03373164,0.0325771,-0.038611144,0.037659984,0.09708752,0.023996696,0.05965344,-0.037413333,-0.0030883546,0.0233505,-0.12028298,-0.07933512,-0.055761684,-0.060179945,-0.017201897,-0.025792062,-0.10124829,0.0031536927,0.040436246,-0.06569649,0.025219953,-0.00685615,-0.051961564,0.025185117,-0.0034672304,-0.045057554,0.02678288,-0.012383318,-0.04704838,-0.019082796,0.09793121,0.108202495,-0.018141024,-0.02695786,0.076067016,0.0033442338,-0.017254751,0.009207793]\n",
            "--------------------------------------------------------------------------------\n",
            "id: mirror-001\n",
            "title: Floating Wall Mirror\n",
            "description: Modern circular mirror with hidden mounting system. Perfect for entryways and contemporary spaces.\n",
            "price: 199.99\n",
            "embedding: [0.006869907,0.045183547,-0.013342867,-0.029190583,-0.024959745,-0.0623672,-0.056822218,0.038695645,-0.042774577,0.00975491,0.033031758,-0.013457501,0.060096093,-0.0028404954,0.011349086,-0.05486962,0.0009167054,0.019761616,0.115748696,0.015927626,-0.035886683,-0.054716606,-0.028542863,0.010716282,0.0051493486,-0.020416953,-0.02259766,-0.024524286,-0.04360983,-0.045718614,-0.018629711,0.037133828,-0.08023425,-0.09520566,-0.018561507,-0.0072900867,0.057203043,-0.058231466,0.052181203,-0.15141128,-0.08302842,-0.039690863,0.06474611,0.032931834,0.013845263,0.04005304,0.0068159965,0.00073099637,0.015491326,0.014225931,-0.022087047,-0.0076258727,-0.015985545,-0.023481209,0.0005559818,0.010871365,0.0088886265,0.04736117,-0.026007423,0.000776897,0.13754164,0.0053493087,0.026548684,0.055223197,-0.06253222,0.047327336,-0.08564387,-0.029932225,0.008438852,-0.045512013,-0.04277852,-0.008843234,-0.039994523,0.0016560882,0.038317848,0.017156824,0.013705215,-0.013270802,-0.057094507,0.07012185,0.041200746,0.009926185,-0.0171519,0.07183779,-0.06672542,-0.05458588,-0.014924157,-0.00876845,-0.045306597,-0.054267317,0.011735907,-0.023852948,-0.020309163,0.0043671913,0.0037754406,-0.063777626,0.007666013,0.046917178,-0.044518497,0.07595208,0.022566974,0.053059492,0.11421961,0.081741005,0.011964336,-0.0114685595,0.029293818,0.002520761,-0.023292094,-0.062626064,-0.020502994,-0.080702566,-0.07111242,-0.028467802,-0.0922013,-0.077532254,0.025516862,-0.022790255,0.05230667,-0.03729388,0.09267882,0.06650396,0.029272985,0.018230021,0.017383361,-0.009061458,-0.002190678,-9.004995e-34,-0.0037319455,0.060187615,-0.020988876,-0.07530216,0.033154693,-0.017875807,0.083976574,0.09198242,0.032155942,-0.046121817,0.011098098,-0.022342874,0.01662995,0.02862921,-0.009863911,-0.00056634244,0.05849521,0.014326358,0.004982658,-0.022303523,-0.019840349,0.05689724,-0.013679176,0.01720407,0.035006795,0.023240604,0.0077026095,-0.021305777,-0.048342366,0.03804787,-0.02984101,0.0032498282,0.036662042,-0.038539078,-0.010470042,-0.047679674,-0.05826925,-0.043951638,-0.061625306,0.014353154,0.024527434,-0.031169824,-0.019383445,0.009184858,-0.00835469,0.07414475,-0.011401052,0.06765847,-0.034414653,0.053374287,0.0007165604,0.00038993236,-0.2538214,0.012809818,-0.03933822,-0.059819926,-0.022540826,-0.036362186,-0.05917099,-0.019166356,-0.05640953,0.06311969,0.037372608,-0.013405969,-0.11179174,-0.009953049,-0.051116884,-0.056297306,-0.025071705,0.046464957,-0.059434336,0.0049866694,-0.082892194,-0.0038542845,0.017716855,0.016488424,-0.07164615,-0.057710506,-0.009303221,-0.020863561,0.012109911,0.060686626,-0.03431212,-0.010241131,0.0777913,-0.0109505365,0.028130332,-0.078044854,-0.08917204,-0.022122307,0.009378549,0.004888201,-0.015967028,0.04526666,-0.066341996,-1.508895e-33,0.041454066,0.005789476,-0.0017579854,0.00095454644,0.11699506,0.018820634,0.052496083,-0.04334853,-0.039346434,0.06941465,-0.06694928,0.01307446,0.01029169,0.13072442,-0.032258194,0.023423644,0.11891751,-0.04036304,-0.06876008,0.13242029,0.10476783,0.06496372,-0.014984522,0.021358812,-0.016852742,0.03772338,0.075974226,-0.046136897,0.0004703688,0.028479137,-0.12432166,-0.0006563762,0.097019255,-0.02036998,0.040728062,0.07128074,-0.0020135024,-0.014799329,-0.15460327,-0.07001216,-0.064826466,0.034086455,-0.014813735,0.0048956703,-0.015911723,-0.035595022,-0.00090852485,0.111523956,-0.061250944,0.013961451,-0.023216374,-0.06415252,0.0634203,0.00054427556,0.013869129,0.0132444175,-0.027283859,0.11613956,0.04702589,0.07719563,0.016803306,-0.029590702,-0.03232647,-0.0077627604,0.026692402,0.04170461,0.061147813,-0.029213125,-0.11383381,0.06631509,0.09910656,-6.381141e-05,-0.024957754,0.02384651,0.0647973,0.05458667,0.07882409,0.02406493,-0.011147334,0.046816647,-0.054632965,-0.019957779,0.078486465,0.012899027,0.0068776337,-0.10679485,-0.0580315,-0.062383883,-0.019151056,0.10491422,-0.032743234,0.052183136,-0.04596168,-0.037792478,0.07933215,-2.2487676e-08,0.01447792,-0.005406232,-0.055467885,0.031816915,-0.03360627,-0.013308816,0.052488457,-0.047080148,-0.051133785,-0.09783977,0.058619898,-0.03361222,0.024128117,0.05025491,0.0028376062,0.052991435,-0.023190917,-0.012670184,-0.048795648,0.07011283,0.00031576035,-0.09315752,0.022501996,-0.02401192,0.045930356,-0.015073602,-0.07780093,0.029101465,0.06603644,0.014287801,0.015542905,-0.0013752426,0.029871104,-0.022841433,0.0464382,-0.022943003,0.013066787,0.00710012,-0.0035617133,0.02773136,-0.061911978,-0.03798174,-0.03579661,0.015679497,0.06323239,0.037484366,0.023015032,0.020575453,-0.07606837,-0.002317915,0.0034563842,-0.071721315,-0.04585913,0.09868485,0.06213111,0.041734066,0.11747078,-0.010047087,-0.07201208,0.041462,0.06609992,0.058208905,0.022870466,0.054976963]\n",
            "--------------------------------------------------------------------------------\n",
            "id: vase-001\n",
            "title: Contemporary Ceramic Vase\n",
            "description: Minimalist vase with matte finish. Ideal for dried or fresh flower arrangements.\n",
            "price: 79.99\n",
            "embedding: [0.033454616,0.061895404,0.04600811,-0.048860032,-0.07166501,0.012806166,0.047702424,0.011450573,-0.017925713,0.029617377,-0.035130065,-0.03657104,-0.0500804,0.03956793,-0.048835106,-0.035166882,0.044935346,0.032600313,0.070751764,0.102560684,0.024356289,0.002331885,-0.026205415,-0.011390561,0.018789936,0.07260836,-0.01794096,0.037810996,0.041353296,-0.018537298,-0.05602182,0.09213323,-0.0027469948,-0.017344378,-0.011040076,-0.04531537,-0.05237593,0.061990965,0.0771985,0.02120124,0.02312921,-0.04319474,0.0001435294,0.039293326,0.030485576,0.015767947,0.08397758,0.014581819,0.004470397,-0.017725887,-0.046492822,0.0006049141,-0.009724671,0.02498822,-0.018216169,-0.052885737,0.035066865,-0.02507934,0.02429216,0.02342508,0.014010547,0.048192475,-0.03264881,-0.015424404,-0.0121381255,-0.05091124,-0.06332148,0.03482813,0.056679957,-0.008632192,0.013230517,0.06560231,-0.01003839,0.032598704,-0.058606043,0.013770449,-0.023408147,-0.0071645305,-0.08380864,-0.017760938,0.029553818,-0.04364846,-0.06747957,0.07251523,-0.0357912,-0.0036634495,-0.032876525,-0.0021489556,0.042945065,-0.020097807,0.0014367229,0.11710381,-0.06809702,-0.01960788,-0.03899132,-0.008900068,0.0621024,0.009978981,-0.061303914,0.05082026,0.02519564,-0.0030959886,0.07288855,0.00200046,0.00541988,-0.037302095,-0.016672473,-0.08780637,0.010652202,-0.0080002425,-0.09196851,-0.057359867,-0.13718753,-0.02273589,-0.114583634,-0.029951874,-0.014682169,-0.07707075,0.03835569,-0.0067294342,0.013287729,-0.06684961,0.006998692,-0.00992617,-0.047818355,-0.002423132,0.0107612675,9.253973e-34,0.05140551,0.062342823,0.026605057,0.018620461,-0.028105035,0.06324899,-0.007649198,-0.014470327,-0.023389151,-0.12511207,0.041623555,-0.02523121,-0.093235284,0.041228402,0.018182268,-0.06011147,0.005381593,0.008436472,0.06050702,-0.018578447,-0.058034714,0.09588168,-0.08196198,0.011759606,-0.044462148,-0.01597808,0.021689331,-0.040111188,-0.08205373,0.0036488615,0.060646035,0.011312717,0.074726366,-0.007734671,-0.024211558,-0.0013184758,-0.03158661,-0.06122459,0.06220628,0.009142642,0.00024050502,-0.011351831,0.09240444,0.119163185,-0.03653215,0.013716604,0.03179833,0.025567636,0.09491361,0.029401641,0.051281944,0.064593144,0.0057473434,-0.009438837,-0.016241198,-0.088760704,-0.06327789,-0.029488137,-0.07074738,-0.07215535,0.056178946,0.023122659,-0.072447665,0.0056024455,-0.00666697,0.014552643,-0.08303382,-0.01550562,0.038794976,-0.043756496,-0.03410247,0.0029987157,0.087050006,-0.021444125,0.058504403,0.056838885,0.10889508,-0.031865213,0.055402733,-0.046641935,-0.013790046,0.04881703,-0.09489215,-0.028188707,-0.032824107,0.05435514,0.053923912,0.14972658,-0.046509303,-0.005302696,0.002996491,-0.05483997,-0.008304292,0.035406016,-0.05795516,-1.7914356e-33,-0.030648014,-0.06735587,-0.004319343,0.15921743,0.054201987,0.005333164,0.0011877316,-0.0067219064,-0.041546606,-0.012036717,-0.031963296,-0.0024263249,0.08835698,-0.033673942,-0.043293223,-0.0027253996,0.01516003,-0.014676332,0.041904334,0.0126270205,0.063242935,0.097358905,-0.04323503,-0.056158043,-0.16594844,0.03103736,0.049207054,-0.032878317,-0.11324634,-0.055324025,0.041651715,-0.115384,-0.023493217,0.0028146026,-0.008534565,0.029880807,0.012160045,-0.040784843,-0.025702326,0.038324516,-0.03091308,-0.036767013,0.031910736,0.06746079,0.039787833,-0.025108939,-0.056655318,0.05979604,0.061310355,0.024229947,-0.032976266,-0.006350207,-0.034079235,-0.050365478,-0.004964935,-0.07200287,-0.048941724,0.0036651776,0.01203168,0.040718134,0.02609392,0.0044772387,-0.053032152,-0.046901315,0.0047635958,0.066298045,0.046532683,0.050513145,-0.07333086,0.054024607,0.03983905,0.05595023,-0.018098196,0.016586734,0.104366854,0.056839816,0.123377815,-0.0061642523,0.012547392,-0.0026809613,-0.08839268,0.088301085,-0.046646927,-0.020957535,0.027157225,-0.013042777,-0.113016844,-0.048957486,0.032707177,0.040552415,-0.029706256,0.027749082,0.08806545,-0.056841668,0.036291324,-2.484289e-08,0.097621046,-0.01564227,0.01443201,-0.054910284,0.027025951,-0.0758558,0.04243668,-0.066324905,0.01907104,-0.09142873,0.054308463,-0.058717247,-0.012584991,-0.010175422,0.046075173,-0.007324817,0.059009127,0.023482475,-0.07057207,-0.08414505,0.05092496,-0.0077412794,-0.009830907,-0.06777431,-0.043585476,0.07242504,0.06399796,-0.06781614,-0.08487888,-0.002059973,0.050615642,0.0031748866,0.036081646,0.020330831,-0.058572847,0.0439547,-0.038863204,-0.016329663,-0.14805976,-0.06933696,0.05738001,-0.14682119,-0.024839452,0.041527286,0.06025024,0.044786148,0.013161726,-0.00741374,-0.023717217,0.012106677,0.009276882,0.019361876,0.031250015,-0.017386429,-0.0316663,0.0009771443,0.07195529,0.08755398,0.00020693163,0.0050007855,-0.02680383,0.052320518,-0.022465026,0.06766646]\n",
            "--------------------------------------------------------------------------------\n"
          ]
        }
      ]
    },
    {
      "cell_type": "markdown",
      "source": [
        "What Happened?\n",
        "1. We started with a table containing product data but no embeddings\n",
        "2. Read the existing records using ReadFromJdbc\n",
        "3. Converted rows to Chunks, combining title and description for embedding\n",
        "4. Generated embeddings using our model\n",
        "5. Wrote back to the same table, updating only the embedding field\n",
        "Preserved all other fields (price, etc.)\n",
        "\n",
        "This pattern is useful when:\n",
        "\n",
        "- You have an existing product database\n",
        "- You want to add embeddings without disrupting current data\n",
        "- You need to maintain existing schema and relationships\n"
      ],
      "metadata": {
        "id": "ZFgpFarCp4Wo"
      }
    },
    {
      "cell_type": "markdown",
      "source": [
        "## Generate Embeddings with VertexAI Text Embeddings"
      ],
      "metadata": {
        "id": "-L8mGusPd83L"
      }
    },
    {
      "cell_type": "markdown",
      "source": [
        "This section demonstrates how to use use the Vertex AI text-embeddings API to generate text embeddings that use Googles large generative artificial intelligence (AI) models.\n",
        "\n",
        "Vertex AI models are subject to [Rate Limits and Quotas](https://cloud.google.com/vertex-ai/generative-ai/docs/quotas#view-the-quotas-by-region-and-by-model) and Dataflow automatically retries throttled requests with exponential backoff.\n",
        "\n",
        "\n",
        "For more information, see [Get text embeddings](https://cloud.google.com/vertex-ai/docs/generative-ai/embeddings/get-text-embeddings) in the Vertex AI documentation."
      ],
      "metadata": {
        "id": "dVB1qAARmOlc"
      }
    },
    {
      "cell_type": "markdown",
      "source": [
        "### Authenticate with Google Cloud\n",
        "To use the Vertex AI API, we authenticate with Google Cloud."
      ],
      "metadata": {
        "id": "-eLuZ78Tqm4w"
      }
    },
    {
      "cell_type": "code",
      "source": [
        "# Replace <PROJECT_ID> with a valid Google Cloud project ID.\n",
        "PROJECT_ID = '' # @param {type:'string'}\n",
        "\n",
        "from google.colab import auth\n",
        "auth.authenticate_user(project_id=PROJECT_ID)"
      ],
      "metadata": {
        "id": "84p608l4ql8p"
      },
      "execution_count": null,
      "outputs": []
    },
    {
      "cell_type": "markdown",
      "source": [
        "### Create AlloyDB table with default schema\n",
        "\n",
        "First we create a table to store our embeddings:"
      ],
      "metadata": {
        "id": "9PZVv8S5oTHo"
      }
    },
    {
      "cell_type": "code",
      "source": [
        "table_name = \"vertex_product_embeddings\"\n",
        "table_schema = f\"\"\"\n",
        "  id VARCHAR PRIMARY KEY,\n",
        "  embedding VECTOR(768) NOT NULL,\n",
        "  content text,\n",
        "  metadata JSONB\n",
        "\"\"\"\n",
        "setup_alloydb_table(ALLOYDB_HOST, DB_NAME, table_name, DB_USER, DB_PASSWORD)\n",
        "test_alloydb_connection(ALLOYDB_HOST, DB_NAME, table_name, DB_USER, DB_PASSWORD)"
      ],
      "metadata": {
        "colab": {
          "base_uri": "https://localhost:8080/"
        },
        "id": "cEuU4JkVkLBk",
        "outputId": "76f6a934-6e5e-4c57-a47e-1f19416920a2"
      },
      "execution_count": null,
      "outputs": [
        {
          "output_type": "stream",
          "name": "stdout",
          "text": [
            "Connected to AlloyDB successfully!\n",
            "Creating pgvector extension...\n",
            "Creating table...\n",
            "Setup completed successfully!\n",
            "✓ vertex_product_embeddings table exists\n",
            "✓ pgvector extension is installed\n"
          ]
        }
      ]
    },
    {
      "cell_type": "markdown",
      "source": [
        "### Configure Embedding Handler\n",
        "\n",
        "Import the `VertexAITextEmbeddings` handler, and specify the desired `textembedding-gecko` model."
      ],
      "metadata": {
        "id": "QZ7tSAfQpG_Z"
      }
    },
    {
      "cell_type": "code",
      "source": [
        "from apache_beam.ml.rag.embeddings.vertex_ai import VertexAITextEmbeddings\n",
        "\n",
        "vertexai_embedder = VertexAITextEmbeddings(model_name=\"textembedding-gecko@latest\")"
      ],
      "metadata": {
        "id": "Ipv7R6G9pqnx"
      },
      "execution_count": null,
      "outputs": []
    },
    {
      "cell_type": "markdown",
      "source": [
        "### Run the Pipeline"
      ],
      "metadata": {
        "id": "D7VoYav9rQJU"
      }
    },
    {
      "cell_type": "code",
      "source": [
        "import tempfile\n",
        "\n",
        "# Executing on DirectRunner (local execution)\n",
        "with beam.Pipeline() as p:\n",
        "    _ = (\n",
        "            p\n",
        "            | 'Create Products' >> beam.Create(PRODUCTS_DATA)\n",
        "            | 'Convert to Chunks' >> beam.Map(lambda product: Chunk(\n",
        "                    content=Content(\n",
        "                        text=f\"{product['name']}: {product['description']}\"\n",
        "                    ), # The text that will be embedded\n",
        "                    id=product['id'],  # Use product ID as chunk ID\n",
        "                    metadata=product,  # Store all product info in metadata\n",
        "                )\n",
        "              )\n",
        "              | 'Generate Embeddings' >> MLTransform(write_artifact_location=tempfile.mkdtemp())\n",
        "                .with_transform(\n",
        "                    vertexai_embedder\n",
        "                )\n",
        "              | 'Write to AlloyDB' >> VectorDatabaseWriteTransform(\n",
        "                  AlloyDBVectorWriterConfig(\n",
        "                      connection_config=AlloyDBConnectionConfig(\n",
        "                        jdbc_url=JDBC_URL,\n",
        "                        username=DB_USER,\n",
        "                        password=DB_PASSWORD\n",
        "                    ),\n",
        "                    table_name=table_name\n",
        "                  )\n",
        "              )\n",
        "          )"
      ],
      "metadata": {
        "id": "fi5SMGpZrPEm"
      },
      "execution_count": null,
      "outputs": []
    },
    {
      "cell_type": "markdown",
      "source": [
        "### Verify Embeddings"
      ],
      "metadata": {
        "id": "9hVYw0rspp7Y"
      }
    },
    {
      "cell_type": "code",
      "source": [
        "print(\"\\nAfter embedding generation:\")\n",
        "verify_embeddings(ALLOYDB_HOST, DB_NAME, table_name, DB_USER, DB_PASSWORD)"
      ],
      "metadata": {
        "colab": {
          "base_uri": "https://localhost:8080/"
        },
        "id": "xSEY1IILsMvi",
        "outputId": "47df83be-b225-49a4-f6b2-1da60096c931"
      },
      "execution_count": null,
      "outputs": [
        {
          "output_type": "stream",
          "name": "stdout",
          "text": [
            "\n",
            "After embedding generation:\n",
            "\n",
            "Found 5 products:\n",
            "--------------------------------------------------------------------------------\n",
            "id: desk-001\n",
            "embedding: [0.039224163,-0.0330951,-0.025687244,0.013073655,0.08133947,0.04555349,0.012126796,-0.035832036,0.024597123,0.027825661,-0.011793963,-0.014143333,-0.035762396,0.009388906,-0.023734972,-0.052758113,0.02155404,0.041994106,-0.026714081,0.03136702,0.049227387,0.036142185,0.008596038,0.0018139591,0.014294273,-0.04681292,0.023720035,-0.033541713,-0.020142222,-0.005330984,-0.01809484,0.03847957,-0.054286744,0.04666274,0.018944228,-0.024427071,0.0036434168,0.027388662,-0.026692593,0.0099747535,0.037849277,-0.05586371,-0.0328882,0.033327486,-0.0141837625,0.019386668,-0.03283112,0.0004936014,0.028712625,-0.039343365,0.0050554713,-0.021856239,0.0350442,0.01740936,-0.030664355,-0.039946113,0.058474638,-0.02889143,-0.019847749,0.009937114,0.051981255,0.04023026,0.049771704,0.003612052,0.037882626,-0.052851994,-0.03170944,0.049247973,0.07078638,0.01000928,0.011505161,0.015339344,0.0309386,0.013961145,0.034263115,-0.11906438,-0.035293803,0.022621814,0.04525285,-0.02344492,0.032071248,-0.023566345,-0.066774145,-0.051330466,-0.08194241,0.02538254,-0.0015595776,-0.0073613254,-0.02613084,-0.014832092,-0.00048034822,-0.03309892,0.0646344,-0.027303463,-0.00096777914,0.075876385,-0.01985341,-0.048210472,-0.0060688206,-0.009439907,-0.013626805,0.002458894,-0.047031865,-0.0018456635,0.06757328,0.007924438,0.010304836,0.028590545,-0.04009895,0.02984763,-0.037812687,0.018128892,0.02090142,0.002833392,0.048066996,-0.019197032,0.002993208,0.04620392,0.0697598,0.04232633,0.027277227,-0.0118428,0.06787947,-0.0013830556,-0.008229175,-0.032750793,0.024830373,0.030949611,0.0036311406,-0.030070964,-0.0021464603,-0.034729436,-0.0053507094,0.03129614,0.07114872,0.091305405,0.053743802,-0.0121753765,0.0016801995,0.015841702,0.010256798,0.019132562,0.006794504,0.03277576,0.024688624,0.07927861,-0.035483465,0.01187387,0.037248053,-0.02967604,-0.00698419,0.042379476,-0.06736698,0.012041857,0.045418356,0.039062385,-0.021867754,0.04385604,-0.024051374,0.02540143,0.03860248,-0.011922037,0.01691889,0.0772128,-0.03495003,-0.009975781,-0.012556019,-0.0070066093,0.03226188,0.049451146,0.012042042,0.048987616,-0.015306583,-0.0715502,0.047287315,-0.078697234,0.013443508,-0.021261094,-0.041278798,-0.020041654,-0.036111094,-0.053162076,0.0280128,0.05249261,0.025098832,-0.066433474,0.05214479,-0.0121944565,-0.054987628,0.032471977,-0.024669724,-0.024645673,-0.052338336,-0.009748782,-0.03696938,0.03382056,0.03106529,0.0043929378,0.012125758,-0.036390614,-0.0035830648,0.043566372,0.028163781,0.05264295,0.03244792,-0.0014736898,0.04604877,-0.038235296,-0.017338686,0.027313378,-0.030486597,0.030773666,0.0034246014,0.018337261,0.039191913,-0.01171667,0.029925922,0.01673875,0.019713286,0.0007191505,0.007891491,-0.0101268,-0.028164683,-0.04020564,-0.019232579,0.06492951,-0.04350161,-0.008504894,0.016658869,-0.0083370935,-0.010438362,0.09146745,-0.0006734097,-0.01667189,0.05489932,-0.008941236,0.030193234,0.031186441,0.027360372,0.06330738,0.011837152,-0.013708882,0.038698703,0.0028427497,-0.0992408,-0.07936922,-0.006282618,0.061955687,0.052853815,0.06106639,-0.008285753,-0.020824546,0.012261089,-0.0060776104,-0.05881245,-0.010071931,-0.07411123,0.027740741,-0.0491425,-0.0056293495,0.0604034,0.02101887,-0.00011210236,0.0095896665,0.021493116,-0.023032876,0.032940455,-0.04138468,-0.009309976,0.0128419995,-0.005221964,-0.041796703,0.040399253,0.035790823,-0.012753477,0.012002372,-0.017983727,0.06467169,0.029581469,-0.038711883,0.010408834,-0.009529964,0.020070681,-0.03474806,-0.031208716,0.008119668,-0.006850678,-0.06014103,-0.03142712,-0.027153391,-0.06570766,-0.02562505,0.02313736,-0.0057003247,-0.048181485,-0.012311249,-0.037595626,0.046960033,0.046614464,-0.0017967351,0.010207206,-0.0976205,0.06533543,-0.058396302,0.002655071,-0.0039275265,-0.013404575,-0.068691626,0.067786925,0.021357058,0.0012337393,-0.042324707,-0.029556934,0.031832814,0.04235672,0.016774815,-0.043801054,0.008226451,-0.0086263595,0.0037507042,0.020338366,0.085554436,0.023902694,0.0112202475,-0.027804563,0.07091717,-0.054076545,0.0590573,0.019679992,0.019771626,-0.008608223,0.010554553,-0.0026583674,0.0121772885,-0.013698715,0.02679672,-0.064272106,0.01758043,-0.020500856,-0.00823,-0.021308575,0.0076227756,-0.021160299,-0.05300706,0.0327579,-0.022554614,-0.043622274,0.028179778,0.08447155,0.064920686,-0.0026636955,0.01783827,0.0045702746,0.0053443117,-0.0115749445,-0.03372045,0.04774311,-0.014043862,0.027769702,-0.045122616,-0.017837677,-0.008836082,-0.034985542,-0.029884372,0.0030422746,0.021442251,0.00419215,0.024166793,0.014152029,0.0132698,0.017942771,-0.07299879,0.005586597,0.005907832,-0.006115159,-0.05293694,-0.053593274,-0.043924157,0.0048971563,0.014174006,0.0043113995,-0.030854534,0.06477738,0.032014247,0.00091161317,-0.029589912,0.04486892,0.026099235,-0.056395095,0.005764905,-0.11570678,0.01589086,0.097036965,0.020733096,0.002972814,-0.02496791,-0.043826956,-0.042541604,0.029633686,0.00018874716,-0.0032852965,-0.06851248,-0.00873691,0.007818379,-0.03463408,0.04376367,0.022921018,-0.051670846,-0.03448106,-0.0183943,0.0056868913,0.0065835738,0.021662937,-0.03166013,-0.03556674,-0.014095446,0.020607693,-0.021808332,0.00618447,-0.004753603,0.011618661,0.007442053,0.0416058,0.018105403,-0.054859143,-0.0208985,0.011856066,0.029738896,0.0007336726,0.03740607,0.04264187,-0.009828268,0.0068773273,-0.02494779,-0.019129386,-0.07679814,0.00015646542,0.033921923,-0.00868138,-0.0011932944,0.052910432,0.0075021773,0.007989098,-0.009091134,-0.016011225,-0.060458764,-0.0026797904,0.00075830746,0.0086538475,-0.07297667,0.025068127,-0.05403701,-0.019383473,-0.056569077,0.00031605075,-0.008511051,0.020374583,0.050694227,-0.024210839,-0.021268398,0.04122613,0.021967884,0.0170129,-0.039188612,0.052268688,-0.025267221,0.009789013,-0.0037842363,-0.0152870035,0.020911936,-0.024120128,-0.049298,-0.03398352,-0.049765944,0.0069572246,-0.03583686,-0.07086384,0.0329394,-0.020734997,0.01487694,-0.0034562403,0.03545311,0.002204432,0.009376538,-0.06497527,0.031848542,-0.07400772,-0.0013887974,-0.071698256,0.019963644,0.012928447,0.016376859,-0.0071562505,-0.010561057,-0.011052484,-0.021746768,-0.016807782,0.053217664,0.009260043,0.013393852,-0.026967203,0.030516447,0.031374525,-0.004117295,0.02641823,-0.08254153,0.017092451,0.011829907,-0.00020459291,0.015616506,0.030243095,-0.0082793385,-0.05814795,0.030033488,0.016077505,-0.0128595065,-0.017737173,-0.007472482,0.011685852,-0.0069071962,0.009895456,-0.0017573836,-0.053216763,-0.0059106564,-0.002969865,-0.051397286,0.03904091,0.030656599,-0.053821217,0.017944645,-0.015506267,0.06658696,-0.018372912,0.013311874,-0.030141715,0.008097301,-0.012857586,0.052245427,-0.03696835,0.008165464,0.041876096,0.00058199477,0.02256403,0.02589385,-0.015578939,0.010499587,0.023192454,-0.05662056,0.007851908,0.02025678,0.029771252,0.036665536,0.047169395,-0.031424914,0.026208613,-0.06228932,0.00031429782,-0.016450867,-0.017237425,-0.06303193,-0.012132198,0.014309295,-0.03179642,0.02266065,0.07228222,-0.002258331,-0.01439204,-0.020591542,0.073939554,-0.028926527,0.03208447,-0.043573588,0.01834095,-0.014516716,0.08815913,0.0062592356,-0.059952106,-0.0067029004,-0.06363912,0.041782968,0.018400071,-0.0018472073,-0.009520374,0.081059694,-0.04967588,-0.04838679,0.0544198,0.033009548,0.00095028797,0.044015292,-0.029273912,0.044241045,-0.002966857,0.010441213,0.035095137,-0.010410807,0.046958517,-0.029983295,-0.06000609,-0.03626278,-0.029519819,-0.028536275,0.029716894,-0.038601696,0.03251098,0.010302052,0.024666898,-0.015888294,0.00881458,0.026694184,-0.044495426,-0.07348353,-0.009195121,0.010612135,-0.020142522,-0.023772934,0.059592556,0.009560952,0.011766299,-0.05687994,-0.017433,0.008101816,0.05855917,0.020028047,-0.0021940575,0.01805173,-0.06689027,-0.0074415305,0.08109023,0.023585042,0.0758429,0.05982135,-0.033721764,0.03859002,-0.031772997,0.005997531,9.732901e-05,0.017521648,0.027420783,0.011333138,-0.033424694,-0.031607106,0.053068455,0.011684273,-0.013526782,0.07545569,-0.01229091,-0.089115426,-0.036562726,-0.007236871,-0.042863473,0.034057554,-0.040993344,0.020506792,0.0051790117,0.023585895,0.013157753,-0.07964194,0.037858665,-0.042869866,-0.047804553,-0.01771449,-0.0032921266,0.016408807,0.05085652,0.0064427615,-0.06488669,-0.08350629,0.0003481863,0.01290827,-0.06021367,0.013247204,0.09516025,-0.008075074,0.023316232,0.04487641,0.021775585,0.050239585,-0.041240405,-0.017320078,0.008386433,-0.022397736,-0.0049010133,-0.030301271,0.009839259,0.026457354,0.041312784,-0.0024046847,0.007612577,-0.02320977,0.016024489,-0.037171617,0.016575336,0.026494034,0.07392399,-0.026573176,-0.024402387,-0.047727536,-0.03056764,0.028117152,-0.00080211845,-0.025904521,0.032317564,0.03576811,-0.0046622385,-0.023649585,0.023867132,0.054703597,0.022108497,0.064586885,0.08076156,-0.02934008,-0.0281899,0.009760632,0.018917738,-0.05703937,0.0057529276,0.0014043481,-0.008543914,0.040613346,0.011113108,0.012680612,-0.0040203696,-0.01301496,-0.021456094,0.034765396,-0.048842784,-0.023971586,-0.06655235,0.022812208,0.0743836,-0.02751379,0.006335013,-0.008209402,-0.04295961,0.07411686,0.030656511,0.05505582,-0.017300626,-0.045613855,-0.02452895,-0.023117766,-0.023046019,0.05532064,0.0065795067,-0.033073585,-0.015929475,-0.0029586724,-0.004682186,-0.07115827,-0.0059538507,0.0019150628,-0.006110341,0.029143037,0.016700575,0.018101538,0.005577089,-0.03754019,0.033813436,0.03487323,-0.0224343,-0.05158844,-0.007161137,-0.025346838,0.013418034,0.015436487,-0.012451727,0.028475488]\n",
            "content: Modern Minimalist Desk: Sleek minimalist desk with clean lines and a spacious work surface. Features cable management system and sturdy steel frame. Perfect for contemporary home offices and workspaces.\n",
            "metadata: {'id': 'desk-001', 'name': 'Modern Minimalist Desk', 'price': 399.99, 'category': 'Desks', 'material': 'Engineered Wood, Steel', 'dimensions': '60W x 30D x 29H inches', 'description': 'Sleek minimalist desk with clean lines and a spacious work surface. Features cable management system and sturdy steel frame. Perfect for contemporary home offices and workspaces.'}\n",
            "--------------------------------------------------------------------------------\n",
            "id: chair-001\n",
            "embedding: [0.045257486,-0.03769284,-0.048294306,-0.01786572,0.07125416,0.009892237,0.02931474,0.018595884,0.017334217,0.048623346,-0.0068007736,-0.011543233,-0.047474865,0.00275022,-0.019872162,-0.07554237,0.035057537,0.029834507,-0.009509988,-0.0024978411,0.01142981,0.05884475,-0.017069513,-0.014936196,0.041739542,-0.062252585,0.029629799,-0.02897484,-0.025895415,-0.0021830741,-0.03148307,0.03400962,-0.02483994,0.024042476,-0.015074619,-0.032902274,-0.021195319,0.005999752,-0.018159376,-0.023020614,0.0016350902,-0.057785835,-0.046104867,0.01179723,0.0052762134,0.0016561964,-0.020467587,-0.007219959,0.04529794,-0.039959315,-0.013125399,-0.012724541,0.032511633,-0.010777195,-0.017939562,-0.056431647,0.052426837,-0.057297416,-0.030645672,-0.004531902,-0.010909747,0.006445888,0.023474913,-0.02311298,0.021231212,-0.075014226,-0.037560586,0.041298974,0.049882025,0.02607128,-0.019445516,0.04632954,0.033944394,0.0028638486,-0.0011306138,-0.12384757,-0.002528075,0.021523904,0.022204956,0.017569141,0.043259494,-0.01715846,-0.050768487,-0.034763347,-0.0563073,-0.010657023,0.019138722,-0.0040574865,0.02164463,0.006652493,-0.015179601,-0.029757988,0.03071312,-0.07470249,0.0071528563,0.10704755,-0.0074685095,-0.0328684,0.026142612,-0.03345338,0.017427277,-0.018906293,-0.061365943,-0.011072748,0.079296336,0.009410578,0.01971831,0.0059124157,-0.011884617,-0.00077640114,-0.024083115,0.008332348,-0.010064102,0.023908176,0.05876687,-0.047491014,0.032912303,0.06126695,0.041039273,0.036272533,0.04656897,-0.0010018041,0.045130547,-0.009704712,-0.015574531,0.0054040514,0.046469036,0.07608549,0.030223133,0.009906522,-0.01777242,-0.016305374,-0.022094205,0.045682926,0.03935802,0.09310208,0.08780688,0.0077248584,0.03868421,0.055553712,-0.01775831,0.023202416,0.025536338,0.01675037,0.027826283,0.06558024,-0.011601561,0.025626292,0.042407677,-0.017997995,-0.009532062,0.02984851,-0.056277405,-0.0045603877,0.060773186,0.019116277,-0.023843374,0.05412875,0.009422942,0.016783515,0.058047656,0.019302512,0.0380388,0.06174329,-0.05459258,-0.056333378,-0.02320774,-0.006893774,0.00824113,0.01956273,0.008066767,0.07946403,-0.007055257,-0.02500075,0.036367778,-0.059798975,0.017998496,0.016390178,-0.02844866,-0.022915497,-0.047254324,-0.037955895,0.018003764,0.043217685,0.01921656,-0.09659167,0.055061758,0.02868667,-0.04819876,-0.0026988012,-0.0017095124,-0.018109547,-0.06273015,-0.008023702,-0.045968097,0.024653014,0.00041472306,0.005253748,0.024857845,-0.02899585,-0.005583625,0.04190115,-0.006642858,0.024930991,0.026438141,-0.020161452,0.048544977,-0.015640132,-0.016218485,0.018605435,-0.016503952,0.023145359,0.0026380955,0.03796678,0.011769338,-0.033845685,0.019816915,-0.014269864,0.026998369,-0.009691722,0.0132104885,-0.010147759,-0.025799401,-0.010170359,-0.0055648563,0.076934,-0.06454835,-0.005375396,0.028384315,-0.0120746475,0.024215812,0.0549425,0.010168405,-0.010380103,0.07153842,-0.022828767,0.025799364,0.014920913,0.06383411,0.052357152,-0.03198882,0.032082196,-0.00843816,0.036083627,-0.085887484,-0.04706719,-0.05324559,0.05922466,0.034501757,0.06851084,0.0061197183,-0.04194246,-0.04219007,-0.025257353,-0.0729306,0.027815215,-0.037970953,0.0049582017,-0.05500809,-0.033426307,0.036153574,0.030398153,0.009911261,0.011879016,-0.029543478,0.0023349286,0.012006679,-0.07142891,-0.038665824,0.041018926,-0.0042881686,-0.017391533,0.06966089,0.039816167,-0.01674184,-0.0014594445,0.0031772377,0.048632354,0.009005134,-0.029236017,0.0020052956,-0.0012084132,0.005264805,-0.049166847,-0.028813882,-0.010310872,0.028580964,-0.044776227,-0.021625776,-0.03526797,-0.00040936755,0.003649996,0.007796295,-0.052551158,-0.03924431,0.007338845,0.01840333,0.03545152,0.044628263,-0.030956723,0.03362681,-0.06300599,0.02377892,-0.050550524,-0.029343769,-0.028313152,-0.020953238,-0.08134032,0.030121818,0.0069358097,0.013239168,-0.049238313,-0.042101767,0.0049108043,0.024988217,0.017271768,-0.044869635,-0.021578202,-0.01845373,0.033310153,0.01049967,0.073066816,0.022478713,0.010834233,-0.033767574,0.08234403,-0.053552035,0.025390103,-0.020037437,-0.0134643605,-0.042163517,0.015281935,-0.024479656,0.0028714158,-0.01918379,0.01595296,-0.08467483,-0.006973802,-0.045975473,0.014552094,-0.014609178,0.00767542,-0.023772646,-0.057157442,0.04776435,-0.017729636,-0.035089917,0.06522251,0.06938754,0.049800914,0.047246426,0.017822748,0.0020834683,0.014480691,-0.0052519767,-0.043258626,0.045462176,-0.00895947,0.061687153,-0.04189042,-0.027889386,-0.00961799,-0.011644691,-0.027020521,0.0026827266,0.023377946,0.031509686,0.05908293,-0.018778838,0.036859788,0.042087626,-0.013363229,-0.01578243,-0.042807445,0.025120016,-0.033953007,-0.040213067,-0.066998765,0.013909698,0.02787942,0.0003595308,0.0012898017,0.041933987,0.00078129943,-0.00061792263,-0.049190026,0.039314892,0.025075559,-0.041601155,-0.012368444,-0.07691964,0.00306436,0.06831774,0.018670196,0.003652446,-0.05989957,-0.04469575,-0.078539886,0.029434819,0.011206641,-0.008650448,-0.017497161,-0.024879888,0.0016535256,-0.04225436,0.058096506,0.0054307156,-0.026983205,-0.05476883,0.008008783,-0.013817475,0.02588911,0.027023742,-0.065489374,-0.057257034,0.002712108,0.052804112,-0.0400445,-0.004819914,0.019406052,-0.0043780007,-0.008105654,0.04016408,-0.026033098,-0.060686614,-0.007327379,0.012991512,0.0023477222,0.015676487,0.015126411,0.035922147,-0.0049291095,0.034435533,-0.04005023,-0.0045524905,-0.08119437,0.014525326,0.043055605,-0.009833058,0.0043959697,0.063405834,-0.016361017,-0.0050678,0.015618009,-0.011806325,-0.038180828,-0.022991294,-0.028700257,0.026066162,-0.07253361,0.0040870938,-0.021303147,0.0067907874,-0.031010766,0.011119508,0.0058355704,0.03414301,0.034945916,-0.005209659,-0.022535905,0.048649907,-0.008915018,0.012390091,-0.06397227,0.079158925,0.0010652406,0.011148787,0.009362677,-0.0070676473,0.017443178,-0.006815858,-0.020730335,0.02225755,-0.04805827,-0.019608296,0.0039323787,-0.120436125,0.05583289,-0.015709862,0.012757142,-0.013941139,0.0058085904,-0.009811731,0.013598278,-0.060437128,0.048346996,-0.049248878,-0.005691843,-0.056324244,0.000965362,-0.008516058,-0.006569564,-0.017847173,-0.06795931,-0.024736568,0.015386828,0.0019460756,0.00259961,0.021398652,0.035862904,-0.027273083,0.048200957,0.04042598,0.018428516,0.044667203,-0.038996227,0.022786494,0.009636804,-0.02132045,-0.013923028,0.04304223,-0.022657825,-0.013064206,0.027900474,0.017824579,-0.00034662153,-0.010797438,-0.031878304,0.030812776,0.00681761,-0.0070589404,-0.01593981,-0.044554435,0.0007446367,0.006820981,-0.016810123,0.024199178,0.063107714,-0.047444828,0.017964927,-0.0059153205,0.042471375,-0.025999181,-0.023587551,-0.0331646,-0.0013066763,0.0089533655,0.011319878,-0.03659507,0.019045996,0.058789015,-0.021735756,0.062931605,0.06064571,0.009291368,-0.006441348,0.016557842,-0.06483973,0.0111272475,0.04102189,0.025056226,0.012471338,0.040139064,-0.009811066,0.0081881285,-0.018386388,0.0050876522,-0.030512225,-0.0033808723,-0.05387646,-0.014398319,-0.019697867,-0.03141829,0.01896016,0.0649393,-0.0026471813,-0.038689896,-0.02562664,0.06381232,-0.02880956,0.055487715,-0.029712588,0.020589242,0.008394121,0.06536785,-0.0058372132,-0.06919416,-0.028253257,-0.026653212,0.033129755,0.025566023,-0.017972946,0.014454596,0.07085358,-0.007936828,-0.03721394,0.06688298,0.043410253,-0.009393279,0.03566822,-0.022772646,0.026934324,0.010167552,-0.018074652,0.025150154,-0.019279953,0.0038609228,-0.010457205,-0.02455746,-0.0258062,-0.01407556,-0.083250314,0.013388057,-0.018541003,0.040862817,-0.003558369,-0.0013667058,-0.02677849,0.05781767,0.041509666,-0.027593888,-0.03651476,-0.013149041,-0.0018778571,-0.09142688,-0.016643206,0.08381202,0.01894787,0.004581415,-0.022071786,0.013507294,-0.014374591,0.034765765,-0.016188854,0.038846176,0.027773894,-0.017356586,-0.010811418,0.086466424,0.027887281,0.078650005,0.05290465,0.01467935,0.042203378,0.0013304664,-0.0076271375,-0.025845338,0.0076569244,0.020996384,0.0009925627,-0.086495526,-0.029763293,0.04014,0.07131138,-0.00388426,0.099827066,0.0031496647,-0.09405798,-0.04668191,-0.017978458,-0.03119796,0.036115747,-0.017066471,0.0087971315,0.00032897823,0.02699466,-0.044895504,-0.08592516,0.03167187,-0.03439196,-0.054531015,-0.019843107,-0.017436204,0.0128969615,-0.021418683,-0.018616263,-0.025966095,-0.03653807,-0.010417676,0.038264904,-0.042801302,0.0036289685,0.089888416,-0.005054996,0.023104701,0.032098755,0.012180902,0.05283058,-0.015740022,0.018257126,0.011240586,-0.028063959,-0.0018366493,-0.02155652,-0.014114044,0.03155258,0.027204884,-0.0071477443,-0.019237844,-0.028568203,0.018171523,-0.020004164,-0.0035193167,0.029004449,0.05506019,-0.0013972913,-0.017539456,-0.029065197,-0.009718831,0.011592402,-0.009153793,-0.026172137,0.015615065,0.045123395,-0.008706372,-0.029381528,0.030418178,0.07559472,0.038681526,0.08843156,0.08141737,-0.025886916,-0.0081751235,0.002816166,0.03306127,-0.066543244,0.011149271,0.002158411,0.02156908,0.018439706,-0.006468857,-0.00037264844,0.0071032583,-0.024926739,0.013242273,0.08814323,-0.061272547,-0.00434143,-0.03969393,-0.008427954,0.064679354,-0.01644207,0.015236859,-0.013985058,-0.042006552,0.06552952,0.0024559037,0.052333992,-0.024949012,-0.08421251,-0.022601042,-0.036288165,-0.01847932,0.03534336,0.02004203,-0.0027709953,-0.019839333,0.001684889,-0.0058826203,-0.08263425,-0.020159341,-0.008029208,-0.009754528,0.028210336,0.0446247,0.038354836,-0.0074990247,-0.014920242,0.03413432,0.025602188,0.0031709825,0.0035672905,0.014493157,-0.030442813,0.019885153,0.021578973,-0.017784387,0.022080323]\n",
            "content: Ergonomic Mesh Office Chair: Premium ergonomic office chair with breathable mesh back, adjustable lumbar support, and 4D armrests. Features synchronized tilt mechanism and memory foam seat cushion. Ideal for long work hours.\n",
            "metadata: {'id': 'chair-001', 'name': 'Ergonomic Mesh Office Chair', 'price': 299.99, 'category': 'Office Chairs', 'material': 'Mesh, Metal, Premium Foam', 'dimensions': '26W x 26D x 48H inches', 'description': 'Premium ergonomic office chair with breathable mesh back, adjustable lumbar support, and 4D armrests. Features synchronized tilt mechanism and memory foam seat cushion. Ideal for long work hours.'}\n",
            "--------------------------------------------------------------------------------\n",
            "id: sofa-001\n",
            "embedding: [0.045138232,0.012169717,-0.002009368,0.01751619,0.073435046,0.035890732,0.040528387,0.014109075,0.021585708,0.018657694,-0.031285368,-0.017250476,-0.025544835,-0.0139746,-0.0089472225,-0.07805503,0.021190288,0.035182003,-0.011583423,0.053842284,0.033747844,-0.016432326,-0.005536855,-0.01085732,-0.027877925,-0.07978505,0.034704976,-0.050049365,-0.04887193,0.0015986831,-0.022824474,0.026436746,-0.015572583,0.014706996,0.030841535,-0.028474119,-0.002170072,0.042000182,-0.028483398,-0.0039894744,0.020580575,-0.07145929,-0.039897908,0.025192188,-0.004372735,0.03769112,-0.019453872,-0.0071284343,0.028945763,-0.037204538,0.032499015,-0.009459694,0.046517868,-0.021236882,-0.026792364,-0.08083057,0.06370664,-0.041699983,-0.010918856,0.021243125,0.0022628468,0.011694915,0.0041967374,-0.0043632854,0.025191488,-0.0656613,-0.023858363,0.026714515,0.09007928,0.019378042,0.03027704,0.0030872175,0.057285823,0.0128930705,-0.0058521368,-0.12530063,0.0064803017,0.031881377,0.029806742,-0.0012980523,0.020953216,-0.023258878,-0.03632188,-0.04567227,-0.047481336,0.048886586,0.012392692,-0.00016142323,0.0038139683,0.016532978,-0.013970837,-0.04155515,0.06363896,-0.0165825,-0.029586028,0.10173822,-0.020019038,-0.036204863,0.061948195,-0.017316688,0.0077410294,0.0048019527,-0.0069391113,-0.0012734727,0.060939614,-0.0025245792,0.021797288,0.041931134,-0.010928506,0.026348846,-0.046453696,-0.003916477,-0.021922942,-0.007693741,0.057691336,-0.031112775,0.014500018,0.049173802,0.023819456,0.06612309,-0.0063638804,-0.02709982,0.045694266,-0.016323999,0.0064447154,0.010485007,0.03604725,0.056252196,0.07160088,0.011178108,-0.011372304,-0.04874289,-0.00280952,0.051068265,0.048210848,0.0630852,0.059003294,-0.023018656,0.026567008,0.02427185,-0.018701287,0.021005739,-0.026052225,0.038260277,0.008904333,0.051183086,-0.041941147,0.009946294,0.029252952,-0.026204742,-0.00532024,0.020911045,-0.055507686,-0.008588426,0.07965663,0.027536916,-0.006252717,0.039881244,0.018047286,0.03815072,0.059830077,0.0067673065,0.010737778,0.03631982,-0.05853663,-0.013015229,-0.041677665,0.005245759,0.028933346,0.035011753,-0.02872373,0.081152745,-0.024641206,-0.06600574,0.0530662,-0.04230668,0.023442296,0.008087256,-0.02200553,-0.06543592,-0.027168974,-0.046844933,0.04192192,0.04114792,0.047846142,-0.06448636,0.06324431,-0.012589591,-0.035348393,0.009591693,-0.02586585,0.0021681045,-0.039099995,-0.015229824,-0.03689162,0.04684732,-0.009118222,0.005999742,-0.011908102,-0.04291988,-0.027817858,0.0475521,0.023797391,0.035366666,0.012026584,0.004763513,0.05598938,-0.033759613,0.0054665734,-0.017209051,-0.031942274,0.006750893,-0.020430746,0.0044580037,0.03942177,-0.019168613,0.03722257,0.010344026,0.008798551,0.0026554381,-0.0012385922,-0.023934474,-0.058850642,0.004720141,-0.014591461,0.04597255,-0.054377995,-0.031006336,0.022343958,0.0031266708,0.030052956,0.104967706,0.015524025,-0.003243149,0.08089623,-0.058450773,0.034510236,0.03298408,0.045437638,0.03666483,-0.023136776,0.036141604,0.03457274,0.051245887,-0.08661356,-0.05255409,-0.03592908,0.047753107,0.015392734,0.03037231,0.018302113,-0.012011359,-0.007382098,-0.00029466476,-0.058226775,0.013459646,-0.054495525,0.008977553,-0.0671073,0.03580437,0.042402036,0.0047014593,0.032015923,0.017118558,-0.013664465,0.0017960013,0.040459882,-0.0770095,-0.037562985,0.034404743,0.014487299,-0.025112867,0.068274386,0.027188443,0.015476289,0.036706127,-0.014169448,0.059238445,-0.0092554595,-0.042265363,0.004646368,0.014769366,0.009449115,-0.020098714,0.010558859,0.008642824,0.0047284756,-0.043016482,-0.02862844,-0.067441985,0.014674328,-0.048057355,0.020282267,-0.013239654,-0.048603125,-0.009039767,-0.0069422894,0.05252796,0.059134465,-0.04831626,0.044600453,-0.09744562,0.04239716,-0.062548816,-0.057776585,0.03462904,0.0045253844,-0.028397411,0.046289578,0.013319185,0.02465516,-0.047097772,-0.059286848,0.025104195,0.05070667,0.031335298,-0.058894053,0.0056765,-0.02740091,0.05140189,0.029317956,0.081155755,0.010780453,0.040913157,-0.010269704,0.037679493,-0.054111857,0.053108387,-0.023805626,-0.0069744233,-0.01579912,-0.0077623464,-0.00964289,-0.007471073,-0.023039658,-0.01018564,-0.053253107,0.007033627,-0.06868543,-0.017826233,-0.025285525,0.0041523315,-0.019023325,-0.08066945,-0.017396115,-0.029120851,-0.03364252,0.0053646658,0.076197684,0.07033035,0.028128754,0.065468505,0.007222652,0.022092376,0.002086788,-0.054893136,0.04932622,-0.04580784,0.06068563,-0.012432071,0.014787665,-0.01443556,-0.024906771,-0.019657752,0.002011831,0.024132743,0.035974227,0.04044703,-0.011609336,0.0012866581,0.01994254,-0.06049194,0.010546564,-0.012938355,-0.00919083,-0.01673801,-0.03169099,-0.03841192,0.005760634,0.024951462,-0.005461974,-0.02355291,0.044577166,-0.0022584917,0.028328113,-0.028224088,0.001182367,0.04016262,-0.006758003,-0.003348253,-0.077872984,0.026526269,0.09044773,0.02325828,0.0021545102,-0.03030205,-0.06879975,-0.07899096,0.020574136,-0.0056827343,0.015302147,-0.023755958,-0.049627226,0.019371128,-0.037700832,0.023649894,-0.01728618,-0.019045277,-0.039131008,-0.006625545,0.010426227,0.031398628,0.04122683,-0.054803144,-0.044797685,-0.017381292,0.06724393,-0.04069656,-0.00902544,0.040148623,-0.027616067,0.0076543917,-0.015473929,-0.011768474,-0.054623365,-0.021958422,0.02363135,0.01609747,0.009092182,-0.0002825343,0.051834427,-0.0052160257,0.011511355,0.0025360126,0.0026108027,-0.06721087,-0.01816512,0.050708763,-0.01918219,-0.0039076344,0.054757513,-0.0047863303,0.011969698,0.019876689,-0.028390517,-0.016081156,-0.01663458,0.007471388,-0.045199607,-0.10501586,-0.01357576,-0.038223922,-0.009813554,-0.06417438,-0.015679846,-0.02814708,0.03349598,0.03423959,-0.019690625,-0.0063942107,0.04491732,0.0031055924,-0.0022989004,-0.047115777,0.086920306,-0.013161093,0.037323616,0.021744715,-0.028945716,0.022804657,-0.010040019,-0.047986872,-0.016158402,-0.06472448,-0.010451328,-0.0075838636,-0.0728512,0.054109853,-0.005041104,-0.0049827574,-0.044335876,0.034035254,0.04117288,0.028933447,-0.051473908,0.042822488,-0.042393982,-0.020549988,-0.048751596,0.03145743,0.008352236,0.027446926,-0.025484907,-0.053346217,-0.025288444,-0.0019117183,-0.023416156,0.0378228,0.017966004,0.025156455,-0.023105247,0.08873211,0.026828023,0.036134344,0.045297515,-0.057148505,0.004988203,0.007366118,-0.030701004,0.024310486,0.03126022,0.010369545,-0.024477504,0.022020444,0.039452102,-0.011128542,0.021246502,-0.06804935,0.040928107,-0.012833235,-0.019326963,-0.020496817,-0.08458378,-0.034909125,-0.016763104,-0.041773982,0.017368533,0.012701441,-0.03315238,0.02985522,-0.023341753,0.04269695,-0.030998899,0.02056813,0.011514501,-0.010855901,-0.011442515,0.07227539,-0.04845054,0.013542855,0.05800358,-0.016841825,0.03226878,0.031430002,-0.03365384,0.0014373364,0.012382913,-0.0680835,0.01997601,0.012138383,0.025800806,0.053043496,0.024749603,-0.037830196,0.0046709524,-0.024414334,0.027968736,0.015127251,0.013175052,-0.04762077,-0.009351846,0.0167983,-0.029036876,0.02565364,0.06676707,0.015266229,0.011458681,-0.006212483,0.052234087,-0.022075336,0.03623912,-0.0027385566,0.047163874,-0.0033692454,0.036769066,0.00882013,-0.07231284,-0.016945485,-0.031221366,-0.00825858,0.0029216711,0.010916014,-0.013407425,0.038613178,-0.016689602,-0.036675867,0.028161196,0.06600919,0.018903112,0.022652198,-0.039364792,0.037166182,0.0031120263,-0.009877585,0.020438358,-0.029166078,0.020567466,-0.029630294,-0.07479337,-0.031140784,-0.030608146,-0.038919322,0.010751254,-0.0014827063,0.012800284,0.021337137,0.009340493,-0.0033498309,-0.0113095,0.023574345,-0.03603278,-0.016508566,0.0027197613,0.0057955496,-0.033600975,-0.008130629,0.05575657,0.030737523,0.036763348,-0.046145197,-0.017987587,-0.009943472,0.051601935,0.028530927,0.023609927,0.05037649,-0.06643402,-0.008690854,0.10014577,0.03262094,0.07170188,0.06599788,0.0050822175,0.032116782,0.0007442495,-0.0038987154,-0.010451127,0.008205747,0.013143838,-0.032753758,-0.05475484,-0.025204044,-0.014174727,0.043737695,-0.025398439,0.04647602,0.012929178,-0.07834795,-0.016313583,0.017147886,-0.05023477,0.027588699,-0.023246538,0.021028375,-0.01334815,0.0019341283,-0.028957594,-0.06602574,0.06384306,-0.046334155,-0.017871048,0.014439567,0.0038782984,-0.00263998,0.011321564,0.002496958,-0.04877384,-0.08611751,-0.009544349,0.003152226,-0.0652215,0.0073089646,0.07741488,0.002291697,0.005201012,0.02488122,-0.015613359,0.07247449,-0.023838092,0.016863344,0.02700427,-0.035728093,-0.011649193,-0.0045361533,-0.00069802173,0.021335324,0.052024003,0.009180164,-0.00947973,-0.025959559,0.014545243,-0.029374056,0.013446168,0.017968416,0.065710396,0.0155056855,-0.010709034,-0.030272152,-0.012887577,0.027380621,-0.014424362,-0.005189177,-0.0050933203,0.03422029,-0.01988043,-0.009648766,0.041447032,0.026337838,0.028073436,0.07380261,0.039568104,-0.03821526,-0.019256921,0.035577256,0.019389734,-0.082461126,-0.013956094,-0.000325828,0.006645813,0.007513964,0.0031309684,0.026168872,-0.017768567,-0.019332912,-0.04151755,0.101479925,-0.06607226,-0.026971534,0.0064328327,-0.0015110715,0.048555203,0.0065249326,0.02246722,0.02281376,0.0041067735,0.049029335,0.040723063,0.034968566,0.0016164352,-0.05646862,-0.009637015,-0.0020200317,-0.02051906,0.005828507,-0.021764444,-0.006305749,-0.0020408344,-0.012516836,0.013254839,-0.066535406,-0.010271931,0.017184017,-0.018087031,0.0353943,0.04109278,-0.015265966,-0.007123499,-0.023321273,-0.010912596,0.006290916,-0.011242127,-0.005932429,-0.012764425,-0.043351445,0.034502774,-0.011429236,-0.03293136,0.00529319]\n",
            "content: Contemporary Sectional Sofa: Modern L-shaped sectional with chaise lounge. Upholstered in premium performance fabric. Features deep seats, plush cushions, and solid wood legs. Perfect for modern living rooms.\n",
            "metadata: {'id': 'sofa-001', 'name': 'Contemporary Sectional Sofa', 'price': 1299.99, 'category': 'Sofas', 'material': 'Performance Fabric, Solid Wood', 'dimensions': '112W x 65D x 34H inches', 'description': 'Modern L-shaped sectional with chaise lounge. Upholstered in premium performance fabric. Features deep seats, plush cushions, and solid wood legs. Perfect for modern living rooms.'}\n",
            "--------------------------------------------------------------------------------\n",
            "id: table-001\n",
            "embedding: [0.024275472,-0.020446653,-0.044329826,0.0032961858,0.023523105,0.06757575,0.03044108,0.0044158082,0.02532665,0.050680764,-0.008899933,-0.041998774,-0.01859476,0.016898343,-0.008038296,-0.040313408,0.026431782,0.047492243,0.010724017,0.06092359,0.0139505565,0.008332887,-0.0047498876,0.02752711,0.0056986697,-0.04642412,0.018174374,-0.05358681,-0.02955888,0.010777665,-0.04912207,0.0045966916,0.0025932824,0.053964674,0.04207999,-0.07889122,0.009256696,0.04822419,-0.0010752237,0.0061338316,0.04456994,-0.058738805,-0.011110984,0.020999253,0.012090953,-2.9927485e-05,-0.04397786,-0.014931364,0.03863715,-0.04483077,-0.03209036,-0.007621232,0.044880953,0.009151749,0.005833002,-0.0586527,0.06550969,-0.04671009,-0.022057112,0.02049105,0.021202488,0.07174029,0.010467027,-0.010299033,0.007757201,-0.054473292,-0.029150488,0.008491913,0.102634415,0.014770615,0.0039512394,-0.010540463,0.031572223,0.018247953,0.01994638,-0.13218415,-0.01751941,0.035703365,0.017527612,-0.018036056,0.02482556,-0.0387602,-0.0803457,-0.03554472,-0.060420938,0.033406187,-0.021585062,0.025686907,0.022258723,0.0019254775,-0.0061844294,0.029134072,0.07533446,-0.015306427,-0.029044034,0.090023376,-0.012665765,-0.008662442,0.038882848,-0.010630765,-0.010011794,0.0034083093,-0.032768305,0.0071601216,0.040026017,0.0108331265,0.026183674,0.014812591,-0.044843275,0.038377475,-0.018840311,0.02993883,0.010693374,-0.02225277,0.038180545,-0.015591317,0.022813143,0.05828918,0.032525063,0.06897649,-0.0051309844,-0.02519642,0.05790878,-0.029309485,0.013394394,0.00065879436,0.02001342,0.025469355,0.022945434,-0.019091507,0.007873867,-0.039589174,-0.0062873643,0.024139106,0.07061923,0.052531123,0.0082553,-0.0068623535,0.017866436,-0.020636534,0.006439117,0.023183398,-0.022431592,0.04443172,0.028457897,0.039440956,-0.049666803,0.008970532,0.04494576,-0.0031499795,0.010350511,0.034532115,-0.043367688,-0.004282165,0.063293085,0.007960615,-0.023965443,0.039010238,-0.0028990433,0.009605311,0.033258826,-0.015532691,-0.019809283,0.047496185,-0.07774103,-0.008710628,0.010258894,-0.003783927,0.008140911,0.029956384,0.0017309427,0.0561924,-0.01863701,-0.029357783,0.031101089,-0.03277076,0.0169982,0.011264733,-0.0355635,-0.044753924,-0.02045966,-0.039723605,0.038075063,0.019323349,0.0009521575,-0.04371668,0.046932522,-0.0009787104,-0.029475054,0.01019907,-0.027790342,-0.0050810385,-0.04958534,0.009778365,-0.047192574,0.036401,0.009446019,0.03800397,0.017299071,-0.05044137,0.013146133,0.041866805,0.027730018,0.039605618,0.03703959,-0.018944837,0.08043082,-0.030430848,-0.0032612488,-0.010803374,-0.07047761,0.009352066,0.0050475355,0.012065037,0.04760112,0.004046601,0.0037165852,0.0060167564,-0.00841844,0.005298521,0.026847854,0.005742167,-0.06972704,-0.026407575,-0.038639862,0.062481888,-0.031475652,-0.0068283943,0.014414482,-0.030843265,0.0057658646,0.08412956,-0.0061912755,-0.0039208964,0.061452724,-0.024979673,0.01224641,0.024606505,0.012868506,0.030567477,-0.013216628,-0.011871294,0.039877888,0.0431704,-0.06774116,-0.06888134,-0.03242759,0.056202106,0.031200608,0.0450602,0.01580025,-0.0019759121,-0.044329718,-0.0013801563,-0.051809996,-0.003100654,-0.05535911,0.04838346,-0.09344404,0.018136613,0.025393099,0.0032869503,0.021959385,0.027374461,-0.013068102,0.0053922134,0.01919275,-0.05744182,-0.00021757162,0.04728101,-0.007912763,-0.01573122,0.04381251,0.052962482,0.006383871,0.03344435,-0.023418626,0.048957765,0.02430878,-0.029170122,-0.015020073,0.01750154,0.045629613,-0.016870212,0.04252865,-0.0021066014,0.0030416837,-0.010655519,0.010107751,-0.058886223,-0.028362617,-0.04526043,0.026322078,-0.036485054,-0.055805422,-0.0107490625,-0.015406515,0.070652574,0.034226283,-0.009685597,0.022113165,-0.110963784,0.048830125,-0.04181787,-0.0030953367,0.04561099,-0.01743002,-0.044637926,0.049353212,-0.010876659,-0.0055754236,-0.029578106,-0.032859955,0.032462444,0.059134178,0.041701045,-0.036544897,0.0015246756,-0.01842279,0.060990658,0.048705682,0.033837557,0.027986592,-0.00030509487,0.004248681,0.044095397,-0.057391178,0.01690172,-0.010415451,0.030074794,-0.032274783,0.010031365,-0.018874433,0.018691808,-0.028504511,0.024537181,-0.05119364,-0.02121516,-0.07711646,-0.005768516,-0.029108958,0.034029245,-0.024391582,-0.06910026,0.0007645469,-0.019352004,0.013169768,0.022639073,0.10585444,0.10666265,-0.0080110105,0.031053293,0.028899722,0.022374678,-0.0044884775,-0.028332626,0.045965623,-0.020515943,0.04027134,-0.016702082,-0.023867585,-0.028498793,-0.015657522,-0.010057738,-0.007682114,-0.015131972,0.022422103,0.014161275,-0.040122226,0.0072210366,0.015436193,-0.027110638,0.04179487,-9.450492e-05,-0.0017902551,-0.013970128,-0.0366449,-0.051407885,0.01970806,-0.014839363,-0.03403508,0.0070050606,0.031776544,0.044028495,-0.006729581,-0.021065239,0.028275574,0.039866228,-0.023221051,0.02341673,-0.048927978,0.00920187,0.09429313,0.008005982,0.0068195923,-0.027855031,-0.039665837,-0.05863391,0.016756792,0.023579845,-0.0109758135,-0.057768572,-0.020003248,0.021137053,-0.033374574,0.0367014,0.0071271886,-0.013838014,-0.023296485,-0.007363283,0.016008757,0.0032958286,0.023693195,-0.059191175,-0.049999893,-0.009977282,0.0711121,-0.032633346,0.020050721,0.01879208,-0.016237568,0.0051408256,0.028837586,0.014814613,-0.065734066,-0.03428994,0.043381706,0.05319696,0.0145492405,0.0081367465,0.01817792,-0.004864823,-0.01140652,-0.062505044,0.0024151735,-0.06363737,-0.0047081714,0.027325235,-0.02136603,-0.021056907,0.042120464,0.025271574,0.031527717,-0.0064305817,-0.015401443,-0.037160132,0.009299196,-0.0009634644,0.0016180055,-0.07769833,0.01599013,-0.08092714,-0.04382628,-0.05621283,-0.011114224,-0.01641158,0.016453013,0.06280917,-0.042994794,-0.017271621,0.030481098,0.0036086496,0.0025835258,-0.056310393,0.040269993,-0.016937284,0.010667965,-0.036047515,-0.015332805,-0.021474967,-0.016636586,-0.044591956,-0.020893289,-0.04199877,-0.02730932,-0.057141446,-0.0955032,0.059447847,-0.019632649,0.0022945867,0.012878448,0.021132922,0.029981164,0.010123901,-0.04021382,0.052186806,-0.025496982,0.020849276,-0.11061997,0.031968646,0.02690131,-0.00036428878,-0.03712222,-0.07157806,-0.02847614,0.0056283497,0.006641509,0.045830972,-0.00018818857,0.0060604042,-0.012720704,0.020318342,0.04703024,-0.031173106,0.039874423,-0.054630555,-0.018113298,0.04387727,0.027482258,0.020696457,0.057086535,0.030993419,-0.057696987,0.043243352,0.006580654,-0.0027576552,-0.0037543825,-0.059179716,0.019548193,-0.0030588706,0.014770951,0.022994025,-0.06848957,0.0020303694,-0.018028915,-0.056365993,0.021518169,0.02727155,-0.06297792,0.012834621,-0.044899087,0.03076004,-0.02819605,0.015830833,-0.008624063,-0.0043259156,-0.035076186,0.05445731,-0.05609224,0.012594246,0.07085343,0.028206266,0.02946793,0.036951605,-0.027074043,-0.04800133,-0.028687295,-0.010664548,0.005416036,0.017803129,0.02555611,0.024931092,0.032443378,-0.035028007,0.013544434,-0.025665527,-0.0037701542,0.0016106858,-0.035583094,-0.007258642,0.003119454,-0.03067739,-0.007357982,0.005430803,0.04002599,0.014843392,-0.008153504,0.0033371882,0.08822435,-0.039730012,0.03300314,-0.036696736,0.013623557,0.015970737,0.061552905,-0.008972967,-0.065171465,-0.010862701,-0.029165814,0.029889226,0.020441847,-0.0007502399,-0.0049578357,0.06464505,-0.030169183,-0.054962464,0.047904834,0.043697067,-0.008988717,0.004111717,-0.040806778,0.019834073,-0.006988293,0.011221992,0.0222697,0.0020343163,0.010157421,-0.013118429,-0.06592575,-0.015038528,-0.011256131,-0.050755285,0.0133706,-0.0054702996,0.03271942,0.016643504,0.045214817,0.0013103026,0.025825778,0.04985493,-0.061163597,-0.033840988,0.0057206936,-0.051647518,-0.020621134,-0.034949433,0.07646846,0.03376289,0.016292963,-0.079135776,-0.03330278,0.013824062,0.044789027,0.05040267,-0.008158672,0.05265761,-0.040355507,-0.02279289,0.101215936,0.032661166,0.08313849,0.04668965,-0.0053963885,0.03808027,-0.011815187,0.010262918,-0.056262642,0.016683247,0.02761162,-0.015171823,-0.057604548,-0.00888699,0.009837683,0.009868465,-0.0047411392,0.046170734,-0.037000094,-0.055349458,-0.017967798,-0.017158141,-0.029057324,0.03106663,0.011131254,0.029593725,0.010863077,0.027769228,-0.0030419745,-0.05480203,0.03551707,-0.030145809,-0.0678106,-0.007424657,0.007598826,0.012863761,0.0024643366,0.031599507,-0.08048246,-0.0930868,-0.009599454,-0.0071305456,-0.08776977,0.014146436,0.09656945,-0.0031769169,0.021183038,0.028602522,-0.016201656,0.060872253,-0.048363112,-0.0009264905,0.0042227083,-0.012441359,-0.021384148,-0.04842396,0.015753068,0.038132112,0.035996735,-0.0074379486,-0.017562132,-0.033481218,0.038827855,-0.019018758,0.029221743,0.055123378,0.08353779,0.003376992,0.0066083204,0.0070887147,2.4833767e-05,0.03532234,-0.034006167,-0.02029825,0.010477509,0.013430993,-0.0006481144,-0.013507068,0.03770164,0.0527528,0.002865338,0.0886916,0.044123664,-0.008625806,-0.031305626,0.01870924,0.01317508,-0.049954034,-0.019702787,0.02334916,-0.035987638,0.039901733,0.046911646,0.017164748,0.01765361,-0.020966792,-0.031979617,0.062309638,-0.053008508,-0.024062423,-0.03968265,0.027321626,0.053357854,-0.015986675,0.020429427,-0.009370153,-0.03316053,0.06632402,0.06194341,0.016166955,0.011274312,-0.041185495,-0.031259127,-0.032524645,-0.015492176,0.04386249,0.03819302,-0.023828682,0.017859425,-0.014300736,0.04008364,-0.07217604,-0.026119454,0.0127766915,-0.025679365,0.048877582,-0.007351684,-0.013970363,0.016007213,-0.014539564,0.01804204,0.05942615,-0.043574333,0.0072970875,-0.0007488209,-0.008060853,0.012835106,0.0026133521,-0.05246795,0.019786377]\n",
            "content: Rustic Dining Table: Farmhouse-style dining table with solid wood construction. Features distressed finish and trestle base. Seats 6-8 people comfortably. Perfect for family gatherings.\n",
            "metadata: {'id': 'table-001', 'name': 'Rustic Dining Table', 'price': 899.99, 'category': 'Dining Tables', 'material': 'Solid Pine Wood', 'dimensions': '72W x 42D x 30H inches', 'description': 'Farmhouse-style dining table with solid wood construction. Features distressed finish and trestle base. Seats 6-8 people comfortably. Perfect for family gatherings.'}\n",
            "--------------------------------------------------------------------------------\n",
            "id: bed-001\n",
            "embedding: [0.01568182,-0.037550103,-0.014629807,-0.00542184,0.046507627,0.062018357,0.02384066,-0.02674874,0.017347353,0.026881762,-0.010623376,-0.0162561,-0.05940884,0.023525747,-0.02319591,-0.054918233,0.039011367,0.038802598,0.0349763,0.03358085,0.032306332,0.021704094,-0.02654003,-0.0152365165,0.006237669,-0.055460837,0.0023511823,-0.06645561,-0.04365962,0.0010200883,-0.036802523,0.028657824,-0.0050700693,0.031768776,0.018385878,-0.0632928,-0.016676104,0.026024232,-0.022661824,0.054661155,0.055677973,-0.04275506,-0.024548585,0.033024605,-0.03041184,0.017833143,-0.015733907,-0.019057801,0.046549737,-0.05064619,0.03268665,0.03036218,0.045854207,-0.030245097,-0.0025230304,-0.07167998,0.083465226,-0.02587094,-0.018776879,0.038909767,0.031510595,0.034351405,0.034618814,0.024520142,0.016795198,-0.058342125,-0.0004343634,0.042041525,0.083319075,-0.0073938947,-0.029740272,-0.03481616,0.03044675,0.03396813,0.027652739,-0.11479637,-0.016971825,0.042688288,0.068380676,-0.031488713,0.02241941,-0.02338269,-0.073791906,-0.04955184,-0.034057517,0.028252823,-0.016526628,0.0025014183,-0.0018799024,0.002527555,-0.009815399,-0.010844379,0.046009842,-0.01045776,-0.004598084,0.07836685,-0.003950898,-0.025613258,-0.014503551,-0.012715565,0.020764746,-0.014115996,-0.019309793,-0.010511875,0.048600845,-0.030069094,0.000293985,0.025137598,-0.014325263,-0.0035182198,-0.023308715,0.0039971126,0.029166294,-0.01728526,0.06702012,-0.039881103,0.044477496,0.04464189,0.051163975,0.037399255,-0.007654058,-0.021208515,0.065603405,-0.022981536,0.024157554,-0.0038124349,0.021306355,0.025084171,0.060974754,0.0018405364,-0.019101549,-0.041695766,-0.011253347,0.020864366,0.05379454,0.047727272,0.024757117,-0.029904213,0.007170634,-0.004309077,-0.017355885,0.03088157,-0.028093055,0.022225525,0.021001007,0.06329312,-0.027663141,0.05886871,0.017226597,-0.014101677,-0.0030671773,0.00040167724,-0.0533228,0.03237985,0.06990823,0.040627055,-0.012565153,0.04747986,-0.02593129,0.007357212,0.07565606,-0.014690418,0.052133776,0.055932585,-0.039421786,-0.00213583,-0.0067474926,0.0061602243,0.02283442,0.04741543,-2.7654141e-05,0.062394183,0.004651067,-0.05993574,0.03324178,-0.06314446,0.0066827117,0.010531918,-0.017704148,-0.03351175,-0.05743271,-0.032953292,0.03317823,0.039908446,0.04828553,-0.03618625,0.08184808,-0.0298247,-0.005445618,0.039480053,-0.025532512,0.0010164508,-0.04715556,-0.002118262,-0.058315158,0.052248314,-0.016075803,0.03404914,0.025274826,-0.014238564,0.024339236,0.047566596,0.01691899,0.04918308,0.04528216,0.0017393403,0.046591457,-0.044903655,-0.018617649,-0.028610483,-0.026175143,0.021439381,-0.023203183,-0.0057358914,0.037136607,-0.012064666,0.016945872,0.004617049,-0.03643841,-0.028733801,0.0011757362,0.006069324,-0.053526353,-0.034047186,-0.03020931,0.048311934,-0.025465097,0.005573819,0.01565979,0.0074195312,0.0056369803,0.08529156,-0.009889654,-0.0057963594,0.10630456,-0.047452133,0.022528332,0.005740848,0.04654591,0.034900106,-0.028491003,-0.008780936,0.02826508,0.04144415,-0.053347427,-0.06179156,-0.06166001,0.06278014,0.043859135,0.002585309,0.022204474,-0.049947802,0.0074554235,-0.039427403,-0.070139885,0.008950233,-0.06398076,0.017240351,-0.06114803,-0.006619424,0.064507164,0.0068124896,0.03240059,-0.02089579,0.02310058,-0.020560922,0.019245364,-0.05666493,-0.014658001,0.011910789,0.028501125,-0.072036676,0.028327418,0.037627663,-0.0075459303,0.009920725,-0.016692802,0.059328437,0.021080526,-0.05921495,0.0017006587,0.026249204,-0.0016725598,-0.0367176,-0.0015796588,0.015683874,-0.011048271,-0.078476556,-0.022454904,-0.057340495,-0.02250909,-0.037741974,0.04052395,-0.016606519,-0.010467208,0.0013736773,-0.012775477,0.0411177,0.06640365,-0.049476955,0.019039994,-0.060175285,0.06936253,-0.0037488437,-0.022917325,0.04436539,-0.012310537,-0.030685505,0.052710507,-0.0073199165,-0.0060974453,-0.034064393,-0.027014602,0.004028819,0.052657105,0.009836091,-0.041516602,0.014781438,-0.0038590205,0.033663645,0.035860267,0.056861166,0.018813178,0.027534604,0.002375917,0.051460173,-0.037291415,0.07110534,-0.037938293,0.017477507,-0.009601169,-0.0023206698,0.0018493353,0.03409674,0.00066504336,0.0004318208,-0.036538877,0.01879505,-0.040295124,-0.008678267,-0.024106579,-0.007532929,-0.0008085194,-0.07362016,-0.004340993,-0.029450545,-0.009477702,0.026059177,0.054929912,0.063973166,-0.020118378,0.058616437,0.023781374,-0.0025702666,-0.01394738,-0.038101442,0.06346015,-0.03215261,-0.00082221586,-0.027120987,0.026025655,-0.01017504,-0.021653814,-0.01914845,0.016971067,0.024508232,0.0019070798,0.04192997,0.0070804483,0.01286458,0.0073710685,-0.062444564,0.02552987,-0.008558352,0.0030322827,-0.016874291,-0.053100847,-0.069871716,0.015603485,0.026480628,-0.029147645,-0.04518261,0.07324631,-0.016348876,0.036198076,0.00026260462,0.029084986,0.032416493,-0.016866155,0.020508405,-0.07874334,0.0066826995,0.1072554,0.025783215,0.016591512,-0.06691785,-0.03813387,-0.03882326,0.0056383824,0.013316321,-0.0012898366,-0.06352006,-0.030187745,0.016823232,-0.025621617,-0.010509169,0.012988215,-0.051262304,-0.024249306,0.0021216392,0.00524782,0.021835573,0.049587615,-0.010343771,-0.033245925,-0.018504586,0.08083166,-0.015445375,0.011450565,0.022770345,-0.00060968957,-0.0077828444,-0.0018278813,0.02634628,-0.075387865,-0.06228049,0.028720334,0.017670356,-0.009766362,0.034372013,0.04247937,0.0069591636,-0.02179906,-0.030767461,0.008459053,-0.026797276,0.03395321,0.04729434,-0.025786374,0.011894585,0.07441105,0.009451186,0.045975827,0.0066357604,-0.015975095,-0.014487306,0.02280967,0.014476453,-0.00034963712,-0.061121717,0.033699315,-0.06553729,-0.033027828,-0.052147273,-0.028328454,0.0016739566,0.020295933,0.04826094,-0.045708444,-0.03303144,0.08225186,0.013434442,0.022114892,-0.06223834,0.04732867,0.008513352,0.0010572175,0.01475121,-0.016597522,0.048733473,0.0033059216,-0.049572345,-0.025603367,-0.06300297,0.0063678846,-0.048349686,-0.090890415,0.042218518,-0.001378836,0.0035883288,-0.019793432,0.03561575,0.0154230725,0.0385529,-0.045271743,0.036003243,-0.03715063,0.03413845,-0.07291843,0.04863085,-0.0072402596,-0.017244024,-0.020300562,-0.037347,-0.032249168,-0.023583608,-0.0044631283,0.0374615,0.016100721,0.03696178,-0.000828966,0.05033679,-0.0017595586,0.001238125,0.052969523,-0.0801538,0.032379236,0.06607217,-0.025964204,-0.0029661888,0.028626245,0.021449685,-0.068134956,0.04840949,0.015652353,-0.010923546,0.009724598,-0.021620095,0.06656084,-0.0007687512,-0.034902133,-0.0006318705,-0.09572132,-0.04068434,-0.0022691484,-0.023005221,0.019888956,0.018136512,-0.06655347,0.018272933,-0.014590542,0.04520611,-0.035770714,0.003406813,-0.013669045,0.0062662098,-0.032187127,0.030220993,-0.03017792,0.005745328,0.032776006,0.014510585,0.017101811,0.03289196,-0.035592616,-0.022881078,-0.016360955,-0.05908969,0.00027632312,-0.008267018,0.03910923,0.019884644,0.03497741,-0.04296507,0.025280934,-0.050075904,0.03427663,0.00033178693,-0.035050243,-0.022217764,0.00670267,-0.0063849925,-0.0062915795,0.016501434,0.036671672,-0.008079931,-0.03867305,-0.00023025324,0.06306231,0.001893297,0.021166876,-0.018738301,0.036702316,-0.018171132,0.055109967,-0.0074202633,-0.044214003,-0.022115707,-0.04055726,0.0034126046,0.01529212,-0.0070720594,-0.013622002,0.023413762,-0.03633396,-0.02509109,0.05307167,0.017272254,0.023567127,0.006504975,-0.051680904,0.04935237,-0.0113817975,0.0054534827,0.010027932,-0.023185924,0.050398268,-0.03786727,-0.04728513,-0.04767535,0.018034646,-0.07768431,0.0022473435,-0.008200141,0.0033094138,0.018322991,0.037310746,0.0070538563,0.019408558,0.0038395382,-0.018925399,-0.024048496,-0.0057367682,-0.032875948,-0.034557696,-0.0060266503,0.0712192,-0.006897737,-0.0040724324,-0.049883433,-0.03431728,0.023643171,0.042913992,0.006379351,-0.00801277,0.034102827,-0.053063195,-0.0356909,0.09965194,0.060898107,0.0673249,0.066680364,-0.012079363,0.04218584,0.009655724,0.022734609,-0.018412437,0.008240142,0.033776015,-0.021750214,-0.078823544,-0.017488169,-0.032046836,0.031029794,-0.014976763,0.04380731,0.017974198,-0.054977007,-0.02935869,0.022324378,-0.027204223,0.024940891,-0.008183447,0.0033100913,0.0015671318,-0.000777825,-0.0031611442,-0.036383606,0.0081355795,-0.04472417,-0.017321324,0.024128148,0.026893439,0.012339133,0.014789629,0.0403316,-0.055772725,-0.0987101,-0.0036273913,0.02774115,-0.066278554,-0.009315589,0.10070204,-0.015557271,-0.013108538,0.024464887,0.0074708574,0.07839487,-0.018187154,0.031253546,0.06931913,-0.019734079,-0.028557172,0.015482174,0.012762216,0.037653003,0.027035808,-0.0027069738,0.005399846,0.0090719,0.02685542,-0.06352446,-0.011306442,0.013031414,0.09436468,-0.012148279,-0.013036581,-0.035706297,0.0021624921,0.023575751,-0.0070473077,-0.0018613832,0.009020978,0.036561098,-0.008632111,-0.033818528,0.010246459,0.07694404,-0.009100229,0.050304893,0.08600816,0.00078777317,-0.020488588,0.014173493,0.01065295,-0.06532807,0.0038298513,0.033753503,0.015113826,0.033252798,0.004840384,0.006552682,0.016869128,-0.046385046,-0.032928683,0.039964195,-0.04126414,-0.023039,-0.03579027,0.0029438043,0.046564434,0.01002648,-0.00031083255,-0.032858502,-0.0039081946,0.064465225,0.028485928,0.023274107,-0.023659041,-0.054610822,-0.018326834,-0.028077971,-0.012820415,0.025448306,-0.009216973,-0.0037240519,0.0011966993,-0.02031482,0.033904344,-0.07079499,-0.022870831,0.015570704,-0.043903448,0.037175074,0.04765953,0.002633167,0.0012038,-0.027464584,0.032675177,0.04075458,0.0035992265,0.054390572,-0.01699566,-0.010474945,0.04205366,0.040388223,-0.03894074,0.009392717]\n",
            "content: Platform Storage Bed: Modern queen platform bed with integrated storage drawers. Features upholstered headboard and durable wood slat support. No box spring needed. Perfect for maximizing bedroom space.\n",
            "metadata: {'id': 'bed-001', 'name': 'Platform Storage Bed', 'price': 799.99, 'category': 'Beds', 'material': 'Engineered Wood, Linen Fabric', 'dimensions': '65W x 86D x 48H inches', 'description': 'Modern queen platform bed with integrated storage drawers. Features upholstered headboard and durable wood slat support. No box spring needed. Perfect for maximizing bedroom space.'}\n",
            "--------------------------------------------------------------------------------\n"
          ]
        }
      ]
    }
  ]
}